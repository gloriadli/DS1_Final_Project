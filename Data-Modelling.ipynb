{
 "cells": [
  {
   "cell_type": "code",
   "execution_count": 100,
   "metadata": {},
   "outputs": [],
   "source": [
    "# Data Management/Investigation\n",
    "import pandas as pd\n",
    "from pandas.api.types import CategoricalDtype # Ordering categories\n",
    "import numpy as np\n",
    "import missingno as miss\n",
    "\n",
    "# Plotting libraries\n",
    "from plotnine import *\n",
    "import matplotlib.pyplot as plt\n",
    "\n",
    "# For pre-processing data \n",
    "from sklearn import preprocessing as pp \n",
    "from sklearn.compose import ColumnTransformer \n",
    "from sklearn.compose import make_column_selector\n",
    "\n",
    "\n",
    "# For splits and CV\n",
    "from sklearn.model_selection import train_test_split\n",
    "from sklearn.model_selection import KFold # Cross validation \n",
    "from sklearn.model_selection import cross_validate # Cross validation \n",
    "from sklearn.model_selection import GridSearchCV # Cross validation + param. tuning.\n",
    "\n",
    "# Machine learning methods \n",
    "from sklearn.linear_model import LinearRegression as LM\n",
    "from sklearn.neighbors import KNeighborsRegressor as KNN\n",
    "from sklearn.tree import DecisionTreeRegressor as DTree\n",
    "from sklearn import tree # For plotting the decision tree rules\n",
    "from sklearn.ensemble import BaggingRegressor as Bag # for bagging\n",
    "from sklearn.ensemble import RandomForestRegressor as RF\n",
    "\n",
    "# For evaluating our model's performance\n",
    "import sklearn.metrics as m\n",
    "\n",
    "# Pipeline to combine modeling elements\n",
    "from sklearn.pipeline import Pipeline\n",
    "\n",
    "# Misc\n",
    "import warnings\n",
    "warnings.filterwarnings(\"ignore\")"
   ]
  },
  {
   "cell_type": "markdown",
   "metadata": {},
   "source": [
    "## Explore data"
   ]
  },
  {
   "cell_type": "code",
   "execution_count": 199,
   "metadata": {},
   "outputs": [],
   "source": [
    "df_19 = pd.read_csv(\"df_19.csv\")"
   ]
  },
  {
   "cell_type": "code",
   "execution_count": 200,
   "metadata": {},
   "outputs": [
    {
     "data": {
      "text/html": [
       "<div>\n",
       "<style scoped>\n",
       "    .dataframe tbody tr th:only-of-type {\n",
       "        vertical-align: middle;\n",
       "    }\n",
       "\n",
       "    .dataframe tbody tr th {\n",
       "        vertical-align: top;\n",
       "    }\n",
       "\n",
       "    .dataframe thead th {\n",
       "        text-align: right;\n",
       "    }\n",
       "</style>\n",
       "<table border=\"1\" class=\"dataframe\">\n",
       "  <thead>\n",
       "    <tr style=\"text-align: right;\">\n",
       "      <th></th>\n",
       "      <th>total_mwh</th>\n",
       "      <th>total_cust</th>\n",
       "      <th>no</th>\n",
       "      <th>saidi_nomed</th>\n",
       "      <th>pv_pct</th>\n",
       "      <th>wind_pct</th>\n",
       "      <th>nm_pct</th>\n",
       "      <th>ee_pct</th>\n",
       "      <th>dem_res_pct</th>\n",
       "      <th>dem_res_cust_pct</th>\n",
       "    </tr>\n",
       "  </thead>\n",
       "  <tbody>\n",
       "    <tr>\n",
       "      <th>count</th>\n",
       "      <td>7.670000e+02</td>\n",
       "      <td>7.670000e+02</td>\n",
       "      <td>767.000000</td>\n",
       "      <td>767.000000</td>\n",
       "      <td>767.000000</td>\n",
       "      <td>767.000000</td>\n",
       "      <td>767.000000</td>\n",
       "      <td>767.000000</td>\n",
       "      <td>767.000000</td>\n",
       "      <td>767.000000</td>\n",
       "    </tr>\n",
       "    <tr>\n",
       "      <th>mean</th>\n",
       "      <td>2.877815e+06</td>\n",
       "      <td>1.325098e+05</td>\n",
       "      <td>12300.241199</td>\n",
       "      <td>138.778774</td>\n",
       "      <td>0.063395</td>\n",
       "      <td>0.002529</td>\n",
       "      <td>0.067048</td>\n",
       "      <td>0.368537</td>\n",
       "      <td>0.018130</td>\n",
       "      <td>4.560795</td>\n",
       "    </tr>\n",
       "    <tr>\n",
       "      <th>std</th>\n",
       "      <td>8.153767e+06</td>\n",
       "      <td>3.853289e+05</td>\n",
       "      <td>8559.434421</td>\n",
       "      <td>141.224948</td>\n",
       "      <td>0.496224</td>\n",
       "      <td>0.029555</td>\n",
       "      <td>0.512212</td>\n",
       "      <td>1.061427</td>\n",
       "      <td>0.179930</td>\n",
       "      <td>13.820391</td>\n",
       "    </tr>\n",
       "    <tr>\n",
       "      <th>min</th>\n",
       "      <td>2.829000e+03</td>\n",
       "      <td>4.100000e+01</td>\n",
       "      <td>97.000000</td>\n",
       "      <td>0.655000</td>\n",
       "      <td>0.000000</td>\n",
       "      <td>0.000000</td>\n",
       "      <td>0.000000</td>\n",
       "      <td>0.000000</td>\n",
       "      <td>0.000000</td>\n",
       "      <td>0.000000</td>\n",
       "    </tr>\n",
       "    <tr>\n",
       "      <th>25%</th>\n",
       "      <td>2.374375e+05</td>\n",
       "      <td>1.095350e+04</td>\n",
       "      <td>5896.000000</td>\n",
       "      <td>55.630000</td>\n",
       "      <td>0.000000</td>\n",
       "      <td>0.000000</td>\n",
       "      <td>0.000000</td>\n",
       "      <td>0.000000</td>\n",
       "      <td>0.000000</td>\n",
       "      <td>0.000000</td>\n",
       "    </tr>\n",
       "    <tr>\n",
       "      <th>50%</th>\n",
       "      <td>5.314040e+05</td>\n",
       "      <td>2.415200e+04</td>\n",
       "      <td>12268.000000</td>\n",
       "      <td>99.800000</td>\n",
       "      <td>0.000000</td>\n",
       "      <td>0.000000</td>\n",
       "      <td>0.000000</td>\n",
       "      <td>0.000000</td>\n",
       "      <td>0.000000</td>\n",
       "      <td>0.000000</td>\n",
       "    </tr>\n",
       "    <tr>\n",
       "      <th>75%</th>\n",
       "      <td>1.484748e+06</td>\n",
       "      <td>6.527150e+04</td>\n",
       "      <td>16715.000000</td>\n",
       "      <td>170.259500</td>\n",
       "      <td>0.007916</td>\n",
       "      <td>0.000000</td>\n",
       "      <td>0.008568</td>\n",
       "      <td>0.237313</td>\n",
       "      <td>0.000000</td>\n",
       "      <td>0.035619</td>\n",
       "    </tr>\n",
       "    <tr>\n",
       "      <th>max</th>\n",
       "      <td>1.119557e+08</td>\n",
       "      <td>5.061483e+06</td>\n",
       "      <td>60839.000000</td>\n",
       "      <td>1239.300000</td>\n",
       "      <td>10.630452</td>\n",
       "      <td>0.758238</td>\n",
       "      <td>10.630452</td>\n",
       "      <td>10.727103</td>\n",
       "      <td>3.509534</td>\n",
       "      <td>100.000000</td>\n",
       "    </tr>\n",
       "  </tbody>\n",
       "</table>\n",
       "</div>"
      ],
      "text/plain": [
       "          total_mwh    total_cust            no  saidi_nomed      pv_pct  \\\n",
       "count  7.670000e+02  7.670000e+02    767.000000   767.000000  767.000000   \n",
       "mean   2.877815e+06  1.325098e+05  12300.241199   138.778774    0.063395   \n",
       "std    8.153767e+06  3.853289e+05   8559.434421   141.224948    0.496224   \n",
       "min    2.829000e+03  4.100000e+01     97.000000     0.655000    0.000000   \n",
       "25%    2.374375e+05  1.095350e+04   5896.000000    55.630000    0.000000   \n",
       "50%    5.314040e+05  2.415200e+04  12268.000000    99.800000    0.000000   \n",
       "75%    1.484748e+06  6.527150e+04  16715.000000   170.259500    0.007916   \n",
       "max    1.119557e+08  5.061483e+06  60839.000000  1239.300000   10.630452   \n",
       "\n",
       "         wind_pct      nm_pct      ee_pct  dem_res_pct  dem_res_cust_pct  \n",
       "count  767.000000  767.000000  767.000000   767.000000        767.000000  \n",
       "mean     0.002529    0.067048    0.368537     0.018130          4.560795  \n",
       "std      0.029555    0.512212    1.061427     0.179930         13.820391  \n",
       "min      0.000000    0.000000    0.000000     0.000000          0.000000  \n",
       "25%      0.000000    0.000000    0.000000     0.000000          0.000000  \n",
       "50%      0.000000    0.000000    0.000000     0.000000          0.000000  \n",
       "75%      0.000000    0.008568    0.237313     0.000000          0.035619  \n",
       "max      0.758238   10.630452   10.727103     3.509534        100.000000  "
      ]
     },
     "execution_count": 200,
     "metadata": {},
     "output_type": "execute_result"
    }
   ],
   "source": [
    "df_19.describe()"
   ]
  },
  {
   "cell_type": "code",
   "execution_count": 201,
   "metadata": {},
   "outputs": [],
   "source": [
    "y = df_19['saidi_nomed']\n",
    "X = df_19[['total_cust','pv_pct','wind_pct','ee_pct','dem_res_pct']]"
   ]
  },
  {
   "cell_type": "code",
   "execution_count": 202,
   "metadata": {},
   "outputs": [],
   "source": [
    "train_X, test_X, train_y, test_y = train_test_split(X,y,test_size=.25,random_state=1997)"
   ]
  },
  {
   "cell_type": "code",
   "execution_count": 203,
   "metadata": {},
   "outputs": [
    {
     "name": "stdout",
     "output_type": "stream",
     "text": [
      "0.7496740547588006\n",
      "0.2503259452411995\n"
     ]
    }
   ],
   "source": [
    "print(train_X.shape[0]/df_19.shape[0])\n",
    "print(test_X.shape[0]/df_19.shape[0])"
   ]
  },
  {
   "cell_type": "code",
   "execution_count": 205,
   "metadata": {},
   "outputs": [
    {
     "data": {
      "text/plain": [
       "total_mwh            6.847969\n",
       "total_cust           6.647667\n",
       "no                   2.021330\n",
       "saidi_nomed          3.002114\n",
       "pv_pct              16.955088\n",
       "wind_pct            22.522086\n",
       "nm_pct              16.647358\n",
       "ee_pct               5.537040\n",
       "dem_res_pct         14.958544\n",
       "dem_res_cust_pct     4.351490\n",
       "dtype: float64"
      ]
     },
     "execution_count": 205,
     "metadata": {},
     "output_type": "execute_result"
    }
   ],
   "source": [
    "df_19.skew()"
   ]
  },
  {
   "cell_type": "code",
   "execution_count": 204,
   "metadata": {},
   "outputs": [
    {
     "data": {
      "image/png": "[encoded data removed]",
      "text/plain": [
       "<Figure size 1000x500 with 5 Axes>"
      ]
     },
     "metadata": {},
     "output_type": "display_data"
    },
    {
     "data": {
      "text/plain": [
       "<ggplot: (8765492355937)>"
      ]
     },
     "execution_count": 204,
     "metadata": {},
     "output_type": "execute_result"
    }
   ],
   "source": [
    "# Plot the continuous variables \n",
    "(\n",
    "    ggplot(train_X.melt(),aes(x=\"value\")) +\n",
    "    geom_histogram(bins=25) +\n",
    "    facet_wrap(\"variable\",scales='free') +\n",
    "    theme(figure_size=(10,5),\n",
    "          subplots_adjust={'wspace':0.25})\n",
    ")"
   ]
  },
  {
   "cell_type": "code",
   "execution_count": 54,
   "metadata": {},
   "outputs": [],
   "source": [
    "df_19_v2 = train_X.copy()"
   ]
  },
  {
   "cell_type": "code",
   "execution_count": 55,
   "metadata": {},
   "outputs": [],
   "source": [
    "df_19_v2['total_cust'] = np.log(df_19_v2['total_cust'])\n",
    "#df_19_v2['pv_pct'] = np.log(df_19_v2['pv_pct'] + 1)\n",
    "df_19_v2['wind_pct'] = np.log(df_19_v2['wind_pct'] + 1)\n",
    "df_19_v2['ee_pct'] = np.log(df_19_v2['ee_pct'] + 1)\n",
    "df_19_v2['dem_res_pct'] = np.log(df_19_v2['dem_res_pct'] + 1)\n",
    "\n",
    "median_pv_pct = df_19_v2.loc[df_19_v2['pv_pct'] > 0,'pv_pct'].median()\n",
    "df_19_v2['pv_pct'] =  np.where(df_19_v2['pv_pct']==0,0,np.where(df_19_v2['pv_pct'] <= median_pv_pct,1,2))"
   ]
  },
  {
   "cell_type": "code",
   "execution_count": 56,
   "metadata": {},
   "outputs": [
    {
     "data": {
      "text/html": [
       "<div>\n",
       "<style scoped>\n",
       "    .dataframe tbody tr th:only-of-type {\n",
       "        vertical-align: middle;\n",
       "    }\n",
       "\n",
       "    .dataframe tbody tr th {\n",
       "        vertical-align: top;\n",
       "    }\n",
       "\n",
       "    .dataframe thead th {\n",
       "        text-align: right;\n",
       "    }\n",
       "</style>\n",
       "<table border=\"1\" class=\"dataframe\">\n",
       "  <thead>\n",
       "    <tr style=\"text-align: right;\">\n",
       "      <th></th>\n",
       "      <th>total_cust</th>\n",
       "      <th>pv_pct</th>\n",
       "      <th>wind_pct</th>\n",
       "      <th>ee_pct</th>\n",
       "      <th>dem_res_pct</th>\n",
       "    </tr>\n",
       "  </thead>\n",
       "  <tbody>\n",
       "    <tr>\n",
       "      <th>count</th>\n",
       "      <td>575.000000</td>\n",
       "      <td>575.000000</td>\n",
       "      <td>575.000000</td>\n",
       "      <td>575.000000</td>\n",
       "      <td>575.000000</td>\n",
       "    </tr>\n",
       "    <tr>\n",
       "      <th>mean</th>\n",
       "      <td>10.311081</td>\n",
       "      <td>0.518261</td>\n",
       "      <td>0.001459</td>\n",
       "      <td>0.204278</td>\n",
       "      <td>0.010696</td>\n",
       "    </tr>\n",
       "    <tr>\n",
       "      <th>std</th>\n",
       "      <td>1.645047</td>\n",
       "      <td>0.771394</td>\n",
       "      <td>0.009319</td>\n",
       "      <td>0.400916</td>\n",
       "      <td>0.079764</td>\n",
       "    </tr>\n",
       "    <tr>\n",
       "      <th>min</th>\n",
       "      <td>3.713572</td>\n",
       "      <td>0.000000</td>\n",
       "      <td>0.000000</td>\n",
       "      <td>0.000000</td>\n",
       "      <td>0.000000</td>\n",
       "    </tr>\n",
       "    <tr>\n",
       "      <th>25%</th>\n",
       "      <td>9.268609</td>\n",
       "      <td>0.000000</td>\n",
       "      <td>0.000000</td>\n",
       "      <td>0.000000</td>\n",
       "      <td>0.000000</td>\n",
       "    </tr>\n",
       "    <tr>\n",
       "      <th>50%</th>\n",
       "      <td>10.101600</td>\n",
       "      <td>0.000000</td>\n",
       "      <td>0.000000</td>\n",
       "      <td>0.000000</td>\n",
       "      <td>0.000000</td>\n",
       "    </tr>\n",
       "    <tr>\n",
       "      <th>75%</th>\n",
       "      <td>11.086567</td>\n",
       "      <td>1.000000</td>\n",
       "      <td>0.000000</td>\n",
       "      <td>0.241087</td>\n",
       "      <td>0.000000</td>\n",
       "    </tr>\n",
       "    <tr>\n",
       "      <th>max</th>\n",
       "      <td>15.437170</td>\n",
       "      <td>2.000000</td>\n",
       "      <td>0.132745</td>\n",
       "      <td>2.437136</td>\n",
       "      <td>1.294458</td>\n",
       "    </tr>\n",
       "  </tbody>\n",
       "</table>\n",
       "</div>"
      ],
      "text/plain": [
       "       total_cust      pv_pct    wind_pct      ee_pct  dem_res_pct\n",
       "count  575.000000  575.000000  575.000000  575.000000   575.000000\n",
       "mean    10.311081    0.518261    0.001459    0.204278     0.010696\n",
       "std      1.645047    0.771394    0.009319    0.400916     0.079764\n",
       "min      3.713572    0.000000    0.000000    0.000000     0.000000\n",
       "25%      9.268609    0.000000    0.000000    0.000000     0.000000\n",
       "50%     10.101600    0.000000    0.000000    0.000000     0.000000\n",
       "75%     11.086567    1.000000    0.000000    0.241087     0.000000\n",
       "max     15.437170    2.000000    0.132745    2.437136     1.294458"
      ]
     },
     "execution_count": 56,
     "metadata": {},
     "output_type": "execute_result"
    }
   ],
   "source": [
    "df_19_v2.describe()"
   ]
  },
  {
   "cell_type": "code",
   "execution_count": 195,
   "metadata": {},
   "outputs": [],
   "source": [
    "df_19_log = df_19.copy()\n",
    "\n",
    "# Version 1 just log everything\n",
    "df_19_log['total_cust'] = np.log(df_19['total_cust'])\n",
    "df_19_log['pv_pct'] = np.log(df_19['pv_pct'] + 1)\n",
    "df_19_log['wind_pct'] = np.log(df_19['wind_pct'] + 1)\n",
    "df_19_log['ee_pct'] = np.log(df_19['ee_pct'] + 1)\n",
    "df_19_log['dem_res_pct'] = np.log(df_19['dem_res_pct'] + 1)"
   ]
  },
  {
   "cell_type": "code",
   "execution_count": 196,
   "metadata": {},
   "outputs": [
    {
     "data": {
      "text/plain": [
       "total_mwh            6.847969\n",
       "total_cust          -0.289370\n",
       "no                   2.021330\n",
       "saidi_nomed          3.002114\n",
       "pv_pct               6.696246\n",
       "wind_pct            18.572395\n",
       "nm_pct              16.647358\n",
       "ee_pct               1.969210\n",
       "dem_res_pct         10.148395\n",
       "dem_res_cust_pct     4.351490\n",
       "dtype: float64"
      ]
     },
     "execution_count": 196,
     "metadata": {},
     "output_type": "execute_result"
    }
   ],
   "source": [
    "df_19_log.skew()"
   ]
  },
  {
   "cell_type": "code",
   "execution_count": 197,
   "metadata": {},
   "outputs": [],
   "source": [
    "y = df_19_log['saidi_nomed']\n",
    "X = df_19_log[['total_cust','pv_pct','wind_pct','ee_pct','dem_res_pct']]\n",
    "train_X_log, test_X_log, train_y_log, test_y_log = train_test_split(X,y,test_size=.25,random_state=1997)"
   ]
  },
  {
   "cell_type": "code",
   "execution_count": 198,
   "metadata": {},
   "outputs": [
    {
     "data": {
      "image/png": "[encoded data removed]",
      "text/plain": [
       "<Figure size 1000x500 with 5 Axes>"
      ]
     },
     "metadata": {},
     "output_type": "display_data"
    },
    {
     "data": {
      "text/plain": [
       "<ggplot: (8765491859777)>"
      ]
     },
     "execution_count": 198,
     "metadata": {},
     "output_type": "execute_result"
    }
   ],
   "source": [
    "(\n",
    "    ggplot(train_X_log.melt(),aes(x=\"value\")) +\n",
    "    geom_histogram(bins=25) +\n",
    "    facet_wrap(\"variable\",scales='free') +\n",
    "    theme(figure_size=(10,5),\n",
    "          subplots_adjust={'wspace':0.25})\n",
    ")"
   ]
  },
  {
   "cell_type": "code",
   "execution_count": 189,
   "metadata": {},
   "outputs": [],
   "source": [
    "# Version 2 use the medians too\n",
    "\n",
    "df_19_med = df_19.copy() \n",
    "\n",
    "df_19_med['total_cust'] = np.log(df_19_med['total_cust'])\n",
    "\n",
    "median_pv_pct = df_19.loc[df_19_med['pv_pct'] > 0,'pv_pct'].median()\n",
    "df_19_med['pv_pct'] =  np.where(df_19_med['pv_pct']==0,0,np.where(df_19_med['pv_pct'] <= median_pv_pct,1,2))\n",
    "\n",
    "median_wind_pct = df_19_med.loc[df_19_med['wind_pct'] > 0,'wind_pct'].median()\n",
    "df_19_med['wind_pct'] =  np.where(df_19_med['wind_pct']==0,0,np.where(df_19_med['wind_pct'] <= median_pv_pct,1,2))\n",
    "\n",
    "median_ee_pct = df_19_med.loc[df_19_med['ee_pct'] > 0,'ee_pct'].median()\n",
    "df_19_med['ee_pct'] =  np.where(df_19_med['ee_pct']==0,0,np.where(df_19_med['ee_pct'] <= median_pv_pct,1,2))\n",
    "\n",
    "median_dr_pct = df_19_med.loc[df_19_med['dem_res_pct'] > 0,'dem_res_pct'].median()\n",
    "df_19_med['dem_res_pct'] =  np.where(df_19_med['dem_res_pct']==0,0,np.where(df_19_med['dem_res_pct'] <= median_pv_pct,1,2))"
   ]
  },
  {
   "cell_type": "code",
   "execution_count": 190,
   "metadata": {},
   "outputs": [
    {
     "data": {
      "text/plain": [
       "total_mwh            6.847969\n",
       "total_cust          -0.289370\n",
       "no                   2.021330\n",
       "saidi_nomed          3.002114\n",
       "pv_pct               1.087122\n",
       "wind_pct             2.617271\n",
       "nm_pct              16.647358\n",
       "ee_pct               0.555169\n",
       "dem_res_pct          2.611474\n",
       "dem_res_cust_pct     4.351490\n",
       "dtype: float64"
      ]
     },
     "execution_count": 190,
     "metadata": {},
     "output_type": "execute_result"
    }
   ],
   "source": [
    "df_19_med.skew()"
   ]
  },
  {
   "cell_type": "code",
   "execution_count": 192,
   "metadata": {},
   "outputs": [],
   "source": [
    "y = df_19_med['saidi_nomed']\n",
    "X = df_19_med[['total_cust','pv_pct','wind_pct','ee_pct','dem_res_pct']]\n",
    "train_X_med, test_X_med, train_y_med, test_y_med = train_test_split(X,y,test_size=.25,random_state=1997)"
   ]
  },
  {
   "cell_type": "code",
   "execution_count": 194,
   "metadata": {},
   "outputs": [
    {
     "data": {
      "image/png": "[encoded data removed]",
      "text/plain": [
       "<Figure size 1000x500 with 5 Axes>"
      ]
     },
     "metadata": {},
     "output_type": "display_data"
    },
    {
     "data": {
      "text/plain": [
       "<ggplot: (8765489696977)>"
      ]
     },
     "execution_count": 194,
     "metadata": {},
     "output_type": "execute_result"
    }
   ],
   "source": [
    "(\n",
    "    ggplot(train_X_med.melt(),aes(x=\"value\")) +\n",
    "    geom_histogram(bins=25) +\n",
    "    facet_wrap(\"variable\",scales='free') +\n",
    "    theme(figure_size=(10,5),\n",
    "          subplots_adjust={'wspace':0.25})\n",
    ")"
   ]
  },
  {
   "cell_type": "markdown",
   "metadata": {},
   "source": [
    "# Compare skews"
   ]
  },
  {
   "cell_type": "code",
   "execution_count": 228,
   "metadata": {},
   "outputs": [
    {
     "data": {
      "text/html": [
       "<div>\n",
       "<style scoped>\n",
       "    .dataframe tbody tr th:only-of-type {\n",
       "        vertical-align: middle;\n",
       "    }\n",
       "\n",
       "    .dataframe tbody tr th {\n",
       "        vertical-align: top;\n",
       "    }\n",
       "\n",
       "    .dataframe thead th {\n",
       "        text-align: right;\n",
       "    }\n",
       "</style>\n",
       "<table border=\"1\" class=\"dataframe\">\n",
       "  <thead>\n",
       "    <tr style=\"text-align: right;\">\n",
       "      <th></th>\n",
       "      <th>OG</th>\n",
       "      <th>log</th>\n",
       "      <th>med</th>\n",
       "      <th>sqrt</th>\n",
       "      <th>box-cox</th>\n",
       "    </tr>\n",
       "  </thead>\n",
       "  <tbody>\n",
       "    <tr>\n",
       "      <th>total_cust</th>\n",
       "      <td>6.277885</td>\n",
       "      <td>-0.342958</td>\n",
       "      <td>-0.342958</td>\n",
       "      <td>6.277885</td>\n",
       "      <td>6.277885</td>\n",
       "    </tr>\n",
       "    <tr>\n",
       "      <th>pv_pct</th>\n",
       "      <td>18.323346</td>\n",
       "      <td>6.074081</td>\n",
       "      <td>1.073929</td>\n",
       "      <td>6.293732</td>\n",
       "      <td>1.676661</td>\n",
       "    </tr>\n",
       "    <tr>\n",
       "      <th>wind_pct</th>\n",
       "      <td>9.507555</td>\n",
       "      <td>9.052274</td>\n",
       "      <td>2.502709</td>\n",
       "      <td>5.888516</td>\n",
       "      <td>3.691725</td>\n",
       "    </tr>\n",
       "    <tr>\n",
       "      <th>ee_pct</th>\n",
       "      <td>5.119857</td>\n",
       "      <td>1.864849</td>\n",
       "      <td>0.537393</td>\n",
       "      <td>2.109876</td>\n",
       "      <td>1.001700</td>\n",
       "    </tr>\n",
       "    <tr>\n",
       "      <th>dem_res_pct</th>\n",
       "      <td>14.746790</td>\n",
       "      <td>9.664468</td>\n",
       "      <td>2.510140</td>\n",
       "      <td>8.093086</td>\n",
       "      <td>3.708410</td>\n",
       "    </tr>\n",
       "  </tbody>\n",
       "</table>\n",
       "</div>"
      ],
      "text/plain": [
       "                    OG       log       med      sqrt   box-cox\n",
       "total_cust    6.277885 -0.342958 -0.342958  6.277885  6.277885\n",
       "pv_pct       18.323346  6.074081  1.073929  6.293732  1.676661\n",
       "wind_pct      9.507555  9.052274  2.502709  5.888516  3.691725\n",
       "ee_pct        5.119857  1.864849  0.537393  2.109876  1.001700\n",
       "dem_res_pct  14.746790  9.664468  2.510140  8.093086  3.708410"
      ]
     },
     "execution_count": 228,
     "metadata": {},
     "output_type": "execute_result"
    }
   ],
   "source": [
    "pd.DataFrame({\n",
    "'OG': train_X.skew(),\n",
    "'log':train_X_log.skew(),\n",
    "'med':train_X_med.skew(),\n",
    "'sqrt':train_X_sqrt.skew(),\n",
    "'box-cox':train_X_box.skew()})"
   ]
  },
  {
   "cell_type": "code",
   "execution_count": 214,
   "metadata": {},
   "outputs": [],
   "source": [
    "# Version 4 use sqrt transform \n",
    "df_19_sqrt = df_19.copy()\n",
    "\n",
    "df_19_sqrt['pv_pct'] = np.sqrt(df_19_sqrt['pv_pct'])\n",
    "df_19_sqrt['wind_pct'] = np.sqrt(df_19_sqrt['wind_pct'])\n",
    "df_19_sqrt['ee_pct'] = np.sqrt(df_19_sqrt['ee_pct'])\n",
    "df_19_sqrt['dem_res_pct'] = np.sqrt(df_19_sqrt['dem_res_pct'])"
   ]
  },
  {
   "cell_type": "code",
   "execution_count": 215,
   "metadata": {},
   "outputs": [],
   "source": [
    "y = df_19_sqrt['saidi_nomed']\n",
    "X = df_19_sqrt[['total_cust','pv_pct','wind_pct','ee_pct','dem_res_pct']]\n",
    "train_X_sqrt, test_X_sqrt, train_y_sqrt, test_y_sqrt = train_test_split(X,y,test_size=.25,random_state=1997)"
   ]
  },
  {
   "cell_type": "code",
   "execution_count": 217,
   "metadata": {},
   "outputs": [
    {
     "data": {
      "image/png": "[encoded data removed]",
      "text/plain": [
       "<Figure size 1000x500 with 5 Axes>"
      ]
     },
     "metadata": {},
     "output_type": "display_data"
    },
    {
     "data": {
      "text/plain": [
       "<ggplot: (8765490032401)>"
      ]
     },
     "execution_count": 217,
     "metadata": {},
     "output_type": "execute_result"
    }
   ],
   "source": [
    "(\n",
    "    ggplot(train_X_sqrt.melt(),aes(x=\"value\")) +\n",
    "    geom_histogram(bins=25) +\n",
    "    facet_wrap(\"variable\",scales='free') +\n",
    "    theme(figure_size=(10,5),\n",
    "          subplots_adjust={'wspace':0.25})\n",
    ")"
   ]
  },
  {
   "cell_type": "code",
   "execution_count": 220,
   "metadata": {},
   "outputs": [],
   "source": [
    "from scipy import stats"
   ]
  },
  {
   "cell_type": "code",
   "execution_count": 225,
   "metadata": {},
   "outputs": [],
   "source": [
    "# Version 5 use box-cox\n",
    "df_19_box = df_19.copy()\n",
    "\n",
    "df_19_box['pv_pct'] = stats.boxcox(df_19_box['pv_pct'] + 1)[0]\n",
    "df_19_box['wind_pct'] = stats.boxcox(df_19_box['wind_pct'] + 1)[0]\n",
    "df_19_box['ee_pct'] = stats.boxcox(df_19_box['ee_pct']+ 1)[0]\n",
    "df_19_box['dem_res_pct'] = stats.boxcox(df_19_box['dem_res_pct'] + 1)[0]"
   ]
  },
  {
   "cell_type": "code",
   "execution_count": 226,
   "metadata": {},
   "outputs": [],
   "source": [
    "y = df_19_box['saidi_nomed']\n",
    "X = df_19_box[['total_cust','pv_pct','wind_pct','ee_pct','dem_res_pct']]\n",
    "train_X_box, test_X_box, train_y_box, test_y_box = train_test_split(X,y,test_size=.25,random_state=1997)"
   ]
  },
  {
   "cell_type": "code",
   "execution_count": 227,
   "metadata": {},
   "outputs": [
    {
     "data": {
      "image/png": "[encoded data removed]",
      "text/plain": [
       "<Figure size 1000x500 with 5 Axes>"
      ]
     },
     "metadata": {},
     "output_type": "display_data"
    },
    {
     "data": {
      "text/plain": [
       "<ggplot: (8765492334813)>"
      ]
     },
     "execution_count": 227,
     "metadata": {},
     "output_type": "execute_result"
    }
   ],
   "source": [
    "(\n",
    "    ggplot(train_X_box.melt(),aes(x=\"value\")) +\n",
    "    geom_histogram(bins=25) +\n",
    "    facet_wrap(\"variable\",scales='free') +\n",
    "    theme(figure_size=(10,5),\n",
    "          subplots_adjust={'wspace':0.25})\n",
    ")"
   ]
  },
  {
   "cell_type": "code",
   "execution_count": null,
   "metadata": {},
   "outputs": [],
   "source": []
  },
  {
   "cell_type": "code",
   "execution_count": null,
   "metadata": {},
   "outputs": [],
   "source": []
  },
  {
   "cell_type": "code",
   "execution_count": null,
   "metadata": {},
   "outputs": [],
   "source": []
  },
  {
   "cell_type": "code",
   "execution_count": null,
   "metadata": {},
   "outputs": [],
   "source": []
  },
  {
   "cell_type": "code",
   "execution_count": null,
   "metadata": {},
   "outputs": [],
   "source": []
  },
  {
   "cell_type": "code",
   "execution_count": null,
   "metadata": {},
   "outputs": [],
   "source": []
  },
  {
   "cell_type": "code",
   "execution_count": null,
   "metadata": {},
   "outputs": [],
   "source": []
  },
  {
   "cell_type": "code",
   "execution_count": null,
   "metadata": {},
   "outputs": [],
   "source": []
  },
  {
   "cell_type": "code",
   "execution_count": null,
   "metadata": {},
   "outputs": [],
   "source": []
  },
  {
   "cell_type": "code",
   "execution_count": null,
   "metadata": {},
   "outputs": [],
   "source": []
  },
  {
   "cell_type": "code",
   "execution_count": null,
   "metadata": {},
   "outputs": [],
   "source": []
  },
  {
   "cell_type": "code",
   "execution_count": null,
   "metadata": {},
   "outputs": [],
   "source": []
  },
  {
   "cell_type": "markdown",
   "metadata": {},
   "source": [
    "### Resplit everything"
   ]
  },
  {
   "cell_type": "code",
   "execution_count": 119,
   "metadata": {},
   "outputs": [],
   "source": [
    "y = df_19['saidi_nomed']\n",
    "X = df_19[['total_cust','pv_pct','wind_pct','ee_pct','dem_res_pct']]"
   ]
  },
  {
   "cell_type": "code",
   "execution_count": 120,
   "metadata": {},
   "outputs": [],
   "source": [
    "train_X, test_X, train_y, test_y = train_test_split(X,y,test_size=.25,random_state=1997)"
   ]
  },
  {
   "cell_type": "code",
   "execution_count": 121,
   "metadata": {},
   "outputs": [
    {
     "name": "stdout",
     "output_type": "stream",
     "text": [
      "0.7496740547588006\n",
      "0.2503259452411995\n"
     ]
    }
   ],
   "source": [
    "print(train_X.shape[0]/df_19.shape[0])\n",
    "print(test_X.shape[0]/df_19.shape[0])"
   ]
  },
  {
   "cell_type": "markdown",
   "metadata": {},
   "source": [
    "Build machine learning pieline"
   ]
  },
  {
   "cell_type": "code",
   "execution_count": 63,
   "metadata": {},
   "outputs": [],
   "source": [
    "# Set the folds index to ensure comparable samples\n",
    "fold_generator = KFold(n_splits=10, shuffle=True,random_state=1234)"
   ]
  },
  {
   "cell_type": "code",
   "execution_count": null,
   "metadata": {},
   "outputs": [],
   "source": []
  },
  {
   "cell_type": "code",
   "execution_count": 101,
   "metadata": {},
   "outputs": [],
   "source": [
    "preprocess = ColumnTransformer(transformers=[('num', pp.MinMaxScaler(),  make_column_selector(dtype_exclude=None))])"
   ]
  },
  {
   "cell_type": "code",
   "execution_count": 104,
   "metadata": {},
   "outputs": [],
   "source": [
    "# initialize our pipeline \n",
    "pipe = Pipeline(steps=[('pre_process', preprocess),\n",
    "                       ('model',None)])"
   ]
  },
  {
   "cell_type": "code",
   "execution_count": 105,
   "metadata": {},
   "outputs": [],
   "source": [
    "search_space = [\n",
    "    # Linear Model\n",
    "    {'model' : [LM()]},\n",
    "    \n",
    "    # KNN with K tuning param, use double underscore to separate model from its parameter__\n",
    "    {'model' : [KNN()],\n",
    "     'model__n_neighbors':[10,15,20,25,30]},\n",
    "    \n",
    "    # Decision Tree with the Max Depth Param\n",
    "    {'model': [DTree()],\n",
    "     'model__max_depth':[1,2,3,5]},\n",
    "    \n",
    "    # The Bagging decision tree model \n",
    "    {'model': [Bag()]},\n",
    "    \n",
    "    # Random forest with the N Estimators tuning param\n",
    "    {'model' : [RF()],\n",
    "     'model__max_depth':[1,2,3],\n",
    "     'model__n_estimators':[500,1000,1250]},\n",
    "]"
   ]
  },
  {
   "cell_type": "code",
   "execution_count": 110,
   "metadata": {},
   "outputs": [],
   "source": [
    "search = GridSearchCV(pipe, search_space, \n",
    "                      cv = fold_generator,\n",
    "                      scoring='neg_mean_squared_error',\n",
    "                      n_jobs=4,\n",
    "                      verbose = 10)"
   ]
  },
  {
   "cell_type": "code",
   "execution_count": 111,
   "metadata": {},
   "outputs": [
    {
     "name": "stdout",
     "output_type": "stream",
     "text": [
      "Fitting 10 folds for each of 20 candidates, totalling 200 fits\n"
     ]
    },
    {
     "name": "stderr",
     "output_type": "stream",
     "text": [
      "[Parallel(n_jobs=4)]: Using backend LokyBackend with 4 concurrent workers.\n",
      "[Parallel(n_jobs=4)]: Done   5 tasks      | elapsed:    2.9s\n",
      "[Parallel(n_jobs=4)]: Done  10 tasks      | elapsed:    2.9s\n",
      "[Parallel(n_jobs=4)]: Done  17 tasks      | elapsed:    3.0s\n",
      "[Parallel(n_jobs=4)]: Batch computation too fast (0.1996s.) Setting batch_size=2.\n",
      "[Parallel(n_jobs=4)]: Done  24 tasks      | elapsed:    3.1s\n",
      "[Parallel(n_jobs=4)]: Done  34 tasks      | elapsed:    3.2s\n",
      "[Parallel(n_jobs=4)]: Batch computation too fast (0.0991s.) Setting batch_size=4.\n",
      "[Parallel(n_jobs=4)]: Batch computation too fast (0.1676s.) Setting batch_size=8.\n",
      "[Parallel(n_jobs=4)]: Done  56 tasks      | elapsed:    3.4s\n",
      "[Parallel(n_jobs=4)]: Done 120 tasks      | elapsed:   19.1s\n",
      "[Parallel(n_jobs=4)]: Batch computation too slow (3.9702s.) Setting batch_size=1.\n",
      "[Parallel(n_jobs=4)]: Done 159 tasks      | elapsed:  1.3min\n",
      "[Parallel(n_jobs=4)]: Done 193 tasks      | elapsed:  1.6min\n",
      "[Parallel(n_jobs=4)]: Done 200 out of 200 | elapsed:  1.8min finished\n"
     ]
    },
    {
     "data": {
      "text/plain": [
       "GridSearchCV(cv=KFold(n_splits=10, random_state=1234, shuffle=True),\n",
       "             error_score=nan,\n",
       "             estimator=Pipeline(memory=None,\n",
       "                                steps=[('pre_process',\n",
       "                                        ColumnTransformer(n_jobs=None,\n",
       "                                                          remainder='drop',\n",
       "                                                          sparse_threshold=0.3,\n",
       "                                                          transformer_weights=None,\n",
       "                                                          transformers=[('num',\n",
       "                                                                         MinMaxScaler(copy=True,\n",
       "                                                                                      feature_range=(0,\n",
       "                                                                                                     1)),\n",
       "                                                                         <sklearn.compose._column_transformer.make_column_selector...\n",
       "                                                          min_impurity_split=None,\n",
       "                                                          min_samples_leaf=1,\n",
       "                                                          min_samples_split=2,\n",
       "                                                          min_weight_fraction_leaf=0.0,\n",
       "                                                          n_estimators=1250,\n",
       "                                                          n_jobs=None,\n",
       "                                                          oob_score=False,\n",
       "                                                          random_state=None,\n",
       "                                                          verbose=0,\n",
       "                                                          warm_start=False)],\n",
       "                          'model__max_depth': [1, 2, 3],\n",
       "                          'model__n_estimators': [500, 1000, 1250]}],\n",
       "             pre_dispatch='2*n_jobs', refit=True, return_train_score=False,\n",
       "             scoring='neg_mean_squared_error', verbose=10)"
      ]
     },
     "execution_count": 111,
     "metadata": {},
     "output_type": "execute_result"
    }
   ],
   "source": [
    "search.fit(train_X,train_y)"
   ]
  },
  {
   "cell_type": "code",
   "execution_count": 112,
   "metadata": {},
   "outputs": [
    {
     "data": {
      "text/plain": [
       "-21082.61436550224"
      ]
     },
     "execution_count": 112,
     "metadata": {},
     "output_type": "execute_result"
    }
   ],
   "source": [
    "search.best_score_ # Mean out-of-sample (CV) error"
   ]
  },
  {
   "cell_type": "code",
   "execution_count": 113,
   "metadata": {},
   "outputs": [
    {
     "data": {
      "text/plain": [
       "{'model': RandomForestRegressor(bootstrap=True, ccp_alpha=0.0, criterion='mse',\n",
       "                       max_depth=3, max_features='auto', max_leaf_nodes=None,\n",
       "                       max_samples=None, min_impurity_decrease=0.0,\n",
       "                       min_impurity_split=None, min_samples_leaf=1,\n",
       "                       min_samples_split=2, min_weight_fraction_leaf=0.0,\n",
       "                       n_estimators=1250, n_jobs=None, oob_score=False,\n",
       "                       random_state=None, verbose=0, warm_start=False),\n",
       " 'model__max_depth': 3,\n",
       " 'model__n_estimators': 1250}"
      ]
     },
     "execution_count": 113,
     "metadata": {},
     "output_type": "execute_result"
    }
   ],
   "source": [
    "search.best_params_"
   ]
  },
  {
   "cell_type": "code",
   "execution_count": 114,
   "metadata": {},
   "outputs": [],
   "source": [
    "pred_y = search.predict(test_X)\n"
   ]
  },
  {
   "cell_type": "code",
   "execution_count": 115,
   "metadata": {},
   "outputs": [
    {
     "data": {
      "text/plain": [
       "15986.957948610108"
      ]
     },
     "execution_count": 115,
     "metadata": {},
     "output_type": "execute_result"
    }
   ],
   "source": [
    "m.mean_squared_error(test_y,pred_y)\n"
   ]
  },
  {
   "cell_type": "code",
   "execution_count": 116,
   "metadata": {
    "scrolled": true
   },
   "outputs": [
    {
     "data": {
      "text/plain": [
       "-0.037956241591254214"
      ]
     },
     "execution_count": 116,
     "metadata": {},
     "output_type": "execute_result"
    }
   ],
   "source": [
    "m.r2_score(test_y,pred_y)\n"
   ]
  },
  {
   "cell_type": "code",
   "execution_count": 122,
   "metadata": {},
   "outputs": [
    {
     "name": "stdout",
     "output_type": "stream",
     "text": [
      "Fitting 10 folds for each of 20 candidates, totalling 200 fits\n"
     ]
    },
    {
     "name": "stderr",
     "output_type": "stream",
     "text": [
      "[Parallel(n_jobs=4)]: Using backend LokyBackend with 4 concurrent workers.\n",
      "[Parallel(n_jobs=4)]: Done   5 tasks      | elapsed:    4.3s\n",
      "[Parallel(n_jobs=4)]: Done  10 tasks      | elapsed:    4.3s\n",
      "[Parallel(n_jobs=4)]: Done  17 tasks      | elapsed:    4.5s\n",
      "[Parallel(n_jobs=4)]: Done  24 tasks      | elapsed:    4.5s\n",
      "[Parallel(n_jobs=4)]: Batch computation too fast (0.1899s.) Setting batch_size=2.\n",
      "[Parallel(n_jobs=4)]: Done  34 tasks      | elapsed:    4.6s\n",
      "[Parallel(n_jobs=4)]: Batch computation too fast (0.0957s.) Setting batch_size=4.\n",
      "[Parallel(n_jobs=4)]: Batch computation too fast (0.1184s.) Setting batch_size=8.\n",
      "[Parallel(n_jobs=4)]: Done  56 tasks      | elapsed:    4.8s\n",
      "[Parallel(n_jobs=4)]: Done 120 tasks      | elapsed:   18.9s\n",
      "[Parallel(n_jobs=4)]: Batch computation too slow (3.6782s.) Setting batch_size=1.\n",
      "[Parallel(n_jobs=4)]: Done 166 tasks      | elapsed:   52.2s\n",
      "[Parallel(n_jobs=4)]: Done 193 tasks      | elapsed:  1.1min\n",
      "[Parallel(n_jobs=4)]: Done 200 out of 200 | elapsed:  1.2min finished\n"
     ]
    },
    {
     "data": {
      "text/plain": [
       "GridSearchCV(cv=KFold(n_splits=10, random_state=1234, shuffle=True),\n",
       "             error_score=nan,\n",
       "             estimator=Pipeline(memory=None,\n",
       "                                steps=[('pre_process',\n",
       "                                        ColumnTransformer(n_jobs=None,\n",
       "                                                          remainder='drop',\n",
       "                                                          sparse_threshold=0.3,\n",
       "                                                          transformer_weights=None,\n",
       "                                                          transformers=[('num',\n",
       "                                                                         MinMaxScaler(copy=True,\n",
       "                                                                                      feature_range=(0,\n",
       "                                                                                                     1)),\n",
       "                                                                         <sklearn.compose._column_transformer.make_column_selector...\n",
       "                                                          min_impurity_split=None,\n",
       "                                                          min_samples_leaf=1,\n",
       "                                                          min_samples_split=2,\n",
       "                                                          min_weight_fraction_leaf=0.0,\n",
       "                                                          n_estimators=1000,\n",
       "                                                          n_jobs=None,\n",
       "                                                          oob_score=False,\n",
       "                                                          random_state=None,\n",
       "                                                          verbose=0,\n",
       "                                                          warm_start=False)],\n",
       "                          'model__max_depth': [1, 2, 3],\n",
       "                          'model__n_estimators': [500, 1000, 1250]}],\n",
       "             pre_dispatch='2*n_jobs', refit=True, return_train_score=False,\n",
       "             scoring='neg_mean_squared_error', verbose=10)"
      ]
     },
     "execution_count": 122,
     "metadata": {},
     "output_type": "execute_result"
    }
   ],
   "source": [
    "search.fit(train_X,train_y)"
   ]
  },
  {
   "cell_type": "code",
   "execution_count": 123,
   "metadata": {},
   "outputs": [
    {
     "data": {
      "text/plain": [
       "-21120.39481983883"
      ]
     },
     "execution_count": 123,
     "metadata": {},
     "output_type": "execute_result"
    }
   ],
   "source": [
    "search.best_score_ # Mean out-of-sample (CV) error"
   ]
  },
  {
   "cell_type": "code",
   "execution_count": 124,
   "metadata": {},
   "outputs": [],
   "source": [
    "pred_y = search.predict(test_X)"
   ]
  },
  {
   "cell_type": "code",
   "execution_count": 125,
   "metadata": {},
   "outputs": [
    {
     "data": {
      "text/plain": [
       "16057.475013154188"
      ]
     },
     "execution_count": 125,
     "metadata": {},
     "output_type": "execute_result"
    }
   ],
   "source": [
    "m.mean_squared_error(test_y,pred_y)"
   ]
  },
  {
   "cell_type": "code",
   "execution_count": 126,
   "metadata": {},
   "outputs": [
    {
     "data": {
      "text/plain": [
       "-0.04253457522530124"
      ]
     },
     "execution_count": 126,
     "metadata": {},
     "output_type": "execute_result"
    }
   ],
   "source": [
    "m.r2_score(test_y,pred_y)\n"
   ]
  },
  {
   "cell_type": "code",
   "execution_count": 117,
   "metadata": {},
   "outputs": [
    {
     "data": {
      "image/png": "[encoded data removed]",
      "text/plain": [
       "<Figure size 1000x700 with 1 Axes>"
      ]
     },
     "metadata": {},
     "output_type": "display_data"
    },
    {
     "data": {
      "text/plain": [
       "<ggplot: (8765491538285)>"
      ]
     },
     "execution_count": 117,
     "metadata": {},
     "output_type": "execute_result"
    }
   ],
   "source": [
    "# see how in the pipeline we preprocessed X so it is fixed beforehand and we can make sense of the predictions \n",
    "(\n",
    "    ggplot(pd.DataFrame(dict(pred=pred_y,truth=test_y)),\n",
    "          aes(x='pred',y=\"truth\")) +\n",
    "    geom_point(alpha=.75) +\n",
    "    geom_abline(linetype=\"dashed\",color=\"darkred\",size=1) +\n",
    "    theme_bw() +\n",
    "    theme(figure_size=(10,7))\n",
    ")"
   ]
  },
  {
   "cell_type": "code",
   "execution_count": null,
   "metadata": {},
   "outputs": [],
   "source": []
  },
  {
   "cell_type": "code",
   "execution_count": null,
   "metadata": {},
   "outputs": [],
   "source": []
  },
  {
   "cell_type": "markdown",
   "metadata": {},
   "source": [
    "## Retry while doing preprocessing scaler overtly"
   ]
  },
  {
   "cell_type": "code",
   "execution_count": 154,
   "metadata": {},
   "outputs": [],
   "source": [
    "y = df_19['saidi_nomed']\n",
    "X = df_19[['total_cust','nm_pct','ee_pct','dem_res_pct']]"
   ]
  },
  {
   "cell_type": "code",
   "execution_count": 155,
   "metadata": {},
   "outputs": [],
   "source": [
    "train_X, test_X, train_y, test_y = train_test_split(X,y,test_size=.25,random_state=1997)"
   ]
  },
  {
   "cell_type": "code",
   "execution_count": 144,
   "metadata": {},
   "outputs": [
    {
     "name": "stdout",
     "output_type": "stream",
     "text": [
      "0.7496740547588006\n",
      "0.2503259452411995\n"
     ]
    }
   ],
   "source": [
    "print(train_X.shape[0]/df_19.shape[0])\n",
    "print(test_X.shape[0]/df_19.shape[0])"
   ]
  },
  {
   "cell_type": "code",
   "execution_count": 152,
   "metadata": {},
   "outputs": [
    {
     "ename": "AttributeError",
     "evalue": "'numpy.ndarray' object has no attribute 'melt'",
     "output_type": "error",
     "traceback": [
      "\u001b[0;31m---------------------------------------------------------------------------\u001b[0m",
      "\u001b[0;31mAttributeError\u001b[0m                            Traceback (most recent call last)",
      "\u001b[0;32m<ipython-input-152-cb07370c54e8>\u001b[0m in \u001b[0;36m<module>\u001b[0;34m\u001b[0m\n\u001b[1;32m      3\u001b[0m     \u001b[0mggplot\u001b[0m\u001b[0;34m(\u001b[0m\u001b[0mtrain_X\u001b[0m\u001b[0;34m.\u001b[0m\u001b[0mmelt\u001b[0m\u001b[0;34m(\u001b[0m\u001b[0;34m)\u001b[0m\u001b[0;34m,\u001b[0m\u001b[0maes\u001b[0m\u001b[0;34m(\u001b[0m\u001b[0mx\u001b[0m\u001b[0;34m=\u001b[0m\u001b[0;34m\"value\"\u001b[0m\u001b[0;34m)\u001b[0m\u001b[0;34m)\u001b[0m \u001b[0;34m+\u001b[0m\u001b[0;34m\u001b[0m\u001b[0;34m\u001b[0m\u001b[0m\n\u001b[1;32m      4\u001b[0m     \u001b[0mgeom_histogram\u001b[0m\u001b[0;34m(\u001b[0m\u001b[0mbins\u001b[0m\u001b[0;34m=\u001b[0m\u001b[0;36m25\u001b[0m\u001b[0;34m)\u001b[0m \u001b[0;34m+\u001b[0m\u001b[0;34m\u001b[0m\u001b[0;34m\u001b[0m\u001b[0m\n\u001b[0;32m----> 5\u001b[0;31m     \u001b[0mfacet_wrap\u001b[0m\u001b[0;34m(\u001b[0m\u001b[0;34m\"variable\"\u001b[0m\u001b[0;34m,\u001b[0m\u001b[0mscales\u001b[0m\u001b[0;34m=\u001b[0m\u001b[0;34m'free'\u001b[0m\u001b[0;34m)\u001b[0m \u001b[0;34m+\u001b[0m\u001b[0;34m\u001b[0m\u001b[0;34m\u001b[0m\u001b[0m\n\u001b[0m\u001b[1;32m      6\u001b[0m     theme(figure_size=(10,5),\n\u001b[1;32m      7\u001b[0m           subplots_adjust={'wspace':0.25})\n",
      "\u001b[0;31mAttributeError\u001b[0m: 'numpy.ndarray' object has no attribute 'melt'"
     ]
    }
   ],
   "source": [
    "# Plot the continuous variables \n",
    "(\n",
    "    ggplot(train_X.melt(),aes(x=\"value\")) +\n",
    "    geom_histogram(bins=25) +\n",
    "    facet_wrap(\"variable\",scales='free') +\n",
    "    theme(figure_size=(10,5),\n",
    "          subplots_adjust={'wspace':0.25})\n",
    ")"
   ]
  },
  {
   "cell_type": "code",
   "execution_count": 141,
   "metadata": {},
   "outputs": [],
   "source": [
    "# Version 3 just log everything\n",
    "df_19['total_cust'] = np.log(df_19['total_cust'])\n",
    "df_19['nm_pct'] = np.log(df_19['nm_pct'] + 1)\n",
    "df_19['ee_pct'] = np.log(df_19['ee_pct'] + 1)\n",
    "df_19['dem_res_pct'] = np.log(df_19['dem_res_pct'] + 1)"
   ]
  },
  {
   "cell_type": "code",
   "execution_count": 157,
   "metadata": {},
   "outputs": [],
   "source": [
    "scaler = pp.StandardScaler()"
   ]
  },
  {
   "cell_type": "code",
   "execution_count": 158,
   "metadata": {},
   "outputs": [],
   "source": [
    "scaler = scaler.fit(train_X)\n"
   ]
  },
  {
   "cell_type": "code",
   "execution_count": 160,
   "metadata": {},
   "outputs": [],
   "source": [
    "X_scaled = scaler.transform(train_X)\n"
   ]
  },
  {
   "cell_type": "code",
   "execution_count": 162,
   "metadata": {},
   "outputs": [
    {
     "data": {
      "text/plain": [
       "array([ 2.47145299e-16, -1.39019231e-17, -1.85358975e-17,  9.26794873e-18])"
      ]
     },
     "execution_count": 162,
     "metadata": {},
     "output_type": "execute_result"
    }
   ],
   "source": [
    "X_scaled.mean(axis=0)"
   ]
  },
  {
   "cell_type": "markdown",
   "metadata": {},
   "source": [
    "## Unresolved"
   ]
  },
  {
   "cell_type": "code",
   "execution_count": null,
   "metadata": {},
   "outputs": [],
   "source": []
  },
  {
   "cell_type": "markdown",
   "metadata": {},
   "source": [
    "## Discard"
   ]
  },
  {
   "cell_type": "code",
   "execution_count": null,
   "metadata": {},
   "outputs": [],
   "source": []
  }
 ],
 "metadata": {
  "kernelspec": {
   "display_name": "Python 3",
   "language": "python",
   "name": "python3"
  },
  "language_info": {
   "codemirror_mode": {
    "name": "ipython",
    "version": 3
   },
   "file_extension": ".py",
   "mimetype": "text/x-python",
   "name": "python",
   "nbconvert_exporter": "python",
   "pygments_lexer": "ipython3",
   "version": "3.7.6"
  }
 },
 "nbformat": 4,
 "nbformat_minor": 4
}
