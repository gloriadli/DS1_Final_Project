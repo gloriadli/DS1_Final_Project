{
 "cells": [
  {
   "cell_type": "code",
   "execution_count": 8,
   "metadata": {},
   "outputs": [],
   "source": [
    "# Data Management/Investigation\n",
    "import pandas as pd\n",
    "from pandas.api.types import CategoricalDtype # Ordering categories\n",
    "import numpy as np\n",
    "import missingno as miss\n",
    "\n",
    "# Plotting libraries\n",
    "from plotnine import *\n",
    "import matplotlib.backend_bases\n",
    "import matplotlib.pyplot as plt\n",
    "import seaborn as sns\n",
    "\n",
    "# For pre-processing data \n",
    "from sklearn import preprocessing as pp \n",
    "from sklearn.compose import ColumnTransformer \n",
    "from sklearn.compose import make_column_selector\n",
    "\n",
    "# For splits and CV\n",
    "from sklearn.model_selection import train_test_split\n",
    "from sklearn.model_selection import KFold # Cross validation \n",
    "from sklearn.model_selection import cross_validate # Cross validation \n",
    "from sklearn.model_selection import GridSearchCV # Cross validation + param. tuning.\n",
    "\n",
    "# Machine learning methods \n",
    "from sklearn.linear_model import LinearRegression as LM\n",
    "from sklearn.neighbors import KNeighborsRegressor as KNN\n",
    "from sklearn.tree import DecisionTreeRegressor as DTree\n",
    "from sklearn import tree # For plotting the decision tree rules\n",
    "from sklearn.ensemble import BaggingRegressor as Bag # for bagging\n",
    "from sklearn.ensemble import RandomForestRegressor as RF\n",
    "\n",
    "# For evaluating our model's performance\n",
    "import sklearn.metrics as m\n",
    "\n",
    "# Pipeline to combine modeling elements\n",
    "from sklearn.pipeline import Pipeline\n",
    "\n",
    "# Model interpretation\n",
    "from sklearn.inspection import partial_dependence\n",
    "from sklearn.inspection import plot_partial_dependence\n",
    "from sklearn.inspection import permutation_importance\n",
    "import eli5 # \"explain it to me like I'm 5\"\n",
    "from eli5.sklearn import PermutationImportance\n",
    "\n",
    "#eda\n",
    "import pandas_profiling\n",
    "\n",
    "# Misc\n",
    "import warnings\n",
    "warnings.filterwarnings(\"ignore\")"
   ]
  },
  {
   "cell_type": "markdown",
   "metadata": {},
   "source": [
    "## Explore data"
   ]
  },
  {
   "cell_type": "code",
   "execution_count": 48,
   "metadata": {},
   "outputs": [],
   "source": [
    "df = pd.read_csv(\"df.csv\")"
   ]
  },
  {
   "cell_type": "code",
   "execution_count": 49,
   "metadata": {
    "scrolled": true
   },
   "outputs": [
    {
     "data": {
      "text/html": [
       "<div>\n",
       "<style scoped>\n",
       "    .dataframe tbody tr th:only-of-type {\n",
       "        vertical-align: middle;\n",
       "    }\n",
       "\n",
       "    .dataframe tbody tr th {\n",
       "        vertical-align: top;\n",
       "    }\n",
       "\n",
       "    .dataframe thead th {\n",
       "        text-align: right;\n",
       "    }\n",
       "</style>\n",
       "<table border=\"1\" class=\"dataframe\">\n",
       "  <thead>\n",
       "    <tr style=\"text-align: right;\">\n",
       "      <th></th>\n",
       "      <th>year</th>\n",
       "      <th>total_mwh</th>\n",
       "      <th>total_cust</th>\n",
       "      <th>no</th>\n",
       "      <th>saidi_nomed</th>\n",
       "      <th>circuits</th>\n",
       "      <th>voltage</th>\n",
       "      <th>gen_mwh</th>\n",
       "      <th>purchase_mwh</th>\n",
       "      <th>pv_mwh</th>\n",
       "      <th>...</th>\n",
       "      <th>nm_mwh</th>\n",
       "      <th>ee_mwh</th>\n",
       "      <th>dem_res_customers</th>\n",
       "      <th>dem_res_mwh</th>\n",
       "      <th>pv_pct</th>\n",
       "      <th>wind_pct</th>\n",
       "      <th>nm_pct</th>\n",
       "      <th>ee_pct</th>\n",
       "      <th>dem_res_pct</th>\n",
       "      <th>dem_res_cust_pct</th>\n",
       "    </tr>\n",
       "  </thead>\n",
       "  <tbody>\n",
       "    <tr>\n",
       "      <th>count</th>\n",
       "      <td>2699.000000</td>\n",
       "      <td>2.699000e+03</td>\n",
       "      <td>2.699000e+03</td>\n",
       "      <td>2699.000000</td>\n",
       "      <td>2699.000000</td>\n",
       "      <td>2699.000000</td>\n",
       "      <td>2699.000000</td>\n",
       "      <td>1.534000e+03</td>\n",
       "      <td>2.699000e+03</td>\n",
       "      <td>2699.000000</td>\n",
       "      <td>...</td>\n",
       "      <td>2699.000000</td>\n",
       "      <td>2.699000e+03</td>\n",
       "      <td>2.699000e+03</td>\n",
       "      <td>2699.000000</td>\n",
       "      <td>2699.000000</td>\n",
       "      <td>2699.000000</td>\n",
       "      <td>2699.000000</td>\n",
       "      <td>2699.000000</td>\n",
       "      <td>2699.000000</td>\n",
       "      <td>2699.000000</td>\n",
       "    </tr>\n",
       "    <tr>\n",
       "      <th>mean</th>\n",
       "      <td>2017.140422</td>\n",
       "      <td>3.149517e+06</td>\n",
       "      <td>1.482996e+05</td>\n",
       "      <td>11953.952205</td>\n",
       "      <td>132.107830</td>\n",
       "      <td>202.028159</td>\n",
       "      <td>51.051501</td>\n",
       "      <td>3.817798e+06</td>\n",
       "      <td>1.930104e+06</td>\n",
       "      <td>872.834801</td>\n",
       "      <td>...</td>\n",
       "      <td>904.241550</td>\n",
       "      <td>2.986024e+04</td>\n",
       "      <td>1.192375e+04</td>\n",
       "      <td>1129.133774</td>\n",
       "      <td>0.033374</td>\n",
       "      <td>0.002732</td>\n",
       "      <td>0.037360</td>\n",
       "      <td>0.353077</td>\n",
       "      <td>0.020304</td>\n",
       "      <td>4.378855</td>\n",
       "    </tr>\n",
       "    <tr>\n",
       "      <th>std</th>\n",
       "      <td>1.462375</td>\n",
       "      <td>9.435886e+06</td>\n",
       "      <td>4.606789e+05</td>\n",
       "      <td>7908.112320</td>\n",
       "      <td>185.674422</td>\n",
       "      <td>510.849556</td>\n",
       "      <td>224.569432</td>\n",
       "      <td>1.218682e+07</td>\n",
       "      <td>4.816731e+06</td>\n",
       "      <td>7740.335961</td>\n",
       "      <td>...</td>\n",
       "      <td>7786.815114</td>\n",
       "      <td>1.406401e+05</td>\n",
       "      <td>7.649018e+04</td>\n",
       "      <td>24925.414395</td>\n",
       "      <td>0.169005</td>\n",
       "      <td>0.017980</td>\n",
       "      <td>0.174422</td>\n",
       "      <td>1.039859</td>\n",
       "      <td>0.190279</td>\n",
       "      <td>13.255037</td>\n",
       "    </tr>\n",
       "    <tr>\n",
       "      <th>min</th>\n",
       "      <td>2015.000000</td>\n",
       "      <td>3.294000e+03</td>\n",
       "      <td>3.420000e+02</td>\n",
       "      <td>97.000000</td>\n",
       "      <td>0.000000</td>\n",
       "      <td>1.000000</td>\n",
       "      <td>0.000000</td>\n",
       "      <td>-2.670000e+03</td>\n",
       "      <td>0.000000e+00</td>\n",
       "      <td>0.000000</td>\n",
       "      <td>...</td>\n",
       "      <td>0.000000</td>\n",
       "      <td>0.000000e+00</td>\n",
       "      <td>0.000000e+00</td>\n",
       "      <td>0.000000</td>\n",
       "      <td>0.000000</td>\n",
       "      <td>0.000000</td>\n",
       "      <td>0.000000</td>\n",
       "      <td>0.000000</td>\n",
       "      <td>0.000000</td>\n",
       "      <td>0.000000</td>\n",
       "    </tr>\n",
       "    <tr>\n",
       "      <th>25%</th>\n",
       "      <td>2016.000000</td>\n",
       "      <td>2.856545e+05</td>\n",
       "      <td>1.155600e+04</td>\n",
       "      <td>5585.000000</td>\n",
       "      <td>50.851500</td>\n",
       "      <td>33.000000</td>\n",
       "      <td>0.000000</td>\n",
       "      <td>0.000000e+00</td>\n",
       "      <td>2.736575e+05</td>\n",
       "      <td>0.000000</td>\n",
       "      <td>...</td>\n",
       "      <td>0.000000</td>\n",
       "      <td>0.000000e+00</td>\n",
       "      <td>0.000000e+00</td>\n",
       "      <td>0.000000</td>\n",
       "      <td>0.000000</td>\n",
       "      <td>0.000000</td>\n",
       "      <td>0.000000</td>\n",
       "      <td>0.000000</td>\n",
       "      <td>0.000000</td>\n",
       "      <td>0.000000</td>\n",
       "    </tr>\n",
       "    <tr>\n",
       "      <th>50%</th>\n",
       "      <td>2017.000000</td>\n",
       "      <td>5.650260e+05</td>\n",
       "      <td>2.608500e+04</td>\n",
       "      <td>11740.000000</td>\n",
       "      <td>96.000000</td>\n",
       "      <td>60.000000</td>\n",
       "      <td>0.000000</td>\n",
       "      <td>4.850000e+01</td>\n",
       "      <td>5.706570e+05</td>\n",
       "      <td>0.000000</td>\n",
       "      <td>...</td>\n",
       "      <td>0.000000</td>\n",
       "      <td>0.000000e+00</td>\n",
       "      <td>0.000000e+00</td>\n",
       "      <td>0.000000</td>\n",
       "      <td>0.000000</td>\n",
       "      <td>0.000000</td>\n",
       "      <td>0.000000</td>\n",
       "      <td>0.000000</td>\n",
       "      <td>0.000000</td>\n",
       "      <td>0.000000</td>\n",
       "    </tr>\n",
       "    <tr>\n",
       "      <th>75%</th>\n",
       "      <td>2019.000000</td>\n",
       "      <td>1.341410e+06</td>\n",
       "      <td>6.374250e+04</td>\n",
       "      <td>16679.000000</td>\n",
       "      <td>162.784500</td>\n",
       "      <td>122.000000</td>\n",
       "      <td>22.000000</td>\n",
       "      <td>3.130125e+05</td>\n",
       "      <td>1.342214e+06</td>\n",
       "      <td>50.910500</td>\n",
       "      <td>...</td>\n",
       "      <td>58.038000</td>\n",
       "      <td>1.299500e+03</td>\n",
       "      <td>4.000000e+01</td>\n",
       "      <td>0.000000</td>\n",
       "      <td>0.007315</td>\n",
       "      <td>0.000000</td>\n",
       "      <td>0.008188</td>\n",
       "      <td>0.237519</td>\n",
       "      <td>0.000000</td>\n",
       "      <td>0.050169</td>\n",
       "    </tr>\n",
       "    <tr>\n",
       "      <th>max</th>\n",
       "      <td>2019.000000</td>\n",
       "      <td>1.119557e+08</td>\n",
       "      <td>5.069189e+06</td>\n",
       "      <td>57483.000000</td>\n",
       "      <td>6356.070000</td>\n",
       "      <td>5619.000000</td>\n",
       "      <td>2787.000000</td>\n",
       "      <td>1.265085e+08</td>\n",
       "      <td>7.229354e+07</td>\n",
       "      <td>174137.899000</td>\n",
       "      <td>...</td>\n",
       "      <td>174137.899000</td>\n",
       "      <td>2.865573e+06</td>\n",
       "      <td>1.323922e+06</td>\n",
       "      <td>977215.000000</td>\n",
       "      <td>2.737364</td>\n",
       "      <td>0.334026</td>\n",
       "      <td>2.737446</td>\n",
       "      <td>13.437062</td>\n",
       "      <td>3.509534</td>\n",
       "      <td>100.000000</td>\n",
       "    </tr>\n",
       "  </tbody>\n",
       "</table>\n",
       "<p>8 rows × 21 columns</p>\n",
       "</div>"
      ],
      "text/plain": [
       "              year     total_mwh    total_cust            no  saidi_nomed  \\\n",
       "count  2699.000000  2.699000e+03  2.699000e+03   2699.000000  2699.000000   \n",
       "mean   2017.140422  3.149517e+06  1.482996e+05  11953.952205   132.107830   \n",
       "std       1.462375  9.435886e+06  4.606789e+05   7908.112320   185.674422   \n",
       "min    2015.000000  3.294000e+03  3.420000e+02     97.000000     0.000000   \n",
       "25%    2016.000000  2.856545e+05  1.155600e+04   5585.000000    50.851500   \n",
       "50%    2017.000000  5.650260e+05  2.608500e+04  11740.000000    96.000000   \n",
       "75%    2019.000000  1.341410e+06  6.374250e+04  16679.000000   162.784500   \n",
       "max    2019.000000  1.119557e+08  5.069189e+06  57483.000000  6356.070000   \n",
       "\n",
       "          circuits      voltage       gen_mwh  purchase_mwh         pv_mwh  \\\n",
       "count  2699.000000  2699.000000  1.534000e+03  2.699000e+03    2699.000000   \n",
       "mean    202.028159    51.051501  3.817798e+06  1.930104e+06     872.834801   \n",
       "std     510.849556   224.569432  1.218682e+07  4.816731e+06    7740.335961   \n",
       "min       1.000000     0.000000 -2.670000e+03  0.000000e+00       0.000000   \n",
       "25%      33.000000     0.000000  0.000000e+00  2.736575e+05       0.000000   \n",
       "50%      60.000000     0.000000  4.850000e+01  5.706570e+05       0.000000   \n",
       "75%     122.000000    22.000000  3.130125e+05  1.342214e+06      50.910500   \n",
       "max    5619.000000  2787.000000  1.265085e+08  7.229354e+07  174137.899000   \n",
       "\n",
       "       ...         nm_mwh        ee_mwh  dem_res_customers    dem_res_mwh  \\\n",
       "count  ...    2699.000000  2.699000e+03       2.699000e+03    2699.000000   \n",
       "mean   ...     904.241550  2.986024e+04       1.192375e+04    1129.133774   \n",
       "std    ...    7786.815114  1.406401e+05       7.649018e+04   24925.414395   \n",
       "min    ...       0.000000  0.000000e+00       0.000000e+00       0.000000   \n",
       "25%    ...       0.000000  0.000000e+00       0.000000e+00       0.000000   \n",
       "50%    ...       0.000000  0.000000e+00       0.000000e+00       0.000000   \n",
       "75%    ...      58.038000  1.299500e+03       4.000000e+01       0.000000   \n",
       "max    ...  174137.899000  2.865573e+06       1.323922e+06  977215.000000   \n",
       "\n",
       "            pv_pct     wind_pct       nm_pct       ee_pct  dem_res_pct  \\\n",
       "count  2699.000000  2699.000000  2699.000000  2699.000000  2699.000000   \n",
       "mean      0.033374     0.002732     0.037360     0.353077     0.020304   \n",
       "std       0.169005     0.017980     0.174422     1.039859     0.190279   \n",
       "min       0.000000     0.000000     0.000000     0.000000     0.000000   \n",
       "25%       0.000000     0.000000     0.000000     0.000000     0.000000   \n",
       "50%       0.000000     0.000000     0.000000     0.000000     0.000000   \n",
       "75%       0.007315     0.000000     0.008188     0.237519     0.000000   \n",
       "max       2.737364     0.334026     2.737446    13.437062     3.509534   \n",
       "\n",
       "       dem_res_cust_pct  \n",
       "count       2699.000000  \n",
       "mean           4.378855  \n",
       "std           13.255037  \n",
       "min            0.000000  \n",
       "25%            0.000000  \n",
       "50%            0.000000  \n",
       "75%            0.050169  \n",
       "max          100.000000  \n",
       "\n",
       "[8 rows x 21 columns]"
      ]
     },
     "execution_count": 49,
     "metadata": {},
     "output_type": "execute_result"
    }
   ],
   "source": [
    "df.describe()"
   ]
  },
  {
   "cell_type": "code",
   "execution_count": 50,
   "metadata": {},
   "outputs": [
    {
     "data": {
      "text/html": [
       "<div>\n",
       "<style scoped>\n",
       "    .dataframe tbody tr th:only-of-type {\n",
       "        vertical-align: middle;\n",
       "    }\n",
       "\n",
       "    .dataframe tbody tr th {\n",
       "        vertical-align: top;\n",
       "    }\n",
       "\n",
       "    .dataframe thead th {\n",
       "        text-align: right;\n",
       "    }\n",
       "</style>\n",
       "<table border=\"1\" class=\"dataframe\">\n",
       "  <thead>\n",
       "    <tr style=\"text-align: right;\">\n",
       "      <th></th>\n",
       "      <th>name</th>\n",
       "      <th>gen_mwh</th>\n",
       "    </tr>\n",
       "  </thead>\n",
       "  <tbody>\n",
       "    <tr>\n",
       "      <th>1913</th>\n",
       "      <td>City of Key West - (FL)</td>\n",
       "      <td>-2670.0</td>\n",
       "    </tr>\n",
       "    <tr>\n",
       "      <th>2372</th>\n",
       "      <td>Indianola Municipal Utilities</td>\n",
       "      <td>-821.0</td>\n",
       "    </tr>\n",
       "  </tbody>\n",
       "</table>\n",
       "</div>"
      ],
      "text/plain": [
       "                               name  gen_mwh\n",
       "1913        City of Key West - (FL)  -2670.0\n",
       "2372  Indianola Municipal Utilities   -821.0"
      ]
     },
     "execution_count": 50,
     "metadata": {},
     "output_type": "execute_result"
    }
   ],
   "source": [
    "df.sort_values(['gen_mwh']).filter(['name','gen_mwh']).head(2)"
   ]
  },
  {
   "cell_type": "markdown",
   "metadata": {},
   "source": [
    "This is kind of weird, there is one utility with a negative gen_mwh: City of Homestead, FL. They do have a positive purchase MWh's value so maybe they use more electricity than they generate and buy the difference? I don't know if I should remove it as an outlier because this is theoretically possible, but it could trip up my model later on.\n",
    "\n",
    "**Update**: I didn't end up using gen_mwh."
   ]
  },
  {
   "cell_type": "code",
   "execution_count": 51,
   "metadata": {},
   "outputs": [],
   "source": [
    "# convert object variables to categories\n",
    "for col in df.select_dtypes(include=\"object\"):\n",
    "    df[col] = df[col].astype('category')"
   ]
  },
  {
   "cell_type": "code",
   "execution_count": 52,
   "metadata": {
    "scrolled": true
   },
   "outputs": [
    {
     "data": {
      "text/plain": [
       "year                  float64\n",
       "name                 category\n",
       "state                category\n",
       "total_mwh             float64\n",
       "total_cust            float64\n",
       "no                    float64\n",
       "type                 category\n",
       "saidi_nomed           float64\n",
       "saifi_nomed          category\n",
       "caidi_nomed          category\n",
       "circuits              float64\n",
       "voltage               float64\n",
       "nerc                 category\n",
       "gen_mwh               float64\n",
       "purchase_mwh          float64\n",
       "ba                   category\n",
       "pv_mwh                float64\n",
       "wind_mwh              float64\n",
       "nm_mwh                float64\n",
       "ee_mwh                float64\n",
       "dem_res_customers     float64\n",
       "dem_res_mwh           float64\n",
       "pv_pct                float64\n",
       "wind_pct              float64\n",
       "nm_pct                float64\n",
       "ee_pct                float64\n",
       "dem_res_pct           float64\n",
       "dem_res_cust_pct      float64\n",
       "dtype: object"
      ]
     },
     "execution_count": 52,
     "metadata": {},
     "output_type": "execute_result"
    }
   ],
   "source": [
    "df.dtypes"
   ]
  },
  {
   "cell_type": "code",
   "execution_count": 53,
   "metadata": {},
   "outputs": [],
   "source": [
    "y = df['saidi_nomed']\n",
    "X = df[['ba','state','type','total_mwh',\n",
    "           'nerc','gen_mwh','purchase_mwh',\n",
    "           'circuits','voltage',\n",
    "           'total_cust','pv_pct',\n",
    "           'wind_pct','ee_pct',\n",
    "           'dem_res_pct']]"
   ]
  },
  {
   "cell_type": "code",
   "execution_count": 54,
   "metadata": {},
   "outputs": [],
   "source": [
    "train_X, test_X, train_y, test_y = train_test_split(X,y,test_size=.25,random_state=1997)"
   ]
  },
  {
   "cell_type": "code",
   "execution_count": 55,
   "metadata": {},
   "outputs": [
    {
     "name": "stdout",
     "output_type": "stream",
     "text": [
      "0.7499073731011485\n",
      "0.2500926268988514\n"
     ]
    }
   ],
   "source": [
    "print(train_X.shape[0]/df.shape[0])\n",
    "print(test_X.shape[0]/df.shape[0])"
   ]
  },
  {
   "cell_type": "markdown",
   "metadata": {},
   "source": [
    "## Check for multicollinearity"
   ]
  },
  {
   "cell_type": "code",
   "execution_count": 56,
   "metadata": {},
   "outputs": [
    {
     "data": {
      "image/png": "[encoded data removed]",
      "text/plain": [
       "<Figure size 720x432 with 2 Axes>"
      ]
     },
     "metadata": {
      "needs_background": "light"
     },
     "output_type": "display_data"
    }
   ],
   "source": [
    "#creating pairwise correlation of columns using Pearson's R,\n",
    "corr = train_X.corr(method='pearson') \n",
    "\n",
    "#plotting the correlation coefficients on a seasborn heatmap matrix\n",
    "fig, ax = plt.subplots(figsize=(10,6))\n",
    "sns.heatmap(corr, annot=True, \n",
    "            vmin = -1, vmax=1, center=0)\n",
    "\n",
    "plt.title('Correlation HeatMap')\n",
    "plt.show()"
   ]
  },
  {
   "cell_type": "markdown",
   "metadata": {},
   "source": [
    "It looks like we have some amount of multicollinearity, specifically between **Circuits** and **total customers** and **voltage** and **total customers**. This makes sense because more customers require more distribution grid support. To solve this, we can probably get rid of total customers. **Net generation mwh** and **purchased mwh** are also highly correlated with **total customers**, but I may not include those two variables anyway because I will probably just use **total mwh sold** which should account for the predictive ability of all those variables."
   ]
  },
  {
   "cell_type": "code",
   "execution_count": 57,
   "metadata": {},
   "outputs": [
    {
     "data": {
      "text/plain": [
       "201.19478494086565"
      ]
     },
     "execution_count": 57,
     "metadata": {},
     "output_type": "execute_result"
    }
   ],
   "source": [
    "# standard deviation of training outcome variable\n",
    "train_y.describe()[2]"
   ]
  },
  {
   "cell_type": "code",
   "execution_count": 58,
   "metadata": {},
   "outputs": [
    {
     "data": {
      "text/plain": [
       "dem_res_mwh          35.504972\n",
       "wind_mwh             29.410157\n",
       "saidi_nomed          16.552072\n",
       "pv_mwh               15.312053\n",
       "nm_mwh               15.084027\n",
       "dem_res_pct          13.645533\n",
       "dem_res_customers    10.823781\n",
       "pv_pct               10.198893\n",
       "wind_pct             10.126678\n",
       "ee_mwh                9.680367\n",
       "nm_pct                9.648539\n",
       "voltage               8.170387\n",
       "purchase_mwh          7.464751\n",
       "total_cust            6.780508\n",
       "ee_pct                6.433090\n",
       "total_mwh             6.383701\n",
       "circuits              5.753934\n",
       "gen_mwh               5.429373\n",
       "dem_res_cust_pct      4.523447\n",
       "no                    1.410810\n",
       "year                 -0.129646\n",
       "dtype: float64"
      ]
     },
     "execution_count": 58,
     "metadata": {},
     "output_type": "execute_result"
    }
   ],
   "source": [
    "# take a look at how skewed each variable is\n",
    "df.skew().sort_values(ascending = False)"
   ]
  },
  {
   "cell_type": "code",
   "execution_count": 59,
   "metadata": {},
   "outputs": [
    {
     "data": {
      "image/png": "[encoded data removed]",
      "text/plain": [
       "<Figure size 1000x500 with 1 Axes>"
      ]
     },
     "metadata": {},
     "output_type": "display_data"
    },
    {
     "data": {
      "text/plain": [
       "<ggplot: (8790593063949)>"
      ]
     },
     "execution_count": 59,
     "metadata": {},
     "output_type": "execute_result"
    }
   ],
   "source": [
    "# look at distribution of outcome\n",
    "(\n",
    "    ggplot(df,aes(x=\"saidi_nomed\")) +\n",
    "    geom_histogram(bins=25) +\n",
    "    theme(figure_size=(10,5),\n",
    "          subplots_adjust={'wspace':0.25})\n",
    ")"
   ]
  },
  {
   "cell_type": "markdown",
   "metadata": {},
   "source": [
    "# Explore Training Data"
   ]
  },
  {
   "cell_type": "code",
   "execution_count": 60,
   "metadata": {},
   "outputs": [
    {
     "data": {
      "text/html": [
       "<div>\n",
       "<style scoped>\n",
       "    .dataframe tbody tr th:only-of-type {\n",
       "        vertical-align: middle;\n",
       "    }\n",
       "\n",
       "    .dataframe tbody tr th {\n",
       "        vertical-align: top;\n",
       "    }\n",
       "\n",
       "    .dataframe thead th {\n",
       "        text-align: right;\n",
       "    }\n",
       "</style>\n",
       "<table border=\"1\" class=\"dataframe\">\n",
       "  <thead>\n",
       "    <tr style=\"text-align: right;\">\n",
       "      <th></th>\n",
       "      <th>year</th>\n",
       "      <th>name</th>\n",
       "      <th>state</th>\n",
       "      <th>total_mwh</th>\n",
       "      <th>total_cust</th>\n",
       "      <th>no</th>\n",
       "      <th>type</th>\n",
       "      <th>saidi_nomed</th>\n",
       "      <th>saifi_nomed</th>\n",
       "      <th>caidi_nomed</th>\n",
       "      <th>...</th>\n",
       "      <th>nm_mwh</th>\n",
       "      <th>ee_mwh</th>\n",
       "      <th>dem_res_customers</th>\n",
       "      <th>dem_res_mwh</th>\n",
       "      <th>pv_pct</th>\n",
       "      <th>wind_pct</th>\n",
       "      <th>nm_pct</th>\n",
       "      <th>ee_pct</th>\n",
       "      <th>dem_res_pct</th>\n",
       "      <th>dem_res_cust_pct</th>\n",
       "    </tr>\n",
       "  </thead>\n",
       "  <tbody>\n",
       "    <tr>\n",
       "      <th>0</th>\n",
       "      <td>2019.0</td>\n",
       "      <td>Adams Electric Coop</td>\n",
       "      <td>IL</td>\n",
       "      <td>176102.0</td>\n",
       "      <td>8931.0</td>\n",
       "      <td>97.0</td>\n",
       "      <td>Cooperative</td>\n",
       "      <td>169.740</td>\n",
       "      <td>1.29</td>\n",
       "      <td>131.5814</td>\n",
       "      <td>...</td>\n",
       "      <td>0.000</td>\n",
       "      <td>0.0</td>\n",
       "      <td>4402.0</td>\n",
       "      <td>0.00</td>\n",
       "      <td>0.000000</td>\n",
       "      <td>0.000000</td>\n",
       "      <td>0.000000</td>\n",
       "      <td>0.000000</td>\n",
       "      <td>0.000000</td>\n",
       "      <td>49.288993</td>\n",
       "    </tr>\n",
       "    <tr>\n",
       "      <th>1</th>\n",
       "      <td>2019.0</td>\n",
       "      <td>Adams-Columbia Electric Coop</td>\n",
       "      <td>WI</td>\n",
       "      <td>515186.0</td>\n",
       "      <td>37607.0</td>\n",
       "      <td>108.0</td>\n",
       "      <td>Cooperative</td>\n",
       "      <td>139.900</td>\n",
       "      <td>0.95</td>\n",
       "      <td>147.26316</td>\n",
       "      <td>...</td>\n",
       "      <td>728.010</td>\n",
       "      <td>0.0</td>\n",
       "      <td>4781.0</td>\n",
       "      <td>13647.36</td>\n",
       "      <td>0.136994</td>\n",
       "      <td>0.004316</td>\n",
       "      <td>0.141310</td>\n",
       "      <td>0.000000</td>\n",
       "      <td>2.649016</td>\n",
       "      <td>12.713059</td>\n",
       "    </tr>\n",
       "    <tr>\n",
       "      <th>2</th>\n",
       "      <td>2019.0</td>\n",
       "      <td>Agralite Electric Coop</td>\n",
       "      <td>MN</td>\n",
       "      <td>238558.0</td>\n",
       "      <td>5251.0</td>\n",
       "      <td>155.0</td>\n",
       "      <td>Cooperative</td>\n",
       "      <td>128.759</td>\n",
       "      <td>1.181</td>\n",
       "      <td>109.0254</td>\n",
       "      <td>...</td>\n",
       "      <td>0.000</td>\n",
       "      <td>0.0</td>\n",
       "      <td>0.0</td>\n",
       "      <td>0.00</td>\n",
       "      <td>0.000000</td>\n",
       "      <td>0.000000</td>\n",
       "      <td>0.000000</td>\n",
       "      <td>0.000000</td>\n",
       "      <td>0.000000</td>\n",
       "      <td>0.000000</td>\n",
       "    </tr>\n",
       "    <tr>\n",
       "      <th>3</th>\n",
       "      <td>2019.0</td>\n",
       "      <td>Aiken Electric Coop Inc</td>\n",
       "      <td>SC</td>\n",
       "      <td>938436.0</td>\n",
       "      <td>48059.0</td>\n",
       "      <td>162.0</td>\n",
       "      <td>Cooperative</td>\n",
       "      <td>97.720</td>\n",
       "      <td>.</td>\n",
       "      <td>.</td>\n",
       "      <td>...</td>\n",
       "      <td>354.456</td>\n",
       "      <td>3.0</td>\n",
       "      <td>0.0</td>\n",
       "      <td>0.00</td>\n",
       "      <td>0.037771</td>\n",
       "      <td>0.000000</td>\n",
       "      <td>0.037771</td>\n",
       "      <td>0.000320</td>\n",
       "      <td>0.000000</td>\n",
       "      <td>0.000000</td>\n",
       "    </tr>\n",
       "    <tr>\n",
       "      <th>4</th>\n",
       "      <td>2019.0</td>\n",
       "      <td>Alaska Electric Light&amp;Power Co</td>\n",
       "      <td>AK</td>\n",
       "      <td>337796.0</td>\n",
       "      <td>17280.0</td>\n",
       "      <td>213.0</td>\n",
       "      <td>Investor Owned</td>\n",
       "      <td>79.000</td>\n",
       "      <td>2.08</td>\n",
       "      <td>37.980769</td>\n",
       "      <td>...</td>\n",
       "      <td>0.000</td>\n",
       "      <td>0.0</td>\n",
       "      <td>2386.0</td>\n",
       "      <td>0.00</td>\n",
       "      <td>0.000000</td>\n",
       "      <td>0.000000</td>\n",
       "      <td>0.000000</td>\n",
       "      <td>0.000000</td>\n",
       "      <td>0.000000</td>\n",
       "      <td>13.807870</td>\n",
       "    </tr>\n",
       "    <tr>\n",
       "      <th>...</th>\n",
       "      <td>...</td>\n",
       "      <td>...</td>\n",
       "      <td>...</td>\n",
       "      <td>...</td>\n",
       "      <td>...</td>\n",
       "      <td>...</td>\n",
       "      <td>...</td>\n",
       "      <td>...</td>\n",
       "      <td>...</td>\n",
       "      <td>...</td>\n",
       "      <td>...</td>\n",
       "      <td>...</td>\n",
       "      <td>...</td>\n",
       "      <td>...</td>\n",
       "      <td>...</td>\n",
       "      <td>...</td>\n",
       "      <td>...</td>\n",
       "      <td>...</td>\n",
       "      <td>...</td>\n",
       "      <td>...</td>\n",
       "      <td>...</td>\n",
       "    </tr>\n",
       "    <tr>\n",
       "      <th>2694</th>\n",
       "      <td>2015.0</td>\n",
       "      <td>Southwest Iowa Rural Elec Coop</td>\n",
       "      <td>IA</td>\n",
       "      <td>98071.0</td>\n",
       "      <td>5909.0</td>\n",
       "      <td>49986.0</td>\n",
       "      <td>Cooperative</td>\n",
       "      <td>66.364</td>\n",
       "      <td>0.863</td>\n",
       "      <td>76.899189</td>\n",
       "      <td>...</td>\n",
       "      <td>0.000</td>\n",
       "      <td>0.0</td>\n",
       "      <td>0.0</td>\n",
       "      <td>0.00</td>\n",
       "      <td>0.000000</td>\n",
       "      <td>0.000000</td>\n",
       "      <td>0.000000</td>\n",
       "      <td>0.000000</td>\n",
       "      <td>0.000000</td>\n",
       "      <td>0.000000</td>\n",
       "    </tr>\n",
       "    <tr>\n",
       "      <th>2695</th>\n",
       "      <td>2015.0</td>\n",
       "      <td>Entergy Gulf States - LA LLC</td>\n",
       "      <td>LA</td>\n",
       "      <td>16316827.0</td>\n",
       "      <td>298980.0</td>\n",
       "      <td>55936.0</td>\n",
       "      <td>Investor Owned</td>\n",
       "      <td>148.800</td>\n",
       "      <td>1.276</td>\n",
       "      <td>116.61442</td>\n",
       "      <td>...</td>\n",
       "      <td>0.000</td>\n",
       "      <td>9221.0</td>\n",
       "      <td>0.0</td>\n",
       "      <td>0.00</td>\n",
       "      <td>0.000000</td>\n",
       "      <td>0.000000</td>\n",
       "      <td>0.000000</td>\n",
       "      <td>0.056512</td>\n",
       "      <td>0.000000</td>\n",
       "      <td>0.000000</td>\n",
       "    </tr>\n",
       "    <tr>\n",
       "      <th>2696</th>\n",
       "      <td>2015.0</td>\n",
       "      <td>Entergy Texas Inc.</td>\n",
       "      <td>TX</td>\n",
       "      <td>17748084.0</td>\n",
       "      <td>432372.0</td>\n",
       "      <td>55937.0</td>\n",
       "      <td>Investor Owned</td>\n",
       "      <td>204.800</td>\n",
       "      <td>1.692</td>\n",
       "      <td>121.04019</td>\n",
       "      <td>...</td>\n",
       "      <td>2.509</td>\n",
       "      <td>39698.0</td>\n",
       "      <td>8.0</td>\n",
       "      <td>40.00</td>\n",
       "      <td>0.000014</td>\n",
       "      <td>0.000000</td>\n",
       "      <td>0.000014</td>\n",
       "      <td>0.223675</td>\n",
       "      <td>0.000225</td>\n",
       "      <td>0.001850</td>\n",
       "    </tr>\n",
       "    <tr>\n",
       "      <th>2697</th>\n",
       "      <td>2015.0</td>\n",
       "      <td>Black Hills/Colorado Elec.Util</td>\n",
       "      <td>CO</td>\n",
       "      <td>1918199.0</td>\n",
       "      <td>94835.0</td>\n",
       "      <td>56146.0</td>\n",
       "      <td>Investor Owned</td>\n",
       "      <td>81.834</td>\n",
       "      <td>1.257</td>\n",
       "      <td>65.102625</td>\n",
       "      <td>...</td>\n",
       "      <td>0.000</td>\n",
       "      <td>24140.0</td>\n",
       "      <td>0.0</td>\n",
       "      <td>0.00</td>\n",
       "      <td>0.000000</td>\n",
       "      <td>0.000000</td>\n",
       "      <td>0.000000</td>\n",
       "      <td>1.258472</td>\n",
       "      <td>0.000000</td>\n",
       "      <td>0.000000</td>\n",
       "    </tr>\n",
       "    <tr>\n",
       "      <th>2698</th>\n",
       "      <td>2015.0</td>\n",
       "      <td>Liberty Utilities</td>\n",
       "      <td>CA</td>\n",
       "      <td>527811.0</td>\n",
       "      <td>47867.0</td>\n",
       "      <td>57483.0</td>\n",
       "      <td>Investor Owned</td>\n",
       "      <td>357.500</td>\n",
       "      <td>2.01</td>\n",
       "      <td>177.8607</td>\n",
       "      <td>...</td>\n",
       "      <td>0.000</td>\n",
       "      <td>1831.0</td>\n",
       "      <td>0.0</td>\n",
       "      <td>0.00</td>\n",
       "      <td>0.000000</td>\n",
       "      <td>0.000000</td>\n",
       "      <td>0.000000</td>\n",
       "      <td>0.346904</td>\n",
       "      <td>0.000000</td>\n",
       "      <td>0.000000</td>\n",
       "    </tr>\n",
       "  </tbody>\n",
       "</table>\n",
       "<p>2699 rows × 28 columns</p>\n",
       "</div>"
      ],
      "text/plain": [
       "        year                            name state   total_mwh  total_cust  \\\n",
       "0     2019.0             Adams Electric Coop    IL    176102.0      8931.0   \n",
       "1     2019.0    Adams-Columbia Electric Coop    WI    515186.0     37607.0   \n",
       "2     2019.0          Agralite Electric Coop    MN    238558.0      5251.0   \n",
       "3     2019.0         Aiken Electric Coop Inc    SC    938436.0     48059.0   \n",
       "4     2019.0  Alaska Electric Light&Power Co    AK    337796.0     17280.0   \n",
       "...      ...                             ...   ...         ...         ...   \n",
       "2694  2015.0  Southwest Iowa Rural Elec Coop    IA     98071.0      5909.0   \n",
       "2695  2015.0    Entergy Gulf States - LA LLC    LA  16316827.0    298980.0   \n",
       "2696  2015.0              Entergy Texas Inc.    TX  17748084.0    432372.0   \n",
       "2697  2015.0  Black Hills/Colorado Elec.Util    CO   1918199.0     94835.0   \n",
       "2698  2015.0               Liberty Utilities    CA    527811.0     47867.0   \n",
       "\n",
       "           no            type  saidi_nomed saifi_nomed caidi_nomed  ...  \\\n",
       "0        97.0     Cooperative      169.740        1.29    131.5814  ...   \n",
       "1       108.0     Cooperative      139.900        0.95   147.26316  ...   \n",
       "2       155.0     Cooperative      128.759       1.181    109.0254  ...   \n",
       "3       162.0     Cooperative       97.720           .           .  ...   \n",
       "4       213.0  Investor Owned       79.000        2.08   37.980769  ...   \n",
       "...       ...             ...          ...         ...         ...  ...   \n",
       "2694  49986.0     Cooperative       66.364       0.863   76.899189  ...   \n",
       "2695  55936.0  Investor Owned      148.800       1.276   116.61442  ...   \n",
       "2696  55937.0  Investor Owned      204.800       1.692   121.04019  ...   \n",
       "2697  56146.0  Investor Owned       81.834       1.257   65.102625  ...   \n",
       "2698  57483.0  Investor Owned      357.500        2.01    177.8607  ...   \n",
       "\n",
       "       nm_mwh   ee_mwh dem_res_customers  dem_res_mwh    pv_pct  wind_pct  \\\n",
       "0       0.000      0.0            4402.0         0.00  0.000000  0.000000   \n",
       "1     728.010      0.0            4781.0     13647.36  0.136994  0.004316   \n",
       "2       0.000      0.0               0.0         0.00  0.000000  0.000000   \n",
       "3     354.456      3.0               0.0         0.00  0.037771  0.000000   \n",
       "4       0.000      0.0            2386.0         0.00  0.000000  0.000000   \n",
       "...       ...      ...               ...          ...       ...       ...   \n",
       "2694    0.000      0.0               0.0         0.00  0.000000  0.000000   \n",
       "2695    0.000   9221.0               0.0         0.00  0.000000  0.000000   \n",
       "2696    2.509  39698.0               8.0        40.00  0.000014  0.000000   \n",
       "2697    0.000  24140.0               0.0         0.00  0.000000  0.000000   \n",
       "2698    0.000   1831.0               0.0         0.00  0.000000  0.000000   \n",
       "\n",
       "        nm_pct    ee_pct  dem_res_pct  dem_res_cust_pct  \n",
       "0     0.000000  0.000000     0.000000         49.288993  \n",
       "1     0.141310  0.000000     2.649016         12.713059  \n",
       "2     0.000000  0.000000     0.000000          0.000000  \n",
       "3     0.037771  0.000320     0.000000          0.000000  \n",
       "4     0.000000  0.000000     0.000000         13.807870  \n",
       "...        ...       ...          ...               ...  \n",
       "2694  0.000000  0.000000     0.000000          0.000000  \n",
       "2695  0.000000  0.056512     0.000000          0.000000  \n",
       "2696  0.000014  0.223675     0.000225          0.001850  \n",
       "2697  0.000000  1.258472     0.000000          0.000000  \n",
       "2698  0.000000  0.346904     0.000000          0.000000  \n",
       "\n",
       "[2699 rows x 28 columns]"
      ]
     },
     "execution_count": 60,
     "metadata": {},
     "output_type": "execute_result"
    }
   ],
   "source": [
    "df"
   ]
  },
  {
   "cell_type": "markdown",
   "metadata": {},
   "source": [
    "## Continuous Variables"
   ]
  },
  {
   "cell_type": "code",
   "execution_count": 61,
   "metadata": {},
   "outputs": [
    {
     "data": {
      "image/png": "[encoded data removed]",
      "text/plain": [
       "<Figure size 1000x500 with 10 Axes>"
      ]
     },
     "metadata": {},
     "output_type": "display_data"
    },
    {
     "data": {
      "text/plain": [
       "<ggplot: (8790593060809)>"
      ]
     },
     "execution_count": 61,
     "metadata": {},
     "output_type": "execute_result"
    }
   ],
   "source": [
    "# Plot the continuous variables \n",
    "df_num = train_X.select_dtypes(include=\"number\").melt()\n",
    "\n",
    "(\n",
    "    ggplot(df_num,aes(x=\"value\")) +\n",
    "    geom_histogram(bins=25) +\n",
    "    facet_wrap(\"variable\",scales='free') +\n",
    "    theme(figure_size=(10,5),\n",
    "          subplots_adjust={'wspace':0.25})\n",
    ")"
   ]
  },
  {
   "cell_type": "markdown",
   "metadata": {},
   "source": [
    "## Categorical Variables"
   ]
  },
  {
   "cell_type": "code",
   "execution_count": 62,
   "metadata": {},
   "outputs": [
    {
     "data": {
      "image/png": "[encoded data removed]",
      "text/plain": [
       "<Figure size 1000x600 with 4 Axes>"
      ]
     },
     "metadata": {},
     "output_type": "display_data"
    },
    {
     "data": {
      "text/plain": [
       "<ggplot: (8790592796253)>"
      ]
     },
     "execution_count": 62,
     "metadata": {},
     "output_type": "execute_result"
    }
   ],
   "source": [
    "# plot distributions of categorical variables\n",
    "df_cat = train_X.select_dtypes(include=\"category\").melt()\n",
    "\n",
    "(\n",
    "    ggplot(df_cat,aes(x=\"value\")) +\n",
    "    geom_bar() +\n",
    "    facet_wrap(\"variable\",scales='free') +\n",
    "    theme(figure_size=(10,6),\n",
    "          subplots_adjust={'wspace':0.25,\n",
    "                           'hspace':0.75},\n",
    "         axis_text_x=element_text(rotation=45, hjust=1))\n",
    ")"
   ]
  },
  {
   "cell_type": "markdown",
   "metadata": {},
   "source": [
    "### Let's dummify NERC regions, state, and utility type"
   ]
  },
  {
   "cell_type": "code",
   "execution_count": 65,
   "metadata": {
    "scrolled": true
   },
   "outputs": [
    {
     "data": {
      "text/html": [
       "<div>\n",
       "<style scoped>\n",
       "    .dataframe tbody tr th:only-of-type {\n",
       "        vertical-align: middle;\n",
       "    }\n",
       "\n",
       "    .dataframe tbody tr th {\n",
       "        vertical-align: top;\n",
       "    }\n",
       "\n",
       "    .dataframe thead th {\n",
       "        text-align: right;\n",
       "    }\n",
       "</style>\n",
       "<table border=\"1\" class=\"dataframe\">\n",
       "  <thead>\n",
       "    <tr style=\"text-align: right;\">\n",
       "      <th></th>\n",
       "      <th>AK</th>\n",
       "      <th>ECAR</th>\n",
       "      <th>FRCC</th>\n",
       "      <th>HI</th>\n",
       "      <th>MISO</th>\n",
       "      <th>MRO</th>\n",
       "      <th>NPCC</th>\n",
       "      <th>RFC</th>\n",
       "      <th>SERC</th>\n",
       "      <th>SPP</th>\n",
       "      <th>TRE</th>\n",
       "      <th>WECC</th>\n",
       "      <th>serc</th>\n",
       "    </tr>\n",
       "  </thead>\n",
       "  <tbody>\n",
       "    <tr>\n",
       "      <th>0</th>\n",
       "      <td>0</td>\n",
       "      <td>0</td>\n",
       "      <td>0</td>\n",
       "      <td>0</td>\n",
       "      <td>0</td>\n",
       "      <td>0</td>\n",
       "      <td>0</td>\n",
       "      <td>0</td>\n",
       "      <td>1</td>\n",
       "      <td>0</td>\n",
       "      <td>0</td>\n",
       "      <td>0</td>\n",
       "      <td>0</td>\n",
       "    </tr>\n",
       "    <tr>\n",
       "      <th>1</th>\n",
       "      <td>0</td>\n",
       "      <td>0</td>\n",
       "      <td>0</td>\n",
       "      <td>0</td>\n",
       "      <td>0</td>\n",
       "      <td>1</td>\n",
       "      <td>0</td>\n",
       "      <td>0</td>\n",
       "      <td>0</td>\n",
       "      <td>0</td>\n",
       "      <td>0</td>\n",
       "      <td>0</td>\n",
       "      <td>0</td>\n",
       "    </tr>\n",
       "    <tr>\n",
       "      <th>2</th>\n",
       "      <td>0</td>\n",
       "      <td>0</td>\n",
       "      <td>0</td>\n",
       "      <td>0</td>\n",
       "      <td>0</td>\n",
       "      <td>1</td>\n",
       "      <td>0</td>\n",
       "      <td>0</td>\n",
       "      <td>0</td>\n",
       "      <td>0</td>\n",
       "      <td>0</td>\n",
       "      <td>0</td>\n",
       "      <td>0</td>\n",
       "    </tr>\n",
       "    <tr>\n",
       "      <th>3</th>\n",
       "      <td>0</td>\n",
       "      <td>0</td>\n",
       "      <td>0</td>\n",
       "      <td>0</td>\n",
       "      <td>0</td>\n",
       "      <td>0</td>\n",
       "      <td>0</td>\n",
       "      <td>0</td>\n",
       "      <td>1</td>\n",
       "      <td>0</td>\n",
       "      <td>0</td>\n",
       "      <td>0</td>\n",
       "      <td>0</td>\n",
       "    </tr>\n",
       "    <tr>\n",
       "      <th>4</th>\n",
       "      <td>1</td>\n",
       "      <td>0</td>\n",
       "      <td>0</td>\n",
       "      <td>0</td>\n",
       "      <td>0</td>\n",
       "      <td>0</td>\n",
       "      <td>0</td>\n",
       "      <td>0</td>\n",
       "      <td>0</td>\n",
       "      <td>0</td>\n",
       "      <td>0</td>\n",
       "      <td>0</td>\n",
       "      <td>0</td>\n",
       "    </tr>\n",
       "  </tbody>\n",
       "</table>\n",
       "</div>"
      ],
      "text/plain": [
       "   AK  ECAR  FRCC  HI  MISO  MRO  NPCC  RFC  SERC  SPP  TRE  WECC  serc\n",
       "0   0     0     0   0     0    0     0    0     1    0    0     0     0\n",
       "1   0     0     0   0     0    1     0    0     0    0    0     0     0\n",
       "2   0     0     0   0     0    1     0    0     0    0    0     0     0\n",
       "3   0     0     0   0     0    0     0    0     1    0    0     0     0\n",
       "4   1     0     0   0     0    0     0    0     0    0    0     0     0"
      ]
     },
     "execution_count": 65,
     "metadata": {},
     "output_type": "execute_result"
    }
   ],
   "source": [
    "nerc_dummies = pd.get_dummies(df.nerc)\n",
    "nerc_dummies"
   ]
  },
  {
   "cell_type": "code",
   "execution_count": 66,
   "metadata": {},
   "outputs": [],
   "source": [
    "# we'll use AK as our reference category\n",
    "nerc_dummies = nerc_dummies.drop(['AK'],axis=1)"
   ]
  },
  {
   "cell_type": "code",
   "execution_count": 67,
   "metadata": {},
   "outputs": [],
   "source": [
    "df = pd.concat([df.drop(['nerc'],axis=1),nerc_dummies],axis=1)"
   ]
  },
  {
   "cell_type": "code",
   "execution_count": 68,
   "metadata": {},
   "outputs": [],
   "source": [
    "type_dummies = pd.get_dummies(df.type)"
   ]
  },
  {
   "cell_type": "code",
   "execution_count": 69,
   "metadata": {},
   "outputs": [
    {
     "data": {
      "text/html": [
       "<div>\n",
       "<style scoped>\n",
       "    .dataframe tbody tr th:only-of-type {\n",
       "        vertical-align: middle;\n",
       "    }\n",
       "\n",
       "    .dataframe tbody tr th {\n",
       "        vertical-align: top;\n",
       "    }\n",
       "\n",
       "    .dataframe thead th {\n",
       "        text-align: right;\n",
       "    }\n",
       "</style>\n",
       "<table border=\"1\" class=\"dataframe\">\n",
       "  <thead>\n",
       "    <tr style=\"text-align: right;\">\n",
       "      <th></th>\n",
       "      <th>Cooperative</th>\n",
       "      <th>Investor Owned</th>\n",
       "      <th>Municipal</th>\n",
       "      <th>Political Subdivision</th>\n",
       "    </tr>\n",
       "  </thead>\n",
       "  <tbody>\n",
       "    <tr>\n",
       "      <th>0</th>\n",
       "      <td>1</td>\n",
       "      <td>0</td>\n",
       "      <td>0</td>\n",
       "      <td>0</td>\n",
       "    </tr>\n",
       "    <tr>\n",
       "      <th>1</th>\n",
       "      <td>1</td>\n",
       "      <td>0</td>\n",
       "      <td>0</td>\n",
       "      <td>0</td>\n",
       "    </tr>\n",
       "    <tr>\n",
       "      <th>2</th>\n",
       "      <td>1</td>\n",
       "      <td>0</td>\n",
       "      <td>0</td>\n",
       "      <td>0</td>\n",
       "    </tr>\n",
       "    <tr>\n",
       "      <th>3</th>\n",
       "      <td>1</td>\n",
       "      <td>0</td>\n",
       "      <td>0</td>\n",
       "      <td>0</td>\n",
       "    </tr>\n",
       "    <tr>\n",
       "      <th>4</th>\n",
       "      <td>0</td>\n",
       "      <td>1</td>\n",
       "      <td>0</td>\n",
       "      <td>0</td>\n",
       "    </tr>\n",
       "  </tbody>\n",
       "</table>\n",
       "</div>"
      ],
      "text/plain": [
       "   Cooperative  Investor Owned  Municipal  Political Subdivision\n",
       "0            1               0          0                      0\n",
       "1            1               0          0                      0\n",
       "2            1               0          0                      0\n",
       "3            1               0          0                      0\n",
       "4            0               1          0                      0"
      ]
     },
     "execution_count": 69,
     "metadata": {},
     "output_type": "execute_result"
    }
   ],
   "source": [
    "# we'll use State as our reference category\n",
    "type_dummies = type_dummies.drop(['State'],axis=1)\n",
    "type_dummies.head()"
   ]
  },
  {
   "cell_type": "code",
   "execution_count": 70,
   "metadata": {},
   "outputs": [],
   "source": [
    "df = pd.concat([df.drop(['type'],axis=1),type_dummies],axis=1)"
   ]
  },
  {
   "cell_type": "code",
   "execution_count": 71,
   "metadata": {},
   "outputs": [],
   "source": [
    "state_dummies = pd.get_dummies(df.state)"
   ]
  },
  {
   "cell_type": "code",
   "execution_count": 72,
   "metadata": {},
   "outputs": [
    {
     "data": {
      "text/html": [
       "<div>\n",
       "<style scoped>\n",
       "    .dataframe tbody tr th:only-of-type {\n",
       "        vertical-align: middle;\n",
       "    }\n",
       "\n",
       "    .dataframe tbody tr th {\n",
       "        vertical-align: top;\n",
       "    }\n",
       "\n",
       "    .dataframe thead th {\n",
       "        text-align: right;\n",
       "    }\n",
       "</style>\n",
       "<table border=\"1\" class=\"dataframe\">\n",
       "  <thead>\n",
       "    <tr style=\"text-align: right;\">\n",
       "      <th></th>\n",
       "      <th>AL</th>\n",
       "      <th>AR</th>\n",
       "      <th>AZ</th>\n",
       "      <th>CA</th>\n",
       "      <th>CO</th>\n",
       "      <th>CT</th>\n",
       "      <th>DC</th>\n",
       "      <th>DE</th>\n",
       "      <th>FL</th>\n",
       "      <th>GA</th>\n",
       "      <th>...</th>\n",
       "      <th>SD</th>\n",
       "      <th>TN</th>\n",
       "      <th>TX</th>\n",
       "      <th>UT</th>\n",
       "      <th>VA</th>\n",
       "      <th>VT</th>\n",
       "      <th>WA</th>\n",
       "      <th>WI</th>\n",
       "      <th>WV</th>\n",
       "      <th>WY</th>\n",
       "    </tr>\n",
       "  </thead>\n",
       "  <tbody>\n",
       "    <tr>\n",
       "      <th>0</th>\n",
       "      <td>0</td>\n",
       "      <td>0</td>\n",
       "      <td>0</td>\n",
       "      <td>0</td>\n",
       "      <td>0</td>\n",
       "      <td>0</td>\n",
       "      <td>0</td>\n",
       "      <td>0</td>\n",
       "      <td>0</td>\n",
       "      <td>0</td>\n",
       "      <td>...</td>\n",
       "      <td>0</td>\n",
       "      <td>0</td>\n",
       "      <td>0</td>\n",
       "      <td>0</td>\n",
       "      <td>0</td>\n",
       "      <td>0</td>\n",
       "      <td>0</td>\n",
       "      <td>0</td>\n",
       "      <td>0</td>\n",
       "      <td>0</td>\n",
       "    </tr>\n",
       "    <tr>\n",
       "      <th>1</th>\n",
       "      <td>0</td>\n",
       "      <td>0</td>\n",
       "      <td>0</td>\n",
       "      <td>0</td>\n",
       "      <td>0</td>\n",
       "      <td>0</td>\n",
       "      <td>0</td>\n",
       "      <td>0</td>\n",
       "      <td>0</td>\n",
       "      <td>0</td>\n",
       "      <td>...</td>\n",
       "      <td>0</td>\n",
       "      <td>0</td>\n",
       "      <td>0</td>\n",
       "      <td>0</td>\n",
       "      <td>0</td>\n",
       "      <td>0</td>\n",
       "      <td>0</td>\n",
       "      <td>1</td>\n",
       "      <td>0</td>\n",
       "      <td>0</td>\n",
       "    </tr>\n",
       "    <tr>\n",
       "      <th>2</th>\n",
       "      <td>0</td>\n",
       "      <td>0</td>\n",
       "      <td>0</td>\n",
       "      <td>0</td>\n",
       "      <td>0</td>\n",
       "      <td>0</td>\n",
       "      <td>0</td>\n",
       "      <td>0</td>\n",
       "      <td>0</td>\n",
       "      <td>0</td>\n",
       "      <td>...</td>\n",
       "      <td>0</td>\n",
       "      <td>0</td>\n",
       "      <td>0</td>\n",
       "      <td>0</td>\n",
       "      <td>0</td>\n",
       "      <td>0</td>\n",
       "      <td>0</td>\n",
       "      <td>0</td>\n",
       "      <td>0</td>\n",
       "      <td>0</td>\n",
       "    </tr>\n",
       "    <tr>\n",
       "      <th>3</th>\n",
       "      <td>0</td>\n",
       "      <td>0</td>\n",
       "      <td>0</td>\n",
       "      <td>0</td>\n",
       "      <td>0</td>\n",
       "      <td>0</td>\n",
       "      <td>0</td>\n",
       "      <td>0</td>\n",
       "      <td>0</td>\n",
       "      <td>0</td>\n",
       "      <td>...</td>\n",
       "      <td>0</td>\n",
       "      <td>0</td>\n",
       "      <td>0</td>\n",
       "      <td>0</td>\n",
       "      <td>0</td>\n",
       "      <td>0</td>\n",
       "      <td>0</td>\n",
       "      <td>0</td>\n",
       "      <td>0</td>\n",
       "      <td>0</td>\n",
       "    </tr>\n",
       "    <tr>\n",
       "      <th>4</th>\n",
       "      <td>0</td>\n",
       "      <td>0</td>\n",
       "      <td>0</td>\n",
       "      <td>0</td>\n",
       "      <td>0</td>\n",
       "      <td>0</td>\n",
       "      <td>0</td>\n",
       "      <td>0</td>\n",
       "      <td>0</td>\n",
       "      <td>0</td>\n",
       "      <td>...</td>\n",
       "      <td>0</td>\n",
       "      <td>0</td>\n",
       "      <td>0</td>\n",
       "      <td>0</td>\n",
       "      <td>0</td>\n",
       "      <td>0</td>\n",
       "      <td>0</td>\n",
       "      <td>0</td>\n",
       "      <td>0</td>\n",
       "      <td>0</td>\n",
       "    </tr>\n",
       "  </tbody>\n",
       "</table>\n",
       "<p>5 rows × 50 columns</p>\n",
       "</div>"
      ],
      "text/plain": [
       "   AL  AR  AZ  CA  CO  CT  DC  DE  FL  GA  ...  SD  TN  TX  UT  VA  VT  WA  \\\n",
       "0   0   0   0   0   0   0   0   0   0   0  ...   0   0   0   0   0   0   0   \n",
       "1   0   0   0   0   0   0   0   0   0   0  ...   0   0   0   0   0   0   0   \n",
       "2   0   0   0   0   0   0   0   0   0   0  ...   0   0   0   0   0   0   0   \n",
       "3   0   0   0   0   0   0   0   0   0   0  ...   0   0   0   0   0   0   0   \n",
       "4   0   0   0   0   0   0   0   0   0   0  ...   0   0   0   0   0   0   0   \n",
       "\n",
       "   WI  WV  WY  \n",
       "0   0   0   0  \n",
       "1   1   0   0  \n",
       "2   0   0   0  \n",
       "3   0   0   0  \n",
       "4   0   0   0  \n",
       "\n",
       "[5 rows x 50 columns]"
      ]
     },
     "execution_count": 72,
     "metadata": {},
     "output_type": "execute_result"
    }
   ],
   "source": [
    "# we'll use AK as our reference category\n",
    "state_dummies = state_dummies.drop(['AK'],axis=1)\n",
    "state_dummies.head()"
   ]
  },
  {
   "cell_type": "code",
   "execution_count": 73,
   "metadata": {},
   "outputs": [],
   "source": [
    "df = pd.concat([df.drop(['state'],axis=1),state_dummies],axis=1)"
   ]
  },
  {
   "cell_type": "markdown",
   "metadata": {},
   "source": [
    "### Check dummifed categorical variables (continuous now)"
   ]
  },
  {
   "cell_type": "code",
   "execution_count": 97,
   "metadata": {},
   "outputs": [],
   "source": [
    "y = df['saidi_nomed']\n",
    "X = df.drop(columns=['no','name','total_cust','ba','year',\n",
    "                       'saidi_nomed','saifi_nomed', 'caidi_nomed',\n",
    "                       'gen_mwh', 'purchase_mwh', \n",
    "                       'pv_mwh', 'wind_mwh', 'nm_mwh', 'ee_mwh',\n",
    "                       'dem_res_customers', 'dem_res_mwh',\n",
    "                        'nm_pct'])"
   ]
  },
  {
   "cell_type": "code",
   "execution_count": 98,
   "metadata": {},
   "outputs": [],
   "source": [
    "train_X, test_X, train_y, test_y = train_test_split(X,y,test_size=.25,random_state=1997)"
   ]
  },
  {
   "cell_type": "markdown",
   "metadata": {},
   "source": [
    "## Run Median Method"
   ]
  },
  {
   "cell_type": "code",
   "execution_count": 81,
   "metadata": {},
   "outputs": [
    {
     "data": {
      "text/plain": [
       "Index(['total_mwh', 'circuits', 'voltage', 'pv_pct', 'wind_pct', 'ee_pct',\n",
       "       'dem_res_pct', 'dem_res_cust_pct'],\n",
       "      dtype='object')"
      ]
     },
     "execution_count": 81,
     "metadata": {},
     "output_type": "execute_result"
    }
   ],
   "source": [
    "# all columns before the dummies\n",
    "train_X.iloc[:,1:9].columns"
   ]
  },
  {
   "cell_type": "code",
   "execution_count": 85,
   "metadata": {},
   "outputs": [],
   "source": [
    "# Version 2 use the medians and log total_mwh and circuits because that works\n",
    "df_med = df.copy() \n",
    "\n",
    "# total_mwh and circuits logged\n",
    "df_med['total_mwh'] = np.log(df['total_mwh'])\n",
    "df_med['circuits'] = np.log(df['circuits'])\n",
    "\n",
    "# voltage pct\n",
    "median_voltage_pct = df.loc[df_med['voltage'] > 0,'voltage'].median()\n",
    "df_med['voltage'] =  np.where(df_med['voltage']==0,0,np.where(df_med['voltage'] <= median_voltage_pct,1,2))\n",
    "\n",
    "# pv pct\n",
    "median_pv_pct = df.loc[df_med['pv_pct'] > 0,'pv_pct'].median()\n",
    "df_med['pv_pct'] =  np.where(df_med['pv_pct']==0,0,np.where(df_med['pv_pct'] <= median_pv_pct,1,2))\n",
    "\n",
    "# wind pct\n",
    "median_wind_pct = df_med.loc[df_med['wind_pct'] > 0,'wind_pct'].median()\n",
    "df_med['wind_pct'] =  np.where(df_med['wind_pct']==0,0,np.where(df_med['wind_pct'] <= median_wind_pct,1,2))\n",
    "\n",
    "# energy efficiency pct\n",
    "median_ee_pct = df_med.loc[df_med['ee_pct'] > 0,'ee_pct'].median()\n",
    "df_med['ee_pct'] =  np.where(df_med['ee_pct']==0,0,np.where(df_med['ee_pct'] <= median_ee_pct,1,2))\n",
    "\n",
    "# demand response pct\n",
    "median_dr_pct = df_med.loc[df_med['dem_res_pct'] > 0,'dem_res_pct'].median()\n",
    "df_med['dem_res_pct'] =  np.where(df_med['dem_res_pct']==0,0,np.where(df_med['dem_res_pct'] <= median_dr_pct,1,2))\n",
    "\n",
    "# demand response customer pct\n",
    "median_drc_pct = df_med.loc[df_med['dem_res_cust_pct'] > 0,'dem_res_cust_pct'].median()\n",
    "df_med['dem_res_cust_pct'] =  np.where(df_med['dem_res_cust_pct']==0,0,np.where(df_med['dem_res_cust_pct'] <= median_drc_pct,1,2))"
   ]
  },
  {
   "cell_type": "code",
   "execution_count": 99,
   "metadata": {},
   "outputs": [],
   "source": [
    "y = df_med['saidi_nomed']\n",
    "X = df_med.drop(columns=['no','name','total_cust','ba', 'year',\n",
    "                       'saidi_nomed','saifi_nomed', 'caidi_nomed',\n",
    "                       'gen_mwh', 'purchase_mwh', \n",
    "                       'pv_mwh', 'wind_mwh', 'nm_mwh', 'ee_mwh',\n",
    "                       'dem_res_customers', 'dem_res_mwh',\n",
    "                        'nm_pct'])\n",
    "train_X_med, test_X_med, train_y_med, test_y_med = train_test_split(X,y,test_size=.25,random_state=1997)"
   ]
  },
  {
   "cell_type": "code",
   "execution_count": 100,
   "metadata": {},
   "outputs": [
    {
     "data": {
      "image/png": "[encoded data removed]",
      "text/plain": [
       "<Figure size 1000x500 with 8 Axes>"
      ]
     },
     "metadata": {},
     "output_type": "display_data"
    },
    {
     "data": {
      "text/plain": [
       "<ggplot: (8790591409701)>"
      ]
     },
     "execution_count": 100,
     "metadata": {},
     "output_type": "execute_result"
    }
   ],
   "source": [
    "d = train_X.iloc[:,1:9]\n",
    "\n",
    "(\n",
    "    ggplot(d.melt(),aes(x=\"value\")) +\n",
    "    geom_histogram(bins=25) +\n",
    "    facet_wrap(\"variable\",scales='free') +\n",
    "    theme(figure_size=(10,5),\n",
    "          subplots_adjust={'wspace':0.25})\n",
    ")"
   ]
  },
  {
   "cell_type": "markdown",
   "metadata": {},
   "source": [
    "## Try them one by one"
   ]
  },
  {
   "cell_type": "code",
   "execution_count": 114,
   "metadata": {},
   "outputs": [],
   "source": [
    "# EVERYTHING must hold constant other than the algorithm because we're looking for the best algorithm \n",
    "fold_generator = KFold(n_splits=5, shuffle=True,random_state=111) # make sure splits are same with random state"
   ]
  },
  {
   "cell_type": "code",
   "execution_count": 115,
   "metadata": {},
   "outputs": [
    {
     "data": {
      "text/plain": [
       "sklearn.model_selection._split.KFold"
      ]
     },
     "execution_count": 115,
     "metadata": {},
     "output_type": "execute_result"
    }
   ],
   "source": [
    "type(fold_generator)"
   ]
  },
  {
   "cell_type": "code",
   "execution_count": 116,
   "metadata": {},
   "outputs": [],
   "source": [
    "# just MSE but negative, used by sklearn\n",
    "use_metrics = [\"neg_mean_squared_error\"] "
   ]
  },
  {
   "cell_type": "code",
   "execution_count": 117,
   "metadata": {
    "scrolled": true
   },
   "outputs": [],
   "source": [
    "lm_scores = cross_validate(LM(),train_X_med,train_y_med, cv = fold_generator, scoring =use_metrics)"
   ]
  },
  {
   "cell_type": "code",
   "execution_count": 118,
   "metadata": {},
   "outputs": [],
   "source": [
    "mod = LM()"
   ]
  },
  {
   "cell_type": "code",
   "execution_count": 120,
   "metadata": {},
   "outputs": [
    {
     "data": {
      "text/plain": [
       "LinearRegression(copy_X=True, fit_intercept=True, n_jobs=None, normalize=False)"
      ]
     },
     "execution_count": 120,
     "metadata": {},
     "output_type": "execute_result"
    }
   ],
   "source": [
    "mod.fit(train_X_med, train_y_med)"
   ]
  },
  {
   "cell_type": "code",
   "execution_count": 121,
   "metadata": {},
   "outputs": [],
   "source": [
    "knn_scores = cross_validate(KNN(),train_X_med,train_y_med, cv = fold_generator, scoring =use_metrics)"
   ]
  },
  {
   "cell_type": "code",
   "execution_count": 122,
   "metadata": {},
   "outputs": [],
   "source": [
    "dt_scores = cross_validate(DTree(),train_X_med,train_y_med, cv = fold_generator, scoring =use_metrics)"
   ]
  },
  {
   "cell_type": "code",
   "execution_count": 123,
   "metadata": {},
   "outputs": [],
   "source": [
    "bag_scores = cross_validate(Bag(),train_X,train_y, cv = fold_generator, scoring =use_metrics)"
   ]
  },
  {
   "cell_type": "code",
   "execution_count": 124,
   "metadata": {},
   "outputs": [],
   "source": [
    "# takes longer, because 1000 models \n",
    "rf_scores = cross_validate(RF(),train_X_med,train_y_med, cv = fold_generator, scoring =use_metrics)"
   ]
  },
  {
   "cell_type": "code",
   "execution_count": 125,
   "metadata": {},
   "outputs": [
    {
     "data": {
      "text/html": [
       "<div>\n",
       "<style scoped>\n",
       "    .dataframe tbody tr th:only-of-type {\n",
       "        vertical-align: middle;\n",
       "    }\n",
       "\n",
       "    .dataframe tbody tr th {\n",
       "        vertical-align: top;\n",
       "    }\n",
       "\n",
       "    .dataframe thead th {\n",
       "        text-align: right;\n",
       "    }\n",
       "</style>\n",
       "<table border=\"1\" class=\"dataframe\">\n",
       "  <thead>\n",
       "    <tr style=\"text-align: right;\">\n",
       "      <th></th>\n",
       "      <th>Model</th>\n",
       "      <th>MSE</th>\n",
       "    </tr>\n",
       "  </thead>\n",
       "  <tbody>\n",
       "    <tr>\n",
       "      <th>0</th>\n",
       "      <td>lm</td>\n",
       "      <td>1.188094e+04</td>\n",
       "    </tr>\n",
       "    <tr>\n",
       "      <th>1</th>\n",
       "      <td>lm</td>\n",
       "      <td>2.401518e+24</td>\n",
       "    </tr>\n",
       "    <tr>\n",
       "      <th>2</th>\n",
       "      <td>lm</td>\n",
       "      <td>2.906278e+04</td>\n",
       "    </tr>\n",
       "    <tr>\n",
       "      <th>3</th>\n",
       "      <td>lm</td>\n",
       "      <td>1.025469e+05</td>\n",
       "    </tr>\n",
       "    <tr>\n",
       "      <th>4</th>\n",
       "      <td>lm</td>\n",
       "      <td>1.517612e+04</td>\n",
       "    </tr>\n",
       "    <tr>\n",
       "      <th>5</th>\n",
       "      <td>knn</td>\n",
       "      <td>1.063411e+04</td>\n",
       "    </tr>\n",
       "    <tr>\n",
       "      <th>6</th>\n",
       "      <td>knn</td>\n",
       "      <td>2.396739e+04</td>\n",
       "    </tr>\n",
       "    <tr>\n",
       "      <th>7</th>\n",
       "      <td>knn</td>\n",
       "      <td>1.784989e+04</td>\n",
       "    </tr>\n",
       "    <tr>\n",
       "      <th>8</th>\n",
       "      <td>knn</td>\n",
       "      <td>1.064814e+05</td>\n",
       "    </tr>\n",
       "    <tr>\n",
       "      <th>9</th>\n",
       "      <td>knn</td>\n",
       "      <td>1.762981e+04</td>\n",
       "    </tr>\n",
       "    <tr>\n",
       "      <th>10</th>\n",
       "      <td>dt</td>\n",
       "      <td>9.939283e+03</td>\n",
       "    </tr>\n",
       "    <tr>\n",
       "      <th>11</th>\n",
       "      <td>dt</td>\n",
       "      <td>2.157611e+04</td>\n",
       "    </tr>\n",
       "    <tr>\n",
       "      <th>12</th>\n",
       "      <td>dt</td>\n",
       "      <td>3.061934e+04</td>\n",
       "    </tr>\n",
       "    <tr>\n",
       "      <th>13</th>\n",
       "      <td>dt</td>\n",
       "      <td>1.034993e+05</td>\n",
       "    </tr>\n",
       "    <tr>\n",
       "      <th>14</th>\n",
       "      <td>dt</td>\n",
       "      <td>1.101258e+04</td>\n",
       "    </tr>\n",
       "    <tr>\n",
       "      <th>15</th>\n",
       "      <td>bag</td>\n",
       "      <td>7.106743e+03</td>\n",
       "    </tr>\n",
       "    <tr>\n",
       "      <th>16</th>\n",
       "      <td>bag</td>\n",
       "      <td>3.918552e+04</td>\n",
       "    </tr>\n",
       "    <tr>\n",
       "      <th>17</th>\n",
       "      <td>bag</td>\n",
       "      <td>1.085180e+04</td>\n",
       "    </tr>\n",
       "    <tr>\n",
       "      <th>18</th>\n",
       "      <td>bag</td>\n",
       "      <td>1.013122e+05</td>\n",
       "    </tr>\n",
       "    <tr>\n",
       "      <th>19</th>\n",
       "      <td>bag</td>\n",
       "      <td>1.110524e+04</td>\n",
       "    </tr>\n",
       "    <tr>\n",
       "      <th>20</th>\n",
       "      <td>rf</td>\n",
       "      <td>7.216430e+03</td>\n",
       "    </tr>\n",
       "    <tr>\n",
       "      <th>21</th>\n",
       "      <td>rf</td>\n",
       "      <td>2.239651e+04</td>\n",
       "    </tr>\n",
       "    <tr>\n",
       "      <th>22</th>\n",
       "      <td>rf</td>\n",
       "      <td>1.444146e+04</td>\n",
       "    </tr>\n",
       "    <tr>\n",
       "      <th>23</th>\n",
       "      <td>rf</td>\n",
       "      <td>1.032890e+05</td>\n",
       "    </tr>\n",
       "    <tr>\n",
       "      <th>24</th>\n",
       "      <td>rf</td>\n",
       "      <td>1.003668e+04</td>\n",
       "    </tr>\n",
       "  </tbody>\n",
       "</table>\n",
       "</div>"
      ],
      "text/plain": [
       "   Model           MSE\n",
       "0     lm  1.188094e+04\n",
       "1     lm  2.401518e+24\n",
       "2     lm  2.906278e+04\n",
       "3     lm  1.025469e+05\n",
       "4     lm  1.517612e+04\n",
       "5    knn  1.063411e+04\n",
       "6    knn  2.396739e+04\n",
       "7    knn  1.784989e+04\n",
       "8    knn  1.064814e+05\n",
       "9    knn  1.762981e+04\n",
       "10    dt  9.939283e+03\n",
       "11    dt  2.157611e+04\n",
       "12    dt  3.061934e+04\n",
       "13    dt  1.034993e+05\n",
       "14    dt  1.101258e+04\n",
       "15   bag  7.106743e+03\n",
       "16   bag  3.918552e+04\n",
       "17   bag  1.085180e+04\n",
       "18   bag  1.013122e+05\n",
       "19   bag  1.110524e+04\n",
       "20    rf  7.216430e+03\n",
       "21    rf  2.239651e+04\n",
       "22    rf  1.444146e+04\n",
       "23    rf  1.032890e+05\n",
       "24    rf  1.003668e+04"
      ]
     },
     "execution_count": 125,
     "metadata": {},
     "output_type": "execute_result"
    }
   ],
   "source": [
    "# Collect all the metrics we care about as a dictionary \n",
    "# name them by which method we used\n",
    "collect_scores = \\\n",
    "dict(lm = lm_scores['test_neg_mean_squared_error']*-1,\n",
    "     knn = knn_scores['test_neg_mean_squared_error']*-1,\n",
    "     dt = dt_scores['test_neg_mean_squared_error']*-1,\n",
    "     bag = bag_scores['test_neg_mean_squared_error']*-1,\n",
    "     rf = rf_scores['test_neg_mean_squared_error']*-1)\n",
    "\n",
    "# Convert to a data frame and reshape\n",
    "collect_scores = pd.DataFrame(collect_scores).melt(var_name=\"Model\",value_name=\"MSE\")\n",
    "collect_scores"
   ]
  },
  {
   "cell_type": "code",
   "execution_count": 126,
   "metadata": {},
   "outputs": [
    {
     "data": {
      "image/png": "[encoded data removed]",
      "text/plain": [
       "<Figure size 960x720 with 1 Axes>"
      ]
     },
     "metadata": {
      "needs_background": "light"
     },
     "output_type": "display_data"
    },
    {
     "data": {
      "text/plain": [
       "<ggplot: (8790591724329)>"
      ]
     },
     "execution_count": 126,
     "metadata": {},
     "output_type": "execute_result"
    }
   ],
   "source": [
    "# Get the order of the models\n",
    "order = (collect_scores.groupby('Model').mean().sort_values(by=\"MSE\").index.tolist())\n",
    "\n",
    "# Plot\n",
    "(\n",
    "    ggplot(collect_scores,\n",
    "          aes(x=\"Model\",y=\"MSE\")) +\n",
    "    geom_boxplot() +\n",
    "    scale_x_discrete(limits=order) +\n",
    "    labs(x=\"Model\",y=\"Mean Squared Error\") +\n",
    "    coord_flip() +\n",
    "    theme_minimal() +\n",
    "    theme(dpi=150)\n",
    ")"
   ]
  },
  {
   "cell_type": "markdown",
   "metadata": {},
   "source": [
    "## Tune RF"
   ]
  },
  {
   "cell_type": "code",
   "execution_count": 128,
   "metadata": {},
   "outputs": [],
   "source": [
    "rf_params = {'n_estimators':[1225,1250,1275]} \n",
    "tune_rf = GridSearchCV(RF(),rf_params,\n",
    "                        cv = fold_generator,\n",
    "                        scoring='neg_mean_squared_error',\n",
    "                        n_jobs=4,\n",
    "                        verbose=10)"
   ]
  },
  {
   "cell_type": "code",
   "execution_count": 129,
   "metadata": {},
   "outputs": [
    {
     "data": {
      "text/plain": [
       "GridSearchCV(cv=KFold(n_splits=5, random_state=111, shuffle=True),\n",
       "             error_score=nan,\n",
       "             estimator=RandomForestRegressor(bootstrap=True, ccp_alpha=0.0,\n",
       "                                             criterion='mse', max_depth=None,\n",
       "                                             max_features='auto',\n",
       "                                             max_leaf_nodes=None,\n",
       "                                             max_samples=None,\n",
       "                                             min_impurity_decrease=0.0,\n",
       "                                             min_impurity_split=None,\n",
       "                                             min_samples_leaf=1,\n",
       "                                             min_samples_split=2,\n",
       "                                             min_weight_fraction_leaf=0.0,\n",
       "                                             n_estimators=100, n_jobs=None,\n",
       "                                             oob_score=False, random_state=None,\n",
       "                                             verbose=0, warm_start=False),\n",
       "             iid='deprecated', n_jobs=4,\n",
       "             param_grid={'n_estimators': [1225, 1250, 1275]},\n",
       "             pre_dispatch='2*n_jobs', refit=True, return_train_score=False,\n",
       "             scoring='neg_mean_squared_error', verbose=0)"
      ]
     },
     "execution_count": 129,
     "metadata": {},
     "output_type": "execute_result"
    }
   ],
   "source": [
    "tune_rf.fit(train_X_med,train_y_med)"
   ]
  },
  {
   "cell_type": "code",
   "execution_count": 130,
   "metadata": {},
   "outputs": [
    {
     "data": {
      "text/plain": [
       "{'n_estimators': 1250}"
      ]
     },
     "execution_count": 130,
     "metadata": {},
     "output_type": "execute_result"
    }
   ],
   "source": [
    "tune_rf.best_params_"
   ]
  },
  {
   "cell_type": "code",
   "execution_count": 131,
   "metadata": {},
   "outputs": [
    {
     "data": {
      "text/plain": [
       "-31132.096258628917"
      ]
     },
     "execution_count": 131,
     "metadata": {},
     "output_type": "execute_result"
    }
   ],
   "source": [
    "tune_rf.best_score_"
   ]
  },
  {
   "cell_type": "code",
   "execution_count": null,
   "metadata": {},
   "outputs": [],
   "source": []
  },
  {
   "cell_type": "code",
   "execution_count": null,
   "metadata": {},
   "outputs": [],
   "source": []
  },
  {
   "cell_type": "code",
   "execution_count": null,
   "metadata": {},
   "outputs": [],
   "source": []
  },
  {
   "cell_type": "code",
   "execution_count": null,
   "metadata": {},
   "outputs": [],
   "source": []
  },
  {
   "cell_type": "code",
   "execution_count": null,
   "metadata": {},
   "outputs": [],
   "source": []
  },
  {
   "cell_type": "markdown",
   "metadata": {},
   "source": [
    "# Build ML Pipeline"
   ]
  },
  {
   "cell_type": "code",
   "execution_count": 89,
   "metadata": {},
   "outputs": [],
   "source": [
    "# Set the folds index to ensure comparable samples\n",
    "fold_generator = KFold(n_splits=10, shuffle=True,random_state=1234)"
   ]
  },
  {
   "cell_type": "code",
   "execution_count": 90,
   "metadata": {},
   "outputs": [],
   "source": [
    "preprocess = ColumnTransformer(transformers=[('num', pp.MinMaxScaler(),  make_column_selector(dtype_exclude=None))])"
   ]
  },
  {
   "cell_type": "code",
   "execution_count": 91,
   "metadata": {},
   "outputs": [],
   "source": [
    "# initialize our pipeline \n",
    "pipe = Pipeline(steps=[('pre_process', preprocess),\n",
    "                       ('model',None)])"
   ]
  },
  {
   "cell_type": "code",
   "execution_count": 92,
   "metadata": {},
   "outputs": [],
   "source": [
    "search_space = [\n",
    "    # Linear Model\n",
    "    {'model' : [LM()]},\n",
    "    \n",
    "    # KNN with K tuning param, use double underscore to separate model from its parameter__\n",
    "    {'model' : [KNN()],\n",
    "     'model__n_neighbors':[15,20,23,25]},\n",
    "    \n",
    "    # Decision Tree with the Max Depth Param\n",
    "    {'model': [DTree()],\n",
    "     'model__max_depth':[1,2,3]},\n",
    "    \n",
    "    # The Bagging decision tree model \n",
    "    {'model': [Bag()]},\n",
    "    \n",
    "    # Random forest with the N Estimators tuning param\n",
    "    {'model' : [RF()],\n",
    "     'model__max_depth':[1,2,3],\n",
    "     'model__n_estimators':[1225,1250,1275]},\n",
    "]"
   ]
  },
  {
   "cell_type": "code",
   "execution_count": 93,
   "metadata": {},
   "outputs": [],
   "source": [
    "search = GridSearchCV(pipe, search_space, \n",
    "                      cv = fold_generator,\n",
    "                      scoring='neg_mean_squared_error',\n",
    "                      n_jobs=4,\n",
    "                      verbose = 10)"
   ]
  },
  {
   "cell_type": "code",
   "execution_count": 101,
   "metadata": {},
   "outputs": [
    {
     "name": "stdout",
     "output_type": "stream",
     "text": [
      "Fitting 10 folds for each of 18 candidates, totalling 180 fits\n"
     ]
    },
    {
     "name": "stderr",
     "output_type": "stream",
     "text": [
      "[Parallel(n_jobs=4)]: Using backend LokyBackend with 4 concurrent workers.\n",
      "[Parallel(n_jobs=4)]: Done   5 tasks      | elapsed:    3.9s\n",
      "[Parallel(n_jobs=4)]: Done  10 tasks      | elapsed:    4.0s\n",
      "[Parallel(n_jobs=4)]: Done  17 tasks      | elapsed:    4.5s\n",
      "[Parallel(n_jobs=4)]: Done  24 tasks      | elapsed:    5.4s\n",
      "[Parallel(n_jobs=4)]: Done  33 tasks      | elapsed:    6.1s\n",
      "[Parallel(n_jobs=4)]: Done  42 tasks      | elapsed:    6.7s\n",
      "[Parallel(n_jobs=4)]: Done  53 tasks      | elapsed:    7.4s\n",
      "[Parallel(n_jobs=4)]: Done  64 tasks      | elapsed:    7.8s\n",
      "[Parallel(n_jobs=4)]: Done  77 tasks      | elapsed:    8.1s\n",
      "[Parallel(n_jobs=4)]: Batch computation too fast (0.1873s.) Setting batch_size=2.\n",
      "[Parallel(n_jobs=4)]: Done  92 tasks      | elapsed:   24.5s\n",
      "[Parallel(n_jobs=4)]: Batch computation too slow (4.5831s.) Setting batch_size=1.\n",
      "[Parallel(n_jobs=4)]: Done 117 tasks      | elapsed:   52.2s\n",
      "[Parallel(n_jobs=4)]: Done 132 tasks      | elapsed:  1.3min\n",
      "[Parallel(n_jobs=4)]: Done 149 tasks      | elapsed:  1.9min\n",
      "[Parallel(n_jobs=4)]: Done 166 tasks      | elapsed:  2.6min\n",
      "[Parallel(n_jobs=4)]: Done 180 out of 180 | elapsed:  3.2min finished\n"
     ]
    },
    {
     "data": {
      "text/plain": [
       "GridSearchCV(cv=KFold(n_splits=10, random_state=1234, shuffle=True),\n",
       "             error_score=nan,\n",
       "             estimator=Pipeline(memory=None,\n",
       "                                steps=[('pre_process',\n",
       "                                        ColumnTransformer(n_jobs=None,\n",
       "                                                          remainder='drop',\n",
       "                                                          sparse_threshold=0.3,\n",
       "                                                          transformer_weights=None,\n",
       "                                                          transformers=[('num',\n",
       "                                                                         MinMaxScaler(copy=True,\n",
       "                                                                                      feature_range=(0,\n",
       "                                                                                                     1)),\n",
       "                                                                         <sklearn.compose._column_transformer.make_column_selector...\n",
       "                                                          min_impurity_split=None,\n",
       "                                                          min_samples_leaf=1,\n",
       "                                                          min_samples_split=2,\n",
       "                                                          min_weight_fraction_leaf=0.0,\n",
       "                                                          n_estimators=100,\n",
       "                                                          n_jobs=None,\n",
       "                                                          oob_score=False,\n",
       "                                                          random_state=None,\n",
       "                                                          verbose=0,\n",
       "                                                          warm_start=False)],\n",
       "                          'model__max_depth': [1, 2, 3],\n",
       "                          'model__n_estimators': [1225, 1250, 1275]}],\n",
       "             pre_dispatch='2*n_jobs', refit=True, return_train_score=False,\n",
       "             scoring='neg_mean_squared_error', verbose=10)"
      ]
     },
     "execution_count": 101,
     "metadata": {},
     "output_type": "execute_result"
    }
   ],
   "source": [
    "search.fit(train_X_med,train_y_med)"
   ]
  },
  {
   "cell_type": "code",
   "execution_count": 102,
   "metadata": {},
   "outputs": [
    {
     "data": {
      "text/plain": [
       "-33973.802626198274"
      ]
     },
     "execution_count": 102,
     "metadata": {},
     "output_type": "execute_result"
    }
   ],
   "source": [
    "search.best_score_ # Mean out-of-sample (CV) error"
   ]
  },
  {
   "cell_type": "code",
   "execution_count": 103,
   "metadata": {},
   "outputs": [
    {
     "data": {
      "text/plain": [
       "{'model': BaggingRegressor(base_estimator=None, bootstrap=True, bootstrap_features=False,\n",
       "                  max_features=1.0, max_samples=1.0, n_estimators=10,\n",
       "                  n_jobs=None, oob_score=False, random_state=None, verbose=0,\n",
       "                  warm_start=False)}"
      ]
     },
     "execution_count": 103,
     "metadata": {},
     "output_type": "execute_result"
    }
   ],
   "source": [
    "search.best_params_"
   ]
  },
  {
   "cell_type": "code",
   "execution_count": 104,
   "metadata": {},
   "outputs": [],
   "source": [
    "pred_y_med = search.predict(test_X_med)"
   ]
  },
  {
   "cell_type": "code",
   "execution_count": 105,
   "metadata": {},
   "outputs": [
    {
     "data": {
      "text/plain": [
       "27767.638771014743"
      ]
     },
     "execution_count": 105,
     "metadata": {},
     "output_type": "execute_result"
    }
   ],
   "source": [
    "m.mean_squared_error(test_y_med,pred_y_med)\n"
   ]
  },
  {
   "cell_type": "code",
   "execution_count": 106,
   "metadata": {
    "scrolled": true
   },
   "outputs": [
    {
     "data": {
      "text/plain": [
       "-0.6851400295882581"
      ]
     },
     "execution_count": 106,
     "metadata": {},
     "output_type": "execute_result"
    }
   ],
   "source": [
    "m.r2_score(test_y_med,pred_y_med)\n"
   ]
  },
  {
   "cell_type": "code",
   "execution_count": 107,
   "metadata": {},
   "outputs": [
    {
     "data": {
      "image/png": "[encoded data removed]",
      "text/plain": [
       "<Figure size 1000x700 with 1 Axes>"
      ]
     },
     "metadata": {},
     "output_type": "display_data"
    },
    {
     "data": {
      "text/plain": [
       "<ggplot: (8790594846373)>"
      ]
     },
     "execution_count": 107,
     "metadata": {},
     "output_type": "execute_result"
    }
   ],
   "source": [
    "# see how in the pipeline we preprocessed X so it is fixed beforehand and we can make sense of the predictions \n",
    "(\n",
    "    ggplot(pd.DataFrame(dict(pred=pred_y_med,truth=test_y_med)),\n",
    "          aes(x='pred',y=\"truth\")) +\n",
    "    geom_point(alpha=.75) +\n",
    "    geom_abline(linetype=\"dashed\",color=\"darkred\",size=1) +\n",
    "    theme_bw() +\n",
    "    theme(figure_size=(10,7))\n",
    ")"
   ]
  },
  {
   "cell_type": "code",
   "execution_count": null,
   "metadata": {},
   "outputs": [],
   "source": []
  }
 ],
 "metadata": {
  "kernelspec": {
   "display_name": "Python 3",
   "language": "python",
   "name": "python3"
  },
  "language_info": {
   "codemirror_mode": {
    "name": "ipython",
    "version": 3
   },
   "file_extension": ".py",
   "mimetype": "text/x-python",
   "name": "python",
   "nbconvert_exporter": "python",
   "pygments_lexer": "ipython3",
   "version": "3.7.6"
  }
 },
 "nbformat": 4,
 "nbformat_minor": 4
}
