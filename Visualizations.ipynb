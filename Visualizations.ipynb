{
 "cells": [
  {
   "cell_type": "code",
   "execution_count": 1,
   "metadata": {},
   "outputs": [],
   "source": [
    "import pandas as pd\n",
    "import numpy as np\n",
    "from plotnine import *\n",
    "import plotly.express as px\n",
    "import plotly\n",
    "\n",
    "import plotly.graph_objects as go\n",
    "from matplotlib import *\n",
    "import matplotlib.pyplot as plt  \n",
    "import matplotlib.backend_bases\n",
    "import pandas_profiling"
   ]
  },
  {
   "cell_type": "markdown",
   "metadata": {},
   "source": [
    "## Generate pandas profile and export to HTML to explore dataset"
   ]
  },
  {
   "cell_type": "code",
   "execution_count": 17,
   "metadata": {},
   "outputs": [],
   "source": [
    "df_19 = pd.read_csv(\"processed_data/df_19.csv\")"
   ]
  },
  {
   "cell_type": "code",
   "execution_count": 7,
   "metadata": {},
   "outputs": [],
   "source": [
    "df_19_prof = df_19.profile_report()"
   ]
  },
  {
   "cell_type": "code",
   "execution_count": 8,
   "metadata": {},
   "outputs": [
    {
     "data": {
      "application/vnd.jupyter.widget-view+json": {
       "model_id": "e610a3d9eade4531b724df5ee9e74874",
       "version_major": 2,
       "version_minor": 0
      },
      "text/plain": [
       "HBox(children=(HTML(value='Summarize dataset'), FloatProgress(value=0.0, max=41.0), HTML(value='')))"
      ]
     },
     "metadata": {},
     "output_type": "display_data"
    },
    {
     "name": "stdout",
     "output_type": "stream",
     "text": [
      "\n"
     ]
    },
    {
     "data": {
      "application/vnd.jupyter.widget-view+json": {
       "model_id": "3057606a882c4937acefd5a3d2b514d7",
       "version_major": 2,
       "version_minor": 0
      },
      "text/plain": [
       "HBox(children=(HTML(value='Generate report structure'), FloatProgress(value=0.0, max=1.0), HTML(value='')))"
      ]
     },
     "metadata": {},
     "output_type": "display_data"
    },
    {
     "name": "stdout",
     "output_type": "stream",
     "text": [
      "\n"
     ]
    },
    {
     "data": {
      "application/vnd.jupyter.widget-view+json": {
       "model_id": "adf2331706154ffdad15e2ae051a2269",
       "version_major": 2,
       "version_minor": 0
      },
      "text/plain": [
       "HBox(children=(HTML(value='Render HTML'), FloatProgress(value=0.0, max=1.0), HTML(value='')))"
      ]
     },
     "metadata": {},
     "output_type": "display_data"
    },
    {
     "name": "stdout",
     "output_type": "stream",
     "text": [
      "\n"
     ]
    },
    {
     "data": {
      "application/vnd.jupyter.widget-view+json": {
       "model_id": "9e4cbdd54b3b48879121aefbdc6f1724",
       "version_major": 2,
       "version_minor": 0
      },
      "text/plain": [
       "HBox(children=(HTML(value='Export report to file'), FloatProgress(value=0.0, max=1.0), HTML(value='')))"
      ]
     },
     "metadata": {},
     "output_type": "display_data"
    },
    {
     "name": "stdout",
     "output_type": "stream",
     "text": [
      "\n"
     ]
    }
   ],
   "source": [
    "df_19_prof.to_file(output_file='df_19_prof.html')"
   ]
  },
  {
   "cell_type": "markdown",
   "metadata": {},
   "source": [
    "### Question: How does customer density for different states compare to grid reliability?"
   ]
  },
  {
   "cell_type": "code",
   "execution_count": 19,
   "metadata": {},
   "outputs": [
    {
     "data": {
      "text/plain": [
       "51"
      ]
     },
     "execution_count": 19,
     "metadata": {},
     "output_type": "execute_result"
    }
   ],
   "source": [
    "len(df_19.state.unique())"
   ]
  },
  {
   "cell_type": "code",
   "execution_count": 28,
   "metadata": {
    "scrolled": true
   },
   "outputs": [
    {
     "data": {
      "application/vnd.plotly.v1+json": {
       "config": {
        "plotlyServerURL": "https://plot.ly"
       },
       "data": [
        {
         "customdata": [
          [
           "IL"
          ],
          [
           "WI"
          ],
          [
           "MN"
          ],
          [
           "SC"
          ],
          [
           "AK"
          ],
          [
           "NC"
          ],
          [
           "AL"
          ],
          [
           "MI"
          ],
          [
           "IA"
          ],
          [
           "GA"
          ],
          [
           "IA"
          ],
          [
           "GA"
          ],
          [
           "CA"
          ],
          [
           "AK"
          ],
          [
           "IN"
          ],
          [
           "MN"
          ],
          [
           "CA"
          ],
          [
           "TN"
          ],
          [
           "VA"
          ],
          [
           "WV"
          ],
          [
           "AZ"
          ],
          [
           "AR"
          ],
          [
           "AR"
          ],
          [
           "OK"
          ],
          [
           "AR"
          ],
          [
           "NJ"
          ],
          [
           "MN"
          ],
          [
           "TX"
          ],
          [
           "VA"
          ],
          [
           "AL"
          ],
          [
           "MD"
          ],
          [
           "SC"
          ],
          [
           "TX"
          ],
          [
           "ME"
          ],
          [
           "WI"
          ],
          [
           "TX"
          ],
          [
           "IN"
          ],
          [
           "MI"
          ],
          [
           "VA"
          ],
          [
           "MA"
          ],
          [
           "MN"
          ],
          [
           "WA"
          ],
          [
           "SC"
          ],
          [
           "MD"
          ],
          [
           "KY"
          ],
          [
           "SD"
          ],
          [
           "MO"
          ],
          [
           "MN"
          ],
          [
           "KY"
          ],
          [
           "NC"
          ],
          [
           "SC"
          ],
          [
           "TX"
          ],
          [
           "TN"
          ],
          [
           "MO"
          ],
          [
           "OH"
          ],
          [
           "KY"
          ],
          [
           "CT"
          ],
          [
           "MA"
          ],
          [
           "TN"
          ],
          [
           "VA"
          ],
          [
           "TX"
          ],
          [
           "OH"
          ],
          [
           "OH"
          ],
          [
           "KS"
          ],
          [
           "OH"
          ],
          [
           "GA"
          ],
          [
           "OK"
          ],
          [
           "NC"
          ],
          [
           "WY"
          ],
          [
           "NC"
          ],
          [
           "SC"
          ],
          [
           "GA"
          ],
          [
           "AR"
          ],
          [
           "MO"
          ],
          [
           "MO"
          ],
          [
           "AL"
          ],
          [
           "OK"
          ],
          [
           "FL"
          ],
          [
           "GA"
          ],
          [
           "NC"
          ],
          [
           "ME"
          ],
          [
           "MO"
          ],
          [
           "TX"
          ],
          [
           "NM"
          ],
          [
           "VA"
          ],
          [
           "WA"
          ],
          [
           "IA"
          ],
          [
           "PA"
          ],
          [
           "TN"
          ],
          [
           "WA"
          ],
          [
           "MI"
          ],
          [
           "WY"
          ],
          [
           "OK"
          ],
          [
           "MO"
          ],
          [
           "FL"
          ],
          [
           "MD"
          ],
          [
           "OH"
          ],
          [
           "MO"
          ],
          [
           "MO"
          ],
          [
           "OK"
          ],
          [
           "WA"
          ],
          [
           "KY"
          ],
          [
           "ID"
          ],
          [
           "OH"
          ],
          [
           "FL"
          ],
          [
           "TN"
          ],
          [
           "OH"
          ],
          [
           "TN"
          ],
          [
           "MI"
          ],
          [
           "MS"
          ],
          [
           "GA"
          ],
          [
           "SC"
          ],
          [
           "TN"
          ],
          [
           "KS"
          ],
          [
           "GA"
          ],
          [
           "TX"
          ],
          [
           "CO"
          ],
          [
           "OR"
          ],
          [
           "WA"
          ],
          [
           "MO"
          ],
          [
           "MO"
          ],
          [
           "OH"
          ],
          [
           "MS"
          ],
          [
           "IL"
          ],
          [
           "VA"
          ],
          [
           "TX"
          ],
          [
           "NC"
          ],
          [
           "CT"
          ],
          [
           "MO"
          ],
          [
           "MI"
          ],
          [
           "AR"
          ],
          [
           "OK"
          ],
          [
           "OR"
          ],
          [
           "AL"
          ],
          [
           "MN"
          ],
          [
           "IL"
          ],
          [
           "OK"
          ],
          [
           "AL"
          ],
          [
           "GA"
          ],
          [
           "WA"
          ],
          [
           "VA"
          ],
          [
           "WV"
          ],
          [
           "MO"
          ],
          [
           "MN"
          ],
          [
           "AL"
          ],
          [
           "KY"
          ],
          [
           "MO"
          ],
          [
           "OH"
          ],
          [
           "ND"
          ],
          [
           "OR"
          ],
          [
           "OH"
          ],
          [
           "IN"
          ],
          [
           "OH"
          ],
          [
           "TX"
          ],
          [
           "IN"
          ],
          [
           "TX"
          ],
          [
           "NY"
          ],
          [
           "DE"
          ],
          [
           "MD"
          ],
          [
           "TX"
          ],
          [
           "DE"
          ],
          [
           "TX"
          ],
          [
           "MI"
          ],
          [
           "MN"
          ],
          [
           "TN"
          ],
          [
           "LA"
          ],
          [
           "AL"
          ],
          [
           "OH"
          ],
          [
           "TN"
          ],
          [
           "NC"
          ],
          [
           "SC"
          ],
          [
           "WI"
          ],
          [
           "AZ"
          ],
          [
           "TN"
          ],
          [
           "MN"
          ],
          [
           "MS"
          ],
          [
           "IL"
          ],
          [
           "IA"
          ],
          [
           "OK"
          ],
          [
           "IA"
          ],
          [
           "ME"
          ],
          [
           "SC"
          ],
          [
           "NC"
          ],
          [
           "OK"
          ],
          [
           "NM"
          ],
          [
           "TX"
          ],
          [
           "MN"
          ],
          [
           "AR"
          ],
          [
           "KS"
          ],
          [
           "MO"
          ],
          [
           "OK"
          ],
          [
           "CO"
          ],
          [
           "NY"
          ],
          [
           "PA"
          ],
          [
           "OR"
          ],
          [
           "IA"
          ],
          [
           "IA"
          ],
          [
           "ID"
          ],
          [
           "MT"
          ],
          [
           "WY"
          ],
          [
           "TX"
          ],
          [
           "KY"
          ],
          [
           "NM"
          ],
          [
           "TN"
          ],
          [
           "NC"
          ],
          [
           "MN"
          ],
          [
           "SD"
          ],
          [
           "OH"
          ],
          [
           "AR"
          ],
          [
           "MA"
          ],
          [
           "MT"
          ],
          [
           "WI"
          ],
          [
           "TX"
          ],
          [
           "KS"
          ],
          [
           "KY"
          ],
          [
           "FL"
          ],
          [
           "FL"
          ],
          [
           "FL"
          ],
          [
           "AL"
          ],
          [
           "TN"
          ],
          [
           "MS"
          ],
          [
           "KY"
          ],
          [
           "SC"
          ],
          [
           "NY"
          ],
          [
           "NE"
          ],
          [
           "MN"
          ],
          [
           "OH"
          ],
          [
           "MO"
          ],
          [
           "FL"
          ],
          [
           "UT"
          ],
          [
           "GA"
          ],
          [
           "IL"
          ],
          [
           "GA"
          ],
          [
           "TN"
          ],
          [
           "FL"
          ],
          [
           "AK"
          ],
          [
           "GA"
          ],
          [
           "AZ"
          ],
          [
           "MN"
          ],
          [
           "MI"
          ],
          [
           "WA"
          ],
          [
           "KY"
          ],
          [
           "CO"
          ],
          [
           "TN"
          ],
          [
           "TX"
          ],
          [
           "CT"
          ],
          [
           "TX"
          ],
          [
           "FL"
          ],
          [
           "FL"
          ],
          [
           "SD"
          ],
          [
           "GA"
          ],
          [
           "OH"
          ],
          [
           "OH"
          ],
          [
           "NC"
          ],
          [
           "OH"
          ],
          [
           "MO"
          ],
          [
           "IA"
          ],
          [
           "TN"
          ],
          [
           "IN"
          ],
          [
           "WV"
          ],
          [
           "MO"
          ],
          [
           "GA"
          ],
          [
           "NE"
          ],
          [
           "HI"
          ],
          [
           "IA"
          ],
          [
           "NC"
          ],
          [
           "UT"
          ],
          [
           "IN"
          ],
          [
           "IN"
          ],
          [
           "MO"
          ],
          [
           "MO"
          ],
          [
           "NC"
          ],
          [
           "TX"
          ],
          [
           "WA"
          ],
          [
           "MI"
          ],
          [
           "OH"
          ],
          [
           "TN"
          ],
          [
           "CO"
          ],
          [
           "MA"
          ],
          [
           "SC"
          ],
          [
           "FL"
          ],
          [
           "IL"
          ],
          [
           "AR"
          ],
          [
           "OH"
          ],
          [
           "AL"
          ],
          [
           "LA"
          ],
          [
           "UT"
          ],
          [
           "ID"
          ],
          [
           "ID"
          ],
          [
           "OR"
          ],
          [
           "CA"
          ],
          [
           "IA"
          ],
          [
           "OK"
          ],
          [
           "IN"
          ],
          [
           "KY"
          ],
          [
           "IN"
          ],
          [
           "MI"
          ],
          [
           "MO"
          ],
          [
           "CO"
          ],
          [
           "IA"
          ],
          [
           "MA"
          ],
          [
           "MN"
          ],
          [
           "KY"
          ],
          [
           "IN"
          ],
          [
           "GA"
          ],
          [
           "KY"
          ],
          [
           "IN"
          ],
          [
           "TX"
          ],
          [
           "GA"
          ],
          [
           "NM"
          ],
          [
           "NJ"
          ],
          [
           "IL"
          ],
          [
           "TN"
          ],
          [
           "IN"
          ],
          [
           "KY"
          ],
          [
           "MN"
          ],
          [
           "KS"
          ],
          [
           "KS"
          ],
          [
           "MO"
          ],
          [
           "KS"
          ],
          [
           "KS"
          ],
          [
           "WI"
          ],
          [
           "UT"
          ],
          [
           "OK"
          ],
          [
           "KY"
          ],
          [
           "VA"
          ],
          [
           "FL"
          ],
          [
           "TN"
          ],
          [
           "NC"
          ],
          [
           "TN"
          ],
          [
           "IN"
          ],
          [
           "ID"
          ],
          [
           "CO"
          ],
          [
           "TN"
          ],
          [
           "OK"
          ],
          [
           "MO"
          ],
          [
           "MN"
          ],
          [
           "GA"
          ],
          [
           "CO"
          ],
          [
           "OH"
          ],
          [
           "MN"
          ],
          [
           "CA"
          ],
          [
           "SC"
          ],
          [
           "IN"
          ],
          [
           "UT"
          ],
          [
           "WA"
          ],
          [
           "TN"
          ],
          [
           "NE"
          ],
          [
           "IA"
          ],
          [
           "UT"
          ],
          [
           "OH"
          ],
          [
           "OH"
          ],
          [
           "CA"
          ],
          [
           "LA"
          ],
          [
           "KY"
          ],
          [
           "CO"
          ],
          [
           "MI"
          ],
          [
           "NC"
          ],
          [
           "IA"
          ],
          [
           "MN"
          ],
          [
           "SC"
          ],
          [
           "TX"
          ],
          [
           "MO"
          ],
          [
           "WI"
          ],
          [
           "TX"
          ],
          [
           "VA"
          ],
          [
           "WI"
          ],
          [
           "MA"
          ],
          [
           "MA"
          ],
          [
           "GA"
          ],
          [
           "SC"
          ],
          [
           "MI"
          ],
          [
           "WI"
          ],
          [
           "IA"
          ],
          [
           "AK"
          ],
          [
           "HI"
          ],
          [
           "MN"
          ],
          [
           "ND"
          ],
          [
           "TN"
          ],
          [
           "KS"
          ],
          [
           "MN"
          ],
          [
           "KY"
          ],
          [
           "VA"
          ],
          [
           "TX"
          ],
          [
           "TN"
          ],
          [
           "MA"
          ],
          [
           "ND"
          ],
          [
           "IA"
          ],
          [
           "IL"
          ],
          [
           "SD"
          ],
          [
           "AZ"
          ],
          [
           "PA"
          ],
          [
           "IL"
          ],
          [
           "SC"
          ],
          [
           "MT"
          ],
          [
           "TN"
          ],
          [
           "OH"
          ],
          [
           "KS"
          ],
          [
           "MN"
          ],
          [
           "IA"
          ],
          [
           "MN"
          ],
          [
           "MN"
          ],
          [
           "MS"
          ],
          [
           "MS"
          ],
          [
           "MT"
          ],
          [
           "MO"
          ],
          [
           "CA"
          ],
          [
           "MO"
          ],
          [
           "WV"
          ],
          [
           "NC"
          ],
          [
           "IL"
          ],
          [
           "MT"
          ],
          [
           "NM"
          ],
          [
           "IN"
          ],
          [
           "OH"
          ],
          [
           "KS"
          ],
          [
           "FL"
          ],
          [
           "CO"
          ],
          [
           "IA"
          ],
          [
           "ND"
          ],
          [
           "OH"
          ],
          [
           "RI"
          ],
          [
           "TN"
          ],
          [
           "NE"
          ],
          [
           "KS"
          ],
          [
           "NV"
          ],
          [
           "NC"
          ],
          [
           "TX"
          ],
          [
           "DE"
          ],
          [
           "WV"
          ],
          [
           "LA"
          ],
          [
           "WI"
          ],
          [
           "NC"
          ],
          [
           "GA"
          ],
          [
           "NC"
          ],
          [
           "NY"
          ],
          [
           "MI"
          ],
          [
           "IN"
          ],
          [
           "KY"
          ],
          [
           "NE"
          ],
          [
           "AR"
          ],
          [
           "MA"
          ],
          [
           "MN"
          ],
          [
           "WY"
          ],
          [
           "OH"
          ],
          [
           "GA"
          ],
          [
           "MN"
          ],
          [
           "MS"
          ],
          [
           "SD"
          ],
          [
           "IN"
          ],
          [
           "MI"
          ],
          [
           "WI"
          ],
          [
           "MN"
          ],
          [
           "ND"
          ],
          [
           "SD"
          ],
          [
           "OR"
          ],
          [
           "NE"
          ],
          [
           "SD"
          ],
          [
           "TX"
          ],
          [
           "CT"
          ],
          [
           "OK"
          ],
          [
           "WI"
          ],
          [
           "OK"
          ],
          [
           "OH"
          ],
          [
           "OH"
          ],
          [
           "OK"
          ],
          [
           "MN"
          ],
          [
           "NE"
          ],
          [
           "AL"
          ],
          [
           "MI"
          ],
          [
           "WA"
          ],
          [
           "SC"
          ],
          [
           "MN"
          ],
          [
           "IA"
          ],
          [
           "MN"
          ],
          [
           "ND"
          ],
          [
           "SD"
          ],
          [
           "NV"
          ],
          [
           "MN"
          ],
          [
           "KY"
          ],
          [
           "KY"
          ],
          [
           "AR"
          ],
          [
           "OK"
          ],
          [
           "CA"
          ],
          [
           "CA"
          ],
          [
           "ID"
          ],
          [
           "OR"
          ],
          [
           "UT"
          ],
          [
           "WA"
          ],
          [
           "WY"
          ],
          [
           "KY"
          ],
          [
           "OH"
          ],
          [
           "SC"
          ],
          [
           "TN"
          ],
          [
           "MN"
          ],
          [
           "IN"
          ],
          [
           "CA"
          ],
          [
           "SC"
          ],
          [
           "MS"
          ],
          [
           "FL"
          ],
          [
           "TX"
          ],
          [
           "WA"
          ],
          [
           "PA"
          ],
          [
           "PA"
          ],
          [
           "PA"
          ],
          [
           "NC"
          ],
          [
           "KY"
          ],
          [
           "PA"
          ],
          [
           "AR"
          ],
          [
           "PA"
          ],
          [
           "NC"
          ],
          [
           "WI"
          ],
          [
           "OH"
          ],
          [
           "KS"
          ],
          [
           "MO"
          ],
          [
           "NE"
          ],
          [
           "OK"
          ],
          [
           "OR"
          ],
          [
           "CO"
          ],
          [
           "MD"
          ],
          [
           "WV"
          ],
          [
           "DC"
          ],
          [
           "MD"
          ],
          [
           "TN"
          ],
          [
           "VA"
          ],
          [
           "WI"
          ],
          [
           "KY"
          ],
          [
           "MN"
          ],
          [
           "VA"
          ],
          [
           "UT"
          ],
          [
           "CO"
          ],
          [
           "IN"
          ],
          [
           "NH"
          ],
          [
           "NM"
          ],
          [
           "OK"
          ],
          [
           "NJ"
          ],
          [
           "WA"
          ],
          [
           "TN"
          ],
          [
           "NC"
          ],
          [
           "GA"
          ],
          [
           "MA"
          ],
          [
           "MN"
          ],
          [
           "CA"
          ],
          [
           "MN"
          ],
          [
           "WI"
          ],
          [
           "WA"
          ],
          [
           "TX"
          ],
          [
           "WI"
          ],
          [
           "WI"
          ],
          [
           "CA"
          ],
          [
           "NC"
          ],
          [
           "TX"
          ],
          [
           "MN"
          ],
          [
           "SC"
          ],
          [
           "TN"
          ],
          [
           "NC"
          ],
          [
           "MN"
          ],
          [
           "MA"
          ],
          [
           "OK"
          ],
          [
           "IL"
          ],
          [
           "KS"
          ],
          [
           "TX"
          ],
          [
           "NC"
          ],
          [
           "VA"
          ],
          [
           "AZ"
          ],
          [
           "KY"
          ],
          [
           "CO"
          ],
          [
           "TX"
          ],
          [
           "SC"
          ],
          [
           "CA"
          ],
          [
           "TX"
          ],
          [
           "TX"
          ],
          [
           "TX"
          ],
          [
           "CO"
          ],
          [
           "MN"
          ],
          [
           "MO"
          ],
          [
           "AL"
          ],
          [
           "KS"
          ],
          [
           "GA"
          ],
          [
           "WA"
          ],
          [
           "KS"
          ],
          [
           "TN"
          ],
          [
           "TN"
          ],
          [
           "MN"
          ],
          [
           "NC"
          ],
          [
           "KY"
          ],
          [
           "TN"
          ],
          [
           "VA"
          ],
          [
           "NV"
          ],
          [
           "AR"
          ],
          [
           "MS"
          ],
          [
           "MN"
          ],
          [
           "SD"
          ],
          [
           "WA"
          ],
          [
           "AL"
          ],
          [
           "SC"
          ],
          [
           "SC"
          ],
          [
           "MN"
          ],
          [
           "MA"
          ],
          [
           "KY"
          ],
          [
           "IL"
          ],
          [
           "IN"
          ],
          [
           "OK"
          ],
          [
           "CA"
          ],
          [
           "CA"
          ],
          [
           "IA"
          ],
          [
           "AR"
          ],
          [
           "MS"
          ],
          [
           "NE"
          ],
          [
           "IL"
          ],
          [
           "AR"
          ],
          [
           "LA"
          ],
          [
           "TX"
          ],
          [
           "NM"
          ],
          [
           "TX"
          ],
          [
           "GA"
          ],
          [
           "WI"
          ],
          [
           "UT"
          ],
          [
           "CA"
          ],
          [
           "MN"
          ],
          [
           "MN"
          ],
          [
           "OH"
          ],
          [
           "NY"
          ],
          [
           "WI"
          ],
          [
           "AL"
          ],
          [
           "AZ"
          ],
          [
           "WI"
          ],
          [
           "NC"
          ],
          [
           "FL"
          ],
          [
           "WI"
          ],
          [
           "WA"
          ],
          [
           "IA"
          ],
          [
           "FL"
          ],
          [
           "FL"
          ],
          [
           "MA"
          ],
          [
           "KY"
          ],
          [
           "IN"
          ],
          [
           "GA"
          ],
          [
           "IN"
          ],
          [
           "OH"
          ],
          [
           "IL"
          ],
          [
           "MS"
          ],
          [
           "KS"
          ],
          [
           "TX"
          ],
          [
           "OH"
          ],
          [
           "AL"
          ],
          [
           "NC"
          ],
          [
           "MI"
          ],
          [
           "WY"
          ],
          [
           "IA"
          ],
          [
           "MN"
          ],
          [
           "TX"
          ],
          [
           "FL"
          ],
          [
           "KY"
          ],
          [
           "TN"
          ],
          [
           "AZ"
          ],
          [
           "AL"
          ],
          [
           "GA"
          ],
          [
           "AL"
          ],
          [
           "TN"
          ],
          [
           "CA"
          ],
          [
           "OR"
          ],
          [
           "PA"
          ],
          [
           "MI"
          ],
          [
           "NC"
          ],
          [
           "MO"
          ],
          [
           "IA"
          ],
          [
           "IN"
          ],
          [
           "KY"
          ],
          [
           "TX"
          ],
          [
           "OH"
          ],
          [
           "MT"
          ],
          [
           "SD"
          ],
          [
           "WY"
          ],
          [
           "HI"
          ],
          [
           "AK"
          ],
          [
           "TN"
          ],
          [
           "MI"
          ],
          [
           "TX"
          ],
          [
           "IN"
          ],
          [
           "AZ"
          ],
          [
           "ND"
          ],
          [
           "VT"
          ],
          [
           "OH"
          ],
          [
           "TX"
          ],
          [
           "WI"
          ],
          [
           "KS"
          ],
          [
           "NV"
          ],
          [
           "NC"
          ],
          [
           "GA"
          ],
          [
           "KY"
          ],
          [
           "MN"
          ],
          [
           "GA"
          ],
          [
           "ID"
          ],
          [
           "WA"
          ],
          [
           "SD"
          ],
          [
           "WI"
          ],
          [
           "WI"
          ],
          [
           "TN"
          ],
          [
           "MO"
          ],
          [
           "SD"
          ],
          [
           "PA"
          ],
          [
           "SD"
          ],
          [
           "SD"
          ],
          [
           "OH"
          ],
          [
           "MA"
          ],
          [
           "KS"
          ],
          [
           "WV"
          ],
          [
           "IN"
          ],
          [
           "MN"
          ],
          [
           "NC"
          ],
          [
           "AL"
          ],
          [
           "WI"
          ],
          [
           "WI"
          ],
          [
           "FL"
          ],
          [
           "TX"
          ],
          [
           "AR"
          ],
          [
           "MN"
          ],
          [
           "SC"
          ],
          [
           "CO"
          ],
          [
           "NE"
          ],
          [
           "WY"
          ],
          [
           "CO"
          ],
          [
           "MI"
          ],
          [
           "VA"
          ],
          [
           "AZ"
          ],
          [
           "LA"
          ],
          [
           "NC"
          ],
          [
           "KY"
          ],
          [
           "KS"
          ],
          [
           "MS"
          ],
          [
           "IN"
          ],
          [
           "NH"
          ],
          [
           "IN"
          ],
          [
           "NC"
          ],
          [
           "ND"
          ],
          [
           "MN"
          ],
          [
           "IN"
          ],
          [
           "NH"
          ],
          [
           "IA"
          ],
          [
           "MT"
          ],
          [
           "MN"
          ],
          [
           "TN"
          ],
          [
           "MO"
          ],
          [
           "MN"
          ],
          [
           "IN"
          ],
          [
           "OR"
          ],
          [
           "TX"
          ],
          [
           "AL"
          ],
          [
           "FL"
          ],
          [
           "GA"
          ],
          [
           "OH"
          ],
          [
           "MI"
          ],
          [
           "VA"
          ],
          [
           "MN"
          ],
          [
           "OR"
          ],
          [
           "NE"
          ],
          [
           "IA"
          ],
          [
           "MA"
          ],
          [
           "TX"
          ],
          [
           "TX"
          ],
          [
           "CO"
          ],
          [
           "IL"
          ],
          [
           "CA"
          ],
          [
           "WA"
          ],
          [
           "MI"
          ],
          [
           "KS"
          ]
         ],
         "geo": "geo",
         "hovertemplate": "<b>%{hovertext}</b><br><br>total_cust=%{marker.size}<br>saidi_nomed=%{marker.color}<extra></extra>",
         "hovertext": [
          "IL",
          "WI",
          "MN",
          "SC",
          "AK",
          "NC",
          "AL",
          "MI",
          "IA",
          "GA",
          "IA",
          "GA",
          "CA",
          "AK",
          "IN",
          "MN",
          "CA",
          "TN",
          "VA",
          "WV",
          "AZ",
          "AR",
          "AR",
          "OK",
          "AR",
          "NJ",
          "MN",
          "TX",
          "VA",
          "AL",
          "MD",
          "SC",
          "TX",
          "ME",
          "WI",
          "TX",
          "IN",
          "MI",
          "VA",
          "MA",
          "MN",
          "WA",
          "SC",
          "MD",
          "KY",
          "SD",
          "MO",
          "MN",
          "KY",
          "NC",
          "SC",
          "TX",
          "TN",
          "MO",
          "OH",
          "KY",
          "CT",
          "MA",
          "TN",
          "VA",
          "TX",
          "OH",
          "OH",
          "KS",
          "OH",
          "GA",
          "OK",
          "NC",
          "WY",
          "NC",
          "SC",
          "GA",
          "AR",
          "MO",
          "MO",
          "AL",
          "OK",
          "FL",
          "GA",
          "NC",
          "ME",
          "MO",
          "TX",
          "NM",
          "VA",
          "WA",
          "IA",
          "PA",
          "TN",
          "WA",
          "MI",
          "WY",
          "OK",
          "MO",
          "FL",
          "MD",
          "OH",
          "MO",
          "MO",
          "OK",
          "WA",
          "KY",
          "ID",
          "OH",
          "FL",
          "TN",
          "OH",
          "TN",
          "MI",
          "MS",
          "GA",
          "SC",
          "TN",
          "KS",
          "GA",
          "TX",
          "CO",
          "OR",
          "WA",
          "MO",
          "MO",
          "OH",
          "MS",
          "IL",
          "VA",
          "TX",
          "NC",
          "CT",
          "MO",
          "MI",
          "AR",
          "OK",
          "OR",
          "AL",
          "MN",
          "IL",
          "OK",
          "AL",
          "GA",
          "WA",
          "VA",
          "WV",
          "MO",
          "MN",
          "AL",
          "KY",
          "MO",
          "OH",
          "ND",
          "OR",
          "OH",
          "IN",
          "OH",
          "TX",
          "IN",
          "TX",
          "NY",
          "DE",
          "MD",
          "TX",
          "DE",
          "TX",
          "MI",
          "MN",
          "TN",
          "LA",
          "AL",
          "OH",
          "TN",
          "NC",
          "SC",
          "WI",
          "AZ",
          "TN",
          "MN",
          "MS",
          "IL",
          "IA",
          "OK",
          "IA",
          "ME",
          "SC",
          "NC",
          "OK",
          "NM",
          "TX",
          "MN",
          "AR",
          "KS",
          "MO",
          "OK",
          "CO",
          "NY",
          "PA",
          "OR",
          "IA",
          "IA",
          "ID",
          "MT",
          "WY",
          "TX",
          "KY",
          "NM",
          "TN",
          "NC",
          "MN",
          "SD",
          "OH",
          "AR",
          "MA",
          "MT",
          "WI",
          "TX",
          "KS",
          "KY",
          "FL",
          "FL",
          "FL",
          "AL",
          "TN",
          "MS",
          "KY",
          "SC",
          "NY",
          "NE",
          "MN",
          "OH",
          "MO",
          "FL",
          "UT",
          "GA",
          "IL",
          "GA",
          "TN",
          "FL",
          "AK",
          "GA",
          "AZ",
          "MN",
          "MI",
          "WA",
          "KY",
          "CO",
          "TN",
          "TX",
          "CT",
          "TX",
          "FL",
          "FL",
          "SD",
          "GA",
          "OH",
          "OH",
          "NC",
          "OH",
          "MO",
          "IA",
          "TN",
          "IN",
          "WV",
          "MO",
          "GA",
          "NE",
          "HI",
          "IA",
          "NC",
          "UT",
          "IN",
          "IN",
          "MO",
          "MO",
          "NC",
          "TX",
          "WA",
          "MI",
          "OH",
          "TN",
          "CO",
          "MA",
          "SC",
          "FL",
          "IL",
          "AR",
          "OH",
          "AL",
          "LA",
          "UT",
          "ID",
          "ID",
          "OR",
          "CA",
          "IA",
          "OK",
          "IN",
          "KY",
          "IN",
          "MI",
          "MO",
          "CO",
          "IA",
          "MA",
          "MN",
          "KY",
          "IN",
          "GA",
          "KY",
          "IN",
          "TX",
          "GA",
          "NM",
          "NJ",
          "IL",
          "TN",
          "IN",
          "KY",
          "MN",
          "KS",
          "KS",
          "MO",
          "KS",
          "KS",
          "WI",
          "UT",
          "OK",
          "KY",
          "VA",
          "FL",
          "TN",
          "NC",
          "TN",
          "IN",
          "ID",
          "CO",
          "TN",
          "OK",
          "MO",
          "MN",
          "GA",
          "CO",
          "OH",
          "MN",
          "CA",
          "SC",
          "IN",
          "UT",
          "WA",
          "TN",
          "NE",
          "IA",
          "UT",
          "OH",
          "OH",
          "CA",
          "LA",
          "KY",
          "CO",
          "MI",
          "NC",
          "IA",
          "MN",
          "SC",
          "TX",
          "MO",
          "WI",
          "TX",
          "VA",
          "WI",
          "MA",
          "MA",
          "GA",
          "SC",
          "MI",
          "WI",
          "IA",
          "AK",
          "HI",
          "MN",
          "ND",
          "TN",
          "KS",
          "MN",
          "KY",
          "VA",
          "TX",
          "TN",
          "MA",
          "ND",
          "IA",
          "IL",
          "SD",
          "AZ",
          "PA",
          "IL",
          "SC",
          "MT",
          "TN",
          "OH",
          "KS",
          "MN",
          "IA",
          "MN",
          "MN",
          "MS",
          "MS",
          "MT",
          "MO",
          "CA",
          "MO",
          "WV",
          "NC",
          "IL",
          "MT",
          "NM",
          "IN",
          "OH",
          "KS",
          "FL",
          "CO",
          "IA",
          "ND",
          "OH",
          "RI",
          "TN",
          "NE",
          "KS",
          "NV",
          "NC",
          "TX",
          "DE",
          "WV",
          "LA",
          "WI",
          "NC",
          "GA",
          "NC",
          "NY",
          "MI",
          "IN",
          "KY",
          "NE",
          "AR",
          "MA",
          "MN",
          "WY",
          "OH",
          "GA",
          "MN",
          "MS",
          "SD",
          "IN",
          "MI",
          "WI",
          "MN",
          "ND",
          "SD",
          "OR",
          "NE",
          "SD",
          "TX",
          "CT",
          "OK",
          "WI",
          "OK",
          "OH",
          "OH",
          "OK",
          "MN",
          "NE",
          "AL",
          "MI",
          "WA",
          "SC",
          "MN",
          "IA",
          "MN",
          "ND",
          "SD",
          "NV",
          "MN",
          "KY",
          "KY",
          "AR",
          "OK",
          "CA",
          "CA",
          "ID",
          "OR",
          "UT",
          "WA",
          "WY",
          "KY",
          "OH",
          "SC",
          "TN",
          "MN",
          "IN",
          "CA",
          "SC",
          "MS",
          "FL",
          "TX",
          "WA",
          "PA",
          "PA",
          "PA",
          "NC",
          "KY",
          "PA",
          "AR",
          "PA",
          "NC",
          "WI",
          "OH",
          "KS",
          "MO",
          "NE",
          "OK",
          "OR",
          "CO",
          "MD",
          "WV",
          "DC",
          "MD",
          "TN",
          "VA",
          "WI",
          "KY",
          "MN",
          "VA",
          "UT",
          "CO",
          "IN",
          "NH",
          "NM",
          "OK",
          "NJ",
          "WA",
          "TN",
          "NC",
          "GA",
          "MA",
          "MN",
          "CA",
          "MN",
          "WI",
          "WA",
          "TX",
          "WI",
          "WI",
          "CA",
          "NC",
          "TX",
          "MN",
          "SC",
          "TN",
          "NC",
          "MN",
          "MA",
          "OK",
          "IL",
          "KS",
          "TX",
          "NC",
          "VA",
          "AZ",
          "KY",
          "CO",
          "TX",
          "SC",
          "CA",
          "TX",
          "TX",
          "TX",
          "CO",
          "MN",
          "MO",
          "AL",
          "KS",
          "GA",
          "WA",
          "KS",
          "TN",
          "TN",
          "MN",
          "NC",
          "KY",
          "TN",
          "VA",
          "NV",
          "AR",
          "MS",
          "MN",
          "SD",
          "WA",
          "AL",
          "SC",
          "SC",
          "MN",
          "MA",
          "KY",
          "IL",
          "IN",
          "OK",
          "CA",
          "CA",
          "IA",
          "AR",
          "MS",
          "NE",
          "IL",
          "AR",
          "LA",
          "TX",
          "NM",
          "TX",
          "GA",
          "WI",
          "UT",
          "CA",
          "MN",
          "MN",
          "OH",
          "NY",
          "WI",
          "AL",
          "AZ",
          "WI",
          "NC",
          "FL",
          "WI",
          "WA",
          "IA",
          "FL",
          "FL",
          "MA",
          "KY",
          "IN",
          "GA",
          "IN",
          "OH",
          "IL",
          "MS",
          "KS",
          "TX",
          "OH",
          "AL",
          "NC",
          "MI",
          "WY",
          "IA",
          "MN",
          "TX",
          "FL",
          "KY",
          "TN",
          "AZ",
          "AL",
          "GA",
          "AL",
          "TN",
          "CA",
          "OR",
          "PA",
          "MI",
          "NC",
          "MO",
          "IA",
          "IN",
          "KY",
          "TX",
          "OH",
          "MT",
          "SD",
          "WY",
          "HI",
          "AK",
          "TN",
          "MI",
          "TX",
          "IN",
          "AZ",
          "ND",
          "VT",
          "OH",
          "TX",
          "WI",
          "KS",
          "NV",
          "NC",
          "GA",
          "KY",
          "MN",
          "GA",
          "ID",
          "WA",
          "SD",
          "WI",
          "WI",
          "TN",
          "MO",
          "SD",
          "PA",
          "SD",
          "SD",
          "OH",
          "MA",
          "KS",
          "WV",
          "IN",
          "MN",
          "NC",
          "AL",
          "WI",
          "WI",
          "FL",
          "TX",
          "AR",
          "MN",
          "SC",
          "CO",
          "NE",
          "WY",
          "CO",
          "MI",
          "VA",
          "AZ",
          "LA",
          "NC",
          "KY",
          "KS",
          "MS",
          "IN",
          "NH",
          "IN",
          "NC",
          "ND",
          "MN",
          "IN",
          "NH",
          "IA",
          "MT",
          "MN",
          "TN",
          "MO",
          "MN",
          "IN",
          "OR",
          "TX",
          "AL",
          "FL",
          "GA",
          "OH",
          "MI",
          "VA",
          "MN",
          "OR",
          "NE",
          "IA",
          "MA",
          "TX",
          "TX",
          "CO",
          "IL",
          "CA",
          "WA",
          "MI",
          "KS"
         ],
         "legendgroup": "",
         "locationmode": "USA-states",
         "locations": [
          "IL",
          "WI",
          "MN",
          "SC",
          "AK",
          "NC",
          "AL",
          "MI",
          "IA",
          "GA",
          "IA",
          "GA",
          "CA",
          "AK",
          "IN",
          "MN",
          "CA",
          "TN",
          "VA",
          "WV",
          "AZ",
          "AR",
          "AR",
          "OK",
          "AR",
          "NJ",
          "MN",
          "TX",
          "VA",
          "AL",
          "MD",
          "SC",
          "TX",
          "ME",
          "WI",
          "TX",
          "IN",
          "MI",
          "VA",
          "MA",
          "MN",
          "WA",
          "SC",
          "MD",
          "KY",
          "SD",
          "MO",
          "MN",
          "KY",
          "NC",
          "SC",
          "TX",
          "TN",
          "MO",
          "OH",
          "KY",
          "CT",
          "MA",
          "TN",
          "VA",
          "TX",
          "OH",
          "OH",
          "KS",
          "OH",
          "GA",
          "OK",
          "NC",
          "WY",
          "NC",
          "SC",
          "GA",
          "AR",
          "MO",
          "MO",
          "AL",
          "OK",
          "FL",
          "GA",
          "NC",
          "ME",
          "MO",
          "TX",
          "NM",
          "VA",
          "WA",
          "IA",
          "PA",
          "TN",
          "WA",
          "MI",
          "WY",
          "OK",
          "MO",
          "FL",
          "MD",
          "OH",
          "MO",
          "MO",
          "OK",
          "WA",
          "KY",
          "ID",
          "OH",
          "FL",
          "TN",
          "OH",
          "TN",
          "MI",
          "MS",
          "GA",
          "SC",
          "TN",
          "KS",
          "GA",
          "TX",
          "CO",
          "OR",
          "WA",
          "MO",
          "MO",
          "OH",
          "MS",
          "IL",
          "VA",
          "TX",
          "NC",
          "CT",
          "MO",
          "MI",
          "AR",
          "OK",
          "OR",
          "AL",
          "MN",
          "IL",
          "OK",
          "AL",
          "GA",
          "WA",
          "VA",
          "WV",
          "MO",
          "MN",
          "AL",
          "KY",
          "MO",
          "OH",
          "ND",
          "OR",
          "OH",
          "IN",
          "OH",
          "TX",
          "IN",
          "TX",
          "NY",
          "DE",
          "MD",
          "TX",
          "DE",
          "TX",
          "MI",
          "MN",
          "TN",
          "LA",
          "AL",
          "OH",
          "TN",
          "NC",
          "SC",
          "WI",
          "AZ",
          "TN",
          "MN",
          "MS",
          "IL",
          "IA",
          "OK",
          "IA",
          "ME",
          "SC",
          "NC",
          "OK",
          "NM",
          "TX",
          "MN",
          "AR",
          "KS",
          "MO",
          "OK",
          "CO",
          "NY",
          "PA",
          "OR",
          "IA",
          "IA",
          "ID",
          "MT",
          "WY",
          "TX",
          "KY",
          "NM",
          "TN",
          "NC",
          "MN",
          "SD",
          "OH",
          "AR",
          "MA",
          "MT",
          "WI",
          "TX",
          "KS",
          "KY",
          "FL",
          "FL",
          "FL",
          "AL",
          "TN",
          "MS",
          "KY",
          "SC",
          "NY",
          "NE",
          "MN",
          "OH",
          "MO",
          "FL",
          "UT",
          "GA",
          "IL",
          "GA",
          "TN",
          "FL",
          "AK",
          "GA",
          "AZ",
          "MN",
          "MI",
          "WA",
          "KY",
          "CO",
          "TN",
          "TX",
          "CT",
          "TX",
          "FL",
          "FL",
          "SD",
          "GA",
          "OH",
          "OH",
          "NC",
          "OH",
          "MO",
          "IA",
          "TN",
          "IN",
          "WV",
          "MO",
          "GA",
          "NE",
          "HI",
          "IA",
          "NC",
          "UT",
          "IN",
          "IN",
          "MO",
          "MO",
          "NC",
          "TX",
          "WA",
          "MI",
          "OH",
          "TN",
          "CO",
          "MA",
          "SC",
          "FL",
          "IL",
          "AR",
          "OH",
          "AL",
          "LA",
          "UT",
          "ID",
          "ID",
          "OR",
          "CA",
          "IA",
          "OK",
          "IN",
          "KY",
          "IN",
          "MI",
          "MO",
          "CO",
          "IA",
          "MA",
          "MN",
          "KY",
          "IN",
          "GA",
          "KY",
          "IN",
          "TX",
          "GA",
          "NM",
          "NJ",
          "IL",
          "TN",
          "IN",
          "KY",
          "MN",
          "KS",
          "KS",
          "MO",
          "KS",
          "KS",
          "WI",
          "UT",
          "OK",
          "KY",
          "VA",
          "FL",
          "TN",
          "NC",
          "TN",
          "IN",
          "ID",
          "CO",
          "TN",
          "OK",
          "MO",
          "MN",
          "GA",
          "CO",
          "OH",
          "MN",
          "CA",
          "SC",
          "IN",
          "UT",
          "WA",
          "TN",
          "NE",
          "IA",
          "UT",
          "OH",
          "OH",
          "CA",
          "LA",
          "KY",
          "CO",
          "MI",
          "NC",
          "IA",
          "MN",
          "SC",
          "TX",
          "MO",
          "WI",
          "TX",
          "VA",
          "WI",
          "MA",
          "MA",
          "GA",
          "SC",
          "MI",
          "WI",
          "IA",
          "AK",
          "HI",
          "MN",
          "ND",
          "TN",
          "KS",
          "MN",
          "KY",
          "VA",
          "TX",
          "TN",
          "MA",
          "ND",
          "IA",
          "IL",
          "SD",
          "AZ",
          "PA",
          "IL",
          "SC",
          "MT",
          "TN",
          "OH",
          "KS",
          "MN",
          "IA",
          "MN",
          "MN",
          "MS",
          "MS",
          "MT",
          "MO",
          "CA",
          "MO",
          "WV",
          "NC",
          "IL",
          "MT",
          "NM",
          "IN",
          "OH",
          "KS",
          "FL",
          "CO",
          "IA",
          "ND",
          "OH",
          "RI",
          "TN",
          "NE",
          "KS",
          "NV",
          "NC",
          "TX",
          "DE",
          "WV",
          "LA",
          "WI",
          "NC",
          "GA",
          "NC",
          "NY",
          "MI",
          "IN",
          "KY",
          "NE",
          "AR",
          "MA",
          "MN",
          "WY",
          "OH",
          "GA",
          "MN",
          "MS",
          "SD",
          "IN",
          "MI",
          "WI",
          "MN",
          "ND",
          "SD",
          "OR",
          "NE",
          "SD",
          "TX",
          "CT",
          "OK",
          "WI",
          "OK",
          "OH",
          "OH",
          "OK",
          "MN",
          "NE",
          "AL",
          "MI",
          "WA",
          "SC",
          "MN",
          "IA",
          "MN",
          "ND",
          "SD",
          "NV",
          "MN",
          "KY",
          "KY",
          "AR",
          "OK",
          "CA",
          "CA",
          "ID",
          "OR",
          "UT",
          "WA",
          "WY",
          "KY",
          "OH",
          "SC",
          "TN",
          "MN",
          "IN",
          "CA",
          "SC",
          "MS",
          "FL",
          "TX",
          "WA",
          "PA",
          "PA",
          "PA",
          "NC",
          "KY",
          "PA",
          "AR",
          "PA",
          "NC",
          "WI",
          "OH",
          "KS",
          "MO",
          "NE",
          "OK",
          "OR",
          "CO",
          "MD",
          "WV",
          "DC",
          "MD",
          "TN",
          "VA",
          "WI",
          "KY",
          "MN",
          "VA",
          "UT",
          "CO",
          "IN",
          "NH",
          "NM",
          "OK",
          "NJ",
          "WA",
          "TN",
          "NC",
          "GA",
          "MA",
          "MN",
          "CA",
          "MN",
          "WI",
          "WA",
          "TX",
          "WI",
          "WI",
          "CA",
          "NC",
          "TX",
          "MN",
          "SC",
          "TN",
          "NC",
          "MN",
          "MA",
          "OK",
          "IL",
          "KS",
          "TX",
          "NC",
          "VA",
          "AZ",
          "KY",
          "CO",
          "TX",
          "SC",
          "CA",
          "TX",
          "TX",
          "TX",
          "CO",
          "MN",
          "MO",
          "AL",
          "KS",
          "GA",
          "WA",
          "KS",
          "TN",
          "TN",
          "MN",
          "NC",
          "KY",
          "TN",
          "VA",
          "NV",
          "AR",
          "MS",
          "MN",
          "SD",
          "WA",
          "AL",
          "SC",
          "SC",
          "MN",
          "MA",
          "KY",
          "IL",
          "IN",
          "OK",
          "CA",
          "CA",
          "IA",
          "AR",
          "MS",
          "NE",
          "IL",
          "AR",
          "LA",
          "TX",
          "NM",
          "TX",
          "GA",
          "WI",
          "UT",
          "CA",
          "MN",
          "MN",
          "OH",
          "NY",
          "WI",
          "AL",
          "AZ",
          "WI",
          "NC",
          "FL",
          "WI",
          "WA",
          "IA",
          "FL",
          "FL",
          "MA",
          "KY",
          "IN",
          "GA",
          "IN",
          "OH",
          "IL",
          "MS",
          "KS",
          "TX",
          "OH",
          "AL",
          "NC",
          "MI",
          "WY",
          "IA",
          "MN",
          "TX",
          "FL",
          "KY",
          "TN",
          "AZ",
          "AL",
          "GA",
          "AL",
          "TN",
          "CA",
          "OR",
          "PA",
          "MI",
          "NC",
          "MO",
          "IA",
          "IN",
          "KY",
          "TX",
          "OH",
          "MT",
          "SD",
          "WY",
          "HI",
          "AK",
          "TN",
          "MI",
          "TX",
          "IN",
          "AZ",
          "ND",
          "VT",
          "OH",
          "TX",
          "WI",
          "KS",
          "NV",
          "NC",
          "GA",
          "KY",
          "MN",
          "GA",
          "ID",
          "WA",
          "SD",
          "WI",
          "WI",
          "TN",
          "MO",
          "SD",
          "PA",
          "SD",
          "SD",
          "OH",
          "MA",
          "KS",
          "WV",
          "IN",
          "MN",
          "NC",
          "AL",
          "WI",
          "WI",
          "FL",
          "TX",
          "AR",
          "MN",
          "SC",
          "CO",
          "NE",
          "WY",
          "CO",
          "MI",
          "VA",
          "AZ",
          "LA",
          "NC",
          "KY",
          "KS",
          "MS",
          "IN",
          "NH",
          "IN",
          "NC",
          "ND",
          "MN",
          "IN",
          "NH",
          "IA",
          "MT",
          "MN",
          "TN",
          "MO",
          "MN",
          "IN",
          "OR",
          "TX",
          "AL",
          "FL",
          "GA",
          "OH",
          "MI",
          "VA",
          "MN",
          "OR",
          "NE",
          "IA",
          "MA",
          "TX",
          "TX",
          "CO",
          "IL",
          "CA",
          "WA",
          "MI",
          "KS"
         ],
         "marker": {
          "color": [
           169.74,
           139.9,
           128.759,
           97.72,
           79,
           44.05,
           21.624000000000002,
           55.852,
           141.6,
           95.1,
           15.79,
           449.79,
           42.12,
           18.38,
           108.932,
           29.264,
           387.642,
           280.133,
           382.9,
           650.8,
           86.8,
           308.8,
           181.53,
           56.7,
           198.6,
           76,
           31.885,
           68.68,
           375.25,
           75.868,
           81.781,
           1.3940000000000001,
           45.636,
           302,
           144.72,
           97.6,
           75.59,
           99.986,
           121.24,
           127.16,
           77.694,
           27.5,
           160.4,
           128.04,
           452.27,
           68.68,
           375.47,
           137.77,
           130.19299999999998,
           71.38,
           133.72,
           102.569,
           51.37,
           52.25,
           3.176,
           52.707,
           176.11,
           11.55,
           56.976000000000006,
           15.895,
           14.262,
           39.8,
           494.49,
           102,
           110.38,
           33.288000000000004,
           174.2,
           249.99,
           291.6,
           149,
           147,
           114.08,
           93.98,
           109.03,
           22.555,
           152.8,
           162.86,
           182.75,
           79.06,
           189.487,
           189.8,
           137.036,
           125.5,
           335.691,
           251,
           187.995,
           161,
           20.44,
           76.21,
           56.38399999999999,
           74.906,
           46.06,
           58,
           19.589000000000002,
           67.127,
           197.6,
           96,
           96,
           63.479,
           62.791000000000004,
           28.2,
           175.96900000000002,
           677.0360000000001,
           130.468,
           158.92,
           50.506,
           218.44,
           104,
           324.8,
           23.17,
           123.3,
           152.6,
           131.47,
           3.835,
           32.7,
           16.8,
           40.926,
           101,
           170.583,
           44.87,
           112.1,
           218.08,
           32.324,
           51.332,
           218.69299999999998,
           451.8,
           33.64,
           249.17,
           71.88,
           233.34099999999998,
           22.43,
           134.929,
           122.68,
           155.252,
           508.025,
           247,
           141.596,
           72.835,
           95.83,
           74.29,
           610.42,
           731.44,
           343.21,
           66.013,
           386.056,
           237,
           149.687,
           47.005,
           134.7,
           245,
           390.2,
           371,
           139.71,
           643.3,
           156.591,
           558.58,
           812.9,
           72,
           78,
           38.41,
           83.08,
           36.98,
           202.375,
           6.3,
           143.347,
           206.72,
           132.77,
           8.828,
           132.83,
           174,
           160,
           55.78,
           66,
           45.242,
           68.3,
           213,
           132.3,
           61.5,
           297.6,
           151.13,
           212.91,
           61.41,
           161.31,
           90.34700000000001,
           70.059,
           76.38600000000001,
           25.412,
           28.15,
           115.14,
           138.16,
           160.34,
           35.4,
           21.703000000000003,
           31.599,
           69.37,
           90.35,
           51.313,
           175.435,
           130.805,
           188.32,
           83.95299999999999,
           138.28,
           110.705,
           130.79,
           8.592,
           134,
           87,
           226,
           160.904,
           83.56,
           136.74,
           101.06,
           48.631,
           246,
           151.9,
           29.840999999999998,
           51.46,
           98,
           52.506,
           342.33,
           125.82,
           11.135,
           39.6,
           10.698,
           13.687000000000001,
           84.4,
           141.8,
           34.251999999999995,
           56.92,
           597.3,
           86.4,
           31.826999999999998,
           141.75,
           108.75,
           311.17400000000004,
           227.49,
           236.23,
           86.277,
           27.474,
           13.23,
           117,
           381.28,
           74.77199999999999,
           92.01,
           8.331,
           70.21,
           89.12,
           574.822,
           72.47,
           60.1,
           179.8,
           405.88,
           86.08,
           206.73,
           72.21,
           69.523,
           4.192,
           650.6,
           182.53900000000002,
           563.761,
           16.12,
           63.805,
           4.582,
           164.67,
           96.84899999999999,
           599.765,
           37.211,
           85.1,
           149.50799999999998,
           2.2,
           30.205,
           129.566,
           72.202,
           187,
           29.084,
           635.7,
           165.218,
           72.5,
           50.863,
           68.035,
           87.975,
           440,
           39.19,
           41.739,
           5.3,
           39.7,
           7.617000000000001,
           49.78,
           120,
           118,
           53.88,
           10.877,
           115.417,
           75.60300000000001,
           135.952,
           189.4,
           332.2,
           232.995,
           88.057,
           64.03,
           19.788,
           103.65,
           227.26,
           146.148,
           73.05,
           137.175,
           56.382,
           526.65,
           95.1,
           396.21,
           173.80900000000003,
           63,
           21.525,
           37.056999999999995,
           116.79,
           61.6,
           134.741,
           61.51,
           91.38,
           122.7,
           335.29,
           15,
           8.61,
           382.25,
           98.4,
           127.13,
           54.3,
           262.1,
           19.34,
           155.892,
           85.57799999999999,
           174.049,
           78.689,
           290.17,
           178.963,
           123.25,
           86.34,
           204.55,
           15.27,
           158.9,
           207.17,
           203.021,
           114.35,
           1.837,
           46.07,
           392.89,
           4.159,
           13.5,
           118,
           14.795,
           94.044,
           70.4,
           112.84,
           208,
           85.03,
           38.94,
           31.631999999999998,
           100.311,
           50.76,
           126.552,
           126.7,
           245.24,
           27.943,
           42.4,
           140.408,
           55.091,
           12.617,
           8.237,
           22.669,
           95.7,
           150.96,
           36.14,
           11.33,
           87.57,
           250.765,
           153.66,
           160.5,
           186.35,
           8.736,
           25.995,
           76.41,
           85.35,
           211.35,
           213.9,
           264.9,
           30.58,
           109.8,
           83,
           98,
           57,
           36.89,
           189.322,
           203.313,
           90.756,
           207.283,
           90,
           85.6,
           233.13,
           120.63,
           58.38,
           144.02,
           86.82,
           269.6,
           76.42,
           209.8,
           125.16,
           32.75,
           20.101,
           373.276,
           29.87,
           208.7,
           114,
           265,
           363.77,
           104,
           50.081,
           50.041000000000004,
           66.6,
           18.712,
           173.4,
           7.778,
           68.2,
           125.59,
           46.5,
           180.96099999999998,
           37.68,
           17.427,
           38.546,
           17.32,
           99.9,
           158.4,
           24.49,
           8.355,
           27.721999999999998,
           48.34,
           135.57,
           90.03,
           101.9,
           63.803000000000004,
           158.7,
           210.85,
           14.239,
           222.477,
           602.6,
           79.12,
           143.19,
           92.363,
           230.27,
           86.79,
           155,
           99.85,
           112.88,
           80.66,
           42.227,
           62.571000000000005,
           17.158,
           280,
           112,
           176.513,
           94.71,
           131.2,
           107.22,
           11.985,
           108.819,
           202.4,
           53.4,
           0.655,
           76.3,
           254.2,
           442.2,
           217.8,
           192.59,
           83.75,
           102.774,
           101.73,
           108.91,
           968.6,
           16.061,
           18.771,
           104,
           74.738,
           42.77,
           127.69,
           134.1,
           106.3,
           89.11399999999999,
           108.057,
           115.523,
           88.11200000000001,
           134.60399999999998,
           49.49,
           92.31299999999999,
           43.75,
           210.535,
           87.88,
           624.396,
           14.270999999999999,
           98.4,
           166.64,
           156.6,
           45.3,
           40,
           223.75,
           74.3,
           155.503,
           136.81,
           201,
           9.63,
           185.04,
           94,
           106.087,
           100.009,
           103.91,
           162.81,
           74.85,
           71.497,
           187.947,
           98,
           85.075,
           172.43400000000003,
           194.167,
           55,
           60,
           204.75799999999998,
           87.75399999999999,
           34.8,
           5.263,
           7.196000000000001,
           123.22,
           48,
           92.694,
           140,
           229.61,
           103.39,
           125.1,
           48.11,
           136,
           123,
           95.759,
           170.21900000000002,
           16.399,
           23.2,
           77.4,
           91.14299999999999,
           8.94,
           10.845999999999998,
           281.71299999999997,
           129.23,
           24.109,
           64.7,
           264.2,
           570.86,
           39.171,
           92.82,
           190.333,
           72.02,
           69.42,
           43.27,
           234.1,
           86.96,
           5.136,
           403.6,
           55.15,
           15.76,
           43.27,
           78.83,
           103.2,
           54.86,
           159.75,
           68.64,
           310,
           154.688,
           100.7,
           198.4,
           7.72,
           162.783,
           167.726,
           168.29,
           43.8,
           75.2,
           206.52599999999998,
           232.058,
           326.593,
           8.683,
           70.859,
           120.76,
           11.776,
           159.6,
           189.44,
           7.59,
           166.39,
           50.35,
           93.965,
           91.3,
           123.911,
           77.89,
           18.942,
           86.818,
           15.356,
           222.56400000000002,
           147.692,
           337.1,
           293,
           90.75,
           85.001,
           176.622,
           142.724,
           1239.3,
           101.6,
           181.87,
           170.3,
           382.9,
           304.1,
           136.61,
           117.79,
           69.12,
           106.698,
           19.375,
           86.9,
           93.941,
           55.48,
           300.564,
           533,
           26.06,
           210.637,
           61.4,
           29.66,
           164,
           160,
           29.88,
           51.25,
           155.614,
           280.797,
           85.71,
           68.48899999999999,
           86.1,
           3.032,
           142.8,
           213.84,
           28.529,
           92.2,
           283,
           93.1,
           150.75,
           66.877,
           532.4590000000001,
           263.67,
           64.28399999999999,
           199,
           75.61,
           100.789,
           154.392,
           120.93299999999999,
           278.18,
           236.65,
           43.043,
           92.962,
           120.86200000000001,
           93.999,
           25.127,
           59,
           104.135,
           182,
           156,
           37.5,
           106,
           27,
           133.9,
           170,
           98.367,
           84.2,
           436.80699999999996,
           72.14399999999999,
           15.277999999999999,
           89.4,
           201,
           124.22,
           211.5,
           1225.3,
           420.46,
           7.38,
           81.48,
           170.42,
           26.28,
           156.31,
           125,
           531.9,
           58.089,
           87.2,
           93.42200000000001,
           136.086,
           18.2,
           909.71,
           167,
           121,
           16.326,
           80.63,
           2.41,
           205.72,
           79.48,
           99.8,
           197.84799999999998,
           61.56,
           55.903,
           18.35,
           80.332,
           116.7,
           524.6,
           61.56,
           4.83,
           29.39,
           78.98,
           85,
           115,
           139.178,
           173.59,
           31.8,
           38.56,
           72.27,
           62.7,
           353.52099999999996,
           164.019,
           203.5,
           27.066999999999997,
           263.6,
           69.3,
           374.35699999999997,
           98.58,
           485,
           99.84700000000001,
           364.46,
           99.45100000000001,
           82.53,
           141,
           35.256,
           30.56,
           18.27,
           325.928,
           115.689,
           87.34,
           143.2,
           81,
           70.747,
           139.5,
           66.13,
           352.5,
           95.272,
           23.249000000000002,
           226.653,
           144.243,
           61.351000000000006,
           71.01,
           176.097,
           183.43,
           41,
           60.368,
           11.138,
           121.76,
           70.3,
           297,
           167.15,
           73.669,
           132.29,
           416.51,
           291,
           238,
           106.41
          ],
          "coloraxis": "coloraxis",
          "size": [
           8931,
           37607,
           5251,
           48059,
           17280,
           12072,
           10277,
           10089,
           9987,
           20790,
           26956,
           49991,
           120279,
           31134,
           34351,
           135890,
           4778,
           47175,
           533034,
           421583,
           1260386,
           713072,
           55362,
           4539,
           4903,
           486628,
           11746,
           499542,
           12800,
           78775,
           965643,
           2058,
           37131,
           35456,
           18850,
           12169,
           11693,
           20243,
           6694,
           11685,
           21213,
           54581,
           104044,
           2590,
           12759,
           10265,
           24382,
           1014,
           58968,
           76823,
           66733,
           101157,
           11084,
           32869,
           14695,
           30897,
           2781,
           16720,
           33732,
           16345,
           50413,
           5822,
           18533,
           7575,
           11456,
           5475,
           25135,
           7770,
           6330,
           1431264,
           169885,
           51760,
           90670,
           12214,
           7771,
           43783,
           22017,
           33942,
           58745,
           23098,
           533057,
           10908,
           41905,
           15328,
           37484,
           10381,
           6047,
           11135,
           176336,
           5798,
           36075,
           43318,
           18076,
           4708,
           53439,
           54590,
           290522,
           27307,
           10779,
           12173,
           213948,
           26782,
           9677,
           190043,
           177752,
           31810,
           73600,
           29986,
           42471,
           83541,
           20207,
           11683,
           29810,
           5989,
           210960,
           42633,
           235098,
           1926,
           5945,
           50676,
           31658,
           15700,
           12736,
           2730588,
           11204,
           15030,
           31957,
           944461,
           8056,
           1836668,
           31125,
           17928,
           17987,
           16926,
           6197,
           36195,
           22356,
           23357,
           82443,
           50870,
           6746,
           485,
           20111,
           44789,
           44065,
           23593,
           66816,
           25695,
           6636,
           22744,
           5135,
           8214,
           265862,
           14632,
           8050,
           42918,
           5372,
           284487,
           172893,
           56091,
           101814,
           249175,
           2209021,
           7631,
           35594,
           111569,
           24479,
           6831,
           76672,
           2047365,
           603453,
           10057,
           2128,
           11909,
           55719,
           12826,
           13466,
           8971,
           34419,
           23780,
           12631,
           20308,
           12065,
           41098,
           100435,
           328756,
           12244,
           4771,
           9644,
           155425,
           4684,
           15091,
           17667,
           6679,
           94751,
           4918,
           626,
           15112,
           1999,
           357,
           68331,
           25612,
           44877,
           18623,
           85342,
           6856,
           2099,
           9103,
           95463,
           21033,
           68218,
           1523,
           16201,
           6628,
           24605,
           32787,
           5061483,
           1832871,
           49557,
           32971,
           48915,
           21691,
           14957,
           14889,
           15344,
           20904,
           9028,
           5648,
           98324,
           12560,
           135590,
           10163,
           2572624,
           34832,
           16540,
           46703,
           19865,
           7742,
           5165,
           14403,
           43296,
           15320,
           17812,
           38492,
           15038,
           13532,
           86393,
           20316,
           464882,
           3620,
           35067,
           16851,
           29436,
           11763,
           13375,
           8736,
           2777,
           10978,
           23403,
           6883,
           4816,
           36663,
           13493,
           86271,
           5186,
           27124,
           12826,
           33294,
           9574,
           1541,
           2533,
           43251,
           29380,
           40917,
           29131,
           17454,
           30595,
           57934,
           17689,
           81919,
           25407,
           9312,
           9392,
           6880,
           188149,
           68495,
           7231,
           28774,
           545819,
           19259,
           156715,
           3146,
           19612,
           503198,
           26538,
           467397,
           129283,
           30494,
           161814,
           12828,
           7203,
           11946,
           51606,
           24657,
           233101,
           30033,
           8180,
           22888,
           34507,
           29208,
           926121,
           20726,
           79118,
           27698,
           57927,
           8721,
           65953,
           262344,
           291626,
           332744,
           18310,
           15497,
           9910,
           21862,
           528336,
           27790,
           30610,
           48290,
           11536,
           205454,
           18409,
           26765,
           43962,
           22208,
           24769,
           37208,
           28406,
           19580,
           4291,
           25941,
           49579,
           12015,
           59031,
           3485,
           22995,
           32771,
           6278,
           141650,
           30212,
           20733,
           16429,
           4637,
           1447371,
           1090192,
           415853,
           37444,
           2948,
           62240,
           2253,
           3912,
           21486,
           22900,
           3024,
           156833,
           121528,
           16493,
           18145,
           10052,
           10278,
           41840,
           6477,
           17230,
           13567,
           6791,
           65661,
           72233,
           6873,
           13022,
           8082,
           8738,
           9061,
           29825,
           31227,
           33848,
           415429,
           3009,
           20220,
           695990,
           85197,
           5123,
           16872,
           400462,
           10929,
           57040,
           2026,
           232159,
           10824,
           49944,
           15339,
           16353,
           147340,
           43351,
           450377,
           188342,
           15335,
           328464,
           129642,
           4704,
           391997,
           10996,
           7403,
           376984,
           11106,
           33852,
           17765,
           1021,
           5886,
           54664,
           11497,
           11678,
           5921,
           435889,
           409190,
           90352,
           3495,
           951035,
           22783,
           44382,
           2848,
           1809,
           204479,
           4859,
           8356,
           10244,
           4740,
           1396453,
           7085,
           11410,
           35614,
           24538,
           37022,
           13479,
           6878,
           2122,
           9657,
           100982,
           6615,
           32162,
           6502,
           475576,
           8942,
           252130,
           1300836,
           94479,
           95732,
           10163,
           3352,
           63853,
           17447,
           20456,
           6554,
           17036,
           342,
           327657,
           920735,
           57100,
           1261,
           384501,
           13165,
           4868,
           15163,
           18085,
           3873,
           1136,
           61748,
           59181,
           11654,
           16145,
           11869,
           62278,
           26340,
           65697,
           12068,
           2635291,
           45483,
           81501,
           595834,
           935926,
           132291,
           141499,
           22585,
           12442,
           74071,
           21428,
           22859,
           12366,
           64882,
           30490,
           50466,
           45984,
           363712,
           33723,
           425663,
           855014,
           123689,
           21110,
           44258,
           4106,
           20072,
           1142446,
           32534,
           7633,
           16818,
           16605,
           24927,
           4725,
           15858,
           889388,
           43959,
           233727,
           144403,
           257913,
           456699,
           24152,
           8207,
           20800,
           3848,
           2433,
           11898,
           37291,
           1499395,
           840116,
           400893,
           530259,
           557421,
           2034027,
           1165611,
           14601,
           32223,
           18555,
           29775,
           4449,
           43879,
           1882,
           5988,
           24966,
           13324,
           18259,
           6605,
           110439,
           14187,
           19859,
           55919,
           39471,
           14709,
           28331,
           14588,
           3101,
           11796,
           5862,
           3365,
           22387,
           70835,
           13532,
           1076347,
           52831,
           12709,
           850161,
           43484,
           1452138,
           76776,
           11624,
           28911,
           12754,
           2366,
           22931,
           8347,
           11212,
           183053,
           470380,
           6953,
           35803,
           55865,
           17798,
           8340,
           16709,
           10455,
           95555,
           352366,
           8020,
           74443,
           3847,
           22179,
           354978,
           16683,
           743780,
           189205,
           5846,
           8043,
           68019,
           24360,
           27313,
           15058,
           4120399,
           24358,
           4731,
           26975,
           25140,
           6233,
           23401,
           121474,
           231181,
           186097,
           123109,
           271560,
           100776,
           10916,
           31479,
           4547,
           27114,
           11506,
           120382,
           6318,
           8822,
           27516,
           52220,
           14952,
           27055,
           26681,
           4414,
           182234,
           6458,
           53747,
           771959,
           39056,
           26705,
           4244,
           15893,
           27998,
           5100,
           16318,
           12081,
           2936,
           71870,
           93567,
           9376,
           22931,
           12599,
           26953,
           7041,
           15937,
           115134,
           18659,
           24990,
           27930,
           48274,
           669,
           34645,
           8044,
           10897,
           103264,
           15548,
           62560,
           26105,
           77706,
           1230248,
           5509,
           9321,
           143431,
           87738,
           10438,
           41,
           70358,
           2646,
           306368,
           32183,
           50488,
           52889,
           46806,
           19114,
           97992,
           16374,
           39569,
           1900,
           23154,
           11237,
           19749,
           23021,
           46983,
           130313,
           67611,
           4184,
           15603,
           135562,
           257394,
           13206,
           6531,
           4410,
           20448,
           14242,
           6777,
           542979,
           17465,
           3367,
           17434,
           18061,
           32750,
           41558,
           31317,
           9603,
           34908,
           24773,
           1138054,
           447493,
           222294,
           37408,
           19027,
           54616,
           62320,
           8783,
           499,
           4822,
           27065,
           6749,
           56820,
           41814,
           52929,
           130295,
           165461,
           383452,
           28173,
           24937,
           69626,
           14974,
           95216,
           52086,
           108554,
           16981,
           38913,
           3026,
           10837,
           4681,
           6630,
           41707,
           8813,
           14695,
           4224,
           22994,
           12775,
           10747,
           26893,
           8146,
           126250,
           166571,
           5282,
           19590,
           26269,
           5915,
           696258,
           459190,
           22155,
           97890,
           499059,
           48770,
           19742,
           36818,
           16939
          ],
          "sizemode": "area",
          "sizeref": 1405.9675
         },
         "name": "",
         "showlegend": false,
         "type": "scattergeo"
        }
       ],
       "layout": {
        "coloraxis": {
         "cmax": 180,
         "cmin": 0,
         "colorbar": {
          "title": {
           "text": "saidi_nomed"
          }
         },
         "colorscale": [
          [
           0,
           "#0d0887"
          ],
          [
           0.1111111111111111,
           "#46039f"
          ],
          [
           0.2222222222222222,
           "#7201a8"
          ],
          [
           0.3333333333333333,
           "#9c179e"
          ],
          [
           0.4444444444444444,
           "#bd3786"
          ],
          [
           0.5555555555555556,
           "#d8576b"
          ],
          [
           0.6666666666666666,
           "#ed7953"
          ],
          [
           0.7777777777777778,
           "#fb9f3a"
          ],
          [
           0.8888888888888888,
           "#fdca26"
          ],
          [
           1,
           "#f0f921"
          ]
         ]
        },
        "geo": {
         "center": {},
         "domain": {
          "x": [
           0,
           1
          ],
          "y": [
           0,
           1
          ]
         },
         "projection": {
          "type": "albers usa"
         },
         "scope": "usa"
        },
        "legend": {
         "itemsizing": "constant",
         "tracegroupgap": 0
        },
        "margin": {
         "t": 60
        },
        "template": {
         "data": {
          "bar": [
           {
            "error_x": {
             "color": "#2a3f5f"
            },
            "error_y": {
             "color": "#2a3f5f"
            },
            "marker": {
             "line": {
              "color": "#E5ECF6",
              "width": 0.5
             }
            },
            "type": "bar"
           }
          ],
          "barpolar": [
           {
            "marker": {
             "line": {
              "color": "#E5ECF6",
              "width": 0.5
             }
            },
            "type": "barpolar"
           }
          ],
          "carpet": [
           {
            "aaxis": {
             "endlinecolor": "#2a3f5f",
             "gridcolor": "white",
             "linecolor": "white",
             "minorgridcolor": "white",
             "startlinecolor": "#2a3f5f"
            },
            "baxis": {
             "endlinecolor": "#2a3f5f",
             "gridcolor": "white",
             "linecolor": "white",
             "minorgridcolor": "white",
             "startlinecolor": "#2a3f5f"
            },
            "type": "carpet"
           }
          ],
          "choropleth": [
           {
            "colorbar": {
             "outlinewidth": 0,
             "ticks": ""
            },
            "type": "choropleth"
           }
          ],
          "contour": [
           {
            "colorbar": {
             "outlinewidth": 0,
             "ticks": ""
            },
            "colorscale": [
             [
              0,
              "#0d0887"
             ],
             [
              0.1111111111111111,
              "#46039f"
             ],
             [
              0.2222222222222222,
              "#7201a8"
             ],
             [
              0.3333333333333333,
              "#9c179e"
             ],
             [
              0.4444444444444444,
              "#bd3786"
             ],
             [
              0.5555555555555556,
              "#d8576b"
             ],
             [
              0.6666666666666666,
              "#ed7953"
             ],
             [
              0.7777777777777778,
              "#fb9f3a"
             ],
             [
              0.8888888888888888,
              "#fdca26"
             ],
             [
              1,
              "#f0f921"
             ]
            ],
            "type": "contour"
           }
          ],
          "contourcarpet": [
           {
            "colorbar": {
             "outlinewidth": 0,
             "ticks": ""
            },
            "type": "contourcarpet"
           }
          ],
          "heatmap": [
           {
            "colorbar": {
             "outlinewidth": 0,
             "ticks": ""
            },
            "colorscale": [
             [
              0,
              "#0d0887"
             ],
             [
              0.1111111111111111,
              "#46039f"
             ],
             [
              0.2222222222222222,
              "#7201a8"
             ],
             [
              0.3333333333333333,
              "#9c179e"
             ],
             [
              0.4444444444444444,
              "#bd3786"
             ],
             [
              0.5555555555555556,
              "#d8576b"
             ],
             [
              0.6666666666666666,
              "#ed7953"
             ],
             [
              0.7777777777777778,
              "#fb9f3a"
             ],
             [
              0.8888888888888888,
              "#fdca26"
             ],
             [
              1,
              "#f0f921"
             ]
            ],
            "type": "heatmap"
           }
          ],
          "heatmapgl": [
           {
            "colorbar": {
             "outlinewidth": 0,
             "ticks": ""
            },
            "colorscale": [
             [
              0,
              "#0d0887"
             ],
             [
              0.1111111111111111,
              "#46039f"
             ],
             [
              0.2222222222222222,
              "#7201a8"
             ],
             [
              0.3333333333333333,
              "#9c179e"
             ],
             [
              0.4444444444444444,
              "#bd3786"
             ],
             [
              0.5555555555555556,
              "#d8576b"
             ],
             [
              0.6666666666666666,
              "#ed7953"
             ],
             [
              0.7777777777777778,
              "#fb9f3a"
             ],
             [
              0.8888888888888888,
              "#fdca26"
             ],
             [
              1,
              "#f0f921"
             ]
            ],
            "type": "heatmapgl"
           }
          ],
          "histogram": [
           {
            "marker": {
             "colorbar": {
              "outlinewidth": 0,
              "ticks": ""
             }
            },
            "type": "histogram"
           }
          ],
          "histogram2d": [
           {
            "colorbar": {
             "outlinewidth": 0,
             "ticks": ""
            },
            "colorscale": [
             [
              0,
              "#0d0887"
             ],
             [
              0.1111111111111111,
              "#46039f"
             ],
             [
              0.2222222222222222,
              "#7201a8"
             ],
             [
              0.3333333333333333,
              "#9c179e"
             ],
             [
              0.4444444444444444,
              "#bd3786"
             ],
             [
              0.5555555555555556,
              "#d8576b"
             ],
             [
              0.6666666666666666,
              "#ed7953"
             ],
             [
              0.7777777777777778,
              "#fb9f3a"
             ],
             [
              0.8888888888888888,
              "#fdca26"
             ],
             [
              1,
              "#f0f921"
             ]
            ],
            "type": "histogram2d"
           }
          ],
          "histogram2dcontour": [
           {
            "colorbar": {
             "outlinewidth": 0,
             "ticks": ""
            },
            "colorscale": [
             [
              0,
              "#0d0887"
             ],
             [
              0.1111111111111111,
              "#46039f"
             ],
             [
              0.2222222222222222,
              "#7201a8"
             ],
             [
              0.3333333333333333,
              "#9c179e"
             ],
             [
              0.4444444444444444,
              "#bd3786"
             ],
             [
              0.5555555555555556,
              "#d8576b"
             ],
             [
              0.6666666666666666,
              "#ed7953"
             ],
             [
              0.7777777777777778,
              "#fb9f3a"
             ],
             [
              0.8888888888888888,
              "#fdca26"
             ],
             [
              1,
              "#f0f921"
             ]
            ],
            "type": "histogram2dcontour"
           }
          ],
          "mesh3d": [
           {
            "colorbar": {
             "outlinewidth": 0,
             "ticks": ""
            },
            "type": "mesh3d"
           }
          ],
          "parcoords": [
           {
            "line": {
             "colorbar": {
              "outlinewidth": 0,
              "ticks": ""
             }
            },
            "type": "parcoords"
           }
          ],
          "pie": [
           {
            "automargin": true,
            "type": "pie"
           }
          ],
          "scatter": [
           {
            "marker": {
             "colorbar": {
              "outlinewidth": 0,
              "ticks": ""
             }
            },
            "type": "scatter"
           }
          ],
          "scatter3d": [
           {
            "line": {
             "colorbar": {
              "outlinewidth": 0,
              "ticks": ""
             }
            },
            "marker": {
             "colorbar": {
              "outlinewidth": 0,
              "ticks": ""
             }
            },
            "type": "scatter3d"
           }
          ],
          "scattercarpet": [
           {
            "marker": {
             "colorbar": {
              "outlinewidth": 0,
              "ticks": ""
             }
            },
            "type": "scattercarpet"
           }
          ],
          "scattergeo": [
           {
            "marker": {
             "colorbar": {
              "outlinewidth": 0,
              "ticks": ""
             }
            },
            "type": "scattergeo"
           }
          ],
          "scattergl": [
           {
            "marker": {
             "colorbar": {
              "outlinewidth": 0,
              "ticks": ""
             }
            },
            "type": "scattergl"
           }
          ],
          "scattermapbox": [
           {
            "marker": {
             "colorbar": {
              "outlinewidth": 0,
              "ticks": ""
             }
            },
            "type": "scattermapbox"
           }
          ],
          "scatterpolar": [
           {
            "marker": {
             "colorbar": {
              "outlinewidth": 0,
              "ticks": ""
             }
            },
            "type": "scatterpolar"
           }
          ],
          "scatterpolargl": [
           {
            "marker": {
             "colorbar": {
              "outlinewidth": 0,
              "ticks": ""
             }
            },
            "type": "scatterpolargl"
           }
          ],
          "scatterternary": [
           {
            "marker": {
             "colorbar": {
              "outlinewidth": 0,
              "ticks": ""
             }
            },
            "type": "scatterternary"
           }
          ],
          "surface": [
           {
            "colorbar": {
             "outlinewidth": 0,
             "ticks": ""
            },
            "colorscale": [
             [
              0,
              "#0d0887"
             ],
             [
              0.1111111111111111,
              "#46039f"
             ],
             [
              0.2222222222222222,
              "#7201a8"
             ],
             [
              0.3333333333333333,
              "#9c179e"
             ],
             [
              0.4444444444444444,
              "#bd3786"
             ],
             [
              0.5555555555555556,
              "#d8576b"
             ],
             [
              0.6666666666666666,
              "#ed7953"
             ],
             [
              0.7777777777777778,
              "#fb9f3a"
             ],
             [
              0.8888888888888888,
              "#fdca26"
             ],
             [
              1,
              "#f0f921"
             ]
            ],
            "type": "surface"
           }
          ],
          "table": [
           {
            "cells": {
             "fill": {
              "color": "#EBF0F8"
             },
             "line": {
              "color": "white"
             }
            },
            "header": {
             "fill": {
              "color": "#C8D4E3"
             },
             "line": {
              "color": "white"
             }
            },
            "type": "table"
           }
          ]
         },
         "layout": {
          "annotationdefaults": {
           "arrowcolor": "#2a3f5f",
           "arrowhead": 0,
           "arrowwidth": 1
          },
          "coloraxis": {
           "colorbar": {
            "outlinewidth": 0,
            "ticks": ""
           }
          },
          "colorscale": {
           "diverging": [
            [
             0,
             "#8e0152"
            ],
            [
             0.1,
             "#c51b7d"
            ],
            [
             0.2,
             "#de77ae"
            ],
            [
             0.3,
             "#f1b6da"
            ],
            [
             0.4,
             "#fde0ef"
            ],
            [
             0.5,
             "#f7f7f7"
            ],
            [
             0.6,
             "#e6f5d0"
            ],
            [
             0.7,
             "#b8e186"
            ],
            [
             0.8,
             "#7fbc41"
            ],
            [
             0.9,
             "#4d9221"
            ],
            [
             1,
             "#276419"
            ]
           ],
           "sequential": [
            [
             0,
             "#0d0887"
            ],
            [
             0.1111111111111111,
             "#46039f"
            ],
            [
             0.2222222222222222,
             "#7201a8"
            ],
            [
             0.3333333333333333,
             "#9c179e"
            ],
            [
             0.4444444444444444,
             "#bd3786"
            ],
            [
             0.5555555555555556,
             "#d8576b"
            ],
            [
             0.6666666666666666,
             "#ed7953"
            ],
            [
             0.7777777777777778,
             "#fb9f3a"
            ],
            [
             0.8888888888888888,
             "#fdca26"
            ],
            [
             1,
             "#f0f921"
            ]
           ],
           "sequentialminus": [
            [
             0,
             "#0d0887"
            ],
            [
             0.1111111111111111,
             "#46039f"
            ],
            [
             0.2222222222222222,
             "#7201a8"
            ],
            [
             0.3333333333333333,
             "#9c179e"
            ],
            [
             0.4444444444444444,
             "#bd3786"
            ],
            [
             0.5555555555555556,
             "#d8576b"
            ],
            [
             0.6666666666666666,
             "#ed7953"
            ],
            [
             0.7777777777777778,
             "#fb9f3a"
            ],
            [
             0.8888888888888888,
             "#fdca26"
            ],
            [
             1,
             "#f0f921"
            ]
           ]
          },
          "colorway": [
           "#636efa",
           "#EF553B",
           "#00cc96",
           "#ab63fa",
           "#FFA15A",
           "#19d3f3",
           "#FF6692",
           "#B6E880",
           "#FF97FF",
           "#FECB52"
          ],
          "font": {
           "color": "#2a3f5f"
          },
          "geo": {
           "bgcolor": "white",
           "lakecolor": "white",
           "landcolor": "#E5ECF6",
           "showlakes": true,
           "showland": true,
           "subunitcolor": "white"
          },
          "hoverlabel": {
           "align": "left"
          },
          "hovermode": "closest",
          "mapbox": {
           "style": "light"
          },
          "paper_bgcolor": "white",
          "plot_bgcolor": "#E5ECF6",
          "polar": {
           "angularaxis": {
            "gridcolor": "white",
            "linecolor": "white",
            "ticks": ""
           },
           "bgcolor": "#E5ECF6",
           "radialaxis": {
            "gridcolor": "white",
            "linecolor": "white",
            "ticks": ""
           }
          },
          "scene": {
           "xaxis": {
            "backgroundcolor": "#E5ECF6",
            "gridcolor": "white",
            "gridwidth": 2,
            "linecolor": "white",
            "showbackground": true,
            "ticks": "",
            "zerolinecolor": "white"
           },
           "yaxis": {
            "backgroundcolor": "#E5ECF6",
            "gridcolor": "white",
            "gridwidth": 2,
            "linecolor": "white",
            "showbackground": true,
            "ticks": "",
            "zerolinecolor": "white"
           },
           "zaxis": {
            "backgroundcolor": "#E5ECF6",
            "gridcolor": "white",
            "gridwidth": 2,
            "linecolor": "white",
            "showbackground": true,
            "ticks": "",
            "zerolinecolor": "white"
           }
          },
          "shapedefaults": {
           "line": {
            "color": "#2a3f5f"
           }
          },
          "ternary": {
           "aaxis": {
            "gridcolor": "white",
            "linecolor": "white",
            "ticks": ""
           },
           "baxis": {
            "gridcolor": "white",
            "linecolor": "white",
            "ticks": ""
           },
           "bgcolor": "#E5ECF6",
           "caxis": {
            "gridcolor": "white",
            "linecolor": "white",
            "ticks": ""
           }
          },
          "title": {
           "x": 0.05
          },
          "xaxis": {
           "automargin": true,
           "gridcolor": "white",
           "linecolor": "white",
           "ticks": "",
           "title": {
            "standoff": 15
           },
           "zerolinecolor": "white",
           "zerolinewidth": 2
          },
          "yaxis": {
           "automargin": true,
           "gridcolor": "white",
           "linecolor": "white",
           "ticks": "",
           "title": {
            "standoff": 15
           },
           "zerolinecolor": "white",
           "zerolinewidth": 2
          }
         }
        },
        "title": {
         "text": "Grid Reliability in the 50 States",
         "x": 0.5
        }
       }
      },
      "text/html": [
       "<div>                            <div id=\"7bbfcb41-62b8-4bef-87ac-edfd79378df5\" class=\"plotly-graph-div\" style=\"height:525px; width:100%;\"></div>            <script type=\"text/javascript\">                require([\"plotly\"], function(Plotly) {                    window.PLOTLYENV=window.PLOTLYENV || {};                                    if (document.getElementById(\"7bbfcb41-62b8-4bef-87ac-edfd79378df5\")) {                    Plotly.newPlot(                        \"7bbfcb41-62b8-4bef-87ac-edfd79378df5\",                        [{\"customdata\": [[\"IL\"], [\"WI\"], [\"MN\"], [\"SC\"], [\"AK\"], [\"NC\"], [\"AL\"], [\"MI\"], [\"IA\"], [\"GA\"], [\"IA\"], [\"GA\"], [\"CA\"], [\"AK\"], [\"IN\"], [\"MN\"], [\"CA\"], [\"TN\"], [\"VA\"], [\"WV\"], [\"AZ\"], [\"AR\"], [\"AR\"], [\"OK\"], [\"AR\"], [\"NJ\"], [\"MN\"], [\"TX\"], [\"VA\"], [\"AL\"], [\"MD\"], [\"SC\"], [\"TX\"], [\"ME\"], [\"WI\"], [\"TX\"], [\"IN\"], [\"MI\"], [\"VA\"], [\"MA\"], [\"MN\"], [\"WA\"], [\"SC\"], [\"MD\"], [\"KY\"], [\"SD\"], [\"MO\"], [\"MN\"], [\"KY\"], [\"NC\"], [\"SC\"], [\"TX\"], [\"TN\"], [\"MO\"], [\"OH\"], [\"KY\"], [\"CT\"], [\"MA\"], [\"TN\"], [\"VA\"], [\"TX\"], [\"OH\"], [\"OH\"], [\"KS\"], [\"OH\"], [\"GA\"], [\"OK\"], [\"NC\"], [\"WY\"], [\"NC\"], [\"SC\"], [\"GA\"], [\"AR\"], [\"MO\"], [\"MO\"], [\"AL\"], [\"OK\"], [\"FL\"], [\"GA\"], [\"NC\"], [\"ME\"], [\"MO\"], [\"TX\"], [\"NM\"], [\"VA\"], [\"WA\"], [\"IA\"], [\"PA\"], [\"TN\"], [\"WA\"], [\"MI\"], [\"WY\"], [\"OK\"], [\"MO\"], [\"FL\"], [\"MD\"], [\"OH\"], [\"MO\"], [\"MO\"], [\"OK\"], [\"WA\"], [\"KY\"], [\"ID\"], [\"OH\"], [\"FL\"], [\"TN\"], [\"OH\"], [\"TN\"], [\"MI\"], [\"MS\"], [\"GA\"], [\"SC\"], [\"TN\"], [\"KS\"], [\"GA\"], [\"TX\"], [\"CO\"], [\"OR\"], [\"WA\"], [\"MO\"], [\"MO\"], [\"OH\"], [\"MS\"], [\"IL\"], [\"VA\"], [\"TX\"], [\"NC\"], [\"CT\"], [\"MO\"], [\"MI\"], [\"AR\"], [\"OK\"], [\"OR\"], [\"AL\"], [\"MN\"], [\"IL\"], [\"OK\"], [\"AL\"], [\"GA\"], [\"WA\"], [\"VA\"], [\"WV\"], [\"MO\"], [\"MN\"], [\"AL\"], [\"KY\"], [\"MO\"], [\"OH\"], [\"ND\"], [\"OR\"], [\"OH\"], [\"IN\"], [\"OH\"], [\"TX\"], [\"IN\"], [\"TX\"], [\"NY\"], [\"DE\"], [\"MD\"], [\"TX\"], [\"DE\"], [\"TX\"], [\"MI\"], [\"MN\"], [\"TN\"], [\"LA\"], [\"AL\"], [\"OH\"], [\"TN\"], [\"NC\"], [\"SC\"], [\"WI\"], [\"AZ\"], [\"TN\"], [\"MN\"], [\"MS\"], [\"IL\"], [\"IA\"], [\"OK\"], [\"IA\"], [\"ME\"], [\"SC\"], [\"NC\"], [\"OK\"], [\"NM\"], [\"TX\"], [\"MN\"], [\"AR\"], [\"KS\"], [\"MO\"], [\"OK\"], [\"CO\"], [\"NY\"], [\"PA\"], [\"OR\"], [\"IA\"], [\"IA\"], [\"ID\"], [\"MT\"], [\"WY\"], [\"TX\"], [\"KY\"], [\"NM\"], [\"TN\"], [\"NC\"], [\"MN\"], [\"SD\"], [\"OH\"], [\"AR\"], [\"MA\"], [\"MT\"], [\"WI\"], [\"TX\"], [\"KS\"], [\"KY\"], [\"FL\"], [\"FL\"], [\"FL\"], [\"AL\"], [\"TN\"], [\"MS\"], [\"KY\"], [\"SC\"], [\"NY\"], [\"NE\"], [\"MN\"], [\"OH\"], [\"MO\"], [\"FL\"], [\"UT\"], [\"GA\"], [\"IL\"], [\"GA\"], [\"TN\"], [\"FL\"], [\"AK\"], [\"GA\"], [\"AZ\"], [\"MN\"], [\"MI\"], [\"WA\"], [\"KY\"], [\"CO\"], [\"TN\"], [\"TX\"], [\"CT\"], [\"TX\"], [\"FL\"], [\"FL\"], [\"SD\"], [\"GA\"], [\"OH\"], [\"OH\"], [\"NC\"], [\"OH\"], [\"MO\"], [\"IA\"], [\"TN\"], [\"IN\"], [\"WV\"], [\"MO\"], [\"GA\"], [\"NE\"], [\"HI\"], [\"IA\"], [\"NC\"], [\"UT\"], [\"IN\"], [\"IN\"], [\"MO\"], [\"MO\"], [\"NC\"], [\"TX\"], [\"WA\"], [\"MI\"], [\"OH\"], [\"TN\"], [\"CO\"], [\"MA\"], [\"SC\"], [\"FL\"], [\"IL\"], [\"AR\"], [\"OH\"], [\"AL\"], [\"LA\"], [\"UT\"], [\"ID\"], [\"ID\"], [\"OR\"], [\"CA\"], [\"IA\"], [\"OK\"], [\"IN\"], [\"KY\"], [\"IN\"], [\"MI\"], [\"MO\"], [\"CO\"], [\"IA\"], [\"MA\"], [\"MN\"], [\"KY\"], [\"IN\"], [\"GA\"], [\"KY\"], [\"IN\"], [\"TX\"], [\"GA\"], [\"NM\"], [\"NJ\"], [\"IL\"], [\"TN\"], [\"IN\"], [\"KY\"], [\"MN\"], [\"KS\"], [\"KS\"], [\"MO\"], [\"KS\"], [\"KS\"], [\"WI\"], [\"UT\"], [\"OK\"], [\"KY\"], [\"VA\"], [\"FL\"], [\"TN\"], [\"NC\"], [\"TN\"], [\"IN\"], [\"ID\"], [\"CO\"], [\"TN\"], [\"OK\"], [\"MO\"], [\"MN\"], [\"GA\"], [\"CO\"], [\"OH\"], [\"MN\"], [\"CA\"], [\"SC\"], [\"IN\"], [\"UT\"], [\"WA\"], [\"TN\"], [\"NE\"], [\"IA\"], [\"UT\"], [\"OH\"], [\"OH\"], [\"CA\"], [\"LA\"], [\"KY\"], [\"CO\"], [\"MI\"], [\"NC\"], [\"IA\"], [\"MN\"], [\"SC\"], [\"TX\"], [\"MO\"], [\"WI\"], [\"TX\"], [\"VA\"], [\"WI\"], [\"MA\"], [\"MA\"], [\"GA\"], [\"SC\"], [\"MI\"], [\"WI\"], [\"IA\"], [\"AK\"], [\"HI\"], [\"MN\"], [\"ND\"], [\"TN\"], [\"KS\"], [\"MN\"], [\"KY\"], [\"VA\"], [\"TX\"], [\"TN\"], [\"MA\"], [\"ND\"], [\"IA\"], [\"IL\"], [\"SD\"], [\"AZ\"], [\"PA\"], [\"IL\"], [\"SC\"], [\"MT\"], [\"TN\"], [\"OH\"], [\"KS\"], [\"MN\"], [\"IA\"], [\"MN\"], [\"MN\"], [\"MS\"], [\"MS\"], [\"MT\"], [\"MO\"], [\"CA\"], [\"MO\"], [\"WV\"], [\"NC\"], [\"IL\"], [\"MT\"], [\"NM\"], [\"IN\"], [\"OH\"], [\"KS\"], [\"FL\"], [\"CO\"], [\"IA\"], [\"ND\"], [\"OH\"], [\"RI\"], [\"TN\"], [\"NE\"], [\"KS\"], [\"NV\"], [\"NC\"], [\"TX\"], [\"DE\"], [\"WV\"], [\"LA\"], [\"WI\"], [\"NC\"], [\"GA\"], [\"NC\"], [\"NY\"], [\"MI\"], [\"IN\"], [\"KY\"], [\"NE\"], [\"AR\"], [\"MA\"], [\"MN\"], [\"WY\"], [\"OH\"], [\"GA\"], [\"MN\"], [\"MS\"], [\"SD\"], [\"IN\"], [\"MI\"], [\"WI\"], [\"MN\"], [\"ND\"], [\"SD\"], [\"OR\"], [\"NE\"], [\"SD\"], [\"TX\"], [\"CT\"], [\"OK\"], [\"WI\"], [\"OK\"], [\"OH\"], [\"OH\"], [\"OK\"], [\"MN\"], [\"NE\"], [\"AL\"], [\"MI\"], [\"WA\"], [\"SC\"], [\"MN\"], [\"IA\"], [\"MN\"], [\"ND\"], [\"SD\"], [\"NV\"], [\"MN\"], [\"KY\"], [\"KY\"], [\"AR\"], [\"OK\"], [\"CA\"], [\"CA\"], [\"ID\"], [\"OR\"], [\"UT\"], [\"WA\"], [\"WY\"], [\"KY\"], [\"OH\"], [\"SC\"], [\"TN\"], [\"MN\"], [\"IN\"], [\"CA\"], [\"SC\"], [\"MS\"], [\"FL\"], [\"TX\"], [\"WA\"], [\"PA\"], [\"PA\"], [\"PA\"], [\"NC\"], [\"KY\"], [\"PA\"], [\"AR\"], [\"PA\"], [\"NC\"], [\"WI\"], [\"OH\"], [\"KS\"], [\"MO\"], [\"NE\"], [\"OK\"], [\"OR\"], [\"CO\"], [\"MD\"], [\"WV\"], [\"DC\"], [\"MD\"], [\"TN\"], [\"VA\"], [\"WI\"], [\"KY\"], [\"MN\"], [\"VA\"], [\"UT\"], [\"CO\"], [\"IN\"], [\"NH\"], [\"NM\"], [\"OK\"], [\"NJ\"], [\"WA\"], [\"TN\"], [\"NC\"], [\"GA\"], [\"MA\"], [\"MN\"], [\"CA\"], [\"MN\"], [\"WI\"], [\"WA\"], [\"TX\"], [\"WI\"], [\"WI\"], [\"CA\"], [\"NC\"], [\"TX\"], [\"MN\"], [\"SC\"], [\"TN\"], [\"NC\"], [\"MN\"], [\"MA\"], [\"OK\"], [\"IL\"], [\"KS\"], [\"TX\"], [\"NC\"], [\"VA\"], [\"AZ\"], [\"KY\"], [\"CO\"], [\"TX\"], [\"SC\"], [\"CA\"], [\"TX\"], [\"TX\"], [\"TX\"], [\"CO\"], [\"MN\"], [\"MO\"], [\"AL\"], [\"KS\"], [\"GA\"], [\"WA\"], [\"KS\"], [\"TN\"], [\"TN\"], [\"MN\"], [\"NC\"], [\"KY\"], [\"TN\"], [\"VA\"], [\"NV\"], [\"AR\"], [\"MS\"], [\"MN\"], [\"SD\"], [\"WA\"], [\"AL\"], [\"SC\"], [\"SC\"], [\"MN\"], [\"MA\"], [\"KY\"], [\"IL\"], [\"IN\"], [\"OK\"], [\"CA\"], [\"CA\"], [\"IA\"], [\"AR\"], [\"MS\"], [\"NE\"], [\"IL\"], [\"AR\"], [\"LA\"], [\"TX\"], [\"NM\"], [\"TX\"], [\"GA\"], [\"WI\"], [\"UT\"], [\"CA\"], [\"MN\"], [\"MN\"], [\"OH\"], [\"NY\"], [\"WI\"], [\"AL\"], [\"AZ\"], [\"WI\"], [\"NC\"], [\"FL\"], [\"WI\"], [\"WA\"], [\"IA\"], [\"FL\"], [\"FL\"], [\"MA\"], [\"KY\"], [\"IN\"], [\"GA\"], [\"IN\"], [\"OH\"], [\"IL\"], [\"MS\"], [\"KS\"], [\"TX\"], [\"OH\"], [\"AL\"], [\"NC\"], [\"MI\"], [\"WY\"], [\"IA\"], [\"MN\"], [\"TX\"], [\"FL\"], [\"KY\"], [\"TN\"], [\"AZ\"], [\"AL\"], [\"GA\"], [\"AL\"], [\"TN\"], [\"CA\"], [\"OR\"], [\"PA\"], [\"MI\"], [\"NC\"], [\"MO\"], [\"IA\"], [\"IN\"], [\"KY\"], [\"TX\"], [\"OH\"], [\"MT\"], [\"SD\"], [\"WY\"], [\"HI\"], [\"AK\"], [\"TN\"], [\"MI\"], [\"TX\"], [\"IN\"], [\"AZ\"], [\"ND\"], [\"VT\"], [\"OH\"], [\"TX\"], [\"WI\"], [\"KS\"], [\"NV\"], [\"NC\"], [\"GA\"], [\"KY\"], [\"MN\"], [\"GA\"], [\"ID\"], [\"WA\"], [\"SD\"], [\"WI\"], [\"WI\"], [\"TN\"], [\"MO\"], [\"SD\"], [\"PA\"], [\"SD\"], [\"SD\"], [\"OH\"], [\"MA\"], [\"KS\"], [\"WV\"], [\"IN\"], [\"MN\"], [\"NC\"], [\"AL\"], [\"WI\"], [\"WI\"], [\"FL\"], [\"TX\"], [\"AR\"], [\"MN\"], [\"SC\"], [\"CO\"], [\"NE\"], [\"WY\"], [\"CO\"], [\"MI\"], [\"VA\"], [\"AZ\"], [\"LA\"], [\"NC\"], [\"KY\"], [\"KS\"], [\"MS\"], [\"IN\"], [\"NH\"], [\"IN\"], [\"NC\"], [\"ND\"], [\"MN\"], [\"IN\"], [\"NH\"], [\"IA\"], [\"MT\"], [\"MN\"], [\"TN\"], [\"MO\"], [\"MN\"], [\"IN\"], [\"OR\"], [\"TX\"], [\"AL\"], [\"FL\"], [\"GA\"], [\"OH\"], [\"MI\"], [\"VA\"], [\"MN\"], [\"OR\"], [\"NE\"], [\"IA\"], [\"MA\"], [\"TX\"], [\"TX\"], [\"CO\"], [\"IL\"], [\"CA\"], [\"WA\"], [\"MI\"], [\"KS\"]], \"geo\": \"geo\", \"hovertemplate\": \"<b>%{hovertext}</b><br><br>total_cust=%{marker.size}<br>saidi_nomed=%{marker.color}<extra></extra>\", \"hovertext\": [\"IL\", \"WI\", \"MN\", \"SC\", \"AK\", \"NC\", \"AL\", \"MI\", \"IA\", \"GA\", \"IA\", \"GA\", \"CA\", \"AK\", \"IN\", \"MN\", \"CA\", \"TN\", \"VA\", \"WV\", \"AZ\", \"AR\", \"AR\", \"OK\", \"AR\", \"NJ\", \"MN\", \"TX\", \"VA\", \"AL\", \"MD\", \"SC\", \"TX\", \"ME\", \"WI\", \"TX\", \"IN\", \"MI\", \"VA\", \"MA\", \"MN\", \"WA\", \"SC\", \"MD\", \"KY\", \"SD\", \"MO\", \"MN\", \"KY\", \"NC\", \"SC\", \"TX\", \"TN\", \"MO\", \"OH\", \"KY\", \"CT\", \"MA\", \"TN\", \"VA\", \"TX\", \"OH\", \"OH\", \"KS\", \"OH\", \"GA\", \"OK\", \"NC\", \"WY\", \"NC\", \"SC\", \"GA\", \"AR\", \"MO\", \"MO\", \"AL\", \"OK\", \"FL\", \"GA\", \"NC\", \"ME\", \"MO\", \"TX\", \"NM\", \"VA\", \"WA\", \"IA\", \"PA\", \"TN\", \"WA\", \"MI\", \"WY\", \"OK\", \"MO\", \"FL\", \"MD\", \"OH\", \"MO\", \"MO\", \"OK\", \"WA\", \"KY\", \"ID\", \"OH\", \"FL\", \"TN\", \"OH\", \"TN\", \"MI\", \"MS\", \"GA\", \"SC\", \"TN\", \"KS\", \"GA\", \"TX\", \"CO\", \"OR\", \"WA\", \"MO\", \"MO\", \"OH\", \"MS\", \"IL\", \"VA\", \"TX\", \"NC\", \"CT\", \"MO\", \"MI\", \"AR\", \"OK\", \"OR\", \"AL\", \"MN\", \"IL\", \"OK\", \"AL\", \"GA\", \"WA\", \"VA\", \"WV\", \"MO\", \"MN\", \"AL\", \"KY\", \"MO\", \"OH\", \"ND\", \"OR\", \"OH\", \"IN\", \"OH\", \"TX\", \"IN\", \"TX\", \"NY\", \"DE\", \"MD\", \"TX\", \"DE\", \"TX\", \"MI\", \"MN\", \"TN\", \"LA\", \"AL\", \"OH\", \"TN\", \"NC\", \"SC\", \"WI\", \"AZ\", \"TN\", \"MN\", \"MS\", \"IL\", \"IA\", \"OK\", \"IA\", \"ME\", \"SC\", \"NC\", \"OK\", \"NM\", \"TX\", \"MN\", \"AR\", \"KS\", \"MO\", \"OK\", \"CO\", \"NY\", \"PA\", \"OR\", \"IA\", \"IA\", \"ID\", \"MT\", \"WY\", \"TX\", \"KY\", \"NM\", \"TN\", \"NC\", \"MN\", \"SD\", \"OH\", \"AR\", \"MA\", \"MT\", \"WI\", \"TX\", \"KS\", \"KY\", \"FL\", \"FL\", \"FL\", \"AL\", \"TN\", \"MS\", \"KY\", \"SC\", \"NY\", \"NE\", \"MN\", \"OH\", \"MO\", \"FL\", \"UT\", \"GA\", \"IL\", \"GA\", \"TN\", \"FL\", \"AK\", \"GA\", \"AZ\", \"MN\", \"MI\", \"WA\", \"KY\", \"CO\", \"TN\", \"TX\", \"CT\", \"TX\", \"FL\", \"FL\", \"SD\", \"GA\", \"OH\", \"OH\", \"NC\", \"OH\", \"MO\", \"IA\", \"TN\", \"IN\", \"WV\", \"MO\", \"GA\", \"NE\", \"HI\", \"IA\", \"NC\", \"UT\", \"IN\", \"IN\", \"MO\", \"MO\", \"NC\", \"TX\", \"WA\", \"MI\", \"OH\", \"TN\", \"CO\", \"MA\", \"SC\", \"FL\", \"IL\", \"AR\", \"OH\", \"AL\", \"LA\", \"UT\", \"ID\", \"ID\", \"OR\", \"CA\", \"IA\", \"OK\", \"IN\", \"KY\", \"IN\", \"MI\", \"MO\", \"CO\", \"IA\", \"MA\", \"MN\", \"KY\", \"IN\", \"GA\", \"KY\", \"IN\", \"TX\", \"GA\", \"NM\", \"NJ\", \"IL\", \"TN\", \"IN\", \"KY\", \"MN\", \"KS\", \"KS\", \"MO\", \"KS\", \"KS\", \"WI\", \"UT\", \"OK\", \"KY\", \"VA\", \"FL\", \"TN\", \"NC\", \"TN\", \"IN\", \"ID\", \"CO\", \"TN\", \"OK\", \"MO\", \"MN\", \"GA\", \"CO\", \"OH\", \"MN\", \"CA\", \"SC\", \"IN\", \"UT\", \"WA\", \"TN\", \"NE\", \"IA\", \"UT\", \"OH\", \"OH\", \"CA\", \"LA\", \"KY\", \"CO\", \"MI\", \"NC\", \"IA\", \"MN\", \"SC\", \"TX\", \"MO\", \"WI\", \"TX\", \"VA\", \"WI\", \"MA\", \"MA\", \"GA\", \"SC\", \"MI\", \"WI\", \"IA\", \"AK\", \"HI\", \"MN\", \"ND\", \"TN\", \"KS\", \"MN\", \"KY\", \"VA\", \"TX\", \"TN\", \"MA\", \"ND\", \"IA\", \"IL\", \"SD\", \"AZ\", \"PA\", \"IL\", \"SC\", \"MT\", \"TN\", \"OH\", \"KS\", \"MN\", \"IA\", \"MN\", \"MN\", \"MS\", \"MS\", \"MT\", \"MO\", \"CA\", \"MO\", \"WV\", \"NC\", \"IL\", \"MT\", \"NM\", \"IN\", \"OH\", \"KS\", \"FL\", \"CO\", \"IA\", \"ND\", \"OH\", \"RI\", \"TN\", \"NE\", \"KS\", \"NV\", \"NC\", \"TX\", \"DE\", \"WV\", \"LA\", \"WI\", \"NC\", \"GA\", \"NC\", \"NY\", \"MI\", \"IN\", \"KY\", \"NE\", \"AR\", \"MA\", \"MN\", \"WY\", \"OH\", \"GA\", \"MN\", \"MS\", \"SD\", \"IN\", \"MI\", \"WI\", \"MN\", \"ND\", \"SD\", \"OR\", \"NE\", \"SD\", \"TX\", \"CT\", \"OK\", \"WI\", \"OK\", \"OH\", \"OH\", \"OK\", \"MN\", \"NE\", \"AL\", \"MI\", \"WA\", \"SC\", \"MN\", \"IA\", \"MN\", \"ND\", \"SD\", \"NV\", \"MN\", \"KY\", \"KY\", \"AR\", \"OK\", \"CA\", \"CA\", \"ID\", \"OR\", \"UT\", \"WA\", \"WY\", \"KY\", \"OH\", \"SC\", \"TN\", \"MN\", \"IN\", \"CA\", \"SC\", \"MS\", \"FL\", \"TX\", \"WA\", \"PA\", \"PA\", \"PA\", \"NC\", \"KY\", \"PA\", \"AR\", \"PA\", \"NC\", \"WI\", \"OH\", \"KS\", \"MO\", \"NE\", \"OK\", \"OR\", \"CO\", \"MD\", \"WV\", \"DC\", \"MD\", \"TN\", \"VA\", \"WI\", \"KY\", \"MN\", \"VA\", \"UT\", \"CO\", \"IN\", \"NH\", \"NM\", \"OK\", \"NJ\", \"WA\", \"TN\", \"NC\", \"GA\", \"MA\", \"MN\", \"CA\", \"MN\", \"WI\", \"WA\", \"TX\", \"WI\", \"WI\", \"CA\", \"NC\", \"TX\", \"MN\", \"SC\", \"TN\", \"NC\", \"MN\", \"MA\", \"OK\", \"IL\", \"KS\", \"TX\", \"NC\", \"VA\", \"AZ\", \"KY\", \"CO\", \"TX\", \"SC\", \"CA\", \"TX\", \"TX\", \"TX\", \"CO\", \"MN\", \"MO\", \"AL\", \"KS\", \"GA\", \"WA\", \"KS\", \"TN\", \"TN\", \"MN\", \"NC\", \"KY\", \"TN\", \"VA\", \"NV\", \"AR\", \"MS\", \"MN\", \"SD\", \"WA\", \"AL\", \"SC\", \"SC\", \"MN\", \"MA\", \"KY\", \"IL\", \"IN\", \"OK\", \"CA\", \"CA\", \"IA\", \"AR\", \"MS\", \"NE\", \"IL\", \"AR\", \"LA\", \"TX\", \"NM\", \"TX\", \"GA\", \"WI\", \"UT\", \"CA\", \"MN\", \"MN\", \"OH\", \"NY\", \"WI\", \"AL\", \"AZ\", \"WI\", \"NC\", \"FL\", \"WI\", \"WA\", \"IA\", \"FL\", \"FL\", \"MA\", \"KY\", \"IN\", \"GA\", \"IN\", \"OH\", \"IL\", \"MS\", \"KS\", \"TX\", \"OH\", \"AL\", \"NC\", \"MI\", \"WY\", \"IA\", \"MN\", \"TX\", \"FL\", \"KY\", \"TN\", \"AZ\", \"AL\", \"GA\", \"AL\", \"TN\", \"CA\", \"OR\", \"PA\", \"MI\", \"NC\", \"MO\", \"IA\", \"IN\", \"KY\", \"TX\", \"OH\", \"MT\", \"SD\", \"WY\", \"HI\", \"AK\", \"TN\", \"MI\", \"TX\", \"IN\", \"AZ\", \"ND\", \"VT\", \"OH\", \"TX\", \"WI\", \"KS\", \"NV\", \"NC\", \"GA\", \"KY\", \"MN\", \"GA\", \"ID\", \"WA\", \"SD\", \"WI\", \"WI\", \"TN\", \"MO\", \"SD\", \"PA\", \"SD\", \"SD\", \"OH\", \"MA\", \"KS\", \"WV\", \"IN\", \"MN\", \"NC\", \"AL\", \"WI\", \"WI\", \"FL\", \"TX\", \"AR\", \"MN\", \"SC\", \"CO\", \"NE\", \"WY\", \"CO\", \"MI\", \"VA\", \"AZ\", \"LA\", \"NC\", \"KY\", \"KS\", \"MS\", \"IN\", \"NH\", \"IN\", \"NC\", \"ND\", \"MN\", \"IN\", \"NH\", \"IA\", \"MT\", \"MN\", \"TN\", \"MO\", \"MN\", \"IN\", \"OR\", \"TX\", \"AL\", \"FL\", \"GA\", \"OH\", \"MI\", \"VA\", \"MN\", \"OR\", \"NE\", \"IA\", \"MA\", \"TX\", \"TX\", \"CO\", \"IL\", \"CA\", \"WA\", \"MI\", \"KS\"], \"legendgroup\": \"\", \"locationmode\": \"USA-states\", \"locations\": [\"IL\", \"WI\", \"MN\", \"SC\", \"AK\", \"NC\", \"AL\", \"MI\", \"IA\", \"GA\", \"IA\", \"GA\", \"CA\", \"AK\", \"IN\", \"MN\", \"CA\", \"TN\", \"VA\", \"WV\", \"AZ\", \"AR\", \"AR\", \"OK\", \"AR\", \"NJ\", \"MN\", \"TX\", \"VA\", \"AL\", \"MD\", \"SC\", \"TX\", \"ME\", \"WI\", \"TX\", \"IN\", \"MI\", \"VA\", \"MA\", \"MN\", \"WA\", \"SC\", \"MD\", \"KY\", \"SD\", \"MO\", \"MN\", \"KY\", \"NC\", \"SC\", \"TX\", \"TN\", \"MO\", \"OH\", \"KY\", \"CT\", \"MA\", \"TN\", \"VA\", \"TX\", \"OH\", \"OH\", \"KS\", \"OH\", \"GA\", \"OK\", \"NC\", \"WY\", \"NC\", \"SC\", \"GA\", \"AR\", \"MO\", \"MO\", \"AL\", \"OK\", \"FL\", \"GA\", \"NC\", \"ME\", \"MO\", \"TX\", \"NM\", \"VA\", \"WA\", \"IA\", \"PA\", \"TN\", \"WA\", \"MI\", \"WY\", \"OK\", \"MO\", \"FL\", \"MD\", \"OH\", \"MO\", \"MO\", \"OK\", \"WA\", \"KY\", \"ID\", \"OH\", \"FL\", \"TN\", \"OH\", \"TN\", \"MI\", \"MS\", \"GA\", \"SC\", \"TN\", \"KS\", \"GA\", \"TX\", \"CO\", \"OR\", \"WA\", \"MO\", \"MO\", \"OH\", \"MS\", \"IL\", \"VA\", \"TX\", \"NC\", \"CT\", \"MO\", \"MI\", \"AR\", \"OK\", \"OR\", \"AL\", \"MN\", \"IL\", \"OK\", \"AL\", \"GA\", \"WA\", \"VA\", \"WV\", \"MO\", \"MN\", \"AL\", \"KY\", \"MO\", \"OH\", \"ND\", \"OR\", \"OH\", \"IN\", \"OH\", \"TX\", \"IN\", \"TX\", \"NY\", \"DE\", \"MD\", \"TX\", \"DE\", \"TX\", \"MI\", \"MN\", \"TN\", \"LA\", \"AL\", \"OH\", \"TN\", \"NC\", \"SC\", \"WI\", \"AZ\", \"TN\", \"MN\", \"MS\", \"IL\", \"IA\", \"OK\", \"IA\", \"ME\", \"SC\", \"NC\", \"OK\", \"NM\", \"TX\", \"MN\", \"AR\", \"KS\", \"MO\", \"OK\", \"CO\", \"NY\", \"PA\", \"OR\", \"IA\", \"IA\", \"ID\", \"MT\", \"WY\", \"TX\", \"KY\", \"NM\", \"TN\", \"NC\", \"MN\", \"SD\", \"OH\", \"AR\", \"MA\", \"MT\", \"WI\", \"TX\", \"KS\", \"KY\", \"FL\", \"FL\", \"FL\", \"AL\", \"TN\", \"MS\", \"KY\", \"SC\", \"NY\", \"NE\", \"MN\", \"OH\", \"MO\", \"FL\", \"UT\", \"GA\", \"IL\", \"GA\", \"TN\", \"FL\", \"AK\", \"GA\", \"AZ\", \"MN\", \"MI\", \"WA\", \"KY\", \"CO\", \"TN\", \"TX\", \"CT\", \"TX\", \"FL\", \"FL\", \"SD\", \"GA\", \"OH\", \"OH\", \"NC\", \"OH\", \"MO\", \"IA\", \"TN\", \"IN\", \"WV\", \"MO\", \"GA\", \"NE\", \"HI\", \"IA\", \"NC\", \"UT\", \"IN\", \"IN\", \"MO\", \"MO\", \"NC\", \"TX\", \"WA\", \"MI\", \"OH\", \"TN\", \"CO\", \"MA\", \"SC\", \"FL\", \"IL\", \"AR\", \"OH\", \"AL\", \"LA\", \"UT\", \"ID\", \"ID\", \"OR\", \"CA\", \"IA\", \"OK\", \"IN\", \"KY\", \"IN\", \"MI\", \"MO\", \"CO\", \"IA\", \"MA\", \"MN\", \"KY\", \"IN\", \"GA\", \"KY\", \"IN\", \"TX\", \"GA\", \"NM\", \"NJ\", \"IL\", \"TN\", \"IN\", \"KY\", \"MN\", \"KS\", \"KS\", \"MO\", \"KS\", \"KS\", \"WI\", \"UT\", \"OK\", \"KY\", \"VA\", \"FL\", \"TN\", \"NC\", \"TN\", \"IN\", \"ID\", \"CO\", \"TN\", \"OK\", \"MO\", \"MN\", \"GA\", \"CO\", \"OH\", \"MN\", \"CA\", \"SC\", \"IN\", \"UT\", \"WA\", \"TN\", \"NE\", \"IA\", \"UT\", \"OH\", \"OH\", \"CA\", \"LA\", \"KY\", \"CO\", \"MI\", \"NC\", \"IA\", \"MN\", \"SC\", \"TX\", \"MO\", \"WI\", \"TX\", \"VA\", \"WI\", \"MA\", \"MA\", \"GA\", \"SC\", \"MI\", \"WI\", \"IA\", \"AK\", \"HI\", \"MN\", \"ND\", \"TN\", \"KS\", \"MN\", \"KY\", \"VA\", \"TX\", \"TN\", \"MA\", \"ND\", \"IA\", \"IL\", \"SD\", \"AZ\", \"PA\", \"IL\", \"SC\", \"MT\", \"TN\", \"OH\", \"KS\", \"MN\", \"IA\", \"MN\", \"MN\", \"MS\", \"MS\", \"MT\", \"MO\", \"CA\", \"MO\", \"WV\", \"NC\", \"IL\", \"MT\", \"NM\", \"IN\", \"OH\", \"KS\", \"FL\", \"CO\", \"IA\", \"ND\", \"OH\", \"RI\", \"TN\", \"NE\", \"KS\", \"NV\", \"NC\", \"TX\", \"DE\", \"WV\", \"LA\", \"WI\", \"NC\", \"GA\", \"NC\", \"NY\", \"MI\", \"IN\", \"KY\", \"NE\", \"AR\", \"MA\", \"MN\", \"WY\", \"OH\", \"GA\", \"MN\", \"MS\", \"SD\", \"IN\", \"MI\", \"WI\", \"MN\", \"ND\", \"SD\", \"OR\", \"NE\", \"SD\", \"TX\", \"CT\", \"OK\", \"WI\", \"OK\", \"OH\", \"OH\", \"OK\", \"MN\", \"NE\", \"AL\", \"MI\", \"WA\", \"SC\", \"MN\", \"IA\", \"MN\", \"ND\", \"SD\", \"NV\", \"MN\", \"KY\", \"KY\", \"AR\", \"OK\", \"CA\", \"CA\", \"ID\", \"OR\", \"UT\", \"WA\", \"WY\", \"KY\", \"OH\", \"SC\", \"TN\", \"MN\", \"IN\", \"CA\", \"SC\", \"MS\", \"FL\", \"TX\", \"WA\", \"PA\", \"PA\", \"PA\", \"NC\", \"KY\", \"PA\", \"AR\", \"PA\", \"NC\", \"WI\", \"OH\", \"KS\", \"MO\", \"NE\", \"OK\", \"OR\", \"CO\", \"MD\", \"WV\", \"DC\", \"MD\", \"TN\", \"VA\", \"WI\", \"KY\", \"MN\", \"VA\", \"UT\", \"CO\", \"IN\", \"NH\", \"NM\", \"OK\", \"NJ\", \"WA\", \"TN\", \"NC\", \"GA\", \"MA\", \"MN\", \"CA\", \"MN\", \"WI\", \"WA\", \"TX\", \"WI\", \"WI\", \"CA\", \"NC\", \"TX\", \"MN\", \"SC\", \"TN\", \"NC\", \"MN\", \"MA\", \"OK\", \"IL\", \"KS\", \"TX\", \"NC\", \"VA\", \"AZ\", \"KY\", \"CO\", \"TX\", \"SC\", \"CA\", \"TX\", \"TX\", \"TX\", \"CO\", \"MN\", \"MO\", \"AL\", \"KS\", \"GA\", \"WA\", \"KS\", \"TN\", \"TN\", \"MN\", \"NC\", \"KY\", \"TN\", \"VA\", \"NV\", \"AR\", \"MS\", \"MN\", \"SD\", \"WA\", \"AL\", \"SC\", \"SC\", \"MN\", \"MA\", \"KY\", \"IL\", \"IN\", \"OK\", \"CA\", \"CA\", \"IA\", \"AR\", \"MS\", \"NE\", \"IL\", \"AR\", \"LA\", \"TX\", \"NM\", \"TX\", \"GA\", \"WI\", \"UT\", \"CA\", \"MN\", \"MN\", \"OH\", \"NY\", \"WI\", \"AL\", \"AZ\", \"WI\", \"NC\", \"FL\", \"WI\", \"WA\", \"IA\", \"FL\", \"FL\", \"MA\", \"KY\", \"IN\", \"GA\", \"IN\", \"OH\", \"IL\", \"MS\", \"KS\", \"TX\", \"OH\", \"AL\", \"NC\", \"MI\", \"WY\", \"IA\", \"MN\", \"TX\", \"FL\", \"KY\", \"TN\", \"AZ\", \"AL\", \"GA\", \"AL\", \"TN\", \"CA\", \"OR\", \"PA\", \"MI\", \"NC\", \"MO\", \"IA\", \"IN\", \"KY\", \"TX\", \"OH\", \"MT\", \"SD\", \"WY\", \"HI\", \"AK\", \"TN\", \"MI\", \"TX\", \"IN\", \"AZ\", \"ND\", \"VT\", \"OH\", \"TX\", \"WI\", \"KS\", \"NV\", \"NC\", \"GA\", \"KY\", \"MN\", \"GA\", \"ID\", \"WA\", \"SD\", \"WI\", \"WI\", \"TN\", \"MO\", \"SD\", \"PA\", \"SD\", \"SD\", \"OH\", \"MA\", \"KS\", \"WV\", \"IN\", \"MN\", \"NC\", \"AL\", \"WI\", \"WI\", \"FL\", \"TX\", \"AR\", \"MN\", \"SC\", \"CO\", \"NE\", \"WY\", \"CO\", \"MI\", \"VA\", \"AZ\", \"LA\", \"NC\", \"KY\", \"KS\", \"MS\", \"IN\", \"NH\", \"IN\", \"NC\", \"ND\", \"MN\", \"IN\", \"NH\", \"IA\", \"MT\", \"MN\", \"TN\", \"MO\", \"MN\", \"IN\", \"OR\", \"TX\", \"AL\", \"FL\", \"GA\", \"OH\", \"MI\", \"VA\", \"MN\", \"OR\", \"NE\", \"IA\", \"MA\", \"TX\", \"TX\", \"CO\", \"IL\", \"CA\", \"WA\", \"MI\", \"KS\"], \"marker\": {\"color\": [169.74, 139.9, 128.759, 97.72, 79.0, 44.05, 21.624000000000002, 55.852, 141.6, 95.1, 15.79, 449.79, 42.12, 18.38, 108.932, 29.264, 387.642, 280.133, 382.9, 650.8, 86.8, 308.8, 181.53, 56.7, 198.6, 76.0, 31.885, 68.68, 375.25, 75.868, 81.781, 1.3940000000000001, 45.636, 302.0, 144.72, 97.6, 75.59, 99.986, 121.24, 127.16, 77.694, 27.5, 160.4, 128.04, 452.27, 68.68, 375.47, 137.77, 130.19299999999998, 71.38, 133.72, 102.569, 51.37, 52.25, 3.176, 52.707, 176.11, 11.55, 56.976000000000006, 15.895, 14.262, 39.8, 494.49, 102.0, 110.38, 33.288000000000004, 174.2, 249.99, 291.6, 149.0, 147.0, 114.08, 93.98, 109.03, 22.555, 152.8, 162.86, 182.75, 79.06, 189.487, 189.8, 137.036, 125.5, 335.691, 251.0, 187.995, 161.0, 20.44, 76.21, 56.38399999999999, 74.906, 46.06, 58.0, 19.589000000000002, 67.127, 197.6, 96.0, 96.0, 63.479, 62.791000000000004, 28.2, 175.96900000000002, 677.0360000000001, 130.468, 158.92, 50.506, 218.44, 104.0, 324.8, 23.17, 123.3, 152.6, 131.47, 3.835, 32.7, 16.8, 40.926, 101.0, 170.583, 44.87, 112.1, 218.08, 32.324, 51.332, 218.69299999999998, 451.8, 33.64, 249.17, 71.88, 233.34099999999998, 22.43, 134.929, 122.68, 155.252, 508.025, 247.0, 141.596, 72.835, 95.83, 74.29, 610.42, 731.44, 343.21, 66.013, 386.056, 237.0, 149.687, 47.005, 134.7, 245.0, 390.2, 371.0, 139.71, 643.3, 156.591, 558.58, 812.9, 72.0, 78.0, 38.41, 83.08, 36.98, 202.375, 6.3, 143.347, 206.72, 132.77, 8.828, 132.83, 174.0, 160.0, 55.78, 66.0, 45.242, 68.3, 213.0, 132.3, 61.5, 297.6, 151.13, 212.91, 61.41, 161.31, 90.34700000000001, 70.059, 76.38600000000001, 25.412, 28.15, 115.14, 138.16, 160.34, 35.4, 21.703000000000003, 31.599, 69.37, 90.35, 51.313, 175.435, 130.805, 188.32, 83.95299999999999, 138.28, 110.705, 130.79, 8.592, 134.0, 87.0, 226.0, 160.904, 83.56, 136.74, 101.06, 48.631, 246.0, 151.9, 29.840999999999998, 51.46, 98.0, 52.506, 342.33, 125.82, 11.135, 39.6, 10.698, 13.687000000000001, 84.4, 141.8, 34.251999999999995, 56.92, 597.3, 86.4, 31.826999999999998, 141.75, 108.75, 311.17400000000004, 227.49, 236.23, 86.277, 27.474, 13.23, 117.0, 381.28, 74.77199999999999, 92.01, 8.331, 70.21, 89.12, 574.822, 72.47, 60.1, 179.8, 405.88, 86.08, 206.73, 72.21, 69.523, 4.192, 650.6, 182.53900000000002, 563.761, 16.12, 63.805, 4.582, 164.67, 96.84899999999999, 599.765, 37.211, 85.1, 149.50799999999998, 2.2, 30.205, 129.566, 72.202, 187.0, 29.084, 635.7, 165.218, 72.5, 50.863, 68.035, 87.975, 440.0, 39.19, 41.739, 5.3, 39.7, 7.617000000000001, 49.78, 120.0, 118.0, 53.88, 10.877, 115.417, 75.60300000000001, 135.952, 189.4, 332.2, 232.995, 88.057, 64.03, 19.788, 103.65, 227.26, 146.148, 73.05, 137.175, 56.382, 526.65, 95.1, 396.21, 173.80900000000003, 63.0, 21.525, 37.056999999999995, 116.79, 61.6, 134.741, 61.51, 91.38, 122.7, 335.29, 15.0, 8.61, 382.25, 98.4, 127.13, 54.3, 262.1, 19.34, 155.892, 85.57799999999999, 174.049, 78.689, 290.17, 178.963, 123.25, 86.34, 204.55, 15.27, 158.9, 207.17, 203.021, 114.35, 1.837, 46.07, 392.89, 4.159, 13.5, 118.0, 14.795, 94.044, 70.4, 112.84, 208.0, 85.03, 38.94, 31.631999999999998, 100.311, 50.76, 126.552, 126.7, 245.24, 27.943, 42.4, 140.408, 55.091, 12.617, 8.237, 22.669, 95.7, 150.96, 36.14, 11.33, 87.57, 250.765, 153.66, 160.5, 186.35, 8.736, 25.995, 76.41, 85.35, 211.35, 213.9, 264.9, 30.58, 109.8, 83.0, 98.0, 57.0, 36.89, 189.322, 203.313, 90.756, 207.283, 90.0, 85.6, 233.13, 120.63, 58.38, 144.02, 86.82, 269.6, 76.42, 209.8, 125.16, 32.75, 20.101, 373.276, 29.87, 208.7, 114.0, 265.0, 363.77, 104.0, 50.081, 50.041000000000004, 66.6, 18.712, 173.4, 7.778, 68.2, 125.59, 46.5, 180.96099999999998, 37.68, 17.427, 38.546, 17.32, 99.9, 158.4, 24.49, 8.355, 27.721999999999998, 48.34, 135.57, 90.03, 101.9, 63.803000000000004, 158.7, 210.85, 14.239, 222.477, 602.6, 79.12, 143.19, 92.363, 230.27, 86.79, 155.0, 99.85, 112.88, 80.66, 42.227, 62.571000000000005, 17.158, 280.0, 112.0, 176.513, 94.71, 131.2, 107.22, 11.985, 108.819, 202.4, 53.4, 0.655, 76.3, 254.2, 442.2, 217.8, 192.59, 83.75, 102.774, 101.73, 108.91, 968.6, 16.061, 18.771, 104.0, 74.738, 42.77, 127.69, 134.1, 106.3, 89.11399999999999, 108.057, 115.523, 88.11200000000001, 134.60399999999998, 49.49, 92.31299999999999, 43.75, 210.535, 87.88, 624.396, 14.270999999999999, 98.4, 166.64, 156.6, 45.3, 40.0, 223.75, 74.3, 155.503, 136.81, 201.0, 9.63, 185.04, 94.0, 106.087, 100.009, 103.91, 162.81, 74.85, 71.497, 187.947, 98.0, 85.075, 172.43400000000003, 194.167, 55.0, 60.0, 204.75799999999998, 87.75399999999999, 34.8, 5.263, 7.196000000000001, 123.22, 48.0, 92.694, 140.0, 229.61, 103.39, 125.1, 48.11, 136.0, 123.0, 95.759, 170.21900000000002, 16.399, 23.2, 77.4, 91.14299999999999, 8.94, 10.845999999999998, 281.71299999999997, 129.23, 24.109, 64.7, 264.2, 570.86, 39.171, 92.82, 190.333, 72.02, 69.42, 43.27, 234.1, 86.96, 5.136, 403.6, 55.15, 15.76, 43.27, 78.83, 103.2, 54.86, 159.75, 68.64, 310.0, 154.688, 100.7, 198.4, 7.72, 162.783, 167.726, 168.29, 43.8, 75.2, 206.52599999999998, 232.058, 326.593, 8.683, 70.859, 120.76, 11.776, 159.6, 189.44, 7.59, 166.39, 50.35, 93.965, 91.3, 123.911, 77.89, 18.942, 86.818, 15.356, 222.56400000000002, 147.692, 337.1, 293.0, 90.75, 85.001, 176.622, 142.724, 1239.3, 101.6, 181.87, 170.3, 382.9, 304.1, 136.61, 117.79, 69.12, 106.698, 19.375, 86.9, 93.941, 55.48, 300.564, 533.0, 26.06, 210.637, 61.4, 29.66, 164.0, 160.0, 29.88, 51.25, 155.614, 280.797, 85.71, 68.48899999999999, 86.1, 3.032, 142.8, 213.84, 28.529, 92.2, 283.0, 93.1, 150.75, 66.877, 532.4590000000001, 263.67, 64.28399999999999, 199.0, 75.61, 100.789, 154.392, 120.93299999999999, 278.18, 236.65, 43.043, 92.962, 120.86200000000001, 93.999, 25.127, 59.0, 104.135, 182.0, 156.0, 37.5, 106.0, 27.0, 133.9, 170.0, 98.367, 84.2, 436.80699999999996, 72.14399999999999, 15.277999999999999, 89.4, 201.0, 124.22, 211.5, 1225.3, 420.46, 7.38, 81.48, 170.42, 26.28, 156.31, 125.0, 531.9, 58.089, 87.2, 93.42200000000001, 136.086, 18.2, 909.71, 167.0, 121.0, 16.326, 80.63, 2.41, 205.72, 79.48, 99.8, 197.84799999999998, 61.56, 55.903, 18.35, 80.332, 116.7, 524.6, 61.56, 4.83, 29.39, 78.98, 85.0, 115.0, 139.178, 173.59, 31.8, 38.56, 72.27, 62.7, 353.52099999999996, 164.019, 203.5, 27.066999999999997, 263.6, 69.3, 374.35699999999997, 98.58, 485.0, 99.84700000000001, 364.46, 99.45100000000001, 82.53, 141.0, 35.256, 30.56, 18.27, 325.928, 115.689, 87.34, 143.2, 81.0, 70.747, 139.5, 66.13, 352.5, 95.272, 23.249000000000002, 226.653, 144.243, 61.351000000000006, 71.01, 176.097, 183.43, 41.0, 60.368, 11.138, 121.76, 70.3, 297.0, 167.15, 73.669, 132.29, 416.51, 291.0, 238.0, 106.41], \"coloraxis\": \"coloraxis\", \"size\": [8931.0, 37607.0, 5251.0, 48059.0, 17280.0, 12072.0, 10277.0, 10089.0, 9987.0, 20790.0, 26956.0, 49991.0, 120279.0, 31134.0, 34351.0, 135890.0, 4778.0, 47175.0, 533034.0, 421583.0, 1260386.0, 713072.0, 55362.0, 4539.0, 4903.0, 486628.0, 11746.0, 499542.0, 12800.0, 78775.0, 965643.0, 2058.0, 37131.0, 35456.0, 18850.0, 12169.0, 11693.0, 20243.0, 6694.0, 11685.0, 21213.0, 54581.0, 104044.0, 2590.0, 12759.0, 10265.0, 24382.0, 1014.0, 58968.0, 76823.0, 66733.0, 101157.0, 11084.0, 32869.0, 14695.0, 30897.0, 2781.0, 16720.0, 33732.0, 16345.0, 50413.0, 5822.0, 18533.0, 7575.0, 11456.0, 5475.0, 25135.0, 7770.0, 6330.0, 1431264.0, 169885.0, 51760.0, 90670.0, 12214.0, 7771.0, 43783.0, 22017.0, 33942.0, 58745.0, 23098.0, 533057.0, 10908.0, 41905.0, 15328.0, 37484.0, 10381.0, 6047.0, 11135.0, 176336.0, 5798.0, 36075.0, 43318.0, 18076.0, 4708.0, 53439.0, 54590.0, 290522.0, 27307.0, 10779.0, 12173.0, 213948.0, 26782.0, 9677.0, 190043.0, 177752.0, 31810.0, 73600.0, 29986.0, 42471.0, 83541.0, 20207.0, 11683.0, 29810.0, 5989.0, 210960.0, 42633.0, 235098.0, 1926.0, 5945.0, 50676.0, 31658.0, 15700.0, 12736.0, 2730588.0, 11204.0, 15030.0, 31957.0, 944461.0, 8056.0, 1836668.0, 31125.0, 17928.0, 17987.0, 16926.0, 6197.0, 36195.0, 22356.0, 23357.0, 82443.0, 50870.0, 6746.0, 485.0, 20111.0, 44789.0, 44065.0, 23593.0, 66816.0, 25695.0, 6636.0, 22744.0, 5135.0, 8214.0, 265862.0, 14632.0, 8050.0, 42918.0, 5372.0, 284487.0, 172893.0, 56091.0, 101814.0, 249175.0, 2209021.0, 7631.0, 35594.0, 111569.0, 24479.0, 6831.0, 76672.0, 2047365.0, 603453.0, 10057.0, 2128.0, 11909.0, 55719.0, 12826.0, 13466.0, 8971.0, 34419.0, 23780.0, 12631.0, 20308.0, 12065.0, 41098.0, 100435.0, 328756.0, 12244.0, 4771.0, 9644.0, 155425.0, 4684.0, 15091.0, 17667.0, 6679.0, 94751.0, 4918.0, 626.0, 15112.0, 1999.0, 357.0, 68331.0, 25612.0, 44877.0, 18623.0, 85342.0, 6856.0, 2099.0, 9103.0, 95463.0, 21033.0, 68218.0, 1523.0, 16201.0, 6628.0, 24605.0, 32787.0, 5061483.0, 1832871.0, 49557.0, 32971.0, 48915.0, 21691.0, 14957.0, 14889.0, 15344.0, 20904.0, 9028.0, 5648.0, 98324.0, 12560.0, 135590.0, 10163.0, 2572624.0, 34832.0, 16540.0, 46703.0, 19865.0, 7742.0, 5165.0, 14403.0, 43296.0, 15320.0, 17812.0, 38492.0, 15038.0, 13532.0, 86393.0, 20316.0, 464882.0, 3620.0, 35067.0, 16851.0, 29436.0, 11763.0, 13375.0, 8736.0, 2777.0, 10978.0, 23403.0, 6883.0, 4816.0, 36663.0, 13493.0, 86271.0, 5186.0, 27124.0, 12826.0, 33294.0, 9574.0, 1541.0, 2533.0, 43251.0, 29380.0, 40917.0, 29131.0, 17454.0, 30595.0, 57934.0, 17689.0, 81919.0, 25407.0, 9312.0, 9392.0, 6880.0, 188149.0, 68495.0, 7231.0, 28774.0, 545819.0, 19259.0, 156715.0, 3146.0, 19612.0, 503198.0, 26538.0, 467397.0, 129283.0, 30494.0, 161814.0, 12828.0, 7203.0, 11946.0, 51606.0, 24657.0, 233101.0, 30033.0, 8180.0, 22888.0, 34507.0, 29208.0, 926121.0, 20726.0, 79118.0, 27698.0, 57927.0, 8721.0, 65953.0, 262344.0, 291626.0, 332744.0, 18310.0, 15497.0, 9910.0, 21862.0, 528336.0, 27790.0, 30610.0, 48290.0, 11536.0, 205454.0, 18409.0, 26765.0, 43962.0, 22208.0, 24769.0, 37208.0, 28406.0, 19580.0, 4291.0, 25941.0, 49579.0, 12015.0, 59031.0, 3485.0, 22995.0, 32771.0, 6278.0, 141650.0, 30212.0, 20733.0, 16429.0, 4637.0, 1447371.0, 1090192.0, 415853.0, 37444.0, 2948.0, 62240.0, 2253.0, 3912.0, 21486.0, 22900.0, 3024.0, 156833.0, 121528.0, 16493.0, 18145.0, 10052.0, 10278.0, 41840.0, 6477.0, 17230.0, 13567.0, 6791.0, 65661.0, 72233.0, 6873.0, 13022.0, 8082.0, 8738.0, 9061.0, 29825.0, 31227.0, 33848.0, 415429.0, 3009.0, 20220.0, 695990.0, 85197.0, 5123.0, 16872.0, 400462.0, 10929.0, 57040.0, 2026.0, 232159.0, 10824.0, 49944.0, 15339.0, 16353.0, 147340.0, 43351.0, 450377.0, 188342.0, 15335.0, 328464.0, 129642.0, 4704.0, 391997.0, 10996.0, 7403.0, 376984.0, 11106.0, 33852.0, 17765.0, 1021.0, 5886.0, 54664.0, 11497.0, 11678.0, 5921.0, 435889.0, 409190.0, 90352.0, 3495.0, 951035.0, 22783.0, 44382.0, 2848.0, 1809.0, 204479.0, 4859.0, 8356.0, 10244.0, 4740.0, 1396453.0, 7085.0, 11410.0, 35614.0, 24538.0, 37022.0, 13479.0, 6878.0, 2122.0, 9657.0, 100982.0, 6615.0, 32162.0, 6502.0, 475576.0, 8942.0, 252130.0, 1300836.0, 94479.0, 95732.0, 10163.0, 3352.0, 63853.0, 17447.0, 20456.0, 6554.0, 17036.0, 342.0, 327657.0, 920735.0, 57100.0, 1261.0, 384501.0, 13165.0, 4868.0, 15163.0, 18085.0, 3873.0, 1136.0, 61748.0, 59181.0, 11654.0, 16145.0, 11869.0, 62278.0, 26340.0, 65697.0, 12068.0, 2635291.0, 45483.0, 81501.0, 595834.0, 935926.0, 132291.0, 141499.0, 22585.0, 12442.0, 74071.0, 21428.0, 22859.0, 12366.0, 64882.0, 30490.0, 50466.0, 45984.0, 363712.0, 33723.0, 425663.0, 855014.0, 123689.0, 21110.0, 44258.0, 4106.0, 20072.0, 1142446.0, 32534.0, 7633.0, 16818.0, 16605.0, 24927.0, 4725.0, 15858.0, 889388.0, 43959.0, 233727.0, 144403.0, 257913.0, 456699.0, 24152.0, 8207.0, 20800.0, 3848.0, 2433.0, 11898.0, 37291.0, 1499395.0, 840116.0, 400893.0, 530259.0, 557421.0, 2034027.0, 1165611.0, 14601.0, 32223.0, 18555.0, 29775.0, 4449.0, 43879.0, 1882.0, 5988.0, 24966.0, 13324.0, 18259.0, 6605.0, 110439.0, 14187.0, 19859.0, 55919.0, 39471.0, 14709.0, 28331.0, 14588.0, 3101.0, 11796.0, 5862.0, 3365.0, 22387.0, 70835.0, 13532.0, 1076347.0, 52831.0, 12709.0, 850161.0, 43484.0, 1452138.0, 76776.0, 11624.0, 28911.0, 12754.0, 2366.0, 22931.0, 8347.0, 11212.0, 183053.0, 470380.0, 6953.0, 35803.0, 55865.0, 17798.0, 8340.0, 16709.0, 10455.0, 95555.0, 352366.0, 8020.0, 74443.0, 3847.0, 22179.0, 354978.0, 16683.0, 743780.0, 189205.0, 5846.0, 8043.0, 68019.0, 24360.0, 27313.0, 15058.0, 4120399.0, 24358.0, 4731.0, 26975.0, 25140.0, 6233.0, 23401.0, 121474.0, 231181.0, 186097.0, 123109.0, 271560.0, 100776.0, 10916.0, 31479.0, 4547.0, 27114.0, 11506.0, 120382.0, 6318.0, 8822.0, 27516.0, 52220.0, 14952.0, 27055.0, 26681.0, 4414.0, 182234.0, 6458.0, 53747.0, 771959.0, 39056.0, 26705.0, 4244.0, 15893.0, 27998.0, 5100.0, 16318.0, 12081.0, 2936.0, 71870.0, 93567.0, 9376.0, 22931.0, 12599.0, 26953.0, 7041.0, 15937.0, 115134.0, 18659.0, 24990.0, 27930.0, 48274.0, 669.0, 34645.0, 8044.0, 10897.0, 103264.0, 15548.0, 62560.0, 26105.0, 77706.0, 1230248.0, 5509.0, 9321.0, 143431.0, 87738.0, 10438.0, 41.0, 70358.0, 2646.0, 306368.0, 32183.0, 50488.0, 52889.0, 46806.0, 19114.0, 97992.0, 16374.0, 39569.0, 1900.0, 23154.0, 11237.0, 19749.0, 23021.0, 46983.0, 130313.0, 67611.0, 4184.0, 15603.0, 135562.0, 257394.0, 13206.0, 6531.0, 4410.0, 20448.0, 14242.0, 6777.0, 542979.0, 17465.0, 3367.0, 17434.0, 18061.0, 32750.0, 41558.0, 31317.0, 9603.0, 34908.0, 24773.0, 1138054.0, 447493.0, 222294.0, 37408.0, 19027.0, 54616.0, 62320.0, 8783.0, 499.0, 4822.0, 27065.0, 6749.0, 56820.0, 41814.0, 52929.0, 130295.0, 165461.0, 383452.0, 28173.0, 24937.0, 69626.0, 14974.0, 95216.0, 52086.0, 108554.0, 16981.0, 38913.0, 3026.0, 10837.0, 4681.0, 6630.0, 41707.0, 8813.0, 14695.0, 4224.0, 22994.0, 12775.0, 10747.0, 26893.0, 8146.0, 126250.0, 166571.0, 5282.0, 19590.0, 26269.0, 5915.0, 696258.0, 459190.0, 22155.0, 97890.0, 499059.0, 48770.0, 19742.0, 36818.0, 16939.0], \"sizemode\": \"area\", \"sizeref\": 1405.9675}, \"name\": \"\", \"showlegend\": false, \"type\": \"scattergeo\"}],                        {\"coloraxis\": {\"cmax\": 180, \"cmin\": 0, \"colorbar\": {\"title\": {\"text\": \"saidi_nomed\"}}, \"colorscale\": [[0.0, \"#0d0887\"], [0.1111111111111111, \"#46039f\"], [0.2222222222222222, \"#7201a8\"], [0.3333333333333333, \"#9c179e\"], [0.4444444444444444, \"#bd3786\"], [0.5555555555555556, \"#d8576b\"], [0.6666666666666666, \"#ed7953\"], [0.7777777777777778, \"#fb9f3a\"], [0.8888888888888888, \"#fdca26\"], [1.0, \"#f0f921\"]]}, \"geo\": {\"center\": {}, \"domain\": {\"x\": [0.0, 1.0], \"y\": [0.0, 1.0]}, \"projection\": {\"type\": \"albers usa\"}, \"scope\": \"usa\"}, \"legend\": {\"itemsizing\": \"constant\", \"tracegroupgap\": 0}, \"margin\": {\"t\": 60}, \"template\": {\"data\": {\"bar\": [{\"error_x\": {\"color\": \"#2a3f5f\"}, \"error_y\": {\"color\": \"#2a3f5f\"}, \"marker\": {\"line\": {\"color\": \"#E5ECF6\", \"width\": 0.5}}, \"type\": \"bar\"}], \"barpolar\": [{\"marker\": {\"line\": {\"color\": \"#E5ECF6\", \"width\": 0.5}}, \"type\": \"barpolar\"}], \"carpet\": [{\"aaxis\": {\"endlinecolor\": \"#2a3f5f\", \"gridcolor\": \"white\", \"linecolor\": \"white\", \"minorgridcolor\": \"white\", \"startlinecolor\": \"#2a3f5f\"}, \"baxis\": {\"endlinecolor\": \"#2a3f5f\", \"gridcolor\": \"white\", \"linecolor\": \"white\", \"minorgridcolor\": \"white\", \"startlinecolor\": \"#2a3f5f\"}, \"type\": \"carpet\"}], \"choropleth\": [{\"colorbar\": {\"outlinewidth\": 0, \"ticks\": \"\"}, \"type\": \"choropleth\"}], \"contour\": [{\"colorbar\": {\"outlinewidth\": 0, \"ticks\": \"\"}, \"colorscale\": [[0.0, \"#0d0887\"], [0.1111111111111111, \"#46039f\"], [0.2222222222222222, \"#7201a8\"], [0.3333333333333333, \"#9c179e\"], [0.4444444444444444, \"#bd3786\"], [0.5555555555555556, \"#d8576b\"], [0.6666666666666666, \"#ed7953\"], [0.7777777777777778, \"#fb9f3a\"], [0.8888888888888888, \"#fdca26\"], [1.0, \"#f0f921\"]], \"type\": \"contour\"}], \"contourcarpet\": [{\"colorbar\": {\"outlinewidth\": 0, \"ticks\": \"\"}, \"type\": \"contourcarpet\"}], \"heatmap\": [{\"colorbar\": {\"outlinewidth\": 0, \"ticks\": \"\"}, \"colorscale\": [[0.0, \"#0d0887\"], [0.1111111111111111, \"#46039f\"], [0.2222222222222222, \"#7201a8\"], [0.3333333333333333, \"#9c179e\"], [0.4444444444444444, \"#bd3786\"], [0.5555555555555556, \"#d8576b\"], [0.6666666666666666, \"#ed7953\"], [0.7777777777777778, \"#fb9f3a\"], [0.8888888888888888, \"#fdca26\"], [1.0, \"#f0f921\"]], \"type\": \"heatmap\"}], \"heatmapgl\": [{\"colorbar\": {\"outlinewidth\": 0, \"ticks\": \"\"}, \"colorscale\": [[0.0, \"#0d0887\"], [0.1111111111111111, \"#46039f\"], [0.2222222222222222, \"#7201a8\"], [0.3333333333333333, \"#9c179e\"], [0.4444444444444444, \"#bd3786\"], [0.5555555555555556, \"#d8576b\"], [0.6666666666666666, \"#ed7953\"], [0.7777777777777778, \"#fb9f3a\"], [0.8888888888888888, \"#fdca26\"], [1.0, \"#f0f921\"]], \"type\": \"heatmapgl\"}], \"histogram\": [{\"marker\": {\"colorbar\": {\"outlinewidth\": 0, \"ticks\": \"\"}}, \"type\": \"histogram\"}], \"histogram2d\": [{\"colorbar\": {\"outlinewidth\": 0, \"ticks\": \"\"}, \"colorscale\": [[0.0, \"#0d0887\"], [0.1111111111111111, \"#46039f\"], [0.2222222222222222, \"#7201a8\"], [0.3333333333333333, \"#9c179e\"], [0.4444444444444444, \"#bd3786\"], [0.5555555555555556, \"#d8576b\"], [0.6666666666666666, \"#ed7953\"], [0.7777777777777778, \"#fb9f3a\"], [0.8888888888888888, \"#fdca26\"], [1.0, \"#f0f921\"]], \"type\": \"histogram2d\"}], \"histogram2dcontour\": [{\"colorbar\": {\"outlinewidth\": 0, \"ticks\": \"\"}, \"colorscale\": [[0.0, \"#0d0887\"], [0.1111111111111111, \"#46039f\"], [0.2222222222222222, \"#7201a8\"], [0.3333333333333333, \"#9c179e\"], [0.4444444444444444, \"#bd3786\"], [0.5555555555555556, \"#d8576b\"], [0.6666666666666666, \"#ed7953\"], [0.7777777777777778, \"#fb9f3a\"], [0.8888888888888888, \"#fdca26\"], [1.0, \"#f0f921\"]], \"type\": \"histogram2dcontour\"}], \"mesh3d\": [{\"colorbar\": {\"outlinewidth\": 0, \"ticks\": \"\"}, \"type\": \"mesh3d\"}], \"parcoords\": [{\"line\": {\"colorbar\": {\"outlinewidth\": 0, \"ticks\": \"\"}}, \"type\": \"parcoords\"}], \"pie\": [{\"automargin\": true, \"type\": \"pie\"}], \"scatter\": [{\"marker\": {\"colorbar\": {\"outlinewidth\": 0, \"ticks\": \"\"}}, \"type\": \"scatter\"}], \"scatter3d\": [{\"line\": {\"colorbar\": {\"outlinewidth\": 0, \"ticks\": \"\"}}, \"marker\": {\"colorbar\": {\"outlinewidth\": 0, \"ticks\": \"\"}}, \"type\": \"scatter3d\"}], \"scattercarpet\": [{\"marker\": {\"colorbar\": {\"outlinewidth\": 0, \"ticks\": \"\"}}, \"type\": \"scattercarpet\"}], \"scattergeo\": [{\"marker\": {\"colorbar\": {\"outlinewidth\": 0, \"ticks\": \"\"}}, \"type\": \"scattergeo\"}], \"scattergl\": [{\"marker\": {\"colorbar\": {\"outlinewidth\": 0, \"ticks\": \"\"}}, \"type\": \"scattergl\"}], \"scattermapbox\": [{\"marker\": {\"colorbar\": {\"outlinewidth\": 0, \"ticks\": \"\"}}, \"type\": \"scattermapbox\"}], \"scatterpolar\": [{\"marker\": {\"colorbar\": {\"outlinewidth\": 0, \"ticks\": \"\"}}, \"type\": \"scatterpolar\"}], \"scatterpolargl\": [{\"marker\": {\"colorbar\": {\"outlinewidth\": 0, \"ticks\": \"\"}}, \"type\": \"scatterpolargl\"}], \"scatterternary\": [{\"marker\": {\"colorbar\": {\"outlinewidth\": 0, \"ticks\": \"\"}}, \"type\": \"scatterternary\"}], \"surface\": [{\"colorbar\": {\"outlinewidth\": 0, \"ticks\": \"\"}, \"colorscale\": [[0.0, \"#0d0887\"], [0.1111111111111111, \"#46039f\"], [0.2222222222222222, \"#7201a8\"], [0.3333333333333333, \"#9c179e\"], [0.4444444444444444, \"#bd3786\"], [0.5555555555555556, \"#d8576b\"], [0.6666666666666666, \"#ed7953\"], [0.7777777777777778, \"#fb9f3a\"], [0.8888888888888888, \"#fdca26\"], [1.0, \"#f0f921\"]], \"type\": \"surface\"}], \"table\": [{\"cells\": {\"fill\": {\"color\": \"#EBF0F8\"}, \"line\": {\"color\": \"white\"}}, \"header\": {\"fill\": {\"color\": \"#C8D4E3\"}, \"line\": {\"color\": \"white\"}}, \"type\": \"table\"}]}, \"layout\": {\"annotationdefaults\": {\"arrowcolor\": \"#2a3f5f\", \"arrowhead\": 0, \"arrowwidth\": 1}, \"coloraxis\": {\"colorbar\": {\"outlinewidth\": 0, \"ticks\": \"\"}}, \"colorscale\": {\"diverging\": [[0, \"#8e0152\"], [0.1, \"#c51b7d\"], [0.2, \"#de77ae\"], [0.3, \"#f1b6da\"], [0.4, \"#fde0ef\"], [0.5, \"#f7f7f7\"], [0.6, \"#e6f5d0\"], [0.7, \"#b8e186\"], [0.8, \"#7fbc41\"], [0.9, \"#4d9221\"], [1, \"#276419\"]], \"sequential\": [[0.0, \"#0d0887\"], [0.1111111111111111, \"#46039f\"], [0.2222222222222222, \"#7201a8\"], [0.3333333333333333, \"#9c179e\"], [0.4444444444444444, \"#bd3786\"], [0.5555555555555556, \"#d8576b\"], [0.6666666666666666, \"#ed7953\"], [0.7777777777777778, \"#fb9f3a\"], [0.8888888888888888, \"#fdca26\"], [1.0, \"#f0f921\"]], \"sequentialminus\": [[0.0, \"#0d0887\"], [0.1111111111111111, \"#46039f\"], [0.2222222222222222, \"#7201a8\"], [0.3333333333333333, \"#9c179e\"], [0.4444444444444444, \"#bd3786\"], [0.5555555555555556, \"#d8576b\"], [0.6666666666666666, \"#ed7953\"], [0.7777777777777778, \"#fb9f3a\"], [0.8888888888888888, \"#fdca26\"], [1.0, \"#f0f921\"]]}, \"colorway\": [\"#636efa\", \"#EF553B\", \"#00cc96\", \"#ab63fa\", \"#FFA15A\", \"#19d3f3\", \"#FF6692\", \"#B6E880\", \"#FF97FF\", \"#FECB52\"], \"font\": {\"color\": \"#2a3f5f\"}, \"geo\": {\"bgcolor\": \"white\", \"lakecolor\": \"white\", \"landcolor\": \"#E5ECF6\", \"showlakes\": true, \"showland\": true, \"subunitcolor\": \"white\"}, \"hoverlabel\": {\"align\": \"left\"}, \"hovermode\": \"closest\", \"mapbox\": {\"style\": \"light\"}, \"paper_bgcolor\": \"white\", \"plot_bgcolor\": \"#E5ECF6\", \"polar\": {\"angularaxis\": {\"gridcolor\": \"white\", \"linecolor\": \"white\", \"ticks\": \"\"}, \"bgcolor\": \"#E5ECF6\", \"radialaxis\": {\"gridcolor\": \"white\", \"linecolor\": \"white\", \"ticks\": \"\"}}, \"scene\": {\"xaxis\": {\"backgroundcolor\": \"#E5ECF6\", \"gridcolor\": \"white\", \"gridwidth\": 2, \"linecolor\": \"white\", \"showbackground\": true, \"ticks\": \"\", \"zerolinecolor\": \"white\"}, \"yaxis\": {\"backgroundcolor\": \"#E5ECF6\", \"gridcolor\": \"white\", \"gridwidth\": 2, \"linecolor\": \"white\", \"showbackground\": true, \"ticks\": \"\", \"zerolinecolor\": \"white\"}, \"zaxis\": {\"backgroundcolor\": \"#E5ECF6\", \"gridcolor\": \"white\", \"gridwidth\": 2, \"linecolor\": \"white\", \"showbackground\": true, \"ticks\": \"\", \"zerolinecolor\": \"white\"}}, \"shapedefaults\": {\"line\": {\"color\": \"#2a3f5f\"}}, \"ternary\": {\"aaxis\": {\"gridcolor\": \"white\", \"linecolor\": \"white\", \"ticks\": \"\"}, \"baxis\": {\"gridcolor\": \"white\", \"linecolor\": \"white\", \"ticks\": \"\"}, \"bgcolor\": \"#E5ECF6\", \"caxis\": {\"gridcolor\": \"white\", \"linecolor\": \"white\", \"ticks\": \"\"}}, \"title\": {\"x\": 0.05}, \"xaxis\": {\"automargin\": true, \"gridcolor\": \"white\", \"linecolor\": \"white\", \"ticks\": \"\", \"title\": {\"standoff\": 15}, \"zerolinecolor\": \"white\", \"zerolinewidth\": 2}, \"yaxis\": {\"automargin\": true, \"gridcolor\": \"white\", \"linecolor\": \"white\", \"ticks\": \"\", \"title\": {\"standoff\": 15}, \"zerolinecolor\": \"white\", \"zerolinewidth\": 2}}}, \"title\": {\"text\": \"Grid Reliability in the 50 States\", \"x\": 0.5}},                        {\"responsive\": true}                    ).then(function(){\n",
       "                            \n",
       "var gd = document.getElementById('7bbfcb41-62b8-4bef-87ac-edfd79378df5');\n",
       "var x = new MutationObserver(function (mutations, observer) {{\n",
       "        var display = window.getComputedStyle(gd).display;\n",
       "        if (!display || display === 'none') {{\n",
       "            console.log([gd, 'removed!']);\n",
       "            Plotly.purge(gd);\n",
       "            observer.disconnect();\n",
       "        }}\n",
       "}});\n",
       "\n",
       "// Listen for the removal of the full notebook cells\n",
       "var notebookContainer = gd.closest('#notebook-container');\n",
       "if (notebookContainer) {{\n",
       "    x.observe(notebookContainer, {childList: true});\n",
       "}}\n",
       "\n",
       "// Listen for the clearing of the current output cell\n",
       "var outputEl = gd.closest('.output');\n",
       "if (outputEl) {{\n",
       "    x.observe(outputEl, {childList: true});\n",
       "}}\n",
       "\n",
       "                        })                };                });            </script>        </div>"
      ]
     },
     "metadata": {},
     "output_type": "display_data"
    }
   ],
   "source": [
    "fig = px.scatter_geo(\n",
    "    df_19.fillna(0), \n",
    "    locations =\"state\", \n",
    "    locationmode = 'USA-states',\n",
    "    color=\"saidi_nomed\",\n",
    "    size=\"total_cust\",\n",
    "    # what is the size of the biggest scatter point\n",
    "    size_max = 60,\n",
    "    projection=\"natural earth\",\n",
    "    # range, important to keep the same range on all charts\n",
    "    range_color=(0, 180),\n",
    "    # columns which is in bold in the pop up\n",
    "    hover_name = \"state\",\n",
    "    # format of the popup to display these columns' data\n",
    "    hover_data = {\"state\":False}\n",
    "                     )\n",
    "\n",
    "fig.update_geos(scope='usa',\n",
    "            projection_type='albers usa')\n",
    "fig.update_layout(title=\"Grid Reliability in the 50 States\", title_x=0.5)\n",
    "fig.show()\n",
    "fig.write_image(\"map_trial.png\")\n",
    "\n",
    "#plotly.offline.plot(fig, filename='map_trial.png')"
   ]
  },
  {
   "cell_type": "code",
   "execution_count": 63,
   "metadata": {},
   "outputs": [
    {
     "data": {
      "text/html": [
       "<div>\n",
       "<style scoped>\n",
       "    .dataframe tbody tr th:only-of-type {\n",
       "        vertical-align: middle;\n",
       "    }\n",
       "\n",
       "    .dataframe tbody tr th {\n",
       "        vertical-align: top;\n",
       "    }\n",
       "\n",
       "    .dataframe thead th {\n",
       "        text-align: right;\n",
       "    }\n",
       "</style>\n",
       "<table border=\"1\" class=\"dataframe\">\n",
       "  <thead>\n",
       "    <tr style=\"text-align: right;\">\n",
       "      <th></th>\n",
       "      <th>no</th>\n",
       "      <th>customers</th>\n",
       "      <th>saidi_nomed</th>\n",
       "      <th>saifi_nomed</th>\n",
       "      <th>caidi_nomed</th>\n",
       "      <th>pv_mw</th>\n",
       "      <th>pv_storage_mw</th>\n",
       "      <th>virtual_mw</th>\n",
       "      <th>wind_mw</th>\n",
       "      <th>all_tech_mw</th>\n",
       "      <th>ee_savings_mw</th>\n",
       "      <th>peak_savings_mw</th>\n",
       "      <th>dem_res_customers</th>\n",
       "      <th>dem_res_savings_mwh</th>\n",
       "    </tr>\n",
       "  </thead>\n",
       "  <tbody>\n",
       "    <tr>\n",
       "      <th>count</th>\n",
       "      <td>770.000000</td>\n",
       "      <td>7.700000e+02</td>\n",
       "      <td>770.000000</td>\n",
       "      <td>770.000000</td>\n",
       "      <td>770.000000</td>\n",
       "      <td>770.000000</td>\n",
       "      <td>770.000000</td>\n",
       "      <td>770.000000</td>\n",
       "      <td>770.000000</td>\n",
       "      <td>770.000000</td>\n",
       "      <td>7.700000e+02</td>\n",
       "      <td>770.000000</td>\n",
       "      <td>770.000000</td>\n",
       "      <td>770.000000</td>\n",
       "    </tr>\n",
       "    <tr>\n",
       "      <th>mean</th>\n",
       "      <td>12294.633766</td>\n",
       "      <td>1.544447e+05</td>\n",
       "      <td>138.782414</td>\n",
       "      <td>1.163474</td>\n",
       "      <td>95.765853</td>\n",
       "      <td>28.165491</td>\n",
       "      <td>0.321249</td>\n",
       "      <td>0.791822</td>\n",
       "      <td>0.260487</td>\n",
       "      <td>29.847940</td>\n",
       "      <td>3.113068e+04</td>\n",
       "      <td>7.566097</td>\n",
       "      <td>13388.080519</td>\n",
       "      <td>1702.947826</td>\n",
       "    </tr>\n",
       "    <tr>\n",
       "      <th>std</th>\n",
       "      <td>8554.785067</td>\n",
       "      <td>4.766155e+05</td>\n",
       "      <td>140.956411</td>\n",
       "      <td>1.034872</td>\n",
       "      <td>63.567703</td>\n",
       "      <td>201.309299</td>\n",
       "      <td>4.461121</td>\n",
       "      <td>12.714171</td>\n",
       "      <td>2.135177</td>\n",
       "      <td>211.537199</td>\n",
       "      <td>1.324301e+05</td>\n",
       "      <td>33.253440</td>\n",
       "      <td>72183.367329</td>\n",
       "      <td>35740.719514</td>\n",
       "    </tr>\n",
       "    <tr>\n",
       "      <th>min</th>\n",
       "      <td>97.000000</td>\n",
       "      <td>4.100000e+01</td>\n",
       "      <td>0.655000</td>\n",
       "      <td>0.000000</td>\n",
       "      <td>0.000000</td>\n",
       "      <td>0.000000</td>\n",
       "      <td>0.000000</td>\n",
       "      <td>0.000000</td>\n",
       "      <td>0.000000</td>\n",
       "      <td>0.000000</td>\n",
       "      <td>0.000000e+00</td>\n",
       "      <td>0.000000</td>\n",
       "      <td>0.000000</td>\n",
       "      <td>0.000000</td>\n",
       "    </tr>\n",
       "    <tr>\n",
       "      <th>25%</th>\n",
       "      <td>5879.000000</td>\n",
       "      <td>1.107900e+04</td>\n",
       "      <td>55.798000</td>\n",
       "      <td>0.507750</td>\n",
       "      <td>66.627713</td>\n",
       "      <td>0.010000</td>\n",
       "      <td>0.000000</td>\n",
       "      <td>0.000000</td>\n",
       "      <td>0.000000</td>\n",
       "      <td>0.022750</td>\n",
       "      <td>0.000000e+00</td>\n",
       "      <td>0.000000</td>\n",
       "      <td>0.000000</td>\n",
       "      <td>0.000000</td>\n",
       "    </tr>\n",
       "    <tr>\n",
       "      <th>50%</th>\n",
       "      <td>12264.000000</td>\n",
       "      <td>2.409100e+04</td>\n",
       "      <td>99.848500</td>\n",
       "      <td>0.995500</td>\n",
       "      <td>91.777437</td>\n",
       "      <td>0.349500</td>\n",
       "      <td>0.000000</td>\n",
       "      <td>0.000000</td>\n",
       "      <td>0.000000</td>\n",
       "      <td>0.456000</td>\n",
       "      <td>0.000000e+00</td>\n",
       "      <td>0.000000</td>\n",
       "      <td>0.000000</td>\n",
       "      <td>0.000000</td>\n",
       "    </tr>\n",
       "    <tr>\n",
       "      <th>75%</th>\n",
       "      <td>16733.000000</td>\n",
       "      <td>6.557075e+04</td>\n",
       "      <td>170.164250</td>\n",
       "      <td>1.528000</td>\n",
       "      <td>120.542700</td>\n",
       "      <td>2.215500</td>\n",
       "      <td>0.000000</td>\n",
       "      <td>0.000000</td>\n",
       "      <td>0.027000</td>\n",
       "      <td>2.671750</td>\n",
       "      <td>1.573815e+03</td>\n",
       "      <td>0.351250</td>\n",
       "      <td>76.000000</td>\n",
       "      <td>0.000000</td>\n",
       "    </tr>\n",
       "    <tr>\n",
       "      <th>max</th>\n",
       "      <td>60839.000000</td>\n",
       "      <td>5.589368e+06</td>\n",
       "      <td>1239.300000</td>\n",
       "      <td>12.386000</td>\n",
       "      <td>1075.000000</td>\n",
       "      <td>4265.184000</td>\n",
       "      <td>96.415000</td>\n",
       "      <td>343.869000</td>\n",
       "      <td>40.337000</td>\n",
       "      <td>4473.646000</td>\n",
       "      <td>2.097423e+06</td>\n",
       "      <td>436.743000</td>\n",
       "      <td>895133.000000</td>\n",
       "      <td>977215.000000</td>\n",
       "    </tr>\n",
       "  </tbody>\n",
       "</table>\n",
       "</div>"
      ],
      "text/plain": [
       "                 no     customers  saidi_nomed  saifi_nomed  caidi_nomed  \\\n",
       "count    770.000000  7.700000e+02   770.000000   770.000000   770.000000   \n",
       "mean   12294.633766  1.544447e+05   138.782414     1.163474    95.765853   \n",
       "std     8554.785067  4.766155e+05   140.956411     1.034872    63.567703   \n",
       "min       97.000000  4.100000e+01     0.655000     0.000000     0.000000   \n",
       "25%     5879.000000  1.107900e+04    55.798000     0.507750    66.627713   \n",
       "50%    12264.000000  2.409100e+04    99.848500     0.995500    91.777437   \n",
       "75%    16733.000000  6.557075e+04   170.164250     1.528000   120.542700   \n",
       "max    60839.000000  5.589368e+06  1239.300000    12.386000  1075.000000   \n",
       "\n",
       "             pv_mw  pv_storage_mw  virtual_mw     wind_mw  all_tech_mw  \\\n",
       "count   770.000000     770.000000  770.000000  770.000000   770.000000   \n",
       "mean     28.165491       0.321249    0.791822    0.260487    29.847940   \n",
       "std     201.309299       4.461121   12.714171    2.135177   211.537199   \n",
       "min       0.000000       0.000000    0.000000    0.000000     0.000000   \n",
       "25%       0.010000       0.000000    0.000000    0.000000     0.022750   \n",
       "50%       0.349500       0.000000    0.000000    0.000000     0.456000   \n",
       "75%       2.215500       0.000000    0.000000    0.027000     2.671750   \n",
       "max    4265.184000      96.415000  343.869000   40.337000  4473.646000   \n",
       "\n",
       "       ee_savings_mw  peak_savings_mw  dem_res_customers  dem_res_savings_mwh  \n",
       "count   7.700000e+02       770.000000         770.000000           770.000000  \n",
       "mean    3.113068e+04         7.566097       13388.080519          1702.947826  \n",
       "std     1.324301e+05        33.253440       72183.367329         35740.719514  \n",
       "min     0.000000e+00         0.000000           0.000000             0.000000  \n",
       "25%     0.000000e+00         0.000000           0.000000             0.000000  \n",
       "50%     0.000000e+00         0.000000           0.000000             0.000000  \n",
       "75%     1.573815e+03         0.351250          76.000000             0.000000  \n",
       "max     2.097423e+06       436.743000      895133.000000        977215.000000  "
      ]
     },
     "execution_count": 63,
     "metadata": {},
     "output_type": "execute_result"
    }
   ],
   "source": [
    "df_19.describe()"
   ]
  },
  {
   "cell_type": "code",
   "execution_count": 11,
   "metadata": {},
   "outputs": [
    {
     "data": {
      "text/html": [
       "<div>\n",
       "<style scoped>\n",
       "    .dataframe tbody tr th:only-of-type {\n",
       "        vertical-align: middle;\n",
       "    }\n",
       "\n",
       "    .dataframe tbody tr th {\n",
       "        vertical-align: top;\n",
       "    }\n",
       "\n",
       "    .dataframe thead th {\n",
       "        text-align: right;\n",
       "    }\n",
       "</style>\n",
       "<table border=\"1\" class=\"dataframe\">\n",
       "  <thead>\n",
       "    <tr style=\"text-align: right;\">\n",
       "      <th></th>\n",
       "      <th>saidi_nomed</th>\n",
       "    </tr>\n",
       "    <tr>\n",
       "      <th>type</th>\n",
       "      <th></th>\n",
       "    </tr>\n",
       "  </thead>\n",
       "  <tbody>\n",
       "    <tr>\n",
       "      <th>State</th>\n",
       "      <td>20.968600</td>\n",
       "    </tr>\n",
       "    <tr>\n",
       "      <th>Municipal</th>\n",
       "      <td>42.939630</td>\n",
       "    </tr>\n",
       "    <tr>\n",
       "      <th>Political Subdivision</th>\n",
       "      <td>89.496211</td>\n",
       "    </tr>\n",
       "    <tr>\n",
       "      <th>Investor Owned</th>\n",
       "      <td>112.303122</td>\n",
       "    </tr>\n",
       "    <tr>\n",
       "      <th>Cooperative</th>\n",
       "      <td>118.632288</td>\n",
       "    </tr>\n",
       "  </tbody>\n",
       "</table>\n",
       "</div>"
      ],
      "text/plain": [
       "                       saidi_nomed\n",
       "type                              \n",
       "State                    20.968600\n",
       "Municipal                42.939630\n",
       "Political Subdivision    89.496211\n",
       "Investor Owned          112.303122\n",
       "Cooperative             118.632288"
      ]
     },
     "execution_count": 11,
     "metadata": {},
     "output_type": "execute_result"
    }
   ],
   "source": [
    "df_nona.groupby('type').mean().filter(['type','saidi_nomed']).sort_values(by='saidi_nomed')"
   ]
  },
  {
   "cell_type": "code",
   "execution_count": null,
   "metadata": {},
   "outputs": [],
   "source": [
    "fig = px.choropleth(df_19, locations=\"state\",\n",
    "                    color=\"saidi_nomed\", \n",
    "                    hover_name=\"state\", \n",
    "                    locationmode=\"USA-states\",\n",
    "                    range_color=(0, 600000),\n",
    "                    color_continuous_scale= px.colors.sequential.Plasma)\n",
    "\n",
    "fig.update_geos(scope='usa',\n",
    "            projection_type='albers usa')\n",
    "fig.show()"
   ]
  },
  {
   "cell_type": "code",
   "execution_count": null,
   "metadata": {},
   "outputs": [],
   "source": []
  },
  {
   "cell_type": "code",
   "execution_count": null,
   "metadata": {},
   "outputs": [],
   "source": []
  },
  {
   "cell_type": "code",
   "execution_count": null,
   "metadata": {},
   "outputs": [],
   "source": []
  },
  {
   "cell_type": "code",
   "execution_count": null,
   "metadata": {},
   "outputs": [],
   "source": []
  }
 ],
 "metadata": {
  "kernelspec": {
   "display_name": "Python 3",
   "language": "python",
   "name": "python3"
  },
  "language_info": {
   "codemirror_mode": {
    "name": "ipython",
    "version": 3
   },
   "file_extension": ".py",
   "mimetype": "text/x-python",
   "name": "python",
   "nbconvert_exporter": "python",
   "pygments_lexer": "ipython3",
   "version": "3.7.6"
  }
 },
 "nbformat": 4,
 "nbformat_minor": 4
}
