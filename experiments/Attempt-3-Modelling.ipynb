{
 "cells": [
  {
   "cell_type": "markdown",
   "metadata": {},
   "source": [
    "# Nona dataset"
   ]
  },
  {
   "cell_type": "code",
   "execution_count": 217,
   "metadata": {},
   "outputs": [],
   "source": [
    "# Data Management/Investigation\n",
    "import pandas as pd\n",
    "from pandas.api.types import CategoricalDtype # Ordering categories\n",
    "import numpy as np\n",
    "import missingno as miss\n",
    "\n",
    "# Plotting libraries\n",
    "from plotnine import *\n",
    "import matplotlib.backend_bases\n",
    "import matplotlib.pyplot as plt\n",
    "import seaborn as sns\n",
    "\n",
    "# For pre-processing data \n",
    "from sklearn import preprocessing as pp \n",
    "from sklearn.compose import ColumnTransformer \n",
    "from sklearn.compose import make_column_selector\n",
    "\n",
    "# For splits and CV\n",
    "from sklearn.model_selection import train_test_split\n",
    "from sklearn.model_selection import KFold # Cross validation \n",
    "from sklearn.model_selection import cross_validate # Cross validation \n",
    "from sklearn.model_selection import GridSearchCV # Cross validation + param. tuning.\n",
    "\n",
    "# Machine learning methods \n",
    "from sklearn.linear_model import LinearRegression as LM\n",
    "from sklearn.neighbors import KNeighborsRegressor as KNN\n",
    "from sklearn.tree import DecisionTreeRegressor as DTree\n",
    "from sklearn import tree # For plotting the decision tree rules\n",
    "from sklearn.ensemble import BaggingRegressor as Bag # for bagging\n",
    "from sklearn.ensemble import RandomForestRegressor as RF\n",
    "\n",
    "# For evaluating our model's performance\n",
    "import sklearn.metrics as m\n",
    "\n",
    "# Pipeline to combine modeling elements\n",
    "from sklearn.pipeline import Pipeline\n",
    "\n",
    "# Model interpretation\n",
    "from sklearn.inspection import partial_dependence\n",
    "from sklearn.inspection import plot_partial_dependence\n",
    "from sklearn.inspection import permutation_importance\n",
    "import eli5 # \"explain it to me like I'm 5\"\n",
    "from eli5.sklearn import PermutationImportance\n",
    "\n",
    "#eda\n",
    "import pandas_profiling\n",
    "\n",
    "# Misc\n",
    "import warnings\n",
    "warnings.filterwarnings(\"ignore\")"
   ]
  },
  {
   "cell_type": "markdown",
   "metadata": {},
   "source": [
    "## Explore data: DF 19 NONA"
   ]
  },
  {
   "cell_type": "code",
   "execution_count": 166,
   "metadata": {},
   "outputs": [],
   "source": [
    "df_19_nona = pd.read_csv(\"df_19_nona.csv\")"
   ]
  },
  {
   "cell_type": "code",
   "execution_count": 167,
   "metadata": {},
   "outputs": [
    {
     "data": {
      "text/plain": [
       "name                  object\n",
       "state                 object\n",
       "total_mwh            float64\n",
       "total_cust           float64\n",
       "no                   float64\n",
       "type                  object\n",
       "saidi_nomed          float64\n",
       "saifi_nomed           object\n",
       "caidi_nomed           object\n",
       "circuits             float64\n",
       "voltage              float64\n",
       "nerc                  object\n",
       "gen_mwh              float64\n",
       "purchase_mwh         float64\n",
       "ba                    object\n",
       "pv_mwh               float64\n",
       "wind_mwh             float64\n",
       "nm_mwh               float64\n",
       "ee_mwh               float64\n",
       "dem_res_customers    float64\n",
       "dem_res_mwh          float64\n",
       "pv_pct               float64\n",
       "nm_pct               float64\n",
       "ee_pct               float64\n",
       "dem_res_pct          float64\n",
       "dem_res_cust_pct     float64\n",
       "dtype: object"
      ]
     },
     "execution_count": 167,
     "metadata": {},
     "output_type": "execute_result"
    }
   ],
   "source": [
    "df_19_nona.dtypes"
   ]
  },
  {
   "cell_type": "code",
   "execution_count": 163,
   "metadata": {},
   "outputs": [],
   "source": [
    "# convert object variables to categories\n",
    "for col in df_19_nona.select_dtypes(include=\"object\"):\n",
    "    df_19_nona[col] = df_19_nona[col].astype('category')"
   ]
  },
  {
   "cell_type": "code",
   "execution_count": 168,
   "metadata": {},
   "outputs": [],
   "source": [
    "y = df_19_nona['saidi_nomed']\n",
    "X = df_19_nona[['ba','state','type','total_mwh',\n",
    "           'nerc','gen_mwh','purchase_mwh',\n",
    "           'circuits','voltage',\n",
    "           'total_cust','nm_pct','ee_pct',\n",
    "           'dem_res_pct']]"
   ]
  },
  {
   "cell_type": "code",
   "execution_count": 169,
   "metadata": {},
   "outputs": [],
   "source": [
    "train_X, test_X, train_y, test_y = train_test_split(X,y,test_size=.25,random_state=1997)"
   ]
  },
  {
   "cell_type": "code",
   "execution_count": 170,
   "metadata": {},
   "outputs": [
    {
     "name": "stdout",
     "output_type": "stream",
     "text": [
      "0.7443609022556391\n",
      "0.2556390977443609\n"
     ]
    }
   ],
   "source": [
    "print(train_X.shape[0]/df_19_nona.shape[0])\n",
    "print(test_X.shape[0]/df_19_nona.shape[0])"
   ]
  },
  {
   "cell_type": "code",
   "execution_count": 172,
   "metadata": {},
   "outputs": [
    {
     "data": {
      "text/plain": [
       "wind_mwh             11.512144\n",
       "dem_res_mwh          11.071812\n",
       "dem_res_pct           8.675879\n",
       "pv_mwh                6.950890\n",
       "nm_mwh                6.829188\n",
       "pv_pct                6.127874\n",
       "nm_pct                6.028308\n",
       "voltage               4.636473\n",
       "gen_mwh               4.390699\n",
       "ee_mwh                4.367758\n",
       "dem_res_customers     3.881088\n",
       "purchase_mwh          3.681270\n",
       "total_mwh             3.648560\n",
       "saidi_nomed           3.581155\n",
       "total_cust            3.258136\n",
       "ee_pct                3.248770\n",
       "circuits              2.840800\n",
       "dem_res_cust_pct      1.855880\n",
       "no                    1.306933\n",
       "dtype: float64"
      ]
     },
     "execution_count": 172,
     "metadata": {},
     "output_type": "execute_result"
    }
   ],
   "source": [
    "df_19_nona.skew().sort_values(ascending = False)"
   ]
  },
  {
   "cell_type": "code",
   "execution_count": 173,
   "metadata": {},
   "outputs": [
    {
     "data": {
      "image/png": "[encoded data removed]",
      "text/plain": [
       "<Figure size 1000x500 with 9 Axes>"
      ]
     },
     "metadata": {},
     "output_type": "display_data"
    },
    {
     "data": {
      "text/plain": [
       "<ggplot: (8790592476081)>"
      ]
     },
     "execution_count": 173,
     "metadata": {},
     "output_type": "execute_result"
    }
   ],
   "source": [
    "# Plot the continuous variables \n",
    "df_num = train_X.select_dtypes(include=\"number\").melt()\n",
    "\n",
    "(\n",
    "    ggplot(df_num,aes(x=\"value\")) +\n",
    "    geom_histogram(bins=25) +\n",
    "    facet_wrap(\"variable\",scales='free') +\n",
    "    theme(figure_size=(10,5),\n",
    "          subplots_adjust={'wspace':0.25})\n",
    ")"
   ]
  },
  {
   "cell_type": "code",
   "execution_count": 186,
   "metadata": {},
   "outputs": [],
   "source": [
    "df_19_nona_log = df_19_nona.copy()\n",
    "\n",
    "# lgo some variables\n",
    "df_19_nona_log['total_mwh'] = np.log(df_19_nona_log['total_mwh'])\n",
    "df_19_nona_log['circuits'] = np.log(df_19_nona_log['circuits'])\n",
    "# df_19_nona_log['voltage'] = np.log(df_19_nona_log['voltage'] + 1)\n",
    "#df_19_nona_log['nm_pct'] = np.log(df_19_nona_log['nm_pct'] + 1)\n",
    "df_19_nona_log['ee_pct'] = np.log(df_19_nona_log['ee_pct'] + 1)\n",
    "#df_19_nona_log['dem_res_pct'] = np.log(df_19_nona_log['dem_res_pct'] + 1)\n",
    "\n",
    "# voltage, net metered, and remand response percent \n",
    "median_voltage_pct = df_19_nona.loc[df_19_nona_log['voltage'] > 0,'voltage'].median()\n",
    "df_19_nona_log['voltage'] =  np.where(df_19_nona_log['voltage']==0,0,np.where(df_19_nona_log['voltage'] <= median_voltage_pct,1,2))\n",
    "\n",
    "# demand response pct\n",
    "median_dr_pct = df_19_nona.loc[df_19_nona_log['dem_res_pct'] > 0,'dem_res_pct'].median()\n",
    "df_19_nona_log['dem_res_pct'] =  np.where(df_19_nona_log['dem_res_pct']==0,0,np.where(df_19_nona_log['dem_res_pct'] <= median_voltage_pct,1,2))\n",
    "\n",
    "# nm percent \n",
    "median_nm_pct = df_19_nona.loc[df_19_nona_log['nm_pct'] > 0,'nm_pct'].median()\n",
    "df_19_nona_log['nm_pct'] =  np.where(df_19_nona_log['nm_pct']==0,0,np.where(df_19_nona_log['nm_pct'] <= median_nm_pct,1,2))\n"
   ]
  },
  {
   "cell_type": "code",
   "execution_count": 188,
   "metadata": {},
   "outputs": [
    {
     "data": {
      "image/png": "[encoded data removed]",
      "text/plain": [
       "<Figure size 1000x500 with 7 Axes>"
      ]
     },
     "metadata": {},
     "output_type": "display_data"
    },
    {
     "data": {
      "text/plain": [
       "<ggplot: (8790612357949)>"
      ]
     },
     "execution_count": 188,
     "metadata": {},
     "output_type": "execute_result"
    }
   ],
   "source": [
    "d = train_X_log.select_dtypes(include=\"number\").melt()\n",
    "\n",
    "(\n",
    "    ggplot(d,aes(x=\"value\")) +\n",
    "    geom_histogram(bins=25) +\n",
    "    facet_wrap(\"variable\",scales='free') +\n",
    "    theme(figure_size=(10,5),\n",
    "          subplots_adjust={'wspace':0.25})\n",
    ")"
   ]
  },
  {
   "cell_type": "markdown",
   "metadata": {},
   "source": [
    "### Let's dummify NERC regions, state, and utility type"
   ]
  },
  {
   "cell_type": "code",
   "execution_count": 221,
   "metadata": {},
   "outputs": [],
   "source": [
    "nerc_dummies = pd.get_dummies(df_19_nona_log.nerc)"
   ]
  },
  {
   "cell_type": "code",
   "execution_count": 222,
   "metadata": {},
   "outputs": [
    {
     "data": {
      "text/html": [
       "<div>\n",
       "<style scoped>\n",
       "    .dataframe tbody tr th:only-of-type {\n",
       "        vertical-align: middle;\n",
       "    }\n",
       "\n",
       "    .dataframe tbody tr th {\n",
       "        vertical-align: top;\n",
       "    }\n",
       "\n",
       "    .dataframe thead th {\n",
       "        text-align: right;\n",
       "    }\n",
       "</style>\n",
       "<table border=\"1\" class=\"dataframe\">\n",
       "  <thead>\n",
       "    <tr style=\"text-align: right;\">\n",
       "      <th></th>\n",
       "      <th>MRO</th>\n",
       "      <th>NPCC</th>\n",
       "      <th>RFC</th>\n",
       "      <th>SERC</th>\n",
       "      <th>SPP</th>\n",
       "      <th>TRE</th>\n",
       "      <th>WECC</th>\n",
       "    </tr>\n",
       "  </thead>\n",
       "  <tbody>\n",
       "    <tr>\n",
       "      <th>0</th>\n",
       "      <td>1</td>\n",
       "      <td>0</td>\n",
       "      <td>0</td>\n",
       "      <td>0</td>\n",
       "      <td>0</td>\n",
       "      <td>0</td>\n",
       "      <td>0</td>\n",
       "    </tr>\n",
       "    <tr>\n",
       "      <th>1</th>\n",
       "      <td>1</td>\n",
       "      <td>0</td>\n",
       "      <td>0</td>\n",
       "      <td>0</td>\n",
       "      <td>0</td>\n",
       "      <td>0</td>\n",
       "      <td>0</td>\n",
       "    </tr>\n",
       "    <tr>\n",
       "      <th>2</th>\n",
       "      <td>0</td>\n",
       "      <td>0</td>\n",
       "      <td>0</td>\n",
       "      <td>0</td>\n",
       "      <td>0</td>\n",
       "      <td>0</td>\n",
       "      <td>1</td>\n",
       "    </tr>\n",
       "    <tr>\n",
       "      <th>3</th>\n",
       "      <td>0</td>\n",
       "      <td>0</td>\n",
       "      <td>0</td>\n",
       "      <td>0</td>\n",
       "      <td>0</td>\n",
       "      <td>0</td>\n",
       "      <td>1</td>\n",
       "    </tr>\n",
       "    <tr>\n",
       "      <th>4</th>\n",
       "      <td>0</td>\n",
       "      <td>0</td>\n",
       "      <td>0</td>\n",
       "      <td>1</td>\n",
       "      <td>0</td>\n",
       "      <td>0</td>\n",
       "      <td>0</td>\n",
       "    </tr>\n",
       "  </tbody>\n",
       "</table>\n",
       "</div>"
      ],
      "text/plain": [
       "   MRO  NPCC  RFC  SERC  SPP  TRE  WECC\n",
       "0    1     0    0     0    0    0     0\n",
       "1    1     0    0     0    0    0     0\n",
       "2    0     0    0     0    0    0     1\n",
       "3    0     0    0     0    0    0     1\n",
       "4    0     0    0     1    0    0     0"
      ]
     },
     "execution_count": 222,
     "metadata": {},
     "output_type": "execute_result"
    }
   ],
   "source": [
    "# we'll use FRCC as our reference category\n",
    "nerc_dummies = nerc_dummies.drop(['FRCC'],axis=1)\n",
    "nerc_dummies.head()"
   ]
  },
  {
   "cell_type": "code",
   "execution_count": 223,
   "metadata": {},
   "outputs": [],
   "source": [
    "df_19_nona_log = pd.concat([df_19_nona_log.drop(['nerc'],axis=1),nerc_dummies],axis=1)"
   ]
  },
  {
   "cell_type": "code",
   "execution_count": 224,
   "metadata": {},
   "outputs": [],
   "source": [
    "type_dummies = pd.get_dummies(df_19_nona_log.type)"
   ]
  },
  {
   "cell_type": "code",
   "execution_count": 225,
   "metadata": {},
   "outputs": [
    {
     "data": {
      "text/html": [
       "<div>\n",
       "<style scoped>\n",
       "    .dataframe tbody tr th:only-of-type {\n",
       "        vertical-align: middle;\n",
       "    }\n",
       "\n",
       "    .dataframe tbody tr th {\n",
       "        vertical-align: top;\n",
       "    }\n",
       "\n",
       "    .dataframe thead th {\n",
       "        text-align: right;\n",
       "    }\n",
       "</style>\n",
       "<table border=\"1\" class=\"dataframe\">\n",
       "  <thead>\n",
       "    <tr style=\"text-align: right;\">\n",
       "      <th></th>\n",
       "      <th>Cooperative</th>\n",
       "      <th>Investor Owned</th>\n",
       "      <th>Municipal</th>\n",
       "      <th>Political Subdivision</th>\n",
       "    </tr>\n",
       "  </thead>\n",
       "  <tbody>\n",
       "    <tr>\n",
       "      <th>0</th>\n",
       "      <td>1</td>\n",
       "      <td>0</td>\n",
       "      <td>0</td>\n",
       "      <td>0</td>\n",
       "    </tr>\n",
       "    <tr>\n",
       "      <th>1</th>\n",
       "      <td>0</td>\n",
       "      <td>0</td>\n",
       "      <td>1</td>\n",
       "      <td>0</td>\n",
       "    </tr>\n",
       "    <tr>\n",
       "      <th>2</th>\n",
       "      <td>0</td>\n",
       "      <td>0</td>\n",
       "      <td>1</td>\n",
       "      <td>0</td>\n",
       "    </tr>\n",
       "    <tr>\n",
       "      <th>3</th>\n",
       "      <td>0</td>\n",
       "      <td>1</td>\n",
       "      <td>0</td>\n",
       "      <td>0</td>\n",
       "    </tr>\n",
       "    <tr>\n",
       "      <th>4</th>\n",
       "      <td>0</td>\n",
       "      <td>1</td>\n",
       "      <td>0</td>\n",
       "      <td>0</td>\n",
       "    </tr>\n",
       "  </tbody>\n",
       "</table>\n",
       "</div>"
      ],
      "text/plain": [
       "   Cooperative  Investor Owned  Municipal  Political Subdivision\n",
       "0            1               0          0                      0\n",
       "1            0               0          1                      0\n",
       "2            0               0          1                      0\n",
       "3            0               1          0                      0\n",
       "4            0               1          0                      0"
      ]
     },
     "execution_count": 225,
     "metadata": {},
     "output_type": "execute_result"
    }
   ],
   "source": [
    "# we'll use State as our reference category\n",
    "type_dummies = type_dummies.drop(['State'],axis=1)\n",
    "type_dummies.head()"
   ]
  },
  {
   "cell_type": "code",
   "execution_count": 226,
   "metadata": {},
   "outputs": [],
   "source": [
    "df_19_nona_log = pd.concat([df_19_nona_log.drop(['type'],axis=1),type_dummies],axis=1)"
   ]
  },
  {
   "cell_type": "code",
   "execution_count": 227,
   "metadata": {},
   "outputs": [],
   "source": [
    "state_dummies = pd.get_dummies(df_19_nona_log.state)"
   ]
  },
  {
   "cell_type": "code",
   "execution_count": 228,
   "metadata": {},
   "outputs": [
    {
     "data": {
      "text/html": [
       "<div>\n",
       "<style scoped>\n",
       "    .dataframe tbody tr th:only-of-type {\n",
       "        vertical-align: middle;\n",
       "    }\n",
       "\n",
       "    .dataframe tbody tr th {\n",
       "        vertical-align: top;\n",
       "    }\n",
       "\n",
       "    .dataframe thead th {\n",
       "        text-align: right;\n",
       "    }\n",
       "</style>\n",
       "<table border=\"1\" class=\"dataframe\">\n",
       "  <thead>\n",
       "    <tr style=\"text-align: right;\">\n",
       "      <th></th>\n",
       "      <th>AR</th>\n",
       "      <th>AZ</th>\n",
       "      <th>CA</th>\n",
       "      <th>CO</th>\n",
       "      <th>CT</th>\n",
       "      <th>DE</th>\n",
       "      <th>FL</th>\n",
       "      <th>GA</th>\n",
       "      <th>IA</th>\n",
       "      <th>ID</th>\n",
       "      <th>...</th>\n",
       "      <th>NV</th>\n",
       "      <th>NY</th>\n",
       "      <th>OH</th>\n",
       "      <th>OK</th>\n",
       "      <th>PA</th>\n",
       "      <th>SC</th>\n",
       "      <th>SD</th>\n",
       "      <th>TX</th>\n",
       "      <th>VA</th>\n",
       "      <th>WI</th>\n",
       "    </tr>\n",
       "  </thead>\n",
       "  <tbody>\n",
       "    <tr>\n",
       "      <th>0</th>\n",
       "      <td>0</td>\n",
       "      <td>0</td>\n",
       "      <td>0</td>\n",
       "      <td>0</td>\n",
       "      <td>0</td>\n",
       "      <td>0</td>\n",
       "      <td>0</td>\n",
       "      <td>0</td>\n",
       "      <td>1</td>\n",
       "      <td>0</td>\n",
       "      <td>...</td>\n",
       "      <td>0</td>\n",
       "      <td>0</td>\n",
       "      <td>0</td>\n",
       "      <td>0</td>\n",
       "      <td>0</td>\n",
       "      <td>0</td>\n",
       "      <td>0</td>\n",
       "      <td>0</td>\n",
       "      <td>0</td>\n",
       "      <td>0</td>\n",
       "    </tr>\n",
       "    <tr>\n",
       "      <th>1</th>\n",
       "      <td>0</td>\n",
       "      <td>0</td>\n",
       "      <td>0</td>\n",
       "      <td>0</td>\n",
       "      <td>0</td>\n",
       "      <td>0</td>\n",
       "      <td>0</td>\n",
       "      <td>0</td>\n",
       "      <td>1</td>\n",
       "      <td>0</td>\n",
       "      <td>...</td>\n",
       "      <td>0</td>\n",
       "      <td>0</td>\n",
       "      <td>0</td>\n",
       "      <td>0</td>\n",
       "      <td>0</td>\n",
       "      <td>0</td>\n",
       "      <td>0</td>\n",
       "      <td>0</td>\n",
       "      <td>0</td>\n",
       "      <td>0</td>\n",
       "    </tr>\n",
       "    <tr>\n",
       "      <th>2</th>\n",
       "      <td>0</td>\n",
       "      <td>0</td>\n",
       "      <td>1</td>\n",
       "      <td>0</td>\n",
       "      <td>0</td>\n",
       "      <td>0</td>\n",
       "      <td>0</td>\n",
       "      <td>0</td>\n",
       "      <td>0</td>\n",
       "      <td>0</td>\n",
       "      <td>...</td>\n",
       "      <td>0</td>\n",
       "      <td>0</td>\n",
       "      <td>0</td>\n",
       "      <td>0</td>\n",
       "      <td>0</td>\n",
       "      <td>0</td>\n",
       "      <td>0</td>\n",
       "      <td>0</td>\n",
       "      <td>0</td>\n",
       "      <td>0</td>\n",
       "    </tr>\n",
       "    <tr>\n",
       "      <th>3</th>\n",
       "      <td>0</td>\n",
       "      <td>1</td>\n",
       "      <td>0</td>\n",
       "      <td>0</td>\n",
       "      <td>0</td>\n",
       "      <td>0</td>\n",
       "      <td>0</td>\n",
       "      <td>0</td>\n",
       "      <td>0</td>\n",
       "      <td>0</td>\n",
       "      <td>...</td>\n",
       "      <td>0</td>\n",
       "      <td>0</td>\n",
       "      <td>0</td>\n",
       "      <td>0</td>\n",
       "      <td>0</td>\n",
       "      <td>0</td>\n",
       "      <td>0</td>\n",
       "      <td>0</td>\n",
       "      <td>0</td>\n",
       "      <td>0</td>\n",
       "    </tr>\n",
       "    <tr>\n",
       "      <th>4</th>\n",
       "      <td>1</td>\n",
       "      <td>0</td>\n",
       "      <td>0</td>\n",
       "      <td>0</td>\n",
       "      <td>0</td>\n",
       "      <td>0</td>\n",
       "      <td>0</td>\n",
       "      <td>0</td>\n",
       "      <td>0</td>\n",
       "      <td>0</td>\n",
       "      <td>...</td>\n",
       "      <td>0</td>\n",
       "      <td>0</td>\n",
       "      <td>0</td>\n",
       "      <td>0</td>\n",
       "      <td>0</td>\n",
       "      <td>0</td>\n",
       "      <td>0</td>\n",
       "      <td>0</td>\n",
       "      <td>0</td>\n",
       "      <td>0</td>\n",
       "    </tr>\n",
       "    <tr>\n",
       "      <th>...</th>\n",
       "      <td>...</td>\n",
       "      <td>...</td>\n",
       "      <td>...</td>\n",
       "      <td>...</td>\n",
       "      <td>...</td>\n",
       "      <td>...</td>\n",
       "      <td>...</td>\n",
       "      <td>...</td>\n",
       "      <td>...</td>\n",
       "      <td>...</td>\n",
       "      <td>...</td>\n",
       "      <td>...</td>\n",
       "      <td>...</td>\n",
       "      <td>...</td>\n",
       "      <td>...</td>\n",
       "      <td>...</td>\n",
       "      <td>...</td>\n",
       "      <td>...</td>\n",
       "      <td>...</td>\n",
       "      <td>...</td>\n",
       "      <td>...</td>\n",
       "    </tr>\n",
       "    <tr>\n",
       "      <th>128</th>\n",
       "      <td>0</td>\n",
       "      <td>0</td>\n",
       "      <td>0</td>\n",
       "      <td>0</td>\n",
       "      <td>0</td>\n",
       "      <td>0</td>\n",
       "      <td>0</td>\n",
       "      <td>0</td>\n",
       "      <td>0</td>\n",
       "      <td>0</td>\n",
       "      <td>...</td>\n",
       "      <td>0</td>\n",
       "      <td>0</td>\n",
       "      <td>0</td>\n",
       "      <td>0</td>\n",
       "      <td>0</td>\n",
       "      <td>1</td>\n",
       "      <td>0</td>\n",
       "      <td>0</td>\n",
       "      <td>0</td>\n",
       "      <td>0</td>\n",
       "    </tr>\n",
       "    <tr>\n",
       "      <th>129</th>\n",
       "      <td>0</td>\n",
       "      <td>0</td>\n",
       "      <td>0</td>\n",
       "      <td>0</td>\n",
       "      <td>0</td>\n",
       "      <td>0</td>\n",
       "      <td>0</td>\n",
       "      <td>0</td>\n",
       "      <td>0</td>\n",
       "      <td>0</td>\n",
       "      <td>...</td>\n",
       "      <td>0</td>\n",
       "      <td>0</td>\n",
       "      <td>0</td>\n",
       "      <td>0</td>\n",
       "      <td>0</td>\n",
       "      <td>0</td>\n",
       "      <td>0</td>\n",
       "      <td>0</td>\n",
       "      <td>0</td>\n",
       "      <td>0</td>\n",
       "    </tr>\n",
       "    <tr>\n",
       "      <th>130</th>\n",
       "      <td>0</td>\n",
       "      <td>0</td>\n",
       "      <td>0</td>\n",
       "      <td>0</td>\n",
       "      <td>0</td>\n",
       "      <td>0</td>\n",
       "      <td>0</td>\n",
       "      <td>0</td>\n",
       "      <td>0</td>\n",
       "      <td>0</td>\n",
       "      <td>...</td>\n",
       "      <td>0</td>\n",
       "      <td>0</td>\n",
       "      <td>0</td>\n",
       "      <td>0</td>\n",
       "      <td>0</td>\n",
       "      <td>0</td>\n",
       "      <td>0</td>\n",
       "      <td>0</td>\n",
       "      <td>0</td>\n",
       "      <td>0</td>\n",
       "    </tr>\n",
       "    <tr>\n",
       "      <th>131</th>\n",
       "      <td>0</td>\n",
       "      <td>0</td>\n",
       "      <td>0</td>\n",
       "      <td>0</td>\n",
       "      <td>0</td>\n",
       "      <td>0</td>\n",
       "      <td>0</td>\n",
       "      <td>0</td>\n",
       "      <td>0</td>\n",
       "      <td>0</td>\n",
       "      <td>...</td>\n",
       "      <td>0</td>\n",
       "      <td>0</td>\n",
       "      <td>0</td>\n",
       "      <td>0</td>\n",
       "      <td>0</td>\n",
       "      <td>0</td>\n",
       "      <td>0</td>\n",
       "      <td>0</td>\n",
       "      <td>0</td>\n",
       "      <td>0</td>\n",
       "    </tr>\n",
       "    <tr>\n",
       "      <th>132</th>\n",
       "      <td>0</td>\n",
       "      <td>0</td>\n",
       "      <td>0</td>\n",
       "      <td>0</td>\n",
       "      <td>0</td>\n",
       "      <td>0</td>\n",
       "      <td>0</td>\n",
       "      <td>0</td>\n",
       "      <td>0</td>\n",
       "      <td>0</td>\n",
       "      <td>...</td>\n",
       "      <td>0</td>\n",
       "      <td>0</td>\n",
       "      <td>0</td>\n",
       "      <td>0</td>\n",
       "      <td>0</td>\n",
       "      <td>0</td>\n",
       "      <td>0</td>\n",
       "      <td>1</td>\n",
       "      <td>0</td>\n",
       "      <td>0</td>\n",
       "    </tr>\n",
       "  </tbody>\n",
       "</table>\n",
       "<p>133 rows × 38 columns</p>\n",
       "</div>"
      ],
      "text/plain": [
       "     AR  AZ  CA  CO  CT  DE  FL  GA  IA  ID  ...  NV  NY  OH  OK  PA  SC  SD  \\\n",
       "0     0   0   0   0   0   0   0   0   1   0  ...   0   0   0   0   0   0   0   \n",
       "1     0   0   0   0   0   0   0   0   1   0  ...   0   0   0   0   0   0   0   \n",
       "2     0   0   1   0   0   0   0   0   0   0  ...   0   0   0   0   0   0   0   \n",
       "3     0   1   0   0   0   0   0   0   0   0  ...   0   0   0   0   0   0   0   \n",
       "4     1   0   0   0   0   0   0   0   0   0  ...   0   0   0   0   0   0   0   \n",
       "..   ..  ..  ..  ..  ..  ..  ..  ..  ..  ..  ...  ..  ..  ..  ..  ..  ..  ..   \n",
       "128   0   0   0   0   0   0   0   0   0   0  ...   0   0   0   0   0   1   0   \n",
       "129   0   0   0   0   0   0   0   0   0   0  ...   0   0   0   0   0   0   0   \n",
       "130   0   0   0   0   0   0   0   0   0   0  ...   0   0   0   0   0   0   0   \n",
       "131   0   0   0   0   0   0   0   0   0   0  ...   0   0   0   0   0   0   0   \n",
       "132   0   0   0   0   0   0   0   0   0   0  ...   0   0   0   0   0   0   0   \n",
       "\n",
       "     TX  VA  WI  \n",
       "0     0   0   0  \n",
       "1     0   0   0  \n",
       "2     0   0   0  \n",
       "3     0   0   0  \n",
       "4     0   0   0  \n",
       "..   ..  ..  ..  \n",
       "128   0   0   0  \n",
       "129   0   0   0  \n",
       "130   0   0   0  \n",
       "131   0   0   0  \n",
       "132   1   0   0  \n",
       "\n",
       "[133 rows x 38 columns]"
      ]
     },
     "execution_count": 228,
     "metadata": {},
     "output_type": "execute_result"
    }
   ],
   "source": [
    "state_dummies"
   ]
  },
  {
   "cell_type": "code",
   "execution_count": 229,
   "metadata": {},
   "outputs": [
    {
     "data": {
      "text/html": [
       "<div>\n",
       "<style scoped>\n",
       "    .dataframe tbody tr th:only-of-type {\n",
       "        vertical-align: middle;\n",
       "    }\n",
       "\n",
       "    .dataframe tbody tr th {\n",
       "        vertical-align: top;\n",
       "    }\n",
       "\n",
       "    .dataframe thead th {\n",
       "        text-align: right;\n",
       "    }\n",
       "</style>\n",
       "<table border=\"1\" class=\"dataframe\">\n",
       "  <thead>\n",
       "    <tr style=\"text-align: right;\">\n",
       "      <th></th>\n",
       "      <th>AZ</th>\n",
       "      <th>CA</th>\n",
       "      <th>CO</th>\n",
       "      <th>CT</th>\n",
       "      <th>DE</th>\n",
       "      <th>FL</th>\n",
       "      <th>GA</th>\n",
       "      <th>IA</th>\n",
       "      <th>ID</th>\n",
       "      <th>IL</th>\n",
       "      <th>...</th>\n",
       "      <th>NV</th>\n",
       "      <th>NY</th>\n",
       "      <th>OH</th>\n",
       "      <th>OK</th>\n",
       "      <th>PA</th>\n",
       "      <th>SC</th>\n",
       "      <th>SD</th>\n",
       "      <th>TX</th>\n",
       "      <th>VA</th>\n",
       "      <th>WI</th>\n",
       "    </tr>\n",
       "  </thead>\n",
       "  <tbody>\n",
       "    <tr>\n",
       "      <th>0</th>\n",
       "      <td>0</td>\n",
       "      <td>0</td>\n",
       "      <td>0</td>\n",
       "      <td>0</td>\n",
       "      <td>0</td>\n",
       "      <td>0</td>\n",
       "      <td>0</td>\n",
       "      <td>1</td>\n",
       "      <td>0</td>\n",
       "      <td>0</td>\n",
       "      <td>...</td>\n",
       "      <td>0</td>\n",
       "      <td>0</td>\n",
       "      <td>0</td>\n",
       "      <td>0</td>\n",
       "      <td>0</td>\n",
       "      <td>0</td>\n",
       "      <td>0</td>\n",
       "      <td>0</td>\n",
       "      <td>0</td>\n",
       "      <td>0</td>\n",
       "    </tr>\n",
       "    <tr>\n",
       "      <th>1</th>\n",
       "      <td>0</td>\n",
       "      <td>0</td>\n",
       "      <td>0</td>\n",
       "      <td>0</td>\n",
       "      <td>0</td>\n",
       "      <td>0</td>\n",
       "      <td>0</td>\n",
       "      <td>1</td>\n",
       "      <td>0</td>\n",
       "      <td>0</td>\n",
       "      <td>...</td>\n",
       "      <td>0</td>\n",
       "      <td>0</td>\n",
       "      <td>0</td>\n",
       "      <td>0</td>\n",
       "      <td>0</td>\n",
       "      <td>0</td>\n",
       "      <td>0</td>\n",
       "      <td>0</td>\n",
       "      <td>0</td>\n",
       "      <td>0</td>\n",
       "    </tr>\n",
       "    <tr>\n",
       "      <th>2</th>\n",
       "      <td>0</td>\n",
       "      <td>1</td>\n",
       "      <td>0</td>\n",
       "      <td>0</td>\n",
       "      <td>0</td>\n",
       "      <td>0</td>\n",
       "      <td>0</td>\n",
       "      <td>0</td>\n",
       "      <td>0</td>\n",
       "      <td>0</td>\n",
       "      <td>...</td>\n",
       "      <td>0</td>\n",
       "      <td>0</td>\n",
       "      <td>0</td>\n",
       "      <td>0</td>\n",
       "      <td>0</td>\n",
       "      <td>0</td>\n",
       "      <td>0</td>\n",
       "      <td>0</td>\n",
       "      <td>0</td>\n",
       "      <td>0</td>\n",
       "    </tr>\n",
       "    <tr>\n",
       "      <th>3</th>\n",
       "      <td>1</td>\n",
       "      <td>0</td>\n",
       "      <td>0</td>\n",
       "      <td>0</td>\n",
       "      <td>0</td>\n",
       "      <td>0</td>\n",
       "      <td>0</td>\n",
       "      <td>0</td>\n",
       "      <td>0</td>\n",
       "      <td>0</td>\n",
       "      <td>...</td>\n",
       "      <td>0</td>\n",
       "      <td>0</td>\n",
       "      <td>0</td>\n",
       "      <td>0</td>\n",
       "      <td>0</td>\n",
       "      <td>0</td>\n",
       "      <td>0</td>\n",
       "      <td>0</td>\n",
       "      <td>0</td>\n",
       "      <td>0</td>\n",
       "    </tr>\n",
       "    <tr>\n",
       "      <th>4</th>\n",
       "      <td>0</td>\n",
       "      <td>0</td>\n",
       "      <td>0</td>\n",
       "      <td>0</td>\n",
       "      <td>0</td>\n",
       "      <td>0</td>\n",
       "      <td>0</td>\n",
       "      <td>0</td>\n",
       "      <td>0</td>\n",
       "      <td>0</td>\n",
       "      <td>...</td>\n",
       "      <td>0</td>\n",
       "      <td>0</td>\n",
       "      <td>0</td>\n",
       "      <td>0</td>\n",
       "      <td>0</td>\n",
       "      <td>0</td>\n",
       "      <td>0</td>\n",
       "      <td>0</td>\n",
       "      <td>0</td>\n",
       "      <td>0</td>\n",
       "    </tr>\n",
       "  </tbody>\n",
       "</table>\n",
       "<p>5 rows × 37 columns</p>\n",
       "</div>"
      ],
      "text/plain": [
       "   AZ  CA  CO  CT  DE  FL  GA  IA  ID  IL  ...  NV  NY  OH  OK  PA  SC  SD  \\\n",
       "0   0   0   0   0   0   0   0   1   0   0  ...   0   0   0   0   0   0   0   \n",
       "1   0   0   0   0   0   0   0   1   0   0  ...   0   0   0   0   0   0   0   \n",
       "2   0   1   0   0   0   0   0   0   0   0  ...   0   0   0   0   0   0   0   \n",
       "3   1   0   0   0   0   0   0   0   0   0  ...   0   0   0   0   0   0   0   \n",
       "4   0   0   0   0   0   0   0   0   0   0  ...   0   0   0   0   0   0   0   \n",
       "\n",
       "   TX  VA  WI  \n",
       "0   0   0   0  \n",
       "1   0   0   0  \n",
       "2   0   0   0  \n",
       "3   0   0   0  \n",
       "4   0   0   0  \n",
       "\n",
       "[5 rows x 37 columns]"
      ]
     },
     "execution_count": 229,
     "metadata": {},
     "output_type": "execute_result"
    }
   ],
   "source": [
    "# we'll use AR as our reference category\n",
    "state_dummies = state_dummies.drop(['AR'],axis=1)\n",
    "state_dummies.head()"
   ]
  },
  {
   "cell_type": "code",
   "execution_count": 230,
   "metadata": {},
   "outputs": [],
   "source": [
    "df_19_nona_log = pd.concat([df_19_nona_log.drop(['state'],axis=1),state_dummies],axis=1)"
   ]
  },
  {
   "cell_type": "code",
   "execution_count": 231,
   "metadata": {},
   "outputs": [],
   "source": [
    "y = df_19_nona_log['saidi_nomed']\n",
    "X = df_19_nona_log.drop(columns=['no','name','total_cust','ba',\n",
    "                       'saidi_nomed','saifi_nomed', 'caidi_nomed',\n",
    "                       'gen_mwh', 'purchase_mwh', \n",
    "                       'pv_mwh', 'wind_mwh', 'nm_mwh', 'ee_mwh',\n",
    "                       'dem_res_customers', 'dem_res_mwh',\n",
    "                        'pv_pct'])\n",
    "train_X_log, test_X_log, train_y_log, test_y_log = train_test_split(X,y,test_size=.25,random_state=1997)"
   ]
  },
  {
   "cell_type": "code",
   "execution_count": 232,
   "metadata": {},
   "outputs": [],
   "source": [
    "# EVERYTHING must hold constant other than the algorithm because we're looking for the best algorithm \n",
    "fold_generator = KFold(n_splits=5, shuffle=True,random_state=111) # make sure splits are same with random state"
   ]
  },
  {
   "cell_type": "code",
   "execution_count": 233,
   "metadata": {},
   "outputs": [
    {
     "data": {
      "text/plain": [
       "sklearn.model_selection._split.KFold"
      ]
     },
     "execution_count": 233,
     "metadata": {},
     "output_type": "execute_result"
    }
   ],
   "source": [
    "type(fold_generator)"
   ]
  },
  {
   "cell_type": "code",
   "execution_count": 234,
   "metadata": {},
   "outputs": [],
   "source": [
    "# just MSE but negative, used by sklearn\n",
    "use_metrics = [\"neg_mean_squared_error\"] "
   ]
  },
  {
   "cell_type": "markdown",
   "metadata": {},
   "source": [
    "### Linear Model"
   ]
  },
  {
   "cell_type": "code",
   "execution_count": 235,
   "metadata": {},
   "outputs": [],
   "source": [
    "lm_scores = cross_validate(LM(),train_X_log,train_y_log, cv = fold_generator, scoring =use_metrics)"
   ]
  },
  {
   "cell_type": "code",
   "execution_count": 236,
   "metadata": {},
   "outputs": [],
   "source": [
    "mod = LM()"
   ]
  },
  {
   "cell_type": "code",
   "execution_count": 237,
   "metadata": {},
   "outputs": [
    {
     "data": {
      "text/plain": [
       "LinearRegression(copy_X=True, fit_intercept=True, n_jobs=None, normalize=False)"
      ]
     },
     "execution_count": 237,
     "metadata": {},
     "output_type": "execute_result"
    }
   ],
   "source": [
    "mod.fit(train_X_log, train_y_log)"
   ]
  },
  {
   "cell_type": "code",
   "execution_count": 612,
   "metadata": {},
   "outputs": [
    {
     "data": {
      "text/plain": [
       "array([-3.65019767e+01,  2.96211942e+01,  1.81238153e+00,  6.11080707e+00,\n",
       "        2.59654262e+01, -3.97535696e+00,  1.64606168e+01, -4.63162702e+00,\n",
       "        7.22017579e+14,  8.81129015e+15, -3.72485502e+01,  6.28936479e+14,\n",
       "        6.94596611e+01,  7.65019275e+01, -2.55922078e+01, -8.08640115e+01,\n",
       "        6.38860394e+01,  1.88809151e+02, -1.37120806e+02, -2.24616389e+02,\n",
       "        6.41119893e+01,  2.25389299e+01, -7.56842836e+01,  2.13045124e+02,\n",
       "        7.22017579e+14,  7.22017579e+14,  7.22017579e+14,  7.22017579e+14,\n",
       "        7.22017579e+14,  7.22017579e+14,  7.22017579e+14,  7.22017579e+14,\n",
       "        7.22017579e+14,  7.22017579e+14,  9.30810999e+13,  7.22017579e+14,\n",
       "        7.22017579e+14,  7.22017579e+14,  7.22017579e+14,  7.22017579e+14,\n",
       "        7.22017579e+14,  7.22017579e+14,  7.22017579e+14,  7.22017579e+14,\n",
       "        7.22017579e+14,  7.22017579e+14,  7.22017579e+14,  7.22017579e+14,\n",
       "        7.22017579e+14,  7.22017579e+14,  7.22017579e+14,  7.22017579e+14,\n",
       "        7.22017579e+14,  7.22017579e+14,  7.22017579e+14,  7.22017579e+14,\n",
       "        7.22017579e+14,  7.22017579e+14,  7.22017579e+14,  7.22017579e+14,\n",
       "        7.22017579e+14,  7.22017579e+14,  7.22017579e+14,  7.22017579e+14,\n",
       "        7.22017579e+14,  7.22017579e+14,  7.22017579e+14,  7.22017579e+14,\n",
       "        7.22017579e+14,  7.22017579e+14,  7.22017579e+14,  7.22017579e+14,\n",
       "        7.22017579e+14,  7.22017579e+14])"
      ]
     },
     "execution_count": 612,
     "metadata": {},
     "output_type": "execute_result"
    }
   ],
   "source": [
    "mod.coef_"
   ]
  },
  {
   "cell_type": "markdown",
   "metadata": {},
   "source": [
    "### KNN"
   ]
  },
  {
   "cell_type": "code",
   "execution_count": 238,
   "metadata": {},
   "outputs": [],
   "source": [
    "knn_scores = cross_validate(KNN(),train_X_log,train_y_log, cv = fold_generator, scoring =use_metrics)"
   ]
  },
  {
   "cell_type": "code",
   "execution_count": 239,
   "metadata": {},
   "outputs": [
    {
     "data": {
      "text/plain": [
       "<bound method BaseEstimator.get_params of KNeighborsRegressor(algorithm='auto', leaf_size=30, metric='minkowski',\n",
       "                    metric_params=None, n_jobs=None, n_neighbors=5, p=2,\n",
       "                    weights='uniform')>"
      ]
     },
     "execution_count": 239,
     "metadata": {},
     "output_type": "execute_result"
    }
   ],
   "source": [
    "KNN().get_params"
   ]
  },
  {
   "cell_type": "markdown",
   "metadata": {},
   "source": [
    "### Decision Tree"
   ]
  },
  {
   "cell_type": "code",
   "execution_count": 240,
   "metadata": {},
   "outputs": [],
   "source": [
    "dt_scores = cross_validate(DTree(),train_X_log,train_y_log, cv = fold_generator, scoring =use_metrics)"
   ]
  },
  {
   "cell_type": "markdown",
   "metadata": {},
   "source": [
    "#### Side Note: Plotting a Decision Tree\n",
    "First, a quick side note on the decision trees. When we built a tree from scratch, we discussed looking at the **decision rules** of the tree. There is a very straight forward way of doing this in `sklearn`."
   ]
  },
  {
   "cell_type": "code",
   "execution_count": 242,
   "metadata": {},
   "outputs": [],
   "source": [
    "# grab the column names\n",
    "col_names = train_X_log.columns"
   ]
  },
  {
   "cell_type": "code",
   "execution_count": 243,
   "metadata": {
    "scrolled": true
   },
   "outputs": [
    {
     "data": {
      "image/png": "[encoded data removed]",
      "text/plain": [
       "<Figure size 3600x2400 with 1 Axes>"
      ]
     },
     "metadata": {
      "needs_background": "light"
     },
     "output_type": "display_data"
    }
   ],
   "source": [
    "mod = DTree(max_depth=3) # Initialize the modeling object (just as we did)\n",
    "mod.fit(train_X_log,train_y_log) # Fit the model\n",
    "\n",
    "# Plot the tree\n",
    "plt.figure(figsize=(12,8),dpi=300)\n",
    "rules = tree.plot_tree(mod,feature_names = col_names,fontsize=9)"
   ]
  },
  {
   "cell_type": "markdown",
   "metadata": {},
   "source": [
    "### Bagging"
   ]
  },
  {
   "cell_type": "code",
   "execution_count": 244,
   "metadata": {},
   "outputs": [],
   "source": [
    "bag_scores = cross_validate(Bag(),train_X_log,train_y_log, cv = fold_generator, scoring =use_metrics)"
   ]
  },
  {
   "cell_type": "markdown",
   "metadata": {},
   "source": [
    "### Random Forest"
   ]
  },
  {
   "cell_type": "code",
   "execution_count": 245,
   "metadata": {},
   "outputs": [],
   "source": [
    "# takes longer, because 1000 models \n",
    "rf_scores = cross_validate(RF(),train_X_log,train_y_log, cv = fold_generator, scoring =use_metrics)"
   ]
  },
  {
   "cell_type": "code",
   "execution_count": 246,
   "metadata": {},
   "outputs": [
    {
     "data": {
      "text/plain": [
       "<bound method BaseEstimator.get_params of RandomForestRegressor(bootstrap=True, ccp_alpha=0.0, criterion='mse',\n",
       "                      max_depth=None, max_features='auto', max_leaf_nodes=None,\n",
       "                      max_samples=None, min_impurity_decrease=0.0,\n",
       "                      min_impurity_split=None, min_samples_leaf=1,\n",
       "                      min_samples_split=2, min_weight_fraction_leaf=0.0,\n",
       "                      n_estimators=100, n_jobs=None, oob_score=False,\n",
       "                      random_state=None, verbose=0, warm_start=False)>"
      ]
     },
     "execution_count": 246,
     "metadata": {},
     "output_type": "execute_result"
    }
   ],
   "source": [
    "RF().get_params"
   ]
  },
  {
   "cell_type": "markdown",
   "metadata": {},
   "source": [
    "## Compare models"
   ]
  },
  {
   "cell_type": "code",
   "execution_count": 247,
   "metadata": {},
   "outputs": [
    {
     "data": {
      "text/html": [
       "<div>\n",
       "<style scoped>\n",
       "    .dataframe tbody tr th:only-of-type {\n",
       "        vertical-align: middle;\n",
       "    }\n",
       "\n",
       "    .dataframe tbody tr th {\n",
       "        vertical-align: top;\n",
       "    }\n",
       "\n",
       "    .dataframe thead th {\n",
       "        text-align: right;\n",
       "    }\n",
       "</style>\n",
       "<table border=\"1\" class=\"dataframe\">\n",
       "  <thead>\n",
       "    <tr style=\"text-align: right;\">\n",
       "      <th></th>\n",
       "      <th>Model</th>\n",
       "      <th>MSE</th>\n",
       "    </tr>\n",
       "  </thead>\n",
       "  <tbody>\n",
       "    <tr>\n",
       "      <th>0</th>\n",
       "      <td>lm</td>\n",
       "      <td>4058.867222</td>\n",
       "    </tr>\n",
       "    <tr>\n",
       "      <th>1</th>\n",
       "      <td>lm</td>\n",
       "      <td>13913.112132</td>\n",
       "    </tr>\n",
       "    <tr>\n",
       "      <th>2</th>\n",
       "      <td>lm</td>\n",
       "      <td>16788.702454</td>\n",
       "    </tr>\n",
       "    <tr>\n",
       "      <th>3</th>\n",
       "      <td>lm</td>\n",
       "      <td>7724.486414</td>\n",
       "    </tr>\n",
       "    <tr>\n",
       "      <th>4</th>\n",
       "      <td>lm</td>\n",
       "      <td>49437.651530</td>\n",
       "    </tr>\n",
       "    <tr>\n",
       "      <th>5</th>\n",
       "      <td>knn</td>\n",
       "      <td>1500.240815</td>\n",
       "    </tr>\n",
       "    <tr>\n",
       "      <th>6</th>\n",
       "      <td>knn</td>\n",
       "      <td>9252.744635</td>\n",
       "    </tr>\n",
       "    <tr>\n",
       "      <th>7</th>\n",
       "      <td>knn</td>\n",
       "      <td>11377.053505</td>\n",
       "    </tr>\n",
       "    <tr>\n",
       "      <th>8</th>\n",
       "      <td>knn</td>\n",
       "      <td>2451.998641</td>\n",
       "    </tr>\n",
       "    <tr>\n",
       "      <th>9</th>\n",
       "      <td>knn</td>\n",
       "      <td>43832.037602</td>\n",
       "    </tr>\n",
       "    <tr>\n",
       "      <th>10</th>\n",
       "      <td>dt</td>\n",
       "      <td>2994.620405</td>\n",
       "    </tr>\n",
       "    <tr>\n",
       "      <th>11</th>\n",
       "      <td>dt</td>\n",
       "      <td>51356.242056</td>\n",
       "    </tr>\n",
       "    <tr>\n",
       "      <th>12</th>\n",
       "      <td>dt</td>\n",
       "      <td>19345.065284</td>\n",
       "    </tr>\n",
       "    <tr>\n",
       "      <th>13</th>\n",
       "      <td>dt</td>\n",
       "      <td>2345.808807</td>\n",
       "    </tr>\n",
       "    <tr>\n",
       "      <th>14</th>\n",
       "      <td>dt</td>\n",
       "      <td>27673.290735</td>\n",
       "    </tr>\n",
       "    <tr>\n",
       "      <th>15</th>\n",
       "      <td>bag</td>\n",
       "      <td>2149.202562</td>\n",
       "    </tr>\n",
       "    <tr>\n",
       "      <th>16</th>\n",
       "      <td>bag</td>\n",
       "      <td>31896.461398</td>\n",
       "    </tr>\n",
       "    <tr>\n",
       "      <th>17</th>\n",
       "      <td>bag</td>\n",
       "      <td>13185.205408</td>\n",
       "    </tr>\n",
       "    <tr>\n",
       "      <th>18</th>\n",
       "      <td>bag</td>\n",
       "      <td>1652.912799</td>\n",
       "    </tr>\n",
       "    <tr>\n",
       "      <th>19</th>\n",
       "      <td>bag</td>\n",
       "      <td>37149.088469</td>\n",
       "    </tr>\n",
       "    <tr>\n",
       "      <th>20</th>\n",
       "      <td>rf</td>\n",
       "      <td>2551.958751</td>\n",
       "    </tr>\n",
       "    <tr>\n",
       "      <th>21</th>\n",
       "      <td>rf</td>\n",
       "      <td>22347.095377</td>\n",
       "    </tr>\n",
       "    <tr>\n",
       "      <th>22</th>\n",
       "      <td>rf</td>\n",
       "      <td>8315.498434</td>\n",
       "    </tr>\n",
       "    <tr>\n",
       "      <th>23</th>\n",
       "      <td>rf</td>\n",
       "      <td>1609.883677</td>\n",
       "    </tr>\n",
       "    <tr>\n",
       "      <th>24</th>\n",
       "      <td>rf</td>\n",
       "      <td>35803.384006</td>\n",
       "    </tr>\n",
       "  </tbody>\n",
       "</table>\n",
       "</div>"
      ],
      "text/plain": [
       "   Model           MSE\n",
       "0     lm   4058.867222\n",
       "1     lm  13913.112132\n",
       "2     lm  16788.702454\n",
       "3     lm   7724.486414\n",
       "4     lm  49437.651530\n",
       "5    knn   1500.240815\n",
       "6    knn   9252.744635\n",
       "7    knn  11377.053505\n",
       "8    knn   2451.998641\n",
       "9    knn  43832.037602\n",
       "10    dt   2994.620405\n",
       "11    dt  51356.242056\n",
       "12    dt  19345.065284\n",
       "13    dt   2345.808807\n",
       "14    dt  27673.290735\n",
       "15   bag   2149.202562\n",
       "16   bag  31896.461398\n",
       "17   bag  13185.205408\n",
       "18   bag   1652.912799\n",
       "19   bag  37149.088469\n",
       "20    rf   2551.958751\n",
       "21    rf  22347.095377\n",
       "22    rf   8315.498434\n",
       "23    rf   1609.883677\n",
       "24    rf  35803.384006"
      ]
     },
     "execution_count": 247,
     "metadata": {},
     "output_type": "execute_result"
    }
   ],
   "source": [
    "# Collect all the metrics we care about as a dictionary \n",
    "# name them by which method we used\n",
    "collect_scores = \\\n",
    "dict(lm = lm_scores['test_neg_mean_squared_error']*-1,\n",
    "     knn = knn_scores['test_neg_mean_squared_error']*-1,\n",
    "     dt = dt_scores['test_neg_mean_squared_error']*-1,\n",
    "     bag = bag_scores['test_neg_mean_squared_error']*-1,\n",
    "     rf = rf_scores['test_neg_mean_squared_error']*-1)\n",
    "\n",
    "# Convert to a data frame and reshape\n",
    "collect_scores = pd.DataFrame(collect_scores).melt(var_name=\"Model\",value_name=\"MSE\")\n",
    "collect_scores"
   ]
  },
  {
   "cell_type": "code",
   "execution_count": 249,
   "metadata": {},
   "outputs": [
    {
     "data": {
      "image/png": "[encoded data removed]",
      "text/plain": [
       "<Figure size 960x720 with 1 Axes>"
      ]
     },
     "metadata": {
      "needs_background": "light"
     },
     "output_type": "display_data"
    },
    {
     "data": {
      "text/plain": [
       "<ggplot: (8790568046653)>"
      ]
     },
     "execution_count": 249,
     "metadata": {},
     "output_type": "execute_result"
    }
   ],
   "source": [
    "# Get the order of the models\n",
    "order = (collect_scores.groupby('Model').mean().sort_values(by=\"MSE\").index.tolist())\n",
    "\n",
    "# Plot\n",
    "(\n",
    "    ggplot(collect_scores,\n",
    "          aes(x=\"Model\",y=\"MSE\")) +\n",
    "    geom_boxplot() +\n",
    "    scale_x_discrete(limits=order) +\n",
    "    labs(x=\"Model\",y=\"Mean Squared Error\") +\n",
    "    coord_flip() +\n",
    "    theme_minimal() +\n",
    "    theme(dpi=150)\n",
    ")"
   ]
  },
  {
   "cell_type": "code",
   "execution_count": 278,
   "metadata": {},
   "outputs": [],
   "source": [
    "knn_tune_params = {'n_neighbors':[5,14,15]}"
   ]
  },
  {
   "cell_type": "code",
   "execution_count": 279,
   "metadata": {},
   "outputs": [],
   "source": [
    "tune_knn = GridSearchCV(KNN(),knn_tune_params,\n",
    "                        cv = fold_generator,\n",
    "                        scoring='neg_mean_squared_error',\n",
    "                        n_jobs=4)"
   ]
  },
  {
   "cell_type": "code",
   "execution_count": 280,
   "metadata": {
    "scrolled": true
   },
   "outputs": [
    {
     "data": {
      "text/plain": [
       "GridSearchCV(cv=KFold(n_splits=5, random_state=111, shuffle=True),\n",
       "             error_score=nan,\n",
       "             estimator=KNeighborsRegressor(algorithm='auto', leaf_size=30,\n",
       "                                           metric='minkowski',\n",
       "                                           metric_params=None, n_jobs=None,\n",
       "                                           n_neighbors=5, p=2,\n",
       "                                           weights='uniform'),\n",
       "             iid='deprecated', n_jobs=4,\n",
       "             param_grid={'n_neighbors': [5, 14, 15]}, pre_dispatch='2*n_jobs',\n",
       "             refit=True, return_train_score=False,\n",
       "             scoring='neg_mean_squared_error', verbose=0)"
      ]
     },
     "execution_count": 280,
     "metadata": {},
     "output_type": "execute_result"
    }
   ],
   "source": [
    "tune_knn.fit(train_X_log,train_y_log)"
   ]
  },
  {
   "cell_type": "code",
   "execution_count": 281,
   "metadata": {},
   "outputs": [
    {
     "data": {
      "text/plain": [
       "{'n_neighbors': 14}"
      ]
     },
     "execution_count": 281,
     "metadata": {},
     "output_type": "execute_result"
    }
   ],
   "source": [
    "tune_knn.best_params_"
   ]
  },
  {
   "cell_type": "code",
   "execution_count": 282,
   "metadata": {},
   "outputs": [
    {
     "data": {
      "text/plain": [
       "-12717.749695015398"
      ]
     },
     "execution_count": 282,
     "metadata": {},
     "output_type": "execute_result"
    }
   ],
   "source": [
    "tune_knn.best_score_"
   ]
  },
  {
   "cell_type": "code",
   "execution_count": 256,
   "metadata": {},
   "outputs": [],
   "source": [
    "rf_params = {'n_estimators':[1000,1250], 'max_depth': [10,15,20], 'max_features': [5,10]} \n",
    "tune_rf = GridSearchCV(RF(),rf_params,\n",
    "                        cv = fold_generator,\n",
    "                        scoring='neg_mean_squared_error',\n",
    "                        n_jobs=4, \n",
    "                        verbose = 10)"
   ]
  },
  {
   "cell_type": "code",
   "execution_count": 257,
   "metadata": {},
   "outputs": [
    {
     "name": "stdout",
     "output_type": "stream",
     "text": [
      "Fitting 5 folds for each of 12 candidates, totalling 60 fits\n"
     ]
    },
    {
     "name": "stderr",
     "output_type": "stream",
     "text": [
      "[Parallel(n_jobs=4)]: Using backend LokyBackend with 4 concurrent workers.\n",
      "[Parallel(n_jobs=4)]: Done   5 tasks      | elapsed:   10.3s\n",
      "[Parallel(n_jobs=4)]: Done  10 tasks      | elapsed:   16.0s\n",
      "[Parallel(n_jobs=4)]: Done  17 tasks      | elapsed:   25.9s\n",
      "[Parallel(n_jobs=4)]: Done  24 tasks      | elapsed:   33.0s\n",
      "[Parallel(n_jobs=4)]: Done  33 tasks      | elapsed:   44.5s\n",
      "[Parallel(n_jobs=4)]: Done  42 tasks      | elapsed:  1.0min\n",
      "[Parallel(n_jobs=4)]: Done  53 tasks      | elapsed:  1.3min\n",
      "[Parallel(n_jobs=4)]: Done  60 out of  60 | elapsed:  1.4min remaining:    0.0s\n",
      "[Parallel(n_jobs=4)]: Done  60 out of  60 | elapsed:  1.4min finished\n"
     ]
    },
    {
     "data": {
      "text/plain": [
       "GridSearchCV(cv=KFold(n_splits=5, random_state=111, shuffle=True),\n",
       "             error_score=nan,\n",
       "             estimator=RandomForestRegressor(bootstrap=True, ccp_alpha=0.0,\n",
       "                                             criterion='mse', max_depth=None,\n",
       "                                             max_features='auto',\n",
       "                                             max_leaf_nodes=None,\n",
       "                                             max_samples=None,\n",
       "                                             min_impurity_decrease=0.0,\n",
       "                                             min_impurity_split=None,\n",
       "                                             min_samples_leaf=1,\n",
       "                                             min_samples_split=2,\n",
       "                                             min_weight_fraction_leaf=0.0,\n",
       "                                             n_estimators=100, n_jobs=None,\n",
       "                                             oob_score=False, random_state=None,\n",
       "                                             verbose=0, warm_start=False),\n",
       "             iid='deprecated', n_jobs=4,\n",
       "             param_grid={'max_depth': [10, 15, 20], 'max_features': [5, 10],\n",
       "                         'n_estimators': [1000, 1250]},\n",
       "             pre_dispatch='2*n_jobs', refit=True, return_train_score=False,\n",
       "             scoring='neg_mean_squared_error', verbose=10)"
      ]
     },
     "execution_count": 257,
     "metadata": {},
     "output_type": "execute_result"
    }
   ],
   "source": [
    "tune_rf.fit(train_X_log,train_y_log)"
   ]
  },
  {
   "cell_type": "code",
   "execution_count": 258,
   "metadata": {},
   "outputs": [
    {
     "data": {
      "text/plain": [
       "{'max_depth': 15, 'max_features': 5, 'n_estimators': 1250}"
      ]
     },
     "execution_count": 258,
     "metadata": {},
     "output_type": "execute_result"
    }
   ],
   "source": [
    "tune_rf.best_params_"
   ]
  },
  {
   "cell_type": "code",
   "execution_count": 259,
   "metadata": {},
   "outputs": [
    {
     "data": {
      "text/plain": [
       "-11336.481450013478"
      ]
     },
     "execution_count": 259,
     "metadata": {},
     "output_type": "execute_result"
    }
   ],
   "source": [
    "tune_rf.best_score_"
   ]
  },
  {
   "cell_type": "markdown",
   "metadata": {},
   "source": [
    "# build modeling pipeline"
   ]
  },
  {
   "cell_type": "code",
   "execution_count": 4,
   "metadata": {},
   "outputs": [],
   "source": [
    "# Set the folds index to ensure comparable samples\n",
    "fold_generator = KFold(n_splits=10, shuffle=True,random_state=1234)"
   ]
  },
  {
   "cell_type": "code",
   "execution_count": 5,
   "metadata": {},
   "outputs": [],
   "source": [
    "preprocess = ColumnTransformer(transformers=[('num', pp.MinMaxScaler(),  make_column_selector(dtype_exclude=None))])"
   ]
  },
  {
   "cell_type": "code",
   "execution_count": 6,
   "metadata": {},
   "outputs": [],
   "source": [
    "# initialize our pipeline \n",
    "pipe = Pipeline(steps=[('pre_process', preprocess),\n",
    "                       ('model',None)])"
   ]
  },
  {
   "cell_type": "code",
   "execution_count": 283,
   "metadata": {},
   "outputs": [],
   "source": [
    "search_space = [\n",
    "    # Linear Model\n",
    "    {'model' : [LM()]},\n",
    "    \n",
    "    # KNN with K tuning param, use double underscore to separate model from its parameter__\n",
    "    {'model' : [KNN()],\n",
    "     'model__n_neighbors':[10,14]},\n",
    "    \n",
    "    # Decision Tree with the Max Depth Param\n",
    "    {'model': [DTree()],\n",
    "     'model__max_depth':[3,5]},\n",
    "    \n",
    "    # The Bagging decision tree model \n",
    "    {'model': [Bag()]},\n",
    "    \n",
    "    # Random forest with the N Estimators tuning param\n",
    "    {'model' : [RF()],\n",
    "     'model__max_depth':[10,15],\n",
    "     'model__n_estimators':[1250,1500]},\n",
    "]"
   ]
  },
  {
   "cell_type": "code",
   "execution_count": 284,
   "metadata": {},
   "outputs": [],
   "source": [
    "search = GridSearchCV(pipe, search_space, \n",
    "                      cv = fold_generator,\n",
    "                      scoring='neg_mean_squared_error',\n",
    "                      n_jobs=4,\n",
    "                      verbose = 10)"
   ]
  },
  {
   "cell_type": "markdown",
   "metadata": {},
   "source": [
    "\n",
    "## Fit the model"
   ]
  },
  {
   "cell_type": "code",
   "execution_count": 285,
   "metadata": {},
   "outputs": [
    {
     "name": "stdout",
     "output_type": "stream",
     "text": [
      "Fitting 5 folds for each of 10 candidates, totalling 50 fits\n"
     ]
    },
    {
     "name": "stderr",
     "output_type": "stream",
     "text": [
      "[Parallel(n_jobs=4)]: Using backend LokyBackend with 4 concurrent workers.\n",
      "[Parallel(n_jobs=4)]: Batch computation too fast (0.0644s.) Setting batch_size=2.\n",
      "[Parallel(n_jobs=4)]: Done   5 tasks      | elapsed:    0.1s\n",
      "[Parallel(n_jobs=4)]: Batch computation too fast (0.0793s.) Setting batch_size=4.\n",
      "[Parallel(n_jobs=4)]: Done  12 tasks      | elapsed:    0.2s\n",
      "[Parallel(n_jobs=4)]: Done  28 tasks      | elapsed:    0.5s\n",
      "[Parallel(n_jobs=4)]: Batch computation too slow (2.5954s.) Setting batch_size=1.\n",
      "[Parallel(n_jobs=4)]: Done  50 out of  50 | elapsed:   34.1s finished\n"
     ]
    },
    {
     "data": {
      "text/plain": [
       "GridSearchCV(cv=KFold(n_splits=5, random_state=111, shuffle=True),\n",
       "             error_score=nan,\n",
       "             estimator=Pipeline(memory=None,\n",
       "                                steps=[('pre_process',\n",
       "                                        ColumnTransformer(n_jobs=None,\n",
       "                                                          remainder='drop',\n",
       "                                                          sparse_threshold=0.3,\n",
       "                                                          transformer_weights=None,\n",
       "                                                          transformers=[('num',\n",
       "                                                                         MinMaxScaler(copy=True,\n",
       "                                                                                      feature_range=(0,\n",
       "                                                                                                     1)),\n",
       "                                                                         <sklearn.compose._column_transformer.make_column_selector ob...\n",
       "                                                          min_impurity_split=None,\n",
       "                                                          min_samples_leaf=1,\n",
       "                                                          min_samples_split=2,\n",
       "                                                          min_weight_fraction_leaf=0.0,\n",
       "                                                          n_estimators=100,\n",
       "                                                          n_jobs=None,\n",
       "                                                          oob_score=False,\n",
       "                                                          random_state=None,\n",
       "                                                          verbose=0,\n",
       "                                                          warm_start=False)],\n",
       "                          'model__max_depth': [10, 15],\n",
       "                          'model__n_estimators': [1250, 1500]}],\n",
       "             pre_dispatch='2*n_jobs', refit=True, return_train_score=False,\n",
       "             scoring='neg_mean_squared_error', verbose=10)"
      ]
     },
     "execution_count": 285,
     "metadata": {},
     "output_type": "execute_result"
    }
   ],
   "source": [
    "search.fit(train_X_log,train_y_log)"
   ]
  },
  {
   "cell_type": "code",
   "execution_count": 286,
   "metadata": {},
   "outputs": [
    {
     "data": {
      "text/plain": [
       "-12996.030944448854"
      ]
     },
     "execution_count": 286,
     "metadata": {},
     "output_type": "execute_result"
    }
   ],
   "source": [
    "search.best_score_ # Mean out-of-sample (CV) error"
   ]
  },
  {
   "cell_type": "code",
   "execution_count": 287,
   "metadata": {},
   "outputs": [
    {
     "data": {
      "text/plain": [
       "{'model': KNeighborsRegressor(algorithm='auto', leaf_size=30, metric='minkowski',\n",
       "                     metric_params=None, n_jobs=None, n_neighbors=10, p=2,\n",
       "                     weights='uniform'),\n",
       " 'model__n_neighbors': 10}"
      ]
     },
     "execution_count": 287,
     "metadata": {},
     "output_type": "execute_result"
    }
   ],
   "source": [
    "search.best_params_"
   ]
  },
  {
   "cell_type": "code",
   "execution_count": 288,
   "metadata": {},
   "outputs": [],
   "source": [
    "pred_y_log = search.predict(test_X_log)"
   ]
  },
  {
   "cell_type": "code",
   "execution_count": 299,
   "metadata": {},
   "outputs": [
    {
     "data": {
      "text/plain": [
       "count     34.000000\n",
       "mean     122.636176\n",
       "std       82.726686\n",
       "min        8.331000\n",
       "25%       68.536750\n",
       "50%      104.004500\n",
       "75%      156.237000\n",
       "max      337.100000\n",
       "Name: saidi_nomed, dtype: float64"
      ]
     },
     "execution_count": 299,
     "metadata": {},
     "output_type": "execute_result"
    }
   ],
   "source": [
    "test_y_log.describe()"
   ]
  },
  {
   "cell_type": "code",
   "execution_count": 295,
   "metadata": {},
   "outputs": [
    {
     "data": {
      "text/plain": [
       "5410.253311293823"
      ]
     },
     "execution_count": 295,
     "metadata": {},
     "output_type": "execute_result"
    }
   ],
   "source": [
    "m.mean_squared_error(test_y_log,pred_y_log)"
   ]
  },
  {
   "cell_type": "code",
   "execution_count": 293,
   "metadata": {
    "scrolled": true
   },
   "outputs": [
    {
     "data": {
      "text/plain": [
       "0.18549955208926572"
      ]
     },
     "execution_count": 293,
     "metadata": {},
     "output_type": "execute_result"
    }
   ],
   "source": [
    "m.r2_score(test_y_log,pred_y_log)"
   ]
  },
  {
   "cell_type": "code",
   "execution_count": 294,
   "metadata": {
    "scrolled": true
   },
   "outputs": [
    {
     "data": {
      "image/png": "[encoded data removed]",
      "text/plain": [
       "<Figure size 1000x700 with 1 Axes>"
      ]
     },
     "metadata": {},
     "output_type": "display_data"
    },
    {
     "data": {
      "text/plain": [
       "<ggplot: (8790568035389)>"
      ]
     },
     "execution_count": 294,
     "metadata": {},
     "output_type": "execute_result"
    }
   ],
   "source": [
    "# see how in the pipeline we preprocessed X so it is fixed beforehand and we can make sense of the predictions \n",
    "(\n",
    "    ggplot(pd.DataFrame(dict(pred=pred_y_log,truth=test_y_log)),\n",
    "          aes(x='pred',y=\"truth\")) +\n",
    "    geom_point(alpha=.75) +\n",
    "    geom_abline(linetype=\"dashed\",color=\"darkred\",size=1) +\n",
    "    theme_bw() +\n",
    "    theme(figure_size=(10,7))\n",
    ")"
   ]
  },
  {
   "cell_type": "markdown",
   "metadata": {},
   "source": [
    "## Explore data: all years df"
   ]
  },
  {
   "cell_type": "code",
   "execution_count": 48,
   "metadata": {},
   "outputs": [],
   "source": [
    "df = pd.read_csv(\"df.csv\")"
   ]
  },
  {
   "cell_type": "code",
   "execution_count": 49,
   "metadata": {
    "scrolled": true
   },
   "outputs": [
    {
     "data": {
      "text/html": [
       "<div>\n",
       "<style scoped>\n",
       "    .dataframe tbody tr th:only-of-type {\n",
       "        vertical-align: middle;\n",
       "    }\n",
       "\n",
       "    .dataframe tbody tr th {\n",
       "        vertical-align: top;\n",
       "    }\n",
       "\n",
       "    .dataframe thead th {\n",
       "        text-align: right;\n",
       "    }\n",
       "</style>\n",
       "<table border=\"1\" class=\"dataframe\">\n",
       "  <thead>\n",
       "    <tr style=\"text-align: right;\">\n",
       "      <th></th>\n",
       "      <th>year</th>\n",
       "      <th>total_mwh</th>\n",
       "      <th>total_cust</th>\n",
       "      <th>no</th>\n",
       "      <th>saidi_nomed</th>\n",
       "      <th>circuits</th>\n",
       "      <th>voltage</th>\n",
       "      <th>gen_mwh</th>\n",
       "      <th>purchase_mwh</th>\n",
       "      <th>pv_mwh</th>\n",
       "      <th>...</th>\n",
       "      <th>nm_mwh</th>\n",
       "      <th>ee_mwh</th>\n",
       "      <th>dem_res_customers</th>\n",
       "      <th>dem_res_mwh</th>\n",
       "      <th>pv_pct</th>\n",
       "      <th>wind_pct</th>\n",
       "      <th>nm_pct</th>\n",
       "      <th>ee_pct</th>\n",
       "      <th>dem_res_pct</th>\n",
       "      <th>dem_res_cust_pct</th>\n",
       "    </tr>\n",
       "  </thead>\n",
       "  <tbody>\n",
       "    <tr>\n",
       "      <th>count</th>\n",
       "      <td>2699.000000</td>\n",
       "      <td>2.699000e+03</td>\n",
       "      <td>2.699000e+03</td>\n",
       "      <td>2699.000000</td>\n",
       "      <td>2699.000000</td>\n",
       "      <td>2699.000000</td>\n",
       "      <td>2699.000000</td>\n",
       "      <td>1.534000e+03</td>\n",
       "      <td>2.699000e+03</td>\n",
       "      <td>2699.000000</td>\n",
       "      <td>...</td>\n",
       "      <td>2699.000000</td>\n",
       "      <td>2.699000e+03</td>\n",
       "      <td>2.699000e+03</td>\n",
       "      <td>2699.000000</td>\n",
       "      <td>2699.000000</td>\n",
       "      <td>2699.000000</td>\n",
       "      <td>2699.000000</td>\n",
       "      <td>2699.000000</td>\n",
       "      <td>2699.000000</td>\n",
       "      <td>2699.000000</td>\n",
       "    </tr>\n",
       "    <tr>\n",
       "      <th>mean</th>\n",
       "      <td>2017.140422</td>\n",
       "      <td>3.149517e+06</td>\n",
       "      <td>1.482996e+05</td>\n",
       "      <td>11953.952205</td>\n",
       "      <td>132.107830</td>\n",
       "      <td>202.028159</td>\n",
       "      <td>51.051501</td>\n",
       "      <td>3.817798e+06</td>\n",
       "      <td>1.930104e+06</td>\n",
       "      <td>872.834801</td>\n",
       "      <td>...</td>\n",
       "      <td>904.241550</td>\n",
       "      <td>2.986024e+04</td>\n",
       "      <td>1.192375e+04</td>\n",
       "      <td>1129.133774</td>\n",
       "      <td>0.033374</td>\n",
       "      <td>0.002732</td>\n",
       "      <td>0.037360</td>\n",
       "      <td>0.353077</td>\n",
       "      <td>0.020304</td>\n",
       "      <td>4.378855</td>\n",
       "    </tr>\n",
       "    <tr>\n",
       "      <th>std</th>\n",
       "      <td>1.462375</td>\n",
       "      <td>9.435886e+06</td>\n",
       "      <td>4.606789e+05</td>\n",
       "      <td>7908.112320</td>\n",
       "      <td>185.674422</td>\n",
       "      <td>510.849556</td>\n",
       "      <td>224.569432</td>\n",
       "      <td>1.218682e+07</td>\n",
       "      <td>4.816731e+06</td>\n",
       "      <td>7740.335961</td>\n",
       "      <td>...</td>\n",
       "      <td>7786.815114</td>\n",
       "      <td>1.406401e+05</td>\n",
       "      <td>7.649018e+04</td>\n",
       "      <td>24925.414395</td>\n",
       "      <td>0.169005</td>\n",
       "      <td>0.017980</td>\n",
       "      <td>0.174422</td>\n",
       "      <td>1.039859</td>\n",
       "      <td>0.190279</td>\n",
       "      <td>13.255037</td>\n",
       "    </tr>\n",
       "    <tr>\n",
       "      <th>min</th>\n",
       "      <td>2015.000000</td>\n",
       "      <td>3.294000e+03</td>\n",
       "      <td>3.420000e+02</td>\n",
       "      <td>97.000000</td>\n",
       "      <td>0.000000</td>\n",
       "      <td>1.000000</td>\n",
       "      <td>0.000000</td>\n",
       "      <td>-2.670000e+03</td>\n",
       "      <td>0.000000e+00</td>\n",
       "      <td>0.000000</td>\n",
       "      <td>...</td>\n",
       "      <td>0.000000</td>\n",
       "      <td>0.000000e+00</td>\n",
       "      <td>0.000000e+00</td>\n",
       "      <td>0.000000</td>\n",
       "      <td>0.000000</td>\n",
       "      <td>0.000000</td>\n",
       "      <td>0.000000</td>\n",
       "      <td>0.000000</td>\n",
       "      <td>0.000000</td>\n",
       "      <td>0.000000</td>\n",
       "    </tr>\n",
       "    <tr>\n",
       "      <th>25%</th>\n",
       "      <td>2016.000000</td>\n",
       "      <td>2.856545e+05</td>\n",
       "      <td>1.155600e+04</td>\n",
       "      <td>5585.000000</td>\n",
       "      <td>50.851500</td>\n",
       "      <td>33.000000</td>\n",
       "      <td>0.000000</td>\n",
       "      <td>0.000000e+00</td>\n",
       "      <td>2.736575e+05</td>\n",
       "      <td>0.000000</td>\n",
       "      <td>...</td>\n",
       "      <td>0.000000</td>\n",
       "      <td>0.000000e+00</td>\n",
       "      <td>0.000000e+00</td>\n",
       "      <td>0.000000</td>\n",
       "      <td>0.000000</td>\n",
       "      <td>0.000000</td>\n",
       "      <td>0.000000</td>\n",
       "      <td>0.000000</td>\n",
       "      <td>0.000000</td>\n",
       "      <td>0.000000</td>\n",
       "    </tr>\n",
       "    <tr>\n",
       "      <th>50%</th>\n",
       "      <td>2017.000000</td>\n",
       "      <td>5.650260e+05</td>\n",
       "      <td>2.608500e+04</td>\n",
       "      <td>11740.000000</td>\n",
       "      <td>96.000000</td>\n",
       "      <td>60.000000</td>\n",
       "      <td>0.000000</td>\n",
       "      <td>4.850000e+01</td>\n",
       "      <td>5.706570e+05</td>\n",
       "      <td>0.000000</td>\n",
       "      <td>...</td>\n",
       "      <td>0.000000</td>\n",
       "      <td>0.000000e+00</td>\n",
       "      <td>0.000000e+00</td>\n",
       "      <td>0.000000</td>\n",
       "      <td>0.000000</td>\n",
       "      <td>0.000000</td>\n",
       "      <td>0.000000</td>\n",
       "      <td>0.000000</td>\n",
       "      <td>0.000000</td>\n",
       "      <td>0.000000</td>\n",
       "    </tr>\n",
       "    <tr>\n",
       "      <th>75%</th>\n",
       "      <td>2019.000000</td>\n",
       "      <td>1.341410e+06</td>\n",
       "      <td>6.374250e+04</td>\n",
       "      <td>16679.000000</td>\n",
       "      <td>162.784500</td>\n",
       "      <td>122.000000</td>\n",
       "      <td>22.000000</td>\n",
       "      <td>3.130125e+05</td>\n",
       "      <td>1.342214e+06</td>\n",
       "      <td>50.910500</td>\n",
       "      <td>...</td>\n",
       "      <td>58.038000</td>\n",
       "      <td>1.299500e+03</td>\n",
       "      <td>4.000000e+01</td>\n",
       "      <td>0.000000</td>\n",
       "      <td>0.007315</td>\n",
       "      <td>0.000000</td>\n",
       "      <td>0.008188</td>\n",
       "      <td>0.237519</td>\n",
       "      <td>0.000000</td>\n",
       "      <td>0.050169</td>\n",
       "    </tr>\n",
       "    <tr>\n",
       "      <th>max</th>\n",
       "      <td>2019.000000</td>\n",
       "      <td>1.119557e+08</td>\n",
       "      <td>5.069189e+06</td>\n",
       "      <td>57483.000000</td>\n",
       "      <td>6356.070000</td>\n",
       "      <td>5619.000000</td>\n",
       "      <td>2787.000000</td>\n",
       "      <td>1.265085e+08</td>\n",
       "      <td>7.229354e+07</td>\n",
       "      <td>174137.899000</td>\n",
       "      <td>...</td>\n",
       "      <td>174137.899000</td>\n",
       "      <td>2.865573e+06</td>\n",
       "      <td>1.323922e+06</td>\n",
       "      <td>977215.000000</td>\n",
       "      <td>2.737364</td>\n",
       "      <td>0.334026</td>\n",
       "      <td>2.737446</td>\n",
       "      <td>13.437062</td>\n",
       "      <td>3.509534</td>\n",
       "      <td>100.000000</td>\n",
       "    </tr>\n",
       "  </tbody>\n",
       "</table>\n",
       "<p>8 rows × 21 columns</p>\n",
       "</div>"
      ],
      "text/plain": [
       "              year     total_mwh    total_cust            no  saidi_nomed  \\\n",
       "count  2699.000000  2.699000e+03  2.699000e+03   2699.000000  2699.000000   \n",
       "mean   2017.140422  3.149517e+06  1.482996e+05  11953.952205   132.107830   \n",
       "std       1.462375  9.435886e+06  4.606789e+05   7908.112320   185.674422   \n",
       "min    2015.000000  3.294000e+03  3.420000e+02     97.000000     0.000000   \n",
       "25%    2016.000000  2.856545e+05  1.155600e+04   5585.000000    50.851500   \n",
       "50%    2017.000000  5.650260e+05  2.608500e+04  11740.000000    96.000000   \n",
       "75%    2019.000000  1.341410e+06  6.374250e+04  16679.000000   162.784500   \n",
       "max    2019.000000  1.119557e+08  5.069189e+06  57483.000000  6356.070000   \n",
       "\n",
       "          circuits      voltage       gen_mwh  purchase_mwh         pv_mwh  \\\n",
       "count  2699.000000  2699.000000  1.534000e+03  2.699000e+03    2699.000000   \n",
       "mean    202.028159    51.051501  3.817798e+06  1.930104e+06     872.834801   \n",
       "std     510.849556   224.569432  1.218682e+07  4.816731e+06    7740.335961   \n",
       "min       1.000000     0.000000 -2.670000e+03  0.000000e+00       0.000000   \n",
       "25%      33.000000     0.000000  0.000000e+00  2.736575e+05       0.000000   \n",
       "50%      60.000000     0.000000  4.850000e+01  5.706570e+05       0.000000   \n",
       "75%     122.000000    22.000000  3.130125e+05  1.342214e+06      50.910500   \n",
       "max    5619.000000  2787.000000  1.265085e+08  7.229354e+07  174137.899000   \n",
       "\n",
       "       ...         nm_mwh        ee_mwh  dem_res_customers    dem_res_mwh  \\\n",
       "count  ...    2699.000000  2.699000e+03       2.699000e+03    2699.000000   \n",
       "mean   ...     904.241550  2.986024e+04       1.192375e+04    1129.133774   \n",
       "std    ...    7786.815114  1.406401e+05       7.649018e+04   24925.414395   \n",
       "min    ...       0.000000  0.000000e+00       0.000000e+00       0.000000   \n",
       "25%    ...       0.000000  0.000000e+00       0.000000e+00       0.000000   \n",
       "50%    ...       0.000000  0.000000e+00       0.000000e+00       0.000000   \n",
       "75%    ...      58.038000  1.299500e+03       4.000000e+01       0.000000   \n",
       "max    ...  174137.899000  2.865573e+06       1.323922e+06  977215.000000   \n",
       "\n",
       "            pv_pct     wind_pct       nm_pct       ee_pct  dem_res_pct  \\\n",
       "count  2699.000000  2699.000000  2699.000000  2699.000000  2699.000000   \n",
       "mean      0.033374     0.002732     0.037360     0.353077     0.020304   \n",
       "std       0.169005     0.017980     0.174422     1.039859     0.190279   \n",
       "min       0.000000     0.000000     0.000000     0.000000     0.000000   \n",
       "25%       0.000000     0.000000     0.000000     0.000000     0.000000   \n",
       "50%       0.000000     0.000000     0.000000     0.000000     0.000000   \n",
       "75%       0.007315     0.000000     0.008188     0.237519     0.000000   \n",
       "max       2.737364     0.334026     2.737446    13.437062     3.509534   \n",
       "\n",
       "       dem_res_cust_pct  \n",
       "count       2699.000000  \n",
       "mean           4.378855  \n",
       "std           13.255037  \n",
       "min            0.000000  \n",
       "25%            0.000000  \n",
       "50%            0.000000  \n",
       "75%            0.050169  \n",
       "max          100.000000  \n",
       "\n",
       "[8 rows x 21 columns]"
      ]
     },
     "execution_count": 49,
     "metadata": {},
     "output_type": "execute_result"
    }
   ],
   "source": [
    "df.describe()"
   ]
  },
  {
   "cell_type": "code",
   "execution_count": 50,
   "metadata": {},
   "outputs": [
    {
     "data": {
      "text/html": [
       "<div>\n",
       "<style scoped>\n",
       "    .dataframe tbody tr th:only-of-type {\n",
       "        vertical-align: middle;\n",
       "    }\n",
       "\n",
       "    .dataframe tbody tr th {\n",
       "        vertical-align: top;\n",
       "    }\n",
       "\n",
       "    .dataframe thead th {\n",
       "        text-align: right;\n",
       "    }\n",
       "</style>\n",
       "<table border=\"1\" class=\"dataframe\">\n",
       "  <thead>\n",
       "    <tr style=\"text-align: right;\">\n",
       "      <th></th>\n",
       "      <th>name</th>\n",
       "      <th>gen_mwh</th>\n",
       "    </tr>\n",
       "  </thead>\n",
       "  <tbody>\n",
       "    <tr>\n",
       "      <th>1913</th>\n",
       "      <td>City of Key West - (FL)</td>\n",
       "      <td>-2670.0</td>\n",
       "    </tr>\n",
       "    <tr>\n",
       "      <th>2372</th>\n",
       "      <td>Indianola Municipal Utilities</td>\n",
       "      <td>-821.0</td>\n",
       "    </tr>\n",
       "  </tbody>\n",
       "</table>\n",
       "</div>"
      ],
      "text/plain": [
       "                               name  gen_mwh\n",
       "1913        City of Key West - (FL)  -2670.0\n",
       "2372  Indianola Municipal Utilities   -821.0"
      ]
     },
     "execution_count": 50,
     "metadata": {},
     "output_type": "execute_result"
    }
   ],
   "source": [
    "df.sort_values(['gen_mwh']).filter(['name','gen_mwh']).head(2)"
   ]
  },
  {
   "cell_type": "markdown",
   "metadata": {},
   "source": [
    "This is kind of weird, there is one utility with a negative gen_mwh: City of Homestead, FL. They do have a positive purchase MWh's value so maybe they use more electricity than they generate and buy the difference? I don't know if I should remove it as an outlier because this is theoretically possible, but it could trip up my model later on.\n",
    "\n",
    "**Update**: I didn't end up using gen_mwh."
   ]
  },
  {
   "cell_type": "code",
   "execution_count": 51,
   "metadata": {},
   "outputs": [],
   "source": [
    "# convert object variables to categories\n",
    "for col in df.select_dtypes(include=\"object\"):\n",
    "    df[col] = df[col].astype('category')"
   ]
  },
  {
   "cell_type": "code",
   "execution_count": 52,
   "metadata": {
    "scrolled": true
   },
   "outputs": [
    {
     "data": {
      "text/plain": [
       "year                  float64\n",
       "name                 category\n",
       "state                category\n",
       "total_mwh             float64\n",
       "total_cust            float64\n",
       "no                    float64\n",
       "type                 category\n",
       "saidi_nomed           float64\n",
       "saifi_nomed          category\n",
       "caidi_nomed          category\n",
       "circuits              float64\n",
       "voltage               float64\n",
       "nerc                 category\n",
       "gen_mwh               float64\n",
       "purchase_mwh          float64\n",
       "ba                   category\n",
       "pv_mwh                float64\n",
       "wind_mwh              float64\n",
       "nm_mwh                float64\n",
       "ee_mwh                float64\n",
       "dem_res_customers     float64\n",
       "dem_res_mwh           float64\n",
       "pv_pct                float64\n",
       "wind_pct              float64\n",
       "nm_pct                float64\n",
       "ee_pct                float64\n",
       "dem_res_pct           float64\n",
       "dem_res_cust_pct      float64\n",
       "dtype: object"
      ]
     },
     "execution_count": 52,
     "metadata": {},
     "output_type": "execute_result"
    }
   ],
   "source": [
    "df.dtypes"
   ]
  },
  {
   "cell_type": "code",
   "execution_count": 53,
   "metadata": {},
   "outputs": [],
   "source": [
    "y = df['saidi_nomed']\n",
    "X = df[['ba','state','type','total_mwh',\n",
    "           'nerc','gen_mwh','purchase_mwh',\n",
    "           'circuits','voltage',\n",
    "           'total_cust','pv_pct',\n",
    "           'wind_pct','ee_pct',\n",
    "           'dem_res_pct']]"
   ]
  },
  {
   "cell_type": "code",
   "execution_count": 54,
   "metadata": {},
   "outputs": [],
   "source": [
    "train_X, test_X, train_y, test_y = train_test_split(X,y,test_size=.25,random_state=1997)"
   ]
  },
  {
   "cell_type": "code",
   "execution_count": 55,
   "metadata": {},
   "outputs": [
    {
     "name": "stdout",
     "output_type": "stream",
     "text": [
      "0.7499073731011485\n",
      "0.2500926268988514\n"
     ]
    }
   ],
   "source": [
    "print(train_X.shape[0]/df.shape[0])\n",
    "print(test_X.shape[0]/df.shape[0])"
   ]
  },
  {
   "cell_type": "markdown",
   "metadata": {},
   "source": [
    "## Check for multicollinearity"
   ]
  },
  {
   "cell_type": "code",
   "execution_count": 56,
   "metadata": {},
   "outputs": [
    {
     "data": {
      "image/png": "[encoded data removed]",
      "text/plain": [
       "<Figure size 720x432 with 2 Axes>"
      ]
     },
     "metadata": {
      "needs_background": "light"
     },
     "output_type": "display_data"
    }
   ],
   "source": [
    "#creating pairwise correlation of columns using Pearson's R,\n",
    "corr = train_X.corr(method='pearson') \n",
    "\n",
    "#plotting the correlation coefficients on a seasborn heatmap matrix\n",
    "fig, ax = plt.subplots(figsize=(10,6))\n",
    "sns.heatmap(corr, annot=True, \n",
    "            vmin = -1, vmax=1, center=0)\n",
    "\n",
    "plt.title('Correlation HeatMap')\n",
    "plt.show()"
   ]
  },
  {
   "cell_type": "markdown",
   "metadata": {},
   "source": [
    "It looks like we have some amount of multicollinearity, specifically between **Circuits** and **total customers** and **voltage** and **total customers**. This makes sense because more customers require more distribution grid support. To solve this, we can probably get rid of total customers. **Net generation mwh** and **purchased mwh** are also highly correlated with **total customers**, but I may not include those two variables anyway because I will probably just use **total mwh sold** which should account for the predictive ability of all those variables."
   ]
  },
  {
   "cell_type": "code",
   "execution_count": 57,
   "metadata": {},
   "outputs": [
    {
     "data": {
      "text/plain": [
       "201.19478494086565"
      ]
     },
     "execution_count": 57,
     "metadata": {},
     "output_type": "execute_result"
    }
   ],
   "source": [
    "# standard deviation of training outcome variable\n",
    "train_y.describe()[2]"
   ]
  },
  {
   "cell_type": "code",
   "execution_count": 58,
   "metadata": {},
   "outputs": [
    {
     "data": {
      "text/plain": [
       "dem_res_mwh          35.504972\n",
       "wind_mwh             29.410157\n",
       "saidi_nomed          16.552072\n",
       "pv_mwh               15.312053\n",
       "nm_mwh               15.084027\n",
       "dem_res_pct          13.645533\n",
       "dem_res_customers    10.823781\n",
       "pv_pct               10.198893\n",
       "wind_pct             10.126678\n",
       "ee_mwh                9.680367\n",
       "nm_pct                9.648539\n",
       "voltage               8.170387\n",
       "purchase_mwh          7.464751\n",
       "total_cust            6.780508\n",
       "ee_pct                6.433090\n",
       "total_mwh             6.383701\n",
       "circuits              5.753934\n",
       "gen_mwh               5.429373\n",
       "dem_res_cust_pct      4.523447\n",
       "no                    1.410810\n",
       "year                 -0.129646\n",
       "dtype: float64"
      ]
     },
     "execution_count": 58,
     "metadata": {},
     "output_type": "execute_result"
    }
   ],
   "source": [
    "# take a look at how skewed each variable is\n",
    "df.skew().sort_values(ascending = False)"
   ]
  },
  {
   "cell_type": "code",
   "execution_count": 59,
   "metadata": {},
   "outputs": [
    {
     "data": {
      "image/png": "[encoded data removed]",
      "text/plain": [
       "<Figure size 1000x500 with 1 Axes>"
      ]
     },
     "metadata": {},
     "output_type": "display_data"
    },
    {
     "data": {
      "text/plain": [
       "<ggplot: (8790593063949)>"
      ]
     },
     "execution_count": 59,
     "metadata": {},
     "output_type": "execute_result"
    }
   ],
   "source": [
    "# look at distribution of outcome\n",
    "(\n",
    "    ggplot(df,aes(x=\"saidi_nomed\")) +\n",
    "    geom_histogram(bins=25) +\n",
    "    theme(figure_size=(10,5),\n",
    "          subplots_adjust={'wspace':0.25})\n",
    ")"
   ]
  },
  {
   "cell_type": "markdown",
   "metadata": {},
   "source": [
    "# Explore Training Data"
   ]
  },
  {
   "cell_type": "code",
   "execution_count": 60,
   "metadata": {},
   "outputs": [
    {
     "data": {
      "text/html": [
       "<div>\n",
       "<style scoped>\n",
       "    .dataframe tbody tr th:only-of-type {\n",
       "        vertical-align: middle;\n",
       "    }\n",
       "\n",
       "    .dataframe tbody tr th {\n",
       "        vertical-align: top;\n",
       "    }\n",
       "\n",
       "    .dataframe thead th {\n",
       "        text-align: right;\n",
       "    }\n",
       "</style>\n",
       "<table border=\"1\" class=\"dataframe\">\n",
       "  <thead>\n",
       "    <tr style=\"text-align: right;\">\n",
       "      <th></th>\n",
       "      <th>year</th>\n",
       "      <th>name</th>\n",
       "      <th>state</th>\n",
       "      <th>total_mwh</th>\n",
       "      <th>total_cust</th>\n",
       "      <th>no</th>\n",
       "      <th>type</th>\n",
       "      <th>saidi_nomed</th>\n",
       "      <th>saifi_nomed</th>\n",
       "      <th>caidi_nomed</th>\n",
       "      <th>...</th>\n",
       "      <th>nm_mwh</th>\n",
       "      <th>ee_mwh</th>\n",
       "      <th>dem_res_customers</th>\n",
       "      <th>dem_res_mwh</th>\n",
       "      <th>pv_pct</th>\n",
       "      <th>wind_pct</th>\n",
       "      <th>nm_pct</th>\n",
       "      <th>ee_pct</th>\n",
       "      <th>dem_res_pct</th>\n",
       "      <th>dem_res_cust_pct</th>\n",
       "    </tr>\n",
       "  </thead>\n",
       "  <tbody>\n",
       "    <tr>\n",
       "      <th>0</th>\n",
       "      <td>2019.0</td>\n",
       "      <td>Adams Electric Coop</td>\n",
       "      <td>IL</td>\n",
       "      <td>176102.0</td>\n",
       "      <td>8931.0</td>\n",
       "      <td>97.0</td>\n",
       "      <td>Cooperative</td>\n",
       "      <td>169.740</td>\n",
       "      <td>1.29</td>\n",
       "      <td>131.5814</td>\n",
       "      <td>...</td>\n",
       "      <td>0.000</td>\n",
       "      <td>0.0</td>\n",
       "      <td>4402.0</td>\n",
       "      <td>0.00</td>\n",
       "      <td>0.000000</td>\n",
       "      <td>0.000000</td>\n",
       "      <td>0.000000</td>\n",
       "      <td>0.000000</td>\n",
       "      <td>0.000000</td>\n",
       "      <td>49.288993</td>\n",
       "    </tr>\n",
       "    <tr>\n",
       "      <th>1</th>\n",
       "      <td>2019.0</td>\n",
       "      <td>Adams-Columbia Electric Coop</td>\n",
       "      <td>WI</td>\n",
       "      <td>515186.0</td>\n",
       "      <td>37607.0</td>\n",
       "      <td>108.0</td>\n",
       "      <td>Cooperative</td>\n",
       "      <td>139.900</td>\n",
       "      <td>0.95</td>\n",
       "      <td>147.26316</td>\n",
       "      <td>...</td>\n",
       "      <td>728.010</td>\n",
       "      <td>0.0</td>\n",
       "      <td>4781.0</td>\n",
       "      <td>13647.36</td>\n",
       "      <td>0.136994</td>\n",
       "      <td>0.004316</td>\n",
       "      <td>0.141310</td>\n",
       "      <td>0.000000</td>\n",
       "      <td>2.649016</td>\n",
       "      <td>12.713059</td>\n",
       "    </tr>\n",
       "    <tr>\n",
       "      <th>2</th>\n",
       "      <td>2019.0</td>\n",
       "      <td>Agralite Electric Coop</td>\n",
       "      <td>MN</td>\n",
       "      <td>238558.0</td>\n",
       "      <td>5251.0</td>\n",
       "      <td>155.0</td>\n",
       "      <td>Cooperative</td>\n",
       "      <td>128.759</td>\n",
       "      <td>1.181</td>\n",
       "      <td>109.0254</td>\n",
       "      <td>...</td>\n",
       "      <td>0.000</td>\n",
       "      <td>0.0</td>\n",
       "      <td>0.0</td>\n",
       "      <td>0.00</td>\n",
       "      <td>0.000000</td>\n",
       "      <td>0.000000</td>\n",
       "      <td>0.000000</td>\n",
       "      <td>0.000000</td>\n",
       "      <td>0.000000</td>\n",
       "      <td>0.000000</td>\n",
       "    </tr>\n",
       "    <tr>\n",
       "      <th>3</th>\n",
       "      <td>2019.0</td>\n",
       "      <td>Aiken Electric Coop Inc</td>\n",
       "      <td>SC</td>\n",
       "      <td>938436.0</td>\n",
       "      <td>48059.0</td>\n",
       "      <td>162.0</td>\n",
       "      <td>Cooperative</td>\n",
       "      <td>97.720</td>\n",
       "      <td>.</td>\n",
       "      <td>.</td>\n",
       "      <td>...</td>\n",
       "      <td>354.456</td>\n",
       "      <td>3.0</td>\n",
       "      <td>0.0</td>\n",
       "      <td>0.00</td>\n",
       "      <td>0.037771</td>\n",
       "      <td>0.000000</td>\n",
       "      <td>0.037771</td>\n",
       "      <td>0.000320</td>\n",
       "      <td>0.000000</td>\n",
       "      <td>0.000000</td>\n",
       "    </tr>\n",
       "    <tr>\n",
       "      <th>4</th>\n",
       "      <td>2019.0</td>\n",
       "      <td>Alaska Electric Light&amp;Power Co</td>\n",
       "      <td>AK</td>\n",
       "      <td>337796.0</td>\n",
       "      <td>17280.0</td>\n",
       "      <td>213.0</td>\n",
       "      <td>Investor Owned</td>\n",
       "      <td>79.000</td>\n",
       "      <td>2.08</td>\n",
       "      <td>37.980769</td>\n",
       "      <td>...</td>\n",
       "      <td>0.000</td>\n",
       "      <td>0.0</td>\n",
       "      <td>2386.0</td>\n",
       "      <td>0.00</td>\n",
       "      <td>0.000000</td>\n",
       "      <td>0.000000</td>\n",
       "      <td>0.000000</td>\n",
       "      <td>0.000000</td>\n",
       "      <td>0.000000</td>\n",
       "      <td>13.807870</td>\n",
       "    </tr>\n",
       "    <tr>\n",
       "      <th>...</th>\n",
       "      <td>...</td>\n",
       "      <td>...</td>\n",
       "      <td>...</td>\n",
       "      <td>...</td>\n",
       "      <td>...</td>\n",
       "      <td>...</td>\n",
       "      <td>...</td>\n",
       "      <td>...</td>\n",
       "      <td>...</td>\n",
       "      <td>...</td>\n",
       "      <td>...</td>\n",
       "      <td>...</td>\n",
       "      <td>...</td>\n",
       "      <td>...</td>\n",
       "      <td>...</td>\n",
       "      <td>...</td>\n",
       "      <td>...</td>\n",
       "      <td>...</td>\n",
       "      <td>...</td>\n",
       "      <td>...</td>\n",
       "      <td>...</td>\n",
       "    </tr>\n",
       "    <tr>\n",
       "      <th>2694</th>\n",
       "      <td>2015.0</td>\n",
       "      <td>Southwest Iowa Rural Elec Coop</td>\n",
       "      <td>IA</td>\n",
       "      <td>98071.0</td>\n",
       "      <td>5909.0</td>\n",
       "      <td>49986.0</td>\n",
       "      <td>Cooperative</td>\n",
       "      <td>66.364</td>\n",
       "      <td>0.863</td>\n",
       "      <td>76.899189</td>\n",
       "      <td>...</td>\n",
       "      <td>0.000</td>\n",
       "      <td>0.0</td>\n",
       "      <td>0.0</td>\n",
       "      <td>0.00</td>\n",
       "      <td>0.000000</td>\n",
       "      <td>0.000000</td>\n",
       "      <td>0.000000</td>\n",
       "      <td>0.000000</td>\n",
       "      <td>0.000000</td>\n",
       "      <td>0.000000</td>\n",
       "    </tr>\n",
       "    <tr>\n",
       "      <th>2695</th>\n",
       "      <td>2015.0</td>\n",
       "      <td>Entergy Gulf States - LA LLC</td>\n",
       "      <td>LA</td>\n",
       "      <td>16316827.0</td>\n",
       "      <td>298980.0</td>\n",
       "      <td>55936.0</td>\n",
       "      <td>Investor Owned</td>\n",
       "      <td>148.800</td>\n",
       "      <td>1.276</td>\n",
       "      <td>116.61442</td>\n",
       "      <td>...</td>\n",
       "      <td>0.000</td>\n",
       "      <td>9221.0</td>\n",
       "      <td>0.0</td>\n",
       "      <td>0.00</td>\n",
       "      <td>0.000000</td>\n",
       "      <td>0.000000</td>\n",
       "      <td>0.000000</td>\n",
       "      <td>0.056512</td>\n",
       "      <td>0.000000</td>\n",
       "      <td>0.000000</td>\n",
       "    </tr>\n",
       "    <tr>\n",
       "      <th>2696</th>\n",
       "      <td>2015.0</td>\n",
       "      <td>Entergy Texas Inc.</td>\n",
       "      <td>TX</td>\n",
       "      <td>17748084.0</td>\n",
       "      <td>432372.0</td>\n",
       "      <td>55937.0</td>\n",
       "      <td>Investor Owned</td>\n",
       "      <td>204.800</td>\n",
       "      <td>1.692</td>\n",
       "      <td>121.04019</td>\n",
       "      <td>...</td>\n",
       "      <td>2.509</td>\n",
       "      <td>39698.0</td>\n",
       "      <td>8.0</td>\n",
       "      <td>40.00</td>\n",
       "      <td>0.000014</td>\n",
       "      <td>0.000000</td>\n",
       "      <td>0.000014</td>\n",
       "      <td>0.223675</td>\n",
       "      <td>0.000225</td>\n",
       "      <td>0.001850</td>\n",
       "    </tr>\n",
       "    <tr>\n",
       "      <th>2697</th>\n",
       "      <td>2015.0</td>\n",
       "      <td>Black Hills/Colorado Elec.Util</td>\n",
       "      <td>CO</td>\n",
       "      <td>1918199.0</td>\n",
       "      <td>94835.0</td>\n",
       "      <td>56146.0</td>\n",
       "      <td>Investor Owned</td>\n",
       "      <td>81.834</td>\n",
       "      <td>1.257</td>\n",
       "      <td>65.102625</td>\n",
       "      <td>...</td>\n",
       "      <td>0.000</td>\n",
       "      <td>24140.0</td>\n",
       "      <td>0.0</td>\n",
       "      <td>0.00</td>\n",
       "      <td>0.000000</td>\n",
       "      <td>0.000000</td>\n",
       "      <td>0.000000</td>\n",
       "      <td>1.258472</td>\n",
       "      <td>0.000000</td>\n",
       "      <td>0.000000</td>\n",
       "    </tr>\n",
       "    <tr>\n",
       "      <th>2698</th>\n",
       "      <td>2015.0</td>\n",
       "      <td>Liberty Utilities</td>\n",
       "      <td>CA</td>\n",
       "      <td>527811.0</td>\n",
       "      <td>47867.0</td>\n",
       "      <td>57483.0</td>\n",
       "      <td>Investor Owned</td>\n",
       "      <td>357.500</td>\n",
       "      <td>2.01</td>\n",
       "      <td>177.8607</td>\n",
       "      <td>...</td>\n",
       "      <td>0.000</td>\n",
       "      <td>1831.0</td>\n",
       "      <td>0.0</td>\n",
       "      <td>0.00</td>\n",
       "      <td>0.000000</td>\n",
       "      <td>0.000000</td>\n",
       "      <td>0.000000</td>\n",
       "      <td>0.346904</td>\n",
       "      <td>0.000000</td>\n",
       "      <td>0.000000</td>\n",
       "    </tr>\n",
       "  </tbody>\n",
       "</table>\n",
       "<p>2699 rows × 28 columns</p>\n",
       "</div>"
      ],
      "text/plain": [
       "        year                            name state   total_mwh  total_cust  \\\n",
       "0     2019.0             Adams Electric Coop    IL    176102.0      8931.0   \n",
       "1     2019.0    Adams-Columbia Electric Coop    WI    515186.0     37607.0   \n",
       "2     2019.0          Agralite Electric Coop    MN    238558.0      5251.0   \n",
       "3     2019.0         Aiken Electric Coop Inc    SC    938436.0     48059.0   \n",
       "4     2019.0  Alaska Electric Light&Power Co    AK    337796.0     17280.0   \n",
       "...      ...                             ...   ...         ...         ...   \n",
       "2694  2015.0  Southwest Iowa Rural Elec Coop    IA     98071.0      5909.0   \n",
       "2695  2015.0    Entergy Gulf States - LA LLC    LA  16316827.0    298980.0   \n",
       "2696  2015.0              Entergy Texas Inc.    TX  17748084.0    432372.0   \n",
       "2697  2015.0  Black Hills/Colorado Elec.Util    CO   1918199.0     94835.0   \n",
       "2698  2015.0               Liberty Utilities    CA    527811.0     47867.0   \n",
       "\n",
       "           no            type  saidi_nomed saifi_nomed caidi_nomed  ...  \\\n",
       "0        97.0     Cooperative      169.740        1.29    131.5814  ...   \n",
       "1       108.0     Cooperative      139.900        0.95   147.26316  ...   \n",
       "2       155.0     Cooperative      128.759       1.181    109.0254  ...   \n",
       "3       162.0     Cooperative       97.720           .           .  ...   \n",
       "4       213.0  Investor Owned       79.000        2.08   37.980769  ...   \n",
       "...       ...             ...          ...         ...         ...  ...   \n",
       "2694  49986.0     Cooperative       66.364       0.863   76.899189  ...   \n",
       "2695  55936.0  Investor Owned      148.800       1.276   116.61442  ...   \n",
       "2696  55937.0  Investor Owned      204.800       1.692   121.04019  ...   \n",
       "2697  56146.0  Investor Owned       81.834       1.257   65.102625  ...   \n",
       "2698  57483.0  Investor Owned      357.500        2.01    177.8607  ...   \n",
       "\n",
       "       nm_mwh   ee_mwh dem_res_customers  dem_res_mwh    pv_pct  wind_pct  \\\n",
       "0       0.000      0.0            4402.0         0.00  0.000000  0.000000   \n",
       "1     728.010      0.0            4781.0     13647.36  0.136994  0.004316   \n",
       "2       0.000      0.0               0.0         0.00  0.000000  0.000000   \n",
       "3     354.456      3.0               0.0         0.00  0.037771  0.000000   \n",
       "4       0.000      0.0            2386.0         0.00  0.000000  0.000000   \n",
       "...       ...      ...               ...          ...       ...       ...   \n",
       "2694    0.000      0.0               0.0         0.00  0.000000  0.000000   \n",
       "2695    0.000   9221.0               0.0         0.00  0.000000  0.000000   \n",
       "2696    2.509  39698.0               8.0        40.00  0.000014  0.000000   \n",
       "2697    0.000  24140.0               0.0         0.00  0.000000  0.000000   \n",
       "2698    0.000   1831.0               0.0         0.00  0.000000  0.000000   \n",
       "\n",
       "        nm_pct    ee_pct  dem_res_pct  dem_res_cust_pct  \n",
       "0     0.000000  0.000000     0.000000         49.288993  \n",
       "1     0.141310  0.000000     2.649016         12.713059  \n",
       "2     0.000000  0.000000     0.000000          0.000000  \n",
       "3     0.037771  0.000320     0.000000          0.000000  \n",
       "4     0.000000  0.000000     0.000000         13.807870  \n",
       "...        ...       ...          ...               ...  \n",
       "2694  0.000000  0.000000     0.000000          0.000000  \n",
       "2695  0.000000  0.056512     0.000000          0.000000  \n",
       "2696  0.000014  0.223675     0.000225          0.001850  \n",
       "2697  0.000000  1.258472     0.000000          0.000000  \n",
       "2698  0.000000  0.346904     0.000000          0.000000  \n",
       "\n",
       "[2699 rows x 28 columns]"
      ]
     },
     "execution_count": 60,
     "metadata": {},
     "output_type": "execute_result"
    }
   ],
   "source": [
    "df"
   ]
  },
  {
   "cell_type": "markdown",
   "metadata": {},
   "source": [
    "## Continuous Variables"
   ]
  },
  {
   "cell_type": "code",
   "execution_count": 61,
   "metadata": {},
   "outputs": [
    {
     "data": {
      "image/png": "[encoded data removed]",
      "text/plain": [
       "<Figure size 1000x500 with 10 Axes>"
      ]
     },
     "metadata": {},
     "output_type": "display_data"
    },
    {
     "data": {
      "text/plain": [
       "<ggplot: (8790593060809)>"
      ]
     },
     "execution_count": 61,
     "metadata": {},
     "output_type": "execute_result"
    }
   ],
   "source": [
    "# Plot the continuous variables \n",
    "df_num = train_X.select_dtypes(include=\"number\").melt()\n",
    "\n",
    "(\n",
    "    ggplot(df_num,aes(x=\"value\")) +\n",
    "    geom_histogram(bins=25) +\n",
    "    facet_wrap(\"variable\",scales='free') +\n",
    "    theme(figure_size=(10,5),\n",
    "          subplots_adjust={'wspace':0.25})\n",
    ")"
   ]
  },
  {
   "cell_type": "markdown",
   "metadata": {},
   "source": [
    "## Categorical Variables"
   ]
  },
  {
   "cell_type": "code",
   "execution_count": 62,
   "metadata": {},
   "outputs": [
    {
     "data": {
      "image/png": "[encoded data removed]",
      "text/plain": [
       "<Figure size 1000x600 with 4 Axes>"
      ]
     },
     "metadata": {},
     "output_type": "display_data"
    },
    {
     "data": {
      "text/plain": [
       "<ggplot: (8790592796253)>"
      ]
     },
     "execution_count": 62,
     "metadata": {},
     "output_type": "execute_result"
    }
   ],
   "source": [
    "# plot distributions of categorical variables\n",
    "df_cat = train_X.select_dtypes(include=\"category\").melt()\n",
    "\n",
    "(\n",
    "    ggplot(df_cat,aes(x=\"value\")) +\n",
    "    geom_bar() +\n",
    "    facet_wrap(\"variable\",scales='free') +\n",
    "    theme(figure_size=(10,6),\n",
    "          subplots_adjust={'wspace':0.25,\n",
    "                           'hspace':0.75},\n",
    "         axis_text_x=element_text(rotation=45, hjust=1))\n",
    ")"
   ]
  },
  {
   "cell_type": "markdown",
   "metadata": {},
   "source": [
    "### Let's dummify NERC regions, state, and utility type"
   ]
  },
  {
   "cell_type": "code",
   "execution_count": 65,
   "metadata": {
    "scrolled": true
   },
   "outputs": [
    {
     "data": {
      "text/html": [
       "<div>\n",
       "<style scoped>\n",
       "    .dataframe tbody tr th:only-of-type {\n",
       "        vertical-align: middle;\n",
       "    }\n",
       "\n",
       "    .dataframe tbody tr th {\n",
       "        vertical-align: top;\n",
       "    }\n",
       "\n",
       "    .dataframe thead th {\n",
       "        text-align: right;\n",
       "    }\n",
       "</style>\n",
       "<table border=\"1\" class=\"dataframe\">\n",
       "  <thead>\n",
       "    <tr style=\"text-align: right;\">\n",
       "      <th></th>\n",
       "      <th>AK</th>\n",
       "      <th>ECAR</th>\n",
       "      <th>FRCC</th>\n",
       "      <th>HI</th>\n",
       "      <th>MISO</th>\n",
       "      <th>MRO</th>\n",
       "      <th>NPCC</th>\n",
       "      <th>RFC</th>\n",
       "      <th>SERC</th>\n",
       "      <th>SPP</th>\n",
       "      <th>TRE</th>\n",
       "      <th>WECC</th>\n",
       "      <th>serc</th>\n",
       "    </tr>\n",
       "  </thead>\n",
       "  <tbody>\n",
       "    <tr>\n",
       "      <th>0</th>\n",
       "      <td>0</td>\n",
       "      <td>0</td>\n",
       "      <td>0</td>\n",
       "      <td>0</td>\n",
       "      <td>0</td>\n",
       "      <td>0</td>\n",
       "      <td>0</td>\n",
       "      <td>0</td>\n",
       "      <td>1</td>\n",
       "      <td>0</td>\n",
       "      <td>0</td>\n",
       "      <td>0</td>\n",
       "      <td>0</td>\n",
       "    </tr>\n",
       "    <tr>\n",
       "      <th>1</th>\n",
       "      <td>0</td>\n",
       "      <td>0</td>\n",
       "      <td>0</td>\n",
       "      <td>0</td>\n",
       "      <td>0</td>\n",
       "      <td>1</td>\n",
       "      <td>0</td>\n",
       "      <td>0</td>\n",
       "      <td>0</td>\n",
       "      <td>0</td>\n",
       "      <td>0</td>\n",
       "      <td>0</td>\n",
       "      <td>0</td>\n",
       "    </tr>\n",
       "    <tr>\n",
       "      <th>2</th>\n",
       "      <td>0</td>\n",
       "      <td>0</td>\n",
       "      <td>0</td>\n",
       "      <td>0</td>\n",
       "      <td>0</td>\n",
       "      <td>1</td>\n",
       "      <td>0</td>\n",
       "      <td>0</td>\n",
       "      <td>0</td>\n",
       "      <td>0</td>\n",
       "      <td>0</td>\n",
       "      <td>0</td>\n",
       "      <td>0</td>\n",
       "    </tr>\n",
       "    <tr>\n",
       "      <th>3</th>\n",
       "      <td>0</td>\n",
       "      <td>0</td>\n",
       "      <td>0</td>\n",
       "      <td>0</td>\n",
       "      <td>0</td>\n",
       "      <td>0</td>\n",
       "      <td>0</td>\n",
       "      <td>0</td>\n",
       "      <td>1</td>\n",
       "      <td>0</td>\n",
       "      <td>0</td>\n",
       "      <td>0</td>\n",
       "      <td>0</td>\n",
       "    </tr>\n",
       "    <tr>\n",
       "      <th>4</th>\n",
       "      <td>1</td>\n",
       "      <td>0</td>\n",
       "      <td>0</td>\n",
       "      <td>0</td>\n",
       "      <td>0</td>\n",
       "      <td>0</td>\n",
       "      <td>0</td>\n",
       "      <td>0</td>\n",
       "      <td>0</td>\n",
       "      <td>0</td>\n",
       "      <td>0</td>\n",
       "      <td>0</td>\n",
       "      <td>0</td>\n",
       "    </tr>\n",
       "  </tbody>\n",
       "</table>\n",
       "</div>"
      ],
      "text/plain": [
       "   AK  ECAR  FRCC  HI  MISO  MRO  NPCC  RFC  SERC  SPP  TRE  WECC  serc\n",
       "0   0     0     0   0     0    0     0    0     1    0    0     0     0\n",
       "1   0     0     0   0     0    1     0    0     0    0    0     0     0\n",
       "2   0     0     0   0     0    1     0    0     0    0    0     0     0\n",
       "3   0     0     0   0     0    0     0    0     1    0    0     0     0\n",
       "4   1     0     0   0     0    0     0    0     0    0    0     0     0"
      ]
     },
     "execution_count": 65,
     "metadata": {},
     "output_type": "execute_result"
    }
   ],
   "source": [
    "nerc_dummies = pd.get_dummies(df.nerc)\n",
    "nerc_dummies"
   ]
  },
  {
   "cell_type": "code",
   "execution_count": 66,
   "metadata": {},
   "outputs": [],
   "source": [
    "# we'll use AK as our reference category\n",
    "nerc_dummies = nerc_dummies.drop(['AK'],axis=1)"
   ]
  },
  {
   "cell_type": "code",
   "execution_count": 67,
   "metadata": {},
   "outputs": [],
   "source": [
    "df = pd.concat([df.drop(['nerc'],axis=1),nerc_dummies],axis=1)"
   ]
  },
  {
   "cell_type": "code",
   "execution_count": 68,
   "metadata": {},
   "outputs": [],
   "source": [
    "type_dummies = pd.get_dummies(df.type)"
   ]
  },
  {
   "cell_type": "code",
   "execution_count": 69,
   "metadata": {},
   "outputs": [
    {
     "data": {
      "text/html": [
       "<div>\n",
       "<style scoped>\n",
       "    .dataframe tbody tr th:only-of-type {\n",
       "        vertical-align: middle;\n",
       "    }\n",
       "\n",
       "    .dataframe tbody tr th {\n",
       "        vertical-align: top;\n",
       "    }\n",
       "\n",
       "    .dataframe thead th {\n",
       "        text-align: right;\n",
       "    }\n",
       "</style>\n",
       "<table border=\"1\" class=\"dataframe\">\n",
       "  <thead>\n",
       "    <tr style=\"text-align: right;\">\n",
       "      <th></th>\n",
       "      <th>Cooperative</th>\n",
       "      <th>Investor Owned</th>\n",
       "      <th>Municipal</th>\n",
       "      <th>Political Subdivision</th>\n",
       "    </tr>\n",
       "  </thead>\n",
       "  <tbody>\n",
       "    <tr>\n",
       "      <th>0</th>\n",
       "      <td>1</td>\n",
       "      <td>0</td>\n",
       "      <td>0</td>\n",
       "      <td>0</td>\n",
       "    </tr>\n",
       "    <tr>\n",
       "      <th>1</th>\n",
       "      <td>1</td>\n",
       "      <td>0</td>\n",
       "      <td>0</td>\n",
       "      <td>0</td>\n",
       "    </tr>\n",
       "    <tr>\n",
       "      <th>2</th>\n",
       "      <td>1</td>\n",
       "      <td>0</td>\n",
       "      <td>0</td>\n",
       "      <td>0</td>\n",
       "    </tr>\n",
       "    <tr>\n",
       "      <th>3</th>\n",
       "      <td>1</td>\n",
       "      <td>0</td>\n",
       "      <td>0</td>\n",
       "      <td>0</td>\n",
       "    </tr>\n",
       "    <tr>\n",
       "      <th>4</th>\n",
       "      <td>0</td>\n",
       "      <td>1</td>\n",
       "      <td>0</td>\n",
       "      <td>0</td>\n",
       "    </tr>\n",
       "  </tbody>\n",
       "</table>\n",
       "</div>"
      ],
      "text/plain": [
       "   Cooperative  Investor Owned  Municipal  Political Subdivision\n",
       "0            1               0          0                      0\n",
       "1            1               0          0                      0\n",
       "2            1               0          0                      0\n",
       "3            1               0          0                      0\n",
       "4            0               1          0                      0"
      ]
     },
     "execution_count": 69,
     "metadata": {},
     "output_type": "execute_result"
    }
   ],
   "source": [
    "# we'll use State as our reference category\n",
    "type_dummies = type_dummies.drop(['State'],axis=1)\n",
    "type_dummies.head()"
   ]
  },
  {
   "cell_type": "code",
   "execution_count": 70,
   "metadata": {},
   "outputs": [],
   "source": [
    "df = pd.concat([df.drop(['type'],axis=1),type_dummies],axis=1)"
   ]
  },
  {
   "cell_type": "code",
   "execution_count": 71,
   "metadata": {},
   "outputs": [],
   "source": [
    "state_dummies = pd.get_dummies(df.state)"
   ]
  },
  {
   "cell_type": "code",
   "execution_count": 72,
   "metadata": {},
   "outputs": [
    {
     "data": {
      "text/html": [
       "<div>\n",
       "<style scoped>\n",
       "    .dataframe tbody tr th:only-of-type {\n",
       "        vertical-align: middle;\n",
       "    }\n",
       "\n",
       "    .dataframe tbody tr th {\n",
       "        vertical-align: top;\n",
       "    }\n",
       "\n",
       "    .dataframe thead th {\n",
       "        text-align: right;\n",
       "    }\n",
       "</style>\n",
       "<table border=\"1\" class=\"dataframe\">\n",
       "  <thead>\n",
       "    <tr style=\"text-align: right;\">\n",
       "      <th></th>\n",
       "      <th>AL</th>\n",
       "      <th>AR</th>\n",
       "      <th>AZ</th>\n",
       "      <th>CA</th>\n",
       "      <th>CO</th>\n",
       "      <th>CT</th>\n",
       "      <th>DC</th>\n",
       "      <th>DE</th>\n",
       "      <th>FL</th>\n",
       "      <th>GA</th>\n",
       "      <th>...</th>\n",
       "      <th>SD</th>\n",
       "      <th>TN</th>\n",
       "      <th>TX</th>\n",
       "      <th>UT</th>\n",
       "      <th>VA</th>\n",
       "      <th>VT</th>\n",
       "      <th>WA</th>\n",
       "      <th>WI</th>\n",
       "      <th>WV</th>\n",
       "      <th>WY</th>\n",
       "    </tr>\n",
       "  </thead>\n",
       "  <tbody>\n",
       "    <tr>\n",
       "      <th>0</th>\n",
       "      <td>0</td>\n",
       "      <td>0</td>\n",
       "      <td>0</td>\n",
       "      <td>0</td>\n",
       "      <td>0</td>\n",
       "      <td>0</td>\n",
       "      <td>0</td>\n",
       "      <td>0</td>\n",
       "      <td>0</td>\n",
       "      <td>0</td>\n",
       "      <td>...</td>\n",
       "      <td>0</td>\n",
       "      <td>0</td>\n",
       "      <td>0</td>\n",
       "      <td>0</td>\n",
       "      <td>0</td>\n",
       "      <td>0</td>\n",
       "      <td>0</td>\n",
       "      <td>0</td>\n",
       "      <td>0</td>\n",
       "      <td>0</td>\n",
       "    </tr>\n",
       "    <tr>\n",
       "      <th>1</th>\n",
       "      <td>0</td>\n",
       "      <td>0</td>\n",
       "      <td>0</td>\n",
       "      <td>0</td>\n",
       "      <td>0</td>\n",
       "      <td>0</td>\n",
       "      <td>0</td>\n",
       "      <td>0</td>\n",
       "      <td>0</td>\n",
       "      <td>0</td>\n",
       "      <td>...</td>\n",
       "      <td>0</td>\n",
       "      <td>0</td>\n",
       "      <td>0</td>\n",
       "      <td>0</td>\n",
       "      <td>0</td>\n",
       "      <td>0</td>\n",
       "      <td>0</td>\n",
       "      <td>1</td>\n",
       "      <td>0</td>\n",
       "      <td>0</td>\n",
       "    </tr>\n",
       "    <tr>\n",
       "      <th>2</th>\n",
       "      <td>0</td>\n",
       "      <td>0</td>\n",
       "      <td>0</td>\n",
       "      <td>0</td>\n",
       "      <td>0</td>\n",
       "      <td>0</td>\n",
       "      <td>0</td>\n",
       "      <td>0</td>\n",
       "      <td>0</td>\n",
       "      <td>0</td>\n",
       "      <td>...</td>\n",
       "      <td>0</td>\n",
       "      <td>0</td>\n",
       "      <td>0</td>\n",
       "      <td>0</td>\n",
       "      <td>0</td>\n",
       "      <td>0</td>\n",
       "      <td>0</td>\n",
       "      <td>0</td>\n",
       "      <td>0</td>\n",
       "      <td>0</td>\n",
       "    </tr>\n",
       "    <tr>\n",
       "      <th>3</th>\n",
       "      <td>0</td>\n",
       "      <td>0</td>\n",
       "      <td>0</td>\n",
       "      <td>0</td>\n",
       "      <td>0</td>\n",
       "      <td>0</td>\n",
       "      <td>0</td>\n",
       "      <td>0</td>\n",
       "      <td>0</td>\n",
       "      <td>0</td>\n",
       "      <td>...</td>\n",
       "      <td>0</td>\n",
       "      <td>0</td>\n",
       "      <td>0</td>\n",
       "      <td>0</td>\n",
       "      <td>0</td>\n",
       "      <td>0</td>\n",
       "      <td>0</td>\n",
       "      <td>0</td>\n",
       "      <td>0</td>\n",
       "      <td>0</td>\n",
       "    </tr>\n",
       "    <tr>\n",
       "      <th>4</th>\n",
       "      <td>0</td>\n",
       "      <td>0</td>\n",
       "      <td>0</td>\n",
       "      <td>0</td>\n",
       "      <td>0</td>\n",
       "      <td>0</td>\n",
       "      <td>0</td>\n",
       "      <td>0</td>\n",
       "      <td>0</td>\n",
       "      <td>0</td>\n",
       "      <td>...</td>\n",
       "      <td>0</td>\n",
       "      <td>0</td>\n",
       "      <td>0</td>\n",
       "      <td>0</td>\n",
       "      <td>0</td>\n",
       "      <td>0</td>\n",
       "      <td>0</td>\n",
       "      <td>0</td>\n",
       "      <td>0</td>\n",
       "      <td>0</td>\n",
       "    </tr>\n",
       "  </tbody>\n",
       "</table>\n",
       "<p>5 rows × 50 columns</p>\n",
       "</div>"
      ],
      "text/plain": [
       "   AL  AR  AZ  CA  CO  CT  DC  DE  FL  GA  ...  SD  TN  TX  UT  VA  VT  WA  \\\n",
       "0   0   0   0   0   0   0   0   0   0   0  ...   0   0   0   0   0   0   0   \n",
       "1   0   0   0   0   0   0   0   0   0   0  ...   0   0   0   0   0   0   0   \n",
       "2   0   0   0   0   0   0   0   0   0   0  ...   0   0   0   0   0   0   0   \n",
       "3   0   0   0   0   0   0   0   0   0   0  ...   0   0   0   0   0   0   0   \n",
       "4   0   0   0   0   0   0   0   0   0   0  ...   0   0   0   0   0   0   0   \n",
       "\n",
       "   WI  WV  WY  \n",
       "0   0   0   0  \n",
       "1   1   0   0  \n",
       "2   0   0   0  \n",
       "3   0   0   0  \n",
       "4   0   0   0  \n",
       "\n",
       "[5 rows x 50 columns]"
      ]
     },
     "execution_count": 72,
     "metadata": {},
     "output_type": "execute_result"
    }
   ],
   "source": [
    "# we'll use AK as our reference category\n",
    "state_dummies = state_dummies.drop(['AK'],axis=1)\n",
    "state_dummies.head()"
   ]
  },
  {
   "cell_type": "code",
   "execution_count": 73,
   "metadata": {},
   "outputs": [],
   "source": [
    "df = pd.concat([df.drop(['state'],axis=1),state_dummies],axis=1)"
   ]
  },
  {
   "cell_type": "markdown",
   "metadata": {},
   "source": [
    "### Check dummifed categorical variables (continuous now)"
   ]
  },
  {
   "cell_type": "code",
   "execution_count": 97,
   "metadata": {},
   "outputs": [],
   "source": [
    "y = df['saidi_nomed']\n",
    "X = df.drop(columns=['no','name','total_cust','ba','year',\n",
    "                       'saidi_nomed','saifi_nomed', 'caidi_nomed',\n",
    "                       'gen_mwh', 'purchase_mwh', \n",
    "                       'pv_mwh', 'wind_mwh', 'nm_mwh', 'ee_mwh',\n",
    "                       'dem_res_customers', 'dem_res_mwh',\n",
    "                        'nm_pct'])"
   ]
  },
  {
   "cell_type": "code",
   "execution_count": 98,
   "metadata": {},
   "outputs": [],
   "source": [
    "train_X, test_X, train_y, test_y = train_test_split(X,y,test_size=.25,random_state=1997)"
   ]
  },
  {
   "cell_type": "markdown",
   "metadata": {},
   "source": [
    "## Run Median Method"
   ]
  },
  {
   "cell_type": "code",
   "execution_count": 135,
   "metadata": {},
   "outputs": [
    {
     "data": {
      "text/plain": [
       "Index(['total_mwh', 'circuits', 'voltage', 'pv_pct', 'wind_pct', 'ee_pct',\n",
       "       'dem_res_pct', 'dem_res_cust_pct'],\n",
       "      dtype='object')"
      ]
     },
     "execution_count": 135,
     "metadata": {},
     "output_type": "execute_result"
    }
   ],
   "source": [
    "# all columns before the dummies\n",
    "train_X_med.iloc[:,:8].columns"
   ]
  },
  {
   "cell_type": "code",
   "execution_count": 85,
   "metadata": {},
   "outputs": [],
   "source": [
    "# Version 2 use the medians and log total_mwh and circuits because that works\n",
    "df_med = df.copy() \n",
    "\n",
    "# total_mwh and circuits logged\n",
    "df_med['total_mwh'] = np.log(df['total_mwh'])\n",
    "df_med['circuits'] = np.log(df['circuits'])\n",
    "\n",
    "# voltage pct\n",
    "median_voltage_pct = df.loc[df_med['voltage'] > 0,'voltage'].median()\n",
    "df_med['voltage'] =  np.where(df_med['voltage']==0,0,np.where(df_med['voltage'] <= median_voltage_pct,1,2))\n",
    "\n",
    "# pv pct\n",
    "median_pv_pct = df.loc[df_med['pv_pct'] > 0,'pv_pct'].median()\n",
    "df_med['pv_pct'] =  np.where(df_med['pv_pct']==0,0,np.where(df_med['pv_pct'] <= median_pv_pct,1,2))\n",
    "\n",
    "# wind pct\n",
    "median_wind_pct = df_med.loc[df_med['wind_pct'] > 0,'wind_pct'].median()\n",
    "df_med['wind_pct'] =  np.where(df_med['wind_pct']==0,0,np.where(df_med['wind_pct'] <= median_wind_pct,1,2))\n",
    "\n",
    "# energy efficiency pct\n",
    "median_ee_pct = df_med.loc[df_med['ee_pct'] > 0,'ee_pct'].median()\n",
    "df_med['ee_pct'] =  np.where(df_med['ee_pct']==0,0,np.where(df_med['ee_pct'] <= median_ee_pct,1,2))\n",
    "\n",
    "# demand response pct\n",
    "median_dr_pct = df_med.loc[df_med['dem_res_pct'] > 0,'dem_res_pct'].median()\n",
    "df_med['dem_res_pct'] =  np.where(df_med['dem_res_pct']==0,0,np.where(df_med['dem_res_pct'] <= median_dr_pct,1,2))\n",
    "\n",
    "# demand response customer pct\n",
    "median_drc_pct = df_med.loc[df_med['dem_res_cust_pct'] > 0,'dem_res_cust_pct'].median()\n",
    "df_med['dem_res_cust_pct'] =  np.where(df_med['dem_res_cust_pct']==0,0,np.where(df_med['dem_res_cust_pct'] <= median_drc_pct,1,2))"
   ]
  },
  {
   "cell_type": "code",
   "execution_count": 99,
   "metadata": {},
   "outputs": [],
   "source": [
    "y = df_med['saidi_nomed']\n",
    "X = df_med.drop(columns=['no','name','total_cust','ba', 'year',\n",
    "                       'saidi_nomed','saifi_nomed', 'caidi_nomed',\n",
    "                       'gen_mwh', 'purchase_mwh', \n",
    "                       'pv_mwh', 'wind_mwh', 'nm_mwh', 'ee_mwh',\n",
    "                       'dem_res_customers', 'dem_res_mwh',\n",
    "                        'nm_pct'])\n",
    "train_X_med, test_X_med, train_y_med, test_y_med = train_test_split(X,y,test_size=.25,random_state=1997)"
   ]
  },
  {
   "cell_type": "code",
   "execution_count": 136,
   "metadata": {},
   "outputs": [
    {
     "data": {
      "image/png": "[encoded data removed]",
      "text/plain": [
       "<Figure size 1000x500 with 8 Axes>"
      ]
     },
     "metadata": {},
     "output_type": "display_data"
    },
    {
     "data": {
      "text/plain": [
       "<ggplot: (8790582170921)>"
      ]
     },
     "execution_count": 136,
     "metadata": {},
     "output_type": "execute_result"
    }
   ],
   "source": [
    "d = train_X_med.iloc[:,:8]\n",
    "\n",
    "(\n",
    "    ggplot(d.melt(),aes(x=\"value\")) +\n",
    "    geom_histogram(bins=25) +\n",
    "    facet_wrap(\"variable\",scales='free') +\n",
    "    theme(figure_size=(10,5),\n",
    "          subplots_adjust={'wspace':0.25})\n",
    ")"
   ]
  },
  {
   "cell_type": "markdown",
   "metadata": {},
   "source": [
    "## Try them one by one"
   ]
  },
  {
   "cell_type": "code",
   "execution_count": 114,
   "metadata": {},
   "outputs": [],
   "source": [
    "# EVERYTHING must hold constant other than the algorithm because we're looking for the best algorithm \n",
    "fold_generator = KFold(n_splits=5, shuffle=True,random_state=111) # make sure splits are same with random state"
   ]
  },
  {
   "cell_type": "code",
   "execution_count": 115,
   "metadata": {},
   "outputs": [
    {
     "data": {
      "text/plain": [
       "sklearn.model_selection._split.KFold"
      ]
     },
     "execution_count": 115,
     "metadata": {},
     "output_type": "execute_result"
    }
   ],
   "source": [
    "type(fold_generator)"
   ]
  },
  {
   "cell_type": "code",
   "execution_count": 116,
   "metadata": {},
   "outputs": [],
   "source": [
    "# just MSE but negative, used by sklearn\n",
    "use_metrics = [\"neg_mean_squared_error\"] "
   ]
  },
  {
   "cell_type": "code",
   "execution_count": 117,
   "metadata": {
    "scrolled": true
   },
   "outputs": [],
   "source": [
    "lm_scores = cross_validate(LM(),train_X_med,train_y_med, cv = fold_generator, scoring =use_metrics)"
   ]
  },
  {
   "cell_type": "code",
   "execution_count": 118,
   "metadata": {},
   "outputs": [],
   "source": [
    "mod = LM()"
   ]
  },
  {
   "cell_type": "code",
   "execution_count": 120,
   "metadata": {},
   "outputs": [
    {
     "data": {
      "text/plain": [
       "LinearRegression(copy_X=True, fit_intercept=True, n_jobs=None, normalize=False)"
      ]
     },
     "execution_count": 120,
     "metadata": {},
     "output_type": "execute_result"
    }
   ],
   "source": [
    "mod.fit(train_X_med, train_y_med)"
   ]
  },
  {
   "cell_type": "code",
   "execution_count": 121,
   "metadata": {},
   "outputs": [],
   "source": [
    "knn_scores = cross_validate(KNN(),train_X_med,train_y_med, cv = fold_generator, scoring =use_metrics)"
   ]
  },
  {
   "cell_type": "code",
   "execution_count": 122,
   "metadata": {},
   "outputs": [],
   "source": [
    "dt_scores = cross_validate(DTree(),train_X_med,train_y_med, cv = fold_generator, scoring =use_metrics)"
   ]
  },
  {
   "cell_type": "code",
   "execution_count": 123,
   "metadata": {},
   "outputs": [],
   "source": [
    "bag_scores = cross_validate(Bag(),train_X,train_y, cv = fold_generator, scoring =use_metrics)"
   ]
  },
  {
   "cell_type": "code",
   "execution_count": 124,
   "metadata": {},
   "outputs": [],
   "source": [
    "# takes longer, because 1000 models \n",
    "rf_scores = cross_validate(RF(),train_X_med,train_y_med, cv = fold_generator, scoring =use_metrics)"
   ]
  },
  {
   "cell_type": "code",
   "execution_count": 125,
   "metadata": {},
   "outputs": [
    {
     "data": {
      "text/html": [
       "<div>\n",
       "<style scoped>\n",
       "    .dataframe tbody tr th:only-of-type {\n",
       "        vertical-align: middle;\n",
       "    }\n",
       "\n",
       "    .dataframe tbody tr th {\n",
       "        vertical-align: top;\n",
       "    }\n",
       "\n",
       "    .dataframe thead th {\n",
       "        text-align: right;\n",
       "    }\n",
       "</style>\n",
       "<table border=\"1\" class=\"dataframe\">\n",
       "  <thead>\n",
       "    <tr style=\"text-align: right;\">\n",
       "      <th></th>\n",
       "      <th>Model</th>\n",
       "      <th>MSE</th>\n",
       "    </tr>\n",
       "  </thead>\n",
       "  <tbody>\n",
       "    <tr>\n",
       "      <th>0</th>\n",
       "      <td>lm</td>\n",
       "      <td>1.188094e+04</td>\n",
       "    </tr>\n",
       "    <tr>\n",
       "      <th>1</th>\n",
       "      <td>lm</td>\n",
       "      <td>2.401518e+24</td>\n",
       "    </tr>\n",
       "    <tr>\n",
       "      <th>2</th>\n",
       "      <td>lm</td>\n",
       "      <td>2.906278e+04</td>\n",
       "    </tr>\n",
       "    <tr>\n",
       "      <th>3</th>\n",
       "      <td>lm</td>\n",
       "      <td>1.025469e+05</td>\n",
       "    </tr>\n",
       "    <tr>\n",
       "      <th>4</th>\n",
       "      <td>lm</td>\n",
       "      <td>1.517612e+04</td>\n",
       "    </tr>\n",
       "    <tr>\n",
       "      <th>5</th>\n",
       "      <td>knn</td>\n",
       "      <td>1.063411e+04</td>\n",
       "    </tr>\n",
       "    <tr>\n",
       "      <th>6</th>\n",
       "      <td>knn</td>\n",
       "      <td>2.396739e+04</td>\n",
       "    </tr>\n",
       "    <tr>\n",
       "      <th>7</th>\n",
       "      <td>knn</td>\n",
       "      <td>1.784989e+04</td>\n",
       "    </tr>\n",
       "    <tr>\n",
       "      <th>8</th>\n",
       "      <td>knn</td>\n",
       "      <td>1.064814e+05</td>\n",
       "    </tr>\n",
       "    <tr>\n",
       "      <th>9</th>\n",
       "      <td>knn</td>\n",
       "      <td>1.762981e+04</td>\n",
       "    </tr>\n",
       "    <tr>\n",
       "      <th>10</th>\n",
       "      <td>dt</td>\n",
       "      <td>9.939283e+03</td>\n",
       "    </tr>\n",
       "    <tr>\n",
       "      <th>11</th>\n",
       "      <td>dt</td>\n",
       "      <td>2.157611e+04</td>\n",
       "    </tr>\n",
       "    <tr>\n",
       "      <th>12</th>\n",
       "      <td>dt</td>\n",
       "      <td>3.061934e+04</td>\n",
       "    </tr>\n",
       "    <tr>\n",
       "      <th>13</th>\n",
       "      <td>dt</td>\n",
       "      <td>1.034993e+05</td>\n",
       "    </tr>\n",
       "    <tr>\n",
       "      <th>14</th>\n",
       "      <td>dt</td>\n",
       "      <td>1.101258e+04</td>\n",
       "    </tr>\n",
       "    <tr>\n",
       "      <th>15</th>\n",
       "      <td>bag</td>\n",
       "      <td>7.106743e+03</td>\n",
       "    </tr>\n",
       "    <tr>\n",
       "      <th>16</th>\n",
       "      <td>bag</td>\n",
       "      <td>3.918552e+04</td>\n",
       "    </tr>\n",
       "    <tr>\n",
       "      <th>17</th>\n",
       "      <td>bag</td>\n",
       "      <td>1.085180e+04</td>\n",
       "    </tr>\n",
       "    <tr>\n",
       "      <th>18</th>\n",
       "      <td>bag</td>\n",
       "      <td>1.013122e+05</td>\n",
       "    </tr>\n",
       "    <tr>\n",
       "      <th>19</th>\n",
       "      <td>bag</td>\n",
       "      <td>1.110524e+04</td>\n",
       "    </tr>\n",
       "    <tr>\n",
       "      <th>20</th>\n",
       "      <td>rf</td>\n",
       "      <td>7.216430e+03</td>\n",
       "    </tr>\n",
       "    <tr>\n",
       "      <th>21</th>\n",
       "      <td>rf</td>\n",
       "      <td>2.239651e+04</td>\n",
       "    </tr>\n",
       "    <tr>\n",
       "      <th>22</th>\n",
       "      <td>rf</td>\n",
       "      <td>1.444146e+04</td>\n",
       "    </tr>\n",
       "    <tr>\n",
       "      <th>23</th>\n",
       "      <td>rf</td>\n",
       "      <td>1.032890e+05</td>\n",
       "    </tr>\n",
       "    <tr>\n",
       "      <th>24</th>\n",
       "      <td>rf</td>\n",
       "      <td>1.003668e+04</td>\n",
       "    </tr>\n",
       "  </tbody>\n",
       "</table>\n",
       "</div>"
      ],
      "text/plain": [
       "   Model           MSE\n",
       "0     lm  1.188094e+04\n",
       "1     lm  2.401518e+24\n",
       "2     lm  2.906278e+04\n",
       "3     lm  1.025469e+05\n",
       "4     lm  1.517612e+04\n",
       "5    knn  1.063411e+04\n",
       "6    knn  2.396739e+04\n",
       "7    knn  1.784989e+04\n",
       "8    knn  1.064814e+05\n",
       "9    knn  1.762981e+04\n",
       "10    dt  9.939283e+03\n",
       "11    dt  2.157611e+04\n",
       "12    dt  3.061934e+04\n",
       "13    dt  1.034993e+05\n",
       "14    dt  1.101258e+04\n",
       "15   bag  7.106743e+03\n",
       "16   bag  3.918552e+04\n",
       "17   bag  1.085180e+04\n",
       "18   bag  1.013122e+05\n",
       "19   bag  1.110524e+04\n",
       "20    rf  7.216430e+03\n",
       "21    rf  2.239651e+04\n",
       "22    rf  1.444146e+04\n",
       "23    rf  1.032890e+05\n",
       "24    rf  1.003668e+04"
      ]
     },
     "execution_count": 125,
     "metadata": {},
     "output_type": "execute_result"
    }
   ],
   "source": [
    "# Collect all the metrics we care about as a dictionary \n",
    "# name them by which method we used\n",
    "collect_scores = \\\n",
    "dict(lm = lm_scores['test_neg_mean_squared_error']*-1,\n",
    "     knn = knn_scores['test_neg_mean_squared_error']*-1,\n",
    "     dt = dt_scores['test_neg_mean_squared_error']*-1,\n",
    "     bag = bag_scores['test_neg_mean_squared_error']*-1,\n",
    "     rf = rf_scores['test_neg_mean_squared_error']*-1)\n",
    "\n",
    "# Convert to a data frame and reshape\n",
    "collect_scores = pd.DataFrame(collect_scores).melt(var_name=\"Model\",value_name=\"MSE\")\n",
    "collect_scores"
   ]
  },
  {
   "cell_type": "code",
   "execution_count": 126,
   "metadata": {},
   "outputs": [
    {
     "data": {
      "image/png": "[encoded data removed]",
      "text/plain": [
       "<Figure size 960x720 with 1 Axes>"
      ]
     },
     "metadata": {
      "needs_background": "light"
     },
     "output_type": "display_data"
    },
    {
     "data": {
      "text/plain": [
       "<ggplot: (8790591724329)>"
      ]
     },
     "execution_count": 126,
     "metadata": {},
     "output_type": "execute_result"
    }
   ],
   "source": [
    "# Get the order of the models\n",
    "order = (collect_scores.groupby('Model').mean().sort_values(by=\"MSE\").index.tolist())\n",
    "\n",
    "# Plot\n",
    "(\n",
    "    ggplot(collect_scores,\n",
    "          aes(x=\"Model\",y=\"MSE\")) +\n",
    "    geom_boxplot() +\n",
    "    scale_x_discrete(limits=order) +\n",
    "    labs(x=\"Model\",y=\"Mean Squared Error\") +\n",
    "    coord_flip() +\n",
    "    theme_minimal() +\n",
    "    theme(dpi=150)\n",
    ")"
   ]
  },
  {
   "cell_type": "markdown",
   "metadata": {},
   "source": [
    "## Tune RF"
   ]
  },
  {
   "cell_type": "code",
   "execution_count": 138,
   "metadata": {},
   "outputs": [
    {
     "data": {
      "text/plain": [
       "74"
      ]
     },
     "execution_count": 138,
     "metadata": {},
     "output_type": "execute_result"
    }
   ],
   "source": [
    "len(train_X_med.columns)"
   ]
  },
  {
   "cell_type": "code",
   "execution_count": 145,
   "metadata": {},
   "outputs": [],
   "source": [
    "rf_params = {'n_estimators':[1000,1250],\n",
    "            'max_features': [5,10],\n",
    "            'max_depth': [2,3,4]}\n",
    "tune_rf = GridSearchCV(RF(),rf_params,\n",
    "                        cv = fold_generator,\n",
    "                        scoring='neg_mean_squared_error',\n",
    "                        n_jobs=4,\n",
    "                        verbose=10)"
   ]
  },
  {
   "cell_type": "code",
   "execution_count": 146,
   "metadata": {},
   "outputs": [
    {
     "name": "stdout",
     "output_type": "stream",
     "text": [
      "Fitting 5 folds for each of 12 candidates, totalling 60 fits\n"
     ]
    },
    {
     "name": "stderr",
     "output_type": "stream",
     "text": [
      "[Parallel(n_jobs=4)]: Using backend LokyBackend with 4 concurrent workers.\n",
      "[Parallel(n_jobs=4)]: Done   5 tasks      | elapsed:   11.4s\n",
      "[Parallel(n_jobs=4)]: Done  10 tasks      | elapsed:   20.2s\n",
      "[Parallel(n_jobs=4)]: Done  17 tasks      | elapsed:   34.4s\n",
      "[Parallel(n_jobs=4)]: Done  24 tasks      | elapsed:   40.3s\n",
      "[Parallel(n_jobs=4)]: Done  33 tasks      | elapsed:   54.5s\n",
      "[Parallel(n_jobs=4)]: Done  42 tasks      | elapsed:  1.1min\n",
      "[Parallel(n_jobs=4)]: Done  53 tasks      | elapsed:  1.4min\n",
      "[Parallel(n_jobs=4)]: Done  60 out of  60 | elapsed:  1.5min remaining:    0.0s\n",
      "[Parallel(n_jobs=4)]: Done  60 out of  60 | elapsed:  1.5min finished\n"
     ]
    },
    {
     "data": {
      "text/plain": [
       "GridSearchCV(cv=KFold(n_splits=5, random_state=111, shuffle=True),\n",
       "             error_score=nan,\n",
       "             estimator=RandomForestRegressor(bootstrap=True, ccp_alpha=0.0,\n",
       "                                             criterion='mse', max_depth=None,\n",
       "                                             max_features='auto',\n",
       "                                             max_leaf_nodes=None,\n",
       "                                             max_samples=None,\n",
       "                                             min_impurity_decrease=0.0,\n",
       "                                             min_impurity_split=None,\n",
       "                                             min_samples_leaf=1,\n",
       "                                             min_samples_split=2,\n",
       "                                             min_weight_fraction_leaf=0.0,\n",
       "                                             n_estimators=100, n_jobs=None,\n",
       "                                             oob_score=False, random_state=None,\n",
       "                                             verbose=0, warm_start=False),\n",
       "             iid='deprecated', n_jobs=4,\n",
       "             param_grid={'max_depth': [2, 3, 4], 'max_features': [5, 10],\n",
       "                         'n_estimators': [1000, 1250]},\n",
       "             pre_dispatch='2*n_jobs', refit=True, return_train_score=False,\n",
       "             scoring='neg_mean_squared_error', verbose=10)"
      ]
     },
     "execution_count": 146,
     "metadata": {},
     "output_type": "execute_result"
    }
   ],
   "source": [
    "tune_rf.fit(train_X_med,train_y_med)"
   ]
  },
  {
   "cell_type": "code",
   "execution_count": 147,
   "metadata": {},
   "outputs": [
    {
     "data": {
      "text/plain": [
       "{'max_depth': 4, 'max_features': 10, 'n_estimators': 1250}"
      ]
     },
     "execution_count": 147,
     "metadata": {},
     "output_type": "execute_result"
    }
   ],
   "source": [
    "tune_rf.best_params_"
   ]
  },
  {
   "cell_type": "code",
   "execution_count": 148,
   "metadata": {},
   "outputs": [
    {
     "data": {
      "text/plain": [
       "-36974.2250551723"
      ]
     },
     "execution_count": 148,
     "metadata": {},
     "output_type": "execute_result"
    }
   ],
   "source": [
    "tune_rf.best_score_"
   ]
  },
  {
   "cell_type": "code",
   "execution_count": null,
   "metadata": {},
   "outputs": [],
   "source": []
  },
  {
   "cell_type": "code",
   "execution_count": null,
   "metadata": {},
   "outputs": [],
   "source": []
  },
  {
   "cell_type": "code",
   "execution_count": null,
   "metadata": {},
   "outputs": [],
   "source": []
  },
  {
   "cell_type": "code",
   "execution_count": null,
   "metadata": {},
   "outputs": [],
   "source": []
  },
  {
   "cell_type": "code",
   "execution_count": null,
   "metadata": {},
   "outputs": [],
   "source": []
  },
  {
   "cell_type": "markdown",
   "metadata": {},
   "source": [
    "# Build ML Pipeline"
   ]
  },
  {
   "cell_type": "code",
   "execution_count": 89,
   "metadata": {},
   "outputs": [],
   "source": [
    "# Set the folds index to ensure comparable samples\n",
    "fold_generator = KFold(n_splits=10, shuffle=True,random_state=1234)"
   ]
  },
  {
   "cell_type": "code",
   "execution_count": 90,
   "metadata": {},
   "outputs": [],
   "source": [
    "preprocess = ColumnTransformer(transformers=[('num', pp.MinMaxScaler(),  make_column_selector(dtype_exclude=None))])"
   ]
  },
  {
   "cell_type": "code",
   "execution_count": 91,
   "metadata": {},
   "outputs": [],
   "source": [
    "# initialize our pipeline \n",
    "pipe = Pipeline(steps=[('pre_process', preprocess),\n",
    "                       ('model',None)])"
   ]
  },
  {
   "cell_type": "code",
   "execution_count": 151,
   "metadata": {},
   "outputs": [],
   "source": [
    "search_space = [\n",
    "    # Linear Model\n",
    "    {'model' : [LM()]},\n",
    "    \n",
    "    # KNN with K tuning param, use double underscore to separate model from its parameter__\n",
    "    {'model' : [KNN()],\n",
    "     'model__n_neighbors':[15,20,23,25]},\n",
    "    \n",
    "    # Decision Tree with the Max Depth Param\n",
    "    {'model': [DTree()],\n",
    "     'model__max_depth':[1,2,3]},\n",
    "    \n",
    "    # The Bagging decision tree model \n",
    "    {'model': [Bag()]},\n",
    "    \n",
    "    # Random forest with the N Estimators tuning param\n",
    "    {'model' : [RF(n_estimators = 1250, max_depth = 4, max_features = 10)]}\n",
    "]"
   ]
  },
  {
   "cell_type": "code",
   "execution_count": 152,
   "metadata": {},
   "outputs": [],
   "source": [
    "search = GridSearchCV(pipe, search_space, \n",
    "                      cv = fold_generator,\n",
    "                      scoring='neg_mean_squared_error',\n",
    "                      n_jobs=4,\n",
    "                      verbose = 10)"
   ]
  },
  {
   "cell_type": "code",
   "execution_count": 153,
   "metadata": {},
   "outputs": [
    {
     "name": "stdout",
     "output_type": "stream",
     "text": [
      "Fitting 5 folds for each of 10 candidates, totalling 50 fits\n"
     ]
    },
    {
     "name": "stderr",
     "output_type": "stream",
     "text": [
      "[Parallel(n_jobs=4)]: Using backend LokyBackend with 4 concurrent workers.\n",
      "[Parallel(n_jobs=4)]: Batch computation too fast (0.1028s.) Setting batch_size=2.\n",
      "[Parallel(n_jobs=4)]: Done   5 tasks      | elapsed:    0.2s\n",
      "[Parallel(n_jobs=4)]: Done  12 tasks      | elapsed:    0.9s\n",
      "[Parallel(n_jobs=4)]: Done  26 tasks      | elapsed:    1.6s\n",
      "[Parallel(n_jobs=4)]: Done  50 out of  50 | elapsed:   10.9s finished\n"
     ]
    },
    {
     "data": {
      "text/plain": [
       "GridSearchCV(cv=KFold(n_splits=5, random_state=111, shuffle=True),\n",
       "             error_score=nan,\n",
       "             estimator=Pipeline(memory=None,\n",
       "                                steps=[('pre_process',\n",
       "                                        ColumnTransformer(n_jobs=None,\n",
       "                                                          remainder='drop',\n",
       "                                                          sparse_threshold=0.3,\n",
       "                                                          transformer_weights=None,\n",
       "                                                          transformers=[('num',\n",
       "                                                                         MinMaxScaler(copy=True,\n",
       "                                                                                      feature_range=(0,\n",
       "                                                                                                     1)),\n",
       "                                                                         <sklearn.compose._column_transformer.make_column_selector ob...\n",
       "                                                          max_leaf_nodes=None,\n",
       "                                                          max_samples=None,\n",
       "                                                          min_impurity_decrease=0.0,\n",
       "                                                          min_impurity_split=None,\n",
       "                                                          min_samples_leaf=1,\n",
       "                                                          min_samples_split=2,\n",
       "                                                          min_weight_fraction_leaf=0.0,\n",
       "                                                          n_estimators=1250,\n",
       "                                                          n_jobs=None,\n",
       "                                                          oob_score=False,\n",
       "                                                          random_state=None,\n",
       "                                                          verbose=0,\n",
       "                                                          warm_start=False)]}],\n",
       "             pre_dispatch='2*n_jobs', refit=True, return_train_score=False,\n",
       "             scoring='neg_mean_squared_error', verbose=10)"
      ]
     },
     "execution_count": 153,
     "metadata": {},
     "output_type": "execute_result"
    }
   ],
   "source": [
    "search.fit(train_X_med,train_y_med)"
   ]
  },
  {
   "cell_type": "code",
   "execution_count": 154,
   "metadata": {},
   "outputs": [
    {
     "data": {
      "text/plain": [
       "-31989.731393638434"
      ]
     },
     "execution_count": 154,
     "metadata": {},
     "output_type": "execute_result"
    }
   ],
   "source": [
    "search.best_score_ # Mean out-of-sample (CV) error"
   ]
  },
  {
   "cell_type": "code",
   "execution_count": 155,
   "metadata": {},
   "outputs": [
    {
     "data": {
      "text/plain": [
       "{'model': BaggingRegressor(base_estimator=None, bootstrap=True, bootstrap_features=False,\n",
       "                  max_features=1.0, max_samples=1.0, n_estimators=10,\n",
       "                  n_jobs=None, oob_score=False, random_state=None, verbose=0,\n",
       "                  warm_start=False)}"
      ]
     },
     "execution_count": 155,
     "metadata": {},
     "output_type": "execute_result"
    }
   ],
   "source": [
    "search.best_params_"
   ]
  },
  {
   "cell_type": "code",
   "execution_count": 156,
   "metadata": {},
   "outputs": [],
   "source": [
    "pred_y_med = search.predict(test_X_med)"
   ]
  },
  {
   "cell_type": "code",
   "execution_count": 157,
   "metadata": {},
   "outputs": [
    {
     "data": {
      "text/plain": [
       "27333.129537298322"
      ]
     },
     "execution_count": 157,
     "metadata": {},
     "output_type": "execute_result"
    }
   ],
   "source": [
    "m.mean_squared_error(test_y_med,pred_y_med)\n"
   ]
  },
  {
   "cell_type": "code",
   "execution_count": 158,
   "metadata": {
    "scrolled": true
   },
   "outputs": [
    {
     "data": {
      "text/plain": [
       "-0.6587708842317008"
      ]
     },
     "execution_count": 158,
     "metadata": {},
     "output_type": "execute_result"
    }
   ],
   "source": [
    "m.r2_score(test_y_med,pred_y_med)\n"
   ]
  },
  {
   "cell_type": "code",
   "execution_count": 107,
   "metadata": {},
   "outputs": [
    {
     "data": {
      "image/png": "[encoded data removed]",
      "text/plain": [
       "<Figure size 1000x700 with 1 Axes>"
      ]
     },
     "metadata": {},
     "output_type": "display_data"
    },
    {
     "data": {
      "text/plain": [
       "<ggplot: (8790594846373)>"
      ]
     },
     "execution_count": 107,
     "metadata": {},
     "output_type": "execute_result"
    }
   ],
   "source": [
    "(\n",
    "    ggplot(pd.DataFrame(dict(pred=pred_y_med,truth=test_y_med)),\n",
    "          aes(x='pred',y=\"truth\")) +\n",
    "    geom_point(alpha=.75) +\n",
    "    geom_abline(linetype=\"dashed\",color=\"darkred\",size=1) +\n",
    "    theme_bw() +\n",
    "    theme(figure_size=(10,7))\n",
    ")"
   ]
  },
  {
   "cell_type": "code",
   "execution_count": null,
   "metadata": {},
   "outputs": [],
   "source": []
  }
 ],
 "metadata": {
  "kernelspec": {
   "display_name": "Python 3",
   "language": "python",
   "name": "python3"
  },
  "language_info": {
   "codemirror_mode": {
    "name": "ipython",
    "version": 3
   },
   "file_extension": ".py",
   "mimetype": "text/x-python",
   "name": "python",
   "nbconvert_exporter": "python",
   "pygments_lexer": "ipython3",
   "version": "3.7.6"
  }
 },
 "nbformat": 4,
 "nbformat_minor": 4
}
