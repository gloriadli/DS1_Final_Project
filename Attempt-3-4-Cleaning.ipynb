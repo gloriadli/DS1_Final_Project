{
 "cells": [
  {
   "cell_type": "code",
   "execution_count": 1,
   "metadata": {},
   "outputs": [],
   "source": [
    "# Data management and investigation\n",
    "import pandas as pd\n",
    "import numpy as np\n",
    "import missingno as msno\n",
    "from plotnine import *\n",
    "import matplotlib.pyplot as plt\n",
    "import warnings\n",
    "import seaborn as sns\n",
    "warnings.filterwarnings(\"ignore\")\n",
    "\n",
    "from functools import reduce"
   ]
  },
  {
   "cell_type": "markdown",
   "metadata": {},
   "source": [
    "## Import data from each year"
   ]
  },
  {
   "cell_type": "markdown",
   "metadata": {},
   "source": [
    "### 2019"
   ]
  },
  {
   "cell_type": "code",
   "execution_count": 2,
   "metadata": {},
   "outputs": [],
   "source": [
    "# import 2019 reliability, net metering, energy efficiency, advanced metering infrastructure, demand response, and service territory raw_data\n",
    "reliability_19 = pd.read_excel(\"raw_data/Reliability_2019.xlsx\", \n",
    "                               header = 1)\n",
    "net_metering_19 = pd.read_excel(\"raw_data/Net_Metering_2019.xlsx\", \n",
    "                                header = [0,1,2])\n",
    "efficiency_19 = pd.read_excel(\"raw_data/Energy_Efficiency_2019.xlsx\", \n",
    "                              header = [0,1,2])\n",
    "demand_response_19 = pd.read_excel(\"raw_data/Demand_Response_2019.xlsx\", \n",
    "                              header = [0,1,2])\n",
    "territory_19 = pd.read_excel(\"raw_data/Service_Territory_2019.xlsx\")\n",
    "utility_19 = pd.read_excel(\"raw_data/Sales_Ult_Cust_2019.xlsx\", \n",
    "                                header = [0,1,2])\n",
    "circuits_19 = pd.read_excel(\"raw_data/Distribution_Systems_2019.xlsx\")\n",
    "op_19 = pd.read_excel(\"raw_data/Operational_data_2019.xlsx\", \n",
    "                                header = [0,1,2])"
   ]
  },
  {
   "cell_type": "code",
   "execution_count": 3,
   "metadata": {},
   "outputs": [],
   "source": [
    "# Combine the headers together to describe each column\n",
    "net_metering_19.columns = net_metering_19.columns.map(' - '.join)\n",
    "efficiency_19.columns = efficiency_19.columns.map(' - '.join)\n",
    "demand_response_19.columns = demand_response_19.columns.map(' - '.join)\n",
    "utility_19.columns = utility_19.columns.map(' - '.join)\n",
    "op_19.columns = op_19.columns.map(' - '.join)"
   ]
  },
  {
   "cell_type": "code",
   "execution_count": 4,
   "metadata": {},
   "outputs": [],
   "source": [
    "# only grab the columns I want from each dataframe\n",
    "reliability_19 = reliability_19[['Data Year',\n",
    "                                 'Utility Number',\n",
    "              'Utility Name', \n",
    "              'State', # control\n",
    "              'Ownership', # control \n",
    "              'SAIDI Without MED',\n",
    "              'SAIFI Without MED', \n",
    "              'CAIDI Without MED']].dropna()\n",
    "reliability_19.columns = ['year','no', 'name', 'state','type','saidi_nomed', 'saifi_nomed', 'caidi_nomed']"
   ]
  },
  {
   "cell_type": "code",
   "execution_count": 5,
   "metadata": {},
   "outputs": [],
   "source": [
    "op_19 = op_19[['Utility Characteristics - Unnamed: 0_level_1 - Data Year',\n",
    "               'Utility Characteristics - Unnamed: 2_level_1 - Utility Name',\n",
    "              'Utility Characteristics - Unnamed: 6_level_1 - NERC Region', \n",
    "              'Utility Characteristics - Unnamed: 4_level_1 - State',\n",
    "              'Energy Sources (Megawatthours) - Unnamed: 9_level_1 - Net Generation',\n",
    "              'Energy Sources (Megawatthours) - Unnamed: 10_level_1 - Wholesale Power Purchases' \n",
    "              ]].dropna()\n",
    "op_19.columns = ['year','name','nerc','state','gen_mwh','purchase_mwh']"
   ]
  },
  {
   "cell_type": "code",
   "execution_count": 6,
   "metadata": {},
   "outputs": [],
   "source": [
    "net_metering_19 = net_metering_19[['Utility Characteristics - Unnamed: 0_level_1 - Year',\n",
    "                                   'Utility Characteristics - Unnamed: 3_level_1 - Utility Name',\n",
    "                                   'Utility Characteristics - Unnamed: 1_level_1 - State',\n",
    "                                   'Utility Characteristics - Unnamed: 5_level_1 - BA Code',\n",
    "                'Photovoltaic - Energy Sold Back MWh - Total',\n",
    "                'Wind - Energy Sold Back MWh - Total',\n",
    "                'All Technologies - Energy Sold Back MWh - Total',\n",
    "                ]].dropna()\n",
    "net_metering_19.columns = ['year','name', 'state', 'ba','pv_mwh', 'wind_mwh', 'nm_mwh']"
   ]
  },
  {
   "cell_type": "code",
   "execution_count": 7,
   "metadata": {},
   "outputs": [],
   "source": [
    "efficiency_19 = efficiency_19[['Utility Characteristics - Unnamed: 0_level_1 - Data Year',\n",
    "                               'Utility Characteristics - Unnamed: 2_level_1 - Utility Name',\n",
    "                               'Utility Characteristics - Unnamed: 4_level_1 - State',\n",
    "                  'Reporting Year Incremental Annual Savings - Energy Savings (MWh) - Total']].dropna()\n",
    "efficiency_19.columns = ['year','name','state','ee_mwh']"
   ]
  },
  {
   "cell_type": "code",
   "execution_count": 8,
   "metadata": {},
   "outputs": [],
   "source": [
    "demand_response_19 = demand_response_19[['Utility Characteristics - Unnamed: 0_level_1 - Data Year',\n",
    "                                         'Utility Characteristics - Unnamed: 2_level_1 - Utility Name',\n",
    "                                         'Utility Characteristics - Unnamed: 4_level_1 - State',\n",
    "                    'Yearly Energy and Demand Savings - Number of Customers Enrolled - Total',\n",
    "                    'Yearly Energy and Demand Savings - Energy Savings (MWh) - Total']].dropna()\n",
    "demand_response_19.columns = ['year','name', 'state','dem_res_customers', 'dem_res_mwh']"
   ]
  },
  {
   "cell_type": "code",
   "execution_count": 9,
   "metadata": {},
   "outputs": [],
   "source": [
    "territory_19 = territory_19[['Data Year',\n",
    "                             'Utility Name',\n",
    "             'State',\n",
    "             'County']]\n",
    "territory_19.columns = ['year','name', 'state', 'county']"
   ]
  },
  {
   "cell_type": "code",
   "execution_count": 10,
   "metadata": {},
   "outputs": [],
   "source": [
    "utility_19 = utility_19[['Utility Characteristics - Unnamed: 0_level_1 - Data Year',\n",
    "                         'Utility Characteristics - Unnamed: 2_level_1 - Utility Name',\n",
    "                         'Utility Characteristics - Unnamed: 6_level_1 - State',\n",
    "                         'TOTAL - Sales - Megawatthours',\n",
    "                         'TOTAL - Customers - Count']].dropna()\n",
    "utility_19.columns = ['year','name', 'state','total_mwh','total_cust']"
   ]
  },
  {
   "cell_type": "code",
   "execution_count": 11,
   "metadata": {},
   "outputs": [],
   "source": [
    "circuits_19 = circuits_19[['Data Year',\n",
    "                           'Utility Name',\n",
    "                           'State',\n",
    "                           'Distribution Circuits',\n",
    "                         'Circuits with Voltage Optimization']]\n",
    "circuits_19.columns = ['year','name', 'state','circuits', 'voltage']"
   ]
  },
  {
   "cell_type": "markdown",
   "metadata": {},
   "source": [
    "## 2018"
   ]
  },
  {
   "cell_type": "code",
   "execution_count": 12,
   "metadata": {},
   "outputs": [],
   "source": [
    "# import 2018 reliability, net metering, energy efficiency, advanced metering infrastructure, demand response, and service territory raw_data\n",
    "reliability_18 = pd.read_excel(\"raw_data/Reliability_2018.xlsx\", \n",
    "                               header = 1)\n",
    "net_metering_18 = pd.read_excel(\"raw_data/Net_Metering_2018.xlsx\", \n",
    "                                header = [0,1,2])\n",
    "efficiency_18 = pd.read_excel(\"raw_data/Energy_Efficiency_2018.xlsx\", \n",
    "                              header = [0,1,2])\n",
    "demand_response_18 = pd.read_excel(\"raw_data/Demand_Response_2018.xlsx\", \n",
    "                              header = [0,1,2])\n",
    "territory_18 = pd.read_excel(\"raw_data/Service_Territory_2018.xlsx\")\n",
    "utility_18 = pd.read_excel(\"raw_data/Sales_Ult_Cust_2018.xlsx\", \n",
    "                                header = [0,1,2])\n",
    "circuits_18 = pd.read_excel(\"raw_data/Distribution_Systems_2018.xlsx\")\n",
    "op_18 = pd.read_excel(\"raw_data/Operational_data_2018.xlsx\", \n",
    "                                header = [0,1,2])"
   ]
  },
  {
   "cell_type": "code",
   "execution_count": 13,
   "metadata": {},
   "outputs": [],
   "source": [
    "# Combine the headers together to describe each column\n",
    "net_metering_18.columns = net_metering_18.columns.map(' - '.join)\n",
    "efficiency_18.columns = efficiency_18.columns.map(' - '.join)\n",
    "demand_response_18.columns = demand_response_18.columns.map(' - '.join)\n",
    "utility_18.columns = utility_18.columns.map(' - '.join)\n",
    "op_18.columns = op_18.columns.map(' - '.join)"
   ]
  },
  {
   "cell_type": "code",
   "execution_count": 14,
   "metadata": {},
   "outputs": [],
   "source": [
    "# only grab the columns I want from each dataframe\n",
    "reliability_18 = reliability_18[['Data Year',\n",
    "                                 'Utility Number',\n",
    "              'Utility Name', \n",
    "              'State', # control\n",
    "              'Ownership', # control \n",
    "              'SAIDI Without MED',\n",
    "              'SAIFI Without MED', \n",
    "              'CAIDI Without MED']].dropna()\n",
    "reliability_18.columns = ['year','no', 'name', 'state','type','saidi_nomed', 'saifi_nomed', 'caidi_nomed']"
   ]
  },
  {
   "cell_type": "code",
   "execution_count": 15,
   "metadata": {},
   "outputs": [],
   "source": [
    "op_18 = op_18[['Utility Characteristics - Unnamed: 0_level_1 - Data Year',\n",
    "               'Utility Characteristics - Unnamed: 2_level_1 - Utility Name',\n",
    "              'Utility Characteristics - Unnamed: 5_level_1 - NERC Region', \n",
    "              'Utility Characteristics - Unnamed: 3_level_1 - State',\n",
    "              'Energy Sources (Megawatthours) - Unnamed: 8_level_1 - Net Generation',\n",
    "              'Energy Sources (Megawatthours) - Unnamed: 9_level_1 - Wholesale Power Purchases' \n",
    "              ]].dropna()\n",
    "op_18.columns = ['year','name','nerc','state','gen_mwh','purchase_mwh']"
   ]
  },
  {
   "cell_type": "code",
   "execution_count": 16,
   "metadata": {},
   "outputs": [],
   "source": [
    "net_metering_18 = net_metering_18[['Utility Characteristics - Unnamed: 0_level_1 - Year',\n",
    "                                   'Utility Characteristics - Unnamed: 3_level_1 - Utility Name',\n",
    "                                   'Utility Characteristics - Unnamed: 1_level_1 - State',\n",
    "                                   'Utility Characteristics - Unnamed: 4_level_1 - BA Code',\n",
    "                'Photovoltaic - Energy Sold Back MWh - Total',\n",
    "                'Wind - Energy Sold Back MWh - Total',\n",
    "                'All Technologies - Energy Sold Back MWh - Total',\n",
    "                ]].dropna()\n",
    "net_metering_18.columns = ['year','name', 'state', 'ba','pv_mwh', 'wind_mwh', 'nm_mwh']"
   ]
  },
  {
   "cell_type": "code",
   "execution_count": 17,
   "metadata": {},
   "outputs": [],
   "source": [
    "efficiency_18 = efficiency_18[['Utility Characteristics - Unnamed: 0_level_1 - Data Year',\n",
    "                               'Utility Characteristics - Unnamed: 2_level_1 - Utility Name',\n",
    "                               'Utility Characteristics - Unnamed: 3_level_1 - State',\n",
    "                  'Reporting Year Incremental Annual Savings - Energy Savings (MWh) - Total']].dropna()\n",
    "efficiency_18.columns = ['year','name','state','ee_mwh']"
   ]
  },
  {
   "cell_type": "code",
   "execution_count": 18,
   "metadata": {},
   "outputs": [],
   "source": [
    "demand_response_18 = demand_response_18[['Utility Characteristics - Unnamed: 0_level_1 - Data Year',\n",
    "                                         'Utility Characteristics - Unnamed: 2_level_1 - Utility Name',\n",
    "                                         'Utility Characteristics - Unnamed: 3_level_1 - State',\n",
    "                    'Yearly Energy and Demand Savings - Number of Customers Enrolled - Total',\n",
    "                    'Yearly Energy and Demand Savings - Energy Savings (MWh) - Total']].dropna()\n",
    "demand_response_18.columns = ['year','name', 'state','dem_res_customers', 'dem_res_mwh']"
   ]
  },
  {
   "cell_type": "code",
   "execution_count": 19,
   "metadata": {},
   "outputs": [],
   "source": [
    "territory_18 = territory_18[['Data Year',\n",
    "                             'Utility Name',\n",
    "             'State',\n",
    "             'County']]\n",
    "territory_18.columns = ['year','name', 'state', 'county']"
   ]
  },
  {
   "cell_type": "code",
   "execution_count": 20,
   "metadata": {},
   "outputs": [],
   "source": [
    "utility_18 = utility_18[['Utility Characteristics - Unnamed: 0_level_1 - Data Year',\n",
    "                         'Utility Characteristics - Unnamed: 2_level_1 - Utility Name',\n",
    "                         'Utility Characteristics - Unnamed: 6_level_1 - State',\n",
    "                         'TOTAL - Sales - Megawatthours',\n",
    "                         'TOTAL - Customers - Count']].dropna()\n",
    "utility_18.columns = ['year','name', 'state','total_mwh','total_cust']"
   ]
  },
  {
   "cell_type": "code",
   "execution_count": 21,
   "metadata": {},
   "outputs": [],
   "source": [
    "circuits_18 = circuits_18[['Data Year',\n",
    "                           'Utility Name',\n",
    "                           'State',\n",
    "                           'Distribution Circuits',\n",
    "                         'Circuits with Voltage Optimization']]\n",
    "circuits_18.columns = ['year','name', 'state','circuits', 'voltage']"
   ]
  },
  {
   "cell_type": "markdown",
   "metadata": {},
   "source": [
    "## 2017"
   ]
  },
  {
   "cell_type": "code",
   "execution_count": 22,
   "metadata": {},
   "outputs": [],
   "source": [
    "# import 2017 reliability, net metering, energy efficiency, advanced metering infrastructure, demand response, and service territory raw_data\n",
    "reliability_17 = pd.read_excel(\"raw_data/Reliability_2017.xlsx\", \n",
    "                               header = 1)\n",
    "net_metering_17 = pd.read_excel(\"raw_data/Net_Metering_2017.xlsx\", \n",
    "                                header = [0,1,2])\n",
    "efficiency_17 = pd.read_excel(\"raw_data/Energy_Efficiency_2017.xlsx\", \n",
    "                              header = [0,1,2])\n",
    "demand_response_17 = pd.read_excel(\"raw_data/Demand_Response_2017.xlsx\", \n",
    "                              header = [0,1,2])\n",
    "territory_17 = pd.read_excel(\"raw_data/Service_Territory_2017.xlsx\")\n",
    "utility_17 = pd.read_excel(\"raw_data/Sales_Ult_Cust_2017.xlsx\", \n",
    "                                header = [0,1,2])\n",
    "circuits_17 = pd.read_excel(\"raw_data/Distribution_Systems_2017.xlsx\")\n",
    "op_17 = pd.read_excel(\"raw_data/Operational_data_2017.xlsx\", \n",
    "                                header = [0,1,2])"
   ]
  },
  {
   "cell_type": "code",
   "execution_count": 23,
   "metadata": {},
   "outputs": [],
   "source": [
    "# Combine the headers together to describe each column\n",
    "net_metering_17.columns = net_metering_17.columns.map(' - '.join)\n",
    "efficiency_17.columns = efficiency_17.columns.map(' - '.join)\n",
    "demand_response_17.columns = demand_response_17.columns.map(' - '.join)\n",
    "utility_17.columns = utility_17.columns.map(' - '.join)\n",
    "op_17.columns = op_17.columns.map(' - '.join)"
   ]
  },
  {
   "cell_type": "code",
   "execution_count": 24,
   "metadata": {},
   "outputs": [],
   "source": [
    "# only grab the columns I want from each dataframe\n",
    "reliability_17 = reliability_17[['Data Year',\n",
    "                                 'Utility Number',\n",
    "              'Utility Name', \n",
    "              'State', # control\n",
    "              'Ownership', # control \n",
    "              'SAIDI Without MED',\n",
    "              'SAIFI Without MED', \n",
    "              'CAIDI Without MED']].dropna()\n",
    "reliability_17.columns = ['year','no', 'name', 'state','type','saidi_nomed', 'saifi_nomed', 'caidi_nomed']"
   ]
  },
  {
   "cell_type": "code",
   "execution_count": 25,
   "metadata": {},
   "outputs": [],
   "source": [
    "op_17 = op_17[['Utility Characteristics - Unnamed: 0_level_1 - Data Year',\n",
    "               'Utility Characteristics - Unnamed: 2_level_1 - Utility Name',\n",
    "              'Utility Characteristics - Unnamed: 5_level_1 - NERC Region', \n",
    "              'Utility Characteristics - Unnamed: 3_level_1 - State',\n",
    "              'Energy Sources (Megawatthours) - Unnamed: 8_level_1 - Net Generation',\n",
    "              'Energy Sources (Megawatthours) - Unnamed: 9_level_1 - Wholesale Power Purchases' \n",
    "              ]].dropna()\n",
    "op_17.columns = ['year','name','nerc','state','gen_mwh','purchase_mwh']"
   ]
  },
  {
   "cell_type": "code",
   "execution_count": 26,
   "metadata": {},
   "outputs": [],
   "source": [
    "net_metering_17 = net_metering_17[['Utility Characteristics - Unnamed: 0_level_1 - Year',\n",
    "                                   'Utility Characteristics - Unnamed: 3_level_1 - Utility Name',\n",
    "                                   'Utility Characteristics - Unnamed: 1_level_1 - State',\n",
    "                                   'Utility Characteristics - Unnamed: 4_level_1 - BA Code',\n",
    "                'Photovoltaic - Energy Sold Back MWh - Total',\n",
    "                'Wind - Energy Sold Back MWh - Total',\n",
    "                'All Technologies - Energy Sold Back MWh - Total',\n",
    "                ]].dropna()\n",
    "net_metering_17.columns = ['year','name', 'state', 'ba','pv_mwh', 'wind_mwh', 'nm_mwh']"
   ]
  },
  {
   "cell_type": "code",
   "execution_count": 27,
   "metadata": {},
   "outputs": [],
   "source": [
    "efficiency_17 = efficiency_17[['Utility Characteristics - Unnamed: 0_level_1 - Data Year',\n",
    "                               'Utility Characteristics - Unnamed: 2_level_1 - Utility Name',\n",
    "                               'Utility Characteristics - Unnamed: 3_level_1 - State',\n",
    "                  'Reporting Year Incremental Annual Savings - Energy Savings (MWh) - Total']].dropna()\n",
    "efficiency_17.columns = ['year','name','state','ee_mwh']"
   ]
  },
  {
   "cell_type": "code",
   "execution_count": 28,
   "metadata": {},
   "outputs": [],
   "source": [
    "demand_response_17 = demand_response_17[['Utility Characteristics - Unnamed: 0_level_1 - Data Year',\n",
    "                                         'Utility Characteristics - Unnamed: 2_level_1 - Utility Name',\n",
    "                                         'Utility Characteristics - Unnamed: 3_level_1 - State',\n",
    "                    'Yearly Energy and Demand Savings - Number of Customers Enrolled - Total',\n",
    "                    'Yearly Energy and Demand Savings - Energy Savings (MWh) - Total']].dropna()\n",
    "demand_response_17.columns = ['year','name', 'state','dem_res_customers', 'dem_res_mwh']"
   ]
  },
  {
   "cell_type": "code",
   "execution_count": 29,
   "metadata": {},
   "outputs": [],
   "source": [
    "territory_17 = territory_17[['Data Year',\n",
    "                             'Utility Name',\n",
    "             'State',\n",
    "             'County']]\n",
    "territory_17.columns = ['year','name', 'state', 'county']"
   ]
  },
  {
   "cell_type": "code",
   "execution_count": 30,
   "metadata": {},
   "outputs": [],
   "source": [
    "utility_17 = utility_17[['Utility Characteristics - Unnamed: 0_level_1 - Data Year',\n",
    "                         'Utility Characteristics - Unnamed: 2_level_1 - Utility Name',\n",
    "                         'Utility Characteristics - Unnamed: 6_level_1 - State',\n",
    "                         'TOTAL - Sales - Megawatthours',\n",
    "                         'TOTAL - Customers - Count']].dropna()\n",
    "utility_17.columns = ['year','name', 'state','total_mwh','total_cust']"
   ]
  },
  {
   "cell_type": "code",
   "execution_count": 31,
   "metadata": {},
   "outputs": [],
   "source": [
    "circuits_17 = circuits_17[['Data Year',\n",
    "                           'Utility Name',\n",
    "                           'State',\n",
    "                           'Distribution Circuits',\n",
    "                         'Circuits with Voltage Optimization']]\n",
    "circuits_17.columns = ['year','name', 'state','circuits', 'voltage']"
   ]
  },
  {
   "cell_type": "markdown",
   "metadata": {},
   "source": [
    "## 2016"
   ]
  },
  {
   "cell_type": "code",
   "execution_count": 32,
   "metadata": {},
   "outputs": [],
   "source": [
    "# import 2016 reliability, net metering, energy efficiency, advanced metering infrastructure, demand response, and service territory raw_data\n",
    "reliability_16 = pd.read_excel(\"raw_data/Reliability_2016.xlsx\", \n",
    "                               header = 1)\n",
    "net_metering_16 = pd.read_excel(\"raw_data/Net_Metering_2016.xlsx\", \n",
    "                                header = [0,1,2,3])\n",
    "efficiency_16 = pd.read_excel(\"raw_data/Energy_Efficiency_2016.xlsx\", \n",
    "                              header = [0,1,2])\n",
    "demand_response_16 = pd.read_excel(\"raw_data/Demand_Response_2016.xlsx\", \n",
    "                              header = [0,1,2])\n",
    "territory_16 = pd.read_excel(\"raw_data/Service_Territory_2016.xlsx\")\n",
    "utility_16 = pd.read_excel(\"raw_data/Sales_Ult_Cust_2016.xlsx\", \n",
    "                                header = [0,1,2])\n",
    "circuits_16 = pd.read_excel(\"raw_data/Distribution_Systems_2016.xlsx\")\n",
    "op_16 = pd.read_excel(\"raw_data/Operational_data_2016.xlsx\", \n",
    "                                header = [0,1,2])"
   ]
  },
  {
   "cell_type": "code",
   "execution_count": 33,
   "metadata": {},
   "outputs": [],
   "source": [
    "# Combine the headers together to describe each column\n",
    "net_metering_16.columns = net_metering_16.columns.map(' - '.join)\n",
    "efficiency_16.columns = efficiency_16.columns.map(' - '.join)\n",
    "demand_response_16.columns = demand_response_16.columns.map(' - '.join)\n",
    "utility_16.columns = utility_16.columns.map(' - '.join)\n",
    "op_16.columns = op_16.columns.map(' - '.join)"
   ]
  },
  {
   "cell_type": "code",
   "execution_count": 34,
   "metadata": {},
   "outputs": [],
   "source": [
    "# only grab the columns I want from each dataframe\n",
    "reliability_16 = reliability_16[['Data Year',\n",
    "                                 'Utility Number',\n",
    "              'Utility Name', \n",
    "              'State', # control\n",
    "              'Ownership', # control \n",
    "              'SAIDI Without MED',\n",
    "              'SAIFI Without MED', \n",
    "              'CAIDI Without MED']].dropna()\n",
    "reliability_16.columns = ['year','no', 'name', 'state','type','saidi_nomed', 'saifi_nomed', 'caidi_nomed']"
   ]
  },
  {
   "cell_type": "code",
   "execution_count": 35,
   "metadata": {},
   "outputs": [],
   "source": [
    "op_16 = op_16[['Utility Characteristics - Unnamed: 0_level_1 - Data Year',\n",
    "               'Utility Characteristics - Unnamed: 2_level_1 - Utility Name',\n",
    "              'Utility Characteristics - Unnamed: 5_level_1 - NERC Region', \n",
    "              'Utility Characteristics - Unnamed: 3_level_1 - State',\n",
    "              'Energy Sources (Megawatthours) - Unnamed: 8_level_1 - Net Generation',\n",
    "              'Energy Sources (Megawatthours) - Unnamed: 9_level_1 - Wholesale Power Purchases' \n",
    "              ]].dropna()\n",
    "op_16.columns = ['year','name','nerc','state','gen_mwh','purchase_mwh']"
   ]
  },
  {
   "cell_type": "code",
   "execution_count": 36,
   "metadata": {},
   "outputs": [],
   "source": [
    "net_metering_16 = net_metering_16[['Utility Level Data - States - Utility Characteristics - Unnamed: 0_level_2 - Year',\n",
    "                                   'Utility Level Data - States - Utility Characteristics - Unnamed: 3_level_2 - Utility Name',\n",
    "                                   'Utility Level Data - States - Utility Characteristics - Unnamed: 1_level_2 - State',\n",
    "               'Utility Level Data - States - Photovoltaic - Energy Sold Back MWh - Total',\n",
    "                'Utility Level Data - States - Wind - Energy Sold Back MWh - Total',\n",
    "                'Utility Level Data - States - All Technologies - Energy Sold Back MWh - Total',\n",
    "                ]].dropna()\n",
    "net_metering_16.columns = ['year','name', 'state','pv_mwh', 'wind_mwh', 'nm_mwh']"
   ]
  },
  {
   "cell_type": "code",
   "execution_count": 37,
   "metadata": {},
   "outputs": [],
   "source": [
    "efficiency_16 = efficiency_16[['Utility Characteristics - Unnamed: 0_level_1 - Data Year',\n",
    "                               'Utility Characteristics - Unnamed: 2_level_1 - Utility Name',\n",
    "                               'Utility Characteristics - Unnamed: 3_level_1 - State',\n",
    "                  'Reporting Year Incremental Annual Savings - Energy Savings (MWh) - Total']].dropna()\n",
    "efficiency_16.columns = ['year','name','state','ee_mwh']"
   ]
  },
  {
   "cell_type": "code",
   "execution_count": 38,
   "metadata": {},
   "outputs": [],
   "source": [
    "demand_response_16 = demand_response_16[['Utility Characteristics - Unnamed: 0_level_1 - Data Year',\n",
    "                                         'Utility Characteristics - Unnamed: 2_level_1 - Utility Name',\n",
    "                                         'Utility Characteristics - Unnamed: 3_level_1 - State',\n",
    "                    'Yearly Energy and Demand Savings - Number of Customers Enrolled - Total',\n",
    "                    'Yearly Energy and Demand Savings - Energy Savings (MWh) - Total']].dropna()\n",
    "demand_response_16.columns = ['year','name', 'state','dem_res_customers', 'dem_res_mwh']"
   ]
  },
  {
   "cell_type": "code",
   "execution_count": 39,
   "metadata": {},
   "outputs": [],
   "source": [
    "territory_16 = territory_16[['Data Year',\n",
    "                             'Utility Name',\n",
    "             'State',\n",
    "             'County']]\n",
    "territory_16.columns = ['year','name', 'state', 'county']"
   ]
  },
  {
   "cell_type": "code",
   "execution_count": 40,
   "metadata": {},
   "outputs": [],
   "source": [
    "utility_16 = utility_16[['Utility Characteristics - Unnamed: 0_level_1 - Data Year',\n",
    "                         'Utility Characteristics - Unnamed: 2_level_1 - Utility Name',\n",
    "                         'Utility Characteristics - Unnamed: 6_level_1 - State',\n",
    "                         'TOTAL - Sales - Megawatthours',\n",
    "                         'TOTAL - Customers - Count']].dropna()\n",
    "utility_16.columns = ['year','name', 'state','total_mwh','total_cust']"
   ]
  },
  {
   "cell_type": "code",
   "execution_count": 41,
   "metadata": {},
   "outputs": [],
   "source": [
    "circuits_16 = circuits_16[['Data Year',\n",
    "                           'Utility Name',\n",
    "                           'State',\n",
    "                           'Distribution Circuits',\n",
    "                         'Circuits with Voltage Optimization']]\n",
    "circuits_16.columns = ['year','name', 'state','circuits', 'voltage']"
   ]
  },
  {
   "cell_type": "markdown",
   "metadata": {},
   "source": [
    "## 2015"
   ]
  },
  {
   "cell_type": "code",
   "execution_count": 42,
   "metadata": {},
   "outputs": [],
   "source": [
    "# import 2015 reliability, net metering, energy efficiency, advanced metering infrastructure, demand response, and service territory raw_data\n",
    "reliability_15 = pd.read_excel(\"raw_data/Reliability_2015.xlsx\", \n",
    "                               header = 1)\n",
    "net_metering_15 = pd.read_excel(\"raw_data/Net_Metering_2015.xlsx\", \n",
    "                                header = [0,1,2])\n",
    "efficiency_15 = pd.read_excel(\"raw_data/Energy_Efficiency_2015.xlsx\", \n",
    "                              header = [0,1,2])\n",
    "demand_response_15 = pd.read_excel(\"raw_data/Demand_Response_2015.xlsx\", \n",
    "                              header = [0,1,2])\n",
    "territory_15 = pd.read_excel(\"raw_data/Service_Territory_2015.xlsx\")\n",
    "utility_15 = pd.read_excel(\"raw_data/Sales_Ult_Cust_2015.xlsx\", \n",
    "                                header = [0,1,2])\n",
    "circuits_15 = pd.read_excel(\"raw_data/Distribution_Systems_2015.xlsx\")\n",
    "op_15 = pd.read_excel(\"raw_data/Operational_data_2015.xlsx\", \n",
    "                                header = [0,1,2])"
   ]
  },
  {
   "cell_type": "code",
   "execution_count": 43,
   "metadata": {},
   "outputs": [],
   "source": [
    "# Combine the headers together to describe each column\n",
    "net_metering_15.columns = net_metering_15.columns.map(' - '.join)\n",
    "efficiency_15.columns = efficiency_15.columns.map(' - '.join)\n",
    "demand_response_15.columns = demand_response_15.columns.map(' - '.join)\n",
    "utility_15.columns = utility_15.columns.map(' - '.join)\n",
    "op_15.columns = op_15.columns.map(' - '.join)"
   ]
  },
  {
   "cell_type": "code",
   "execution_count": 44,
   "metadata": {},
   "outputs": [],
   "source": [
    "# only grab the columns I want from each dataframe\n",
    "reliability_15 = reliability_15[['Data Year',\n",
    "                                 'Utility Number',\n",
    "              'Utility Name', \n",
    "              'State', # control\n",
    "              'Ownership', # control \n",
    "              'SAIDI Without MED',\n",
    "              'SAIFI Without MED', \n",
    "              'CAIDI Without MED']].dropna()\n",
    "reliability_15.columns = ['year','no', 'name', 'state','type','saidi_nomed', 'saifi_nomed', 'caidi_nomed']"
   ]
  },
  {
   "cell_type": "code",
   "execution_count": 45,
   "metadata": {},
   "outputs": [],
   "source": [
    "op_15 = op_15[['Utility Characteristics - Unnamed: 0_level_1 - Data Year',\n",
    "               'Utility Characteristics - Unnamed: 2_level_1 - Utility Name',\n",
    "              'Utility Characteristics - Unnamed: 5_level_1 - NERC Region', \n",
    "              'Utility Characteristics - Unnamed: 3_level_1 - State',\n",
    "              'Energy Sources (Megawatthours) - Unnamed: 8_level_1 - Net Generation',\n",
    "              'Energy Sources (Megawatthours) - Unnamed: 9_level_1 - Wholesale Power Purchases' \n",
    "              ]].dropna()\n",
    "op_15.columns = ['year','name','nerc','state','gen_mwh','purchase_mwh']"
   ]
  },
  {
   "cell_type": "code",
   "execution_count": 46,
   "metadata": {},
   "outputs": [],
   "source": [
    "net_metering_15 = net_metering_15[['Utility Characteristics - Unnamed: 0_level_1 - Data Year',\n",
    "                                   'Utility Characteristics - Unnamed: 2_level_1 - Utility Name',\n",
    "                                   'Utility Characteristics - Unnamed: 3_level_1 - State',\n",
    "                                   'Photovoltaic - Energy Sold Back MWh - Total',\n",
    "                'Wind - Energy Sold Back MWh - Total',\n",
    "                'Total - Energy Sold Back MWh - Total',\n",
    "                ]].dropna()\n",
    "net_metering_15.columns = ['year','name', 'state','pv_mwh', 'wind_mwh', 'nm_mwh']"
   ]
  },
  {
   "cell_type": "code",
   "execution_count": 47,
   "metadata": {},
   "outputs": [],
   "source": [
    "efficiency_15 = efficiency_15[['Utility Characteristics - Unnamed: 0_level_1 - Data Year',\n",
    "                               'Utility Characteristics - Unnamed: 2_level_1 - Utility Name',\n",
    "                               'Utility Characteristics - Unnamed: 3_level_1 - State',\n",
    "                  'Reporting Year Incremental Annual Savings - Energy Savings (MWh) - Total']].dropna()\n",
    "efficiency_15.columns = ['year','name','state','ee_mwh']"
   ]
  },
  {
   "cell_type": "code",
   "execution_count": 48,
   "metadata": {},
   "outputs": [],
   "source": [
    "demand_response_15 = demand_response_15[['Utility Characteristics - Unnamed: 0_level_1 - Data Year',\n",
    "                                         'Utility Characteristics - Unnamed: 2_level_1 - Utility Name',\n",
    "                                         'Utility Characteristics - Unnamed: 3_level_1 - State',\n",
    "                    'Yearly Energy and Demand Savings - Number of Customers Enrolled - Total',\n",
    "                    'Yearly Energy and Demand Savings - Energy Savings (MWh) - Total']].dropna()\n",
    "demand_response_15.columns = ['year','name', 'state','dem_res_customers', 'dem_res_mwh']"
   ]
  },
  {
   "cell_type": "code",
   "execution_count": 49,
   "metadata": {},
   "outputs": [],
   "source": [
    "territory_15 = territory_15[['Data Year',\n",
    "                             'Utility Name',\n",
    "             'State',\n",
    "             'County']]\n",
    "territory_15.columns = ['year','name', 'state', 'county']"
   ]
  },
  {
   "cell_type": "code",
   "execution_count": 50,
   "metadata": {},
   "outputs": [],
   "source": [
    "utility_15 = utility_15[['Utility Characteristics - Unnamed: 0_level_1 - Data Year',\n",
    "                         'Utility Characteristics - Unnamed: 2_level_1 - Utility Name',\n",
    "                         'Utility Characteristics - Unnamed: 6_level_1 - State',\n",
    "                         'TOTAL - Sales - Megawatthours',\n",
    "                         'TOTAL - Customers - Count']].dropna()\n",
    "utility_15.columns = ['year','name', 'state','total_mwh','total_cust']"
   ]
  },
  {
   "cell_type": "code",
   "execution_count": 51,
   "metadata": {},
   "outputs": [],
   "source": [
    "circuits_15 = circuits_15[['Data Year',\n",
    "                           'Utility Name',\n",
    "                           'State',\n",
    "                           'Distribution Circuits',\n",
    "                         'Circuits with Voltage Optimization']]\n",
    "circuits_15.columns = ['year','name', 'state','circuits', 'voltage']"
   ]
  },
  {
   "cell_type": "markdown",
   "metadata": {},
   "source": [
    "## 2014"
   ]
  },
  {
   "cell_type": "code",
   "execution_count": 52,
   "metadata": {},
   "outputs": [],
   "source": [
    "# import 2014 reliability, net metering, energy efficiency, advanced metering infrastructure, demand response, and service territory raw_data\n",
    "reliability_14 = pd.read_excel(\"raw_data/Reliability_2014.xlsx\", \n",
    "                               header = 1)\n",
    "net_metering_14 = pd.read_excel(\"raw_data/Net_Metering_2014.xls\", \n",
    "                                header = [0,1,2])\n",
    "efficiency_14 = pd.read_excel(\"raw_data/Energy_Efficiency_2014.xlsx\", \n",
    "                              header = [0,1,2])\n",
    "demand_response_14 = pd.read_excel(\"raw_data/Demand_Response_2014.xls\", \n",
    "                              header = [0,1,2])\n",
    "territory_14 = pd.read_excel(\"raw_data/Service_Territory_2014.xls\")\n",
    "utility_14 = pd.read_excel(\"raw_data/Sales_Ult_Cust_2014.xls\", \n",
    "                                header = [0,1,2])\n",
    "circuits_14 = pd.read_excel(\"raw_data/Distribution_Systems_2014.xls\")\n",
    "op_14 = pd.read_excel(\"raw_data/Operational_data_2014.xlsx\", \n",
    "                                header = [0,1,2])"
   ]
  },
  {
   "cell_type": "code",
   "execution_count": 53,
   "metadata": {},
   "outputs": [],
   "source": [
    "# Combine the headers together to describe each column\n",
    "net_metering_14.columns = net_metering_14.columns.map(' - '.join)\n",
    "efficiency_14.columns = efficiency_14.columns.map(' - '.join)\n",
    "demand_response_14.columns = demand_response_14.columns.map(' - '.join)\n",
    "utility_14.columns = utility_14.columns.map(' - '.join)\n",
    "op_14.columns = op_14.columns.map(' - '.join)"
   ]
  },
  {
   "cell_type": "code",
   "execution_count": 54,
   "metadata": {},
   "outputs": [],
   "source": [
    "# only grab the columns I want from each dataframe\n",
    "reliability_14 = reliability_14[['Data Year',\n",
    "                                 'Utility Number',\n",
    "              'Utility Name', \n",
    "              'State', # control\n",
    "              'Ownership', # control \n",
    "              'SAIDI Without MED',\n",
    "              'SAIFI Without MED', \n",
    "              'CAIDI Without MED']].dropna()\n",
    "reliability_14.columns = ['year','no', 'name', 'state','type','saidi_nomed', 'saifi_nomed', 'caidi_nomed']"
   ]
  },
  {
   "cell_type": "code",
   "execution_count": 55,
   "metadata": {},
   "outputs": [],
   "source": [
    "op_14 = op_14[['Utility Characteristics - Unnamed: 0_level_1 - Data Year',\n",
    "               'Utility Characteristics - Unnamed: 2_level_1 - Utility Name',\n",
    "              'Utility Characteristics - Unnamed: 5_level_1 - NERC Region', \n",
    "              'Utility Characteristics - Unnamed: 3_level_1 - State',\n",
    "              'Energy Sources (Megawatthours) - Unnamed: 8_level_1 - Net Generation',\n",
    "              'Energy Sources (Megawatthours) - Unnamed: 9_level_1 - Wholesale Power Purchases' \n",
    "              ]].dropna()\n",
    "op_14.columns = ['year','name','nerc','state','gen_mwh','purchase_mwh']"
   ]
  },
  {
   "cell_type": "code",
   "execution_count": 56,
   "metadata": {},
   "outputs": [],
   "source": [
    "net_metering_14 = net_metering_14[['Utility Characteristics - Unnamed: 0_level_1 - Data Year',\n",
    "                                   'Utility Characteristics - Unnamed: 2_level_1 - Utility Name',\n",
    "                                   'Utility Characteristics - Unnamed: 3_level_1 - State',\n",
    "                                   'Photovoltaic - Energy Sold Back MWh - Total',\n",
    "                'Wind - Energy Sold Back MWh - Total',\n",
    "                'Total - Energy Sold Back MWh - Total',\n",
    "                ]].dropna()\n",
    "net_metering_14.columns = ['year','name', 'state','pv_mwh', 'wind_mwh', 'nm_mwh']"
   ]
  },
  {
   "cell_type": "code",
   "execution_count": 57,
   "metadata": {},
   "outputs": [],
   "source": [
    "efficiency_14 = efficiency_14[['Utility Characteristics - Unnamed: 0_level_1 - Data Year',\n",
    "                               'Utility Characteristics - Unnamed: 2_level_1 - Utility Name',\n",
    "                               'Utility Characteristics - Unnamed: 3_level_1 - State',\n",
    "                  'Reporting Year Incremental Annual Savings - Energy Savings (MWh) - Total']].dropna()\n",
    "efficiency_14.columns = ['year','name','state','ee_mwh']"
   ]
  },
  {
   "cell_type": "code",
   "execution_count": 58,
   "metadata": {},
   "outputs": [],
   "source": [
    "demand_response_14 = demand_response_14[['Utility Characteristics - Unnamed: 0_level_1 - Data Year',\n",
    "                                         'Utility Characteristics - Unnamed: 2_level_1 - Utility Name',\n",
    "                                         'Utility Characteristics - Unnamed: 3_level_1 - State',\n",
    "                    'Yearly Energy and Demand Savings - Number of Customers Enrolled - Total',\n",
    "                    'Yearly Energy and Demand Savings - Energy Savings (MWh) - Total']].dropna()\n",
    "demand_response_14.columns = ['year','name', 'state','dem_res_customers', 'dem_res_mwh']"
   ]
  },
  {
   "cell_type": "code",
   "execution_count": 59,
   "metadata": {},
   "outputs": [],
   "source": [
    "territory_14 = territory_14[['Data Year',\n",
    "                             'Utility Name',\n",
    "             'State',\n",
    "             'County']]\n",
    "territory_14.columns = ['year','name', 'state', 'county']"
   ]
  },
  {
   "cell_type": "code",
   "execution_count": 60,
   "metadata": {},
   "outputs": [],
   "source": [
    "utility_14 = utility_14[['Utility Characteristics - Unnamed: 0_level_1 - Data Year',\n",
    "                         'Utility Characteristics - Unnamed: 2_level_1 - Utility Name',\n",
    "                         'Utility Characteristics - Unnamed: 6_level_1 - State',\n",
    "                         'TOTAL - Sales - Megawatthours',\n",
    "                         'TOTAL - Customers - Count']].dropna()\n",
    "utility_14.columns = ['year','name', 'state','total_mwh','total_cust']"
   ]
  },
  {
   "cell_type": "code",
   "execution_count": 61,
   "metadata": {},
   "outputs": [],
   "source": [
    "circuits_14 = circuits_14[['Data Year',\n",
    "                           'Utility Name',\n",
    "                           'State',\n",
    "                           'Distribution Circuits',\n",
    "                         'Circuits with Voltage Optimization']]\n",
    "circuits_14.columns = ['year','name', 'state','circuits', 'voltage']"
   ]
  },
  {
   "cell_type": "markdown",
   "metadata": {},
   "source": [
    "## 2013"
   ]
  },
  {
   "cell_type": "code",
   "execution_count": 62,
   "metadata": {},
   "outputs": [],
   "source": [
    "# import 2013 reliability, net metering, energy efficiency, advanced metering infrastructure, demand response, and service territory raw_data\n",
    "reliability_13 = pd.read_excel(\"raw_data/Reliability_2013.xlsx\", \n",
    "                               header = 1)\n",
    "net_metering_13 = pd.read_excel(\"raw_data/Net_Metering_2013.xls\", \n",
    "                                header = [0,1,2])\n",
    "efficiency_13 = pd.read_excel(\"raw_data/Energy_Efficiency_2013.xlsx\", \n",
    "                              header = [0,1,2])\n",
    "demand_response_13 = pd.read_excel(\"raw_data/Demand_Response_2013.xls\", \n",
    "                              header = [0,1,2])\n",
    "territory_13 = pd.read_excel(\"raw_data/Service_Territory_2013.xls\")\n",
    "utility_13 = pd.read_excel(\"raw_data/Sales_Ult_Cust_2013.xls\", \n",
    "                                header = [0,1,2])\n",
    "circuits_13 = pd.read_excel(\"raw_data/Distribution_Systems_2013.xls\")\n",
    "op_13 = pd.read_excel(\"raw_data/Operational_data_2013.xlsx\", \n",
    "                                header = [0,1,2])"
   ]
  },
  {
   "cell_type": "code",
   "execution_count": 63,
   "metadata": {},
   "outputs": [],
   "source": [
    "# Combine the headers together to describe each column\n",
    "net_metering_13.columns = net_metering_13.columns.map(' - '.join)\n",
    "efficiency_13.columns = efficiency_13.columns.map(' - '.join)\n",
    "demand_response_13.columns = demand_response_13.columns.map(' - '.join)\n",
    "utility_13.columns = utility_13.columns.map(' - '.join)\n",
    "op_13.columns = op_13.columns.map(' - '.join)"
   ]
  },
  {
   "cell_type": "code",
   "execution_count": 64,
   "metadata": {},
   "outputs": [],
   "source": [
    "# only grab the columns I want from each dataframe\n",
    "reliability_13 = reliability_13[['Data Year',\n",
    "                                 'Utility Number',\n",
    "              'Utility Name', \n",
    "              'State', # control\n",
    "              'Ownership', # control \n",
    "              'SAIDI Without MED',\n",
    "              'SAIFI Without MED', \n",
    "              'CAIDI Without MED']].dropna()\n",
    "reliability_13.columns = ['year','no', 'name', 'state','type','saidi_nomed', 'saifi_nomed', 'caidi_nomed']"
   ]
  },
  {
   "cell_type": "code",
   "execution_count": 65,
   "metadata": {},
   "outputs": [],
   "source": [
    "op_13 = op_13[['Utility Characteristics - Unnamed: 0_level_1 - Data Year',\n",
    "               'Utility Characteristics - Unnamed: 2_level_1 - Utility Name',\n",
    "              'Utility Characteristics - Unnamed: 5_level_1 - NERC Region', \n",
    "              'Utility Characteristics - Unnamed: 3_level_1 - State',\n",
    "              'Energy Sources (Megawatthours) - Unnamed: 8_level_1 - Net Generation',\n",
    "              'Energy Sources (Megawatthours) - Unnamed: 9_level_1 - Wholesale Power Purchases' \n",
    "              ]].dropna()\n",
    "op_13.columns = ['year','name','nerc','state','gen_mwh','purchase_mwh']"
   ]
  },
  {
   "cell_type": "code",
   "execution_count": 66,
   "metadata": {},
   "outputs": [],
   "source": [
    "net_metering_13 = net_metering_13[['Utility Characteristics - Unnamed: 0_level_1 - Data Year',\n",
    "                                   'Utility Characteristics - Unnamed: 2_level_1 - Utility Name',\n",
    "                                   'Utility Characteristics - Unnamed: 3_level_1 - State',\n",
    "                                   'Photovoltaic - Energy Sold Back MWh - Total',\n",
    "                'Wind - Energy Sold Back MWh - Total',\n",
    "                'Total - Energy Sold Back MWh - Total',\n",
    "                ]].dropna()\n",
    "net_metering_13.columns = ['year','name', 'state','pv_mwh', 'wind_mwh', 'nm_mwh']"
   ]
  },
  {
   "cell_type": "code",
   "execution_count": 67,
   "metadata": {},
   "outputs": [],
   "source": [
    "efficiency_13 = efficiency_13[['Utility Characteristics - Unnamed: 0_level_1 - Data Year',\n",
    "                               'Utility Characteristics - Unnamed: 2_level_1 - Utility Name',\n",
    "                               'Utility Characteristics - Unnamed: 3_level_1 - State',\n",
    "                  'Reporting Year Incremental Annual Savings - Energy Savings (MWh) - Total']].dropna()\n",
    "efficiency_13.columns = ['year','name','state','ee_mwh']"
   ]
  },
  {
   "cell_type": "code",
   "execution_count": 68,
   "metadata": {},
   "outputs": [],
   "source": [
    "demand_response_13 = demand_response_13[['Utility Characteristics - Unnamed: 0_level_1 - Data Year',\n",
    "                                         'Utility Characteristics - Unnamed: 2_level_1 - Utility Name',\n",
    "                                         'Utility Characteristics - Unnamed: 3_level_1 - State',\n",
    "                    'Yearly Energy and Demand Savings - Number of Customers Enrolled - Total',\n",
    "                    'Yearly Energy and Demand Savings - Energy Savings (MWh) - Total']].dropna()\n",
    "demand_response_13.columns = ['year','name', 'state','dem_res_customers', 'dem_res_mwh']"
   ]
  },
  {
   "cell_type": "code",
   "execution_count": 69,
   "metadata": {},
   "outputs": [],
   "source": [
    "territory_13 = territory_13[['Data Year',\n",
    "                             'Utility Name',\n",
    "             'State',\n",
    "             'County']]\n",
    "territory_13.columns = ['year','name', 'state', 'county']"
   ]
  },
  {
   "cell_type": "code",
   "execution_count": 70,
   "metadata": {},
   "outputs": [],
   "source": [
    "utility_13 = utility_13[['Utility Characteristics - Unnamed: 0_level_1 - Data Year',\n",
    "                         'Utility Characteristics - Unnamed: 2_level_1 - Utility Name',\n",
    "                         'Utility Characteristics - Unnamed: 6_level_1 - State',\n",
    "                         'TOTAL - Sales - Megawatthours',\n",
    "                         'TOTAL - Customers - Count']].dropna()\n",
    "utility_13.columns = ['year','name', 'state','total_mwh','total_cust']"
   ]
  },
  {
   "cell_type": "code",
   "execution_count": 71,
   "metadata": {},
   "outputs": [],
   "source": [
    "circuits_13 = circuits_13[['Data Year',\n",
    "                           'Utility Name',\n",
    "                           'State',\n",
    "                           'Distribution Circuits',\n",
    "                         'Circuits with Voltage Optimization']]\n",
    "circuits_13.columns = ['year','name', 'state','circuits', 'voltage']"
   ]
  },
  {
   "cell_type": "markdown",
   "metadata": {},
   "source": [
    "# Merge all datasets"
   ]
  },
  {
   "attachments": {
    "image.png": {
     "image/png": "[encoded data removed]"
    }
   },
   "cell_type": "markdown",
   "metadata": {},
   "source": [
    "![image.png](attachment:image.png)"
   ]
  },
  {
   "cell_type": "code",
   "execution_count": 72,
   "metadata": {
    "scrolled": true
   },
   "outputs": [
    {
     "name": "stdout",
     "output_type": "stream",
     "text": [
      "circuits_13\t circuits_14\t circuits_15\t circuits_16\t circuits_17\t circuits_18\t circuits_19\t demand_response_13\t demand_response_14\t \n",
      "demand_response_15\t demand_response_16\t demand_response_17\t demand_response_18\t demand_response_19\t efficiency_13\t efficiency_14\t efficiency_15\t efficiency_16\t \n",
      "efficiency_17\t efficiency_18\t efficiency_19\t net_metering_13\t net_metering_14\t net_metering_15\t net_metering_16\t net_metering_17\t net_metering_18\t \n",
      "net_metering_19\t op_13\t op_14\t op_15\t op_16\t op_17\t op_18\t op_19\t reliability_13\t \n",
      "reliability_14\t reliability_15\t reliability_16\t reliability_17\t reliability_18\t reliability_19\t territory_13\t territory_14\t territory_15\t \n",
      "territory_16\t territory_17\t territory_18\t territory_19\t utility_13\t utility_14\t utility_15\t utility_16\t utility_17\t \n",
      "utility_18\t utility_19\t \n"
     ]
    }
   ],
   "source": [
    "%who DataFrame"
   ]
  },
  {
   "cell_type": "code",
   "execution_count": 74,
   "metadata": {},
   "outputs": [],
   "source": [
    "# all of our datasets into onee list\n",
    "df_list = [circuits_13, circuits_14, circuits_15, circuits_16, circuits_17, circuits_18, circuits_19, demand_response_13, demand_response_14, \n",
    "demand_response_15, demand_response_16, demand_response_17, demand_response_18, demand_response_19, efficiency_13, efficiency_14, efficiency_15, efficiency_16, efficiency_17, efficiency_18, \n",
    "efficiency_19, net_metering_13, net_metering_14, net_metering_15, net_metering_16, net_metering_17, net_metering_18, net_metering_19, op_13, \n",
    "op_14, op_15, op_16, op_17, op_18, op_19, reliability_13, reliability_14, reliability_15, \n",
    "reliability_16, reliability_17, reliability_18, reliability_19, territory_13, territory_14, territory_15, territory_16, territory_17, \n",
    "territory_18, territory_19, utility_13, utility_14, utility_15, utility_16, utility_17, utility_18, utility_19,]"
   ]
  },
  {
   "cell_type": "code",
   "execution_count": 75,
   "metadata": {},
   "outputs": [],
   "source": [
    "# merge all the lists together by utility name \n",
    "df_list_19 = [utility_19, reliability_19, circuits_19, op_19, net_metering_19, efficiency_19, demand_response_19]\n",
    "df_19 = reduce(lambda left,right: pd.merge(left,right,on=['name','state','year'], how='outer'), df_list_19)"
   ]
  },
  {
   "cell_type": "code",
   "execution_count": 76,
   "metadata": {},
   "outputs": [],
   "source": [
    "df_list_18 = [utility_18, reliability_18, circuits_18, op_18, net_metering_18, efficiency_18, demand_response_18]\n",
    "df_18 = reduce(lambda left,right: pd.merge(left,right,on=['name','state','year'], how='outer'), df_list_18)"
   ]
  },
  {
   "cell_type": "code",
   "execution_count": 77,
   "metadata": {},
   "outputs": [],
   "source": [
    "df_list_17 = [utility_17, reliability_17, circuits_17, op_17, net_metering_17, efficiency_17, demand_response_17]\n",
    "df_17 = reduce(lambda left,right: pd.merge(left,right,on=['name','state','year'], how='outer'), df_list_17)"
   ]
  },
  {
   "cell_type": "code",
   "execution_count": 78,
   "metadata": {},
   "outputs": [],
   "source": [
    "df_list_16 = [utility_16, reliability_16, circuits_16, op_16, net_metering_16, efficiency_16, demand_response_16]\n",
    "df_16 = reduce(lambda left,right: pd.merge(left,right,on=['name','state','year'], how='outer'), df_list_16)"
   ]
  },
  {
   "cell_type": "code",
   "execution_count": 79,
   "metadata": {},
   "outputs": [],
   "source": [
    "df_list_15 = [utility_15, reliability_15, circuits_15, op_15, net_metering_15, efficiency_15, demand_response_15]\n",
    "df_15 = reduce(lambda left,right: pd.merge(left,right,on=['name','state','year'], how='outer'), df_list_15)"
   ]
  },
  {
   "cell_type": "code",
   "execution_count": 80,
   "metadata": {},
   "outputs": [],
   "source": [
    "df_list_14 = [utility_14, reliability_14, circuits_14, op_14, net_metering_14, efficiency_14, demand_response_14]\n",
    "df_14 = reduce(lambda left,right: pd.merge(left,right,on=['name','state','year'], how='outer'), df_list_14)"
   ]
  },
  {
   "cell_type": "code",
   "execution_count": 81,
   "metadata": {},
   "outputs": [],
   "source": [
    "df_list_13 = [utility_13, reliability_13, circuits_13, op_13, net_metering_13, efficiency_13, demand_response_13]\n",
    "df_13 = reduce(lambda left,right: pd.merge(left,right,on=['name','state','year'], how='outer'), df_list_13)"
   ]
  },
  {
   "cell_type": "markdown",
   "metadata": {},
   "source": [
    "### Join all datasets together to create large dataset with all years"
   ]
  },
  {
   "cell_type": "code",
   "execution_count": 259,
   "metadata": {},
   "outputs": [],
   "source": [
    "df = df_19.append([df_18,df_17,df_16,df_15, df_14, df_13])"
   ]
  },
  {
   "cell_type": "code",
   "execution_count": 260,
   "metadata": {},
   "outputs": [
    {
     "data": {
      "text/plain": [
       "array(['SC', 'MS', 'LA', 'MD', 'VA', 'MN', 'IL', 'WI', 'NY', 'PA', 'OH',\n",
       "       'GA', 'IA', 'IN', 'AZ', 'NV', 'AK', 'AL', 'FL', 'NC', 'CA', 'MO',\n",
       "       'ID', 'KS', 'OK', 'MI', 'NE', 'WA', 'TX', 'TN', 'KY', 'WV', 'AR',\n",
       "       'SD', 'MA', 'NH', 'OR', 'CO', 'NJ', 'NM', 'ME', 'VT', 'ND', 'WY',\n",
       "       'MT', 'UT', 'DE', 'RI', 'CT', 'DC', 'HI', 'CN'], dtype=object)"
      ]
     },
     "execution_count": 260,
     "metadata": {},
     "output_type": "execute_result"
    }
   ],
   "source": [
    "# how many states are there?\n",
    "## confusde because there is both a CT and CN - are they both Connecticut??\n",
    "df.state.unique()"
   ]
  },
  {
   "cell_type": "markdown",
   "metadata": {},
   "source": [
    "# Data cleaning"
   ]
  },
  {
   "cell_type": "code",
   "execution_count": 261,
   "metadata": {},
   "outputs": [],
   "source": [
    "# drop the duplicate rows \n",
    "df = df[~df.duplicated(['name', 'state','year'])]"
   ]
  },
  {
   "cell_type": "code",
   "execution_count": 262,
   "metadata": {},
   "outputs": [],
   "source": [
    "# drop all the entries where my outcome variable is not present (SAIDI, SAIFI and CAIDI are same – I checked)\n",
    "df = df[~df.saidi_nomed.isna()]"
   ]
  },
  {
   "cell_type": "code",
   "execution_count": 263,
   "metadata": {},
   "outputs": [],
   "source": [
    "# remove those missing total customer data and total megawatthours or nerc region\n",
    "df = df[~df.total_mwh.isna()]\n",
    "# df = df[~df.total_cust.isna()] not necessary because same missing as total mwh\n",
    "df = df[~df.nerc.isna()]"
   ]
  },
  {
   "cell_type": "code",
   "execution_count": 264,
   "metadata": {},
   "outputs": [
    {
     "data": {
      "text/plain": [
       "year                    0\n",
       "name                    0\n",
       "state                   0\n",
       "total_mwh               0\n",
       "total_cust              0\n",
       "no                      0\n",
       "type                    0\n",
       "saidi_nomed             0\n",
       "saifi_nomed             0\n",
       "caidi_nomed             0\n",
       "circuits                3\n",
       "voltage                 3\n",
       "nerc                    0\n",
       "gen_mwh                 0\n",
       "purchase_mwh            0\n",
       "ba                   4424\n",
       "pv_mwh               1868\n",
       "wind_mwh             1868\n",
       "nm_mwh               1868\n",
       "ee_mwh               4120\n",
       "dem_res_customers    4760\n",
       "dem_res_mwh          4760\n",
       "dtype: int64"
      ]
     },
     "execution_count": 264,
     "metadata": {},
     "output_type": "execute_result"
    }
   ],
   "source": [
    "df.isna().sum()"
   ]
  },
  {
   "cell_type": "code",
   "execution_count": 278,
   "metadata": {},
   "outputs": [],
   "source": [
    "df_msno=df.filter(['saidi_nomed','pv_mwh','wind_mwh', 'nm_mwh','ee_mwh','dem_res_mwh','dem_res_customers'])"
   ]
  },
  {
   "cell_type": "code",
   "execution_count": 320,
   "metadata": {},
   "outputs": [
    {
     "data": {
      "image/png": "[encoded data removed]",
      "text/plain": [
       "<Figure size 864x360 with 1 Axes>"
      ]
     },
     "metadata": {
      "needs_background": "light"
     },
     "output_type": "display_data"
    }
   ],
   "source": [
    "\n",
    "msno.matrix(df_msno, sparkline=False, figsize=(12,5), fontsize=10)\n",
    "plt.xlabel('Variable', fontsize=15)\n",
    "plt.ylabel('Missingness', fontsize=15)\n",
    "plt.xticks(rotation=45) \n",
    "\n",
    "plt.title(\"Evaluating Missing Data\", fontsize= 20)\n",
    "plt.savefig('./deliverables/msno.png', bbox_inches=\"tight\")"
   ]
  },
  {
   "cell_type": "code",
   "execution_count": 108,
   "metadata": {},
   "outputs": [],
   "source": [
    "# make a copy for the alternative method before filling all the 0's\n",
    "df_nona = df.copy()"
   ]
  },
  {
   "cell_type": "markdown",
   "metadata": {},
   "source": [
    "#### Attempt 4.5: make another dataframe only dropping the non-net metering predictors with high missingness"
   ]
  },
  {
   "cell_type": "markdown",
   "metadata": {},
   "source": [
    "This includes the energy efficiency and demand response preditcors (they had 61.9% and 71.5% missingness, respecively)."
   ]
  },
  {
   "cell_type": "code",
   "execution_count": 192,
   "metadata": {},
   "outputs": [],
   "source": [
    "df_nm = df.copy().drop(columns=['ba','ee_mwh','dem_res_customers', 'dem_res_mwh'])"
   ]
  },
  {
   "cell_type": "markdown",
   "metadata": {},
   "source": [
    "#### Fill NA's with 0"
   ]
  },
  {
   "cell_type": "code",
   "execution_count": 109,
   "metadata": {},
   "outputs": [],
   "source": [
    "# fill na's with 0 \n",
    "# i assume that if they didn't fill it out, there is nothing to report\n",
    "# i filled ba code even though that's incorrect because i ended up not using it\n",
    "df = df.fillna(0).reset_index(drop=True)"
   ]
  },
  {
   "cell_type": "markdown",
   "metadata": {},
   "source": [
    "### Try alternative method where I drop NA's for all columns"
   ]
  },
  {
   "cell_type": "markdown",
   "metadata": {},
   "source": [
    "#### Drop BA code column since I don't end up using it anyway"
   ]
  },
  {
   "cell_type": "code",
   "execution_count": 110,
   "metadata": {},
   "outputs": [],
   "source": [
    "df_nona = df_nona.drop(columns='ba')"
   ]
  },
  {
   "cell_type": "code",
   "execution_count": 111,
   "metadata": {},
   "outputs": [
    {
     "data": {
      "text/plain": [
       "51"
      ]
     },
     "execution_count": 111,
     "metadata": {},
     "output_type": "execute_result"
    }
   ],
   "source": [
    "# still all states\n",
    "len(df_nona.state.unique())"
   ]
  },
  {
   "cell_type": "code",
   "execution_count": 112,
   "metadata": {
    "scrolled": false
   },
   "outputs": [
    {
     "data": {
      "text/plain": [
       "year                    0\n",
       "name                    0\n",
       "state                   0\n",
       "total_mwh               0\n",
       "total_cust              0\n",
       "no                      0\n",
       "type                    0\n",
       "saidi_nomed             0\n",
       "saifi_nomed             0\n",
       "caidi_nomed             0\n",
       "circuits                3\n",
       "voltage                 3\n",
       "nerc                    0\n",
       "gen_mwh                 0\n",
       "purchase_mwh            0\n",
       "pv_mwh               1868\n",
       "wind_mwh             1868\n",
       "nm_mwh               1868\n",
       "ee_mwh               4120\n",
       "dem_res_customers    4760\n",
       "dem_res_mwh          4760\n",
       "dtype: int64"
      ]
     },
     "execution_count": 112,
     "metadata": {},
     "output_type": "execute_result"
    }
   ],
   "source": [
    "df_nona.isna().sum(axis=0)"
   ]
  },
  {
   "cell_type": "code",
   "execution_count": 234,
   "metadata": {},
   "outputs": [],
   "source": [
    "# drop all rows where there is a missing value in the subset columns\n",
    "df_nona = df_nona.dropna(axis=0, subset = ['nm_mwh', 'ee_mwh','dem_res_customers','circuits','voltage'])"
   ]
  },
  {
   "cell_type": "code",
   "execution_count": 235,
   "metadata": {},
   "outputs": [],
   "source": [
    "df_nona['pv_pct'] = ((df_nona['pv_mwh']/df_nona['total_mwh']) * 100).fillna(0)"
   ]
  },
  {
   "cell_type": "code",
   "execution_count": 236,
   "metadata": {},
   "outputs": [],
   "source": [
    "df_nona['wind_pct'] = ((df_nona['wind_mwh']/df_nona['total_mwh']) * 100).fillna(0)"
   ]
  },
  {
   "cell_type": "code",
   "execution_count": 237,
   "metadata": {},
   "outputs": [],
   "source": [
    "df_nona['nm_pct'] = ((df_nona['nm_mwh']/df_nona['total_mwh']) * 100).fillna(0)"
   ]
  },
  {
   "cell_type": "code",
   "execution_count": 238,
   "metadata": {},
   "outputs": [],
   "source": [
    "# change periods to 0 \n",
    "df_nona.loc[df_nona[\"ee_mwh\"] == \".\", 'ee_mwh'] = 0"
   ]
  },
  {
   "cell_type": "code",
   "execution_count": 239,
   "metadata": {},
   "outputs": [],
   "source": [
    "df_nona['ee_mwh'] = pd.to_numeric(df_nona['ee_mwh'], errors='coerce')"
   ]
  },
  {
   "cell_type": "code",
   "execution_count": 240,
   "metadata": {},
   "outputs": [],
   "source": [
    "df_nona['ee_pct'] = ((df_nona['ee_mwh']/df_nona['total_mwh']) * 100).fillna(0)"
   ]
  },
  {
   "cell_type": "code",
   "execution_count": 241,
   "metadata": {},
   "outputs": [],
   "source": [
    "df_nona.loc[df_nona[\"dem_res_customers\"] == \".\", 'dem_res_customers'] = 0"
   ]
  },
  {
   "cell_type": "code",
   "execution_count": 242,
   "metadata": {},
   "outputs": [],
   "source": [
    "df_nona['dem_res_customers'] = pd.to_numeric(df_nona['dem_res_customers'], errors='coerce')"
   ]
  },
  {
   "cell_type": "code",
   "execution_count": 243,
   "metadata": {},
   "outputs": [],
   "source": [
    "df_nona['dem_res_cust_pct'] = ((df_nona['dem_res_customers']/df_nona['total_cust']) * 100).fillna(0)"
   ]
  },
  {
   "cell_type": "code",
   "execution_count": 244,
   "metadata": {},
   "outputs": [],
   "source": [
    "df_nona['voltage'] = pd.to_numeric(df_nona['voltage'], errors='coerce')"
   ]
  },
  {
   "cell_type": "code",
   "execution_count": 245,
   "metadata": {},
   "outputs": [],
   "source": [
    "df_nona['circuits'] = pd.to_numeric(df_nona['circuits'], errors='coerce')"
   ]
  },
  {
   "cell_type": "code",
   "execution_count": 256,
   "metadata": {},
   "outputs": [],
   "source": [
    "df_nona['saidi_nomed'] = pd.to_numeric(df_nona['saidi_nomed'])"
   ]
  },
  {
   "cell_type": "code",
   "execution_count": 246,
   "metadata": {},
   "outputs": [],
   "source": [
    "df_nona['circuit_pct'] = ((df_nona['voltage']/df_nona['circuits']) * 100).fillna(0)"
   ]
  },
  {
   "cell_type": "code",
   "execution_count": 247,
   "metadata": {},
   "outputs": [],
   "source": [
    "df_nona = df_nona[(df_nona.saidi_nomed != '.')]"
   ]
  },
  {
   "cell_type": "code",
   "execution_count": 257,
   "metadata": {},
   "outputs": [
    {
     "name": "stdout",
     "output_type": "stream",
     "text": [
      "<class 'pandas.core.frame.DataFrame'>\n",
      "Int64Index: 753 entries, 53 to 2432\n",
      "Data columns (total 27 columns):\n",
      " #   Column             Non-Null Count  Dtype  \n",
      "---  ------             --------------  -----  \n",
      " 0   year               753 non-null    float64\n",
      " 1   name               753 non-null    object \n",
      " 2   state              753 non-null    object \n",
      " 3   total_mwh          753 non-null    object \n",
      " 4   total_cust         753 non-null    object \n",
      " 5   no                 753 non-null    float64\n",
      " 6   type               753 non-null    object \n",
      " 7   saidi_nomed        753 non-null    float64\n",
      " 8   saifi_nomed        753 non-null    object \n",
      " 9   caidi_nomed        753 non-null    object \n",
      " 10  circuits           753 non-null    float64\n",
      " 11  voltage            753 non-null    float64\n",
      " 12  nerc               753 non-null    object \n",
      " 13  gen_mwh            753 non-null    object \n",
      " 14  purchase_mwh       753 non-null    object \n",
      " 15  pv_mwh             753 non-null    object \n",
      " 16  wind_mwh           753 non-null    object \n",
      " 17  nm_mwh             753 non-null    object \n",
      " 18  ee_mwh             753 non-null    float64\n",
      " 19  dem_res_customers  753 non-null    float64\n",
      " 20  dem_res_mwh        753 non-null    object \n",
      " 21  pv_pct             753 non-null    float64\n",
      " 22  wind_pct           753 non-null    float64\n",
      " 23  nm_pct             753 non-null    float64\n",
      " 24  ee_pct             753 non-null    float64\n",
      " 25  dem_res_cust_pct   753 non-null    float64\n",
      " 26  circuit_pct        753 non-null    float64\n",
      "dtypes: float64(13), object(14)\n",
      "memory usage: 164.7+ KB\n"
     ]
    }
   ],
   "source": [
    "df_nona.info()"
   ]
  },
  {
   "cell_type": "code",
   "execution_count": 258,
   "metadata": {},
   "outputs": [
    {
     "data": {
      "text/html": [
       "<div>\n",
       "<style scoped>\n",
       "    .dataframe tbody tr th:only-of-type {\n",
       "        vertical-align: middle;\n",
       "    }\n",
       "\n",
       "    .dataframe tbody tr th {\n",
       "        vertical-align: top;\n",
       "    }\n",
       "\n",
       "    .dataframe thead th {\n",
       "        text-align: right;\n",
       "    }\n",
       "</style>\n",
       "<table border=\"1\" class=\"dataframe\">\n",
       "  <thead>\n",
       "    <tr style=\"text-align: right;\">\n",
       "      <th></th>\n",
       "      <th>year</th>\n",
       "      <th>no</th>\n",
       "      <th>saidi_nomed</th>\n",
       "      <th>circuits</th>\n",
       "      <th>voltage</th>\n",
       "      <th>ee_mwh</th>\n",
       "      <th>dem_res_customers</th>\n",
       "      <th>pv_pct</th>\n",
       "      <th>wind_pct</th>\n",
       "      <th>nm_pct</th>\n",
       "      <th>ee_pct</th>\n",
       "      <th>dem_res_cust_pct</th>\n",
       "      <th>circuit_pct</th>\n",
       "    </tr>\n",
       "  </thead>\n",
       "  <tbody>\n",
       "    <tr>\n",
       "      <th>count</th>\n",
       "      <td>753.00000</td>\n",
       "      <td>753.000000</td>\n",
       "      <td>753.000000</td>\n",
       "      <td>753.000000</td>\n",
       "      <td>753.000000</td>\n",
       "      <td>7.530000e+02</td>\n",
       "      <td>7.530000e+02</td>\n",
       "      <td>753.000000</td>\n",
       "      <td>7.530000e+02</td>\n",
       "      <td>753.000000</td>\n",
       "      <td>753.000000</td>\n",
       "      <td>753.000000</td>\n",
       "      <td>753.000000</td>\n",
       "    </tr>\n",
       "    <tr>\n",
       "      <th>mean</th>\n",
       "      <td>2016.14741</td>\n",
       "      <td>12210.077025</td>\n",
       "      <td>103.321709</td>\n",
       "      <td>578.096946</td>\n",
       "      <td>158.565737</td>\n",
       "      <td>1.205235e+05</td>\n",
       "      <td>5.195805e+04</td>\n",
       "      <td>0.062558</td>\n",
       "      <td>2.717359e-03</td>\n",
       "      <td>0.065321</td>\n",
       "      <td>1.090554</td>\n",
       "      <td>13.848901</td>\n",
       "      <td>27.721089</td>\n",
       "    </tr>\n",
       "    <tr>\n",
       "      <th>std</th>\n",
       "      <td>2.01940</td>\n",
       "      <td>7703.902883</td>\n",
       "      <td>70.737452</td>\n",
       "      <td>931.502347</td>\n",
       "      <td>422.683265</td>\n",
       "      <td>2.735273e+05</td>\n",
       "      <td>1.588258e+05</td>\n",
       "      <td>0.255385</td>\n",
       "      <td>1.277408e-02</td>\n",
       "      <td>0.257071</td>\n",
       "      <td>1.778828</td>\n",
       "      <td>18.552900</td>\n",
       "      <td>38.672552</td>\n",
       "    </tr>\n",
       "    <tr>\n",
       "      <th>min</th>\n",
       "      <td>2013.00000</td>\n",
       "      <td>329.000000</td>\n",
       "      <td>0.000000</td>\n",
       "      <td>5.000000</td>\n",
       "      <td>0.000000</td>\n",
       "      <td>0.000000e+00</td>\n",
       "      <td>0.000000e+00</td>\n",
       "      <td>0.000000</td>\n",
       "      <td>0.000000e+00</td>\n",
       "      <td>0.000000</td>\n",
       "      <td>0.000000</td>\n",
       "      <td>0.000000</td>\n",
       "      <td>0.000000</td>\n",
       "    </tr>\n",
       "    <tr>\n",
       "      <th>25%</th>\n",
       "      <td>2014.00000</td>\n",
       "      <td>5417.000000</td>\n",
       "      <td>59.436000</td>\n",
       "      <td>67.000000</td>\n",
       "      <td>0.000000</td>\n",
       "      <td>6.497670e+02</td>\n",
       "      <td>2.040000e+02</td>\n",
       "      <td>0.000000</td>\n",
       "      <td>0.000000e+00</td>\n",
       "      <td>0.000000</td>\n",
       "      <td>0.094082</td>\n",
       "      <td>0.148756</td>\n",
       "      <td>0.000000</td>\n",
       "    </tr>\n",
       "    <tr>\n",
       "      <th>50%</th>\n",
       "      <td>2016.00000</td>\n",
       "      <td>13511.000000</td>\n",
       "      <td>89.820000</td>\n",
       "      <td>181.000000</td>\n",
       "      <td>0.000000</td>\n",
       "      <td>6.165275e+03</td>\n",
       "      <td>3.700000e+03</td>\n",
       "      <td>0.000107</td>\n",
       "      <td>0.000000e+00</td>\n",
       "      <td>0.000173</td>\n",
       "      <td>0.572145</td>\n",
       "      <td>6.518534</td>\n",
       "      <td>0.000000</td>\n",
       "    </tr>\n",
       "    <tr>\n",
       "      <th>75%</th>\n",
       "      <td>2018.00000</td>\n",
       "      <td>16865.000000</td>\n",
       "      <td>134.000000</td>\n",
       "      <td>747.000000</td>\n",
       "      <td>73.000000</td>\n",
       "      <td>1.213363e+05</td>\n",
       "      <td>2.098000e+04</td>\n",
       "      <td>0.013018</td>\n",
       "      <td>8.777597e-07</td>\n",
       "      <td>0.015888</td>\n",
       "      <td>1.268608</td>\n",
       "      <td>22.084739</td>\n",
       "      <td>58.567280</td>\n",
       "    </tr>\n",
       "    <tr>\n",
       "      <th>max</th>\n",
       "      <td>2019.00000</td>\n",
       "      <td>55937.000000</td>\n",
       "      <td>812.900000</td>\n",
       "      <td>5619.000000</td>\n",
       "      <td>2869.000000</td>\n",
       "      <td>2.865573e+06</td>\n",
       "      <td>1.323922e+06</td>\n",
       "      <td>2.737364</td>\n",
       "      <td>1.141962e-01</td>\n",
       "      <td>2.737446</td>\n",
       "      <td>13.437089</td>\n",
       "      <td>99.996257</td>\n",
       "      <td>100.000000</td>\n",
       "    </tr>\n",
       "  </tbody>\n",
       "</table>\n",
       "</div>"
      ],
      "text/plain": [
       "             year            no  saidi_nomed     circuits      voltage  \\\n",
       "count   753.00000    753.000000   753.000000   753.000000   753.000000   \n",
       "mean   2016.14741  12210.077025   103.321709   578.096946   158.565737   \n",
       "std       2.01940   7703.902883    70.737452   931.502347   422.683265   \n",
       "min    2013.00000    329.000000     0.000000     5.000000     0.000000   \n",
       "25%    2014.00000   5417.000000    59.436000    67.000000     0.000000   \n",
       "50%    2016.00000  13511.000000    89.820000   181.000000     0.000000   \n",
       "75%    2018.00000  16865.000000   134.000000   747.000000    73.000000   \n",
       "max    2019.00000  55937.000000   812.900000  5619.000000  2869.000000   \n",
       "\n",
       "             ee_mwh  dem_res_customers      pv_pct      wind_pct      nm_pct  \\\n",
       "count  7.530000e+02       7.530000e+02  753.000000  7.530000e+02  753.000000   \n",
       "mean   1.205235e+05       5.195805e+04    0.062558  2.717359e-03    0.065321   \n",
       "std    2.735273e+05       1.588258e+05    0.255385  1.277408e-02    0.257071   \n",
       "min    0.000000e+00       0.000000e+00    0.000000  0.000000e+00    0.000000   \n",
       "25%    6.497670e+02       2.040000e+02    0.000000  0.000000e+00    0.000000   \n",
       "50%    6.165275e+03       3.700000e+03    0.000107  0.000000e+00    0.000173   \n",
       "75%    1.213363e+05       2.098000e+04    0.013018  8.777597e-07    0.015888   \n",
       "max    2.865573e+06       1.323922e+06    2.737364  1.141962e-01    2.737446   \n",
       "\n",
       "           ee_pct  dem_res_cust_pct  circuit_pct  \n",
       "count  753.000000        753.000000   753.000000  \n",
       "mean     1.090554         13.848901    27.721089  \n",
       "std      1.778828         18.552900    38.672552  \n",
       "min      0.000000          0.000000     0.000000  \n",
       "25%      0.094082          0.148756     0.000000  \n",
       "50%      0.572145          6.518534     0.000000  \n",
       "75%      1.268608         22.084739    58.567280  \n",
       "max     13.437089         99.996257   100.000000  "
      ]
     },
     "execution_count": 258,
     "metadata": {},
     "output_type": "execute_result"
    }
   ],
   "source": [
    "df_nona.describe()"
   ]
  },
  {
   "cell_type": "markdown",
   "metadata": {},
   "source": [
    "### What states went missing"
   ]
  },
  {
   "cell_type": "code",
   "execution_count": 250,
   "metadata": {},
   "outputs": [],
   "source": [
    "list1 = df.state.unique()"
   ]
  },
  {
   "cell_type": "code",
   "execution_count": 251,
   "metadata": {},
   "outputs": [],
   "source": [
    "list2 = df_nona.state.unique()"
   ]
  },
  {
   "cell_type": "code",
   "execution_count": 252,
   "metadata": {},
   "outputs": [],
   "source": [
    "new_list = [\n",
    "    list(set(list1).difference(list2))\n",
    "]"
   ]
  },
  {
   "cell_type": "code",
   "execution_count": 253,
   "metadata": {},
   "outputs": [
    {
     "data": {
      "text/plain": [
       "[['AK', 'ME', 'RI', 'VT', 'DC', 'WA', 'WV', 'TN', 'UT', 'WY']]"
      ]
     },
     "execution_count": 253,
     "metadata": {},
     "output_type": "execute_result"
    }
   ],
   "source": [
    "new_list"
   ]
  },
  {
   "cell_type": "code",
   "execution_count": 254,
   "metadata": {},
   "outputs": [
    {
     "data": {
      "text/plain": [
       "41"
      ]
     },
     "execution_count": 254,
     "metadata": {},
     "output_type": "execute_result"
    }
   ],
   "source": [
    "len(df_nona.state.unique())"
   ]
  },
  {
   "cell_type": "code",
   "execution_count": 255,
   "metadata": {},
   "outputs": [],
   "source": [
    "df_nona.to_csv(\"./processed_data/df_nona.csv\",index=False)"
   ]
  },
  {
   "cell_type": "markdown",
   "metadata": {},
   "source": [
    "### Final check for accuracy"
   ]
  },
  {
   "cell_type": "code",
   "execution_count": 131,
   "metadata": {},
   "outputs": [
    {
     "data": {
      "text/html": [
       "<div>\n",
       "<style scoped>\n",
       "    .dataframe tbody tr th:only-of-type {\n",
       "        vertical-align: middle;\n",
       "    }\n",
       "\n",
       "    .dataframe tbody tr th {\n",
       "        vertical-align: top;\n",
       "    }\n",
       "\n",
       "    .dataframe thead th {\n",
       "        text-align: right;\n",
       "    }\n",
       "</style>\n",
       "<table border=\"1\" class=\"dataframe\">\n",
       "  <thead>\n",
       "    <tr style=\"text-align: right;\">\n",
       "      <th></th>\n",
       "      <th>year</th>\n",
       "      <th>name</th>\n",
       "      <th>state</th>\n",
       "      <th>total_mwh</th>\n",
       "      <th>total_cust</th>\n",
       "      <th>no</th>\n",
       "      <th>type</th>\n",
       "      <th>saidi_nomed</th>\n",
       "      <th>saifi_nomed</th>\n",
       "      <th>caidi_nomed</th>\n",
       "      <th>...</th>\n",
       "      <th>nm_mwh</th>\n",
       "      <th>ee_mwh</th>\n",
       "      <th>dem_res_customers</th>\n",
       "      <th>dem_res_mwh</th>\n",
       "      <th>pv_pct</th>\n",
       "      <th>wind_pct</th>\n",
       "      <th>nm_pct</th>\n",
       "      <th>ee_pct</th>\n",
       "      <th>dem_res_cust_pct</th>\n",
       "      <th>circuit_pct</th>\n",
       "    </tr>\n",
       "  </thead>\n",
       "  <tbody>\n",
       "    <tr>\n",
       "      <th>1518</th>\n",
       "      <td>2017.0</td>\n",
       "      <td>Public Service Elec &amp; Gas Co</td>\n",
       "      <td>NJ</td>\n",
       "      <td>20198012</td>\n",
       "      <td>1945910</td>\n",
       "      <td>15477.0</td>\n",
       "      <td>Investor Owned</td>\n",
       "      <td>44.61</td>\n",
       "      <td>0.73</td>\n",
       "      <td>61.1096</td>\n",
       "      <td>...</td>\n",
       "      <td>0</td>\n",
       "      <td>24252.883</td>\n",
       "      <td>98584.0</td>\n",
       "      <td>0</td>\n",
       "      <td>0.000000</td>\n",
       "      <td>0.0</td>\n",
       "      <td>0.000000</td>\n",
       "      <td>0.120076</td>\n",
       "      <td>5.066216</td>\n",
       "      <td>0.000000</td>\n",
       "    </tr>\n",
       "    <tr>\n",
       "      <th>68</th>\n",
       "      <td>2019.0</td>\n",
       "      <td>City of Ames - (IA)</td>\n",
       "      <td>IA</td>\n",
       "      <td>639455</td>\n",
       "      <td>26956</td>\n",
       "      <td>554.0</td>\n",
       "      <td>Municipal</td>\n",
       "      <td>15.79</td>\n",
       "      <td>0.19</td>\n",
       "      <td>83.1053</td>\n",
       "      <td>...</td>\n",
       "      <td>0</td>\n",
       "      <td>4218.000</td>\n",
       "      <td>10683.0</td>\n",
       "      <td>0</td>\n",
       "      <td>0.000000</td>\n",
       "      <td>0.0</td>\n",
       "      <td>0.000000</td>\n",
       "      <td>0.659624</td>\n",
       "      <td>39.631251</td>\n",
       "      <td>0.000000</td>\n",
       "    </tr>\n",
       "    <tr>\n",
       "      <th>1635</th>\n",
       "      <td>2018.0</td>\n",
       "      <td>Sawnee Electric Membership Corporation</td>\n",
       "      <td>GA</td>\n",
       "      <td>3636306</td>\n",
       "      <td>178847</td>\n",
       "      <td>16865.0</td>\n",
       "      <td>Cooperative</td>\n",
       "      <td>47.57</td>\n",
       "      <td>0.88</td>\n",
       "      <td>54.0568</td>\n",
       "      <td>...</td>\n",
       "      <td>0</td>\n",
       "      <td>922.190</td>\n",
       "      <td>52959.0</td>\n",
       "      <td>7</td>\n",
       "      <td>0.000000</td>\n",
       "      <td>0.0</td>\n",
       "      <td>0.000000</td>\n",
       "      <td>0.025361</td>\n",
       "      <td>29.611344</td>\n",
       "      <td>74.074074</td>\n",
       "    </tr>\n",
       "    <tr>\n",
       "      <th>2947</th>\n",
       "      <td>2019.0</td>\n",
       "      <td>City of Waseca - (MN)</td>\n",
       "      <td>MN</td>\n",
       "      <td>57432</td>\n",
       "      <td>4184</td>\n",
       "      <td>20136.0</td>\n",
       "      <td>Municipal</td>\n",
       "      <td>18.2</td>\n",
       "      <td>0.32</td>\n",
       "      <td>56.875</td>\n",
       "      <td>...</td>\n",
       "      <td>10.006</td>\n",
       "      <td>774.400</td>\n",
       "      <td>1599.0</td>\n",
       "      <td>23.9</td>\n",
       "      <td>0.017422</td>\n",
       "      <td>0.0</td>\n",
       "      <td>0.017422</td>\n",
       "      <td>1.348377</td>\n",
       "      <td>38.217017</td>\n",
       "      <td>0.000000</td>\n",
       "    </tr>\n",
       "    <tr>\n",
       "      <th>1206</th>\n",
       "      <td>2018.0</td>\n",
       "      <td>Nebraska Public Power District</td>\n",
       "      <td>NE</td>\n",
       "      <td>3355302</td>\n",
       "      <td>90507</td>\n",
       "      <td>13337.0</td>\n",
       "      <td>Political Subdivision</td>\n",
       "      <td>49.05</td>\n",
       "      <td>0.6</td>\n",
       "      <td>81.75</td>\n",
       "      <td>...</td>\n",
       "      <td>99.375</td>\n",
       "      <td>14214.595</td>\n",
       "      <td>363.0</td>\n",
       "      <td>.</td>\n",
       "      <td>0.002962</td>\n",
       "      <td>0.0</td>\n",
       "      <td>0.002962</td>\n",
       "      <td>0.423646</td>\n",
       "      <td>0.401074</td>\n",
       "      <td>8.035714</td>\n",
       "    </tr>\n",
       "    <tr>\n",
       "      <th>1301</th>\n",
       "      <td>2018.0</td>\n",
       "      <td>Northern States Power Co - Minnesota</td>\n",
       "      <td>MN</td>\n",
       "      <td>30449372</td>\n",
       "      <td>1290004</td>\n",
       "      <td>13781.0</td>\n",
       "      <td>Investor Owned</td>\n",
       "      <td>95.02</td>\n",
       "      <td>0.88</td>\n",
       "      <td>107.977</td>\n",
       "      <td>...</td>\n",
       "      <td>0</td>\n",
       "      <td>632014.014</td>\n",
       "      <td>443292.0</td>\n",
       "      <td>1182</td>\n",
       "      <td>0.000000</td>\n",
       "      <td>0.0</td>\n",
       "      <td>0.000000</td>\n",
       "      <td>2.075622</td>\n",
       "      <td>34.363614</td>\n",
       "      <td>0.000000</td>\n",
       "    </tr>\n",
       "  </tbody>\n",
       "</table>\n",
       "<p>6 rows × 27 columns</p>\n",
       "</div>"
      ],
      "text/plain": [
       "        year                                    name state total_mwh  \\\n",
       "1518  2017.0            Public Service Elec & Gas Co    NJ  20198012   \n",
       "68    2019.0                     City of Ames - (IA)    IA    639455   \n",
       "1635  2018.0  Sawnee Electric Membership Corporation    GA   3636306   \n",
       "2947  2019.0                   City of Waseca - (MN)    MN     57432   \n",
       "1206  2018.0          Nebraska Public Power District    NE   3355302   \n",
       "1301  2018.0    Northern States Power Co - Minnesota    MN  30449372   \n",
       "\n",
       "     total_cust       no                   type saidi_nomed saifi_nomed  \\\n",
       "1518    1945910  15477.0         Investor Owned       44.61        0.73   \n",
       "68        26956    554.0              Municipal       15.79        0.19   \n",
       "1635     178847  16865.0            Cooperative       47.57        0.88   \n",
       "2947       4184  20136.0              Municipal        18.2        0.32   \n",
       "1206      90507  13337.0  Political Subdivision       49.05         0.6   \n",
       "1301    1290004  13781.0         Investor Owned       95.02        0.88   \n",
       "\n",
       "     caidi_nomed  ...  nm_mwh      ee_mwh dem_res_customers dem_res_mwh  \\\n",
       "1518     61.1096  ...       0   24252.883           98584.0           0   \n",
       "68       83.1053  ...       0    4218.000           10683.0           0   \n",
       "1635     54.0568  ...       0     922.190           52959.0           7   \n",
       "2947      56.875  ...  10.006     774.400            1599.0        23.9   \n",
       "1206       81.75  ...  99.375   14214.595             363.0           .   \n",
       "1301     107.977  ...       0  632014.014          443292.0        1182   \n",
       "\n",
       "        pv_pct wind_pct    nm_pct    ee_pct  dem_res_cust_pct  circuit_pct  \n",
       "1518  0.000000      0.0  0.000000  0.120076          5.066216     0.000000  \n",
       "68    0.000000      0.0  0.000000  0.659624         39.631251     0.000000  \n",
       "1635  0.000000      0.0  0.000000  0.025361         29.611344    74.074074  \n",
       "2947  0.017422      0.0  0.017422  1.348377         38.217017     0.000000  \n",
       "1206  0.002962      0.0  0.002962  0.423646          0.401074     8.035714  \n",
       "1301  0.000000      0.0  0.000000  2.075622         34.363614     0.000000  \n",
       "\n",
       "[6 rows x 27 columns]"
      ]
     },
     "execution_count": 131,
     "metadata": {},
     "output_type": "execute_result"
    }
   ],
   "source": [
    "df_nona.sample(6)"
   ]
  },
  {
   "cell_type": "markdown",
   "metadata": {},
   "source": [
    "Here, I did a check on a random sample of 6 observations across categories to make sure everything looked good. When there's a NA for any of the reliability metrics, that means that data was missing from the survey, and I cannot simply impute with 0's – that would incorrectly be assuming that they had no system interruptions. My best option is to simply drop these rows, since they lack my outcome variable."
   ]
  },
  {
   "cell_type": "markdown",
   "metadata": {},
   "source": [
    "### Make the percentage net metering, energy efficiency, and demand response columns. "
   ]
  },
  {
   "cell_type": "code",
   "execution_count": 132,
   "metadata": {},
   "outputs": [],
   "source": [
    "df['pv_pct'] = ((df['pv_mwh']/df['total_mwh']) * 100).fillna(0)"
   ]
  },
  {
   "cell_type": "code",
   "execution_count": 133,
   "metadata": {},
   "outputs": [],
   "source": [
    "df['wind_pct'] = ((df['wind_mwh']/df['total_mwh']) * 100).fillna(0)"
   ]
  },
  {
   "cell_type": "code",
   "execution_count": 134,
   "metadata": {},
   "outputs": [],
   "source": [
    "df['nm_pct'] = ((df['nm_mwh']/df['total_mwh']) * 100).fillna(0)"
   ]
  },
  {
   "cell_type": "code",
   "execution_count": 135,
   "metadata": {},
   "outputs": [],
   "source": [
    "# change periods to 0 \n",
    "df.loc[df[\"ee_mwh\"] == \".\", 'ee_mwh'] = 0"
   ]
  },
  {
   "cell_type": "code",
   "execution_count": 136,
   "metadata": {},
   "outputs": [],
   "source": [
    "df.loc[df[\"dem_res_customers\"] == \".\", 'dem_res_customers'] = 0"
   ]
  },
  {
   "cell_type": "code",
   "execution_count": 137,
   "metadata": {},
   "outputs": [],
   "source": [
    "df.loc[df[\"dem_res_mwh\"] == \".\", 'dem_res_mwh'] = 0"
   ]
  },
  {
   "cell_type": "code",
   "execution_count": 138,
   "metadata": {},
   "outputs": [],
   "source": [
    "df.loc[df[\"purchase_mwh\"] == \".\", 'purchase_mwh'] = 0"
   ]
  },
  {
   "cell_type": "code",
   "execution_count": 139,
   "metadata": {},
   "outputs": [],
   "source": [
    "df.loc[df[\"dem_res_customers\"] == \".\", 'dem_res_customers'] = 0"
   ]
  },
  {
   "cell_type": "code",
   "execution_count": 140,
   "metadata": {},
   "outputs": [],
   "source": [
    "df = df[(df.voltage != '.')]"
   ]
  },
  {
   "cell_type": "code",
   "execution_count": 141,
   "metadata": {},
   "outputs": [],
   "source": [
    "df = df[(df.circuits != '.')]"
   ]
  },
  {
   "cell_type": "code",
   "execution_count": 142,
   "metadata": {},
   "outputs": [
    {
     "data": {
      "text/html": [
       "<div>\n",
       "<style scoped>\n",
       "    .dataframe tbody tr th:only-of-type {\n",
       "        vertical-align: middle;\n",
       "    }\n",
       "\n",
       "    .dataframe tbody tr th {\n",
       "        vertical-align: top;\n",
       "    }\n",
       "\n",
       "    .dataframe thead th {\n",
       "        text-align: right;\n",
       "    }\n",
       "</style>\n",
       "<table border=\"1\" class=\"dataframe\">\n",
       "  <thead>\n",
       "    <tr style=\"text-align: right;\">\n",
       "      <th></th>\n",
       "      <th>year</th>\n",
       "      <th>name</th>\n",
       "      <th>state</th>\n",
       "      <th>total_mwh</th>\n",
       "      <th>total_cust</th>\n",
       "      <th>no</th>\n",
       "      <th>type</th>\n",
       "      <th>saidi_nomed</th>\n",
       "      <th>saifi_nomed</th>\n",
       "      <th>caidi_nomed</th>\n",
       "      <th>...</th>\n",
       "      <th>ba</th>\n",
       "      <th>pv_mwh</th>\n",
       "      <th>wind_mwh</th>\n",
       "      <th>nm_mwh</th>\n",
       "      <th>ee_mwh</th>\n",
       "      <th>dem_res_customers</th>\n",
       "      <th>dem_res_mwh</th>\n",
       "      <th>pv_pct</th>\n",
       "      <th>wind_pct</th>\n",
       "      <th>nm_pct</th>\n",
       "    </tr>\n",
       "  </thead>\n",
       "  <tbody>\n",
       "  </tbody>\n",
       "</table>\n",
       "<p>0 rows × 25 columns</p>\n",
       "</div>"
      ],
      "text/plain": [
       "Empty DataFrame\n",
       "Columns: [year, name, state, total_mwh, total_cust, no, type, saidi_nomed, saifi_nomed, caidi_nomed, circuits, voltage, nerc, gen_mwh, purchase_mwh, ba, pv_mwh, wind_mwh, nm_mwh, ee_mwh, dem_res_customers, dem_res_mwh, pv_pct, wind_pct, nm_pct]\n",
       "Index: []\n",
       "\n",
       "[0 rows x 25 columns]"
      ]
     },
     "execution_count": 142,
     "metadata": {},
     "output_type": "execute_result"
    }
   ],
   "source": [
    "df.query(\"voltage == ''\")"
   ]
  },
  {
   "cell_type": "code",
   "execution_count": 143,
   "metadata": {},
   "outputs": [],
   "source": [
    "df['dem_res_customers'] = pd.to_numeric(df['dem_res_customers'], errors='coerce')"
   ]
  },
  {
   "cell_type": "code",
   "execution_count": 144,
   "metadata": {},
   "outputs": [],
   "source": [
    "df['dem_res_mwh'] = pd.to_numeric(df['dem_res_mwh'], errors='coerce')"
   ]
  },
  {
   "cell_type": "code",
   "execution_count": 145,
   "metadata": {},
   "outputs": [],
   "source": [
    "df['purchase_mwh'] = pd.to_numeric(df['purchase_mwh'], errors='coerce')"
   ]
  },
  {
   "cell_type": "code",
   "execution_count": 146,
   "metadata": {},
   "outputs": [],
   "source": [
    "df['gen_mwh'] = pd.to_numeric(df['gen_mwh'], errors='coerce')"
   ]
  },
  {
   "cell_type": "code",
   "execution_count": 147,
   "metadata": {},
   "outputs": [],
   "source": [
    "df['voltage'] = pd.to_numeric(df['voltage'], errors='coerce')"
   ]
  },
  {
   "cell_type": "code",
   "execution_count": 148,
   "metadata": {},
   "outputs": [],
   "source": [
    "df['circuits'] = pd.to_numeric(df['circuits'], errors='coerce')"
   ]
  },
  {
   "cell_type": "code",
   "execution_count": 149,
   "metadata": {},
   "outputs": [],
   "source": [
    "# coercion produced new missing values in the 2 demand response columns so i fill them in\n",
    "df = df.fillna(0).reset_index(drop=True)"
   ]
  },
  {
   "cell_type": "code",
   "execution_count": 150,
   "metadata": {},
   "outputs": [],
   "source": [
    "df['ee_pct'] = ((df['ee_mwh']/df['total_mwh']) * 100).fillna(0)"
   ]
  },
  {
   "cell_type": "code",
   "execution_count": 151,
   "metadata": {},
   "outputs": [],
   "source": [
    "df['dem_res_pct'] = ((df['dem_res_mwh']/df['total_mwh']) * 100).fillna(0)"
   ]
  },
  {
   "cell_type": "code",
   "execution_count": 152,
   "metadata": {},
   "outputs": [],
   "source": [
    "df['dem_res_cust_pct'] = ((df['dem_res_customers']/df['total_cust']) * 100).fillna(0)"
   ]
  },
  {
   "cell_type": "code",
   "execution_count": 154,
   "metadata": {},
   "outputs": [],
   "source": [
    "df['circuit_pct'] = ((df['voltage']/df['circuits']) * 100).fillna(0)"
   ]
  },
  {
   "cell_type": "markdown",
   "metadata": {},
   "source": [
    "### Need to justify using SAIDI rather than SAIFI or CAIDI"
   ]
  },
  {
   "cell_type": "markdown",
   "metadata": {},
   "source": [
    "Using 2015-2019 data: There are still more entries for SAIDI than either of the other 2 metrics.\n",
    "\n",
    "When I was just using 2019 data: There are 766 entries for SAIDI, and only about 705 for SAIFI and CAIDI. Therefore, I will be using SAIDI as my index for grid reliability."
   ]
  },
  {
   "cell_type": "code",
   "execution_count": null,
   "metadata": {},
   "outputs": [],
   "source": [
    "# check non zero entries\n",
    "# df_18[(df_18.saifi_nomed != '.')]"
   ]
  },
  {
   "cell_type": "code",
   "execution_count": 176,
   "metadata": {},
   "outputs": [],
   "source": [
    "# limit dataframe to SAIDI, which has the most nonzero entries \n",
    "df = df[(df.saidi_nomed != '.')].reset_index(drop=True)"
   ]
  },
  {
   "cell_type": "code",
   "execution_count": 177,
   "metadata": {},
   "outputs": [
    {
     "data": {
      "text/html": [
       "<div>\n",
       "<style scoped>\n",
       "    .dataframe tbody tr th:only-of-type {\n",
       "        vertical-align: middle;\n",
       "    }\n",
       "\n",
       "    .dataframe tbody tr th {\n",
       "        vertical-align: top;\n",
       "    }\n",
       "\n",
       "    .dataframe thead th {\n",
       "        text-align: right;\n",
       "    }\n",
       "</style>\n",
       "<table border=\"1\" class=\"dataframe\">\n",
       "  <thead>\n",
       "    <tr style=\"text-align: right;\">\n",
       "      <th></th>\n",
       "      <th>year</th>\n",
       "      <th>total_mwh</th>\n",
       "      <th>total_cust</th>\n",
       "      <th>no</th>\n",
       "      <th>circuits</th>\n",
       "      <th>voltage</th>\n",
       "      <th>gen_mwh</th>\n",
       "      <th>purchase_mwh</th>\n",
       "      <th>pv_mwh</th>\n",
       "      <th>wind_mwh</th>\n",
       "      <th>...</th>\n",
       "      <th>ee_mwh</th>\n",
       "      <th>dem_res_customers</th>\n",
       "      <th>dem_res_mwh</th>\n",
       "      <th>pv_pct</th>\n",
       "      <th>wind_pct</th>\n",
       "      <th>nm_pct</th>\n",
       "      <th>ee_pct</th>\n",
       "      <th>dem_res_pct</th>\n",
       "      <th>dem_res_cust_pct</th>\n",
       "      <th>circuit_pct</th>\n",
       "    </tr>\n",
       "  </thead>\n",
       "  <tbody>\n",
       "    <tr>\n",
       "      <th>count</th>\n",
       "      <td>3509.000000</td>\n",
       "      <td>3.509000e+03</td>\n",
       "      <td>3.509000e+03</td>\n",
       "      <td>3509.000000</td>\n",
       "      <td>3509.000000</td>\n",
       "      <td>3509.000000</td>\n",
       "      <td>3.509000e+03</td>\n",
       "      <td>3.509000e+03</td>\n",
       "      <td>3509.000000</td>\n",
       "      <td>3509.000000</td>\n",
       "      <td>...</td>\n",
       "      <td>3.509000e+03</td>\n",
       "      <td>3.509000e+03</td>\n",
       "      <td>3509.000000</td>\n",
       "      <td>3509.000000</td>\n",
       "      <td>3509.000000</td>\n",
       "      <td>3509.000000</td>\n",
       "      <td>3509.000000</td>\n",
       "      <td>3509.000000</td>\n",
       "      <td>3509.000000</td>\n",
       "      <td>3509.000000</td>\n",
       "    </tr>\n",
       "    <tr>\n",
       "      <th>mean</th>\n",
       "      <td>2016.298661</td>\n",
       "      <td>3.262495e+06</td>\n",
       "      <td>1.531124e+05</td>\n",
       "      <td>12076.953263</td>\n",
       "      <td>208.822172</td>\n",
       "      <td>51.711884</td>\n",
       "      <td>2.281280e+06</td>\n",
       "      <td>1.993311e+06</td>\n",
       "      <td>753.167498</td>\n",
       "      <td>17.625264</td>\n",
       "      <td>...</td>\n",
       "      <td>3.104253e+04</td>\n",
       "      <td>1.248272e+04</td>\n",
       "      <td>1070.800529</td>\n",
       "      <td>0.638382</td>\n",
       "      <td>0.009324</td>\n",
       "      <td>0.712167</td>\n",
       "      <td>0.354763</td>\n",
       "      <td>0.022062</td>\n",
       "      <td>4.587584</td>\n",
       "      <td>26.022167</td>\n",
       "    </tr>\n",
       "    <tr>\n",
       "      <th>std</th>\n",
       "      <td>2.015971</td>\n",
       "      <td>9.632141e+06</td>\n",
       "      <td>4.739387e+05</td>\n",
       "      <td>8063.086156</td>\n",
       "      <td>522.611864</td>\n",
       "      <td>225.757013</td>\n",
       "      <td>9.561871e+06</td>\n",
       "      <td>5.099733e+06</td>\n",
       "      <td>6996.430289</td>\n",
       "      <td>294.388015</td>\n",
       "      <td>...</td>\n",
       "      <td>1.406024e+05</td>\n",
       "      <td>7.824573e+04</td>\n",
       "      <td>22402.176035</td>\n",
       "      <td>25.856436</td>\n",
       "      <td>0.267440</td>\n",
       "      <td>28.772365</td>\n",
       "      <td>1.019998</td>\n",
       "      <td>0.194563</td>\n",
       "      <td>13.612579</td>\n",
       "      <td>39.809299</td>\n",
       "    </tr>\n",
       "    <tr>\n",
       "      <th>min</th>\n",
       "      <td>2013.000000</td>\n",
       "      <td>3.150000e+02</td>\n",
       "      <td>3.700000e+01</td>\n",
       "      <td>97.000000</td>\n",
       "      <td>0.000000</td>\n",
       "      <td>0.000000</td>\n",
       "      <td>-2.670000e+03</td>\n",
       "      <td>0.000000e+00</td>\n",
       "      <td>0.000000</td>\n",
       "      <td>0.000000</td>\n",
       "      <td>...</td>\n",
       "      <td>0.000000e+00</td>\n",
       "      <td>0.000000e+00</td>\n",
       "      <td>0.000000</td>\n",
       "      <td>0.000000</td>\n",
       "      <td>0.000000</td>\n",
       "      <td>0.000000</td>\n",
       "      <td>0.000000</td>\n",
       "      <td>0.000000</td>\n",
       "      <td>0.000000</td>\n",
       "      <td>0.000000</td>\n",
       "    </tr>\n",
       "    <tr>\n",
       "      <th>25%</th>\n",
       "      <td>2015.000000</td>\n",
       "      <td>2.870800e+05</td>\n",
       "      <td>1.168300e+04</td>\n",
       "      <td>5605.000000</td>\n",
       "      <td>35.000000</td>\n",
       "      <td>0.000000</td>\n",
       "      <td>0.000000e+00</td>\n",
       "      <td>2.819950e+05</td>\n",
       "      <td>0.000000</td>\n",
       "      <td>0.000000</td>\n",
       "      <td>...</td>\n",
       "      <td>0.000000e+00</td>\n",
       "      <td>0.000000e+00</td>\n",
       "      <td>0.000000</td>\n",
       "      <td>0.000000</td>\n",
       "      <td>0.000000</td>\n",
       "      <td>0.000000</td>\n",
       "      <td>0.000000</td>\n",
       "      <td>0.000000</td>\n",
       "      <td>0.000000</td>\n",
       "      <td>0.000000</td>\n",
       "    </tr>\n",
       "    <tr>\n",
       "      <th>50%</th>\n",
       "      <td>2016.000000</td>\n",
       "      <td>5.815030e+05</td>\n",
       "      <td>2.631500e+04</td>\n",
       "      <td>11843.000000</td>\n",
       "      <td>61.000000</td>\n",
       "      <td>0.000000</td>\n",
       "      <td>0.000000e+00</td>\n",
       "      <td>5.858170e+05</td>\n",
       "      <td>0.000000</td>\n",
       "      <td>0.000000</td>\n",
       "      <td>...</td>\n",
       "      <td>0.000000e+00</td>\n",
       "      <td>0.000000e+00</td>\n",
       "      <td>0.000000</td>\n",
       "      <td>0.000000</td>\n",
       "      <td>0.000000</td>\n",
       "      <td>0.000000</td>\n",
       "      <td>0.000000</td>\n",
       "      <td>0.000000</td>\n",
       "      <td>0.000000</td>\n",
       "      <td>0.000000</td>\n",
       "    </tr>\n",
       "    <tr>\n",
       "      <th>75%</th>\n",
       "      <td>2018.000000</td>\n",
       "      <td>1.394254e+06</td>\n",
       "      <td>6.488200e+04</td>\n",
       "      <td>16751.000000</td>\n",
       "      <td>124.000000</td>\n",
       "      <td>22.000000</td>\n",
       "      <td>3.300000e+02</td>\n",
       "      <td>1.374021e+06</td>\n",
       "      <td>38.168000</td>\n",
       "      <td>0.000000</td>\n",
       "      <td>...</td>\n",
       "      <td>1.334000e+03</td>\n",
       "      <td>6.000000e+01</td>\n",
       "      <td>0.000000</td>\n",
       "      <td>0.005594</td>\n",
       "      <td>0.000000</td>\n",
       "      <td>0.006925</td>\n",
       "      <td>0.241403</td>\n",
       "      <td>0.000000</td>\n",
       "      <td>0.085686</td>\n",
       "      <td>56.287425</td>\n",
       "    </tr>\n",
       "    <tr>\n",
       "      <th>max</th>\n",
       "      <td>2019.000000</td>\n",
       "      <td>1.119557e+08</td>\n",
       "      <td>5.236724e+06</td>\n",
       "      <td>57483.000000</td>\n",
       "      <td>5619.000000</td>\n",
       "      <td>2869.000000</td>\n",
       "      <td>1.265085e+08</td>\n",
       "      <td>9.677809e+07</td>\n",
       "      <td>174137.899000</td>\n",
       "      <td>11648.213000</td>\n",
       "      <td>...</td>\n",
       "      <td>2.865573e+06</td>\n",
       "      <td>1.323922e+06</td>\n",
       "      <td>977215.000000</td>\n",
       "      <td>1239.554023</td>\n",
       "      <td>12.070402</td>\n",
       "      <td>1370.918391</td>\n",
       "      <td>13.437089</td>\n",
       "      <td>3.509534</td>\n",
       "      <td>100.000000</td>\n",
       "      <td>100.000000</td>\n",
       "    </tr>\n",
       "  </tbody>\n",
       "</table>\n",
       "<p>8 rows × 21 columns</p>\n",
       "</div>"
      ],
      "text/plain": [
       "              year     total_mwh    total_cust            no     circuits  \\\n",
       "count  3509.000000  3.509000e+03  3.509000e+03   3509.000000  3509.000000   \n",
       "mean   2016.298661  3.262495e+06  1.531124e+05  12076.953263   208.822172   \n",
       "std       2.015971  9.632141e+06  4.739387e+05   8063.086156   522.611864   \n",
       "min    2013.000000  3.150000e+02  3.700000e+01     97.000000     0.000000   \n",
       "25%    2015.000000  2.870800e+05  1.168300e+04   5605.000000    35.000000   \n",
       "50%    2016.000000  5.815030e+05  2.631500e+04  11843.000000    61.000000   \n",
       "75%    2018.000000  1.394254e+06  6.488200e+04  16751.000000   124.000000   \n",
       "max    2019.000000  1.119557e+08  5.236724e+06  57483.000000  5619.000000   \n",
       "\n",
       "           voltage       gen_mwh  purchase_mwh         pv_mwh      wind_mwh  \\\n",
       "count  3509.000000  3.509000e+03  3.509000e+03    3509.000000   3509.000000   \n",
       "mean     51.711884  2.281280e+06  1.993311e+06     753.167498     17.625264   \n",
       "std     225.757013  9.561871e+06  5.099733e+06    6996.430289    294.388015   \n",
       "min       0.000000 -2.670000e+03  0.000000e+00       0.000000      0.000000   \n",
       "25%       0.000000  0.000000e+00  2.819950e+05       0.000000      0.000000   \n",
       "50%       0.000000  0.000000e+00  5.858170e+05       0.000000      0.000000   \n",
       "75%      22.000000  3.300000e+02  1.374021e+06      38.168000      0.000000   \n",
       "max    2869.000000  1.265085e+08  9.677809e+07  174137.899000  11648.213000   \n",
       "\n",
       "       ...        ee_mwh  dem_res_customers    dem_res_mwh       pv_pct  \\\n",
       "count  ...  3.509000e+03       3.509000e+03    3509.000000  3509.000000   \n",
       "mean   ...  3.104253e+04       1.248272e+04    1070.800529     0.638382   \n",
       "std    ...  1.406024e+05       7.824573e+04   22402.176035    25.856436   \n",
       "min    ...  0.000000e+00       0.000000e+00       0.000000     0.000000   \n",
       "25%    ...  0.000000e+00       0.000000e+00       0.000000     0.000000   \n",
       "50%    ...  0.000000e+00       0.000000e+00       0.000000     0.000000   \n",
       "75%    ...  1.334000e+03       6.000000e+01       0.000000     0.005594   \n",
       "max    ...  2.865573e+06       1.323922e+06  977215.000000  1239.554023   \n",
       "\n",
       "          wind_pct       nm_pct       ee_pct  dem_res_pct  dem_res_cust_pct  \\\n",
       "count  3509.000000  3509.000000  3509.000000  3509.000000       3509.000000   \n",
       "mean      0.009324     0.712167     0.354763     0.022062          4.587584   \n",
       "std       0.267440    28.772365     1.019998     0.194563         13.612579   \n",
       "min       0.000000     0.000000     0.000000     0.000000          0.000000   \n",
       "25%       0.000000     0.000000     0.000000     0.000000          0.000000   \n",
       "50%       0.000000     0.000000     0.000000     0.000000          0.000000   \n",
       "75%       0.000000     0.006925     0.241403     0.000000          0.085686   \n",
       "max      12.070402  1370.918391    13.437089     3.509534        100.000000   \n",
       "\n",
       "       circuit_pct  \n",
       "count  3509.000000  \n",
       "mean     26.022167  \n",
       "std      39.809299  \n",
       "min       0.000000  \n",
       "25%       0.000000  \n",
       "50%       0.000000  \n",
       "75%      56.287425  \n",
       "max     100.000000  \n",
       "\n",
       "[8 rows x 21 columns]"
      ]
     },
     "execution_count": 177,
     "metadata": {},
     "output_type": "execute_result"
    }
   ],
   "source": [
    "df.describe()"
   ]
  },
  {
   "cell_type": "code",
   "execution_count": null,
   "metadata": {},
   "outputs": [],
   "source": [
    "#df_18 = df_18.drop(['pv_mwh',\n",
    "#            'wind_mwh',\n",
    "#            'nm_mwh',\n",
    "#            'ee_mwh',\n",
    "#            'dem_res_customers',\n",
    "#            'dem_res_mwh'], axis = 1)"
   ]
  },
  {
   "cell_type": "code",
   "execution_count": null,
   "metadata": {},
   "outputs": [],
   "source": [
    "df.sort_values(by='name')"
   ]
  },
  {
   "cell_type": "code",
   "execution_count": 179,
   "metadata": {},
   "outputs": [
    {
     "data": {
      "text/plain": [
       "<AxesSubplot:>"
      ]
     },
     "execution_count": 179,
     "metadata": {},
     "output_type": "execute_result"
    },
    {
     "data": {
      "image/png": "[encoded data removed]",
      "text/plain": [
       "<Figure size 1800x720 with 2 Axes>"
      ]
     },
     "metadata": {
      "needs_background": "light"
     },
     "output_type": "display_data"
    }
   ],
   "source": [
    "# make sure we're good to go\n",
    "msno.matrix(df)"
   ]
  },
  {
   "cell_type": "code",
   "execution_count": 178,
   "metadata": {},
   "outputs": [],
   "source": [
    "# export as CSV so I can use it in my next step\n",
    "df.to_csv(\"df.csv\",index=False)"
   ]
  },
  {
   "cell_type": "markdown",
   "metadata": {},
   "source": [
    "### Attempt 4.5: Try alternative method where I drop NA's for just net metering and use that as my only preidctor"
   ]
  },
  {
   "cell_type": "code",
   "execution_count": 197,
   "metadata": {},
   "outputs": [
    {
     "data": {
      "text/plain": [
       "year               0\n",
       "name               0\n",
       "state              0\n",
       "total_mwh          0\n",
       "total_cust         0\n",
       "no                 0\n",
       "type               0\n",
       "saidi_nomed        0\n",
       "saifi_nomed        0\n",
       "caidi_nomed        0\n",
       "circuits           3\n",
       "voltage            3\n",
       "nerc               0\n",
       "gen_mwh            0\n",
       "purchase_mwh       0\n",
       "pv_mwh          1868\n",
       "wind_mwh        1868\n",
       "nm_mwh          1868\n",
       "dtype: int64"
      ]
     },
     "execution_count": 197,
     "metadata": {},
     "output_type": "execute_result"
    }
   ],
   "source": [
    "df_nm.isna().sum()"
   ]
  },
  {
   "cell_type": "code",
   "execution_count": 199,
   "metadata": {},
   "outputs": [],
   "source": [
    "# drop all rows where there is a missing value in the subset columns\n",
    "df_nm = df_nm.dropna(axis=0, subset = ['nm_mwh'])"
   ]
  },
  {
   "cell_type": "code",
   "execution_count": 200,
   "metadata": {},
   "outputs": [],
   "source": [
    "df_nm['pv_pct'] = ((df_nm['pv_mwh']/df_nm['total_mwh']) * 100).fillna(0)"
   ]
  },
  {
   "cell_type": "code",
   "execution_count": 201,
   "metadata": {},
   "outputs": [],
   "source": [
    "df_nm['wind_pct'] = ((df_nm['wind_mwh']/df_nm['total_mwh']) * 100).fillna(0)"
   ]
  },
  {
   "cell_type": "code",
   "execution_count": 202,
   "metadata": {},
   "outputs": [],
   "source": [
    "df_nm['nm_pct'] = ((df_nm['nm_mwh']/df_nm['total_mwh']) * 100).fillna(0)"
   ]
  },
  {
   "cell_type": "code",
   "execution_count": 206,
   "metadata": {},
   "outputs": [],
   "source": [
    "df_nm['voltage'] = pd.to_numeric(df_nm['voltage'], errors='coerce')"
   ]
  },
  {
   "cell_type": "code",
   "execution_count": 207,
   "metadata": {},
   "outputs": [],
   "source": [
    "df_nm['circuits'] = pd.to_numeric(df_nm['circuits'], errors='coerce')"
   ]
  },
  {
   "cell_type": "code",
   "execution_count": 208,
   "metadata": {},
   "outputs": [],
   "source": [
    "df_nm['circuit_pct'] = ((df_nm['voltage']/df_nm['circuits']) * 100).fillna(0)"
   ]
  },
  {
   "cell_type": "code",
   "execution_count": null,
   "metadata": {},
   "outputs": [],
   "source": [
    "# somehow this process left more voltage missing values than before?"
   ]
  },
  {
   "cell_type": "code",
   "execution_count": 214,
   "metadata": {},
   "outputs": [],
   "source": [
    "df_nm = df_nm[(df_nm.saidi_nomed != '.')]"
   ]
  },
  {
   "cell_type": "code",
   "execution_count": 215,
   "metadata": {},
   "outputs": [
    {
     "data": {
      "text/plain": [
       "year              0\n",
       "name              0\n",
       "state             0\n",
       "total_mwh         0\n",
       "total_cust        0\n",
       "no                0\n",
       "type              0\n",
       "saidi_nomed       0\n",
       "saifi_nomed       0\n",
       "caidi_nomed       0\n",
       "circuits          2\n",
       "voltage         304\n",
       "nerc              0\n",
       "gen_mwh           0\n",
       "purchase_mwh      0\n",
       "pv_mwh            0\n",
       "wind_mwh          0\n",
       "nm_mwh            0\n",
       "pv_pct            0\n",
       "wind_pct          0\n",
       "nm_pct            0\n",
       "circuit_pct       0\n",
       "dtype: int64"
      ]
     },
     "execution_count": 215,
     "metadata": {},
     "output_type": "execute_result"
    }
   ],
   "source": [
    "df_nm.isna().sum()"
   ]
  },
  {
   "cell_type": "code",
   "execution_count": 217,
   "metadata": {},
   "outputs": [
    {
     "data": {
      "text/plain": [
       "50"
      ]
     },
     "execution_count": 217,
     "metadata": {},
     "output_type": "execute_result"
    }
   ],
   "source": [
    "len(df_nm.state.unique())"
   ]
  },
  {
   "cell_type": "code",
   "execution_count": 219,
   "metadata": {},
   "outputs": [],
   "source": [
    "df_nm.to_csv(\"./processed_data/df_nm.csv\",index=False)"
   ]
  },
  {
   "cell_type": "markdown",
   "metadata": {},
   "source": [
    "## Unresolved pile"
   ]
  },
  {
   "cell_type": "code",
   "execution_count": null,
   "metadata": {},
   "outputs": [],
   "source": [
    "# when we mergeed our dataframes, they dropped all the adjustments\n",
    "# we decide to ignore these based on expert feedback\n",
    "net_metering_18[net_metering_18['name'].str.contains(\"Adjustment\")]"
   ]
  },
  {
   "cell_type": "markdown",
   "metadata": {},
   "source": [
    "# Discard pile"
   ]
  },
  {
   "cell_type": "markdown",
   "metadata": {},
   "source": [
    "I tried to make a function to automate all of this, but it is just taking too long"
   ]
  },
  {
   "cell_type": "code",
   "execution_count": null,
   "metadata": {},
   "outputs": [],
   "source": [
    "#net_metering = pd.DataFrame()\n",
    "# for year in range(2015,2020):\n",
    "#     df = pd.read_excel(\"Data/Net_Metering_{}.xlsx\".format(year), header = [0,1,2])\n",
    "#     df.columns = df.columns.map(' - '.join)\n",
    "#     net_metering = net_metering.append(df)"
   ]
  },
  {
   "cell_type": "code",
   "execution_count": null,
   "metadata": {},
   "outputs": [],
   "source": [
    "#net_metering = net_metering.rename(columns={\"Utility Characteristics - Unnamed: 0_level_1 - Data Year\": \"Year\"})"
   ]
  },
  {
   "cell_type": "code",
   "execution_count": null,
   "metadata": {},
   "outputs": [],
   "source": [
    "#net_metering.Year.unique()"
   ]
  },
  {
   "cell_type": "code",
   "execution_count": null,
   "metadata": {},
   "outputs": [],
   "source": [
    "#rel_ut = reliability_18.merge(utility_18, on = [\"name\",\"state\"])"
   ]
  },
  {
   "cell_type": "code",
   "execution_count": null,
   "metadata": {},
   "outputs": [],
   "source": [
    "#rel_ut.merge(utility_18, on = [\"name\",\"state\"])"
   ]
  },
  {
   "cell_type": "code",
   "execution_count": null,
   "metadata": {},
   "outputs": [],
   "source": [
    "# was going to use to merge columns but not necessary\n",
    "#cols = [col for col in net_metering_18.columns if 'Unnamed:' not in col]"
   ]
  }
 ],
 "metadata": {
  "kernelspec": {
   "display_name": "Python 3",
   "language": "python",
   "name": "python3"
  },
  "language_info": {
   "codemirror_mode": {
    "name": "ipython",
    "version": 3
   },
   "file_extension": ".py",
   "mimetype": "text/x-python",
   "name": "python",
   "nbconvert_exporter": "python",
   "pygments_lexer": "ipython3",
   "version": "3.7.6"
  }
 },
 "nbformat": 4,
 "nbformat_minor": 4
}
