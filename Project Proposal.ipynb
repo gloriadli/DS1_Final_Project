{
 "cells": [
  {
   "cell_type": "markdown",
   "metadata": {},
   "source": [
    "# Project Proposal\n",
    "### Gloria Li"
   ]
  },
  {
   "cell_type": "markdown",
   "metadata": {},
   "source": [
    "<img src=\"https://cdn.vox-cdn.com/thumbor/7X2ABl-kVv_q9thIcdH1ie0oX7s=/600x0/filters:no_upscale()/cdn.vox-cdn.com/uploads/chorus_asset/file/13591928/SCENE3.gif\">"
   ]
  },
  {
   "cell_type": "markdown",
   "metadata": {},
   "source": [
    "## Problem Statement"
   ]
  },
  {
   "attachments": {},
   "cell_type": "markdown",
   "metadata": {},
   "source": [
    "The energy grid is changing. For centuries we have seen the one-way flow of electrons, from generation to transmission to distribution, and the top-down concentration of power in the hands of the nation’s electric utilities. With the rise of distributed generation (DG), an interesting new entity has emerged: what some call the energy “prosumer” – a traditional consumer who now has the capacity to produce electricity (usually through rooftop photovoltaics) and sell their excess back to the grid. This exchange, called net metering, has generated considerable debate in recent years. Solar advocates argue that distributed generation is an environmentally friendly option and provides ancillary benefits to the grid, while utilities argue that this causes inequitable cross-subsidization and grid stress. \n",
    "\n",
    "In a 2017 study, 59% of utility executives agreed that small-scale DG places stress on their network hosting capacity and reduces revenue, forcing them to raise rates on other customers and turning more customers toward DG$^1$ – the so-called “utility death spiral”. It seems that the impact of DG is two-fold: in areas with high energy variability, DG can help moderate demand. At the same time, incorporating DG onto the grid in large amounts may require infrastructure or capacity upgrades to maintain reliability. \n",
    "\n",
    "The high-level research question I hope to explore with my analysis is: is more DG correlated with changes in grid reliability over time in the United States?"
   ]
  },
  {
   "cell_type": "markdown",
   "metadata": {},
   "source": [
    "## Data Source"
   ]
  },
  {
   "attachments": {},
   "cell_type": "markdown",
   "metadata": {},
   "source": [
    "The data source I intend to use is the Energy Information Administration’s Form 861, also known as the Annual Electric Power Industry Report. It comprises data collected from approximately 3,300 U.S. respondents, including electric utilities, wholesale power marketers and electric power producers.\n",
    "\n",
    "The primary variables I will analyze from EIA-861 include net metering data from 2007-2019 as the predictor and grid reliability data from 2013-2019 as the response (years reflect all available data). Other variables available from this source that I may decide to incorporate in my analysis include demand response programs (2013-2019) and energy efficiency (2013-2019). These are all potential sources of endogeneity that may help to provide a more accurate view of the relationship between net-metered distributed generation and grid reliability over time. \n",
    "\n",
    "The datasets for each year are zipped and publicly available on the E.I.A. website.$^2$ I will be downloading them from there, but there is a considerable amount of data wrangling I will do to produce a final dataset I can work with to answer my question (see description in next section). I plan on incorporating at least a few, if not all, of the following variables (divided by the dataset where they can be found): \n",
    "\n",
    "- Reliability\n",
    "    - System Average Interruption Duration Index (SAIDI), with and without Major Event Days: I will look at both because SAIDI without MED excludes low-frequency, high-impact events such as hurricanes.$^3$\n",
    "    - System Average Interruption Frequency Index (SAIFI), with and without Major Event Days\n",
    "\n",
    "- Net metering – All Technologies (Photovoltaic, Wind, Other)\n",
    "    - Total installed capacity for the Residential, Commercial, Industrial and Transportation sectors (MW)\n",
    "    - Energy sold back to grid (MWh)\n",
    "    - Storage Capacity (MW)\n",
    "    \n",
    "- Demand Response\n",
    "    - Actual Peak Demand Savings (MW) \n",
    "    \n",
    "- Energy Efficiency\n",
    "    - Incremental Life Cycle Energy Savings (MWh)\n",
    "    - Peak Demand Savings (MW)"
   ]
  },
  {
   "cell_type": "markdown",
   "metadata": {},
   "source": [
    "## Methodology"
   ]
  },
  {
   "attachments": {},
   "cell_type": "markdown",
   "metadata": {},
   "source": [
    "This data is zipped by year, so I will need to clean the data to make it tidy and then merge all the years together into a large dataset, most likely joining by electric utility. Data cleaning will include tasks such as: reformatting the data for reading into Python, assigning utility identifiers (since the same utility name will sometimes be indexed to service territories in multiple states), correcting variables to a per capita (per customer) basis if necessary, and doing energy capacity conversions (MW/MWh) if necessary. I will most likely use the data from 2013-2019, so this new dataset will join together 4 datasets (described above) for each year.\n",
    "\n",
    "I am planning to make multiple data visualizations using Matplotlib to present the relationship between the increase in net metered capacity and the changes in grid reliability over time.$^4$ These include a multi-line graph that shows the grid reliability and the net metering capacity over time and a scatterplot with net metered capacity on the x-axis and reliability on the y-axis with the fitted regression line. \n",
    "\n",
    "We have not gone over how to manipulate spatial data in class, but if I have time, I would also like to make a map of the United States that shows the 2019 (a.k.a. most recent) grid reliability and net metered generation. This could use color (chloropleth) to show the areas with high versus low grid reliability and then perhaps bubbles or something to show net metering capacity. I doubt I will have time during this project, but it would be nice to show this as a change-across-time style gif as well. One note of caution here is that the utilities are not neatly divided into states; there are thousands of utilities and service territories that are piecemeal across the states. One way to tackle visualizing them may be aggregating the service territories by state, but I may explore other options as well. \n",
    "\n",
    "For my machine learning component, I will focus on using OLS to find the relationship between net metered distributed generation and grid reliability. I will use the Scikit-Learn library and the cross-validation techniques we learn in class to split my data up into a test, training, and validation set.$^5$ I will describe in-depth in the final report my findings and if I found a satisfactory answer to my research question. "
   ]
  },
  {
   "cell_type": "markdown",
   "metadata": {},
   "source": [
    "## Evaluation"
   ]
  },
  {
   "attachments": {},
   "cell_type": "markdown",
   "metadata": {},
   "source": [
    "Success for my project will primarily that I have run a robust OLS analysis on my reformatted data that can be replicated and defended. On the machine learning side, if the approach I take reduces the MSE past an ordinary OLS, that will be a good learning opportunity too. I know this is an ambitious project to tackle, and it is important to me personally to give adequate treatment to other relevant variables in order to reduce endogeneity, especially as I recognize the policy and political implications of certain conclusions. I intend for the visualizations to augment the story that the OLS tells and make it more digestible/convincing, especially to a hypothetical audience that may consist of anyone from a solar advocate to a utility executive. \n",
    "\n",
    "I will know that I accomplished my goal if I have found evidence of a meaningful correlation, either positive or negative, that can shed light on how to improve grid reliability moving forward. It will be equally successful if I find evidence that there is no correlation, as long as that makes sense given the data – although in this case, I will need to think more about how to package and communicate that result.  "
   ]
  },
  {
   "cell_type": "markdown",
   "metadata": {},
   "source": [
    "## Works Cited"
   ]
  },
  {
   "cell_type": "markdown",
   "metadata": {},
   "source": [
    "1. https://www.greentechmedia.com/articles/read/utility-execs-see-distributed-energy-as-biggest-stress-on-grid-reliability\n",
    "\n",
    "2. https://www.eia.gov/electricity/data/eia861/\n",
    "\n",
    "3. https://www.advancedenergy.org/2018/07/25/gridreliabilityandresiliency/#:~:text=SAIDI%20reflects%20the%20average%20outage,customer%20experiences%20in%20that%20period.&text=An%20MED%20occurs%20when%20SAIDI,longer%20end%20of%20the%20spectrum\n",
    "\n",
    "4. John D. Hunter. Matplotlib: A 2D Graphics Environment, Computing in Science & Engineering, 9, 90-95 (2007), DOI:10.1109/MCSE.2007.55 \n",
    "\n",
    "5. Fabian Pedregosa, Gaël Varoquaux, Alexandre Gramfort, Vincent Michel, Bertrand Thirion, Olivier Grisel, Mathieu Blondel, Peter Prettenhofer, Ron Weiss, Vincent Dubourg, Jake Vanderplas, Alexandre Passos, David Cournapeau, Matthieu Brucher, Matthieu Perrot, Édouard Duchesnay. Scikit-learn: Machine Learning in Python, Journal of Machine Learning Research, 12, 2825-2830 (2011) "
   ]
  }
 ],
 "metadata": {
  "kernelspec": {
   "display_name": "Python 3",
   "language": "python",
   "name": "python3"
  },
  "language_info": {
   "codemirror_mode": {
    "name": "ipython",
    "version": 3
   },
   "file_extension": ".py",
   "mimetype": "text/x-python",
   "name": "python",
   "nbconvert_exporter": "python",
   "pygments_lexer": "ipython3",
   "version": "3.7.6"
  }
 },
 "nbformat": 4,
 "nbformat_minor": 4
}
