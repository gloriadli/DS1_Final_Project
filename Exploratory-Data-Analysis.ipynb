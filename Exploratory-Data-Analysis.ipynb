{
 "cells": [
  {
   "cell_type": "code",
   "execution_count": 3,
   "metadata": {},
   "outputs": [],
   "source": [
    "import pandas as pd\n",
    "import numpy as np\n",
    "from plotnine import *\n",
    "import plotly.express as px\n",
    "import plotly\n",
    "\n",
    "import plotly.graph_objects as go\n",
    "from matplotlib import *\n",
    "import matplotlib.pyplot as plt  \n",
    "import matplotlib.backend_bases\n",
    "import pandas_profiling"
   ]
  },
  {
   "cell_type": "markdown",
   "metadata": {},
   "source": [
    "## Generate pandas profile and export to HTML to explore dataset"
   ]
  },
  {
   "cell_type": "code",
   "execution_count": 2,
   "metadata": {},
   "outputs": [],
   "source": [
    "df_19 = pd.read_csv(\"df_19.csv\")"
   ]
  },
  {
   "cell_type": "code",
   "execution_count": 5,
   "metadata": {},
   "outputs": [],
   "source": [
    "df_nona = pd.read_csv(\"./processed_data/df_nona.csv\")"
   ]
  },
  {
   "cell_type": "code",
   "execution_count": 7,
   "metadata": {},
   "outputs": [],
   "source": [
    "df_19_prof = df_19.profile_report()"
   ]
  },
  {
   "cell_type": "code",
   "execution_count": 8,
   "metadata": {},
   "outputs": [
    {
     "data": {
      "application/vnd.jupyter.widget-view+json": {
       "model_id": "e610a3d9eade4531b724df5ee9e74874",
       "version_major": 2,
       "version_minor": 0
      },
      "text/plain": [
       "HBox(children=(HTML(value='Summarize dataset'), FloatProgress(value=0.0, max=41.0), HTML(value='')))"
      ]
     },
     "metadata": {},
     "output_type": "display_data"
    },
    {
     "name": "stdout",
     "output_type": "stream",
     "text": [
      "\n"
     ]
    },
    {
     "data": {
      "application/vnd.jupyter.widget-view+json": {
       "model_id": "3057606a882c4937acefd5a3d2b514d7",
       "version_major": 2,
       "version_minor": 0
      },
      "text/plain": [
       "HBox(children=(HTML(value='Generate report structure'), FloatProgress(value=0.0, max=1.0), HTML(value='')))"
      ]
     },
     "metadata": {},
     "output_type": "display_data"
    },
    {
     "name": "stdout",
     "output_type": "stream",
     "text": [
      "\n"
     ]
    },
    {
     "data": {
      "application/vnd.jupyter.widget-view+json": {
       "model_id": "adf2331706154ffdad15e2ae051a2269",
       "version_major": 2,
       "version_minor": 0
      },
      "text/plain": [
       "HBox(children=(HTML(value='Render HTML'), FloatProgress(value=0.0, max=1.0), HTML(value='')))"
      ]
     },
     "metadata": {},
     "output_type": "display_data"
    },
    {
     "name": "stdout",
     "output_type": "stream",
     "text": [
      "\n"
     ]
    },
    {
     "data": {
      "application/vnd.jupyter.widget-view+json": {
       "model_id": "9e4cbdd54b3b48879121aefbdc6f1724",
       "version_major": 2,
       "version_minor": 0
      },
      "text/plain": [
       "HBox(children=(HTML(value='Export report to file'), FloatProgress(value=0.0, max=1.0), HTML(value='')))"
      ]
     },
     "metadata": {},
     "output_type": "display_data"
    },
    {
     "name": "stdout",
     "output_type": "stream",
     "text": [
      "\n"
     ]
    }
   ],
   "source": [
    "df_19_prof.to_file(output_file='df_19_prof.html')"
   ]
  },
  {
   "cell_type": "markdown",
   "metadata": {},
   "source": [
    "### Question: How does customer density for different states compare to grid reliability?"
   ]
  },
  {
   "cell_type": "code",
   "execution_count": 6,
   "metadata": {},
   "outputs": [
    {
     "data": {
      "text/html": [
       "<div>\n",
       "<style scoped>\n",
       "    .dataframe tbody tr th:only-of-type {\n",
       "        vertical-align: middle;\n",
       "    }\n",
       "\n",
       "    .dataframe tbody tr th {\n",
       "        vertical-align: top;\n",
       "    }\n",
       "\n",
       "    .dataframe thead th {\n",
       "        text-align: right;\n",
       "    }\n",
       "</style>\n",
       "<table border=\"1\" class=\"dataframe\">\n",
       "  <thead>\n",
       "    <tr style=\"text-align: right;\">\n",
       "      <th></th>\n",
       "      <th>name</th>\n",
       "      <th>state</th>\n",
       "      <th>total_mwh</th>\n",
       "      <th>total_cust</th>\n",
       "      <th>no</th>\n",
       "      <th>type</th>\n",
       "      <th>saidi_nomed</th>\n",
       "      <th>saifi_nomed</th>\n",
       "      <th>caidi_nomed</th>\n",
       "      <th>pv_pct</th>\n",
       "      <th>wind_pct</th>\n",
       "      <th>nm_pct</th>\n",
       "      <th>ee_pct</th>\n",
       "      <th>dem_res_pct</th>\n",
       "      <th>dem_res_cust_pct</th>\n",
       "    </tr>\n",
       "  </thead>\n",
       "  <tbody>\n",
       "    <tr>\n",
       "      <th>0</th>\n",
       "      <td>Adams Electric Coop</td>\n",
       "      <td>IL</td>\n",
       "      <td>176102.0</td>\n",
       "      <td>8931.0</td>\n",
       "      <td>97.0</td>\n",
       "      <td>Cooperative</td>\n",
       "      <td>169.740</td>\n",
       "      <td>1.29</td>\n",
       "      <td>131.5814</td>\n",
       "      <td>0.000000</td>\n",
       "      <td>0.000000</td>\n",
       "      <td>0.000000</td>\n",
       "      <td>0.000000</td>\n",
       "      <td>0.000000</td>\n",
       "      <td>49.288993</td>\n",
       "    </tr>\n",
       "    <tr>\n",
       "      <th>1</th>\n",
       "      <td>Adams-Columbia Electric Coop</td>\n",
       "      <td>WI</td>\n",
       "      <td>515186.0</td>\n",
       "      <td>37607.0</td>\n",
       "      <td>108.0</td>\n",
       "      <td>Cooperative</td>\n",
       "      <td>139.900</td>\n",
       "      <td>0.95</td>\n",
       "      <td>147.26316</td>\n",
       "      <td>0.136994</td>\n",
       "      <td>0.004316</td>\n",
       "      <td>0.141310</td>\n",
       "      <td>0.000000</td>\n",
       "      <td>2.649016</td>\n",
       "      <td>12.713059</td>\n",
       "    </tr>\n",
       "    <tr>\n",
       "      <th>2</th>\n",
       "      <td>Agralite Electric Coop</td>\n",
       "      <td>MN</td>\n",
       "      <td>238558.0</td>\n",
       "      <td>5251.0</td>\n",
       "      <td>155.0</td>\n",
       "      <td>Cooperative</td>\n",
       "      <td>128.759</td>\n",
       "      <td>1.181</td>\n",
       "      <td>109.0254</td>\n",
       "      <td>0.000000</td>\n",
       "      <td>0.000000</td>\n",
       "      <td>0.000000</td>\n",
       "      <td>0.000000</td>\n",
       "      <td>0.000000</td>\n",
       "      <td>0.000000</td>\n",
       "    </tr>\n",
       "    <tr>\n",
       "      <th>3</th>\n",
       "      <td>Aiken Electric Coop Inc</td>\n",
       "      <td>SC</td>\n",
       "      <td>938436.0</td>\n",
       "      <td>48059.0</td>\n",
       "      <td>162.0</td>\n",
       "      <td>Cooperative</td>\n",
       "      <td>97.720</td>\n",
       "      <td>.</td>\n",
       "      <td>.</td>\n",
       "      <td>0.037771</td>\n",
       "      <td>0.000000</td>\n",
       "      <td>0.037771</td>\n",
       "      <td>0.000405</td>\n",
       "      <td>0.000000</td>\n",
       "      <td>0.000000</td>\n",
       "    </tr>\n",
       "    <tr>\n",
       "      <th>4</th>\n",
       "      <td>Alaska Electric Light&amp;Power Co</td>\n",
       "      <td>AK</td>\n",
       "      <td>337796.0</td>\n",
       "      <td>17280.0</td>\n",
       "      <td>213.0</td>\n",
       "      <td>Investor Owned</td>\n",
       "      <td>79.000</td>\n",
       "      <td>2.08</td>\n",
       "      <td>37.980769</td>\n",
       "      <td>0.000000</td>\n",
       "      <td>0.000000</td>\n",
       "      <td>0.000000</td>\n",
       "      <td>0.000000</td>\n",
       "      <td>0.000000</td>\n",
       "      <td>13.807870</td>\n",
       "    </tr>\n",
       "    <tr>\n",
       "      <th>...</th>\n",
       "      <td>...</td>\n",
       "      <td>...</td>\n",
       "      <td>...</td>\n",
       "      <td>...</td>\n",
       "      <td>...</td>\n",
       "      <td>...</td>\n",
       "      <td>...</td>\n",
       "      <td>...</td>\n",
       "      <td>...</td>\n",
       "      <td>...</td>\n",
       "      <td>...</td>\n",
       "      <td>...</td>\n",
       "      <td>...</td>\n",
       "      <td>...</td>\n",
       "      <td>...</td>\n",
       "    </tr>\n",
       "    <tr>\n",
       "      <th>762</th>\n",
       "      <td>Ameren Illinois Company</td>\n",
       "      <td>IL</td>\n",
       "      <td>8017902.0</td>\n",
       "      <td>499059.0</td>\n",
       "      <td>56697.0</td>\n",
       "      <td>Investor Owned</td>\n",
       "      <td>132.290</td>\n",
       "      <td>0.995</td>\n",
       "      <td>132.95477</td>\n",
       "      <td>0.000000</td>\n",
       "      <td>0.000000</td>\n",
       "      <td>0.000000</td>\n",
       "      <td>4.157247</td>\n",
       "      <td>0.000000</td>\n",
       "      <td>0.000000</td>\n",
       "    </tr>\n",
       "    <tr>\n",
       "      <th>763</th>\n",
       "      <td>Liberty Utilities</td>\n",
       "      <td>CA</td>\n",
       "      <td>564462.0</td>\n",
       "      <td>48770.0</td>\n",
       "      <td>57483.0</td>\n",
       "      <td>Investor Owned</td>\n",
       "      <td>416.510</td>\n",
       "      <td>2.96</td>\n",
       "      <td>140.71284</td>\n",
       "      <td>0.000000</td>\n",
       "      <td>0.000000</td>\n",
       "      <td>0.000000</td>\n",
       "      <td>0.315192</td>\n",
       "      <td>0.000000</td>\n",
       "      <td>0.000000</td>\n",
       "    </tr>\n",
       "    <tr>\n",
       "      <th>764</th>\n",
       "      <td>PUD No 1 of Jefferson County</td>\n",
       "      <td>WA</td>\n",
       "      <td>376212.0</td>\n",
       "      <td>19742.0</td>\n",
       "      <td>59013.0</td>\n",
       "      <td>Political Subdivision</td>\n",
       "      <td>291.000</td>\n",
       "      <td>2.04</td>\n",
       "      <td>142.64706</td>\n",
       "      <td>0.000000</td>\n",
       "      <td>0.000000</td>\n",
       "      <td>0.000000</td>\n",
       "      <td>0.173041</td>\n",
       "      <td>0.000000</td>\n",
       "      <td>0.000000</td>\n",
       "    </tr>\n",
       "    <tr>\n",
       "      <th>765</th>\n",
       "      <td>Upper Michigan Energy Resources Corp.</td>\n",
       "      <td>MI</td>\n",
       "      <td>1610240.0</td>\n",
       "      <td>36818.0</td>\n",
       "      <td>60631.0</td>\n",
       "      <td>Investor Owned</td>\n",
       "      <td>238.000</td>\n",
       "      <td>1.5</td>\n",
       "      <td>158.66667</td>\n",
       "      <td>0.000000</td>\n",
       "      <td>0.000000</td>\n",
       "      <td>0.000000</td>\n",
       "      <td>0.000000</td>\n",
       "      <td>0.000000</td>\n",
       "      <td>0.217285</td>\n",
       "    </tr>\n",
       "    <tr>\n",
       "      <th>766</th>\n",
       "      <td>Southern Pioneer Electric Company</td>\n",
       "      <td>KS</td>\n",
       "      <td>817910.0</td>\n",
       "      <td>16939.0</td>\n",
       "      <td>60839.0</td>\n",
       "      <td>Cooperative</td>\n",
       "      <td>106.410</td>\n",
       "      <td>.</td>\n",
       "      <td>.</td>\n",
       "      <td>0.005018</td>\n",
       "      <td>0.000000</td>\n",
       "      <td>0.005018</td>\n",
       "      <td>0.000000</td>\n",
       "      <td>0.000000</td>\n",
       "      <td>0.000000</td>\n",
       "    </tr>\n",
       "  </tbody>\n",
       "</table>\n",
       "<p>767 rows × 15 columns</p>\n",
       "</div>"
      ],
      "text/plain": [
       "                                      name state  total_mwh  total_cust  \\\n",
       "0                      Adams Electric Coop    IL   176102.0      8931.0   \n",
       "1             Adams-Columbia Electric Coop    WI   515186.0     37607.0   \n",
       "2                   Agralite Electric Coop    MN   238558.0      5251.0   \n",
       "3                  Aiken Electric Coop Inc    SC   938436.0     48059.0   \n",
       "4           Alaska Electric Light&Power Co    AK   337796.0     17280.0   \n",
       "..                                     ...   ...        ...         ...   \n",
       "762                Ameren Illinois Company    IL  8017902.0    499059.0   \n",
       "763                      Liberty Utilities    CA   564462.0     48770.0   \n",
       "764           PUD No 1 of Jefferson County    WA   376212.0     19742.0   \n",
       "765  Upper Michigan Energy Resources Corp.    MI  1610240.0     36818.0   \n",
       "766      Southern Pioneer Electric Company    KS   817910.0     16939.0   \n",
       "\n",
       "          no                   type  saidi_nomed saifi_nomed caidi_nomed  \\\n",
       "0       97.0            Cooperative      169.740        1.29    131.5814   \n",
       "1      108.0            Cooperative      139.900        0.95   147.26316   \n",
       "2      155.0            Cooperative      128.759       1.181    109.0254   \n",
       "3      162.0            Cooperative       97.720           .           .   \n",
       "4      213.0         Investor Owned       79.000        2.08   37.980769   \n",
       "..       ...                    ...          ...         ...         ...   \n",
       "762  56697.0         Investor Owned      132.290       0.995   132.95477   \n",
       "763  57483.0         Investor Owned      416.510        2.96   140.71284   \n",
       "764  59013.0  Political Subdivision      291.000        2.04   142.64706   \n",
       "765  60631.0         Investor Owned      238.000         1.5   158.66667   \n",
       "766  60839.0            Cooperative      106.410           .           .   \n",
       "\n",
       "       pv_pct  wind_pct    nm_pct    ee_pct  dem_res_pct  dem_res_cust_pct  \n",
       "0    0.000000  0.000000  0.000000  0.000000     0.000000         49.288993  \n",
       "1    0.136994  0.004316  0.141310  0.000000     2.649016         12.713059  \n",
       "2    0.000000  0.000000  0.000000  0.000000     0.000000          0.000000  \n",
       "3    0.037771  0.000000  0.037771  0.000405     0.000000          0.000000  \n",
       "4    0.000000  0.000000  0.000000  0.000000     0.000000         13.807870  \n",
       "..        ...       ...       ...       ...          ...               ...  \n",
       "762  0.000000  0.000000  0.000000  4.157247     0.000000          0.000000  \n",
       "763  0.000000  0.000000  0.000000  0.315192     0.000000          0.000000  \n",
       "764  0.000000  0.000000  0.000000  0.173041     0.000000          0.000000  \n",
       "765  0.000000  0.000000  0.000000  0.000000     0.000000          0.217285  \n",
       "766  0.005018  0.000000  0.005018  0.000000     0.000000          0.000000  \n",
       "\n",
       "[767 rows x 15 columns]"
      ]
     },
     "execution_count": 6,
     "metadata": {},
     "output_type": "execute_result"
    }
   ],
   "source": [
    "df_19"
   ]
  },
  {
   "cell_type": "code",
   "execution_count": 10,
   "metadata": {
    "scrolled": true
   },
   "outputs": [
    {
     "data": {
      "application/vnd.plotly.v1+json": {
       "config": {
        "plotlyServerURL": "https://plot.ly"
       },
       "data": [
        {
         "customdata": [
          [
           "IA"
          ],
          [
           "IA"
          ],
          [
           "CA"
          ],
          [
           "AZ"
          ],
          [
           "AR"
          ],
          [
           "NJ"
          ],
          [
           "MN"
          ],
          [
           "TX"
          ],
          [
           "MD"
          ],
          [
           "WI"
          ],
          [
           "MN"
          ],
          [
           "SC"
          ],
          [
           "NC"
          ],
          [
           "NC"
          ],
          [
           "GA"
          ],
          [
           "FL"
          ],
          [
           "MD"
          ],
          [
           "OH"
          ],
          [
           "OH"
          ],
          [
           "FL"
          ],
          [
           "CO"
          ],
          [
           "MO"
          ],
          [
           "IL"
          ],
          [
           "CT"
          ],
          [
           "MI"
          ],
          [
           "GA"
          ],
          [
           "NY"
          ],
          [
           "DE"
          ],
          [
           "MI"
          ],
          [
           "MN"
          ],
          [
           "NC"
          ],
          [
           "WI"
          ],
          [
           "TX"
          ],
          [
           "MO"
          ],
          [
           "MT"
          ],
          [
           "FL"
          ],
          [
           "MN"
          ],
          [
           "TX"
          ],
          [
           "FL"
          ],
          [
           "IA"
          ],
          [
           "NC"
          ],
          [
           "CO"
          ],
          [
           "SC"
          ],
          [
           "ID"
          ],
          [
           "IN"
          ],
          [
           "IN"
          ],
          [
           "IN"
          ],
          [
           "GA"
          ],
          [
           "IL"
          ],
          [
           "IN"
          ],
          [
           "MO"
          ],
          [
           "KY"
          ],
          [
           "NE"
          ],
          [
           "CA"
          ],
          [
           "KY"
          ],
          [
           "IA"
          ],
          [
           "TX"
          ],
          [
           "IL"
          ],
          [
           "MN"
          ],
          [
           "MS"
          ],
          [
           "MO"
          ],
          [
           "CA"
          ],
          [
           "NE"
          ],
          [
           "NV"
          ],
          [
           "LA"
          ],
          [
           "NY"
          ],
          [
           "NE"
          ],
          [
           "AR"
          ],
          [
           "MN"
          ],
          [
           "OK"
          ],
          [
           "WI"
          ],
          [
           "OH"
          ],
          [
           "OH"
          ],
          [
           "NE"
          ],
          [
           "MN"
          ],
          [
           "MN"
          ],
          [
           "CA"
          ],
          [
           "MN"
          ],
          [
           "SC"
          ],
          [
           "PA"
          ],
          [
           "NC"
          ],
          [
           "PA"
          ],
          [
           "NC"
          ],
          [
           "WI"
          ],
          [
           "WI"
          ],
          [
           "CO"
          ],
          [
           "IN"
          ],
          [
           "NH"
          ],
          [
           "NM"
          ],
          [
           "OK"
          ],
          [
           "NJ"
          ],
          [
           "MA"
          ],
          [
           "NC"
          ],
          [
           "MN"
          ],
          [
           "AZ"
          ],
          [
           "TX"
          ],
          [
           "CA"
          ],
          [
           "GA"
          ],
          [
           "KS"
          ],
          [
           "MN"
          ],
          [
           "VA"
          ],
          [
           "NV"
          ],
          [
           "SC"
          ],
          [
           "SC"
          ],
          [
           "IN"
          ],
          [
           "CA"
          ],
          [
           "WI"
          ],
          [
           "AZ"
          ],
          [
           "WI"
          ],
          [
           "FL"
          ],
          [
           "MA"
          ],
          [
           "OH"
          ],
          [
           "MN"
          ],
          [
           "AZ"
          ],
          [
           "MI"
          ],
          [
           "MO"
          ],
          [
           "KY"
          ],
          [
           "TX"
          ],
          [
           "AZ"
          ],
          [
           "ND"
          ],
          [
           "WI"
          ],
          [
           "NC"
          ],
          [
           "MN"
          ],
          [
           "PA"
          ],
          [
           "SD"
          ],
          [
           "OH"
          ],
          [
           "MN"
          ],
          [
           "AR"
          ],
          [
           "SC"
          ],
          [
           "NC"
          ],
          [
           "ND"
          ],
          [
           "MN"
          ],
          [
           "TX"
          ],
          [
           "IA"
          ],
          [
           "CA"
          ],
          [
           "AZ"
          ],
          [
           "AR"
          ],
          [
           "NJ"
          ],
          [
           "MN"
          ],
          [
           "MD"
          ],
          [
           "WI"
          ],
          [
           "MN"
          ],
          [
           "SC"
          ],
          [
           "NC"
          ],
          [
           "NC"
          ],
          [
           "GA"
          ],
          [
           "FL"
          ],
          [
           "OH"
          ],
          [
           "OH"
          ],
          [
           "FL"
          ],
          [
           "CO"
          ],
          [
           "MO"
          ],
          [
           "IL"
          ],
          [
           "CT"
          ],
          [
           "MI"
          ],
          [
           "GA"
          ],
          [
           "DE"
          ],
          [
           "MI"
          ],
          [
           "MN"
          ],
          [
           "NC"
          ],
          [
           "WI"
          ],
          [
           "TX"
          ],
          [
           "MO"
          ],
          [
           "MT"
          ],
          [
           "FL"
          ],
          [
           "FL"
          ],
          [
           "MN"
          ],
          [
           "TX"
          ],
          [
           "FL"
          ],
          [
           "IA"
          ],
          [
           "NC"
          ],
          [
           "SC"
          ],
          [
           "ID"
          ],
          [
           "IN"
          ],
          [
           "IN"
          ],
          [
           "IN"
          ],
          [
           "GA"
          ],
          [
           "IL"
          ],
          [
           "IN"
          ],
          [
           "KY"
          ],
          [
           "NE"
          ],
          [
           "CA"
          ],
          [
           "KY"
          ],
          [
           "IA"
          ],
          [
           "IL"
          ],
          [
           "MN"
          ],
          [
           "MS"
          ],
          [
           "CO"
          ],
          [
           "NE"
          ],
          [
           "NV"
          ],
          [
           "LA"
          ],
          [
           "NY"
          ],
          [
           "NE"
          ],
          [
           "AR"
          ],
          [
           "MN"
          ],
          [
           "OK"
          ],
          [
           "WI"
          ],
          [
           "OH"
          ],
          [
           "NE"
          ],
          [
           "MN"
          ],
          [
           "CA"
          ],
          [
           "MN"
          ],
          [
           "SC"
          ],
          [
           "PA"
          ],
          [
           "NC"
          ],
          [
           "PA"
          ],
          [
           "NC"
          ],
          [
           "WI"
          ],
          [
           "WI"
          ],
          [
           "CO"
          ],
          [
           "IN"
          ],
          [
           "NM"
          ],
          [
           "OK"
          ],
          [
           "NJ"
          ],
          [
           "GA"
          ],
          [
           "MA"
          ],
          [
           "MN"
          ],
          [
           "MN"
          ],
          [
           "AZ"
          ],
          [
           "TX"
          ],
          [
           "CA"
          ],
          [
           "GA"
          ],
          [
           "KS"
          ],
          [
           "MN"
          ],
          [
           "VA"
          ],
          [
           "NV"
          ],
          [
           "SD"
          ],
          [
           "SC"
          ],
          [
           "SC"
          ],
          [
           "IN"
          ],
          [
           "CA"
          ],
          [
           "CA"
          ],
          [
           "WI"
          ],
          [
           "AZ"
          ],
          [
           "WI"
          ],
          [
           "FL"
          ],
          [
           "MA"
          ],
          [
           "OH"
          ],
          [
           "MN"
          ],
          [
           "AZ"
          ],
          [
           "MI"
          ],
          [
           "TX"
          ],
          [
           "AZ"
          ],
          [
           "ND"
          ],
          [
           "WI"
          ],
          [
           "NC"
          ],
          [
           "MN"
          ],
          [
           "PA"
          ],
          [
           "OH"
          ],
          [
           "AR"
          ],
          [
           "SC"
          ],
          [
           "NC"
          ],
          [
           "AZ"
          ],
          [
           "ND"
          ],
          [
           "MN"
          ],
          [
           "TX"
          ],
          [
           "IA"
          ],
          [
           "GA"
          ],
          [
           "CA"
          ],
          [
           "AZ"
          ],
          [
           "AR"
          ],
          [
           "NJ"
          ],
          [
           "TX"
          ],
          [
           "MD"
          ],
          [
           "WI"
          ],
          [
           "MN"
          ],
          [
           "SC"
          ],
          [
           "NC"
          ],
          [
           "GA"
          ],
          [
           "FL"
          ],
          [
           "MD"
          ],
          [
           "OH"
          ],
          [
           "OH"
          ],
          [
           "CO"
          ],
          [
           "MO"
          ],
          [
           "IL"
          ],
          [
           "CT"
          ],
          [
           "MI"
          ],
          [
           "GA"
          ],
          [
           "DE"
          ],
          [
           "TX"
          ],
          [
           "MI"
          ],
          [
           "MN"
          ],
          [
           "NC"
          ],
          [
           "WI"
          ],
          [
           "TX"
          ],
          [
           "MO"
          ],
          [
           "MT"
          ],
          [
           "FL"
          ],
          [
           "FL"
          ],
          [
           "MN"
          ],
          [
           "IA"
          ],
          [
           "ID"
          ],
          [
           "IN"
          ],
          [
           "IN"
          ],
          [
           "IN"
          ],
          [
           "GA"
          ],
          [
           "IL"
          ],
          [
           "IN"
          ],
          [
           "MO"
          ],
          [
           "FL"
          ],
          [
           "CA"
          ],
          [
           "KY"
          ],
          [
           "IA"
          ],
          [
           "TX"
          ],
          [
           "MN"
          ],
          [
           "MS"
          ],
          [
           "MO"
          ],
          [
           "NE"
          ],
          [
           "NV"
          ],
          [
           "LA"
          ],
          [
           "NY"
          ],
          [
           "NE"
          ],
          [
           "AR"
          ],
          [
           "MN"
          ],
          [
           "OK"
          ],
          [
           "WI"
          ],
          [
           "OH"
          ],
          [
           "NE"
          ],
          [
           "MN"
          ],
          [
           "MN"
          ],
          [
           "CA"
          ],
          [
           "SC"
          ],
          [
           "MN"
          ],
          [
           "SC"
          ],
          [
           "PA"
          ],
          [
           "NC"
          ],
          [
           "PA"
          ],
          [
           "NC"
          ],
          [
           "WI"
          ],
          [
           "WI"
          ],
          [
           "CO"
          ],
          [
           "IN"
          ],
          [
           "NM"
          ],
          [
           "OK"
          ],
          [
           "NJ"
          ],
          [
           "GA"
          ],
          [
           "MN"
          ],
          [
           "AZ"
          ],
          [
           "TX"
          ],
          [
           "CA"
          ],
          [
           "GA"
          ],
          [
           "KS"
          ],
          [
           "MN"
          ],
          [
           "VA"
          ],
          [
           "NV"
          ],
          [
           "SD"
          ],
          [
           "SC"
          ],
          [
           "SC"
          ],
          [
           "IN"
          ],
          [
           "CA"
          ],
          [
           "WI"
          ],
          [
           "AZ"
          ],
          [
           "WI"
          ],
          [
           "FL"
          ],
          [
           "MA"
          ],
          [
           "OH"
          ],
          [
           "AZ"
          ],
          [
           "MI"
          ],
          [
           "TX"
          ],
          [
           "AZ"
          ],
          [
           "ND"
          ],
          [
           "WI"
          ],
          [
           "NC"
          ],
          [
           "PA"
          ],
          [
           "MA"
          ],
          [
           "MN"
          ],
          [
           "AR"
          ],
          [
           "NC"
          ],
          [
           "AZ"
          ],
          [
           "ND"
          ],
          [
           "IN"
          ],
          [
           "MN"
          ],
          [
           "TX"
          ],
          [
           "IA"
          ],
          [
           "CA"
          ],
          [
           "AZ"
          ],
          [
           "AR"
          ],
          [
           "NJ"
          ],
          [
           "TX"
          ],
          [
           "MD"
          ],
          [
           "WI"
          ],
          [
           "MN"
          ],
          [
           "SC"
          ],
          [
           "NC"
          ],
          [
           "GA"
          ],
          [
           "OH"
          ],
          [
           "OH"
          ],
          [
           "FL"
          ],
          [
           "CO"
          ],
          [
           "MO"
          ],
          [
           "IL"
          ],
          [
           "CT"
          ],
          [
           "MI"
          ],
          [
           "GA"
          ],
          [
           "DE"
          ],
          [
           "TX"
          ],
          [
           "MI"
          ],
          [
           "MN"
          ],
          [
           "NC"
          ],
          [
           "WI"
          ],
          [
           "TX"
          ],
          [
           "MO"
          ],
          [
           "MT"
          ],
          [
           "FL"
          ],
          [
           "FL"
          ],
          [
           "MN"
          ],
          [
           "IA"
          ],
          [
           "IA"
          ],
          [
           "NC"
          ],
          [
           "SC"
          ],
          [
           "ID"
          ],
          [
           "IN"
          ],
          [
           "IN"
          ],
          [
           "IN"
          ],
          [
           "GA"
          ],
          [
           "IN"
          ],
          [
           "KS"
          ],
          [
           "MO"
          ],
          [
           "SC"
          ],
          [
           "FL"
          ],
          [
           "CA"
          ],
          [
           "KY"
          ],
          [
           "IA"
          ],
          [
           "TX"
          ],
          [
           "MN"
          ],
          [
           "MS"
          ],
          [
           "MO"
          ],
          [
           "CO"
          ],
          [
           "NE"
          ],
          [
           "NV"
          ],
          [
           "LA"
          ],
          [
           "NY"
          ],
          [
           "NY"
          ],
          [
           "NE"
          ],
          [
           "AR"
          ],
          [
           "MN"
          ],
          [
           "WI"
          ],
          [
           "OH"
          ],
          [
           "OH"
          ],
          [
           "MN"
          ],
          [
           "MN"
          ],
          [
           "CA"
          ],
          [
           "SC"
          ],
          [
           "MN"
          ],
          [
           "SC"
          ],
          [
           "NC"
          ],
          [
           "PA"
          ],
          [
           "NC"
          ],
          [
           "WI"
          ],
          [
           "WI"
          ],
          [
           "CO"
          ],
          [
           "IN"
          ],
          [
           "NM"
          ],
          [
           "OK"
          ],
          [
           "NJ"
          ],
          [
           "GA"
          ],
          [
           "MA"
          ],
          [
           "MN"
          ],
          [
           "AZ"
          ],
          [
           "TX"
          ],
          [
           "CA"
          ],
          [
           "GA"
          ],
          [
           "KS"
          ],
          [
           "MN"
          ],
          [
           "VA"
          ],
          [
           "NV"
          ],
          [
           "SC"
          ],
          [
           "SC"
          ],
          [
           "CA"
          ],
          [
           "CA"
          ],
          [
           "WI"
          ],
          [
           "AZ"
          ],
          [
           "WI"
          ],
          [
           "FL"
          ],
          [
           "MA"
          ],
          [
           "OH"
          ],
          [
           "MN"
          ],
          [
           "AZ"
          ],
          [
           "MI"
          ],
          [
           "TX"
          ],
          [
           "AZ"
          ],
          [
           "ND"
          ],
          [
           "NC"
          ],
          [
           "MN"
          ],
          [
           "PA"
          ],
          [
           "MA"
          ],
          [
           "MN"
          ],
          [
           "NC"
          ],
          [
           "AZ"
          ],
          [
           "ND"
          ],
          [
           "IN"
          ],
          [
           "TX"
          ],
          [
           "IA"
          ],
          [
           "CA"
          ],
          [
           "AZ"
          ],
          [
           "AR"
          ],
          [
           "NJ"
          ],
          [
           "TX"
          ],
          [
           "MD"
          ],
          [
           "WI"
          ],
          [
           "MN"
          ],
          [
           "SC"
          ],
          [
           "NC"
          ],
          [
           "AL"
          ],
          [
           "GA"
          ],
          [
           "MD"
          ],
          [
           "OH"
          ],
          [
           "OH"
          ],
          [
           "FL"
          ],
          [
           "CO"
          ],
          [
           "MO"
          ],
          [
           "IL"
          ],
          [
           "CT"
          ],
          [
           "MI"
          ],
          [
           "OK"
          ],
          [
           "AL"
          ],
          [
           "GA"
          ],
          [
           "DE"
          ],
          [
           "NC"
          ],
          [
           "WI"
          ],
          [
           "TX"
          ],
          [
           "MO"
          ],
          [
           "MT"
          ],
          [
           "FL"
          ],
          [
           "MN"
          ],
          [
           "IA"
          ],
          [
           "IA"
          ],
          [
           "NC"
          ],
          [
           "ID"
          ],
          [
           "IN"
          ],
          [
           "IN"
          ],
          [
           "IN"
          ],
          [
           "IN"
          ],
          [
           "KS"
          ],
          [
           "MO"
          ],
          [
           "KS"
          ],
          [
           "CA"
          ],
          [
           "KY"
          ],
          [
           "IA"
          ],
          [
           "TX"
          ],
          [
           "MN"
          ],
          [
           "MO"
          ],
          [
           "CO"
          ],
          [
           "NE"
          ],
          [
           "NV"
          ],
          [
           "NY"
          ],
          [
           "NY"
          ],
          [
           "NE"
          ],
          [
           "AR"
          ],
          [
           "MN"
          ],
          [
           "WI"
          ],
          [
           "OH"
          ],
          [
           "OH"
          ],
          [
           "MN"
          ],
          [
           "CA"
          ],
          [
           "SC"
          ],
          [
           "MN"
          ],
          [
           "SC"
          ],
          [
           "PA"
          ],
          [
           "NC"
          ],
          [
           "CO"
          ],
          [
           "WI"
          ],
          [
           "CO"
          ],
          [
           "IN"
          ],
          [
           "NM"
          ],
          [
           "OK"
          ],
          [
           "NJ"
          ],
          [
           "GA"
          ],
          [
           "MN"
          ],
          [
           "AZ"
          ],
          [
           "TX"
          ],
          [
           "SC"
          ],
          [
           "CA"
          ],
          [
           "GA"
          ],
          [
           "KS"
          ],
          [
           "MN"
          ],
          [
           "VA"
          ],
          [
           "NV"
          ],
          [
           "SC"
          ],
          [
           "SC"
          ],
          [
           "CA"
          ],
          [
           "WI"
          ],
          [
           "AZ"
          ],
          [
           "WI"
          ],
          [
           "FL"
          ],
          [
           "OH"
          ],
          [
           "MN"
          ],
          [
           "AZ"
          ],
          [
           "MI"
          ],
          [
           "TX"
          ],
          [
           "HI"
          ],
          [
           "AZ"
          ],
          [
           "ND"
          ],
          [
           "NC"
          ],
          [
           "MN"
          ],
          [
           "MA"
          ],
          [
           "NC"
          ],
          [
           "KS"
          ],
          [
           "AZ"
          ],
          [
           "ND"
          ],
          [
           "IN"
          ],
          [
           "TX"
          ]
         ],
         "geo": "geo",
         "hovertemplate": "<b>%{hovertext}</b><br><br>total_cust=%{marker.size}<br>saidi_nomed=%{marker.color}<extra></extra>",
         "hovertext": [
          "IA",
          "IA",
          "CA",
          "AZ",
          "AR",
          "NJ",
          "MN",
          "TX",
          "MD",
          "WI",
          "MN",
          "SC",
          "NC",
          "NC",
          "GA",
          "FL",
          "MD",
          "OH",
          "OH",
          "FL",
          "CO",
          "MO",
          "IL",
          "CT",
          "MI",
          "GA",
          "NY",
          "DE",
          "MI",
          "MN",
          "NC",
          "WI",
          "TX",
          "MO",
          "MT",
          "FL",
          "MN",
          "TX",
          "FL",
          "IA",
          "NC",
          "CO",
          "SC",
          "ID",
          "IN",
          "IN",
          "IN",
          "GA",
          "IL",
          "IN",
          "MO",
          "KY",
          "NE",
          "CA",
          "KY",
          "IA",
          "TX",
          "IL",
          "MN",
          "MS",
          "MO",
          "CA",
          "NE",
          "NV",
          "LA",
          "NY",
          "NE",
          "AR",
          "MN",
          "OK",
          "WI",
          "OH",
          "OH",
          "NE",
          "MN",
          "MN",
          "CA",
          "MN",
          "SC",
          "PA",
          "NC",
          "PA",
          "NC",
          "WI",
          "WI",
          "CO",
          "IN",
          "NH",
          "NM",
          "OK",
          "NJ",
          "MA",
          "NC",
          "MN",
          "AZ",
          "TX",
          "CA",
          "GA",
          "KS",
          "MN",
          "VA",
          "NV",
          "SC",
          "SC",
          "IN",
          "CA",
          "WI",
          "AZ",
          "WI",
          "FL",
          "MA",
          "OH",
          "MN",
          "AZ",
          "MI",
          "MO",
          "KY",
          "TX",
          "AZ",
          "ND",
          "WI",
          "NC",
          "MN",
          "PA",
          "SD",
          "OH",
          "MN",
          "AR",
          "SC",
          "NC",
          "ND",
          "MN",
          "TX",
          "IA",
          "CA",
          "AZ",
          "AR",
          "NJ",
          "MN",
          "MD",
          "WI",
          "MN",
          "SC",
          "NC",
          "NC",
          "GA",
          "FL",
          "OH",
          "OH",
          "FL",
          "CO",
          "MO",
          "IL",
          "CT",
          "MI",
          "GA",
          "DE",
          "MI",
          "MN",
          "NC",
          "WI",
          "TX",
          "MO",
          "MT",
          "FL",
          "FL",
          "MN",
          "TX",
          "FL",
          "IA",
          "NC",
          "SC",
          "ID",
          "IN",
          "IN",
          "IN",
          "GA",
          "IL",
          "IN",
          "KY",
          "NE",
          "CA",
          "KY",
          "IA",
          "IL",
          "MN",
          "MS",
          "CO",
          "NE",
          "NV",
          "LA",
          "NY",
          "NE",
          "AR",
          "MN",
          "OK",
          "WI",
          "OH",
          "NE",
          "MN",
          "CA",
          "MN",
          "SC",
          "PA",
          "NC",
          "PA",
          "NC",
          "WI",
          "WI",
          "CO",
          "IN",
          "NM",
          "OK",
          "NJ",
          "GA",
          "MA",
          "MN",
          "MN",
          "AZ",
          "TX",
          "CA",
          "GA",
          "KS",
          "MN",
          "VA",
          "NV",
          "SD",
          "SC",
          "SC",
          "IN",
          "CA",
          "CA",
          "WI",
          "AZ",
          "WI",
          "FL",
          "MA",
          "OH",
          "MN",
          "AZ",
          "MI",
          "TX",
          "AZ",
          "ND",
          "WI",
          "NC",
          "MN",
          "PA",
          "OH",
          "AR",
          "SC",
          "NC",
          "AZ",
          "ND",
          "MN",
          "TX",
          "IA",
          "GA",
          "CA",
          "AZ",
          "AR",
          "NJ",
          "TX",
          "MD",
          "WI",
          "MN",
          "SC",
          "NC",
          "GA",
          "FL",
          "MD",
          "OH",
          "OH",
          "CO",
          "MO",
          "IL",
          "CT",
          "MI",
          "GA",
          "DE",
          "TX",
          "MI",
          "MN",
          "NC",
          "WI",
          "TX",
          "MO",
          "MT",
          "FL",
          "FL",
          "MN",
          "IA",
          "ID",
          "IN",
          "IN",
          "IN",
          "GA",
          "IL",
          "IN",
          "MO",
          "FL",
          "CA",
          "KY",
          "IA",
          "TX",
          "MN",
          "MS",
          "MO",
          "NE",
          "NV",
          "LA",
          "NY",
          "NE",
          "AR",
          "MN",
          "OK",
          "WI",
          "OH",
          "NE",
          "MN",
          "MN",
          "CA",
          "SC",
          "MN",
          "SC",
          "PA",
          "NC",
          "PA",
          "NC",
          "WI",
          "WI",
          "CO",
          "IN",
          "NM",
          "OK",
          "NJ",
          "GA",
          "MN",
          "AZ",
          "TX",
          "CA",
          "GA",
          "KS",
          "MN",
          "VA",
          "NV",
          "SD",
          "SC",
          "SC",
          "IN",
          "CA",
          "WI",
          "AZ",
          "WI",
          "FL",
          "MA",
          "OH",
          "AZ",
          "MI",
          "TX",
          "AZ",
          "ND",
          "WI",
          "NC",
          "PA",
          "MA",
          "MN",
          "AR",
          "NC",
          "AZ",
          "ND",
          "IN",
          "MN",
          "TX",
          "IA",
          "CA",
          "AZ",
          "AR",
          "NJ",
          "TX",
          "MD",
          "WI",
          "MN",
          "SC",
          "NC",
          "GA",
          "OH",
          "OH",
          "FL",
          "CO",
          "MO",
          "IL",
          "CT",
          "MI",
          "GA",
          "DE",
          "TX",
          "MI",
          "MN",
          "NC",
          "WI",
          "TX",
          "MO",
          "MT",
          "FL",
          "FL",
          "MN",
          "IA",
          "IA",
          "NC",
          "SC",
          "ID",
          "IN",
          "IN",
          "IN",
          "GA",
          "IN",
          "KS",
          "MO",
          "SC",
          "FL",
          "CA",
          "KY",
          "IA",
          "TX",
          "MN",
          "MS",
          "MO",
          "CO",
          "NE",
          "NV",
          "LA",
          "NY",
          "NY",
          "NE",
          "AR",
          "MN",
          "WI",
          "OH",
          "OH",
          "MN",
          "MN",
          "CA",
          "SC",
          "MN",
          "SC",
          "NC",
          "PA",
          "NC",
          "WI",
          "WI",
          "CO",
          "IN",
          "NM",
          "OK",
          "NJ",
          "GA",
          "MA",
          "MN",
          "AZ",
          "TX",
          "CA",
          "GA",
          "KS",
          "MN",
          "VA",
          "NV",
          "SC",
          "SC",
          "CA",
          "CA",
          "WI",
          "AZ",
          "WI",
          "FL",
          "MA",
          "OH",
          "MN",
          "AZ",
          "MI",
          "TX",
          "AZ",
          "ND",
          "NC",
          "MN",
          "PA",
          "MA",
          "MN",
          "NC",
          "AZ",
          "ND",
          "IN",
          "TX",
          "IA",
          "CA",
          "AZ",
          "AR",
          "NJ",
          "TX",
          "MD",
          "WI",
          "MN",
          "SC",
          "NC",
          "AL",
          "GA",
          "MD",
          "OH",
          "OH",
          "FL",
          "CO",
          "MO",
          "IL",
          "CT",
          "MI",
          "OK",
          "AL",
          "GA",
          "DE",
          "NC",
          "WI",
          "TX",
          "MO",
          "MT",
          "FL",
          "MN",
          "IA",
          "IA",
          "NC",
          "ID",
          "IN",
          "IN",
          "IN",
          "IN",
          "KS",
          "MO",
          "KS",
          "CA",
          "KY",
          "IA",
          "TX",
          "MN",
          "MO",
          "CO",
          "NE",
          "NV",
          "NY",
          "NY",
          "NE",
          "AR",
          "MN",
          "WI",
          "OH",
          "OH",
          "MN",
          "CA",
          "SC",
          "MN",
          "SC",
          "PA",
          "NC",
          "CO",
          "WI",
          "CO",
          "IN",
          "NM",
          "OK",
          "NJ",
          "GA",
          "MN",
          "AZ",
          "TX",
          "SC",
          "CA",
          "GA",
          "KS",
          "MN",
          "VA",
          "NV",
          "SC",
          "SC",
          "CA",
          "WI",
          "AZ",
          "WI",
          "FL",
          "OH",
          "MN",
          "AZ",
          "MI",
          "TX",
          "HI",
          "AZ",
          "ND",
          "NC",
          "MN",
          "MA",
          "NC",
          "KS",
          "AZ",
          "ND",
          "IN",
          "TX"
         ],
         "legendgroup": "",
         "locationmode": "USA-states",
         "locations": [
          "IA",
          "IA",
          "CA",
          "AZ",
          "AR",
          "NJ",
          "MN",
          "TX",
          "MD",
          "WI",
          "MN",
          "SC",
          "NC",
          "NC",
          "GA",
          "FL",
          "MD",
          "OH",
          "OH",
          "FL",
          "CO",
          "MO",
          "IL",
          "CT",
          "MI",
          "GA",
          "NY",
          "DE",
          "MI",
          "MN",
          "NC",
          "WI",
          "TX",
          "MO",
          "MT",
          "FL",
          "MN",
          "TX",
          "FL",
          "IA",
          "NC",
          "CO",
          "SC",
          "ID",
          "IN",
          "IN",
          "IN",
          "GA",
          "IL",
          "IN",
          "MO",
          "KY",
          "NE",
          "CA",
          "KY",
          "IA",
          "TX",
          "IL",
          "MN",
          "MS",
          "MO",
          "CA",
          "NE",
          "NV",
          "LA",
          "NY",
          "NE",
          "AR",
          "MN",
          "OK",
          "WI",
          "OH",
          "OH",
          "NE",
          "MN",
          "MN",
          "CA",
          "MN",
          "SC",
          "PA",
          "NC",
          "PA",
          "NC",
          "WI",
          "WI",
          "CO",
          "IN",
          "NH",
          "NM",
          "OK",
          "NJ",
          "MA",
          "NC",
          "MN",
          "AZ",
          "TX",
          "CA",
          "GA",
          "KS",
          "MN",
          "VA",
          "NV",
          "SC",
          "SC",
          "IN",
          "CA",
          "WI",
          "AZ",
          "WI",
          "FL",
          "MA",
          "OH",
          "MN",
          "AZ",
          "MI",
          "MO",
          "KY",
          "TX",
          "AZ",
          "ND",
          "WI",
          "NC",
          "MN",
          "PA",
          "SD",
          "OH",
          "MN",
          "AR",
          "SC",
          "NC",
          "ND",
          "MN",
          "TX",
          "IA",
          "CA",
          "AZ",
          "AR",
          "NJ",
          "MN",
          "MD",
          "WI",
          "MN",
          "SC",
          "NC",
          "NC",
          "GA",
          "FL",
          "OH",
          "OH",
          "FL",
          "CO",
          "MO",
          "IL",
          "CT",
          "MI",
          "GA",
          "DE",
          "MI",
          "MN",
          "NC",
          "WI",
          "TX",
          "MO",
          "MT",
          "FL",
          "FL",
          "MN",
          "TX",
          "FL",
          "IA",
          "NC",
          "SC",
          "ID",
          "IN",
          "IN",
          "IN",
          "GA",
          "IL",
          "IN",
          "KY",
          "NE",
          "CA",
          "KY",
          "IA",
          "IL",
          "MN",
          "MS",
          "CO",
          "NE",
          "NV",
          "LA",
          "NY",
          "NE",
          "AR",
          "MN",
          "OK",
          "WI",
          "OH",
          "NE",
          "MN",
          "CA",
          "MN",
          "SC",
          "PA",
          "NC",
          "PA",
          "NC",
          "WI",
          "WI",
          "CO",
          "IN",
          "NM",
          "OK",
          "NJ",
          "GA",
          "MA",
          "MN",
          "MN",
          "AZ",
          "TX",
          "CA",
          "GA",
          "KS",
          "MN",
          "VA",
          "NV",
          "SD",
          "SC",
          "SC",
          "IN",
          "CA",
          "CA",
          "WI",
          "AZ",
          "WI",
          "FL",
          "MA",
          "OH",
          "MN",
          "AZ",
          "MI",
          "TX",
          "AZ",
          "ND",
          "WI",
          "NC",
          "MN",
          "PA",
          "OH",
          "AR",
          "SC",
          "NC",
          "AZ",
          "ND",
          "MN",
          "TX",
          "IA",
          "GA",
          "CA",
          "AZ",
          "AR",
          "NJ",
          "TX",
          "MD",
          "WI",
          "MN",
          "SC",
          "NC",
          "GA",
          "FL",
          "MD",
          "OH",
          "OH",
          "CO",
          "MO",
          "IL",
          "CT",
          "MI",
          "GA",
          "DE",
          "TX",
          "MI",
          "MN",
          "NC",
          "WI",
          "TX",
          "MO",
          "MT",
          "FL",
          "FL",
          "MN",
          "IA",
          "ID",
          "IN",
          "IN",
          "IN",
          "GA",
          "IL",
          "IN",
          "MO",
          "FL",
          "CA",
          "KY",
          "IA",
          "TX",
          "MN",
          "MS",
          "MO",
          "NE",
          "NV",
          "LA",
          "NY",
          "NE",
          "AR",
          "MN",
          "OK",
          "WI",
          "OH",
          "NE",
          "MN",
          "MN",
          "CA",
          "SC",
          "MN",
          "SC",
          "PA",
          "NC",
          "PA",
          "NC",
          "WI",
          "WI",
          "CO",
          "IN",
          "NM",
          "OK",
          "NJ",
          "GA",
          "MN",
          "AZ",
          "TX",
          "CA",
          "GA",
          "KS",
          "MN",
          "VA",
          "NV",
          "SD",
          "SC",
          "SC",
          "IN",
          "CA",
          "WI",
          "AZ",
          "WI",
          "FL",
          "MA",
          "OH",
          "AZ",
          "MI",
          "TX",
          "AZ",
          "ND",
          "WI",
          "NC",
          "PA",
          "MA",
          "MN",
          "AR",
          "NC",
          "AZ",
          "ND",
          "IN",
          "MN",
          "TX",
          "IA",
          "CA",
          "AZ",
          "AR",
          "NJ",
          "TX",
          "MD",
          "WI",
          "MN",
          "SC",
          "NC",
          "GA",
          "OH",
          "OH",
          "FL",
          "CO",
          "MO",
          "IL",
          "CT",
          "MI",
          "GA",
          "DE",
          "TX",
          "MI",
          "MN",
          "NC",
          "WI",
          "TX",
          "MO",
          "MT",
          "FL",
          "FL",
          "MN",
          "IA",
          "IA",
          "NC",
          "SC",
          "ID",
          "IN",
          "IN",
          "IN",
          "GA",
          "IN",
          "KS",
          "MO",
          "SC",
          "FL",
          "CA",
          "KY",
          "IA",
          "TX",
          "MN",
          "MS",
          "MO",
          "CO",
          "NE",
          "NV",
          "LA",
          "NY",
          "NY",
          "NE",
          "AR",
          "MN",
          "WI",
          "OH",
          "OH",
          "MN",
          "MN",
          "CA",
          "SC",
          "MN",
          "SC",
          "NC",
          "PA",
          "NC",
          "WI",
          "WI",
          "CO",
          "IN",
          "NM",
          "OK",
          "NJ",
          "GA",
          "MA",
          "MN",
          "AZ",
          "TX",
          "CA",
          "GA",
          "KS",
          "MN",
          "VA",
          "NV",
          "SC",
          "SC",
          "CA",
          "CA",
          "WI",
          "AZ",
          "WI",
          "FL",
          "MA",
          "OH",
          "MN",
          "AZ",
          "MI",
          "TX",
          "AZ",
          "ND",
          "NC",
          "MN",
          "PA",
          "MA",
          "MN",
          "NC",
          "AZ",
          "ND",
          "IN",
          "TX",
          "IA",
          "CA",
          "AZ",
          "AR",
          "NJ",
          "TX",
          "MD",
          "WI",
          "MN",
          "SC",
          "NC",
          "AL",
          "GA",
          "MD",
          "OH",
          "OH",
          "FL",
          "CO",
          "MO",
          "IL",
          "CT",
          "MI",
          "OK",
          "AL",
          "GA",
          "DE",
          "NC",
          "WI",
          "TX",
          "MO",
          "MT",
          "FL",
          "MN",
          "IA",
          "IA",
          "NC",
          "ID",
          "IN",
          "IN",
          "IN",
          "IN",
          "KS",
          "MO",
          "KS",
          "CA",
          "KY",
          "IA",
          "TX",
          "MN",
          "MO",
          "CO",
          "NE",
          "NV",
          "NY",
          "NY",
          "NE",
          "AR",
          "MN",
          "WI",
          "OH",
          "OH",
          "MN",
          "CA",
          "SC",
          "MN",
          "SC",
          "PA",
          "NC",
          "CO",
          "WI",
          "CO",
          "IN",
          "NM",
          "OK",
          "NJ",
          "GA",
          "MN",
          "AZ",
          "TX",
          "SC",
          "CA",
          "GA",
          "KS",
          "MN",
          "VA",
          "NV",
          "SC",
          "SC",
          "CA",
          "WI",
          "AZ",
          "WI",
          "FL",
          "OH",
          "MN",
          "AZ",
          "MI",
          "TX",
          "HI",
          "AZ",
          "ND",
          "NC",
          "MN",
          "MA",
          "NC",
          "KS",
          "AZ",
          "ND",
          "IN",
          "TX"
         ],
         "marker": {
          "color": [
           141.6,
           15.79,
           42.12,
           86.8,
           308.8,
           76,
           31.885,
           68.68,
           81.781,
           144.72,
           77.694,
           160.4,
           71.38,
           149,
           79.06,
           67.127,
           197.6,
           96,
           130.468,
           158.92,
           40.926,
           44.87,
           51.332,
           249.17,
           233.34099999999998,
           95.83,
           812.9,
           83.08,
           202.375,
           6.3,
           174,
           55.78,
           76.38600000000001,
           138.16,
           136.74,
           51.46,
           84.4,
           8.331,
           574.822,
           96.84899999999999,
           599.765,
           72.5,
           68.035,
           120,
           75.60300000000001,
           189.4,
           146.148,
           73.05,
           63,
           37.056999999999995,
           91.38,
           98.4,
           13.5,
           112.84,
           85.03,
           50.76,
           140.408,
           203.313,
           144.02,
           76.42,
           125.16,
           32.75,
           46.5,
           37.68,
           158.4,
           135.57,
           158.7,
           210.85,
           80.66,
           131.2,
           107.22,
           108.819,
           202.4,
           76.3,
           101.73,
           18.771,
           134.1,
           87.88,
           98.4,
           74.3,
           136.81,
           94,
           106.087,
           100.009,
           34.8,
           92.694,
           140,
           229.61,
           103.39,
           125.1,
           48.11,
           16.399,
           264.2,
           39.171,
           43.27,
           54.86,
           68.64,
           43.8,
           206.52599999999998,
           8.683,
           159.6,
           189.44,
           77.89,
           18.942,
           337.1,
           90.75,
           106.698,
           61.4,
           29.88,
           85.71,
           68.48899999999999,
           66.877,
           100.789,
           43.043,
           156,
           106,
           170,
           98.367,
           7.38,
           81.48,
           125,
           87.2,
           18.2,
           197.84799999999998,
           61.56,
           18.35,
           4.83,
           31.8,
           72.27,
           98.58,
           30.56,
           81,
           297,
           90.6,
           27.4,
           86.3,
           297.2,
           76.4,
           8.328,
           94.917,
           136.10399999999998,
           108.22399999999999,
           133.1,
           76.1,
           165,
           88.671,
           82.353,
           143,
           126.39,
           128.09,
           43,
           31.069000000000003,
           57.82899999999999,
           81,
           200.9,
           100.26,
           84.29,
           177.188,
           7.7,
           203,
           59.82,
           49.27,
           102.55,
           168.2,
           54.59,
           111,
           89.2,
           7.83,
           124.34,
           99.52799999999999,
           490.686,
           169.465,
           121.54,
           67.459,
           175.7,
           216.612,
           75.41,
           59,
           34.5,
           100.14,
           20.3,
           105.44,
           85.72,
           33.62,
           172.49,
           134,
           72.93,
           50.458999999999996,
           49.05,
           46.45,
           147,
           147.039,
           190.44099999999997,
           209.13,
           95.02,
           159.21,
           131.94,
           107.686,
           101.8,
           13.86,
           126.3,
           97.8,
           81.2,
           80.6,
           184.13,
           87.9,
           149.028,
           174.03,
           36.6,
           97.9,
           156,
           107.33,
           101.2,
           55.1,
           182.88299999999998,
           19.309,
           31.179000000000002,
           82.68299999999999,
           36.67,
           54.4,
           77.71,
           47.57,
           104.04299999999999,
           13.475999999999999,
           195.6,
           161.59,
           97.68299999999999,
           96.16,
           20.561,
           421.4,
           71.252,
           74.398,
           104.064,
           73.32,
           46,
           81.54,
           81.22800000000001,
           55.746,
           112.779,
           28.41,
           249,
           81.867,
           47.67,
           74.41,
           144.6,
           72.8,
           69,
           170.627,
           24.53,
           32.6,
           82.8,
           119.22,
           0,
           33.75,
           159.815,
           224.2,
           211.8,
           31.5,
           35.04,
           74.5,
           218.5,
           66.15,
           63.02,
           74,
           62.523999999999994,
           93.667,
           138.96,
           143,
           76.57,
           75.882,
           122.55,
           158.5,
           120.223,
           47.75,
           35.346,
           55.413999999999994,
           78.2,
           160.9,
           110.17,
           94.12,
           33.74,
           196,
           11.149000000000001,
           192,
           48.34,
           81.016,
           116.59,
           209.8,
           58.97,
           93,
           68.3,
           61.176,
           210,
           59.64,
           166.3,
           389.436,
           75.35,
           65.7,
           41.9,
           90.8,
           76.39,
           120.91,
           76.37,
           57.522,
           101.47,
           108.06,
           77.64,
           77.13,
           86.06,
           39.69,
           192.9,
           134.23,
           164.118,
           209.78,
           73.89,
           420,
           183.852,
           99.67299999999999,
           85.9,
           60.1,
           19.04,
           113.4,
           41.50899999999999,
           80.88,
           171.4,
           69.6,
           153.89,
           74.4,
           109.116,
           4.445,
           42.6,
           84.47,
           138.3,
           87.44,
           102.5,
           44.61,
           226.872,
           33.78,
           38.155,
           53.97,
           64.51,
           77.82,
           70.729,
           23.85,
           158.4,
           218.96,
           80.233,
           81.82,
           18.815,
           336.6,
           91.72399999999999,
           58.015,
           68.84,
           53.95,
           86.61,
           67.08800000000001,
           59.544,
           46.7,
           139,
           58.8,
           92.76,
           42.05,
           124.5,
           72.8,
           161.04399999999998,
           71.7,
           27.235,
           34.2,
           94.68,
           7.35,
           30.42,
           211.40099999999998,
           61.953,
           223.6,
           123,
           27.12,
           87,
           288.2,
           98.66,
           56.47,
           102,
           163.68,
           206.993,
           178.38,
           153,
           65.8,
           145.59,
           114,
           185.98,
           44.06100000000001,
           22.820999999999998,
           63,
           103.8,
           207,
           98.309,
           109.3,
           34.51,
           180,
           9.962,
           170,
           108.3,
           53.6,
           96.68,
           184.08,
           61.62,
           102,
           81.5,
           99.585,
           88.75,
           397.288,
           85.5,
           159.44,
           62,
           152.9,
           218.87400000000002,
           70,
           29.6,
           231.1,
           62.19,
           89.01,
           80.46,
           82.77,
           73.59,
           51.3,
           132,
           122.69,
           75.58,
           65.98,
           66.972,
           53.49,
           44.175,
           190.2,
           218.4,
           129.86,
           172.174,
           185.43,
           92.74,
           79.2,
           91.83200000000001,
           174.7,
           73.4,
           6.34,
           108.9,
           40.98,
           101.45,
           132.6,
           176.3,
           76,
           123.58,
           89.62299999999999,
           55.8,
           86.45,
           142.49,
           84.18,
           100.4,
           49.74,
           112.5,
           22.7,
           34.86,
           43.44,
           57.401,
           72.24,
           58.68,
           162.786,
           27.319000000000003,
           175.8,
           153,
           90.5,
           23.5,
           109.978,
           72.283,
           56.105,
           108.31,
           105,
           102.44,
           26.585,
           70.991,
           89.167,
           41.3,
           179,
           76.342,
           63.865,
           94.12,
           78.6,
           19,
           148.80200000000002,
           87,
           25.6,
           99.96,
           65.08,
           36.16,
           218.391,
           197.8,
           40.165,
           35,
           87,
           283.4,
           95,
           55.15,
           91,
           97.2,
           113.954,
           145.54,
           141,
           155,
           68.7,
           100.2,
           132.84,
           138.5,
           167.09,
           37.766,
           73.263,
           72,
           78.6,
           177,
           199.71,
           77.8,
           89.985,
           109.17,
           143,
           185.22,
           83.728,
           115.72,
           186.91,
           97,
           51,
           54.003,
           49.184,
           392.13199999999995,
           165.519,
           48.7,
           160.1,
           150.816,
           34.4,
           257.94599999999997,
           74.14,
           109.71,
           92.44,
           75.46,
           51.65,
           97.6,
           101.82,
           108.56,
           56.645,
           43.6,
           31.934,
           149.4,
           124.42,
           236.44,
           211.13,
           87.41,
           158.46200000000002,
           96.4,
           201.5,
           7.19,
           96,
           43.339,
           50.84,
           89.9,
           65,
           100.71,
           118,
           58.8,
           88.31,
           121,
           74.63,
           112.1,
           38.41,
           151.8,
           34,
           41.57,
           54.617,
           161.05,
           57.9,
           58.8,
           101.39,
           41.89,
           158.4,
           117,
           96.6,
           23.025,
           100.15100000000001,
           54.475,
           85.77,
           81,
           93.96,
           68.5,
           67.454,
           62.9,
           179,
           90,
           99.43,
           72.351,
           58.95,
           50.2,
           22,
           68.7,
           98.5,
           136.37,
           59.43600000000001,
           38.3,
           202.3,
           204.8
          ],
          "coloraxis": "coloraxis",
          "size": [
           9987,
           26956,
           120279,
           1260386,
           713072,
           486628,
           11746,
           499542,
           965643,
           18850,
           21213,
           104044,
           76823,
           1431264,
           58745,
           53439,
           54590,
           290522,
           190043,
           177752,
           235098,
           50676,
           2730588,
           944461,
           1836668,
           82443,
           5372,
           101814,
           2209021,
           7631,
           2047365,
           10057,
           328756,
           155425,
           68218,
           5061483,
           20904,
           15038,
           20316,
           5186,
           27124,
           57934,
           81919,
           545819,
           503198,
           467397,
           24657,
           233101,
           20726,
           27698,
           291626,
           528336,
           141650,
           1447371,
           415853,
           2253,
           121528,
           10929,
           147340,
           188342,
           328464,
           129642,
           90352,
           951035,
           204479,
           1396453,
           24538,
           37022,
           1300836,
           6554,
           17036,
           327657,
           920735,
           384501,
           61748,
           11869,
           2635291,
           22859,
           30490,
           855014,
           21110,
           1142446,
           32534,
           7633,
           20800,
           1499395,
           840116,
           400893,
           530259,
           557421,
           2034027,
           29775,
           14187,
           55919,
           1076347,
           850161,
           1452138,
           183053,
           6953,
           17798,
           95555,
           352366,
           743780,
           189205,
           27313,
           4120399,
           10916,
           52220,
           4414,
           771959,
           39056,
           93567,
           15937,
           48274,
           26105,
           1230248,
           143431,
           87738,
           97992,
           16374,
           11237,
           46983,
           4184,
           542979,
           17465,
           17434,
           9603,
           19027,
           62320,
           130295,
           52086,
           4681,
           459190,
           9985,
           119401,
           1235451,
           711931,
           472235,
           11694,
           953159,
           18615,
           21013,
           100139,
           76261,
           1411441,
           57383,
           51790,
           286825,
           197486,
           175642,
           231570,
           50233,
           2660997,
           919427,
           1826166,
           80494,
           98519,
           2196620,
           7353,
           2005333,
           9972,
           323297,
           154042,
           66911,
           4961288,
           1801551,
           20910,
           14836,
           464682,
           5193,
           26884,
           79747,
           532401,
           495352,
           465774,
           24597,
           228950,
           21111,
           27144,
           524987,
           140028,
           1435572,
           411711,
           2232,
           10899,
           146741,
           188000,
           53034,
           90507,
           934360,
           202634,
           1377969,
           24358,
           36834,
           1290004,
           6446,
           16970,
           313931,
           380307,
           11914,
           3847071,
           22653,
           30430,
           811946,
           21075,
           1095472,
           32113,
           7594,
           20561,
           1478992,
           830270,
           526346,
           554499,
           1998695,
           18438,
           29908,
           54726,
           6536,
           1060016,
           832590,
           1444267,
           178847,
           6847,
           17368,
           94640,
           347181,
           21640,
           726679,
           185144,
           27156,
           4956292,
           24301,
           10763,
           51979,
           4395,
           763571,
           38728,
           88812,
           15877,
           47052,
           25983,
           85374,
           97926,
           16269,
           11199,
           45235,
           4182,
           531135,
           17223,
           19870,
           60288,
           129872,
           426451,
           50633,
           4628,
           453043,
           9971,
           20630,
           126737,
           1214627,
           708855,
           459942,
           475744,
           941241,
           18477,
           20890,
           96457,
           1390064,
           56234,
           50180,
           53825,
           324095,
           207198,
           227402,
           49882,
           2589987,
           889945,
           1816948,
           79382,
           95602,
           222654,
           2184813,
           7348,
           1974982,
           9903,
           318055,
           152950,
           65745,
           4901846,
           1775327,
           20877,
           5187,
           520652,
           491347,
           463352,
           24496,
           225087,
           20968,
           26621,
           284495,
           213636,
           1426865,
           408738,
           2211,
           113763,
           146353,
           187594,
           323470,
           90271,
           1018321,
           200137,
           1348697,
           24130,
           36651,
           1279507,
           6642,
           16840,
           347706,
           374817,
           60858,
           11928,
           4546272,
           71545,
           22387,
           30420,
           789573,
           21037,
           1048211,
           31663,
           7546,
           20380,
           1459117,
           819569,
           521984,
           550022,
           1945910,
           18382,
           53868,
           1044846,
           811116,
           1434025,
           176599,
           6747,
           17118,
           93405,
           342104,
           21086,
           715592,
           180687,
           23161,
           4971014,
           10567,
           51716,
           4380,
           744691,
           38046,
           100860,
           45895,
           25873,
           82813,
           96168,
           16201,
           11150,
           43323,
           512861,
           159406,
           9098,
           19332,
           128256,
           422544,
           49191,
           16880,
           4606,
           446771,
           9952,
           129919,
           1193511,
           706871,
           463006,
           464322,
           931051,
           18338,
           20881,
           92957,
           1365800,
           55032,
           361824,
           216101,
           171777,
           225406,
           49116,
           2369168,
           846110,
           1805489,
           77859,
           92206,
           209341,
           2168567,
           7326,
           1947526,
           9773,
           312066,
           151722,
           64730,
           4840240,
           1743136,
           20988,
           6771,
           5176,
           26479,
           75984,
           511053,
           486827,
           461154,
           24352,
           221436,
           26170,
           65034,
           279786,
           56479,
           210089,
           1419468,
           404744,
           2189,
           118434,
           145622,
           187553,
           320535,
           50663,
           90115,
           903125,
           198416,
           682633,
           1323415,
           18942,
           36470,
           1269408,
           16534,
           348858,
           955385,
           61483,
           11850,
           5004096,
           69961,
           22154,
           30437,
           20960,
           1028177,
           31581,
           7694,
           20229,
           1441981,
           812986,
           517739,
           547142,
           1968415,
           18298,
           29785,
           52469,
           1029831,
           794768,
           1425133,
           172171,
           6617,
           17026,
           92328,
           338150,
           705025,
           176776,
           5020876,
           23862,
           10440,
           51249,
           4369,
           730504,
           29112,
           101626,
           15735,
           44819,
           25742,
           81057,
           95087,
           16265,
           41013,
           4176,
           512134,
           159336,
           9460,
           126740,
           419845,
           47605,
           16816,
           439570,
           9953,
           123485,
           1177494,
           704170,
           465263,
           452898,
           907561,
           18218,
           20691,
           91204,
           1303473,
           42223,
           54092,
           52828,
           355006,
           203165,
           169366,
           220460,
           48382,
           1836571,
           812555,
           1796196,
           22171,
           22903,
           77621,
           89901,
           1921052,
           9667,
           307294,
           150549,
           63707,
           1721849,
           20966,
           6744,
           5184,
           26286,
           501839,
           484791,
           459445,
           24282,
           25646,
           64329,
           275805,
           323881,
           1413211,
           401371,
           2163,
           114767,
           145033,
           318150,
           51454,
           89792,
           887958,
           669017,
           1288882,
           18795,
           36281,
           1259609,
           16433,
           319880,
           956577,
           11772,
           5069189,
           69326,
           17915,
           30369,
           1046620,
           31381,
           38409,
           20121,
           1423796,
           804322,
           514899,
           544110,
           1966715,
           18316,
           51142,
           1014022,
           776840,
           43813,
           1416660,
           166925,
           6571,
           16847,
           91869,
           334277,
           694834,
           174051,
           4990840,
           10338,
           51267,
           4363,
           718713,
           99004,
           15685,
           43870,
           25654,
           79870,
           302499,
           94203,
           16002,
           39493,
           4166,
           163711,
           125063,
           375809,
           417141,
           45353,
           16755,
           432372
          ],
          "sizemode": "area",
          "sizeref": 2027.6756
         },
         "name": "",
         "showlegend": false,
         "type": "scattergeo"
        }
       ],
       "layout": {
        "coloraxis": {
         "cmax": 180,
         "cmin": 0,
         "colorbar": {
          "title": {
           "text": "saidi_nomed"
          }
         },
         "colorscale": [
          [
           0,
           "#0d0887"
          ],
          [
           0.1111111111111111,
           "#46039f"
          ],
          [
           0.2222222222222222,
           "#7201a8"
          ],
          [
           0.3333333333333333,
           "#9c179e"
          ],
          [
           0.4444444444444444,
           "#bd3786"
          ],
          [
           0.5555555555555556,
           "#d8576b"
          ],
          [
           0.6666666666666666,
           "#ed7953"
          ],
          [
           0.7777777777777778,
           "#fb9f3a"
          ],
          [
           0.8888888888888888,
           "#fdca26"
          ],
          [
           1,
           "#f0f921"
          ]
         ]
        },
        "geo": {
         "center": {},
         "domain": {
          "x": [
           0,
           1
          ],
          "y": [
           0,
           1
          ]
         },
         "projection": {
          "type": "albers usa"
         },
         "scope": "usa"
        },
        "legend": {
         "itemsizing": "constant",
         "tracegroupgap": 0
        },
        "margin": {
         "t": 60
        },
        "template": {
         "data": {
          "bar": [
           {
            "error_x": {
             "color": "#2a3f5f"
            },
            "error_y": {
             "color": "#2a3f5f"
            },
            "marker": {
             "line": {
              "color": "#E5ECF6",
              "width": 0.5
             }
            },
            "type": "bar"
           }
          ],
          "barpolar": [
           {
            "marker": {
             "line": {
              "color": "#E5ECF6",
              "width": 0.5
             }
            },
            "type": "barpolar"
           }
          ],
          "carpet": [
           {
            "aaxis": {
             "endlinecolor": "#2a3f5f",
             "gridcolor": "white",
             "linecolor": "white",
             "minorgridcolor": "white",
             "startlinecolor": "#2a3f5f"
            },
            "baxis": {
             "endlinecolor": "#2a3f5f",
             "gridcolor": "white",
             "linecolor": "white",
             "minorgridcolor": "white",
             "startlinecolor": "#2a3f5f"
            },
            "type": "carpet"
           }
          ],
          "choropleth": [
           {
            "colorbar": {
             "outlinewidth": 0,
             "ticks": ""
            },
            "type": "choropleth"
           }
          ],
          "contour": [
           {
            "colorbar": {
             "outlinewidth": 0,
             "ticks": ""
            },
            "colorscale": [
             [
              0,
              "#0d0887"
             ],
             [
              0.1111111111111111,
              "#46039f"
             ],
             [
              0.2222222222222222,
              "#7201a8"
             ],
             [
              0.3333333333333333,
              "#9c179e"
             ],
             [
              0.4444444444444444,
              "#bd3786"
             ],
             [
              0.5555555555555556,
              "#d8576b"
             ],
             [
              0.6666666666666666,
              "#ed7953"
             ],
             [
              0.7777777777777778,
              "#fb9f3a"
             ],
             [
              0.8888888888888888,
              "#fdca26"
             ],
             [
              1,
              "#f0f921"
             ]
            ],
            "type": "contour"
           }
          ],
          "contourcarpet": [
           {
            "colorbar": {
             "outlinewidth": 0,
             "ticks": ""
            },
            "type": "contourcarpet"
           }
          ],
          "heatmap": [
           {
            "colorbar": {
             "outlinewidth": 0,
             "ticks": ""
            },
            "colorscale": [
             [
              0,
              "#0d0887"
             ],
             [
              0.1111111111111111,
              "#46039f"
             ],
             [
              0.2222222222222222,
              "#7201a8"
             ],
             [
              0.3333333333333333,
              "#9c179e"
             ],
             [
              0.4444444444444444,
              "#bd3786"
             ],
             [
              0.5555555555555556,
              "#d8576b"
             ],
             [
              0.6666666666666666,
              "#ed7953"
             ],
             [
              0.7777777777777778,
              "#fb9f3a"
             ],
             [
              0.8888888888888888,
              "#fdca26"
             ],
             [
              1,
              "#f0f921"
             ]
            ],
            "type": "heatmap"
           }
          ],
          "heatmapgl": [
           {
            "colorbar": {
             "outlinewidth": 0,
             "ticks": ""
            },
            "colorscale": [
             [
              0,
              "#0d0887"
             ],
             [
              0.1111111111111111,
              "#46039f"
             ],
             [
              0.2222222222222222,
              "#7201a8"
             ],
             [
              0.3333333333333333,
              "#9c179e"
             ],
             [
              0.4444444444444444,
              "#bd3786"
             ],
             [
              0.5555555555555556,
              "#d8576b"
             ],
             [
              0.6666666666666666,
              "#ed7953"
             ],
             [
              0.7777777777777778,
              "#fb9f3a"
             ],
             [
              0.8888888888888888,
              "#fdca26"
             ],
             [
              1,
              "#f0f921"
             ]
            ],
            "type": "heatmapgl"
           }
          ],
          "histogram": [
           {
            "marker": {
             "colorbar": {
              "outlinewidth": 0,
              "ticks": ""
             }
            },
            "type": "histogram"
           }
          ],
          "histogram2d": [
           {
            "colorbar": {
             "outlinewidth": 0,
             "ticks": ""
            },
            "colorscale": [
             [
              0,
              "#0d0887"
             ],
             [
              0.1111111111111111,
              "#46039f"
             ],
             [
              0.2222222222222222,
              "#7201a8"
             ],
             [
              0.3333333333333333,
              "#9c179e"
             ],
             [
              0.4444444444444444,
              "#bd3786"
             ],
             [
              0.5555555555555556,
              "#d8576b"
             ],
             [
              0.6666666666666666,
              "#ed7953"
             ],
             [
              0.7777777777777778,
              "#fb9f3a"
             ],
             [
              0.8888888888888888,
              "#fdca26"
             ],
             [
              1,
              "#f0f921"
             ]
            ],
            "type": "histogram2d"
           }
          ],
          "histogram2dcontour": [
           {
            "colorbar": {
             "outlinewidth": 0,
             "ticks": ""
            },
            "colorscale": [
             [
              0,
              "#0d0887"
             ],
             [
              0.1111111111111111,
              "#46039f"
             ],
             [
              0.2222222222222222,
              "#7201a8"
             ],
             [
              0.3333333333333333,
              "#9c179e"
             ],
             [
              0.4444444444444444,
              "#bd3786"
             ],
             [
              0.5555555555555556,
              "#d8576b"
             ],
             [
              0.6666666666666666,
              "#ed7953"
             ],
             [
              0.7777777777777778,
              "#fb9f3a"
             ],
             [
              0.8888888888888888,
              "#fdca26"
             ],
             [
              1,
              "#f0f921"
             ]
            ],
            "type": "histogram2dcontour"
           }
          ],
          "mesh3d": [
           {
            "colorbar": {
             "outlinewidth": 0,
             "ticks": ""
            },
            "type": "mesh3d"
           }
          ],
          "parcoords": [
           {
            "line": {
             "colorbar": {
              "outlinewidth": 0,
              "ticks": ""
             }
            },
            "type": "parcoords"
           }
          ],
          "pie": [
           {
            "automargin": true,
            "type": "pie"
           }
          ],
          "scatter": [
           {
            "marker": {
             "colorbar": {
              "outlinewidth": 0,
              "ticks": ""
             }
            },
            "type": "scatter"
           }
          ],
          "scatter3d": [
           {
            "line": {
             "colorbar": {
              "outlinewidth": 0,
              "ticks": ""
             }
            },
            "marker": {
             "colorbar": {
              "outlinewidth": 0,
              "ticks": ""
             }
            },
            "type": "scatter3d"
           }
          ],
          "scattercarpet": [
           {
            "marker": {
             "colorbar": {
              "outlinewidth": 0,
              "ticks": ""
             }
            },
            "type": "scattercarpet"
           }
          ],
          "scattergeo": [
           {
            "marker": {
             "colorbar": {
              "outlinewidth": 0,
              "ticks": ""
             }
            },
            "type": "scattergeo"
           }
          ],
          "scattergl": [
           {
            "marker": {
             "colorbar": {
              "outlinewidth": 0,
              "ticks": ""
             }
            },
            "type": "scattergl"
           }
          ],
          "scattermapbox": [
           {
            "marker": {
             "colorbar": {
              "outlinewidth": 0,
              "ticks": ""
             }
            },
            "type": "scattermapbox"
           }
          ],
          "scatterpolar": [
           {
            "marker": {
             "colorbar": {
              "outlinewidth": 0,
              "ticks": ""
             }
            },
            "type": "scatterpolar"
           }
          ],
          "scatterpolargl": [
           {
            "marker": {
             "colorbar": {
              "outlinewidth": 0,
              "ticks": ""
             }
            },
            "type": "scatterpolargl"
           }
          ],
          "scatterternary": [
           {
            "marker": {
             "colorbar": {
              "outlinewidth": 0,
              "ticks": ""
             }
            },
            "type": "scatterternary"
           }
          ],
          "surface": [
           {
            "colorbar": {
             "outlinewidth": 0,
             "ticks": ""
            },
            "colorscale": [
             [
              0,
              "#0d0887"
             ],
             [
              0.1111111111111111,
              "#46039f"
             ],
             [
              0.2222222222222222,
              "#7201a8"
             ],
             [
              0.3333333333333333,
              "#9c179e"
             ],
             [
              0.4444444444444444,
              "#bd3786"
             ],
             [
              0.5555555555555556,
              "#d8576b"
             ],
             [
              0.6666666666666666,
              "#ed7953"
             ],
             [
              0.7777777777777778,
              "#fb9f3a"
             ],
             [
              0.8888888888888888,
              "#fdca26"
             ],
             [
              1,
              "#f0f921"
             ]
            ],
            "type": "surface"
           }
          ],
          "table": [
           {
            "cells": {
             "fill": {
              "color": "#EBF0F8"
             },
             "line": {
              "color": "white"
             }
            },
            "header": {
             "fill": {
              "color": "#C8D4E3"
             },
             "line": {
              "color": "white"
             }
            },
            "type": "table"
           }
          ]
         },
         "layout": {
          "annotationdefaults": {
           "arrowcolor": "#2a3f5f",
           "arrowhead": 0,
           "arrowwidth": 1
          },
          "coloraxis": {
           "colorbar": {
            "outlinewidth": 0,
            "ticks": ""
           }
          },
          "colorscale": {
           "diverging": [
            [
             0,
             "#8e0152"
            ],
            [
             0.1,
             "#c51b7d"
            ],
            [
             0.2,
             "#de77ae"
            ],
            [
             0.3,
             "#f1b6da"
            ],
            [
             0.4,
             "#fde0ef"
            ],
            [
             0.5,
             "#f7f7f7"
            ],
            [
             0.6,
             "#e6f5d0"
            ],
            [
             0.7,
             "#b8e186"
            ],
            [
             0.8,
             "#7fbc41"
            ],
            [
             0.9,
             "#4d9221"
            ],
            [
             1,
             "#276419"
            ]
           ],
           "sequential": [
            [
             0,
             "#0d0887"
            ],
            [
             0.1111111111111111,
             "#46039f"
            ],
            [
             0.2222222222222222,
             "#7201a8"
            ],
            [
             0.3333333333333333,
             "#9c179e"
            ],
            [
             0.4444444444444444,
             "#bd3786"
            ],
            [
             0.5555555555555556,
             "#d8576b"
            ],
            [
             0.6666666666666666,
             "#ed7953"
            ],
            [
             0.7777777777777778,
             "#fb9f3a"
            ],
            [
             0.8888888888888888,
             "#fdca26"
            ],
            [
             1,
             "#f0f921"
            ]
           ],
           "sequentialminus": [
            [
             0,
             "#0d0887"
            ],
            [
             0.1111111111111111,
             "#46039f"
            ],
            [
             0.2222222222222222,
             "#7201a8"
            ],
            [
             0.3333333333333333,
             "#9c179e"
            ],
            [
             0.4444444444444444,
             "#bd3786"
            ],
            [
             0.5555555555555556,
             "#d8576b"
            ],
            [
             0.6666666666666666,
             "#ed7953"
            ],
            [
             0.7777777777777778,
             "#fb9f3a"
            ],
            [
             0.8888888888888888,
             "#fdca26"
            ],
            [
             1,
             "#f0f921"
            ]
           ]
          },
          "colorway": [
           "#636efa",
           "#EF553B",
           "#00cc96",
           "#ab63fa",
           "#FFA15A",
           "#19d3f3",
           "#FF6692",
           "#B6E880",
           "#FF97FF",
           "#FECB52"
          ],
          "font": {
           "color": "#2a3f5f"
          },
          "geo": {
           "bgcolor": "white",
           "lakecolor": "white",
           "landcolor": "#E5ECF6",
           "showlakes": true,
           "showland": true,
           "subunitcolor": "white"
          },
          "hoverlabel": {
           "align": "left"
          },
          "hovermode": "closest",
          "mapbox": {
           "style": "light"
          },
          "paper_bgcolor": "white",
          "plot_bgcolor": "#E5ECF6",
          "polar": {
           "angularaxis": {
            "gridcolor": "white",
            "linecolor": "white",
            "ticks": ""
           },
           "bgcolor": "#E5ECF6",
           "radialaxis": {
            "gridcolor": "white",
            "linecolor": "white",
            "ticks": ""
           }
          },
          "scene": {
           "xaxis": {
            "backgroundcolor": "#E5ECF6",
            "gridcolor": "white",
            "gridwidth": 2,
            "linecolor": "white",
            "showbackground": true,
            "ticks": "",
            "zerolinecolor": "white"
           },
           "yaxis": {
            "backgroundcolor": "#E5ECF6",
            "gridcolor": "white",
            "gridwidth": 2,
            "linecolor": "white",
            "showbackground": true,
            "ticks": "",
            "zerolinecolor": "white"
           },
           "zaxis": {
            "backgroundcolor": "#E5ECF6",
            "gridcolor": "white",
            "gridwidth": 2,
            "linecolor": "white",
            "showbackground": true,
            "ticks": "",
            "zerolinecolor": "white"
           }
          },
          "shapedefaults": {
           "line": {
            "color": "#2a3f5f"
           }
          },
          "ternary": {
           "aaxis": {
            "gridcolor": "white",
            "linecolor": "white",
            "ticks": ""
           },
           "baxis": {
            "gridcolor": "white",
            "linecolor": "white",
            "ticks": ""
           },
           "bgcolor": "#E5ECF6",
           "caxis": {
            "gridcolor": "white",
            "linecolor": "white",
            "ticks": ""
           }
          },
          "title": {
           "x": 0.05
          },
          "xaxis": {
           "automargin": true,
           "gridcolor": "white",
           "linecolor": "white",
           "ticks": "",
           "title": {
            "standoff": 15
           },
           "zerolinecolor": "white",
           "zerolinewidth": 2
          },
          "yaxis": {
           "automargin": true,
           "gridcolor": "white",
           "linecolor": "white",
           "ticks": "",
           "title": {
            "standoff": 15
           },
           "zerolinecolor": "white",
           "zerolinewidth": 2
          }
         }
        },
        "title": {
         "text": "Grid Reliability in the 50 States",
         "x": 0.5
        }
       }
      },
      "text/html": [
       "<div>                            <div id=\"58982077-15c3-4b7f-98dc-2435d0e55298\" class=\"plotly-graph-div\" style=\"height:525px; width:100%;\"></div>            <script type=\"text/javascript\">                require([\"plotly\"], function(Plotly) {                    window.PLOTLYENV=window.PLOTLYENV || {};                                    if (document.getElementById(\"58982077-15c3-4b7f-98dc-2435d0e55298\")) {                    Plotly.newPlot(                        \"58982077-15c3-4b7f-98dc-2435d0e55298\",                        [{\"customdata\": [[\"IA\"], [\"IA\"], [\"CA\"], [\"AZ\"], [\"AR\"], [\"NJ\"], [\"MN\"], [\"TX\"], [\"MD\"], [\"WI\"], [\"MN\"], [\"SC\"], [\"NC\"], [\"NC\"], [\"GA\"], [\"FL\"], [\"MD\"], [\"OH\"], [\"OH\"], [\"FL\"], [\"CO\"], [\"MO\"], [\"IL\"], [\"CT\"], [\"MI\"], [\"GA\"], [\"NY\"], [\"DE\"], [\"MI\"], [\"MN\"], [\"NC\"], [\"WI\"], [\"TX\"], [\"MO\"], [\"MT\"], [\"FL\"], [\"MN\"], [\"TX\"], [\"FL\"], [\"IA\"], [\"NC\"], [\"CO\"], [\"SC\"], [\"ID\"], [\"IN\"], [\"IN\"], [\"IN\"], [\"GA\"], [\"IL\"], [\"IN\"], [\"MO\"], [\"KY\"], [\"NE\"], [\"CA\"], [\"KY\"], [\"IA\"], [\"TX\"], [\"IL\"], [\"MN\"], [\"MS\"], [\"MO\"], [\"CA\"], [\"NE\"], [\"NV\"], [\"LA\"], [\"NY\"], [\"NE\"], [\"AR\"], [\"MN\"], [\"OK\"], [\"WI\"], [\"OH\"], [\"OH\"], [\"NE\"], [\"MN\"], [\"MN\"], [\"CA\"], [\"MN\"], [\"SC\"], [\"PA\"], [\"NC\"], [\"PA\"], [\"NC\"], [\"WI\"], [\"WI\"], [\"CO\"], [\"IN\"], [\"NH\"], [\"NM\"], [\"OK\"], [\"NJ\"], [\"MA\"], [\"NC\"], [\"MN\"], [\"AZ\"], [\"TX\"], [\"CA\"], [\"GA\"], [\"KS\"], [\"MN\"], [\"VA\"], [\"NV\"], [\"SC\"], [\"SC\"], [\"IN\"], [\"CA\"], [\"WI\"], [\"AZ\"], [\"WI\"], [\"FL\"], [\"MA\"], [\"OH\"], [\"MN\"], [\"AZ\"], [\"MI\"], [\"MO\"], [\"KY\"], [\"TX\"], [\"AZ\"], [\"ND\"], [\"WI\"], [\"NC\"], [\"MN\"], [\"PA\"], [\"SD\"], [\"OH\"], [\"MN\"], [\"AR\"], [\"SC\"], [\"NC\"], [\"ND\"], [\"MN\"], [\"TX\"], [\"IA\"], [\"CA\"], [\"AZ\"], [\"AR\"], [\"NJ\"], [\"MN\"], [\"MD\"], [\"WI\"], [\"MN\"], [\"SC\"], [\"NC\"], [\"NC\"], [\"GA\"], [\"FL\"], [\"OH\"], [\"OH\"], [\"FL\"], [\"CO\"], [\"MO\"], [\"IL\"], [\"CT\"], [\"MI\"], [\"GA\"], [\"DE\"], [\"MI\"], [\"MN\"], [\"NC\"], [\"WI\"], [\"TX\"], [\"MO\"], [\"MT\"], [\"FL\"], [\"FL\"], [\"MN\"], [\"TX\"], [\"FL\"], [\"IA\"], [\"NC\"], [\"SC\"], [\"ID\"], [\"IN\"], [\"IN\"], [\"IN\"], [\"GA\"], [\"IL\"], [\"IN\"], [\"KY\"], [\"NE\"], [\"CA\"], [\"KY\"], [\"IA\"], [\"IL\"], [\"MN\"], [\"MS\"], [\"CO\"], [\"NE\"], [\"NV\"], [\"LA\"], [\"NY\"], [\"NE\"], [\"AR\"], [\"MN\"], [\"OK\"], [\"WI\"], [\"OH\"], [\"NE\"], [\"MN\"], [\"CA\"], [\"MN\"], [\"SC\"], [\"PA\"], [\"NC\"], [\"PA\"], [\"NC\"], [\"WI\"], [\"WI\"], [\"CO\"], [\"IN\"], [\"NM\"], [\"OK\"], [\"NJ\"], [\"GA\"], [\"MA\"], [\"MN\"], [\"MN\"], [\"AZ\"], [\"TX\"], [\"CA\"], [\"GA\"], [\"KS\"], [\"MN\"], [\"VA\"], [\"NV\"], [\"SD\"], [\"SC\"], [\"SC\"], [\"IN\"], [\"CA\"], [\"CA\"], [\"WI\"], [\"AZ\"], [\"WI\"], [\"FL\"], [\"MA\"], [\"OH\"], [\"MN\"], [\"AZ\"], [\"MI\"], [\"TX\"], [\"AZ\"], [\"ND\"], [\"WI\"], [\"NC\"], [\"MN\"], [\"PA\"], [\"OH\"], [\"AR\"], [\"SC\"], [\"NC\"], [\"AZ\"], [\"ND\"], [\"MN\"], [\"TX\"], [\"IA\"], [\"GA\"], [\"CA\"], [\"AZ\"], [\"AR\"], [\"NJ\"], [\"TX\"], [\"MD\"], [\"WI\"], [\"MN\"], [\"SC\"], [\"NC\"], [\"GA\"], [\"FL\"], [\"MD\"], [\"OH\"], [\"OH\"], [\"CO\"], [\"MO\"], [\"IL\"], [\"CT\"], [\"MI\"], [\"GA\"], [\"DE\"], [\"TX\"], [\"MI\"], [\"MN\"], [\"NC\"], [\"WI\"], [\"TX\"], [\"MO\"], [\"MT\"], [\"FL\"], [\"FL\"], [\"MN\"], [\"IA\"], [\"ID\"], [\"IN\"], [\"IN\"], [\"IN\"], [\"GA\"], [\"IL\"], [\"IN\"], [\"MO\"], [\"FL\"], [\"CA\"], [\"KY\"], [\"IA\"], [\"TX\"], [\"MN\"], [\"MS\"], [\"MO\"], [\"NE\"], [\"NV\"], [\"LA\"], [\"NY\"], [\"NE\"], [\"AR\"], [\"MN\"], [\"OK\"], [\"WI\"], [\"OH\"], [\"NE\"], [\"MN\"], [\"MN\"], [\"CA\"], [\"SC\"], [\"MN\"], [\"SC\"], [\"PA\"], [\"NC\"], [\"PA\"], [\"NC\"], [\"WI\"], [\"WI\"], [\"CO\"], [\"IN\"], [\"NM\"], [\"OK\"], [\"NJ\"], [\"GA\"], [\"MN\"], [\"AZ\"], [\"TX\"], [\"CA\"], [\"GA\"], [\"KS\"], [\"MN\"], [\"VA\"], [\"NV\"], [\"SD\"], [\"SC\"], [\"SC\"], [\"IN\"], [\"CA\"], [\"WI\"], [\"AZ\"], [\"WI\"], [\"FL\"], [\"MA\"], [\"OH\"], [\"AZ\"], [\"MI\"], [\"TX\"], [\"AZ\"], [\"ND\"], [\"WI\"], [\"NC\"], [\"PA\"], [\"MA\"], [\"MN\"], [\"AR\"], [\"NC\"], [\"AZ\"], [\"ND\"], [\"IN\"], [\"MN\"], [\"TX\"], [\"IA\"], [\"CA\"], [\"AZ\"], [\"AR\"], [\"NJ\"], [\"TX\"], [\"MD\"], [\"WI\"], [\"MN\"], [\"SC\"], [\"NC\"], [\"GA\"], [\"OH\"], [\"OH\"], [\"FL\"], [\"CO\"], [\"MO\"], [\"IL\"], [\"CT\"], [\"MI\"], [\"GA\"], [\"DE\"], [\"TX\"], [\"MI\"], [\"MN\"], [\"NC\"], [\"WI\"], [\"TX\"], [\"MO\"], [\"MT\"], [\"FL\"], [\"FL\"], [\"MN\"], [\"IA\"], [\"IA\"], [\"NC\"], [\"SC\"], [\"ID\"], [\"IN\"], [\"IN\"], [\"IN\"], [\"GA\"], [\"IN\"], [\"KS\"], [\"MO\"], [\"SC\"], [\"FL\"], [\"CA\"], [\"KY\"], [\"IA\"], [\"TX\"], [\"MN\"], [\"MS\"], [\"MO\"], [\"CO\"], [\"NE\"], [\"NV\"], [\"LA\"], [\"NY\"], [\"NY\"], [\"NE\"], [\"AR\"], [\"MN\"], [\"WI\"], [\"OH\"], [\"OH\"], [\"MN\"], [\"MN\"], [\"CA\"], [\"SC\"], [\"MN\"], [\"SC\"], [\"NC\"], [\"PA\"], [\"NC\"], [\"WI\"], [\"WI\"], [\"CO\"], [\"IN\"], [\"NM\"], [\"OK\"], [\"NJ\"], [\"GA\"], [\"MA\"], [\"MN\"], [\"AZ\"], [\"TX\"], [\"CA\"], [\"GA\"], [\"KS\"], [\"MN\"], [\"VA\"], [\"NV\"], [\"SC\"], [\"SC\"], [\"CA\"], [\"CA\"], [\"WI\"], [\"AZ\"], [\"WI\"], [\"FL\"], [\"MA\"], [\"OH\"], [\"MN\"], [\"AZ\"], [\"MI\"], [\"TX\"], [\"AZ\"], [\"ND\"], [\"NC\"], [\"MN\"], [\"PA\"], [\"MA\"], [\"MN\"], [\"NC\"], [\"AZ\"], [\"ND\"], [\"IN\"], [\"TX\"], [\"IA\"], [\"CA\"], [\"AZ\"], [\"AR\"], [\"NJ\"], [\"TX\"], [\"MD\"], [\"WI\"], [\"MN\"], [\"SC\"], [\"NC\"], [\"AL\"], [\"GA\"], [\"MD\"], [\"OH\"], [\"OH\"], [\"FL\"], [\"CO\"], [\"MO\"], [\"IL\"], [\"CT\"], [\"MI\"], [\"OK\"], [\"AL\"], [\"GA\"], [\"DE\"], [\"NC\"], [\"WI\"], [\"TX\"], [\"MO\"], [\"MT\"], [\"FL\"], [\"MN\"], [\"IA\"], [\"IA\"], [\"NC\"], [\"ID\"], [\"IN\"], [\"IN\"], [\"IN\"], [\"IN\"], [\"KS\"], [\"MO\"], [\"KS\"], [\"CA\"], [\"KY\"], [\"IA\"], [\"TX\"], [\"MN\"], [\"MO\"], [\"CO\"], [\"NE\"], [\"NV\"], [\"NY\"], [\"NY\"], [\"NE\"], [\"AR\"], [\"MN\"], [\"WI\"], [\"OH\"], [\"OH\"], [\"MN\"], [\"CA\"], [\"SC\"], [\"MN\"], [\"SC\"], [\"PA\"], [\"NC\"], [\"CO\"], [\"WI\"], [\"CO\"], [\"IN\"], [\"NM\"], [\"OK\"], [\"NJ\"], [\"GA\"], [\"MN\"], [\"AZ\"], [\"TX\"], [\"SC\"], [\"CA\"], [\"GA\"], [\"KS\"], [\"MN\"], [\"VA\"], [\"NV\"], [\"SC\"], [\"SC\"], [\"CA\"], [\"WI\"], [\"AZ\"], [\"WI\"], [\"FL\"], [\"OH\"], [\"MN\"], [\"AZ\"], [\"MI\"], [\"TX\"], [\"HI\"], [\"AZ\"], [\"ND\"], [\"NC\"], [\"MN\"], [\"MA\"], [\"NC\"], [\"KS\"], [\"AZ\"], [\"ND\"], [\"IN\"], [\"TX\"]], \"geo\": \"geo\", \"hovertemplate\": \"<b>%{hovertext}</b><br><br>total_cust=%{marker.size}<br>saidi_nomed=%{marker.color}<extra></extra>\", \"hovertext\": [\"IA\", \"IA\", \"CA\", \"AZ\", \"AR\", \"NJ\", \"MN\", \"TX\", \"MD\", \"WI\", \"MN\", \"SC\", \"NC\", \"NC\", \"GA\", \"FL\", \"MD\", \"OH\", \"OH\", \"FL\", \"CO\", \"MO\", \"IL\", \"CT\", \"MI\", \"GA\", \"NY\", \"DE\", \"MI\", \"MN\", \"NC\", \"WI\", \"TX\", \"MO\", \"MT\", \"FL\", \"MN\", \"TX\", \"FL\", \"IA\", \"NC\", \"CO\", \"SC\", \"ID\", \"IN\", \"IN\", \"IN\", \"GA\", \"IL\", \"IN\", \"MO\", \"KY\", \"NE\", \"CA\", \"KY\", \"IA\", \"TX\", \"IL\", \"MN\", \"MS\", \"MO\", \"CA\", \"NE\", \"NV\", \"LA\", \"NY\", \"NE\", \"AR\", \"MN\", \"OK\", \"WI\", \"OH\", \"OH\", \"NE\", \"MN\", \"MN\", \"CA\", \"MN\", \"SC\", \"PA\", \"NC\", \"PA\", \"NC\", \"WI\", \"WI\", \"CO\", \"IN\", \"NH\", \"NM\", \"OK\", \"NJ\", \"MA\", \"NC\", \"MN\", \"AZ\", \"TX\", \"CA\", \"GA\", \"KS\", \"MN\", \"VA\", \"NV\", \"SC\", \"SC\", \"IN\", \"CA\", \"WI\", \"AZ\", \"WI\", \"FL\", \"MA\", \"OH\", \"MN\", \"AZ\", \"MI\", \"MO\", \"KY\", \"TX\", \"AZ\", \"ND\", \"WI\", \"NC\", \"MN\", \"PA\", \"SD\", \"OH\", \"MN\", \"AR\", \"SC\", \"NC\", \"ND\", \"MN\", \"TX\", \"IA\", \"CA\", \"AZ\", \"AR\", \"NJ\", \"MN\", \"MD\", \"WI\", \"MN\", \"SC\", \"NC\", \"NC\", \"GA\", \"FL\", \"OH\", \"OH\", \"FL\", \"CO\", \"MO\", \"IL\", \"CT\", \"MI\", \"GA\", \"DE\", \"MI\", \"MN\", \"NC\", \"WI\", \"TX\", \"MO\", \"MT\", \"FL\", \"FL\", \"MN\", \"TX\", \"FL\", \"IA\", \"NC\", \"SC\", \"ID\", \"IN\", \"IN\", \"IN\", \"GA\", \"IL\", \"IN\", \"KY\", \"NE\", \"CA\", \"KY\", \"IA\", \"IL\", \"MN\", \"MS\", \"CO\", \"NE\", \"NV\", \"LA\", \"NY\", \"NE\", \"AR\", \"MN\", \"OK\", \"WI\", \"OH\", \"NE\", \"MN\", \"CA\", \"MN\", \"SC\", \"PA\", \"NC\", \"PA\", \"NC\", \"WI\", \"WI\", \"CO\", \"IN\", \"NM\", \"OK\", \"NJ\", \"GA\", \"MA\", \"MN\", \"MN\", \"AZ\", \"TX\", \"CA\", \"GA\", \"KS\", \"MN\", \"VA\", \"NV\", \"SD\", \"SC\", \"SC\", \"IN\", \"CA\", \"CA\", \"WI\", \"AZ\", \"WI\", \"FL\", \"MA\", \"OH\", \"MN\", \"AZ\", \"MI\", \"TX\", \"AZ\", \"ND\", \"WI\", \"NC\", \"MN\", \"PA\", \"OH\", \"AR\", \"SC\", \"NC\", \"AZ\", \"ND\", \"MN\", \"TX\", \"IA\", \"GA\", \"CA\", \"AZ\", \"AR\", \"NJ\", \"TX\", \"MD\", \"WI\", \"MN\", \"SC\", \"NC\", \"GA\", \"FL\", \"MD\", \"OH\", \"OH\", \"CO\", \"MO\", \"IL\", \"CT\", \"MI\", \"GA\", \"DE\", \"TX\", \"MI\", \"MN\", \"NC\", \"WI\", \"TX\", \"MO\", \"MT\", \"FL\", \"FL\", \"MN\", \"IA\", \"ID\", \"IN\", \"IN\", \"IN\", \"GA\", \"IL\", \"IN\", \"MO\", \"FL\", \"CA\", \"KY\", \"IA\", \"TX\", \"MN\", \"MS\", \"MO\", \"NE\", \"NV\", \"LA\", \"NY\", \"NE\", \"AR\", \"MN\", \"OK\", \"WI\", \"OH\", \"NE\", \"MN\", \"MN\", \"CA\", \"SC\", \"MN\", \"SC\", \"PA\", \"NC\", \"PA\", \"NC\", \"WI\", \"WI\", \"CO\", \"IN\", \"NM\", \"OK\", \"NJ\", \"GA\", \"MN\", \"AZ\", \"TX\", \"CA\", \"GA\", \"KS\", \"MN\", \"VA\", \"NV\", \"SD\", \"SC\", \"SC\", \"IN\", \"CA\", \"WI\", \"AZ\", \"WI\", \"FL\", \"MA\", \"OH\", \"AZ\", \"MI\", \"TX\", \"AZ\", \"ND\", \"WI\", \"NC\", \"PA\", \"MA\", \"MN\", \"AR\", \"NC\", \"AZ\", \"ND\", \"IN\", \"MN\", \"TX\", \"IA\", \"CA\", \"AZ\", \"AR\", \"NJ\", \"TX\", \"MD\", \"WI\", \"MN\", \"SC\", \"NC\", \"GA\", \"OH\", \"OH\", \"FL\", \"CO\", \"MO\", \"IL\", \"CT\", \"MI\", \"GA\", \"DE\", \"TX\", \"MI\", \"MN\", \"NC\", \"WI\", \"TX\", \"MO\", \"MT\", \"FL\", \"FL\", \"MN\", \"IA\", \"IA\", \"NC\", \"SC\", \"ID\", \"IN\", \"IN\", \"IN\", \"GA\", \"IN\", \"KS\", \"MO\", \"SC\", \"FL\", \"CA\", \"KY\", \"IA\", \"TX\", \"MN\", \"MS\", \"MO\", \"CO\", \"NE\", \"NV\", \"LA\", \"NY\", \"NY\", \"NE\", \"AR\", \"MN\", \"WI\", \"OH\", \"OH\", \"MN\", \"MN\", \"CA\", \"SC\", \"MN\", \"SC\", \"NC\", \"PA\", \"NC\", \"WI\", \"WI\", \"CO\", \"IN\", \"NM\", \"OK\", \"NJ\", \"GA\", \"MA\", \"MN\", \"AZ\", \"TX\", \"CA\", \"GA\", \"KS\", \"MN\", \"VA\", \"NV\", \"SC\", \"SC\", \"CA\", \"CA\", \"WI\", \"AZ\", \"WI\", \"FL\", \"MA\", \"OH\", \"MN\", \"AZ\", \"MI\", \"TX\", \"AZ\", \"ND\", \"NC\", \"MN\", \"PA\", \"MA\", \"MN\", \"NC\", \"AZ\", \"ND\", \"IN\", \"TX\", \"IA\", \"CA\", \"AZ\", \"AR\", \"NJ\", \"TX\", \"MD\", \"WI\", \"MN\", \"SC\", \"NC\", \"AL\", \"GA\", \"MD\", \"OH\", \"OH\", \"FL\", \"CO\", \"MO\", \"IL\", \"CT\", \"MI\", \"OK\", \"AL\", \"GA\", \"DE\", \"NC\", \"WI\", \"TX\", \"MO\", \"MT\", \"FL\", \"MN\", \"IA\", \"IA\", \"NC\", \"ID\", \"IN\", \"IN\", \"IN\", \"IN\", \"KS\", \"MO\", \"KS\", \"CA\", \"KY\", \"IA\", \"TX\", \"MN\", \"MO\", \"CO\", \"NE\", \"NV\", \"NY\", \"NY\", \"NE\", \"AR\", \"MN\", \"WI\", \"OH\", \"OH\", \"MN\", \"CA\", \"SC\", \"MN\", \"SC\", \"PA\", \"NC\", \"CO\", \"WI\", \"CO\", \"IN\", \"NM\", \"OK\", \"NJ\", \"GA\", \"MN\", \"AZ\", \"TX\", \"SC\", \"CA\", \"GA\", \"KS\", \"MN\", \"VA\", \"NV\", \"SC\", \"SC\", \"CA\", \"WI\", \"AZ\", \"WI\", \"FL\", \"OH\", \"MN\", \"AZ\", \"MI\", \"TX\", \"HI\", \"AZ\", \"ND\", \"NC\", \"MN\", \"MA\", \"NC\", \"KS\", \"AZ\", \"ND\", \"IN\", \"TX\"], \"legendgroup\": \"\", \"locationmode\": \"USA-states\", \"locations\": [\"IA\", \"IA\", \"CA\", \"AZ\", \"AR\", \"NJ\", \"MN\", \"TX\", \"MD\", \"WI\", \"MN\", \"SC\", \"NC\", \"NC\", \"GA\", \"FL\", \"MD\", \"OH\", \"OH\", \"FL\", \"CO\", \"MO\", \"IL\", \"CT\", \"MI\", \"GA\", \"NY\", \"DE\", \"MI\", \"MN\", \"NC\", \"WI\", \"TX\", \"MO\", \"MT\", \"FL\", \"MN\", \"TX\", \"FL\", \"IA\", \"NC\", \"CO\", \"SC\", \"ID\", \"IN\", \"IN\", \"IN\", \"GA\", \"IL\", \"IN\", \"MO\", \"KY\", \"NE\", \"CA\", \"KY\", \"IA\", \"TX\", \"IL\", \"MN\", \"MS\", \"MO\", \"CA\", \"NE\", \"NV\", \"LA\", \"NY\", \"NE\", \"AR\", \"MN\", \"OK\", \"WI\", \"OH\", \"OH\", \"NE\", \"MN\", \"MN\", \"CA\", \"MN\", \"SC\", \"PA\", \"NC\", \"PA\", \"NC\", \"WI\", \"WI\", \"CO\", \"IN\", \"NH\", \"NM\", \"OK\", \"NJ\", \"MA\", \"NC\", \"MN\", \"AZ\", \"TX\", \"CA\", \"GA\", \"KS\", \"MN\", \"VA\", \"NV\", \"SC\", \"SC\", \"IN\", \"CA\", \"WI\", \"AZ\", \"WI\", \"FL\", \"MA\", \"OH\", \"MN\", \"AZ\", \"MI\", \"MO\", \"KY\", \"TX\", \"AZ\", \"ND\", \"WI\", \"NC\", \"MN\", \"PA\", \"SD\", \"OH\", \"MN\", \"AR\", \"SC\", \"NC\", \"ND\", \"MN\", \"TX\", \"IA\", \"CA\", \"AZ\", \"AR\", \"NJ\", \"MN\", \"MD\", \"WI\", \"MN\", \"SC\", \"NC\", \"NC\", \"GA\", \"FL\", \"OH\", \"OH\", \"FL\", \"CO\", \"MO\", \"IL\", \"CT\", \"MI\", \"GA\", \"DE\", \"MI\", \"MN\", \"NC\", \"WI\", \"TX\", \"MO\", \"MT\", \"FL\", \"FL\", \"MN\", \"TX\", \"FL\", \"IA\", \"NC\", \"SC\", \"ID\", \"IN\", \"IN\", \"IN\", \"GA\", \"IL\", \"IN\", \"KY\", \"NE\", \"CA\", \"KY\", \"IA\", \"IL\", \"MN\", \"MS\", \"CO\", \"NE\", \"NV\", \"LA\", \"NY\", \"NE\", \"AR\", \"MN\", \"OK\", \"WI\", \"OH\", \"NE\", \"MN\", \"CA\", \"MN\", \"SC\", \"PA\", \"NC\", \"PA\", \"NC\", \"WI\", \"WI\", \"CO\", \"IN\", \"NM\", \"OK\", \"NJ\", \"GA\", \"MA\", \"MN\", \"MN\", \"AZ\", \"TX\", \"CA\", \"GA\", \"KS\", \"MN\", \"VA\", \"NV\", \"SD\", \"SC\", \"SC\", \"IN\", \"CA\", \"CA\", \"WI\", \"AZ\", \"WI\", \"FL\", \"MA\", \"OH\", \"MN\", \"AZ\", \"MI\", \"TX\", \"AZ\", \"ND\", \"WI\", \"NC\", \"MN\", \"PA\", \"OH\", \"AR\", \"SC\", \"NC\", \"AZ\", \"ND\", \"MN\", \"TX\", \"IA\", \"GA\", \"CA\", \"AZ\", \"AR\", \"NJ\", \"TX\", \"MD\", \"WI\", \"MN\", \"SC\", \"NC\", \"GA\", \"FL\", \"MD\", \"OH\", \"OH\", \"CO\", \"MO\", \"IL\", \"CT\", \"MI\", \"GA\", \"DE\", \"TX\", \"MI\", \"MN\", \"NC\", \"WI\", \"TX\", \"MO\", \"MT\", \"FL\", \"FL\", \"MN\", \"IA\", \"ID\", \"IN\", \"IN\", \"IN\", \"GA\", \"IL\", \"IN\", \"MO\", \"FL\", \"CA\", \"KY\", \"IA\", \"TX\", \"MN\", \"MS\", \"MO\", \"NE\", \"NV\", \"LA\", \"NY\", \"NE\", \"AR\", \"MN\", \"OK\", \"WI\", \"OH\", \"NE\", \"MN\", \"MN\", \"CA\", \"SC\", \"MN\", \"SC\", \"PA\", \"NC\", \"PA\", \"NC\", \"WI\", \"WI\", \"CO\", \"IN\", \"NM\", \"OK\", \"NJ\", \"GA\", \"MN\", \"AZ\", \"TX\", \"CA\", \"GA\", \"KS\", \"MN\", \"VA\", \"NV\", \"SD\", \"SC\", \"SC\", \"IN\", \"CA\", \"WI\", \"AZ\", \"WI\", \"FL\", \"MA\", \"OH\", \"AZ\", \"MI\", \"TX\", \"AZ\", \"ND\", \"WI\", \"NC\", \"PA\", \"MA\", \"MN\", \"AR\", \"NC\", \"AZ\", \"ND\", \"IN\", \"MN\", \"TX\", \"IA\", \"CA\", \"AZ\", \"AR\", \"NJ\", \"TX\", \"MD\", \"WI\", \"MN\", \"SC\", \"NC\", \"GA\", \"OH\", \"OH\", \"FL\", \"CO\", \"MO\", \"IL\", \"CT\", \"MI\", \"GA\", \"DE\", \"TX\", \"MI\", \"MN\", \"NC\", \"WI\", \"TX\", \"MO\", \"MT\", \"FL\", \"FL\", \"MN\", \"IA\", \"IA\", \"NC\", \"SC\", \"ID\", \"IN\", \"IN\", \"IN\", \"GA\", \"IN\", \"KS\", \"MO\", \"SC\", \"FL\", \"CA\", \"KY\", \"IA\", \"TX\", \"MN\", \"MS\", \"MO\", \"CO\", \"NE\", \"NV\", \"LA\", \"NY\", \"NY\", \"NE\", \"AR\", \"MN\", \"WI\", \"OH\", \"OH\", \"MN\", \"MN\", \"CA\", \"SC\", \"MN\", \"SC\", \"NC\", \"PA\", \"NC\", \"WI\", \"WI\", \"CO\", \"IN\", \"NM\", \"OK\", \"NJ\", \"GA\", \"MA\", \"MN\", \"AZ\", \"TX\", \"CA\", \"GA\", \"KS\", \"MN\", \"VA\", \"NV\", \"SC\", \"SC\", \"CA\", \"CA\", \"WI\", \"AZ\", \"WI\", \"FL\", \"MA\", \"OH\", \"MN\", \"AZ\", \"MI\", \"TX\", \"AZ\", \"ND\", \"NC\", \"MN\", \"PA\", \"MA\", \"MN\", \"NC\", \"AZ\", \"ND\", \"IN\", \"TX\", \"IA\", \"CA\", \"AZ\", \"AR\", \"NJ\", \"TX\", \"MD\", \"WI\", \"MN\", \"SC\", \"NC\", \"AL\", \"GA\", \"MD\", \"OH\", \"OH\", \"FL\", \"CO\", \"MO\", \"IL\", \"CT\", \"MI\", \"OK\", \"AL\", \"GA\", \"DE\", \"NC\", \"WI\", \"TX\", \"MO\", \"MT\", \"FL\", \"MN\", \"IA\", \"IA\", \"NC\", \"ID\", \"IN\", \"IN\", \"IN\", \"IN\", \"KS\", \"MO\", \"KS\", \"CA\", \"KY\", \"IA\", \"TX\", \"MN\", \"MO\", \"CO\", \"NE\", \"NV\", \"NY\", \"NY\", \"NE\", \"AR\", \"MN\", \"WI\", \"OH\", \"OH\", \"MN\", \"CA\", \"SC\", \"MN\", \"SC\", \"PA\", \"NC\", \"CO\", \"WI\", \"CO\", \"IN\", \"NM\", \"OK\", \"NJ\", \"GA\", \"MN\", \"AZ\", \"TX\", \"SC\", \"CA\", \"GA\", \"KS\", \"MN\", \"VA\", \"NV\", \"SC\", \"SC\", \"CA\", \"WI\", \"AZ\", \"WI\", \"FL\", \"OH\", \"MN\", \"AZ\", \"MI\", \"TX\", \"HI\", \"AZ\", \"ND\", \"NC\", \"MN\", \"MA\", \"NC\", \"KS\", \"AZ\", \"ND\", \"IN\", \"TX\"], \"marker\": {\"color\": [141.6, 15.79, 42.12, 86.8, 308.8, 76.0, 31.885, 68.68, 81.781, 144.72, 77.694, 160.4, 71.38, 149.0, 79.06, 67.127, 197.6, 96.0, 130.468, 158.92, 40.926, 44.87, 51.332, 249.17, 233.34099999999998, 95.83, 812.9, 83.08, 202.375, 6.3, 174.0, 55.78, 76.38600000000001, 138.16, 136.74, 51.46, 84.4, 8.331, 574.822, 96.84899999999999, 599.765, 72.5, 68.035, 120.0, 75.60300000000001, 189.4, 146.148, 73.05, 63.0, 37.056999999999995, 91.38, 98.4, 13.5, 112.84, 85.03, 50.76, 140.408, 203.313, 144.02, 76.42, 125.16, 32.75, 46.5, 37.68, 158.4, 135.57, 158.7, 210.85, 80.66, 131.2, 107.22, 108.819, 202.4, 76.3, 101.73, 18.771, 134.1, 87.88, 98.4, 74.3, 136.81, 94.0, 106.087, 100.009, 34.8, 92.694, 140.0, 229.61, 103.39, 125.1, 48.11, 16.399, 264.2, 39.171, 43.27, 54.86, 68.64, 43.8, 206.52599999999998, 8.683, 159.6, 189.44, 77.89, 18.942, 337.1, 90.75, 106.698, 61.4, 29.88, 85.71, 68.48899999999999, 66.877, 100.789, 43.043, 156.0, 106.0, 170.0, 98.367, 7.38, 81.48, 125.0, 87.2, 18.2, 197.84799999999998, 61.56, 18.35, 4.83, 31.8, 72.27, 98.58, 30.56, 81.0, 297.0, 90.6, 27.4, 86.3, 297.2, 76.4, 8.328, 94.917, 136.10399999999998, 108.22399999999999, 133.1, 76.1, 165.0, 88.671, 82.353, 143.0, 126.39, 128.09, 43.0, 31.069000000000003, 57.82899999999999, 81.0, 200.9, 100.26, 84.29, 177.188, 7.7, 203.0, 59.82, 49.27, 102.55, 168.2, 54.59, 111.0, 89.2, 7.83, 124.34, 99.52799999999999, 490.686, 169.465, 121.54, 67.459, 175.7, 216.612, 75.41, 59.0, 34.5, 100.14, 20.3, 105.44, 85.72, 33.62, 172.49, 134.0, 72.93, 50.458999999999996, 49.05, 46.45, 147.0, 147.039, 190.44099999999997, 209.13, 95.02, 159.21, 131.94, 107.686, 101.8, 13.86, 126.3, 97.8, 81.2, 80.6, 184.13, 87.9, 149.028, 174.03, 36.6, 97.9, 156.0, 107.33, 101.2, 55.1, 182.88299999999998, 19.309, 31.179000000000002, 82.68299999999999, 36.67, 54.4, 77.71, 47.57, 104.04299999999999, 13.475999999999999, 195.6, 161.59, 97.68299999999999, 96.16, 20.561, 421.4, 71.252, 74.398, 104.064, 73.32, 46.0, 81.54, 81.22800000000001, 55.746, 112.779, 28.41, 249.0, 81.867, 47.67, 74.41, 144.6, 72.8, 69.0, 170.627, 24.53, 32.6, 82.8, 119.22, 0.0, 33.75, 159.815, 224.2, 211.8, 31.5, 35.04, 74.5, 218.5, 66.15, 63.02, 74.0, 62.523999999999994, 93.667, 138.96, 143.0, 76.57, 75.882, 122.55, 158.5, 120.223, 47.75, 35.346, 55.413999999999994, 78.2, 160.9, 110.17, 94.12, 33.74, 196.0, 11.149000000000001, 192.0, 48.34, 81.016, 116.59, 209.8, 58.97, 93.0, 68.3, 61.176, 210.0, 59.64, 166.3, 389.436, 75.35, 65.7, 41.9, 90.8, 76.39, 120.91, 76.37, 57.522, 101.47, 108.06, 77.64, 77.13, 86.06, 39.69, 192.9, 134.23, 164.118, 209.78, 73.89, 420.0, 183.852, 99.67299999999999, 85.9, 60.1, 19.04, 113.4, 41.50899999999999, 80.88, 171.4, 69.6, 153.89, 74.4, 109.116, 4.445, 42.6, 84.47, 138.3, 87.44, 102.5, 44.61, 226.872, 33.78, 38.155, 53.97, 64.51, 77.82, 70.729, 23.85, 158.4, 218.96, 80.233, 81.82, 18.815, 336.6, 91.72399999999999, 58.015, 68.84, 53.95, 86.61, 67.08800000000001, 59.544, 46.7, 139.0, 58.8, 92.76, 42.05, 124.5, 72.8, 161.04399999999998, 71.7, 27.235, 34.2, 94.68, 7.35, 30.42, 211.40099999999998, 61.953, 223.6, 123.0, 27.12, 87.0, 288.2, 98.66, 56.47, 102.0, 163.68, 206.993, 178.38, 153.0, 65.8, 145.59, 114.0, 185.98, 44.06100000000001, 22.820999999999998, 63.0, 103.8, 207.0, 98.309, 109.3, 34.51, 180.0, 9.962, 170.0, 108.3, 53.6, 96.68, 184.08, 61.62, 102.0, 81.5, 99.585, 88.75, 397.288, 85.5, 159.44, 62.0, 152.9, 218.87400000000002, 70.0, 29.6, 231.1, 62.19, 89.01, 80.46, 82.77, 73.59, 51.3, 132.0, 122.69, 75.58, 65.98, 66.972, 53.49, 44.175, 190.2, 218.4, 129.86, 172.174, 185.43, 92.74, 79.2, 91.83200000000001, 174.7, 73.4, 6.34, 108.9, 40.98, 101.45, 132.6, 176.3, 76.0, 123.58, 89.62299999999999, 55.8, 86.45, 142.49, 84.18, 100.4, 49.74, 112.5, 22.7, 34.86, 43.44, 57.401, 72.24, 58.68, 162.786, 27.319000000000003, 175.8, 153.0, 90.5, 23.5, 109.978, 72.283, 56.105, 108.31, 105.0, 102.44, 26.585, 70.991, 89.167, 41.3, 179.0, 76.342, 63.865, 94.12, 78.6, 19.0, 148.80200000000002, 87.0, 25.6, 99.96, 65.08, 36.16, 218.391, 197.8, 40.165, 35.0, 87.0, 283.4, 95.0, 55.15, 91.0, 97.2, 113.954, 145.54, 141.0, 155.0, 68.7, 100.2, 132.84, 138.5, 167.09, 37.766, 73.263, 72.0, 78.6, 177.0, 199.71, 77.8, 89.985, 109.17, 143.0, 185.22, 83.728, 115.72, 186.91, 97.0, 51.0, 54.003, 49.184, 392.13199999999995, 165.519, 48.7, 160.1, 150.816, 34.4, 257.94599999999997, 74.14, 109.71, 92.44, 75.46, 51.65, 97.6, 101.82, 108.56, 56.645, 43.6, 31.934, 149.4, 124.42, 236.44, 211.13, 87.41, 158.46200000000002, 96.4, 201.5, 7.19, 96.0, 43.339, 50.84, 89.9, 65.0, 100.71, 118.0, 58.8, 88.31, 121.0, 74.63, 112.1, 38.41, 151.8, 34.0, 41.57, 54.617, 161.05, 57.9, 58.8, 101.39, 41.89, 158.4, 117.0, 96.6, 23.025, 100.15100000000001, 54.475, 85.77, 81.0, 93.96, 68.5, 67.454, 62.9, 179.0, 90.0, 99.43, 72.351, 58.95, 50.2, 22.0, 68.7, 98.5, 136.37, 59.43600000000001, 38.3, 202.3, 204.8], \"coloraxis\": \"coloraxis\", \"size\": [9987.0, 26956.0, 120279.0, 1260386.0, 713072.0, 486628.0, 11746.0, 499542.0, 965643.0, 18850.0, 21213.0, 104044.0, 76823.0, 1431264.0, 58745.0, 53439.0, 54590.0, 290522.0, 190043.0, 177752.0, 235098.0, 50676.0, 2730588.0, 944461.0, 1836668.0, 82443.0, 5372.0, 101814.0, 2209021.0, 7631.0, 2047365.0, 10057.0, 328756.0, 155425.0, 68218.0, 5061483.0, 20904.0, 15038.0, 20316.0, 5186.0, 27124.0, 57934.0, 81919.0, 545819.0, 503198.0, 467397.0, 24657.0, 233101.0, 20726.0, 27698.0, 291626.0, 528336.0, 141650.0, 1447371.0, 415853.0, 2253.0, 121528.0, 10929.0, 147340.0, 188342.0, 328464.0, 129642.0, 90352.0, 951035.0, 204479.0, 1396453.0, 24538.0, 37022.0, 1300836.0, 6554.0, 17036.0, 327657.0, 920735.0, 384501.0, 61748.0, 11869.0, 2635291.0, 22859.0, 30490.0, 855014.0, 21110.0, 1142446.0, 32534.0, 7633.0, 20800.0, 1499395.0, 840116.0, 400893.0, 530259.0, 557421.0, 2034027.0, 29775.0, 14187.0, 55919.0, 1076347.0, 850161.0, 1452138.0, 183053.0, 6953.0, 17798.0, 95555.0, 352366.0, 743780.0, 189205.0, 27313.0, 4120399.0, 10916.0, 52220.0, 4414.0, 771959.0, 39056.0, 93567.0, 15937.0, 48274.0, 26105.0, 1230248.0, 143431.0, 87738.0, 97992.0, 16374.0, 11237.0, 46983.0, 4184.0, 542979.0, 17465.0, 17434.0, 9603.0, 19027.0, 62320.0, 130295.0, 52086.0, 4681.0, 459190.0, 9985.0, 119401.0, 1235451.0, 711931.0, 472235.0, 11694.0, 953159.0, 18615.0, 21013.0, 100139.0, 76261.0, 1411441.0, 57383.0, 51790.0, 286825.0, 197486.0, 175642.0, 231570.0, 50233.0, 2660997.0, 919427.0, 1826166.0, 80494.0, 98519.0, 2196620.0, 7353.0, 2005333.0, 9972.0, 323297.0, 154042.0, 66911.0, 4961288.0, 1801551.0, 20910.0, 14836.0, 464682.0, 5193.0, 26884.0, 79747.0, 532401.0, 495352.0, 465774.0, 24597.0, 228950.0, 21111.0, 27144.0, 524987.0, 140028.0, 1435572.0, 411711.0, 2232.0, 10899.0, 146741.0, 188000.0, 53034.0, 90507.0, 934360.0, 202634.0, 1377969.0, 24358.0, 36834.0, 1290004.0, 6446.0, 16970.0, 313931.0, 380307.0, 11914.0, 3847071.0, 22653.0, 30430.0, 811946.0, 21075.0, 1095472.0, 32113.0, 7594.0, 20561.0, 1478992.0, 830270.0, 526346.0, 554499.0, 1998695.0, 18438.0, 29908.0, 54726.0, 6536.0, 1060016.0, 832590.0, 1444267.0, 178847.0, 6847.0, 17368.0, 94640.0, 347181.0, 21640.0, 726679.0, 185144.0, 27156.0, 4956292.0, 24301.0, 10763.0, 51979.0, 4395.0, 763571.0, 38728.0, 88812.0, 15877.0, 47052.0, 25983.0, 85374.0, 97926.0, 16269.0, 11199.0, 45235.0, 4182.0, 531135.0, 17223.0, 19870.0, 60288.0, 129872.0, 426451.0, 50633.0, 4628.0, 453043.0, 9971.0, 20630.0, 126737.0, 1214627.0, 708855.0, 459942.0, 475744.0, 941241.0, 18477.0, 20890.0, 96457.0, 1390064.0, 56234.0, 50180.0, 53825.0, 324095.0, 207198.0, 227402.0, 49882.0, 2589987.0, 889945.0, 1816948.0, 79382.0, 95602.0, 222654.0, 2184813.0, 7348.0, 1974982.0, 9903.0, 318055.0, 152950.0, 65745.0, 4901846.0, 1775327.0, 20877.0, 5187.0, 520652.0, 491347.0, 463352.0, 24496.0, 225087.0, 20968.0, 26621.0, 284495.0, 213636.0, 1426865.0, 408738.0, 2211.0, 113763.0, 146353.0, 187594.0, 323470.0, 90271.0, 1018321.0, 200137.0, 1348697.0, 24130.0, 36651.0, 1279507.0, 6642.0, 16840.0, 347706.0, 374817.0, 60858.0, 11928.0, 4546272.0, 71545.0, 22387.0, 30420.0, 789573.0, 21037.0, 1048211.0, 31663.0, 7546.0, 20380.0, 1459117.0, 819569.0, 521984.0, 550022.0, 1945910.0, 18382.0, 53868.0, 1044846.0, 811116.0, 1434025.0, 176599.0, 6747.0, 17118.0, 93405.0, 342104.0, 21086.0, 715592.0, 180687.0, 23161.0, 4971014.0, 10567.0, 51716.0, 4380.0, 744691.0, 38046.0, 100860.0, 45895.0, 25873.0, 82813.0, 96168.0, 16201.0, 11150.0, 43323.0, 512861.0, 159406.0, 9098.0, 19332.0, 128256.0, 422544.0, 49191.0, 16880.0, 4606.0, 446771.0, 9952.0, 129919.0, 1193511.0, 706871.0, 463006.0, 464322.0, 931051.0, 18338.0, 20881.0, 92957.0, 1365800.0, 55032.0, 361824.0, 216101.0, 171777.0, 225406.0, 49116.0, 2369168.0, 846110.0, 1805489.0, 77859.0, 92206.0, 209341.0, 2168567.0, 7326.0, 1947526.0, 9773.0, 312066.0, 151722.0, 64730.0, 4840240.0, 1743136.0, 20988.0, 6771.0, 5176.0, 26479.0, 75984.0, 511053.0, 486827.0, 461154.0, 24352.0, 221436.0, 26170.0, 65034.0, 279786.0, 56479.0, 210089.0, 1419468.0, 404744.0, 2189.0, 118434.0, 145622.0, 187553.0, 320535.0, 50663.0, 90115.0, 903125.0, 198416.0, 682633.0, 1323415.0, 18942.0, 36470.0, 1269408.0, 16534.0, 348858.0, 955385.0, 61483.0, 11850.0, 5004096.0, 69961.0, 22154.0, 30437.0, 20960.0, 1028177.0, 31581.0, 7694.0, 20229.0, 1441981.0, 812986.0, 517739.0, 547142.0, 1968415.0, 18298.0, 29785.0, 52469.0, 1029831.0, 794768.0, 1425133.0, 172171.0, 6617.0, 17026.0, 92328.0, 338150.0, 705025.0, 176776.0, 5020876.0, 23862.0, 10440.0, 51249.0, 4369.0, 730504.0, 29112.0, 101626.0, 15735.0, 44819.0, 25742.0, 81057.0, 95087.0, 16265.0, 41013.0, 4176.0, 512134.0, 159336.0, 9460.0, 126740.0, 419845.0, 47605.0, 16816.0, 439570.0, 9953.0, 123485.0, 1177494.0, 704170.0, 465263.0, 452898.0, 907561.0, 18218.0, 20691.0, 91204.0, 1303473.0, 42223.0, 54092.0, 52828.0, 355006.0, 203165.0, 169366.0, 220460.0, 48382.0, 1836571.0, 812555.0, 1796196.0, 22171.0, 22903.0, 77621.0, 89901.0, 1921052.0, 9667.0, 307294.0, 150549.0, 63707.0, 1721849.0, 20966.0, 6744.0, 5184.0, 26286.0, 501839.0, 484791.0, 459445.0, 24282.0, 25646.0, 64329.0, 275805.0, 323881.0, 1413211.0, 401371.0, 2163.0, 114767.0, 145033.0, 318150.0, 51454.0, 89792.0, 887958.0, 669017.0, 1288882.0, 18795.0, 36281.0, 1259609.0, 16433.0, 319880.0, 956577.0, 11772.0, 5069189.0, 69326.0, 17915.0, 30369.0, 1046620.0, 31381.0, 38409.0, 20121.0, 1423796.0, 804322.0, 514899.0, 544110.0, 1966715.0, 18316.0, 51142.0, 1014022.0, 776840.0, 43813.0, 1416660.0, 166925.0, 6571.0, 16847.0, 91869.0, 334277.0, 694834.0, 174051.0, 4990840.0, 10338.0, 51267.0, 4363.0, 718713.0, 99004.0, 15685.0, 43870.0, 25654.0, 79870.0, 302499.0, 94203.0, 16002.0, 39493.0, 4166.0, 163711.0, 125063.0, 375809.0, 417141.0, 45353.0, 16755.0, 432372.0], \"sizemode\": \"area\", \"sizeref\": 2027.6756}, \"name\": \"\", \"showlegend\": false, \"type\": \"scattergeo\"}],                        {\"coloraxis\": {\"cmax\": 180, \"cmin\": 0, \"colorbar\": {\"title\": {\"text\": \"saidi_nomed\"}}, \"colorscale\": [[0.0, \"#0d0887\"], [0.1111111111111111, \"#46039f\"], [0.2222222222222222, \"#7201a8\"], [0.3333333333333333, \"#9c179e\"], [0.4444444444444444, \"#bd3786\"], [0.5555555555555556, \"#d8576b\"], [0.6666666666666666, \"#ed7953\"], [0.7777777777777778, \"#fb9f3a\"], [0.8888888888888888, \"#fdca26\"], [1.0, \"#f0f921\"]]}, \"geo\": {\"center\": {}, \"domain\": {\"x\": [0.0, 1.0], \"y\": [0.0, 1.0]}, \"projection\": {\"type\": \"albers usa\"}, \"scope\": \"usa\"}, \"legend\": {\"itemsizing\": \"constant\", \"tracegroupgap\": 0}, \"margin\": {\"t\": 60}, \"template\": {\"data\": {\"bar\": [{\"error_x\": {\"color\": \"#2a3f5f\"}, \"error_y\": {\"color\": \"#2a3f5f\"}, \"marker\": {\"line\": {\"color\": \"#E5ECF6\", \"width\": 0.5}}, \"type\": \"bar\"}], \"barpolar\": [{\"marker\": {\"line\": {\"color\": \"#E5ECF6\", \"width\": 0.5}}, \"type\": \"barpolar\"}], \"carpet\": [{\"aaxis\": {\"endlinecolor\": \"#2a3f5f\", \"gridcolor\": \"white\", \"linecolor\": \"white\", \"minorgridcolor\": \"white\", \"startlinecolor\": \"#2a3f5f\"}, \"baxis\": {\"endlinecolor\": \"#2a3f5f\", \"gridcolor\": \"white\", \"linecolor\": \"white\", \"minorgridcolor\": \"white\", \"startlinecolor\": \"#2a3f5f\"}, \"type\": \"carpet\"}], \"choropleth\": [{\"colorbar\": {\"outlinewidth\": 0, \"ticks\": \"\"}, \"type\": \"choropleth\"}], \"contour\": [{\"colorbar\": {\"outlinewidth\": 0, \"ticks\": \"\"}, \"colorscale\": [[0.0, \"#0d0887\"], [0.1111111111111111, \"#46039f\"], [0.2222222222222222, \"#7201a8\"], [0.3333333333333333, \"#9c179e\"], [0.4444444444444444, \"#bd3786\"], [0.5555555555555556, \"#d8576b\"], [0.6666666666666666, \"#ed7953\"], [0.7777777777777778, \"#fb9f3a\"], [0.8888888888888888, \"#fdca26\"], [1.0, \"#f0f921\"]], \"type\": \"contour\"}], \"contourcarpet\": [{\"colorbar\": {\"outlinewidth\": 0, \"ticks\": \"\"}, \"type\": \"contourcarpet\"}], \"heatmap\": [{\"colorbar\": {\"outlinewidth\": 0, \"ticks\": \"\"}, \"colorscale\": [[0.0, \"#0d0887\"], [0.1111111111111111, \"#46039f\"], [0.2222222222222222, \"#7201a8\"], [0.3333333333333333, \"#9c179e\"], [0.4444444444444444, \"#bd3786\"], [0.5555555555555556, \"#d8576b\"], [0.6666666666666666, \"#ed7953\"], [0.7777777777777778, \"#fb9f3a\"], [0.8888888888888888, \"#fdca26\"], [1.0, \"#f0f921\"]], \"type\": \"heatmap\"}], \"heatmapgl\": [{\"colorbar\": {\"outlinewidth\": 0, \"ticks\": \"\"}, \"colorscale\": [[0.0, \"#0d0887\"], [0.1111111111111111, \"#46039f\"], [0.2222222222222222, \"#7201a8\"], [0.3333333333333333, \"#9c179e\"], [0.4444444444444444, \"#bd3786\"], [0.5555555555555556, \"#d8576b\"], [0.6666666666666666, \"#ed7953\"], [0.7777777777777778, \"#fb9f3a\"], [0.8888888888888888, \"#fdca26\"], [1.0, \"#f0f921\"]], \"type\": \"heatmapgl\"}], \"histogram\": [{\"marker\": {\"colorbar\": {\"outlinewidth\": 0, \"ticks\": \"\"}}, \"type\": \"histogram\"}], \"histogram2d\": [{\"colorbar\": {\"outlinewidth\": 0, \"ticks\": \"\"}, \"colorscale\": [[0.0, \"#0d0887\"], [0.1111111111111111, \"#46039f\"], [0.2222222222222222, \"#7201a8\"], [0.3333333333333333, \"#9c179e\"], [0.4444444444444444, \"#bd3786\"], [0.5555555555555556, \"#d8576b\"], [0.6666666666666666, \"#ed7953\"], [0.7777777777777778, \"#fb9f3a\"], [0.8888888888888888, \"#fdca26\"], [1.0, \"#f0f921\"]], \"type\": \"histogram2d\"}], \"histogram2dcontour\": [{\"colorbar\": {\"outlinewidth\": 0, \"ticks\": \"\"}, \"colorscale\": [[0.0, \"#0d0887\"], [0.1111111111111111, \"#46039f\"], [0.2222222222222222, \"#7201a8\"], [0.3333333333333333, \"#9c179e\"], [0.4444444444444444, \"#bd3786\"], [0.5555555555555556, \"#d8576b\"], [0.6666666666666666, \"#ed7953\"], [0.7777777777777778, \"#fb9f3a\"], [0.8888888888888888, \"#fdca26\"], [1.0, \"#f0f921\"]], \"type\": \"histogram2dcontour\"}], \"mesh3d\": [{\"colorbar\": {\"outlinewidth\": 0, \"ticks\": \"\"}, \"type\": \"mesh3d\"}], \"parcoords\": [{\"line\": {\"colorbar\": {\"outlinewidth\": 0, \"ticks\": \"\"}}, \"type\": \"parcoords\"}], \"pie\": [{\"automargin\": true, \"type\": \"pie\"}], \"scatter\": [{\"marker\": {\"colorbar\": {\"outlinewidth\": 0, \"ticks\": \"\"}}, \"type\": \"scatter\"}], \"scatter3d\": [{\"line\": {\"colorbar\": {\"outlinewidth\": 0, \"ticks\": \"\"}}, \"marker\": {\"colorbar\": {\"outlinewidth\": 0, \"ticks\": \"\"}}, \"type\": \"scatter3d\"}], \"scattercarpet\": [{\"marker\": {\"colorbar\": {\"outlinewidth\": 0, \"ticks\": \"\"}}, \"type\": \"scattercarpet\"}], \"scattergeo\": [{\"marker\": {\"colorbar\": {\"outlinewidth\": 0, \"ticks\": \"\"}}, \"type\": \"scattergeo\"}], \"scattergl\": [{\"marker\": {\"colorbar\": {\"outlinewidth\": 0, \"ticks\": \"\"}}, \"type\": \"scattergl\"}], \"scattermapbox\": [{\"marker\": {\"colorbar\": {\"outlinewidth\": 0, \"ticks\": \"\"}}, \"type\": \"scattermapbox\"}], \"scatterpolar\": [{\"marker\": {\"colorbar\": {\"outlinewidth\": 0, \"ticks\": \"\"}}, \"type\": \"scatterpolar\"}], \"scatterpolargl\": [{\"marker\": {\"colorbar\": {\"outlinewidth\": 0, \"ticks\": \"\"}}, \"type\": \"scatterpolargl\"}], \"scatterternary\": [{\"marker\": {\"colorbar\": {\"outlinewidth\": 0, \"ticks\": \"\"}}, \"type\": \"scatterternary\"}], \"surface\": [{\"colorbar\": {\"outlinewidth\": 0, \"ticks\": \"\"}, \"colorscale\": [[0.0, \"#0d0887\"], [0.1111111111111111, \"#46039f\"], [0.2222222222222222, \"#7201a8\"], [0.3333333333333333, \"#9c179e\"], [0.4444444444444444, \"#bd3786\"], [0.5555555555555556, \"#d8576b\"], [0.6666666666666666, \"#ed7953\"], [0.7777777777777778, \"#fb9f3a\"], [0.8888888888888888, \"#fdca26\"], [1.0, \"#f0f921\"]], \"type\": \"surface\"}], \"table\": [{\"cells\": {\"fill\": {\"color\": \"#EBF0F8\"}, \"line\": {\"color\": \"white\"}}, \"header\": {\"fill\": {\"color\": \"#C8D4E3\"}, \"line\": {\"color\": \"white\"}}, \"type\": \"table\"}]}, \"layout\": {\"annotationdefaults\": {\"arrowcolor\": \"#2a3f5f\", \"arrowhead\": 0, \"arrowwidth\": 1}, \"coloraxis\": {\"colorbar\": {\"outlinewidth\": 0, \"ticks\": \"\"}}, \"colorscale\": {\"diverging\": [[0, \"#8e0152\"], [0.1, \"#c51b7d\"], [0.2, \"#de77ae\"], [0.3, \"#f1b6da\"], [0.4, \"#fde0ef\"], [0.5, \"#f7f7f7\"], [0.6, \"#e6f5d0\"], [0.7, \"#b8e186\"], [0.8, \"#7fbc41\"], [0.9, \"#4d9221\"], [1, \"#276419\"]], \"sequential\": [[0.0, \"#0d0887\"], [0.1111111111111111, \"#46039f\"], [0.2222222222222222, \"#7201a8\"], [0.3333333333333333, \"#9c179e\"], [0.4444444444444444, \"#bd3786\"], [0.5555555555555556, \"#d8576b\"], [0.6666666666666666, \"#ed7953\"], [0.7777777777777778, \"#fb9f3a\"], [0.8888888888888888, \"#fdca26\"], [1.0, \"#f0f921\"]], \"sequentialminus\": [[0.0, \"#0d0887\"], [0.1111111111111111, \"#46039f\"], [0.2222222222222222, \"#7201a8\"], [0.3333333333333333, \"#9c179e\"], [0.4444444444444444, \"#bd3786\"], [0.5555555555555556, \"#d8576b\"], [0.6666666666666666, \"#ed7953\"], [0.7777777777777778, \"#fb9f3a\"], [0.8888888888888888, \"#fdca26\"], [1.0, \"#f0f921\"]]}, \"colorway\": [\"#636efa\", \"#EF553B\", \"#00cc96\", \"#ab63fa\", \"#FFA15A\", \"#19d3f3\", \"#FF6692\", \"#B6E880\", \"#FF97FF\", \"#FECB52\"], \"font\": {\"color\": \"#2a3f5f\"}, \"geo\": {\"bgcolor\": \"white\", \"lakecolor\": \"white\", \"landcolor\": \"#E5ECF6\", \"showlakes\": true, \"showland\": true, \"subunitcolor\": \"white\"}, \"hoverlabel\": {\"align\": \"left\"}, \"hovermode\": \"closest\", \"mapbox\": {\"style\": \"light\"}, \"paper_bgcolor\": \"white\", \"plot_bgcolor\": \"#E5ECF6\", \"polar\": {\"angularaxis\": {\"gridcolor\": \"white\", \"linecolor\": \"white\", \"ticks\": \"\"}, \"bgcolor\": \"#E5ECF6\", \"radialaxis\": {\"gridcolor\": \"white\", \"linecolor\": \"white\", \"ticks\": \"\"}}, \"scene\": {\"xaxis\": {\"backgroundcolor\": \"#E5ECF6\", \"gridcolor\": \"white\", \"gridwidth\": 2, \"linecolor\": \"white\", \"showbackground\": true, \"ticks\": \"\", \"zerolinecolor\": \"white\"}, \"yaxis\": {\"backgroundcolor\": \"#E5ECF6\", \"gridcolor\": \"white\", \"gridwidth\": 2, \"linecolor\": \"white\", \"showbackground\": true, \"ticks\": \"\", \"zerolinecolor\": \"white\"}, \"zaxis\": {\"backgroundcolor\": \"#E5ECF6\", \"gridcolor\": \"white\", \"gridwidth\": 2, \"linecolor\": \"white\", \"showbackground\": true, \"ticks\": \"\", \"zerolinecolor\": \"white\"}}, \"shapedefaults\": {\"line\": {\"color\": \"#2a3f5f\"}}, \"ternary\": {\"aaxis\": {\"gridcolor\": \"white\", \"linecolor\": \"white\", \"ticks\": \"\"}, \"baxis\": {\"gridcolor\": \"white\", \"linecolor\": \"white\", \"ticks\": \"\"}, \"bgcolor\": \"#E5ECF6\", \"caxis\": {\"gridcolor\": \"white\", \"linecolor\": \"white\", \"ticks\": \"\"}}, \"title\": {\"x\": 0.05}, \"xaxis\": {\"automargin\": true, \"gridcolor\": \"white\", \"linecolor\": \"white\", \"ticks\": \"\", \"title\": {\"standoff\": 15}, \"zerolinecolor\": \"white\", \"zerolinewidth\": 2}, \"yaxis\": {\"automargin\": true, \"gridcolor\": \"white\", \"linecolor\": \"white\", \"ticks\": \"\", \"title\": {\"standoff\": 15}, \"zerolinecolor\": \"white\", \"zerolinewidth\": 2}}}, \"title\": {\"text\": \"Grid Reliability in the 50 States\", \"x\": 0.5}},                        {\"responsive\": true}                    ).then(function(){\n",
       "                            \n",
       "var gd = document.getElementById('58982077-15c3-4b7f-98dc-2435d0e55298');\n",
       "var x = new MutationObserver(function (mutations, observer) {{\n",
       "        var display = window.getComputedStyle(gd).display;\n",
       "        if (!display || display === 'none') {{\n",
       "            console.log([gd, 'removed!']);\n",
       "            Plotly.purge(gd);\n",
       "            observer.disconnect();\n",
       "        }}\n",
       "}});\n",
       "\n",
       "// Listen for the removal of the full notebook cells\n",
       "var notebookContainer = gd.closest('#notebook-container');\n",
       "if (notebookContainer) {{\n",
       "    x.observe(notebookContainer, {childList: true});\n",
       "}}\n",
       "\n",
       "// Listen for the clearing of the current output cell\n",
       "var outputEl = gd.closest('.output');\n",
       "if (outputEl) {{\n",
       "    x.observe(outputEl, {childList: true});\n",
       "}}\n",
       "\n",
       "                        })                };                });            </script>        </div>"
      ]
     },
     "metadata": {},
     "output_type": "display_data"
    }
   ],
   "source": [
    "fig = px.scatter_geo(\n",
    "    df_nona.fillna(0), \n",
    "    locations =\"state\", \n",
    "    locationmode = 'USA-states',\n",
    "    color=\"saidi_nomed\",\n",
    "    size=\"total_cust\",\n",
    "    # what is the size of the biggest scatter point\n",
    "    size_max = 50,\n",
    "    projection=\"natural earth\",\n",
    "    # range, important to keep the same range on all charts\n",
    "    range_color=(0, 180),\n",
    "    # columns which is in bold in the pop up\n",
    "    hover_name = \"state\",\n",
    "    # format of the popup to display these columns' data\n",
    "    hover_data = {\"state\":False}\n",
    "                     )\n",
    "\n",
    "fig.update_geos(scope='usa',\n",
    "            projection_type='albers usa')\n",
    "fig.update_layout(title=\"Grid Reliability in the 50 States\", title_x=0.5)\n",
    "fig.show()\n",
    "fig.write_image(\"map_trial.png\")\n",
    "\n",
    "#plotly.offline.plot(fig, filename='map_trial.png')"
   ]
  },
  {
   "cell_type": "code",
   "execution_count": 63,
   "metadata": {},
   "outputs": [
    {
     "data": {
      "text/html": [
       "<div>\n",
       "<style scoped>\n",
       "    .dataframe tbody tr th:only-of-type {\n",
       "        vertical-align: middle;\n",
       "    }\n",
       "\n",
       "    .dataframe tbody tr th {\n",
       "        vertical-align: top;\n",
       "    }\n",
       "\n",
       "    .dataframe thead th {\n",
       "        text-align: right;\n",
       "    }\n",
       "</style>\n",
       "<table border=\"1\" class=\"dataframe\">\n",
       "  <thead>\n",
       "    <tr style=\"text-align: right;\">\n",
       "      <th></th>\n",
       "      <th>no</th>\n",
       "      <th>customers</th>\n",
       "      <th>saidi_nomed</th>\n",
       "      <th>saifi_nomed</th>\n",
       "      <th>caidi_nomed</th>\n",
       "      <th>pv_mw</th>\n",
       "      <th>pv_storage_mw</th>\n",
       "      <th>virtual_mw</th>\n",
       "      <th>wind_mw</th>\n",
       "      <th>all_tech_mw</th>\n",
       "      <th>ee_savings_mw</th>\n",
       "      <th>peak_savings_mw</th>\n",
       "      <th>dem_res_customers</th>\n",
       "      <th>dem_res_savings_mwh</th>\n",
       "    </tr>\n",
       "  </thead>\n",
       "  <tbody>\n",
       "    <tr>\n",
       "      <th>count</th>\n",
       "      <td>770.000000</td>\n",
       "      <td>7.700000e+02</td>\n",
       "      <td>770.000000</td>\n",
       "      <td>770.000000</td>\n",
       "      <td>770.000000</td>\n",
       "      <td>770.000000</td>\n",
       "      <td>770.000000</td>\n",
       "      <td>770.000000</td>\n",
       "      <td>770.000000</td>\n",
       "      <td>770.000000</td>\n",
       "      <td>7.700000e+02</td>\n",
       "      <td>770.000000</td>\n",
       "      <td>770.000000</td>\n",
       "      <td>770.000000</td>\n",
       "    </tr>\n",
       "    <tr>\n",
       "      <th>mean</th>\n",
       "      <td>12294.633766</td>\n",
       "      <td>1.544447e+05</td>\n",
       "      <td>138.782414</td>\n",
       "      <td>1.163474</td>\n",
       "      <td>95.765853</td>\n",
       "      <td>28.165491</td>\n",
       "      <td>0.321249</td>\n",
       "      <td>0.791822</td>\n",
       "      <td>0.260487</td>\n",
       "      <td>29.847940</td>\n",
       "      <td>3.113068e+04</td>\n",
       "      <td>7.566097</td>\n",
       "      <td>13388.080519</td>\n",
       "      <td>1702.947826</td>\n",
       "    </tr>\n",
       "    <tr>\n",
       "      <th>std</th>\n",
       "      <td>8554.785067</td>\n",
       "      <td>4.766155e+05</td>\n",
       "      <td>140.956411</td>\n",
       "      <td>1.034872</td>\n",
       "      <td>63.567703</td>\n",
       "      <td>201.309299</td>\n",
       "      <td>4.461121</td>\n",
       "      <td>12.714171</td>\n",
       "      <td>2.135177</td>\n",
       "      <td>211.537199</td>\n",
       "      <td>1.324301e+05</td>\n",
       "      <td>33.253440</td>\n",
       "      <td>72183.367329</td>\n",
       "      <td>35740.719514</td>\n",
       "    </tr>\n",
       "    <tr>\n",
       "      <th>min</th>\n",
       "      <td>97.000000</td>\n",
       "      <td>4.100000e+01</td>\n",
       "      <td>0.655000</td>\n",
       "      <td>0.000000</td>\n",
       "      <td>0.000000</td>\n",
       "      <td>0.000000</td>\n",
       "      <td>0.000000</td>\n",
       "      <td>0.000000</td>\n",
       "      <td>0.000000</td>\n",
       "      <td>0.000000</td>\n",
       "      <td>0.000000e+00</td>\n",
       "      <td>0.000000</td>\n",
       "      <td>0.000000</td>\n",
       "      <td>0.000000</td>\n",
       "    </tr>\n",
       "    <tr>\n",
       "      <th>25%</th>\n",
       "      <td>5879.000000</td>\n",
       "      <td>1.107900e+04</td>\n",
       "      <td>55.798000</td>\n",
       "      <td>0.507750</td>\n",
       "      <td>66.627713</td>\n",
       "      <td>0.010000</td>\n",
       "      <td>0.000000</td>\n",
       "      <td>0.000000</td>\n",
       "      <td>0.000000</td>\n",
       "      <td>0.022750</td>\n",
       "      <td>0.000000e+00</td>\n",
       "      <td>0.000000</td>\n",
       "      <td>0.000000</td>\n",
       "      <td>0.000000</td>\n",
       "    </tr>\n",
       "    <tr>\n",
       "      <th>50%</th>\n",
       "      <td>12264.000000</td>\n",
       "      <td>2.409100e+04</td>\n",
       "      <td>99.848500</td>\n",
       "      <td>0.995500</td>\n",
       "      <td>91.777437</td>\n",
       "      <td>0.349500</td>\n",
       "      <td>0.000000</td>\n",
       "      <td>0.000000</td>\n",
       "      <td>0.000000</td>\n",
       "      <td>0.456000</td>\n",
       "      <td>0.000000e+00</td>\n",
       "      <td>0.000000</td>\n",
       "      <td>0.000000</td>\n",
       "      <td>0.000000</td>\n",
       "    </tr>\n",
       "    <tr>\n",
       "      <th>75%</th>\n",
       "      <td>16733.000000</td>\n",
       "      <td>6.557075e+04</td>\n",
       "      <td>170.164250</td>\n",
       "      <td>1.528000</td>\n",
       "      <td>120.542700</td>\n",
       "      <td>2.215500</td>\n",
       "      <td>0.000000</td>\n",
       "      <td>0.000000</td>\n",
       "      <td>0.027000</td>\n",
       "      <td>2.671750</td>\n",
       "      <td>1.573815e+03</td>\n",
       "      <td>0.351250</td>\n",
       "      <td>76.000000</td>\n",
       "      <td>0.000000</td>\n",
       "    </tr>\n",
       "    <tr>\n",
       "      <th>max</th>\n",
       "      <td>60839.000000</td>\n",
       "      <td>5.589368e+06</td>\n",
       "      <td>1239.300000</td>\n",
       "      <td>12.386000</td>\n",
       "      <td>1075.000000</td>\n",
       "      <td>4265.184000</td>\n",
       "      <td>96.415000</td>\n",
       "      <td>343.869000</td>\n",
       "      <td>40.337000</td>\n",
       "      <td>4473.646000</td>\n",
       "      <td>2.097423e+06</td>\n",
       "      <td>436.743000</td>\n",
       "      <td>895133.000000</td>\n",
       "      <td>977215.000000</td>\n",
       "    </tr>\n",
       "  </tbody>\n",
       "</table>\n",
       "</div>"
      ],
      "text/plain": [
       "                 no     customers  saidi_nomed  saifi_nomed  caidi_nomed  \\\n",
       "count    770.000000  7.700000e+02   770.000000   770.000000   770.000000   \n",
       "mean   12294.633766  1.544447e+05   138.782414     1.163474    95.765853   \n",
       "std     8554.785067  4.766155e+05   140.956411     1.034872    63.567703   \n",
       "min       97.000000  4.100000e+01     0.655000     0.000000     0.000000   \n",
       "25%     5879.000000  1.107900e+04    55.798000     0.507750    66.627713   \n",
       "50%    12264.000000  2.409100e+04    99.848500     0.995500    91.777437   \n",
       "75%    16733.000000  6.557075e+04   170.164250     1.528000   120.542700   \n",
       "max    60839.000000  5.589368e+06  1239.300000    12.386000  1075.000000   \n",
       "\n",
       "             pv_mw  pv_storage_mw  virtual_mw     wind_mw  all_tech_mw  \\\n",
       "count   770.000000     770.000000  770.000000  770.000000   770.000000   \n",
       "mean     28.165491       0.321249    0.791822    0.260487    29.847940   \n",
       "std     201.309299       4.461121   12.714171    2.135177   211.537199   \n",
       "min       0.000000       0.000000    0.000000    0.000000     0.000000   \n",
       "25%       0.010000       0.000000    0.000000    0.000000     0.022750   \n",
       "50%       0.349500       0.000000    0.000000    0.000000     0.456000   \n",
       "75%       2.215500       0.000000    0.000000    0.027000     2.671750   \n",
       "max    4265.184000      96.415000  343.869000   40.337000  4473.646000   \n",
       "\n",
       "       ee_savings_mw  peak_savings_mw  dem_res_customers  dem_res_savings_mwh  \n",
       "count   7.700000e+02       770.000000         770.000000           770.000000  \n",
       "mean    3.113068e+04         7.566097       13388.080519          1702.947826  \n",
       "std     1.324301e+05        33.253440       72183.367329         35740.719514  \n",
       "min     0.000000e+00         0.000000           0.000000             0.000000  \n",
       "25%     0.000000e+00         0.000000           0.000000             0.000000  \n",
       "50%     0.000000e+00         0.000000           0.000000             0.000000  \n",
       "75%     1.573815e+03         0.351250          76.000000             0.000000  \n",
       "max     2.097423e+06       436.743000      895133.000000        977215.000000  "
      ]
     },
     "execution_count": 63,
     "metadata": {},
     "output_type": "execute_result"
    }
   ],
   "source": [
    "df_19.describe()"
   ]
  },
  {
   "cell_type": "code",
   "execution_count": 6,
   "metadata": {},
   "outputs": [
    {
     "data": {
      "text/html": [
       "<div>\n",
       "<style scoped>\n",
       "    .dataframe tbody tr th:only-of-type {\n",
       "        vertical-align: middle;\n",
       "    }\n",
       "\n",
       "    .dataframe tbody tr th {\n",
       "        vertical-align: top;\n",
       "    }\n",
       "\n",
       "    .dataframe thead th {\n",
       "        text-align: right;\n",
       "    }\n",
       "</style>\n",
       "<table border=\"1\" class=\"dataframe\">\n",
       "  <thead>\n",
       "    <tr style=\"text-align: right;\">\n",
       "      <th></th>\n",
       "      <th>saidi_nomed</th>\n",
       "    </tr>\n",
       "    <tr>\n",
       "      <th>type</th>\n",
       "      <th></th>\n",
       "    </tr>\n",
       "  </thead>\n",
       "  <tbody>\n",
       "    <tr>\n",
       "      <th>State</th>\n",
       "      <td>20.210429</td>\n",
       "    </tr>\n",
       "    <tr>\n",
       "      <th>Municipal</th>\n",
       "      <td>44.646651</td>\n",
       "    </tr>\n",
       "    <tr>\n",
       "      <th>Political Subdivision</th>\n",
       "      <td>82.328087</td>\n",
       "    </tr>\n",
       "    <tr>\n",
       "      <th>Investor Owned</th>\n",
       "      <td>111.538235</td>\n",
       "    </tr>\n",
       "    <tr>\n",
       "      <th>Cooperative</th>\n",
       "      <td>114.187057</td>\n",
       "    </tr>\n",
       "  </tbody>\n",
       "</table>\n",
       "</div>"
      ],
      "text/plain": [
       "                       saidi_nomed\n",
       "type                              \n",
       "State                    20.210429\n",
       "Municipal                44.646651\n",
       "Political Subdivision    82.328087\n",
       "Investor Owned          111.538235\n",
       "Cooperative             114.187057"
      ]
     },
     "execution_count": 6,
     "metadata": {},
     "output_type": "execute_result"
    }
   ],
   "source": [
    "df_nona.groupby('type').mean().filter(['type','saidi_nomed']).sort_values(by='saidi_nomed')"
   ]
  },
  {
   "cell_type": "code",
   "execution_count": 93,
   "metadata": {},
   "outputs": [
    {
     "data": {
      "application/vnd.plotly.v1+json": {
       "config": {
        "plotlyServerURL": "https://plot.ly"
       },
       "data": [
        {
         "coloraxis": "coloraxis",
         "geo": "geo",
         "hovertemplate": "<b>%{hovertext}</b><br><br>state=%{location}<br>customers=%{z}<extra></extra>",
         "hovertext": [
          "IL",
          "WI",
          "MN",
          "SC",
          "AK",
          "NC",
          "AL",
          "MI",
          "IA",
          "GA",
          "IA",
          "GA",
          "CA",
          "AK",
          "IN",
          "MN",
          "CA",
          "TN",
          "VA",
          "WV",
          "AZ",
          "AR",
          "AR",
          "OK",
          "AR",
          "NJ",
          "MN",
          "TX",
          "VA",
          "AL",
          "MD",
          "SC",
          "TX",
          "ME",
          "WI",
          "TX",
          "IN",
          "MI",
          "VA",
          "MA",
          "MN",
          "WA",
          "SC",
          "MD",
          "KY",
          "SD",
          "MO",
          "MN",
          "KY",
          "NC",
          "SC",
          "TX",
          "TN",
          "MO",
          "OH",
          "KY",
          "CT",
          "MA",
          "TN",
          "VA",
          "TX",
          "OH",
          "OH",
          "KS",
          "OH",
          "GA",
          "OK",
          "NC",
          "WY",
          "NC",
          "SC",
          "GA",
          "AR",
          "MO",
          "MO",
          "AL",
          "OK",
          "FL",
          "GA",
          "NC",
          "ME",
          "MO",
          "TX",
          "TX",
          "NM",
          "VA",
          "WA",
          "IA",
          "PA",
          "TN",
          "WA",
          "MI",
          "WY",
          "OK",
          "MO",
          "FL",
          "MD",
          "OH",
          "MO",
          "MO",
          "OK",
          "WA",
          "KY",
          "ID",
          "OH",
          "FL",
          "TN",
          "OH",
          "TN",
          "MI",
          "MS",
          "GA",
          "SC",
          "TN",
          "KS",
          "GA",
          "TX",
          "CO",
          "OR",
          "WA",
          "MO",
          "MO",
          "OH",
          "MS",
          "IL",
          "VA",
          "TX",
          "NC",
          "CT",
          "MO",
          "MI",
          "AR",
          "OK",
          "OR",
          "AL",
          "MN",
          "IL",
          "OK",
          "AL",
          "GA",
          "WA",
          "VA",
          "WV",
          "MO",
          "MN",
          "AL",
          "KY",
          "MO",
          "OH",
          "ND",
          "OR",
          "OH",
          "IN",
          "OH",
          "TX",
          "IN",
          "TX",
          "NY",
          "DE",
          "MD",
          "TX",
          "DE",
          "TX",
          "MI",
          "MN",
          "TN",
          "LA",
          "AL",
          "OH",
          "TN",
          "NC",
          "SC",
          "WI",
          "AZ",
          "TN",
          "MN",
          "MS",
          "IL",
          "IA",
          "OK",
          "IA",
          "ME",
          "SC",
          "NC",
          "OK",
          "NM",
          "TX",
          "MN",
          "AR",
          "KS",
          "MO",
          "OK",
          "CO",
          "NY",
          "PA",
          "OR",
          "IA",
          "IA",
          "ID",
          "MT",
          "WY",
          "TX",
          "KY",
          "NM",
          "TN",
          "NC",
          "MN",
          "SD",
          "OH",
          "AR",
          "MA",
          "MT",
          "WI",
          "TX",
          "KS",
          "KY",
          "FL",
          "FL",
          "FL",
          "AL",
          "TN",
          "MS",
          "KY",
          "SC",
          "NY",
          "NE",
          "MN",
          "OH",
          "MO",
          "FL",
          "UT",
          "GA",
          "IL",
          "GA",
          "TN",
          "FL",
          "AK",
          "GA",
          "AZ",
          "MN",
          "MI",
          "WA",
          "KY",
          "CO",
          "TN",
          "TX",
          "CT",
          "TX",
          "FL",
          "FL",
          "SD",
          "GA",
          "OH",
          "OH",
          "NC",
          "OH",
          "MO",
          "IA",
          "TN",
          "IN",
          "WV",
          "MO",
          "GA",
          "NE",
          "HI",
          "IA",
          "NC",
          "UT",
          "IN",
          "IN",
          "MO",
          "MO",
          "NC",
          "TX",
          "WA",
          "MI",
          "OH",
          "TN",
          "CO",
          "MA",
          "SC",
          "FL",
          "IL",
          "AR",
          "TX",
          "OH",
          "AL",
          "LA",
          "UT",
          "ID",
          "ID",
          "OR",
          "CA",
          "IA",
          "OK",
          "IN",
          "KY",
          "IN",
          "MI",
          "MO",
          "CO",
          "IA",
          "MA",
          "MN",
          "KY",
          "IN",
          "GA",
          "KY",
          "IN",
          "TX",
          "GA",
          "NM",
          "NJ",
          "IL",
          "TN",
          "IN",
          "KY",
          "MN",
          "KS",
          "KS",
          "MO",
          "KS",
          "KS",
          "WI",
          "UT",
          "OK",
          "KY",
          "VA",
          "FL",
          "TN",
          "NC",
          "TN",
          "IN",
          "ID",
          "CO",
          "TN",
          "OK",
          "MO",
          "MN",
          "GA",
          "CO",
          "OH",
          "MN",
          "CA",
          "SC",
          "IN",
          "UT",
          "WA",
          "TN",
          "NE",
          "IA",
          "UT",
          "OH",
          "OH",
          "CA",
          "LA",
          "KY",
          "CO",
          "MI",
          "NC",
          "IA",
          "MN",
          "SC",
          "TX",
          "MO",
          "WI",
          "TX",
          "VA",
          "WI",
          "MA",
          "MA",
          "GA",
          "SC",
          "MI",
          "WI",
          "IA",
          "AK",
          "HI",
          "MN",
          "ND",
          "TN",
          "KS",
          "MN",
          "KY",
          "VA",
          "TX",
          "TN",
          "MA",
          "ND",
          "IA",
          "IL",
          "SD",
          "AZ",
          "PA",
          "IL",
          "SC",
          "MT",
          "TN",
          "OH",
          "KS",
          "MN",
          "IA",
          "MN",
          "MN",
          "MS",
          "MS",
          "MT",
          "MO",
          "CA",
          "MO",
          "WV",
          "NC",
          "IL",
          "MT",
          "NM",
          "IN",
          "OH",
          "KS",
          "FL",
          "CO",
          "IA",
          "ND",
          "OH",
          "RI",
          "TN",
          "NE",
          "KS",
          "NV",
          "NC",
          "TX",
          "DE",
          "WV",
          "LA",
          "WI",
          "NC",
          "GA",
          "NC",
          "NY",
          "MI",
          "IN",
          "KY",
          "NE",
          "AR",
          "MA",
          "MN",
          "WY",
          "OH",
          "GA",
          "MN",
          "MS",
          "SD",
          "IN",
          "MI",
          "WI",
          "MN",
          "ND",
          "SD",
          "OR",
          "NE",
          "SD",
          "TX",
          "CT",
          "OK",
          "WI",
          "OK",
          "OH",
          "OH",
          "OK",
          "MN",
          "NE",
          "AL",
          "MI",
          "WA",
          "SC",
          "MN",
          "IA",
          "MN",
          "ND",
          "SD",
          "NV",
          "MN",
          "KY",
          "KY",
          "AR",
          "OK",
          "CA",
          "CA",
          "ID",
          "OR",
          "UT",
          "WA",
          "WY",
          "KY",
          "OH",
          "SC",
          "TN",
          "MN",
          "IN",
          "CA",
          "SC",
          "MS",
          "FL",
          "TX",
          "WA",
          "PA",
          "PA",
          "PA",
          "NC",
          "KY",
          "PA",
          "AR",
          "PA",
          "NC",
          "WI",
          "OH",
          "KS",
          "MO",
          "NE",
          "OK",
          "OR",
          "CO",
          "MD",
          "WV",
          "DC",
          "MD",
          "TN",
          "VA",
          "WI",
          "KY",
          "MN",
          "VA",
          "UT",
          "CO",
          "IN",
          "NH",
          "NM",
          "OK",
          "NJ",
          "WA",
          "TN",
          "NC",
          "GA",
          "MA",
          "MN",
          "CA",
          "MN",
          "WI",
          "WA",
          "TX",
          "WI",
          "WI",
          "CA",
          "NC",
          "TX",
          "MN",
          "SC",
          "TN",
          "NC",
          "MN",
          "MA",
          "OK",
          "IL",
          "KS",
          "TX",
          "NC",
          "VA",
          "AZ",
          "KY",
          "CO",
          "TX",
          "SC",
          "CA",
          "TX",
          "TX",
          "TX",
          "CO",
          "MN",
          "MO",
          "AL",
          "KS",
          "GA",
          "WA",
          "KS",
          "TN",
          "TN",
          "MN",
          "NC",
          "KY",
          "TN",
          "VA",
          "NV",
          "AR",
          "MS",
          "MN",
          "SD",
          "WA",
          "AL",
          "SC",
          "SC",
          "MN",
          "MA",
          "KY",
          "IL",
          "IN",
          "OK",
          "CA",
          "CA",
          "IA",
          "AR",
          "MS",
          "NE",
          "IL",
          "AR",
          "LA",
          "TX",
          "NM",
          "TX",
          "GA",
          "WI",
          "UT",
          "CA",
          "MN",
          "MN",
          "OH",
          "NY",
          "WI",
          "AL",
          "AZ",
          "WI",
          "NC",
          "FL",
          "WI",
          "WA",
          "IA",
          "FL",
          "FL",
          "MA",
          "KY",
          "IN",
          "GA",
          "IN",
          "OH",
          "IL",
          "MS",
          "KS",
          "TX",
          "OH",
          "AL",
          "NC",
          "MI",
          "WY",
          "IA",
          "MN",
          "TX",
          "FL",
          "KY",
          "TN",
          "AZ",
          "AL",
          "GA",
          "AL",
          "TN",
          "CA",
          "OR",
          "PA",
          "MI",
          "NC",
          "MO",
          "IA",
          "IN",
          "KY",
          "TX",
          "OH",
          "MT",
          "SD",
          "WY",
          "HI",
          "AK",
          "TN",
          "MI",
          "TX",
          "IN",
          "AZ",
          "ND",
          "VT",
          "OH",
          "TX",
          "WI",
          "KS",
          "NV",
          "NC",
          "GA",
          "KY",
          "MN",
          "GA",
          "ID",
          "WA",
          "SD",
          "WI",
          "WI",
          "TN",
          "MO",
          "SD",
          "PA",
          "SD",
          "TX",
          "SD",
          "OH",
          "MA",
          "KS",
          "WV",
          "IN",
          "MN",
          "NC",
          "AL",
          "WI",
          "WI",
          "FL",
          "TX",
          "AR",
          "MN",
          "SC",
          "CO",
          "NE",
          "WY",
          "CO",
          "MI",
          "VA",
          "AZ",
          "LA",
          "NC",
          "KY",
          "KS",
          "MS",
          "IN",
          "NH",
          "IN",
          "NC",
          "ND",
          "MN",
          "IN",
          "NH",
          "IA",
          "MT",
          "MN",
          "TN",
          "MO",
          "MN",
          "IN",
          "OR",
          "TX",
          "AL",
          "FL",
          "GA",
          "OH",
          "MI",
          "VA",
          "MN",
          "OR",
          "NE",
          "IA",
          "MA",
          "TX",
          "TX",
          "CO",
          "IL",
          "CA",
          "WA",
          "MI",
          "KS"
         ],
         "locationmode": "USA-states",
         "locations": [
          "IL",
          "WI",
          "MN",
          "SC",
          "AK",
          "NC",
          "AL",
          "MI",
          "IA",
          "GA",
          "IA",
          "GA",
          "CA",
          "AK",
          "IN",
          "MN",
          "CA",
          "TN",
          "VA",
          "WV",
          "AZ",
          "AR",
          "AR",
          "OK",
          "AR",
          "NJ",
          "MN",
          "TX",
          "VA",
          "AL",
          "MD",
          "SC",
          "TX",
          "ME",
          "WI",
          "TX",
          "IN",
          "MI",
          "VA",
          "MA",
          "MN",
          "WA",
          "SC",
          "MD",
          "KY",
          "SD",
          "MO",
          "MN",
          "KY",
          "NC",
          "SC",
          "TX",
          "TN",
          "MO",
          "OH",
          "KY",
          "CT",
          "MA",
          "TN",
          "VA",
          "TX",
          "OH",
          "OH",
          "KS",
          "OH",
          "GA",
          "OK",
          "NC",
          "WY",
          "NC",
          "SC",
          "GA",
          "AR",
          "MO",
          "MO",
          "AL",
          "OK",
          "FL",
          "GA",
          "NC",
          "ME",
          "MO",
          "TX",
          "TX",
          "NM",
          "VA",
          "WA",
          "IA",
          "PA",
          "TN",
          "WA",
          "MI",
          "WY",
          "OK",
          "MO",
          "FL",
          "MD",
          "OH",
          "MO",
          "MO",
          "OK",
          "WA",
          "KY",
          "ID",
          "OH",
          "FL",
          "TN",
          "OH",
          "TN",
          "MI",
          "MS",
          "GA",
          "SC",
          "TN",
          "KS",
          "GA",
          "TX",
          "CO",
          "OR",
          "WA",
          "MO",
          "MO",
          "OH",
          "MS",
          "IL",
          "VA",
          "TX",
          "NC",
          "CT",
          "MO",
          "MI",
          "AR",
          "OK",
          "OR",
          "AL",
          "MN",
          "IL",
          "OK",
          "AL",
          "GA",
          "WA",
          "VA",
          "WV",
          "MO",
          "MN",
          "AL",
          "KY",
          "MO",
          "OH",
          "ND",
          "OR",
          "OH",
          "IN",
          "OH",
          "TX",
          "IN",
          "TX",
          "NY",
          "DE",
          "MD",
          "TX",
          "DE",
          "TX",
          "MI",
          "MN",
          "TN",
          "LA",
          "AL",
          "OH",
          "TN",
          "NC",
          "SC",
          "WI",
          "AZ",
          "TN",
          "MN",
          "MS",
          "IL",
          "IA",
          "OK",
          "IA",
          "ME",
          "SC",
          "NC",
          "OK",
          "NM",
          "TX",
          "MN",
          "AR",
          "KS",
          "MO",
          "OK",
          "CO",
          "NY",
          "PA",
          "OR",
          "IA",
          "IA",
          "ID",
          "MT",
          "WY",
          "TX",
          "KY",
          "NM",
          "TN",
          "NC",
          "MN",
          "SD",
          "OH",
          "AR",
          "MA",
          "MT",
          "WI",
          "TX",
          "KS",
          "KY",
          "FL",
          "FL",
          "FL",
          "AL",
          "TN",
          "MS",
          "KY",
          "SC",
          "NY",
          "NE",
          "MN",
          "OH",
          "MO",
          "FL",
          "UT",
          "GA",
          "IL",
          "GA",
          "TN",
          "FL",
          "AK",
          "GA",
          "AZ",
          "MN",
          "MI",
          "WA",
          "KY",
          "CO",
          "TN",
          "TX",
          "CT",
          "TX",
          "FL",
          "FL",
          "SD",
          "GA",
          "OH",
          "OH",
          "NC",
          "OH",
          "MO",
          "IA",
          "TN",
          "IN",
          "WV",
          "MO",
          "GA",
          "NE",
          "HI",
          "IA",
          "NC",
          "UT",
          "IN",
          "IN",
          "MO",
          "MO",
          "NC",
          "TX",
          "WA",
          "MI",
          "OH",
          "TN",
          "CO",
          "MA",
          "SC",
          "FL",
          "IL",
          "AR",
          "TX",
          "OH",
          "AL",
          "LA",
          "UT",
          "ID",
          "ID",
          "OR",
          "CA",
          "IA",
          "OK",
          "IN",
          "KY",
          "IN",
          "MI",
          "MO",
          "CO",
          "IA",
          "MA",
          "MN",
          "KY",
          "IN",
          "GA",
          "KY",
          "IN",
          "TX",
          "GA",
          "NM",
          "NJ",
          "IL",
          "TN",
          "IN",
          "KY",
          "MN",
          "KS",
          "KS",
          "MO",
          "KS",
          "KS",
          "WI",
          "UT",
          "OK",
          "KY",
          "VA",
          "FL",
          "TN",
          "NC",
          "TN",
          "IN",
          "ID",
          "CO",
          "TN",
          "OK",
          "MO",
          "MN",
          "GA",
          "CO",
          "OH",
          "MN",
          "CA",
          "SC",
          "IN",
          "UT",
          "WA",
          "TN",
          "NE",
          "IA",
          "UT",
          "OH",
          "OH",
          "CA",
          "LA",
          "KY",
          "CO",
          "MI",
          "NC",
          "IA",
          "MN",
          "SC",
          "TX",
          "MO",
          "WI",
          "TX",
          "VA",
          "WI",
          "MA",
          "MA",
          "GA",
          "SC",
          "MI",
          "WI",
          "IA",
          "AK",
          "HI",
          "MN",
          "ND",
          "TN",
          "KS",
          "MN",
          "KY",
          "VA",
          "TX",
          "TN",
          "MA",
          "ND",
          "IA",
          "IL",
          "SD",
          "AZ",
          "PA",
          "IL",
          "SC",
          "MT",
          "TN",
          "OH",
          "KS",
          "MN",
          "IA",
          "MN",
          "MN",
          "MS",
          "MS",
          "MT",
          "MO",
          "CA",
          "MO",
          "WV",
          "NC",
          "IL",
          "MT",
          "NM",
          "IN",
          "OH",
          "KS",
          "FL",
          "CO",
          "IA",
          "ND",
          "OH",
          "RI",
          "TN",
          "NE",
          "KS",
          "NV",
          "NC",
          "TX",
          "DE",
          "WV",
          "LA",
          "WI",
          "NC",
          "GA",
          "NC",
          "NY",
          "MI",
          "IN",
          "KY",
          "NE",
          "AR",
          "MA",
          "MN",
          "WY",
          "OH",
          "GA",
          "MN",
          "MS",
          "SD",
          "IN",
          "MI",
          "WI",
          "MN",
          "ND",
          "SD",
          "OR",
          "NE",
          "SD",
          "TX",
          "CT",
          "OK",
          "WI",
          "OK",
          "OH",
          "OH",
          "OK",
          "MN",
          "NE",
          "AL",
          "MI",
          "WA",
          "SC",
          "MN",
          "IA",
          "MN",
          "ND",
          "SD",
          "NV",
          "MN",
          "KY",
          "KY",
          "AR",
          "OK",
          "CA",
          "CA",
          "ID",
          "OR",
          "UT",
          "WA",
          "WY",
          "KY",
          "OH",
          "SC",
          "TN",
          "MN",
          "IN",
          "CA",
          "SC",
          "MS",
          "FL",
          "TX",
          "WA",
          "PA",
          "PA",
          "PA",
          "NC",
          "KY",
          "PA",
          "AR",
          "PA",
          "NC",
          "WI",
          "OH",
          "KS",
          "MO",
          "NE",
          "OK",
          "OR",
          "CO",
          "MD",
          "WV",
          "DC",
          "MD",
          "TN",
          "VA",
          "WI",
          "KY",
          "MN",
          "VA",
          "UT",
          "CO",
          "IN",
          "NH",
          "NM",
          "OK",
          "NJ",
          "WA",
          "TN",
          "NC",
          "GA",
          "MA",
          "MN",
          "CA",
          "MN",
          "WI",
          "WA",
          "TX",
          "WI",
          "WI",
          "CA",
          "NC",
          "TX",
          "MN",
          "SC",
          "TN",
          "NC",
          "MN",
          "MA",
          "OK",
          "IL",
          "KS",
          "TX",
          "NC",
          "VA",
          "AZ",
          "KY",
          "CO",
          "TX",
          "SC",
          "CA",
          "TX",
          "TX",
          "TX",
          "CO",
          "MN",
          "MO",
          "AL",
          "KS",
          "GA",
          "WA",
          "KS",
          "TN",
          "TN",
          "MN",
          "NC",
          "KY",
          "TN",
          "VA",
          "NV",
          "AR",
          "MS",
          "MN",
          "SD",
          "WA",
          "AL",
          "SC",
          "SC",
          "MN",
          "MA",
          "KY",
          "IL",
          "IN",
          "OK",
          "CA",
          "CA",
          "IA",
          "AR",
          "MS",
          "NE",
          "IL",
          "AR",
          "LA",
          "TX",
          "NM",
          "TX",
          "GA",
          "WI",
          "UT",
          "CA",
          "MN",
          "MN",
          "OH",
          "NY",
          "WI",
          "AL",
          "AZ",
          "WI",
          "NC",
          "FL",
          "WI",
          "WA",
          "IA",
          "FL",
          "FL",
          "MA",
          "KY",
          "IN",
          "GA",
          "IN",
          "OH",
          "IL",
          "MS",
          "KS",
          "TX",
          "OH",
          "AL",
          "NC",
          "MI",
          "WY",
          "IA",
          "MN",
          "TX",
          "FL",
          "KY",
          "TN",
          "AZ",
          "AL",
          "GA",
          "AL",
          "TN",
          "CA",
          "OR",
          "PA",
          "MI",
          "NC",
          "MO",
          "IA",
          "IN",
          "KY",
          "TX",
          "OH",
          "MT",
          "SD",
          "WY",
          "HI",
          "AK",
          "TN",
          "MI",
          "TX",
          "IN",
          "AZ",
          "ND",
          "VT",
          "OH",
          "TX",
          "WI",
          "KS",
          "NV",
          "NC",
          "GA",
          "KY",
          "MN",
          "GA",
          "ID",
          "WA",
          "SD",
          "WI",
          "WI",
          "TN",
          "MO",
          "SD",
          "PA",
          "SD",
          "TX",
          "SD",
          "OH",
          "MA",
          "KS",
          "WV",
          "IN",
          "MN",
          "NC",
          "AL",
          "WI",
          "WI",
          "FL",
          "TX",
          "AR",
          "MN",
          "SC",
          "CO",
          "NE",
          "WY",
          "CO",
          "MI",
          "VA",
          "AZ",
          "LA",
          "NC",
          "KY",
          "KS",
          "MS",
          "IN",
          "NH",
          "IN",
          "NC",
          "ND",
          "MN",
          "IN",
          "NH",
          "IA",
          "MT",
          "MN",
          "TN",
          "MO",
          "MN",
          "IN",
          "OR",
          "TX",
          "AL",
          "FL",
          "GA",
          "OH",
          "MI",
          "VA",
          "MN",
          "OR",
          "NE",
          "IA",
          "MA",
          "TX",
          "TX",
          "CO",
          "IL",
          "CA",
          "WA",
          "MI",
          "KS"
         ],
         "name": "",
         "type": "choropleth",
         "z": [
          8665,
          37405,
          5367,
          47255,
          16768,
          11821,
          10054,
          10119,
          8940,
          20710,
          26948,
          49344,
          120978,
          31079,
          35742,
          134507.2,
          6192,
          47252,
          533574,
          420064,
          1261999,
          725576,
          55643,
          3612,
          5127,
          556532,
          11746,
          502963,
          12800,
          77765,
          1294802,
          1758,
          36872,
          173791,
          18863,
          12169,
          11680,
          20243,
          6694,
          11739,
          20811,
          54817,
          103788,
          2417,
          12596,
          10265,
          24382,
          1090,
          57854,
          75761,
          66733,
          100409,
          11082,
          32867,
          14746,
          30891,
          2767,
          16500,
          33727,
          16053,
          52520,
          5795,
          18571,
          7575,
          11440,
          5475,
          25713,
          7814,
          6481,
          1408476,
          168545,
          51759,
          90543,
          10927,
          7714,
          43000,
          21796,
          33942,
          57224,
          23098,
          642816,
          10908,
          855355,
          42277,
          18215,
          37035,
          10418,
          6058,
          11187,
          185137,
          5798,
          36490,
          43318,
          17976,
          4545,
          56208,
          53750,
          737368,
          27103,
          10779,
          12329,
          210074,
          26071,
          11171,
          731209,
          177019,
          31843,
          72249,
          29337,
          42501,
          83541,
          20048,
          11849,
          30357,
          5943,
          208395,
          43485,
          262378,
          1926,
          5697,
          46222,
          31658,
          14513,
          12580,
          4131059,
          11264,
          14888,
          31957,
          1275462,
          8058,
          1828424,
          31256,
          17867,
          18198,
          16988,
          6196,
          36209,
          21961,
          23246,
          84741,
          50202,
          6746,
          484,
          19968,
          43569,
          44267,
          23783,
          65908,
          25695,
          6651,
          22909,
          5148,
          8213,
          591607,
          14696,
          8065,
          42918,
          5404,
          320798,
          206524,
          56806,
          99826,
          247014,
          2210201,
          8388,
          36519,
          109996,
          23625,
          6831,
          75843,
          2043767,
          582660,
          10070,
          2472,
          11985,
          61501,
          12502,
          13454,
          8923,
          34233,
          23823,
          12655,
          20263,
          11187,
          41098,
          101100,
          331654,
          12244,
          5239,
          11199,
          168460,
          6655,
          16151,
          17623,
          6679,
          95344,
          4921,
          650,
          15112,
          1999,
          357,
          61843.1,
          23957,
          44877,
          18730,
          84488,
          6839,
          2081,
          9103,
          94559,
          30006,
          66531,
          1511,
          16148,
          6636,
          24629,
          31792,
          5086544,
          1871645,
          50265,
          32431,
          47963,
          21552,
          14957,
          14613,
          15202,
          20985,
          9076,
          5648,
          98043,
          13992,
          133115,
          10153,
          2493389,
          38407,
          16540,
          46804,
          19864,
          7951,
          5165,
          14338,
          42420,
          14363,
          17812,
          38195,
          14356.7,
          14292,
          86227,
          19814,
          468283,
          3643,
          32408,
          16952,
          29131,
          10595,
          13135,
          8797,
          2880,
          10968,
          23403,
          6884,
          4816,
          36655,
          13550,
          86068,
          5192,
          27432,
          13012,
          33279,
          9497,
          1555,
          2797,
          41865,
          29104,
          41603,
          28958,
          17454,
          30528,
          58601,
          17689,
          79930,
          25407,
          9402,
          6995,
          2564204,
          7000,
          186704,
          67005,
          7161,
          28214,
          546775,
          19231,
          156460,
          3169,
          19678,
          504500,
          26556,
          466416,
          129066,
          30499,
          178368,
          12852,
          7237,
          11918,
          51550,
          24408,
          228316,
          29813,
          9173,
          22835,
          34443,
          31000,
          1117687,
          20726,
          78776,
          27607,
          57275,
          8730,
          58939,
          270675,
          297681,
          339770,
          18310,
          15502,
          9910,
          21668,
          537990,
          30195,
          30845,
          48317,
          11536,
          203914.1,
          17011,
          29090,
          43846,
          21904,
          24769,
          37239,
          28113,
          19303,
          5500,
          26130,
          49579,
          12015,
          57907,
          3485,
          22974,
          34042,
          6291,
          138340,
          29448.2,
          19153,
          16429,
          4647,
          1596912,
          1107688,
          420963,
          36936,
          2948,
          61442,
          2250,
          3910,
          21277,
          22906,
          3112,
          155918,
          121528,
          16298,
          17867,
          9950,
          10327,
          41897,
          6478,
          17005,
          13699,
          6791,
          65192,
          72265,
          6787,
          12732,
          8002,
          8738,
          9061,
          29825,
          31331,
          32032,
          418951,
          2983,
          20169,
          698232,
          85214,
          5179,
          16871.7,
          566218,
          11055,
          56859,
          2027,
          232838,
          10857,
          49971,
          15402,
          16426,
          143598,
          43447,
          456486,
          187958,
          15485,
          325493,
          115853,
          4793,
          388589,
          11078,
          7421,
          365915,
          11095,
          33905,
          17688,
          1040,
          5853,
          54628,
          11502,
          11889,
          5922,
          496959,
          396307,
          91658,
          3495,
          1003589,
          22450,
          44906,
          2841,
          1783,
          208035,
          4850,
          8356,
          10244,
          4740,
          1653855,
          6654,
          11460,
          35685,
          24545,
          36780,
          13376,
          6832,
          2260,
          9657,
          101227,
          6624,
          32413,
          6417,
          502079,
          8819,
          247931,
          1277090,
          92705,
          94348,
          10163,
          3379,
          55207,
          19302,
          20456,
          6554,
          16954,
          342,
          1042023,
          1486637,
          57781,
          1324,
          379463,
          12929,
          4865,
          14577,
          18085,
          3888,
          1129,
          63290,
          59761,
          11930,
          16145,
          12016,
          62277,
          27207,
          65697,
          12739,
          5589368,
          47392,
          82079,
          617662,
          946168,
          136786,
          146512,
          22115,
          12500,
          72500,
          21358,
          22859,
          12137,
          64909,
          30597,
          50256,
          45984,
          329715,
          33353,
          579647,
          1429035,
          164199,
          21080,
          47559,
          4000,
          19988,
          1656246,
          32533,
          7671,
          17133,
          16624,
          23269,
          4747,
          15165,
          884690,
          44421,
          269467,
          142878,
          305487,
          578433,
          24003,
          8284,
          20851,
          3801,
          2795,
          11898,
          37290,
          1409868,
          847227,
          531399,
          530935,
          553971,
          2400252,
          1165638,
          14437,
          32276,
          18555,
          30111,
          4454,
          44378,
          1908,
          5988,
          24966,
          13646,
          18154,
          6612,
          112114,
          14172,
          19859,
          56264,
          38268,
          14657,
          28418,
          14454,
          3097,
          11960,
          5891,
          3433,
          22676,
          71222,
          13320,
          1055618,
          52831,
          12494,
          829998,
          43458.7,
          1478587,
          75330,
          11619,
          27838,
          12754,
          2366,
          22791,
          8341,
          11251,
          183052,
          488000,
          6952,
          36083,
          54590,
          17960,
          8340,
          16610,
          10507,
          94354,
          370090,
          8020,
          74043.9,
          3847,
          22179,
          361319,
          16610,
          749404,
          184242,
          5875,
          7889,
          68995,
          24179,
          27570,
          15027,
          5151098,
          24366,
          4733,
          28378,
          25265,
          6237,
          23401,
          121778,
          230945,
          186258,
          111414,
          254602,
          101471,
          10879,
          31479,
          4547,
          27233,
          11505,
          118848,
          6306,
          8722,
          27516,
          52220,
          13784,
          27150,
          26103,
          4414,
          175106,
          6357,
          52060,
          794953,
          38000,
          26705,
          4286,
          15744,
          27181,
          5004,
          16417,
          12158,
          2938,
          70793.7,
          302870,
          8831,
          22931,
          12599,
          27461,
          7079,
          16032,
          128436,
          18284,
          24440,
          27012,
          48875,
          669,
          34645,
          9150,
          11165,
          87386,
          15447,
          62139,
          26104,
          76733,
          1237819,
          5412,
          9476,
          144188,
          86609,
          10382,
          41,
          70358,
          2646,
          305627,
          31920,
          51656,
          58879,
          46806,
          19169,
          99308,
          20605,
          39179,
          1895,
          23155,
          11237,
          19747,
          24582,
          46705,
          128811,
          66357,
          4184,
          15603,
          133938,
          256742,
          13207,
          6524,
          4454,
          20453,
          14113,
          6842,
          717331,
          17677,
          193284,
          3426,
          17347,
          18103,
          32750,
          41482,
          29165,
          9358,
          37100,
          24887,
          1136654,
          452552,
          220811,
          37283,
          19027,
          50647,
          62335,
          8937,
          499,
          4822,
          27438,
          6749,
          56819,
          41469,
          53145,
          129356,
          164022,
          374641,
          28147,
          24734,
          77959,
          14864,
          94089,
          50418,
          108126,
          16981,
          44784,
          3036,
          10751,
          4681,
          6462,
          41560,
          8832,
          14715,
          4611,
          23025,
          12397,
          10800,
          26443,
          8140,
          125362,
          164320,
          5318,
          19590,
          26269,
          5918,
          1434715,
          465983,
          21769,
          97890,
          1244558,
          47194,
          19689,
          37255,
          16812
         ]
        }
       ],
       "layout": {
        "coloraxis": {
         "cmax": 600000,
         "cmin": 0,
         "colorbar": {
          "title": {
           "text": "customers"
          }
         },
         "colorscale": [
          [
           0,
           "#0d0887"
          ],
          [
           0.1111111111111111,
           "#46039f"
          ],
          [
           0.2222222222222222,
           "#7201a8"
          ],
          [
           0.3333333333333333,
           "#9c179e"
          ],
          [
           0.4444444444444444,
           "#bd3786"
          ],
          [
           0.5555555555555556,
           "#d8576b"
          ],
          [
           0.6666666666666666,
           "#ed7953"
          ],
          [
           0.7777777777777778,
           "#fb9f3a"
          ],
          [
           0.8888888888888888,
           "#fdca26"
          ],
          [
           1,
           "#f0f921"
          ]
         ]
        },
        "geo": {
         "center": {},
         "domain": {
          "x": [
           0,
           1
          ],
          "y": [
           0,
           1
          ]
         },
         "projection": {
          "type": "albers usa"
         },
         "scope": "usa"
        },
        "legend": {
         "tracegroupgap": 0
        },
        "margin": {
         "t": 60
        },
        "template": {
         "data": {
          "bar": [
           {
            "error_x": {
             "color": "#2a3f5f"
            },
            "error_y": {
             "color": "#2a3f5f"
            },
            "marker": {
             "line": {
              "color": "#E5ECF6",
              "width": 0.5
             }
            },
            "type": "bar"
           }
          ],
          "barpolar": [
           {
            "marker": {
             "line": {
              "color": "#E5ECF6",
              "width": 0.5
             }
            },
            "type": "barpolar"
           }
          ],
          "carpet": [
           {
            "aaxis": {
             "endlinecolor": "#2a3f5f",
             "gridcolor": "white",
             "linecolor": "white",
             "minorgridcolor": "white",
             "startlinecolor": "#2a3f5f"
            },
            "baxis": {
             "endlinecolor": "#2a3f5f",
             "gridcolor": "white",
             "linecolor": "white",
             "minorgridcolor": "white",
             "startlinecolor": "#2a3f5f"
            },
            "type": "carpet"
           }
          ],
          "choropleth": [
           {
            "colorbar": {
             "outlinewidth": 0,
             "ticks": ""
            },
            "type": "choropleth"
           }
          ],
          "contour": [
           {
            "colorbar": {
             "outlinewidth": 0,
             "ticks": ""
            },
            "colorscale": [
             [
              0,
              "#0d0887"
             ],
             [
              0.1111111111111111,
              "#46039f"
             ],
             [
              0.2222222222222222,
              "#7201a8"
             ],
             [
              0.3333333333333333,
              "#9c179e"
             ],
             [
              0.4444444444444444,
              "#bd3786"
             ],
             [
              0.5555555555555556,
              "#d8576b"
             ],
             [
              0.6666666666666666,
              "#ed7953"
             ],
             [
              0.7777777777777778,
              "#fb9f3a"
             ],
             [
              0.8888888888888888,
              "#fdca26"
             ],
             [
              1,
              "#f0f921"
             ]
            ],
            "type": "contour"
           }
          ],
          "contourcarpet": [
           {
            "colorbar": {
             "outlinewidth": 0,
             "ticks": ""
            },
            "type": "contourcarpet"
           }
          ],
          "heatmap": [
           {
            "colorbar": {
             "outlinewidth": 0,
             "ticks": ""
            },
            "colorscale": [
             [
              0,
              "#0d0887"
             ],
             [
              0.1111111111111111,
              "#46039f"
             ],
             [
              0.2222222222222222,
              "#7201a8"
             ],
             [
              0.3333333333333333,
              "#9c179e"
             ],
             [
              0.4444444444444444,
              "#bd3786"
             ],
             [
              0.5555555555555556,
              "#d8576b"
             ],
             [
              0.6666666666666666,
              "#ed7953"
             ],
             [
              0.7777777777777778,
              "#fb9f3a"
             ],
             [
              0.8888888888888888,
              "#fdca26"
             ],
             [
              1,
              "#f0f921"
             ]
            ],
            "type": "heatmap"
           }
          ],
          "heatmapgl": [
           {
            "colorbar": {
             "outlinewidth": 0,
             "ticks": ""
            },
            "colorscale": [
             [
              0,
              "#0d0887"
             ],
             [
              0.1111111111111111,
              "#46039f"
             ],
             [
              0.2222222222222222,
              "#7201a8"
             ],
             [
              0.3333333333333333,
              "#9c179e"
             ],
             [
              0.4444444444444444,
              "#bd3786"
             ],
             [
              0.5555555555555556,
              "#d8576b"
             ],
             [
              0.6666666666666666,
              "#ed7953"
             ],
             [
              0.7777777777777778,
              "#fb9f3a"
             ],
             [
              0.8888888888888888,
              "#fdca26"
             ],
             [
              1,
              "#f0f921"
             ]
            ],
            "type": "heatmapgl"
           }
          ],
          "histogram": [
           {
            "marker": {
             "colorbar": {
              "outlinewidth": 0,
              "ticks": ""
             }
            },
            "type": "histogram"
           }
          ],
          "histogram2d": [
           {
            "colorbar": {
             "outlinewidth": 0,
             "ticks": ""
            },
            "colorscale": [
             [
              0,
              "#0d0887"
             ],
             [
              0.1111111111111111,
              "#46039f"
             ],
             [
              0.2222222222222222,
              "#7201a8"
             ],
             [
              0.3333333333333333,
              "#9c179e"
             ],
             [
              0.4444444444444444,
              "#bd3786"
             ],
             [
              0.5555555555555556,
              "#d8576b"
             ],
             [
              0.6666666666666666,
              "#ed7953"
             ],
             [
              0.7777777777777778,
              "#fb9f3a"
             ],
             [
              0.8888888888888888,
              "#fdca26"
             ],
             [
              1,
              "#f0f921"
             ]
            ],
            "type": "histogram2d"
           }
          ],
          "histogram2dcontour": [
           {
            "colorbar": {
             "outlinewidth": 0,
             "ticks": ""
            },
            "colorscale": [
             [
              0,
              "#0d0887"
             ],
             [
              0.1111111111111111,
              "#46039f"
             ],
             [
              0.2222222222222222,
              "#7201a8"
             ],
             [
              0.3333333333333333,
              "#9c179e"
             ],
             [
              0.4444444444444444,
              "#bd3786"
             ],
             [
              0.5555555555555556,
              "#d8576b"
             ],
             [
              0.6666666666666666,
              "#ed7953"
             ],
             [
              0.7777777777777778,
              "#fb9f3a"
             ],
             [
              0.8888888888888888,
              "#fdca26"
             ],
             [
              1,
              "#f0f921"
             ]
            ],
            "type": "histogram2dcontour"
           }
          ],
          "mesh3d": [
           {
            "colorbar": {
             "outlinewidth": 0,
             "ticks": ""
            },
            "type": "mesh3d"
           }
          ],
          "parcoords": [
           {
            "line": {
             "colorbar": {
              "outlinewidth": 0,
              "ticks": ""
             }
            },
            "type": "parcoords"
           }
          ],
          "pie": [
           {
            "automargin": true,
            "type": "pie"
           }
          ],
          "scatter": [
           {
            "marker": {
             "colorbar": {
              "outlinewidth": 0,
              "ticks": ""
             }
            },
            "type": "scatter"
           }
          ],
          "scatter3d": [
           {
            "line": {
             "colorbar": {
              "outlinewidth": 0,
              "ticks": ""
             }
            },
            "marker": {
             "colorbar": {
              "outlinewidth": 0,
              "ticks": ""
             }
            },
            "type": "scatter3d"
           }
          ],
          "scattercarpet": [
           {
            "marker": {
             "colorbar": {
              "outlinewidth": 0,
              "ticks": ""
             }
            },
            "type": "scattercarpet"
           }
          ],
          "scattergeo": [
           {
            "marker": {
             "colorbar": {
              "outlinewidth": 0,
              "ticks": ""
             }
            },
            "type": "scattergeo"
           }
          ],
          "scattergl": [
           {
            "marker": {
             "colorbar": {
              "outlinewidth": 0,
              "ticks": ""
             }
            },
            "type": "scattergl"
           }
          ],
          "scattermapbox": [
           {
            "marker": {
             "colorbar": {
              "outlinewidth": 0,
              "ticks": ""
             }
            },
            "type": "scattermapbox"
           }
          ],
          "scatterpolar": [
           {
            "marker": {
             "colorbar": {
              "outlinewidth": 0,
              "ticks": ""
             }
            },
            "type": "scatterpolar"
           }
          ],
          "scatterpolargl": [
           {
            "marker": {
             "colorbar": {
              "outlinewidth": 0,
              "ticks": ""
             }
            },
            "type": "scatterpolargl"
           }
          ],
          "scatterternary": [
           {
            "marker": {
             "colorbar": {
              "outlinewidth": 0,
              "ticks": ""
             }
            },
            "type": "scatterternary"
           }
          ],
          "surface": [
           {
            "colorbar": {
             "outlinewidth": 0,
             "ticks": ""
            },
            "colorscale": [
             [
              0,
              "#0d0887"
             ],
             [
              0.1111111111111111,
              "#46039f"
             ],
             [
              0.2222222222222222,
              "#7201a8"
             ],
             [
              0.3333333333333333,
              "#9c179e"
             ],
             [
              0.4444444444444444,
              "#bd3786"
             ],
             [
              0.5555555555555556,
              "#d8576b"
             ],
             [
              0.6666666666666666,
              "#ed7953"
             ],
             [
              0.7777777777777778,
              "#fb9f3a"
             ],
             [
              0.8888888888888888,
              "#fdca26"
             ],
             [
              1,
              "#f0f921"
             ]
            ],
            "type": "surface"
           }
          ],
          "table": [
           {
            "cells": {
             "fill": {
              "color": "#EBF0F8"
             },
             "line": {
              "color": "white"
             }
            },
            "header": {
             "fill": {
              "color": "#C8D4E3"
             },
             "line": {
              "color": "white"
             }
            },
            "type": "table"
           }
          ]
         },
         "layout": {
          "annotationdefaults": {
           "arrowcolor": "#2a3f5f",
           "arrowhead": 0,
           "arrowwidth": 1
          },
          "coloraxis": {
           "colorbar": {
            "outlinewidth": 0,
            "ticks": ""
           }
          },
          "colorscale": {
           "diverging": [
            [
             0,
             "#8e0152"
            ],
            [
             0.1,
             "#c51b7d"
            ],
            [
             0.2,
             "#de77ae"
            ],
            [
             0.3,
             "#f1b6da"
            ],
            [
             0.4,
             "#fde0ef"
            ],
            [
             0.5,
             "#f7f7f7"
            ],
            [
             0.6,
             "#e6f5d0"
            ],
            [
             0.7,
             "#b8e186"
            ],
            [
             0.8,
             "#7fbc41"
            ],
            [
             0.9,
             "#4d9221"
            ],
            [
             1,
             "#276419"
            ]
           ],
           "sequential": [
            [
             0,
             "#0d0887"
            ],
            [
             0.1111111111111111,
             "#46039f"
            ],
            [
             0.2222222222222222,
             "#7201a8"
            ],
            [
             0.3333333333333333,
             "#9c179e"
            ],
            [
             0.4444444444444444,
             "#bd3786"
            ],
            [
             0.5555555555555556,
             "#d8576b"
            ],
            [
             0.6666666666666666,
             "#ed7953"
            ],
            [
             0.7777777777777778,
             "#fb9f3a"
            ],
            [
             0.8888888888888888,
             "#fdca26"
            ],
            [
             1,
             "#f0f921"
            ]
           ],
           "sequentialminus": [
            [
             0,
             "#0d0887"
            ],
            [
             0.1111111111111111,
             "#46039f"
            ],
            [
             0.2222222222222222,
             "#7201a8"
            ],
            [
             0.3333333333333333,
             "#9c179e"
            ],
            [
             0.4444444444444444,
             "#bd3786"
            ],
            [
             0.5555555555555556,
             "#d8576b"
            ],
            [
             0.6666666666666666,
             "#ed7953"
            ],
            [
             0.7777777777777778,
             "#fb9f3a"
            ],
            [
             0.8888888888888888,
             "#fdca26"
            ],
            [
             1,
             "#f0f921"
            ]
           ]
          },
          "colorway": [
           "#636efa",
           "#EF553B",
           "#00cc96",
           "#ab63fa",
           "#FFA15A",
           "#19d3f3",
           "#FF6692",
           "#B6E880",
           "#FF97FF",
           "#FECB52"
          ],
          "font": {
           "color": "#2a3f5f"
          },
          "geo": {
           "bgcolor": "white",
           "lakecolor": "white",
           "landcolor": "#E5ECF6",
           "showlakes": true,
           "showland": true,
           "subunitcolor": "white"
          },
          "hoverlabel": {
           "align": "left"
          },
          "hovermode": "closest",
          "mapbox": {
           "style": "light"
          },
          "paper_bgcolor": "white",
          "plot_bgcolor": "#E5ECF6",
          "polar": {
           "angularaxis": {
            "gridcolor": "white",
            "linecolor": "white",
            "ticks": ""
           },
           "bgcolor": "#E5ECF6",
           "radialaxis": {
            "gridcolor": "white",
            "linecolor": "white",
            "ticks": ""
           }
          },
          "scene": {
           "xaxis": {
            "backgroundcolor": "#E5ECF6",
            "gridcolor": "white",
            "gridwidth": 2,
            "linecolor": "white",
            "showbackground": true,
            "ticks": "",
            "zerolinecolor": "white"
           },
           "yaxis": {
            "backgroundcolor": "#E5ECF6",
            "gridcolor": "white",
            "gridwidth": 2,
            "linecolor": "white",
            "showbackground": true,
            "ticks": "",
            "zerolinecolor": "white"
           },
           "zaxis": {
            "backgroundcolor": "#E5ECF6",
            "gridcolor": "white",
            "gridwidth": 2,
            "linecolor": "white",
            "showbackground": true,
            "ticks": "",
            "zerolinecolor": "white"
           }
          },
          "shapedefaults": {
           "line": {
            "color": "#2a3f5f"
           }
          },
          "ternary": {
           "aaxis": {
            "gridcolor": "white",
            "linecolor": "white",
            "ticks": ""
           },
           "baxis": {
            "gridcolor": "white",
            "linecolor": "white",
            "ticks": ""
           },
           "bgcolor": "#E5ECF6",
           "caxis": {
            "gridcolor": "white",
            "linecolor": "white",
            "ticks": ""
           }
          },
          "title": {
           "x": 0.05
          },
          "xaxis": {
           "automargin": true,
           "gridcolor": "white",
           "linecolor": "white",
           "ticks": "",
           "title": {
            "standoff": 15
           },
           "zerolinecolor": "white",
           "zerolinewidth": 2
          },
          "yaxis": {
           "automargin": true,
           "gridcolor": "white",
           "linecolor": "white",
           "ticks": "",
           "title": {
            "standoff": 15
           },
           "zerolinecolor": "white",
           "zerolinewidth": 2
          }
         }
        }
       }
      },
      "text/html": [
       "<div>                            <div id=\"39e447c6-92b4-44bd-a5a0-1083ebdc9abb\" class=\"plotly-graph-div\" style=\"height:525px; width:100%;\"></div>            <script type=\"text/javascript\">                require([\"plotly\"], function(Plotly) {                    window.PLOTLYENV=window.PLOTLYENV || {};                                    if (document.getElementById(\"39e447c6-92b4-44bd-a5a0-1083ebdc9abb\")) {                    Plotly.newPlot(                        \"39e447c6-92b4-44bd-a5a0-1083ebdc9abb\",                        [{\"coloraxis\": \"coloraxis\", \"geo\": \"geo\", \"hovertemplate\": \"<b>%{hovertext}</b><br><br>state=%{location}<br>customers=%{z}<extra></extra>\", \"hovertext\": [\"IL\", \"WI\", \"MN\", \"SC\", \"AK\", \"NC\", \"AL\", \"MI\", \"IA\", \"GA\", \"IA\", \"GA\", \"CA\", \"AK\", \"IN\", \"MN\", \"CA\", \"TN\", \"VA\", \"WV\", \"AZ\", \"AR\", \"AR\", \"OK\", \"AR\", \"NJ\", \"MN\", \"TX\", \"VA\", \"AL\", \"MD\", \"SC\", \"TX\", \"ME\", \"WI\", \"TX\", \"IN\", \"MI\", \"VA\", \"MA\", \"MN\", \"WA\", \"SC\", \"MD\", \"KY\", \"SD\", \"MO\", \"MN\", \"KY\", \"NC\", \"SC\", \"TX\", \"TN\", \"MO\", \"OH\", \"KY\", \"CT\", \"MA\", \"TN\", \"VA\", \"TX\", \"OH\", \"OH\", \"KS\", \"OH\", \"GA\", \"OK\", \"NC\", \"WY\", \"NC\", \"SC\", \"GA\", \"AR\", \"MO\", \"MO\", \"AL\", \"OK\", \"FL\", \"GA\", \"NC\", \"ME\", \"MO\", \"TX\", \"TX\", \"NM\", \"VA\", \"WA\", \"IA\", \"PA\", \"TN\", \"WA\", \"MI\", \"WY\", \"OK\", \"MO\", \"FL\", \"MD\", \"OH\", \"MO\", \"MO\", \"OK\", \"WA\", \"KY\", \"ID\", \"OH\", \"FL\", \"TN\", \"OH\", \"TN\", \"MI\", \"MS\", \"GA\", \"SC\", \"TN\", \"KS\", \"GA\", \"TX\", \"CO\", \"OR\", \"WA\", \"MO\", \"MO\", \"OH\", \"MS\", \"IL\", \"VA\", \"TX\", \"NC\", \"CT\", \"MO\", \"MI\", \"AR\", \"OK\", \"OR\", \"AL\", \"MN\", \"IL\", \"OK\", \"AL\", \"GA\", \"WA\", \"VA\", \"WV\", \"MO\", \"MN\", \"AL\", \"KY\", \"MO\", \"OH\", \"ND\", \"OR\", \"OH\", \"IN\", \"OH\", \"TX\", \"IN\", \"TX\", \"NY\", \"DE\", \"MD\", \"TX\", \"DE\", \"TX\", \"MI\", \"MN\", \"TN\", \"LA\", \"AL\", \"OH\", \"TN\", \"NC\", \"SC\", \"WI\", \"AZ\", \"TN\", \"MN\", \"MS\", \"IL\", \"IA\", \"OK\", \"IA\", \"ME\", \"SC\", \"NC\", \"OK\", \"NM\", \"TX\", \"MN\", \"AR\", \"KS\", \"MO\", \"OK\", \"CO\", \"NY\", \"PA\", \"OR\", \"IA\", \"IA\", \"ID\", \"MT\", \"WY\", \"TX\", \"KY\", \"NM\", \"TN\", \"NC\", \"MN\", \"SD\", \"OH\", \"AR\", \"MA\", \"MT\", \"WI\", \"TX\", \"KS\", \"KY\", \"FL\", \"FL\", \"FL\", \"AL\", \"TN\", \"MS\", \"KY\", \"SC\", \"NY\", \"NE\", \"MN\", \"OH\", \"MO\", \"FL\", \"UT\", \"GA\", \"IL\", \"GA\", \"TN\", \"FL\", \"AK\", \"GA\", \"AZ\", \"MN\", \"MI\", \"WA\", \"KY\", \"CO\", \"TN\", \"TX\", \"CT\", \"TX\", \"FL\", \"FL\", \"SD\", \"GA\", \"OH\", \"OH\", \"NC\", \"OH\", \"MO\", \"IA\", \"TN\", \"IN\", \"WV\", \"MO\", \"GA\", \"NE\", \"HI\", \"IA\", \"NC\", \"UT\", \"IN\", \"IN\", \"MO\", \"MO\", \"NC\", \"TX\", \"WA\", \"MI\", \"OH\", \"TN\", \"CO\", \"MA\", \"SC\", \"FL\", \"IL\", \"AR\", \"TX\", \"OH\", \"AL\", \"LA\", \"UT\", \"ID\", \"ID\", \"OR\", \"CA\", \"IA\", \"OK\", \"IN\", \"KY\", \"IN\", \"MI\", \"MO\", \"CO\", \"IA\", \"MA\", \"MN\", \"KY\", \"IN\", \"GA\", \"KY\", \"IN\", \"TX\", \"GA\", \"NM\", \"NJ\", \"IL\", \"TN\", \"IN\", \"KY\", \"MN\", \"KS\", \"KS\", \"MO\", \"KS\", \"KS\", \"WI\", \"UT\", \"OK\", \"KY\", \"VA\", \"FL\", \"TN\", \"NC\", \"TN\", \"IN\", \"ID\", \"CO\", \"TN\", \"OK\", \"MO\", \"MN\", \"GA\", \"CO\", \"OH\", \"MN\", \"CA\", \"SC\", \"IN\", \"UT\", \"WA\", \"TN\", \"NE\", \"IA\", \"UT\", \"OH\", \"OH\", \"CA\", \"LA\", \"KY\", \"CO\", \"MI\", \"NC\", \"IA\", \"MN\", \"SC\", \"TX\", \"MO\", \"WI\", \"TX\", \"VA\", \"WI\", \"MA\", \"MA\", \"GA\", \"SC\", \"MI\", \"WI\", \"IA\", \"AK\", \"HI\", \"MN\", \"ND\", \"TN\", \"KS\", \"MN\", \"KY\", \"VA\", \"TX\", \"TN\", \"MA\", \"ND\", \"IA\", \"IL\", \"SD\", \"AZ\", \"PA\", \"IL\", \"SC\", \"MT\", \"TN\", \"OH\", \"KS\", \"MN\", \"IA\", \"MN\", \"MN\", \"MS\", \"MS\", \"MT\", \"MO\", \"CA\", \"MO\", \"WV\", \"NC\", \"IL\", \"MT\", \"NM\", \"IN\", \"OH\", \"KS\", \"FL\", \"CO\", \"IA\", \"ND\", \"OH\", \"RI\", \"TN\", \"NE\", \"KS\", \"NV\", \"NC\", \"TX\", \"DE\", \"WV\", \"LA\", \"WI\", \"NC\", \"GA\", \"NC\", \"NY\", \"MI\", \"IN\", \"KY\", \"NE\", \"AR\", \"MA\", \"MN\", \"WY\", \"OH\", \"GA\", \"MN\", \"MS\", \"SD\", \"IN\", \"MI\", \"WI\", \"MN\", \"ND\", \"SD\", \"OR\", \"NE\", \"SD\", \"TX\", \"CT\", \"OK\", \"WI\", \"OK\", \"OH\", \"OH\", \"OK\", \"MN\", \"NE\", \"AL\", \"MI\", \"WA\", \"SC\", \"MN\", \"IA\", \"MN\", \"ND\", \"SD\", \"NV\", \"MN\", \"KY\", \"KY\", \"AR\", \"OK\", \"CA\", \"CA\", \"ID\", \"OR\", \"UT\", \"WA\", \"WY\", \"KY\", \"OH\", \"SC\", \"TN\", \"MN\", \"IN\", \"CA\", \"SC\", \"MS\", \"FL\", \"TX\", \"WA\", \"PA\", \"PA\", \"PA\", \"NC\", \"KY\", \"PA\", \"AR\", \"PA\", \"NC\", \"WI\", \"OH\", \"KS\", \"MO\", \"NE\", \"OK\", \"OR\", \"CO\", \"MD\", \"WV\", \"DC\", \"MD\", \"TN\", \"VA\", \"WI\", \"KY\", \"MN\", \"VA\", \"UT\", \"CO\", \"IN\", \"NH\", \"NM\", \"OK\", \"NJ\", \"WA\", \"TN\", \"NC\", \"GA\", \"MA\", \"MN\", \"CA\", \"MN\", \"WI\", \"WA\", \"TX\", \"WI\", \"WI\", \"CA\", \"NC\", \"TX\", \"MN\", \"SC\", \"TN\", \"NC\", \"MN\", \"MA\", \"OK\", \"IL\", \"KS\", \"TX\", \"NC\", \"VA\", \"AZ\", \"KY\", \"CO\", \"TX\", \"SC\", \"CA\", \"TX\", \"TX\", \"TX\", \"CO\", \"MN\", \"MO\", \"AL\", \"KS\", \"GA\", \"WA\", \"KS\", \"TN\", \"TN\", \"MN\", \"NC\", \"KY\", \"TN\", \"VA\", \"NV\", \"AR\", \"MS\", \"MN\", \"SD\", \"WA\", \"AL\", \"SC\", \"SC\", \"MN\", \"MA\", \"KY\", \"IL\", \"IN\", \"OK\", \"CA\", \"CA\", \"IA\", \"AR\", \"MS\", \"NE\", \"IL\", \"AR\", \"LA\", \"TX\", \"NM\", \"TX\", \"GA\", \"WI\", \"UT\", \"CA\", \"MN\", \"MN\", \"OH\", \"NY\", \"WI\", \"AL\", \"AZ\", \"WI\", \"NC\", \"FL\", \"WI\", \"WA\", \"IA\", \"FL\", \"FL\", \"MA\", \"KY\", \"IN\", \"GA\", \"IN\", \"OH\", \"IL\", \"MS\", \"KS\", \"TX\", \"OH\", \"AL\", \"NC\", \"MI\", \"WY\", \"IA\", \"MN\", \"TX\", \"FL\", \"KY\", \"TN\", \"AZ\", \"AL\", \"GA\", \"AL\", \"TN\", \"CA\", \"OR\", \"PA\", \"MI\", \"NC\", \"MO\", \"IA\", \"IN\", \"KY\", \"TX\", \"OH\", \"MT\", \"SD\", \"WY\", \"HI\", \"AK\", \"TN\", \"MI\", \"TX\", \"IN\", \"AZ\", \"ND\", \"VT\", \"OH\", \"TX\", \"WI\", \"KS\", \"NV\", \"NC\", \"GA\", \"KY\", \"MN\", \"GA\", \"ID\", \"WA\", \"SD\", \"WI\", \"WI\", \"TN\", \"MO\", \"SD\", \"PA\", \"SD\", \"TX\", \"SD\", \"OH\", \"MA\", \"KS\", \"WV\", \"IN\", \"MN\", \"NC\", \"AL\", \"WI\", \"WI\", \"FL\", \"TX\", \"AR\", \"MN\", \"SC\", \"CO\", \"NE\", \"WY\", \"CO\", \"MI\", \"VA\", \"AZ\", \"LA\", \"NC\", \"KY\", \"KS\", \"MS\", \"IN\", \"NH\", \"IN\", \"NC\", \"ND\", \"MN\", \"IN\", \"NH\", \"IA\", \"MT\", \"MN\", \"TN\", \"MO\", \"MN\", \"IN\", \"OR\", \"TX\", \"AL\", \"FL\", \"GA\", \"OH\", \"MI\", \"VA\", \"MN\", \"OR\", \"NE\", \"IA\", \"MA\", \"TX\", \"TX\", \"CO\", \"IL\", \"CA\", \"WA\", \"MI\", \"KS\"], \"locationmode\": \"USA-states\", \"locations\": [\"IL\", \"WI\", \"MN\", \"SC\", \"AK\", \"NC\", \"AL\", \"MI\", \"IA\", \"GA\", \"IA\", \"GA\", \"CA\", \"AK\", \"IN\", \"MN\", \"CA\", \"TN\", \"VA\", \"WV\", \"AZ\", \"AR\", \"AR\", \"OK\", \"AR\", \"NJ\", \"MN\", \"TX\", \"VA\", \"AL\", \"MD\", \"SC\", \"TX\", \"ME\", \"WI\", \"TX\", \"IN\", \"MI\", \"VA\", \"MA\", \"MN\", \"WA\", \"SC\", \"MD\", \"KY\", \"SD\", \"MO\", \"MN\", \"KY\", \"NC\", \"SC\", \"TX\", \"TN\", \"MO\", \"OH\", \"KY\", \"CT\", \"MA\", \"TN\", \"VA\", \"TX\", \"OH\", \"OH\", \"KS\", \"OH\", \"GA\", \"OK\", \"NC\", \"WY\", \"NC\", \"SC\", \"GA\", \"AR\", \"MO\", \"MO\", \"AL\", \"OK\", \"FL\", \"GA\", \"NC\", \"ME\", \"MO\", \"TX\", \"TX\", \"NM\", \"VA\", \"WA\", \"IA\", \"PA\", \"TN\", \"WA\", \"MI\", \"WY\", \"OK\", \"MO\", \"FL\", \"MD\", \"OH\", \"MO\", \"MO\", \"OK\", \"WA\", \"KY\", \"ID\", \"OH\", \"FL\", \"TN\", \"OH\", \"TN\", \"MI\", \"MS\", \"GA\", \"SC\", \"TN\", \"KS\", \"GA\", \"TX\", \"CO\", \"OR\", \"WA\", \"MO\", \"MO\", \"OH\", \"MS\", \"IL\", \"VA\", \"TX\", \"NC\", \"CT\", \"MO\", \"MI\", \"AR\", \"OK\", \"OR\", \"AL\", \"MN\", \"IL\", \"OK\", \"AL\", \"GA\", \"WA\", \"VA\", \"WV\", \"MO\", \"MN\", \"AL\", \"KY\", \"MO\", \"OH\", \"ND\", \"OR\", \"OH\", \"IN\", \"OH\", \"TX\", \"IN\", \"TX\", \"NY\", \"DE\", \"MD\", \"TX\", \"DE\", \"TX\", \"MI\", \"MN\", \"TN\", \"LA\", \"AL\", \"OH\", \"TN\", \"NC\", \"SC\", \"WI\", \"AZ\", \"TN\", \"MN\", \"MS\", \"IL\", \"IA\", \"OK\", \"IA\", \"ME\", \"SC\", \"NC\", \"OK\", \"NM\", \"TX\", \"MN\", \"AR\", \"KS\", \"MO\", \"OK\", \"CO\", \"NY\", \"PA\", \"OR\", \"IA\", \"IA\", \"ID\", \"MT\", \"WY\", \"TX\", \"KY\", \"NM\", \"TN\", \"NC\", \"MN\", \"SD\", \"OH\", \"AR\", \"MA\", \"MT\", \"WI\", \"TX\", \"KS\", \"KY\", \"FL\", \"FL\", \"FL\", \"AL\", \"TN\", \"MS\", \"KY\", \"SC\", \"NY\", \"NE\", \"MN\", \"OH\", \"MO\", \"FL\", \"UT\", \"GA\", \"IL\", \"GA\", \"TN\", \"FL\", \"AK\", \"GA\", \"AZ\", \"MN\", \"MI\", \"WA\", \"KY\", \"CO\", \"TN\", \"TX\", \"CT\", \"TX\", \"FL\", \"FL\", \"SD\", \"GA\", \"OH\", \"OH\", \"NC\", \"OH\", \"MO\", \"IA\", \"TN\", \"IN\", \"WV\", \"MO\", \"GA\", \"NE\", \"HI\", \"IA\", \"NC\", \"UT\", \"IN\", \"IN\", \"MO\", \"MO\", \"NC\", \"TX\", \"WA\", \"MI\", \"OH\", \"TN\", \"CO\", \"MA\", \"SC\", \"FL\", \"IL\", \"AR\", \"TX\", \"OH\", \"AL\", \"LA\", \"UT\", \"ID\", \"ID\", \"OR\", \"CA\", \"IA\", \"OK\", \"IN\", \"KY\", \"IN\", \"MI\", \"MO\", \"CO\", \"IA\", \"MA\", \"MN\", \"KY\", \"IN\", \"GA\", \"KY\", \"IN\", \"TX\", \"GA\", \"NM\", \"NJ\", \"IL\", \"TN\", \"IN\", \"KY\", \"MN\", \"KS\", \"KS\", \"MO\", \"KS\", \"KS\", \"WI\", \"UT\", \"OK\", \"KY\", \"VA\", \"FL\", \"TN\", \"NC\", \"TN\", \"IN\", \"ID\", \"CO\", \"TN\", \"OK\", \"MO\", \"MN\", \"GA\", \"CO\", \"OH\", \"MN\", \"CA\", \"SC\", \"IN\", \"UT\", \"WA\", \"TN\", \"NE\", \"IA\", \"UT\", \"OH\", \"OH\", \"CA\", \"LA\", \"KY\", \"CO\", \"MI\", \"NC\", \"IA\", \"MN\", \"SC\", \"TX\", \"MO\", \"WI\", \"TX\", \"VA\", \"WI\", \"MA\", \"MA\", \"GA\", \"SC\", \"MI\", \"WI\", \"IA\", \"AK\", \"HI\", \"MN\", \"ND\", \"TN\", \"KS\", \"MN\", \"KY\", \"VA\", \"TX\", \"TN\", \"MA\", \"ND\", \"IA\", \"IL\", \"SD\", \"AZ\", \"PA\", \"IL\", \"SC\", \"MT\", \"TN\", \"OH\", \"KS\", \"MN\", \"IA\", \"MN\", \"MN\", \"MS\", \"MS\", \"MT\", \"MO\", \"CA\", \"MO\", \"WV\", \"NC\", \"IL\", \"MT\", \"NM\", \"IN\", \"OH\", \"KS\", \"FL\", \"CO\", \"IA\", \"ND\", \"OH\", \"RI\", \"TN\", \"NE\", \"KS\", \"NV\", \"NC\", \"TX\", \"DE\", \"WV\", \"LA\", \"WI\", \"NC\", \"GA\", \"NC\", \"NY\", \"MI\", \"IN\", \"KY\", \"NE\", \"AR\", \"MA\", \"MN\", \"WY\", \"OH\", \"GA\", \"MN\", \"MS\", \"SD\", \"IN\", \"MI\", \"WI\", \"MN\", \"ND\", \"SD\", \"OR\", \"NE\", \"SD\", \"TX\", \"CT\", \"OK\", \"WI\", \"OK\", \"OH\", \"OH\", \"OK\", \"MN\", \"NE\", \"AL\", \"MI\", \"WA\", \"SC\", \"MN\", \"IA\", \"MN\", \"ND\", \"SD\", \"NV\", \"MN\", \"KY\", \"KY\", \"AR\", \"OK\", \"CA\", \"CA\", \"ID\", \"OR\", \"UT\", \"WA\", \"WY\", \"KY\", \"OH\", \"SC\", \"TN\", \"MN\", \"IN\", \"CA\", \"SC\", \"MS\", \"FL\", \"TX\", \"WA\", \"PA\", \"PA\", \"PA\", \"NC\", \"KY\", \"PA\", \"AR\", \"PA\", \"NC\", \"WI\", \"OH\", \"KS\", \"MO\", \"NE\", \"OK\", \"OR\", \"CO\", \"MD\", \"WV\", \"DC\", \"MD\", \"TN\", \"VA\", \"WI\", \"KY\", \"MN\", \"VA\", \"UT\", \"CO\", \"IN\", \"NH\", \"NM\", \"OK\", \"NJ\", \"WA\", \"TN\", \"NC\", \"GA\", \"MA\", \"MN\", \"CA\", \"MN\", \"WI\", \"WA\", \"TX\", \"WI\", \"WI\", \"CA\", \"NC\", \"TX\", \"MN\", \"SC\", \"TN\", \"NC\", \"MN\", \"MA\", \"OK\", \"IL\", \"KS\", \"TX\", \"NC\", \"VA\", \"AZ\", \"KY\", \"CO\", \"TX\", \"SC\", \"CA\", \"TX\", \"TX\", \"TX\", \"CO\", \"MN\", \"MO\", \"AL\", \"KS\", \"GA\", \"WA\", \"KS\", \"TN\", \"TN\", \"MN\", \"NC\", \"KY\", \"TN\", \"VA\", \"NV\", \"AR\", \"MS\", \"MN\", \"SD\", \"WA\", \"AL\", \"SC\", \"SC\", \"MN\", \"MA\", \"KY\", \"IL\", \"IN\", \"OK\", \"CA\", \"CA\", \"IA\", \"AR\", \"MS\", \"NE\", \"IL\", \"AR\", \"LA\", \"TX\", \"NM\", \"TX\", \"GA\", \"WI\", \"UT\", \"CA\", \"MN\", \"MN\", \"OH\", \"NY\", \"WI\", \"AL\", \"AZ\", \"WI\", \"NC\", \"FL\", \"WI\", \"WA\", \"IA\", \"FL\", \"FL\", \"MA\", \"KY\", \"IN\", \"GA\", \"IN\", \"OH\", \"IL\", \"MS\", \"KS\", \"TX\", \"OH\", \"AL\", \"NC\", \"MI\", \"WY\", \"IA\", \"MN\", \"TX\", \"FL\", \"KY\", \"TN\", \"AZ\", \"AL\", \"GA\", \"AL\", \"TN\", \"CA\", \"OR\", \"PA\", \"MI\", \"NC\", \"MO\", \"IA\", \"IN\", \"KY\", \"TX\", \"OH\", \"MT\", \"SD\", \"WY\", \"HI\", \"AK\", \"TN\", \"MI\", \"TX\", \"IN\", \"AZ\", \"ND\", \"VT\", \"OH\", \"TX\", \"WI\", \"KS\", \"NV\", \"NC\", \"GA\", \"KY\", \"MN\", \"GA\", \"ID\", \"WA\", \"SD\", \"WI\", \"WI\", \"TN\", \"MO\", \"SD\", \"PA\", \"SD\", \"TX\", \"SD\", \"OH\", \"MA\", \"KS\", \"WV\", \"IN\", \"MN\", \"NC\", \"AL\", \"WI\", \"WI\", \"FL\", \"TX\", \"AR\", \"MN\", \"SC\", \"CO\", \"NE\", \"WY\", \"CO\", \"MI\", \"VA\", \"AZ\", \"LA\", \"NC\", \"KY\", \"KS\", \"MS\", \"IN\", \"NH\", \"IN\", \"NC\", \"ND\", \"MN\", \"IN\", \"NH\", \"IA\", \"MT\", \"MN\", \"TN\", \"MO\", \"MN\", \"IN\", \"OR\", \"TX\", \"AL\", \"FL\", \"GA\", \"OH\", \"MI\", \"VA\", \"MN\", \"OR\", \"NE\", \"IA\", \"MA\", \"TX\", \"TX\", \"CO\", \"IL\", \"CA\", \"WA\", \"MI\", \"KS\"], \"name\": \"\", \"type\": \"choropleth\", \"z\": [8665.0, 37405.0, 5367.0, 47255.0, 16768.0, 11821.0, 10054.0, 10119.0, 8940.0, 20710.0, 26948.0, 49344.0, 120978.0, 31079.0, 35742.0, 134507.2, 6192.0, 47252.0, 533574.0, 420064.0, 1261999.0, 725576.0, 55643.0, 3612.0, 5127.0, 556532.0, 11746.0, 502963.0, 12800.0, 77765.0, 1294802.0, 1758.0, 36872.0, 173791.0, 18863.0, 12169.0, 11680.0, 20243.0, 6694.0, 11739.0, 20811.0, 54817.0, 103788.0, 2417.0, 12596.0, 10265.0, 24382.0, 1090.0, 57854.0, 75761.0, 66733.0, 100409.0, 11082.0, 32867.0, 14746.0, 30891.0, 2767.0, 16500.0, 33727.0, 16053.0, 52520.0, 5795.0, 18571.0, 7575.0, 11440.0, 5475.0, 25713.0, 7814.0, 6481.0, 1408476.0, 168545.0, 51759.0, 90543.0, 10927.0, 7714.0, 43000.0, 21796.0, 33942.0, 57224.0, 23098.0, 642816.0, 10908.0, 855355.0, 42277.0, 18215.0, 37035.0, 10418.0, 6058.0, 11187.0, 185137.0, 5798.0, 36490.0, 43318.0, 17976.0, 4545.0, 56208.0, 53750.0, 737368.0, 27103.0, 10779.0, 12329.0, 210074.0, 26071.0, 11171.0, 731209.0, 177019.0, 31843.0, 72249.0, 29337.0, 42501.0, 83541.0, 20048.0, 11849.0, 30357.0, 5943.0, 208395.0, 43485.0, 262378.0, 1926.0, 5697.0, 46222.0, 31658.0, 14513.0, 12580.0, 4131059.0, 11264.0, 14888.0, 31957.0, 1275462.0, 8058.0, 1828424.0, 31256.0, 17867.0, 18198.0, 16988.0, 6196.0, 36209.0, 21961.0, 23246.0, 84741.0, 50202.0, 6746.0, 484.0, 19968.0, 43569.0, 44267.0, 23783.0, 65908.0, 25695.0, 6651.0, 22909.0, 5148.0, 8213.0, 591607.0, 14696.0, 8065.0, 42918.0, 5404.0, 320798.0, 206524.0, 56806.0, 99826.0, 247014.0, 2210201.0, 8388.0, 36519.0, 109996.0, 23625.0, 6831.0, 75843.0, 2043767.0, 582660.0, 10070.0, 2472.0, 11985.0, 61501.0, 12502.0, 13454.0, 8923.0, 34233.0, 23823.0, 12655.0, 20263.0, 11187.0, 41098.0, 101100.0, 331654.0, 12244.0, 5239.0, 11199.0, 168460.0, 6655.0, 16151.0, 17623.0, 6679.0, 95344.0, 4921.0, 650.0, 15112.0, 1999.0, 357.0, 61843.1, 23957.0, 44877.0, 18730.0, 84488.0, 6839.0, 2081.0, 9103.0, 94559.0, 30006.0, 66531.0, 1511.0, 16148.0, 6636.0, 24629.0, 31792.0, 5086544.0, 1871645.0, 50265.0, 32431.0, 47963.0, 21552.0, 14957.0, 14613.0, 15202.0, 20985.0, 9076.0, 5648.0, 98043.0, 13992.0, 133115.0, 10153.0, 2493389.0, 38407.0, 16540.0, 46804.0, 19864.0, 7951.0, 5165.0, 14338.0, 42420.0, 14363.0, 17812.0, 38195.0, 14356.7, 14292.0, 86227.0, 19814.0, 468283.0, 3643.0, 32408.0, 16952.0, 29131.0, 10595.0, 13135.0, 8797.0, 2880.0, 10968.0, 23403.0, 6884.0, 4816.0, 36655.0, 13550.0, 86068.0, 5192.0, 27432.0, 13012.0, 33279.0, 9497.0, 1555.0, 2797.0, 41865.0, 29104.0, 41603.0, 28958.0, 17454.0, 30528.0, 58601.0, 17689.0, 79930.0, 25407.0, 9402.0, 6995.0, 2564204.0, 7000.0, 186704.0, 67005.0, 7161.0, 28214.0, 546775.0, 19231.0, 156460.0, 3169.0, 19678.0, 504500.0, 26556.0, 466416.0, 129066.0, 30499.0, 178368.0, 12852.0, 7237.0, 11918.0, 51550.0, 24408.0, 228316.0, 29813.0, 9173.0, 22835.0, 34443.0, 31000.0, 1117687.0, 20726.0, 78776.0, 27607.0, 57275.0, 8730.0, 58939.0, 270675.0, 297681.0, 339770.0, 18310.0, 15502.0, 9910.0, 21668.0, 537990.0, 30195.0, 30845.0, 48317.0, 11536.0, 203914.1, 17011.0, 29090.0, 43846.0, 21904.0, 24769.0, 37239.0, 28113.0, 19303.0, 5500.0, 26130.0, 49579.0, 12015.0, 57907.0, 3485.0, 22974.0, 34042.0, 6291.0, 138340.0, 29448.2, 19153.0, 16429.0, 4647.0, 1596912.0, 1107688.0, 420963.0, 36936.0, 2948.0, 61442.0, 2250.0, 3910.0, 21277.0, 22906.0, 3112.0, 155918.0, 121528.0, 16298.0, 17867.0, 9950.0, 10327.0, 41897.0, 6478.0, 17005.0, 13699.0, 6791.0, 65192.0, 72265.0, 6787.0, 12732.0, 8002.0, 8738.0, 9061.0, 29825.0, 31331.0, 32032.0, 418951.0, 2983.0, 20169.0, 698232.0, 85214.0, 5179.0, 16871.7, 566218.0, 11055.0, 56859.0, 2027.0, 232838.0, 10857.0, 49971.0, 15402.0, 16426.0, 143598.0, 43447.0, 456486.0, 187958.0, 15485.0, 325493.0, 115853.0, 4793.0, 388589.0, 11078.0, 7421.0, 365915.0, 11095.0, 33905.0, 17688.0, 1040.0, 5853.0, 54628.0, 11502.0, 11889.0, 5922.0, 496959.0, 396307.0, 91658.0, 3495.0, 1003589.0, 22450.0, 44906.0, 2841.0, 1783.0, 208035.0, 4850.0, 8356.0, 10244.0, 4740.0, 1653855.0, 6654.0, 11460.0, 35685.0, 24545.0, 36780.0, 13376.0, 6832.0, 2260.0, 9657.0, 101227.0, 6624.0, 32413.0, 6417.0, 502079.0, 8819.0, 247931.0, 1277090.0, 92705.0, 94348.0, 10163.0, 3379.0, 55207.0, 19302.0, 20456.0, 6554.0, 16954.0, 342.0, 1042023.0, 1486637.0, 57781.0, 1324.0, 379463.0, 12929.0, 4865.0, 14577.0, 18085.0, 3888.0, 1129.0, 63290.0, 59761.0, 11930.0, 16145.0, 12016.0, 62277.0, 27207.0, 65697.0, 12739.0, 5589368.0, 47392.0, 82079.0, 617662.0, 946168.0, 136786.0, 146512.0, 22115.0, 12500.0, 72500.0, 21358.0, 22859.0, 12137.0, 64909.0, 30597.0, 50256.0, 45984.0, 329715.0, 33353.0, 579647.0, 1429035.0, 164199.0, 21080.0, 47559.0, 4000.0, 19988.0, 1656246.0, 32533.0, 7671.0, 17133.0, 16624.0, 23269.0, 4747.0, 15165.0, 884690.0, 44421.0, 269467.0, 142878.0, 305487.0, 578433.0, 24003.0, 8284.0, 20851.0, 3801.0, 2795.0, 11898.0, 37290.0, 1409868.0, 847227.0, 531399.0, 530935.0, 553971.0, 2400252.0, 1165638.0, 14437.0, 32276.0, 18555.0, 30111.0, 4454.0, 44378.0, 1908.0, 5988.0, 24966.0, 13646.0, 18154.0, 6612.0, 112114.0, 14172.0, 19859.0, 56264.0, 38268.0, 14657.0, 28418.0, 14454.0, 3097.0, 11960.0, 5891.0, 3433.0, 22676.0, 71222.0, 13320.0, 1055618.0, 52831.0, 12494.0, 829998.0, 43458.7, 1478587.0, 75330.0, 11619.0, 27838.0, 12754.0, 2366.0, 22791.0, 8341.0, 11251.0, 183052.0, 488000.0, 6952.0, 36083.0, 54590.0, 17960.0, 8340.0, 16610.0, 10507.0, 94354.0, 370090.0, 8020.0, 74043.9, 3847.0, 22179.0, 361319.0, 16610.0, 749404.0, 184242.0, 5875.0, 7889.0, 68995.0, 24179.0, 27570.0, 15027.0, 5151098.0, 24366.0, 4733.0, 28378.0, 25265.0, 6237.0, 23401.0, 121778.0, 230945.0, 186258.0, 111414.0, 254602.0, 101471.0, 10879.0, 31479.0, 4547.0, 27233.0, 11505.0, 118848.0, 6306.0, 8722.0, 27516.0, 52220.0, 13784.0, 27150.0, 26103.0, 4414.0, 175106.0, 6357.0, 52060.0, 794953.0, 38000.0, 26705.0, 4286.0, 15744.0, 27181.0, 5004.0, 16417.0, 12158.0, 2938.0, 70793.7, 302870.0, 8831.0, 22931.0, 12599.0, 27461.0, 7079.0, 16032.0, 128436.0, 18284.0, 24440.0, 27012.0, 48875.0, 669.0, 34645.0, 9150.0, 11165.0, 87386.0, 15447.0, 62139.0, 26104.0, 76733.0, 1237819.0, 5412.0, 9476.0, 144188.0, 86609.0, 10382.0, 41.0, 70358.0, 2646.0, 305627.0, 31920.0, 51656.0, 58879.0, 46806.0, 19169.0, 99308.0, 20605.0, 39179.0, 1895.0, 23155.0, 11237.0, 19747.0, 24582.0, 46705.0, 128811.0, 66357.0, 4184.0, 15603.0, 133938.0, 256742.0, 13207.0, 6524.0, 4454.0, 20453.0, 14113.0, 6842.0, 717331.0, 17677.0, 193284.0, 3426.0, 17347.0, 18103.0, 32750.0, 41482.0, 29165.0, 9358.0, 37100.0, 24887.0, 1136654.0, 452552.0, 220811.0, 37283.0, 19027.0, 50647.0, 62335.0, 8937.0, 499.0, 4822.0, 27438.0, 6749.0, 56819.0, 41469.0, 53145.0, 129356.0, 164022.0, 374641.0, 28147.0, 24734.0, 77959.0, 14864.0, 94089.0, 50418.0, 108126.0, 16981.0, 44784.0, 3036.0, 10751.0, 4681.0, 6462.0, 41560.0, 8832.0, 14715.0, 4611.0, 23025.0, 12397.0, 10800.0, 26443.0, 8140.0, 125362.0, 164320.0, 5318.0, 19590.0, 26269.0, 5918.0, 1434715.0, 465983.0, 21769.0, 97890.0, 1244558.0, 47194.0, 19689.0, 37255.0, 16812.0]}],                        {\"coloraxis\": {\"cmax\": 600000, \"cmin\": 0, \"colorbar\": {\"title\": {\"text\": \"customers\"}}, \"colorscale\": [[0.0, \"#0d0887\"], [0.1111111111111111, \"#46039f\"], [0.2222222222222222, \"#7201a8\"], [0.3333333333333333, \"#9c179e\"], [0.4444444444444444, \"#bd3786\"], [0.5555555555555556, \"#d8576b\"], [0.6666666666666666, \"#ed7953\"], [0.7777777777777778, \"#fb9f3a\"], [0.8888888888888888, \"#fdca26\"], [1.0, \"#f0f921\"]]}, \"geo\": {\"center\": {}, \"domain\": {\"x\": [0.0, 1.0], \"y\": [0.0, 1.0]}, \"projection\": {\"type\": \"albers usa\"}, \"scope\": \"usa\"}, \"legend\": {\"tracegroupgap\": 0}, \"margin\": {\"t\": 60}, \"template\": {\"data\": {\"bar\": [{\"error_x\": {\"color\": \"#2a3f5f\"}, \"error_y\": {\"color\": \"#2a3f5f\"}, \"marker\": {\"line\": {\"color\": \"#E5ECF6\", \"width\": 0.5}}, \"type\": \"bar\"}], \"barpolar\": [{\"marker\": {\"line\": {\"color\": \"#E5ECF6\", \"width\": 0.5}}, \"type\": \"barpolar\"}], \"carpet\": [{\"aaxis\": {\"endlinecolor\": \"#2a3f5f\", \"gridcolor\": \"white\", \"linecolor\": \"white\", \"minorgridcolor\": \"white\", \"startlinecolor\": \"#2a3f5f\"}, \"baxis\": {\"endlinecolor\": \"#2a3f5f\", \"gridcolor\": \"white\", \"linecolor\": \"white\", \"minorgridcolor\": \"white\", \"startlinecolor\": \"#2a3f5f\"}, \"type\": \"carpet\"}], \"choropleth\": [{\"colorbar\": {\"outlinewidth\": 0, \"ticks\": \"\"}, \"type\": \"choropleth\"}], \"contour\": [{\"colorbar\": {\"outlinewidth\": 0, \"ticks\": \"\"}, \"colorscale\": [[0.0, \"#0d0887\"], [0.1111111111111111, \"#46039f\"], [0.2222222222222222, \"#7201a8\"], [0.3333333333333333, \"#9c179e\"], [0.4444444444444444, \"#bd3786\"], [0.5555555555555556, \"#d8576b\"], [0.6666666666666666, \"#ed7953\"], [0.7777777777777778, \"#fb9f3a\"], [0.8888888888888888, \"#fdca26\"], [1.0, \"#f0f921\"]], \"type\": \"contour\"}], \"contourcarpet\": [{\"colorbar\": {\"outlinewidth\": 0, \"ticks\": \"\"}, \"type\": \"contourcarpet\"}], \"heatmap\": [{\"colorbar\": {\"outlinewidth\": 0, \"ticks\": \"\"}, \"colorscale\": [[0.0, \"#0d0887\"], [0.1111111111111111, \"#46039f\"], [0.2222222222222222, \"#7201a8\"], [0.3333333333333333, \"#9c179e\"], [0.4444444444444444, \"#bd3786\"], [0.5555555555555556, \"#d8576b\"], [0.6666666666666666, \"#ed7953\"], [0.7777777777777778, \"#fb9f3a\"], [0.8888888888888888, \"#fdca26\"], [1.0, \"#f0f921\"]], \"type\": \"heatmap\"}], \"heatmapgl\": [{\"colorbar\": {\"outlinewidth\": 0, \"ticks\": \"\"}, \"colorscale\": [[0.0, \"#0d0887\"], [0.1111111111111111, \"#46039f\"], [0.2222222222222222, \"#7201a8\"], [0.3333333333333333, \"#9c179e\"], [0.4444444444444444, \"#bd3786\"], [0.5555555555555556, \"#d8576b\"], [0.6666666666666666, \"#ed7953\"], [0.7777777777777778, \"#fb9f3a\"], [0.8888888888888888, \"#fdca26\"], [1.0, \"#f0f921\"]], \"type\": \"heatmapgl\"}], \"histogram\": [{\"marker\": {\"colorbar\": {\"outlinewidth\": 0, \"ticks\": \"\"}}, \"type\": \"histogram\"}], \"histogram2d\": [{\"colorbar\": {\"outlinewidth\": 0, \"ticks\": \"\"}, \"colorscale\": [[0.0, \"#0d0887\"], [0.1111111111111111, \"#46039f\"], [0.2222222222222222, \"#7201a8\"], [0.3333333333333333, \"#9c179e\"], [0.4444444444444444, \"#bd3786\"], [0.5555555555555556, \"#d8576b\"], [0.6666666666666666, \"#ed7953\"], [0.7777777777777778, \"#fb9f3a\"], [0.8888888888888888, \"#fdca26\"], [1.0, \"#f0f921\"]], \"type\": \"histogram2d\"}], \"histogram2dcontour\": [{\"colorbar\": {\"outlinewidth\": 0, \"ticks\": \"\"}, \"colorscale\": [[0.0, \"#0d0887\"], [0.1111111111111111, \"#46039f\"], [0.2222222222222222, \"#7201a8\"], [0.3333333333333333, \"#9c179e\"], [0.4444444444444444, \"#bd3786\"], [0.5555555555555556, \"#d8576b\"], [0.6666666666666666, \"#ed7953\"], [0.7777777777777778, \"#fb9f3a\"], [0.8888888888888888, \"#fdca26\"], [1.0, \"#f0f921\"]], \"type\": \"histogram2dcontour\"}], \"mesh3d\": [{\"colorbar\": {\"outlinewidth\": 0, \"ticks\": \"\"}, \"type\": \"mesh3d\"}], \"parcoords\": [{\"line\": {\"colorbar\": {\"outlinewidth\": 0, \"ticks\": \"\"}}, \"type\": \"parcoords\"}], \"pie\": [{\"automargin\": true, \"type\": \"pie\"}], \"scatter\": [{\"marker\": {\"colorbar\": {\"outlinewidth\": 0, \"ticks\": \"\"}}, \"type\": \"scatter\"}], \"scatter3d\": [{\"line\": {\"colorbar\": {\"outlinewidth\": 0, \"ticks\": \"\"}}, \"marker\": {\"colorbar\": {\"outlinewidth\": 0, \"ticks\": \"\"}}, \"type\": \"scatter3d\"}], \"scattercarpet\": [{\"marker\": {\"colorbar\": {\"outlinewidth\": 0, \"ticks\": \"\"}}, \"type\": \"scattercarpet\"}], \"scattergeo\": [{\"marker\": {\"colorbar\": {\"outlinewidth\": 0, \"ticks\": \"\"}}, \"type\": \"scattergeo\"}], \"scattergl\": [{\"marker\": {\"colorbar\": {\"outlinewidth\": 0, \"ticks\": \"\"}}, \"type\": \"scattergl\"}], \"scattermapbox\": [{\"marker\": {\"colorbar\": {\"outlinewidth\": 0, \"ticks\": \"\"}}, \"type\": \"scattermapbox\"}], \"scatterpolar\": [{\"marker\": {\"colorbar\": {\"outlinewidth\": 0, \"ticks\": \"\"}}, \"type\": \"scatterpolar\"}], \"scatterpolargl\": [{\"marker\": {\"colorbar\": {\"outlinewidth\": 0, \"ticks\": \"\"}}, \"type\": \"scatterpolargl\"}], \"scatterternary\": [{\"marker\": {\"colorbar\": {\"outlinewidth\": 0, \"ticks\": \"\"}}, \"type\": \"scatterternary\"}], \"surface\": [{\"colorbar\": {\"outlinewidth\": 0, \"ticks\": \"\"}, \"colorscale\": [[0.0, \"#0d0887\"], [0.1111111111111111, \"#46039f\"], [0.2222222222222222, \"#7201a8\"], [0.3333333333333333, \"#9c179e\"], [0.4444444444444444, \"#bd3786\"], [0.5555555555555556, \"#d8576b\"], [0.6666666666666666, \"#ed7953\"], [0.7777777777777778, \"#fb9f3a\"], [0.8888888888888888, \"#fdca26\"], [1.0, \"#f0f921\"]], \"type\": \"surface\"}], \"table\": [{\"cells\": {\"fill\": {\"color\": \"#EBF0F8\"}, \"line\": {\"color\": \"white\"}}, \"header\": {\"fill\": {\"color\": \"#C8D4E3\"}, \"line\": {\"color\": \"white\"}}, \"type\": \"table\"}]}, \"layout\": {\"annotationdefaults\": {\"arrowcolor\": \"#2a3f5f\", \"arrowhead\": 0, \"arrowwidth\": 1}, \"coloraxis\": {\"colorbar\": {\"outlinewidth\": 0, \"ticks\": \"\"}}, \"colorscale\": {\"diverging\": [[0, \"#8e0152\"], [0.1, \"#c51b7d\"], [0.2, \"#de77ae\"], [0.3, \"#f1b6da\"], [0.4, \"#fde0ef\"], [0.5, \"#f7f7f7\"], [0.6, \"#e6f5d0\"], [0.7, \"#b8e186\"], [0.8, \"#7fbc41\"], [0.9, \"#4d9221\"], [1, \"#276419\"]], \"sequential\": [[0.0, \"#0d0887\"], [0.1111111111111111, \"#46039f\"], [0.2222222222222222, \"#7201a8\"], [0.3333333333333333, \"#9c179e\"], [0.4444444444444444, \"#bd3786\"], [0.5555555555555556, \"#d8576b\"], [0.6666666666666666, \"#ed7953\"], [0.7777777777777778, \"#fb9f3a\"], [0.8888888888888888, \"#fdca26\"], [1.0, \"#f0f921\"]], \"sequentialminus\": [[0.0, \"#0d0887\"], [0.1111111111111111, \"#46039f\"], [0.2222222222222222, \"#7201a8\"], [0.3333333333333333, \"#9c179e\"], [0.4444444444444444, \"#bd3786\"], [0.5555555555555556, \"#d8576b\"], [0.6666666666666666, \"#ed7953\"], [0.7777777777777778, \"#fb9f3a\"], [0.8888888888888888, \"#fdca26\"], [1.0, \"#f0f921\"]]}, \"colorway\": [\"#636efa\", \"#EF553B\", \"#00cc96\", \"#ab63fa\", \"#FFA15A\", \"#19d3f3\", \"#FF6692\", \"#B6E880\", \"#FF97FF\", \"#FECB52\"], \"font\": {\"color\": \"#2a3f5f\"}, \"geo\": {\"bgcolor\": \"white\", \"lakecolor\": \"white\", \"landcolor\": \"#E5ECF6\", \"showlakes\": true, \"showland\": true, \"subunitcolor\": \"white\"}, \"hoverlabel\": {\"align\": \"left\"}, \"hovermode\": \"closest\", \"mapbox\": {\"style\": \"light\"}, \"paper_bgcolor\": \"white\", \"plot_bgcolor\": \"#E5ECF6\", \"polar\": {\"angularaxis\": {\"gridcolor\": \"white\", \"linecolor\": \"white\", \"ticks\": \"\"}, \"bgcolor\": \"#E5ECF6\", \"radialaxis\": {\"gridcolor\": \"white\", \"linecolor\": \"white\", \"ticks\": \"\"}}, \"scene\": {\"xaxis\": {\"backgroundcolor\": \"#E5ECF6\", \"gridcolor\": \"white\", \"gridwidth\": 2, \"linecolor\": \"white\", \"showbackground\": true, \"ticks\": \"\", \"zerolinecolor\": \"white\"}, \"yaxis\": {\"backgroundcolor\": \"#E5ECF6\", \"gridcolor\": \"white\", \"gridwidth\": 2, \"linecolor\": \"white\", \"showbackground\": true, \"ticks\": \"\", \"zerolinecolor\": \"white\"}, \"zaxis\": {\"backgroundcolor\": \"#E5ECF6\", \"gridcolor\": \"white\", \"gridwidth\": 2, \"linecolor\": \"white\", \"showbackground\": true, \"ticks\": \"\", \"zerolinecolor\": \"white\"}}, \"shapedefaults\": {\"line\": {\"color\": \"#2a3f5f\"}}, \"ternary\": {\"aaxis\": {\"gridcolor\": \"white\", \"linecolor\": \"white\", \"ticks\": \"\"}, \"baxis\": {\"gridcolor\": \"white\", \"linecolor\": \"white\", \"ticks\": \"\"}, \"bgcolor\": \"#E5ECF6\", \"caxis\": {\"gridcolor\": \"white\", \"linecolor\": \"white\", \"ticks\": \"\"}}, \"title\": {\"x\": 0.05}, \"xaxis\": {\"automargin\": true, \"gridcolor\": \"white\", \"linecolor\": \"white\", \"ticks\": \"\", \"title\": {\"standoff\": 15}, \"zerolinecolor\": \"white\", \"zerolinewidth\": 2}, \"yaxis\": {\"automargin\": true, \"gridcolor\": \"white\", \"linecolor\": \"white\", \"ticks\": \"\", \"title\": {\"standoff\": 15}, \"zerolinecolor\": \"white\", \"zerolinewidth\": 2}}}},                        {\"responsive\": true}                    ).then(function(){\n",
       "                            \n",
       "var gd = document.getElementById('39e447c6-92b4-44bd-a5a0-1083ebdc9abb');\n",
       "var x = new MutationObserver(function (mutations, observer) {{\n",
       "        var display = window.getComputedStyle(gd).display;\n",
       "        if (!display || display === 'none') {{\n",
       "            console.log([gd, 'removed!']);\n",
       "            Plotly.purge(gd);\n",
       "            observer.disconnect();\n",
       "        }}\n",
       "}});\n",
       "\n",
       "// Listen for the removal of the full notebook cells\n",
       "var notebookContainer = gd.closest('#notebook-container');\n",
       "if (notebookContainer) {{\n",
       "    x.observe(notebookContainer, {childList: true});\n",
       "}}\n",
       "\n",
       "// Listen for the clearing of the current output cell\n",
       "var outputEl = gd.closest('.output');\n",
       "if (outputEl) {{\n",
       "    x.observe(outputEl, {childList: true});\n",
       "}}\n",
       "\n",
       "                        })                };                });            </script>        </div>"
      ]
     },
     "metadata": {},
     "output_type": "display_data"
    }
   ],
   "source": [
    "fig = px.choropleth(df_19, locations=\"state\",\n",
    "                    color=\"customers\", # lifeExp is a column of gapminder\n",
    "                    hover_name=\"state\", # column to add to hover information\n",
    "                    locationmode=\"USA-states\",\n",
    "                    range_color=(0, 600000),\n",
    "                    color_continuous_scale= px.colors.sequential.Plasma)\n",
    "\n",
    "fig.update_geos(scope='usa',\n",
    "            projection_type='albers usa')\n",
    "fig.show()"
   ]
  },
  {
   "cell_type": "code",
   "execution_count": null,
   "metadata": {},
   "outputs": [],
   "source": []
  },
  {
   "cell_type": "code",
   "execution_count": null,
   "metadata": {},
   "outputs": [],
   "source": []
  },
  {
   "cell_type": "code",
   "execution_count": null,
   "metadata": {},
   "outputs": [],
   "source": []
  },
  {
   "cell_type": "code",
   "execution_count": null,
   "metadata": {},
   "outputs": [],
   "source": []
  }
 ],
 "metadata": {
  "kernelspec": {
   "display_name": "Python 3",
   "language": "python",
   "name": "python3"
  },
  "language_info": {
   "codemirror_mode": {
    "name": "ipython",
    "version": 3
   },
   "file_extension": ".py",
   "mimetype": "text/x-python",
   "name": "python",
   "nbconvert_exporter": "python",
   "pygments_lexer": "ipython3",
   "version": "3.7.6"
  }
 },
 "nbformat": 4,
 "nbformat_minor": 4
}
